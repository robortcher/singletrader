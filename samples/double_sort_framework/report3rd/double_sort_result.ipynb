{
 "cells": [
  {
   "cell_type": "code",
   "execution_count": 2,
   "metadata": {},
   "outputs": [],
   "source": [
    "import sys\n",
    "sys.path.append(r'D:/projects/singletrader/')\n",
    "# import singletrader\n",
    "# from singletrader.datautils.qlibapi.constructor.base import MultiFactor\n",
    "import pandas as pd\n",
    "import warnings\n",
    "from samples.double_sort_framework.workflow import MultiFactorTesting,bar_resample\n",
    "from pprint import pprint\n",
    "import numpy as np\n",
    "warnings.filterwarnings('ignore')"
   ]
  },
  {
   "cell_type": "code",
   "execution_count": 3,
   "metadata": {},
   "outputs": [],
   "source": [
    "\n",
    "\n",
    "fields = []\n",
    "names = []\n",
    "\n",
    "\n",
    "fields += ['$close','$open','$high','$low','$avg','$volume','$circulating_market_cap','$turnover_ratio']\n",
    "bars = ['close','open','high','low','avg','volume','market_cap','turnover_ratio']\n",
    "names += bars\n"
   ]
  },
  {
   "cell_type": "code",
   "execution_count": null,
   "metadata": {},
   "outputs": [],
   "source": [
    "mf = MultiFactor(field=fields,name=names,start_date='2009-01-01',end_date='2022-12-31')\n",
    "data = mf._data.swaplevel(0,1)\n",
    "data.index = data.index.set_names(['date','asset'])"
   ]
  },
  {
   "cell_type": "code",
   "execution_count": null,
   "metadata": {},
   "outputs": [],
   "source": [
    "## raw data (daily)\n",
    "# 因为计算distance需要损失过去一年数据，所以原始数据从2009年开始"
   ]
  },
  {
   "cell_type": "code",
   "execution_count": null,
   "metadata": {},
   "outputs": [],
   "source": [
    "# #原始数据示例\n",
    "# data.head()"
   ]
  },
  {
   "cell_type": "code",
   "execution_count": null,
   "metadata": {},
   "outputs": [],
   "source": [
    "#收益月偏度计算\n",
    "skew = data.groupby('asset').apply(lambda x:x['close'].droplevel('asset').pct_change().resample('M').apply(lambda x:x.skew()))\n",
    "skew = skew.stack().swaplevel(0,1)\n",
    "skew.name = 'skew'\n",
    "\n",
    "#年度最高价距离计算 1 - close/Max(high,252)\n",
    "distance = data.groupby('asset').apply(lambda x:(1-x['close'] / x['high'].rolling(252).max()).droplevel('asset').resample('M').last())\n",
    "distance =  distance.stack().swaplevel(0,1)\n",
    "distance.name = 'distance'\n",
    "\n",
    "\n",
    "#行情数据降至月频率\n",
    "bar_monthly = bar_resample(data[bars],frequency='M')\n",
    "\n",
    "#3month动量\n",
    "mom3M =  bar_monthly.groupby('asset').apply(lambda x:x['close']/x['close'].shift(3)-1).droplevel(0)\n",
    "mom3M.name = 'mom3M'\n",
    "\n",
    "\n",
    "#3month turnover\n",
    "turnover3M =  bar_monthly.groupby('asset').apply(lambda x:x['turnover_ratio'].rolling(3).sum()).droplevel(0)\n",
    "turnover3M.name = 'turnover3M'\n",
    "\n",
    "\n",
    "#数据合并对齐\n",
    "merged_data = pd.concat([bar_monthly, skew, distance, mom3M, turnover3M],axis=1)"
   ]
  },
  {
   "attachments": {},
   "cell_type": "markdown",
   "metadata": {},
   "source": [
    "## Notes\n",
    "universe: all A share\n",
    "\n",
    "period: 2010.01~2022.12 (156 months)\n",
    "\n",
    "$ forward\\_return = \\frac{close_{next\\_month}}{open_{next\\_month}}-1$\n",
    "\n",
    "$ distance =  1 - close / MAX(high,252days)$\n",
    "\n",
    "mom3M: currentclose / close 3 months ago\n",
    "\n",
    "turnover3M: sum of last 3 months turnover ratio\n",
    "\n",
    "market_cap: market capitalization in circulation\n",
    "\n",
    "bechmark for equal weighted:  equal weight of all stock's forward return\n",
    "\n",
    "bechmark for market Cap weighted:  market Cap weight of all stock's forward return"
   ]
  },
  {
   "attachments": {},
   "cell_type": "markdown",
   "metadata": {},
   "source": [
    "## merged data (monthly)\n",
    "处理和合并后行情和因子值的月度数据，"
   ]
  },
  {
   "cell_type": "code",
   "execution_count": 4,
   "metadata": {},
   "outputs": [],
   "source": [
    "#合并数据示例\n",
    "from pathlib import Path\n",
    "# from workflow import MultiFactorTesting\n",
    "__file__ = r'D:\\projects\\singletrader\\samples\\double_sort_framework\\workflow.ipynb'\n",
    "file = Path(__file__)\n",
    "parent_path = file.parent\n",
    "data_file = r'D:\\projects\\singletrader\\samples\\double_sort_framework\\report_1st\\price_and_factor_data.csv'#parent_path.__str__() + '/data/' + r'price_and_factor_data.csv'\n",
    "merged_data = pd.read_csv(r'D:\\projects\\singletrader\\samples\\double_sort_framework\\report3rd\\third_data.csv')#pd.read_csv(data_file)\n",
    "merged_data['date'] = pd.to_datetime(merged_data['date']) #date字段需要datetime格式；\n",
    "merged_data = merged_data.set_index(['date','asset']) #必须为date,asset双重索引；\n",
    "merged_data = merged_data.dropna()\n",
    "merged_data.dropna().head()\n",
    "\n",
    "merged_data['amount3M'] = merged_data.groupby(level=0).apply(lambda x:x['amount3M'].rank()/x['amount3M'].count()).droplevel(0)\n",
    "merged_data['ep'] = merged_data.groupby(level=0).apply(lambda x:x['ep'].rank()/x['ep'].count()).droplevel(0)"
   ]
  },
  {
   "attachments": {},
   "cell_type": "markdown",
   "metadata": {},
   "source": [
    "## forward return & factor quantile"
   ]
  },
  {
   "cell_type": "code",
   "execution_count": 5,
   "metadata": {},
   "outputs": [
    {
     "data": {
      "text/html": [
       "<div>\n",
       "<style scoped>\n",
       "    .dataframe tbody tr th:only-of-type {\n",
       "        vertical-align: middle;\n",
       "    }\n",
       "\n",
       "    .dataframe tbody tr th {\n",
       "        vertical-align: top;\n",
       "    }\n",
       "\n",
       "    .dataframe thead th {\n",
       "        text-align: right;\n",
       "    }\n",
       "</style>\n",
       "<table border=\"1\" class=\"dataframe\">\n",
       "  <thead>\n",
       "    <tr style=\"text-align: right;\">\n",
       "      <th></th>\n",
       "      <th></th>\n",
       "      <th>next_return</th>\n",
       "      <th>distance</th>\n",
       "      <th>skew</th>\n",
       "    </tr>\n",
       "    <tr>\n",
       "      <th>date</th>\n",
       "      <th>asset</th>\n",
       "      <th></th>\n",
       "      <th></th>\n",
       "      <th></th>\n",
       "    </tr>\n",
       "  </thead>\n",
       "  <tbody>\n",
       "    <tr>\n",
       "      <th rowspan=\"5\" valign=\"top\">2010-01-31</th>\n",
       "      <th>000001.XSHE</th>\n",
       "      <td>0.034081</td>\n",
       "      <td>Moderate Far</td>\n",
       "      <td>Moderate High</td>\n",
       "    </tr>\n",
       "    <tr>\n",
       "      <th>000002.XSHE</th>\n",
       "      <td>0.013977</td>\n",
       "      <td>Far</td>\n",
       "      <td>Moderate Low</td>\n",
       "    </tr>\n",
       "    <tr>\n",
       "      <th>000004.XSHE</th>\n",
       "      <td>0.035992</td>\n",
       "      <td>Near</td>\n",
       "      <td>Medium</td>\n",
       "    </tr>\n",
       "    <tr>\n",
       "      <th>000005.XSHE</th>\n",
       "      <td>0.035326</td>\n",
       "      <td>Far</td>\n",
       "      <td>High</td>\n",
       "    </tr>\n",
       "    <tr>\n",
       "      <th>000006.XSHE</th>\n",
       "      <td>0.040107</td>\n",
       "      <td>Far</td>\n",
       "      <td>Moderate High</td>\n",
       "    </tr>\n",
       "  </tbody>\n",
       "</table>\n",
       "</div>"
      ],
      "text/plain": [
       "                        next_return      distance           skew\n",
       "date       asset                                                \n",
       "2010-01-31 000001.XSHE     0.034081  Moderate Far  Moderate High\n",
       "           000002.XSHE     0.013977           Far   Moderate Low\n",
       "           000004.XSHE     0.035992          Near         Medium\n",
       "           000005.XSHE     0.035326           Far           High\n",
       "           000006.XSHE     0.040107           Far  Moderate High"
      ]
     },
     "execution_count": 5,
     "metadata": {},
     "output_type": "execute_result"
    }
   ],
   "source": [
    "mft = MultiFactorTesting(bar_data=merged_data.dropna()[bars],factor_data=merged_data.dropna()[['distance','skew']],add_shift=0)\n",
    "clean_factor_return = mft.get_clean_factor_return(quantiles=5,labels={'distance':['Near','Moderate Near','Med','Moderate Far','Far'],'skew':['Low','Moderate Low','Medium','Moderate High','High']})#clean_factor_return = mft.get_clean_factor_return(quantiles={'distance':3,'skew':3})\n",
    "\n",
    "#因子分组和下期收益数据示例\n",
    "clean_factor_return.head()"
   ]
  },
  {
   "attachments": {},
   "cell_type": "markdown",
   "metadata": {},
   "source": [
    "# double sort performance\n",
    "avg.ep: 当前cell成分股票平均earning/price ratio的分位数，譬如0.44表示当前cell的平均ep水平在全市场44%分位附近；\n",
    "\n",
    "avg.liquidity: 当前cell成分股票平均近三个月成交额中位数的分位数，释义同上；"
   ]
  },
  {
   "attachments": {},
   "cell_type": "markdown",
   "metadata": {},
   "source": [
    "- Part I skew & distance (5x5)"
   ]
  },
  {
   "cell_type": "code",
   "execution_count": 6,
   "metadata": {},
   "outputs": [
    {
     "name": "stdout",
     "output_type": "stream",
     "text": [
      "avg_annual_excess_return_eq(%)_with_mkt=13.2%\n",
      "distance       Near  Moderate Near   Med  Moderate Far   Far\n",
      "skew                                                        \n",
      "Low            1.28           3.58  2.72          4.06  4.77\n",
      "Moderate Low   4.86           2.95  2.93          3.78  6.24\n",
      "Medium         3.89           0.66 -1.56          2.07  3.58\n",
      "Moderate High -3.84          -5.80 -5.69         -3.88 -1.56\n",
      "High          -0.75          -7.09 -8.93         -8.42 -5.70\n",
      "\n",
      "\n",
      "hit_rate_eq(%)\n",
      "distance        Near  Moderate Near    Med  Moderate Far    Far\n",
      "skew                                                           \n",
      "Low            56.13          56.77  63.87         58.71  53.55\n",
      "Moderate Low   54.84          59.35  55.48         51.61  58.06\n",
      "Medium         56.13          49.03  41.94         52.90  50.97\n",
      "Moderate High  49.03          42.58  40.65         35.48  45.81\n",
      "High           51.61          35.48  25.81         32.26  36.77\n",
      "\n",
      "\n",
      "avg.ep\n",
      "distance         Near  Moderate Near     Med  Moderate Far     Far\n",
      "skew                                                              \n",
      "Low            0.5638         0.5633  0.5300        0.4922  0.4405\n",
      "Moderate Low   0.5366         0.5518  0.5239        0.4873  0.4309\n",
      "Medium         0.5258         0.5349  0.5112        0.4840  0.4234\n",
      "Moderate High  0.5286         0.5316  0.5065        0.4794  0.4236\n",
      "High           0.5346         0.5243  0.4975        0.4696  0.4141\n",
      "\n",
      "\n",
      "avg.liquidity\n",
      "distance         Near  Moderate Near     Med  Moderate Far     Far\n",
      "skew                                                              \n",
      "Low            0.5348         0.4777  0.4501        0.4484  0.4784\n",
      "Moderate Low   0.5263         0.4949  0.4724        0.4675  0.4797\n",
      "Medium         0.5179         0.5072  0.4846        0.4809  0.4977\n",
      "Moderate High  0.5633         0.5275  0.5048        0.5077  0.5265\n",
      "High           0.5556         0.5061  0.4888        0.4952  0.5268\n",
      "\n",
      "\n"
     ]
    }
   ],
   "source": [
    "from samples.double_sort_framework.workflow import MultiFactorTesting\n",
    "mft = MultiFactorTesting(bar_data=merged_data.dropna()[bars],factor_data=merged_data.dropna()[['skew','distance']],add_shift=0)\n",
    "# summary = mft.summary(quantiles=3,labels={'skew':['Low','Medium','High'],'distance':['Near','Med','Far']})\n",
    "summary = mft.summary(quantiles=5,labels={'distance':['Near','Moderate Near','Med','Moderate Far','Far'],'skew':['Low','Moderate Low','Medium','Moderate High','High']})\n",
    "clean_factor_return = mft.get_clean_factor_return(quantiles=5,labels={'distance':['Near','Moderate Near','Med','Moderate Far','Far'],'skew':['Low','Moderate Low','Medium','Moderate High','High']})\n",
    "clean_factor_return = pd.concat([clean_factor_return,merged_data[['amount3M','ep']]],axis=1).dropna()\n",
    "summary['avg.ep']  = round(clean_factor_return.groupby(['skew','distance']).apply(lambda x:x['ep'].mean()).unstack(),4)\n",
    "summary['avg.liquidity']  = round(clean_factor_return.groupby(['skew','distance']).apply(lambda x:x['amount3M'].mean()).unstack(),4)\n",
    "for i in summary:\n",
    "    print(i)\n",
    "    pprint(summary[i])\n",
    "    print('\\n')"
   ]
  },
  {
   "attachments": {},
   "cell_type": "markdown",
   "metadata": {},
   "source": [
    "- Part II Mom3M & turnover3M (5x5)"
   ]
  },
  {
   "cell_type": "code",
   "execution_count": 9,
   "metadata": {},
   "outputs": [
    {
     "name": "stdout",
     "output_type": "stream",
     "text": [
      "avg_annual_excess_return_eq(%)_with_mkt=13.2%\n",
      "mom3M           Low  Moderate Low  Medium  Moderate High  High\n",
      "turnover3M                                                    \n",
      "Low            7.00          2.94    2.01           1.60  7.54\n",
      "Moderate Low   0.46          1.89    2.76           4.64  3.85\n",
      "Medium        -0.69          1.46    3.14           1.97 -0.29\n",
      "Moderate High -1.78          0.70   -1.24           1.40 -0.18\n",
      "High          -8.16         -8.96   -8.40          -7.52 -8.41\n",
      "\n",
      "\n",
      "hit_rate_eq(%)\n",
      "mom3M            Low  Moderate Low  Medium  Moderate High   High\n",
      "turnover3M                                                      \n",
      "Low            53.55         49.68   53.55          51.61  59.35\n",
      "Moderate Low   50.97         57.42   52.90          56.77  52.90\n",
      "Medium         47.74         55.48   61.29          50.97  49.68\n",
      "Moderate High  44.52         47.74   47.10          46.45  50.32\n",
      "High           38.06         34.19   38.06          36.13  38.06\n",
      "\n",
      "\n",
      "avg.ep\n",
      "mom3M             Low  Moderate Low  Medium  Moderate High    High\n",
      "turnover3M                                                        \n",
      "Low            0.5542        0.5734  0.5960         0.5797  0.5466\n",
      "Moderate Low   0.5118        0.5339  0.5471         0.5473  0.5277\n",
      "Medium         0.4814        0.5051  0.5143         0.5126  0.4928\n",
      "Moderate High  0.4521        0.4789  0.4853         0.4870  0.4688\n",
      "High           0.3991        0.4213  0.4341         0.4321  0.4138\n",
      "\n",
      "\n",
      "avg.liquidity\n",
      "mom3M             Low  Moderate Low  Medium  Moderate High    High\n",
      "turnover3M                                                        \n",
      "Low            0.3772        0.3272  0.3242         0.3524  0.4344\n",
      "Moderate Low   0.4595        0.4061  0.4006         0.4429  0.5441\n",
      "Medium         0.5079        0.4576  0.4520         0.4897  0.5778\n",
      "Moderate High  0.5665        0.5144  0.5102         0.5417  0.6293\n",
      "High           0.6525        0.5936  0.5926         0.6201  0.7271\n",
      "\n",
      "\n"
     ]
    }
   ],
   "source": [
    "mft = MultiFactorTesting(bar_data=merged_data.dropna()[bars],factor_data=merged_data.dropna()[['turnover3M','mom3M']],add_shift=0)\n",
    "# summary = mft.summary(quantiles=3,labels={'skew':['Low','Medium','High'],'distance':['Near','Med','Far']})\n",
    "summary = mft.summary(quantiles=5,labels={'mom3M':['Low','Moderate Low','Medium','Moderate High','High'],'turnover3M':['Low','Moderate Low','Medium','Moderate High','High']})\n",
    "clean_factor_return = mft.get_clean_factor_return(quantiles=5,labels={'mom3M':['Low','Moderate Low','Medium','Moderate High','High'],'turnover3M':['Low','Moderate Low','Medium','Moderate High','High']})\n",
    "clean_factor_return = pd.concat([clean_factor_return,merged_data[['amount3M','ep']]],axis=1).dropna()\n",
    "summary['avg.ep']  = round(clean_factor_return.groupby(['turnover3M','mom3M']).apply(lambda x:x['ep'].mean()).unstack(),4)\n",
    "summary['avg.liquidity']  = round(clean_factor_return.groupby(['turnover3M','mom3M']).apply(lambda x:x['amount3M'].mean()).unstack(),4)\n",
    "for i in summary:\n",
    "    print(i)\n",
    "    pprint(summary[i])\n",
    "    print('\\n')"
   ]
  },
  {
   "attachments": {},
   "cell_type": "markdown",
   "metadata": {},
   "source": [
    "- Part III turnover3M & distance (5x5)"
   ]
  },
  {
   "cell_type": "code",
   "execution_count": 8,
   "metadata": {},
   "outputs": [
    {
     "name": "stdout",
     "output_type": "stream",
     "text": [
      "avg_annual_excess_return_eq(%)_with_mkt=13.2%\n",
      "distance         Low  Moderate Low  Medium  Moderate High  High\n",
      "turnover3M                                                     \n",
      "Low            11.27          1.93    3.36           4.35  9.40\n",
      "Moderate Low    5.45          2.36    0.74           2.49  3.36\n",
      "Medium          1.92          0.50   -1.82           0.74  3.26\n",
      "Moderate High   0.95         -0.08   -3.13          -1.07  0.95\n",
      "High          -14.30         -9.81   -8.98          -7.00 -2.83\n",
      "\n",
      "\n",
      "hit_rate_eq(%)\n",
      "distance         Low  Moderate Low  Medium  Moderate High   High\n",
      "turnover3M                                                      \n",
      "Low            61.29         54.19   56.13          54.19  60.00\n",
      "Moderate Low   59.35         62.58   52.90          50.32  45.81\n",
      "Medium         52.26         53.55   43.87          49.03  49.68\n",
      "Moderate High  47.10         50.32   39.35          45.16  47.10\n",
      "High           33.55         35.48   34.19          40.00  45.16\n",
      "\n",
      "\n",
      "avg.ep\n",
      "distance          Low  Moderate Low  Medium  Moderate High    High\n",
      "turnover3M                                                        \n",
      "Low            0.6064        0.6238  0.5783         0.5374  0.4793\n",
      "Moderate Low   0.5758        0.5826  0.5477         0.5107  0.4577\n",
      "Medium         0.5369        0.5406  0.5140         0.4895  0.4376\n",
      "Moderate High  0.5062        0.5002  0.4897         0.4685  0.4155\n",
      "High           0.4423        0.4416  0.4308         0.4093  0.3706\n",
      "\n",
      "\n",
      "avg.liquidity\n",
      "distance          Low  Moderate Low  Medium  Moderate High    High\n",
      "turnover3M                                                        \n",
      "Low            0.3965        0.3584  0.3240         0.3212  0.3519\n",
      "Moderate Low   0.5226        0.4477  0.4142         0.4081  0.4269\n",
      "Medium         0.5568        0.4999  0.4741         0.4689  0.4809\n",
      "Moderate High  0.5924        0.5658  0.5497         0.5417  0.5376\n",
      "High           0.6721        0.6688  0.6601         0.6476  0.6355\n",
      "\n",
      "\n"
     ]
    }
   ],
   "source": [
    "mft = MultiFactorTesting(bar_data=merged_data.dropna()[bars],factor_data=merged_data.dropna()[['turnover3M','distance']],add_shift=0)\n",
    "# summary = mft.summary(quantiles=3,labels={'skew':['Low','Medium','High'],'distance':['Near','Med','Far']})\n",
    "summary = mft.summary(quantiles=5,labels={'turnover3M':['Low','Moderate Low','Medium','Moderate High','High'],'distance':['Low','Moderate Low','Medium','Moderate High','High']})\n",
    "clean_factor_return = mft.get_clean_factor_return(quantiles=5,labels={'turnover3M':['Low','Moderate Low','Medium','Moderate High','High'],'distance':['Low','Moderate Low','Medium','Moderate High','High']})\n",
    "clean_factor_return = pd.concat([clean_factor_return,merged_data[['amount3M','ep']]],axis=1).dropna()\n",
    "summary['avg.ep']  = round(clean_factor_return.groupby(['turnover3M','distance']).apply(lambda x:x['ep'].mean()).unstack(),4)\n",
    "summary['avg.liquidity']  = round(clean_factor_return.groupby(['turnover3M','distance']).apply(lambda x:x['amount3M'].mean()).unstack(),4)\n",
    "for i in summary:\n",
    "    print(i)\n",
    "    pprint(summary[i])\n",
    "    print('\\n')"
   ]
  },
  {
   "attachments": {},
   "cell_type": "markdown",
   "metadata": {},
   "source": [
    "- Part IV turnover3M & skew (5x5)"
   ]
  },
  {
   "cell_type": "code",
   "execution_count": 10,
   "metadata": {},
   "outputs": [
    {
     "name": "stdout",
     "output_type": "stream",
     "text": [
      "avg_annual_excess_return_eq(%)_with_mkt=13.2%\n",
      "skew            Low  Moderate Low  Medium  Moderate High   High\n",
      "turnover3M                                                     \n",
      "Low            0.98          9.72    7.47          -0.19   0.94\n",
      "Moderate Low   4.40          4.53    3.56           0.69  -1.07\n",
      "Medium         4.50          4.25    0.73          -1.63  -2.99\n",
      "Moderate High  5.24          3.60    0.67          -3.20  -6.25\n",
      "High           0.36         -3.23   -6.70         -11.06 -17.07\n",
      "\n",
      "\n",
      "hit_rate_eq(%)\n",
      "skew             Low  Moderate Low  Medium  Moderate High   High\n",
      "turnover3M                                                      \n",
      "Low            55.48         60.00   56.77          54.19  52.90\n",
      "Moderate Low   63.87         56.77   58.71          54.84  54.84\n",
      "Medium         57.42         64.52   49.03          46.45  42.58\n",
      "Moderate High  60.00         56.77   47.74          40.65  31.61\n",
      "High           47.74         43.87   38.06          33.55  26.45\n",
      "\n",
      "\n",
      "avg.ep\n",
      "skew              Low  Moderate Low  Medium  Moderate High    High\n",
      "turnover3M                                                        \n",
      "Low            0.5958        0.5671  0.5447         0.5778  0.5892\n",
      "Moderate Low   0.5341        0.5326  0.5393         0.5386  0.5279\n",
      "Medium         0.5037        0.5059  0.5041         0.5036  0.4897\n",
      "Moderate High  0.4803        0.4801  0.4758         0.4684  0.4639\n",
      "High           0.4313        0.4259  0.4159         0.4106  0.4085\n",
      "\n",
      "\n",
      "avg.liquidity\n",
      "skew              Low  Moderate Low  Medium  Moderate High    High\n",
      "turnover3M                                                        \n",
      "Low            0.3452        0.3259  0.3123         0.3767  0.4151\n",
      "Moderate Low   0.4036        0.4237  0.4482         0.4700  0.4657\n",
      "Medium         0.4595        0.4814  0.5054         0.5227  0.5049\n",
      "Moderate High  0.5307        0.5512  0.5687         0.5750  0.5569\n",
      "High           0.6375        0.6597  0.6730         0.6783  0.6316\n",
      "\n",
      "\n"
     ]
    }
   ],
   "source": [
    "mft = MultiFactorTesting(bar_data=merged_data.dropna()[bars],factor_data=merged_data.dropna()[['turnover3M','skew']],add_shift=0)\n",
    "# summary = mft.summary(quantiles=3,labels={'skew':['Low','Medium','High'],'distance':['Near','Med','Far']})\n",
    "summary = mft.summary(quantiles=5,labels={'turnover3M':['Low','Moderate Low','Medium','Moderate High','High'],'skew':['Low','Moderate Low','Medium','Moderate High','High']})\n",
    "clean_factor_return = mft.get_clean_factor_return(quantiles=5,labels={'turnover3M':['Low','Moderate Low','Medium','Moderate High','High'],'skew':['Low','Moderate Low','Medium','Moderate High','High']})\n",
    "clean_factor_return = pd.concat([clean_factor_return,merged_data[['amount3M','ep']]],axis=1).dropna()\n",
    "summary['avg.ep']  = round(clean_factor_return.groupby(['turnover3M','skew']).apply(lambda x:x['ep'].mean()).unstack(),4)\n",
    "summary['avg.liquidity']  = round(clean_factor_return.groupby(['turnover3M','skew']).apply(lambda x:x['amount3M'].mean()).unstack(),4)\n",
    "for i in summary:\n",
    "    print(i)\n",
    "    pprint(summary[i])\n",
    "    print('\\n')"
   ]
  },
  {
   "cell_type": "code",
   "execution_count": null,
   "metadata": {},
   "outputs": [],
   "source": []
  }
 ],
 "metadata": {
  "kernelspec": {
   "display_name": "trading",
   "language": "python",
   "name": "python3"
  },
  "language_info": {
   "codemirror_mode": {
    "name": "ipython",
    "version": 3
   },
   "file_extension": ".py",
   "mimetype": "text/x-python",
   "name": "python",
   "nbconvert_exporter": "python",
   "pygments_lexer": "ipython3",
   "version": "3.8.13"
  },
  "orig_nbformat": 4,
  "vscode": {
   "interpreter": {
    "hash": "70d690ec0f92e8ae73a9a4144c459bb95890cec6acb9f8d26d3efb39a66ef522"
   }
  }
 },
 "nbformat": 4,
 "nbformat_minor": 2
}
