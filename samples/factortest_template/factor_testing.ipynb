{
 "cells": [
  {
   "cell_type": "code",
   "execution_count": null,
   "metadata": {},
   "outputs": [],
   "source": [
    "# get ic decay\n",
    "from get_data import get_data,bars\n",
    "from singletrader.processors.cs_processor import CsWinzorize,CsNeutrualize\n",
    "from singletrader.shared.utility import save_pkl\n",
    "from singletrader.factorlib import FactorEvaluation,summary_plot\n",
    "import pandas as pd\n",
    "import plotly.express as px\n",
    "from plotly.figure_factory import create_table\n",
    "import warnings\n",
    "warnings.filterwarnings('ignore')\n",
    "from singletrader.datasdk.qlib.base import MultiFactor\n",
    "from singletrader.shared.utility import load_pkls\n",
    "from singletrader.datasdk.sql.dataapi import get_index_cons\n",
    "cs_neu = CsNeutrualize()\n"
   ]
  },
  {
   "cell_type": "code",
   "execution_count": null,
   "metadata": {},
   "outputs": [],
   "source": [
    "fields = []\n",
    "names = []\n",
    "\n",
    "fields_bar = ['$close','$open','$high','$low','$avg','$volume','$circulating_market_cap','$turnover_ratio','$money','1/$pe_ratio']\n",
    "names_bar = ['close','open','high','low','avg','volume','circulating_market_cap','turnover_ratio','money','ep']\n",
    "\n",
    "\n",
    "fields_feature = ['Mean($close/Ref($close,1)-1,%d) / Std($close/Ref($close,1)-1,%d) / Mean($turnover_ratio,%d)' %(d,d,d) for d in (5,10,20)]\n",
    "names_feature = ['fitness%d' %d for d in (5,10,20)]\n",
    "\n",
    "fields = fields_bar + fields_feature\n",
    "names =names_bar + names_feature"
   ]
  },
  {
   "cell_type": "code",
   "execution_count": null,
   "metadata": {},
   "outputs": [],
   "source": [
    "# 获取数据\n",
    "start_date = '2018-01-01'\n",
    "end_date = '2023-03-31'\n",
    "data = MultiFactor(name=names,field=fields,start_date=start_date,end_date=end_date)._data\n",
    "index_cons = get_index_cons(start_date=start_date,end_date=end_date)\n"
   ]
  },
  {
   "cell_type": "code",
   "execution_count": null,
   "metadata": {},
   "outputs": [],
   "source": [
    "import jqdatasdk as jq\n",
    "import os\n",
    "jq.auth(os.environ['JQ_USER'],os.environ['JQ_PASSWD'])\n",
    "jq.get_concepts()"
   ]
  },
  {
   "cell_type": "code",
   "execution_count": null,
   "metadata": {},
   "outputs": [],
   "source": [
    "\n",
    "fe = FactorEvaluation(bar_data=data[names_bar],factor_data=data[names_feature])\n",
    "fe.get_summary(groups=10,base='close',holding_period=5,add_shift=0)\n"
   ]
  },
  {
   "cell_type": "code",
   "execution_count": null,
   "metadata": {},
   "outputs": [],
   "source": [
    "report = fe.get_factor_detail_report(factor='fitness5',cost=0.00,universe=index_cons['zz1000'],holding_period=5,groups=10,base='close',total=False,add_shift=0,excess_return=True)\n",
    "summary_plot(report)"
   ]
  },
  {
   "cell_type": "code",
   "execution_count": 44,
   "metadata": {},
   "outputs": [],
   "source": [
    "from singletrader.shared.utility import load_pkl\n",
    "\n",
    "d = load_pkl(r'D:\\Edge浏览器下载\\train.pkl/train.pkl')"
   ]
  },
  {
   "cell_type": "code",
   "execution_count": 46,
   "metadata": {},
   "outputs": [],
   "source": [
    "d = d.set_index(['investment_id','time_id'])"
   ]
  },
  {
   "cell_type": "code",
   "execution_count": 79,
   "metadata": {},
   "outputs": [
    {
     "data": {
      "text/html": [
       "<div>\n",
       "<style scoped>\n",
       "    .dataframe tbody tr th:only-of-type {\n",
       "        vertical-align: middle;\n",
       "    }\n",
       "\n",
       "    .dataframe tbody tr th {\n",
       "        vertical-align: top;\n",
       "    }\n",
       "\n",
       "    .dataframe thead th {\n",
       "        text-align: right;\n",
       "    }\n",
       "</style>\n",
       "<table border=\"1\" class=\"dataframe\">\n",
       "  <thead>\n",
       "    <tr style=\"text-align: right;\">\n",
       "      <th></th>\n",
       "      <th>count</th>\n",
       "      <th>mean</th>\n",
       "      <th>std</th>\n",
       "      <th>min</th>\n",
       "      <th>25%</th>\n",
       "      <th>50%</th>\n",
       "      <th>75%</th>\n",
       "      <th>max</th>\n",
       "    </tr>\n",
       "    <tr>\n",
       "      <th>time_id</th>\n",
       "      <th></th>\n",
       "      <th></th>\n",
       "      <th></th>\n",
       "      <th></th>\n",
       "      <th></th>\n",
       "      <th></th>\n",
       "      <th></th>\n",
       "      <th></th>\n",
       "    </tr>\n",
       "  </thead>\n",
       "  <tbody>\n",
       "    <tr>\n",
       "      <th>0</th>\n",
       "      <td>2272.0</td>\n",
       "      <td>0.011063</td>\n",
       "      <td>0.997559</td>\n",
       "      <td>-1.995117</td>\n",
       "      <td>-0.615723</td>\n",
       "      <td>0.056091</td>\n",
       "      <td>0.618896</td>\n",
       "      <td>2.582031</td>\n",
       "    </tr>\n",
       "    <tr>\n",
       "      <th>1</th>\n",
       "      <td>2275.0</td>\n",
       "      <td>0.011192</td>\n",
       "      <td>0.994629</td>\n",
       "      <td>-2.011719</td>\n",
       "      <td>-0.612061</td>\n",
       "      <td>0.069397</td>\n",
       "      <td>0.619385</td>\n",
       "      <td>2.425781</td>\n",
       "    </tr>\n",
       "    <tr>\n",
       "      <th>2</th>\n",
       "      <td>2275.0</td>\n",
       "      <td>0.004032</td>\n",
       "      <td>0.997559</td>\n",
       "      <td>-2.119141</td>\n",
       "      <td>-0.620117</td>\n",
       "      <td>0.093201</td>\n",
       "      <td>0.608887</td>\n",
       "      <td>2.394531</td>\n",
       "    </tr>\n",
       "    <tr>\n",
       "      <th>3</th>\n",
       "      <td>2285.0</td>\n",
       "      <td>0.007130</td>\n",
       "      <td>0.995605</td>\n",
       "      <td>-2.531250</td>\n",
       "      <td>-0.533203</td>\n",
       "      <td>0.136230</td>\n",
       "      <td>0.604980</td>\n",
       "      <td>2.412109</td>\n",
       "    </tr>\n",
       "    <tr>\n",
       "      <th>4</th>\n",
       "      <td>2273.0</td>\n",
       "      <td>0.007195</td>\n",
       "      <td>0.996582</td>\n",
       "      <td>-1.839844</td>\n",
       "      <td>-0.697266</td>\n",
       "      <td>0.096741</td>\n",
       "      <td>0.653809</td>\n",
       "      <td>2.361328</td>\n",
       "    </tr>\n",
       "    <tr>\n",
       "      <th>...</th>\n",
       "      <td>...</td>\n",
       "      <td>...</td>\n",
       "      <td>...</td>\n",
       "      <td>...</td>\n",
       "      <td>...</td>\n",
       "      <td>...</td>\n",
       "      <td>...</td>\n",
       "      <td>...</td>\n",
       "    </tr>\n",
       "    <tr>\n",
       "      <th>1215</th>\n",
       "      <td>3432.0</td>\n",
       "      <td>0.006680</td>\n",
       "      <td>0.987793</td>\n",
       "      <td>-3.798828</td>\n",
       "      <td>-0.428894</td>\n",
       "      <td>0.001045</td>\n",
       "      <td>0.603760</td>\n",
       "      <td>3.781250</td>\n",
       "    </tr>\n",
       "    <tr>\n",
       "      <th>1216</th>\n",
       "      <td>3418.0</td>\n",
       "      <td>0.012123</td>\n",
       "      <td>0.983887</td>\n",
       "      <td>-3.720703</td>\n",
       "      <td>-0.394470</td>\n",
       "      <td>0.027901</td>\n",
       "      <td>0.580688</td>\n",
       "      <td>3.724609</td>\n",
       "    </tr>\n",
       "    <tr>\n",
       "      <th>1217</th>\n",
       "      <td>3420.0</td>\n",
       "      <td>0.004791</td>\n",
       "      <td>0.990723</td>\n",
       "      <td>-3.322266</td>\n",
       "      <td>-0.385864</td>\n",
       "      <td>0.072754</td>\n",
       "      <td>0.574341</td>\n",
       "      <td>3.611328</td>\n",
       "    </tr>\n",
       "    <tr>\n",
       "      <th>1218</th>\n",
       "      <td>3432.0</td>\n",
       "      <td>0.006287</td>\n",
       "      <td>0.990723</td>\n",
       "      <td>-3.509766</td>\n",
       "      <td>-0.386658</td>\n",
       "      <td>0.072296</td>\n",
       "      <td>0.564087</td>\n",
       "      <td>3.583984</td>\n",
       "    </tr>\n",
       "    <tr>\n",
       "      <th>1219</th>\n",
       "      <td>3438.0</td>\n",
       "      <td>0.005608</td>\n",
       "      <td>0.990234</td>\n",
       "      <td>-3.675781</td>\n",
       "      <td>-0.385620</td>\n",
       "      <td>0.071899</td>\n",
       "      <td>0.600952</td>\n",
       "      <td>1.639648</td>\n",
       "    </tr>\n",
       "  </tbody>\n",
       "</table>\n",
       "<p>1211 rows × 8 columns</p>\n",
       "</div>"
      ],
      "text/plain": [
       "          count      mean       std       min       25%       50%       75%  \\\n",
       "time_id                                                                       \n",
       "0        2272.0  0.011063  0.997559 -1.995117 -0.615723  0.056091  0.618896   \n",
       "1        2275.0  0.011192  0.994629 -2.011719 -0.612061  0.069397  0.619385   \n",
       "2        2275.0  0.004032  0.997559 -2.119141 -0.620117  0.093201  0.608887   \n",
       "3        2285.0  0.007130  0.995605 -2.531250 -0.533203  0.136230  0.604980   \n",
       "4        2273.0  0.007195  0.996582 -1.839844 -0.697266  0.096741  0.653809   \n",
       "...         ...       ...       ...       ...       ...       ...       ...   \n",
       "1215     3432.0  0.006680  0.987793 -3.798828 -0.428894  0.001045  0.603760   \n",
       "1216     3418.0  0.012123  0.983887 -3.720703 -0.394470  0.027901  0.580688   \n",
       "1217     3420.0  0.004791  0.990723 -3.322266 -0.385864  0.072754  0.574341   \n",
       "1218     3432.0  0.006287  0.990723 -3.509766 -0.386658  0.072296  0.564087   \n",
       "1219     3438.0  0.005608  0.990234 -3.675781 -0.385620  0.071899  0.600952   \n",
       "\n",
       "              max  \n",
       "time_id            \n",
       "0        2.582031  \n",
       "1        2.425781  \n",
       "2        2.394531  \n",
       "3        2.412109  \n",
       "4        2.361328  \n",
       "...           ...  \n",
       "1215     3.781250  \n",
       "1216     3.724609  \n",
       "1217     3.611328  \n",
       "1218     3.583984  \n",
       "1219     1.639648  \n",
       "\n",
       "[1211 rows x 8 columns]"
      ]
     },
     "execution_count": 79,
     "metadata": {},
     "output_type": "execute_result"
    }
   ],
   "source": [
    "d['f_2'].groupby(level=1).describe()"
   ]
  },
  {
   "cell_type": "code",
   "execution_count": 55,
   "metadata": {},
   "outputs": [
    {
     "data": {
      "text/plain": [
       "date\n",
       "2018-01-02    2429.0\n",
       "2018-01-03    2429.7\n",
       "2018-01-04    2429.7\n",
       "2018-01-05    2431.8\n",
       "2018-01-08    2431.8\n",
       "               ...  \n",
       "2023-03-27    3458.7\n",
       "2023-03-28    3459.4\n",
       "2023-03-29    3461.5\n",
       "2023-03-30    3461.5\n",
       "2023-03-31    3462.2\n",
       "Name: close, Length: 1274, dtype: float64"
      ]
     },
     "execution_count": 55,
     "metadata": {},
     "output_type": "execute_result"
    }
   ],
   "source": [
    "data['close'].groupby(level=0).count()*0.7"
   ]
  },
  {
   "cell_type": "code",
   "execution_count": 75,
   "metadata": {},
   "outputs": [
    {
     "data": {
      "image/png": "[encoded data removed]",
      "text/plain": [
       "<Figure size 640x480 with 1 Axes>"
      ]
     },
     "metadata": {},
     "output_type": "display_data"
    }
   ],
   "source": [
    "import numpy as np\n",
    "import matplotlib.pyplot as plt\n",
    "def np_log(base,x):\n",
    "    return np.log(x)/np.log(base)\n",
    "\n",
    "def entropy_plot(*args):\n",
    "    x = np.linspace(0,1,100)\n",
    "    for _ in args:\n",
    "        y = -x * np_log(_,x) - (1-x) * np_log(_,1-x)\n",
    "        plt.plot(x,y,label='n={}'.format(_))\n",
    "    plt.xlim(0,1)\n",
    "    plt.legend()\n",
    "    plt.show()\n",
    "entropy_plot(2,3,4,8)"
   ]
  }
 ],
 "metadata": {
  "kernelspec": {
   "display_name": "trading",
   "language": "python",
   "name": "python3"
  },
  "language_info": {
   "codemirror_mode": {
    "name": "ipython",
    "version": 3
   },
   "file_extension": ".py",
   "mimetype": "text/x-python",
   "name": "python",
   "nbconvert_exporter": "python",
   "pygments_lexer": "ipython3",
   "version": "3.8.13"
  },
  "vscode": {
   "interpreter": {
    "hash": "70d690ec0f92e8ae73a9a4144c459bb95890cec6acb9f8d26d3efb39a66ef522"
   }
  }
 },
 "nbformat": 4,
 "nbformat_minor": 2
}
