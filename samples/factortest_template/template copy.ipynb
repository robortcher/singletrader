{
 "cells": [
  {
   "cell_type": "code",
   "execution_count": null,
   "metadata": {},
   "outputs": [],
   "source": [
    "# get ic decay\n",
    "from get_data import get_data,bars\n",
    "from singletrader.processors.cs_processor import CsWinzorize\n",
    "from singletrader.shared.utility import save_pkl\n",
    "from singletrader.factorlib import FactorEvaluation,summary_plot\n",
    "import pandas as pd\n",
    "import plotly.express as px\n",
    "from plotly.figure_factory import create_table\n",
    "import warnings\n",
    "from tools.workflow import MultiFactorTesting\n",
    "warnings.filterwarnings('ignore')\n",
    "\n",
    "\n",
    "\n"
   ]
  },
  {
   "cell_type": "code",
   "execution_count": 2,
   "metadata": {},
   "outputs": [],
   "source": [
    "data = get_data().dropna() #获取处理好的数据\n",
    "features = [_f for _f in data.columns if _f not in bars] + ['ep','circulating_market_cap']\n",
    "bar_data = data[bars]\n",
    "# bar_data.head()"
   ]
  },
  {
   "cell_type": "markdown",
   "metadata": {},
   "source": [
    "# Tips\n",
    "-   默认的极值处理方式均调整为为0.01/0.99放缩，前值为5倍标准差处理"
   ]
  },
  {
   "cell_type": "code",
   "execution_count": 3,
   "metadata": {},
   "outputs": [
    {
     "name": "stdout",
     "output_type": "stream",
     "text": [
      "high liquidity set\n",
      " date        code       \n",
      "2010-01-31  000001.XSHE    1\n",
      "            000002.XSHE    1\n",
      "            000004.XSHE    0\n",
      "            000005.XSHE    1\n",
      "            000006.XSHE    1\n",
      "Name: amount3M, dtype: int32\n"
     ]
    }
   ],
   "source": [
    "liquidity_group = data.groupby(level=0).apply(lambda x:pd.qcut(x['amount3M'],3,labels=['low','medium','high'])).droplevel(0)\n",
    "ep_group = data.groupby(level=0).apply(lambda x:pd.qcut(x['ep'],3,labels=['low','medium','high'])).droplevel(0)\n",
    "high_liq =(liquidity_group=='high').astype(int)\n",
    "print('high liquidity set\\n',high_liq.head())"
   ]
  },
  {
   "cell_type": "markdown",
   "metadata": {},
   "source": [
    "# summary of all factors"
   ]
  },
  {
   "cell_type": "markdown",
   "metadata": {},
   "source": [
    "- 非行业中性化(全市场)"
   ]
  },
  {
   "cell_type": "code",
   "execution_count": 4,
   "metadata": {
    "scrolled": false
   },
   "outputs": [
    {
     "name": "stdout",
     "output_type": "stream",
     "text": [
      "start_date:2010-01-01 / end_date:2022-12-31\n"
     ]
    },
    {
     "data": {
      "text/html": [
       "<div>\n",
       "<style scoped>\n",
       "    .dataframe tbody tr th:only-of-type {\n",
       "        vertical-align: middle;\n",
       "    }\n",
       "\n",
       "    .dataframe tbody tr th {\n",
       "        vertical-align: top;\n",
       "    }\n",
       "\n",
       "    .dataframe thead th {\n",
       "        text-align: right;\n",
       "    }\n",
       "</style>\n",
       "<table border=\"1\" class=\"dataframe\">\n",
       "  <thead>\n",
       "    <tr style=\"text-align: right;\">\n",
       "      <th></th>\n",
       "      <th>skew</th>\n",
       "      <th>adjskew</th>\n",
       "      <th>distance</th>\n",
       "      <th>mom6x3</th>\n",
       "      <th>mom9x3</th>\n",
       "      <th>mom12x3</th>\n",
       "      <th>mom1M</th>\n",
       "      <th>mom2M</th>\n",
       "      <th>mom3M</th>\n",
       "      <th>mom6M</th>\n",
       "      <th>turnover3M</th>\n",
       "      <th>amount3M</th>\n",
       "      <th>stddev_diff</th>\n",
       "      <th>stddev</th>\n",
       "      <th>ep</th>\n",
       "      <th>circulating_market_cap</th>\n",
       "    </tr>\n",
       "  </thead>\n",
       "  <tbody>\n",
       "    <tr>\n",
       "      <th>ic.mean</th>\n",
       "      <td>-0.0228</td>\n",
       "      <td>-0.0252</td>\n",
       "      <td>0.0015</td>\n",
       "      <td>0.0009</td>\n",
       "      <td>0.0069</td>\n",
       "      <td>0.0090</td>\n",
       "      <td>-0.0419</td>\n",
       "      <td>-0.0505</td>\n",
       "      <td>-0.0445</td>\n",
       "      <td>-0.0330</td>\n",
       "      <td>-0.0422</td>\n",
       "      <td>-0.0393</td>\n",
       "      <td>-0.0078</td>\n",
       "      <td>-0.0385</td>\n",
       "      <td>0.0110</td>\n",
       "      <td>-0.0123</td>\n",
       "    </tr>\n",
       "    <tr>\n",
       "      <th>ic.t-stats</th>\n",
       "      <td>-4.7346</td>\n",
       "      <td>-5.4992</td>\n",
       "      <td>0.1356</td>\n",
       "      <td>0.1148</td>\n",
       "      <td>0.7518</td>\n",
       "      <td>0.9592</td>\n",
       "      <td>-4.5227</td>\n",
       "      <td>-4.7153</td>\n",
       "      <td>-4.2887</td>\n",
       "      <td>-3.0849</td>\n",
       "      <td>-3.8007</td>\n",
       "      <td>-4.5036</td>\n",
       "      <td>-1.4424</td>\n",
       "      <td>-3.0906</td>\n",
       "      <td>1.5631</td>\n",
       "      <td>-1.3657</td>\n",
       "    </tr>\n",
       "    <tr>\n",
       "      <th>AnnRet_Long</th>\n",
       "      <td>-0.0631</td>\n",
       "      <td>-0.0609</td>\n",
       "      <td>0.0273</td>\n",
       "      <td>-0.0237</td>\n",
       "      <td>-0.0058</td>\n",
       "      <td>0.0096</td>\n",
       "      <td>-0.1463</td>\n",
       "      <td>-0.1504</td>\n",
       "      <td>-0.1493</td>\n",
       "      <td>-0.1172</td>\n",
       "      <td>-0.1189</td>\n",
       "      <td>-0.1245</td>\n",
       "      <td>-0.0772</td>\n",
       "      <td>-0.1316</td>\n",
       "      <td>-0.0026</td>\n",
       "      <td>-0.0712</td>\n",
       "    </tr>\n",
       "    <tr>\n",
       "      <th>AnnRet_short</th>\n",
       "      <td>0.0178</td>\n",
       "      <td>0.0397</td>\n",
       "      <td>0.0226</td>\n",
       "      <td>-0.0197</td>\n",
       "      <td>-0.0604</td>\n",
       "      <td>-0.0506</td>\n",
       "      <td>0.0257</td>\n",
       "      <td>0.0839</td>\n",
       "      <td>0.0669</td>\n",
       "      <td>0.0645</td>\n",
       "      <td>0.0795</td>\n",
       "      <td>0.1421</td>\n",
       "      <td>-0.0520</td>\n",
       "      <td>0.0493</td>\n",
       "      <td>0.0037</td>\n",
       "      <td>0.1681</td>\n",
       "    </tr>\n",
       "    <tr>\n",
       "      <th>AnnRet</th>\n",
       "      <td>-0.0809</td>\n",
       "      <td>-0.1006</td>\n",
       "      <td>0.0047</td>\n",
       "      <td>-0.0040</td>\n",
       "      <td>0.0546</td>\n",
       "      <td>0.0601</td>\n",
       "      <td>-0.1719</td>\n",
       "      <td>-0.2343</td>\n",
       "      <td>-0.2163</td>\n",
       "      <td>-0.1817</td>\n",
       "      <td>-0.1984</td>\n",
       "      <td>-0.2666</td>\n",
       "      <td>-0.0252</td>\n",
       "      <td>-0.1809</td>\n",
       "      <td>-0.0063</td>\n",
       "      <td>-0.2393</td>\n",
       "    </tr>\n",
       "    <tr>\n",
       "      <th>SR_Long</th>\n",
       "      <td>-1.2742</td>\n",
       "      <td>-1.3446</td>\n",
       "      <td>0.2515</td>\n",
       "      <td>-0.2369</td>\n",
       "      <td>-0.0554</td>\n",
       "      <td>0.0888</td>\n",
       "      <td>-1.3972</td>\n",
       "      <td>-1.2327</td>\n",
       "      <td>-1.1876</td>\n",
       "      <td>-0.9617</td>\n",
       "      <td>-1.0610</td>\n",
       "      <td>-1.0314</td>\n",
       "      <td>-1.0832</td>\n",
       "      <td>-1.1026</td>\n",
       "      <td>-0.0193</td>\n",
       "      <td>-0.4851</td>\n",
       "    </tr>\n",
       "    <tr>\n",
       "      <th>SR_Short</th>\n",
       "      <td>0.3605</td>\n",
       "      <td>0.8369</td>\n",
       "      <td>0.1808</td>\n",
       "      <td>-0.2561</td>\n",
       "      <td>-0.7717</td>\n",
       "      <td>-0.6149</td>\n",
       "      <td>0.2894</td>\n",
       "      <td>0.7633</td>\n",
       "      <td>0.6396</td>\n",
       "      <td>0.5825</td>\n",
       "      <td>0.5317</td>\n",
       "      <td>1.0871</td>\n",
       "      <td>-0.8670</td>\n",
       "      <td>0.3160</td>\n",
       "      <td>0.0492</td>\n",
       "      <td>1.5498</td>\n",
       "    </tr>\n",
       "    <tr>\n",
       "      <th>SR</th>\n",
       "      <td>-0.9711</td>\n",
       "      <td>-1.2559</td>\n",
       "      <td>0.0219</td>\n",
       "      <td>-0.0262</td>\n",
       "      <td>0.3344</td>\n",
       "      <td>0.3499</td>\n",
       "      <td>-1.0203</td>\n",
       "      <td>-1.1427</td>\n",
       "      <td>-1.0630</td>\n",
       "      <td>-0.8597</td>\n",
       "      <td>-0.8414</td>\n",
       "      <td>-1.2636</td>\n",
       "      <td>-0.2412</td>\n",
       "      <td>-0.7520</td>\n",
       "      <td>-0.0427</td>\n",
       "      <td>-1.0186</td>\n",
       "    </tr>\n",
       "    <tr>\n",
       "      <th>TO_Long</th>\n",
       "      <td>0.8872</td>\n",
       "      <td>0.8867</td>\n",
       "      <td>0.2880</td>\n",
       "      <td>0.5175</td>\n",
       "      <td>0.3709</td>\n",
       "      <td>0.3140</td>\n",
       "      <td>0.8619</td>\n",
       "      <td>0.6243</td>\n",
       "      <td>0.5150</td>\n",
       "      <td>0.3687</td>\n",
       "      <td>0.2387</td>\n",
       "      <td>0.1687</td>\n",
       "      <td>0.9489</td>\n",
       "      <td>0.6880</td>\n",
       "      <td>0.1019</td>\n",
       "      <td>0.0497</td>\n",
       "    </tr>\n",
       "    <tr>\n",
       "      <th>TO_Short</th>\n",
       "      <td>0.8816</td>\n",
       "      <td>0.8821</td>\n",
       "      <td>0.4891</td>\n",
       "      <td>0.5944</td>\n",
       "      <td>0.4543</td>\n",
       "      <td>0.3767</td>\n",
       "      <td>0.8966</td>\n",
       "      <td>0.7022</td>\n",
       "      <td>0.5939</td>\n",
       "      <td>0.4534</td>\n",
       "      <td>0.1791</td>\n",
       "      <td>0.2441</td>\n",
       "      <td>0.9482</td>\n",
       "      <td>0.4880</td>\n",
       "      <td>0.0876</td>\n",
       "      <td>0.1134</td>\n",
       "    </tr>\n",
       "  </tbody>\n",
       "</table>\n",
       "</div>"
      ],
      "text/plain": [
       "                skew  adjskew  distance  mom6x3  mom9x3  mom12x3   mom1M  \\\n",
       "ic.mean      -0.0228  -0.0252    0.0015  0.0009  0.0069   0.0090 -0.0419   \n",
       "ic.t-stats   -4.7346  -5.4992    0.1356  0.1148  0.7518   0.9592 -4.5227   \n",
       "AnnRet_Long  -0.0631  -0.0609    0.0273 -0.0237 -0.0058   0.0096 -0.1463   \n",
       "AnnRet_short  0.0178   0.0397    0.0226 -0.0197 -0.0604  -0.0506  0.0257   \n",
       "AnnRet       -0.0809  -0.1006    0.0047 -0.0040  0.0546   0.0601 -0.1719   \n",
       "SR_Long      -1.2742  -1.3446    0.2515 -0.2369 -0.0554   0.0888 -1.3972   \n",
       "SR_Short      0.3605   0.8369    0.1808 -0.2561 -0.7717  -0.6149  0.2894   \n",
       "SR           -0.9711  -1.2559    0.0219 -0.0262  0.3344   0.3499 -1.0203   \n",
       "TO_Long       0.8872   0.8867    0.2880  0.5175  0.3709   0.3140  0.8619   \n",
       "TO_Short      0.8816   0.8821    0.4891  0.5944  0.4543   0.3767  0.8966   \n",
       "\n",
       "               mom2M   mom3M   mom6M  turnover3M  amount3M  stddev_diff  \\\n",
       "ic.mean      -0.0505 -0.0445 -0.0330     -0.0422   -0.0393      -0.0078   \n",
       "ic.t-stats   -4.7153 -4.2887 -3.0849     -3.8007   -4.5036      -1.4424   \n",
       "AnnRet_Long  -0.1504 -0.1493 -0.1172     -0.1189   -0.1245      -0.0772   \n",
       "AnnRet_short  0.0839  0.0669  0.0645      0.0795    0.1421      -0.0520   \n",
       "AnnRet       -0.2343 -0.2163 -0.1817     -0.1984   -0.2666      -0.0252   \n",
       "SR_Long      -1.2327 -1.1876 -0.9617     -1.0610   -1.0314      -1.0832   \n",
       "SR_Short      0.7633  0.6396  0.5825      0.5317    1.0871      -0.8670   \n",
       "SR           -1.1427 -1.0630 -0.8597     -0.8414   -1.2636      -0.2412   \n",
       "TO_Long       0.6243  0.5150  0.3687      0.2387    0.1687       0.9489   \n",
       "TO_Short      0.7022  0.5939  0.4534      0.1791    0.2441       0.9482   \n",
       "\n",
       "              stddev      ep  circulating_market_cap  \n",
       "ic.mean      -0.0385  0.0110                 -0.0123  \n",
       "ic.t-stats   -3.0906  1.5631                 -1.3657  \n",
       "AnnRet_Long  -0.1316 -0.0026                 -0.0712  \n",
       "AnnRet_short  0.0493  0.0037                  0.1681  \n",
       "AnnRet       -0.1809 -0.0063                 -0.2393  \n",
       "SR_Long      -1.1026 -0.0193                 -0.4851  \n",
       "SR_Short      0.3160  0.0492                  1.5498  \n",
       "SR           -0.7520 -0.0427                 -1.0186  \n",
       "TO_Long       0.6880  0.1019                  0.0497  \n",
       "TO_Short      0.4880  0.0876                  0.1134  "
      ]
     },
     "execution_count": 4,
     "metadata": {},
     "output_type": "execute_result"
    }
   ],
   "source": [
    "# 非行业中性化(全市场)\n",
    "fe = FactorEvaluation(bar_data=data[bars],factor_data=data[features],freq=12,winzorize={'method':'qtile','k':0.01},standardize=True,industry_neutralize=False)\n",
    "fe.get_summary(add_shift=0,start_date='2010-01-01',end_date='2022-12-31',base='close',groups=10) # forward_return: 下月收盘-本月收盘\n",
    "# fe.get_summary(add_shift=0,start_date='2010-01-01',end_date='2022-12-31',universe=high_liq,base='close-open') # forward_return: 下月收盘-下月开盘"
   ]
  },
  {
   "cell_type": "markdown",
   "metadata": {},
   "source": [
    "- 行业中性化(全市场)"
   ]
  },
  {
   "cell_type": "code",
   "execution_count": null,
   "metadata": {
    "scrolled": true
   },
   "outputs": [],
   "source": [
    "# 行业中性化(全市场)\n",
    "fe = FactorEvaluation(bar_data=data[bars],factor_data=data[features],freq=12,winzorize={'method':'qtile','k':0.01},standardize=True,industry_neutralize=True)\n",
    "fe.get_summary(add_shift=0,start_date='2010-01-01',end_date='2022-12-31',base='close',groups=10)"
   ]
  },
  {
   "cell_type": "markdown",
   "metadata": {},
   "source": [
    "-   行业中性化因子（全市场） 2016~"
   ]
  },
  {
   "cell_type": "code",
   "execution_count": null,
   "metadata": {},
   "outputs": [],
   "source": [
    "# 行业中性化因子（高流动性股票池） 2016~\n",
    "fe.get_summary(add_shift=0,start_date='2016-01-01',end_date='2022-12-31',base='close',groups=10) # forward_return: 下月收盘-本月收盘"
   ]
  },
  {
   "cell_type": "markdown",
   "metadata": {},
   "source": [
    "-   行业中性化因子（高流动性股票池）"
   ]
  },
  {
   "cell_type": "code",
   "execution_count": null,
   "metadata": {},
   "outputs": [],
   "source": [
    "# 行业中性化因子（高流动性股票池）\n",
    "fe = FactorEvaluation(bar_data=data[bars],factor_data=data[features],freq=12,winzorize={'method':'qtile','k':0.01},standardize=True,industry_neutralize=True)\n",
    "fe.get_summary(add_shift=0,start_date='2010-01-01',universe=high_liq,end_date='2022-12-31',base='close',groups=10) # forward_return: 下月收盘-本月收盘"
   ]
  },
  {
   "cell_type": "markdown",
   "metadata": {},
   "source": [
    "# double sort (mom12x3 - turnover3M) universe = high liquidity"
   ]
  },
  {
   "cell_type": "markdown",
   "metadata": {},
   "source": [
    "-   row data(3x3)"
   ]
  },
  {
   "cell_type": "code",
   "execution_count": null,
   "metadata": {},
   "outputs": [],
   "source": [
    "fe = FactorEvaluation(bar_data=data[bars],factor_data=data[features],freq=12,winzorize={'method':'qtile','k':0.01},standardize=True,industry_neutralize=False)\n",
    "mft = MultiFactorTesting(bar_data=data.dropna()[bars],market_cap_col='circulating_market_cap',universe=high_liq,factor_data=fe.factor_data[['mom12x3','turnover3M']],add_shift=0)\n",
    "summary = mft.summary(quantiles=3)\n",
    "for i in list(summary.keys())[:2]+['avg_number_of_stocks']:print(i,'\\n',summary[i])"
   ]
  },
  {
   "cell_type": "markdown",
   "metadata": {},
   "source": [
    "-   raw data(5x5) "
   ]
  },
  {
   "cell_type": "code",
   "execution_count": null,
   "metadata": {},
   "outputs": [],
   "source": [
    "summary = mft.summary(quantiles=5)\n",
    "for i in list(summary.keys())[:2]+['avg_number_of_stocks']:print(i,'\\n',summary[i])"
   ]
  },
  {
   "cell_type": "markdown",
   "metadata": {},
   "source": [
    "-   industry nutrualized data(3x3)\n"
   ]
  },
  {
   "cell_type": "code",
   "execution_count": null,
   "metadata": {},
   "outputs": [],
   "source": [
    "fe = FactorEvaluation(bar_data=data[bars],factor_data=data[features],freq=12,winzorize={'method':'qtile','k':0.01},standardize=True,industry_neutralize=True)\n",
    "mft = MultiFactorTesting(bar_data=data.dropna()[bars],market_cap_col='circulating_market_cap',universe=high_liq,factor_data=fe.factor_data[['mom12x3_GN','turnover3M_GN']],add_shift=0)\n",
    "summary = mft.summary(quantiles=3)\n",
    "for i in list(summary.keys())[:2]+['avg_number_of_stocks']:print(i,'\\n',summary[i])"
   ]
  },
  {
   "cell_type": "markdown",
   "metadata": {},
   "source": [
    "-  industry nutrualized data(5x5)\n"
   ]
  },
  {
   "cell_type": "code",
   "execution_count": null,
   "metadata": {},
   "outputs": [],
   "source": [
    "summary = mft.summary(quantiles=5)\n",
    "for i in list(summary.keys())[:2]+['avg_number_of_stocks']:print(i,'\\n',summary[i])"
   ]
  },
  {
   "cell_type": "markdown",
   "metadata": {},
   "source": [
    "# details of mom12x3_GN\n",
    "收益曲线和表格指标，均是针对超额收益，benchmark用的是equal weighted"
   ]
  },
  {
   "cell_type": "code",
   "execution_count": null,
   "metadata": {
    "scrolled": false
   },
   "outputs": [],
   "source": [
    "factor='mom12x3_GN'\n",
    "report = fe.get_factor_detail_report(factor=factor,universe=high_liq,add_shift=0,base='close',start_date='2010-01-01',end_date='2022-12-31',total=False,excess_return=True,holding_period=1)\n",
    "summary_plot(report)\n"
   ]
  },
  {
   "cell_type": "code",
   "execution_count": null,
   "metadata": {
    "scrolled": false
   },
   "outputs": [],
   "source": [
    "group_ic = fe.factor_ana(factor=factor,ep_group=ep_group,liquidity_group=liquidity_group,add_shift=0,base='close')\n",
    "bar = px.bar(group_ic['ic.mean'].reset_index(),x='level_1',y='ic.mean',color='level_0',barmode='group',title='ic of different ep & liquidity')\n",
    "bar.show()\n",
    "\n"
   ]
  },
  {
   "cell_type": "markdown",
   "metadata": {},
   "source": [
    "note: mom12x3在流动性差的股票体现反转特性，在流动性高的股票呈现趋势特性"
   ]
  }
 ],
 "metadata": {
  "kernelspec": {
   "display_name": "trading",
   "language": "python",
   "name": "trading"
  },
  "language_info": {
   "codemirror_mode": {
    "name": "ipython",
    "version": 3
   },
   "file_extension": ".py",
   "mimetype": "text/x-python",
   "name": "python",
   "nbconvert_exporter": "python",
   "pygments_lexer": "ipython3",
   "version": "3.8.13"
  }
 },
 "nbformat": 4,
 "nbformat_minor": 2
}
