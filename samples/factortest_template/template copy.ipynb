{
 "cells": [
  {
   "cell_type": "code",
   "execution_count": 1,
   "metadata": {},
   "outputs": [
    {
     "name": "stderr",
     "output_type": "stream",
     "text": [
      "{\"level\": \"INFO\", \"time\": \"2023-03-27 16:31:08,942\", \"timeMillis\": 1679905868839,\"module\": \"numexpr.utils\", \"method\": \"python-service\", \"addition\": \"[utils.py 148 _init_num_threads]\", \"message\": \"Note: NumExpr detected 32 cores but \"NUMEXPR_MAX_THREADS\" not set, so enforcing safe limit of 8.\"}\n",
      "{\"level\": \"INFO\", \"time\": \"2023-03-27 16:31:08,943\", \"timeMillis\": 1679905868839,\"module\": \"numexpr.utils\", \"method\": \"python-service\", \"addition\": \"[utils.py 160 _init_num_threads]\", \"message\": \"NumExpr defaulting to 8 threads.\"}\n",
      "{\"level\": \"INFO\", \"time\": \"2023-03-27 16:31:09,117\", \"timeMillis\": 1679905868839,\"module\": \"singletrader-service\", \"method\": \"python-service\", \"addition\": \"[__init__.py 26 init]\", \"message\": \"开始初始化路径...\"}\n",
      "[3404:MainThread](2023-03-27 16:31:09,439) INFO - qlib.Initialization - [config.py:416] - default_conf: client.\n",
      "{\"level\": \"INFO\", \"time\": \"2023-03-27 16:31:09,439\", \"timeMillis\": 1679905868839,\"module\": \"qlib.Initialization\", \"method\": \"python-service\", \"addition\": \"[config.py 416 set]\", \"message\": \"default_conf: client.\"}\n",
      "[3404:MainThread](2023-03-27 16:31:09,657) INFO - qlib.Initialization - [__init__.py:74] - qlib successfully initialized based on client settings.\n",
      "{\"level\": \"INFO\", \"time\": \"2023-03-27 16:31:09,657\", \"timeMillis\": 1679905868839,\"module\": \"qlib.Initialization\", \"method\": \"python-service\", \"addition\": \"[__init__.py 74 init]\", \"message\": \"qlib successfully initialized based on client settings.\"}\n",
      "[3404:MainThread](2023-03-27 16:31:09,657) INFO - qlib.Initialization - [__init__.py:76] - data_path={'__DEFAULT_FREQ': WindowsPath('D:/database/.singletrader/qlib_data')}\n",
      "{\"level\": \"INFO\", \"time\": \"2023-03-27 16:31:09,657\", \"timeMillis\": 1679905868839,\"module\": \"qlib.Initialization\", \"method\": \"python-service\", \"addition\": \"[__init__.py 76 init]\", \"message\": \"data_path={'__DEFAULT_FREQ': WindowsPath('D:/database/.singletrader/qlib_data')}\"}\n",
      "{\"level\": \"INFO\", \"time\": \"2023-03-27 16:31:09,658\", \"timeMillis\": 1679905868839,\"module\": \"singletrader-service\", \"method\": \"python-service\", \"addition\": \"[__init__.py 37 init]\", \"message\": \"路径初始化完毕。初始化路径为D:\\database/.singletrader/qlib_data\"}\n",
      "C:\\Users\\Administrator\\AppData\\Roaming\\Python\\Python38\\site-packages\\numpy\\core\\fromnumeric.py:86: VisibleDeprecationWarning: Creating an ndarray from ragged nested sequences (which is a list-or-tuple of lists-or-tuples-or ndarrays with different lengths or shapes) is deprecated. If you meant to do this, you must specify 'dtype=object' when creating the ndarray.\n",
      "  return ufunc.reduce(obj, axis, dtype, out, **passkwargs)\n"
     ]
    }
   ],
   "source": [
    "# get ic decay\n",
    "from get_data import get_data,bars\n",
    "from singletrader.processors.cs_processor import CsWinzorize\n",
    "from singletrader.shared.utility import save_pkl\n",
    "from singletrader.factorlib import FactorEvaluation,summary_plot\n",
    "import pandas as pd\n",
    "import plotly.express as px\n",
    "from plotly.figure_factory import create_table\n",
    "import warnings\n",
    "from tools.workflow import MultiFactorTesting\n",
    "warnings.filterwarnings('ignore')\n",
    "\n",
    "\n",
    "\n"
   ]
  },
  {
   "cell_type": "code",
   "execution_count": 2,
   "metadata": {},
   "outputs": [],
   "source": [
    "data = get_data().dropna() #获取处理好的数据\n",
    "features = [_f for _f in data.columns if _f not in bars] + ['ep','circulating_market_cap']\n",
    "bar_data = data[bars]\n",
    "# bar_data.head()"
   ]
  },
  {
   "cell_type": "markdown",
   "metadata": {},
   "source": [
    "# Tips\n",
    "-   默认的极值处理方式均调整为为0.01/0.99放缩，前值为5倍标准差处理"
   ]
  },
  {
   "cell_type": "code",
   "execution_count": 3,
   "metadata": {},
   "outputs": [
    {
     "name": "stdout",
     "output_type": "stream",
     "text": [
      "high liquidity set\n",
      " date        code       \n",
      "2006-01-31  000001.XSHE    1\n",
      "            000002.XSHE    1\n",
      "            000004.XSHE    0\n",
      "            000005.XSHE    0\n",
      "            000006.XSHE    0\n",
      "Name: amount3M, dtype: int32\n"
     ]
    }
   ],
   "source": [
    "liquidity_group = data.groupby(level=0).apply(lambda x:pd.qcut(x['amount3M'],3,labels=['low','medium','high'])).droplevel(0)\n",
    "ep_group = data.groupby(level=0).apply(lambda x:pd.qcut(x['ep'],3,labels=['low','medium','high'])).droplevel(0)\n",
    "high_liq =(liquidity_group=='high').astype(int)\n",
    "print('high liquidity set\\n',high_liq.head())"
   ]
  },
  {
   "cell_type": "markdown",
   "metadata": {},
   "source": [
    "# summary of all factors"
   ]
  },
  {
   "cell_type": "markdown",
   "metadata": {},
   "source": [
    "- 非行业中性化(全市场)"
   ]
  },
  {
   "cell_type": "code",
   "execution_count": 5,
   "metadata": {
    "scrolled": false
   },
   "outputs": [
    {
     "name": "stdout",
     "output_type": "stream",
     "text": [
      "start_date:2005-01-01 / end_date:2022-12-31\n"
     ]
    },
    {
     "data": {
      "text/html": [
       "<div>\n",
       "<style scoped>\n",
       "    .dataframe tbody tr th:only-of-type {\n",
       "        vertical-align: middle;\n",
       "    }\n",
       "\n",
       "    .dataframe tbody tr th {\n",
       "        vertical-align: top;\n",
       "    }\n",
       "\n",
       "    .dataframe thead th {\n",
       "        text-align: right;\n",
       "    }\n",
       "</style>\n",
       "<table border=\"1\" class=\"dataframe\">\n",
       "  <thead>\n",
       "    <tr style=\"text-align: right;\">\n",
       "      <th></th>\n",
       "      <th>skew</th>\n",
       "      <th>adjskew</th>\n",
       "      <th>distance</th>\n",
       "      <th>mom6x3</th>\n",
       "      <th>mom9x3</th>\n",
       "      <th>mom12x3</th>\n",
       "      <th>mom1M</th>\n",
       "      <th>mom2M</th>\n",
       "      <th>mom3M</th>\n",
       "      <th>mom6M</th>\n",
       "      <th>turnover3M</th>\n",
       "      <th>amount3M</th>\n",
       "      <th>stddev_diff</th>\n",
       "      <th>stddev</th>\n",
       "      <th>ep</th>\n",
       "      <th>circulating_market_cap</th>\n",
       "      <th>comp_mom12x3_to3M</th>\n",
       "    </tr>\n",
       "  </thead>\n",
       "  <tbody>\n",
       "    <tr>\n",
       "      <th>ic.mean</th>\n",
       "      <td>-0.0208</td>\n",
       "      <td>-0.0232</td>\n",
       "      <td>0.0043</td>\n",
       "      <td>-0.0046</td>\n",
       "      <td>-0.0017</td>\n",
       "      <td>-0.0000</td>\n",
       "      <td>-0.0469</td>\n",
       "      <td>-0.0503</td>\n",
       "      <td>-0.0457</td>\n",
       "      <td>-0.0384</td>\n",
       "      <td>-0.0430</td>\n",
       "      <td>-0.0421</td>\n",
       "      <td>-0.0069</td>\n",
       "      <td>-0.0397</td>\n",
       "      <td>0.0100</td>\n",
       "      <td>-0.0182</td>\n",
       "      <td>0.0327</td>\n",
       "    </tr>\n",
       "    <tr>\n",
       "      <th>ic.t-stats</th>\n",
       "      <td>-4.6902</td>\n",
       "      <td>-5.5927</td>\n",
       "      <td>0.4000</td>\n",
       "      <td>-0.6455</td>\n",
       "      <td>-0.2177</td>\n",
       "      <td>-0.0039</td>\n",
       "      <td>-5.7243</td>\n",
       "      <td>-5.3496</td>\n",
       "      <td>-4.7678</td>\n",
       "      <td>-3.9573</td>\n",
       "      <td>-4.3850</td>\n",
       "      <td>-5.2076</td>\n",
       "      <td>-1.3862</td>\n",
       "      <td>-3.5242</td>\n",
       "      <td>1.4971</td>\n",
       "      <td>-2.1585</td>\n",
       "      <td>3.7827</td>\n",
       "    </tr>\n",
       "    <tr>\n",
       "      <th>AnnRet_Long</th>\n",
       "      <td>-0.0563</td>\n",
       "      <td>-0.0635</td>\n",
       "      <td>0.0194</td>\n",
       "      <td>-0.0484</td>\n",
       "      <td>-0.0347</td>\n",
       "      <td>-0.0063</td>\n",
       "      <td>-0.1594</td>\n",
       "      <td>-0.1587</td>\n",
       "      <td>-0.1545</td>\n",
       "      <td>-0.1407</td>\n",
       "      <td>-0.1393</td>\n",
       "      <td>-0.1373</td>\n",
       "      <td>-0.0624</td>\n",
       "      <td>-0.1483</td>\n",
       "      <td>0.0282</td>\n",
       "      <td>-0.0949</td>\n",
       "      <td>0.0380</td>\n",
       "    </tr>\n",
       "    <tr>\n",
       "      <th>AnnRet_short</th>\n",
       "      <td>0.0092</td>\n",
       "      <td>0.0284</td>\n",
       "      <td>0.0338</td>\n",
       "      <td>-0.0049</td>\n",
       "      <td>-0.0412</td>\n",
       "      <td>-0.0228</td>\n",
       "      <td>0.0362</td>\n",
       "      <td>0.0916</td>\n",
       "      <td>0.0986</td>\n",
       "      <td>0.0874</td>\n",
       "      <td>0.1018</td>\n",
       "      <td>0.1787</td>\n",
       "      <td>-0.0490</td>\n",
       "      <td>0.0845</td>\n",
       "      <td>0.0152</td>\n",
       "      <td>0.1880</td>\n",
       "      <td>-0.1401</td>\n",
       "    </tr>\n",
       "    <tr>\n",
       "      <th>AnnRet</th>\n",
       "      <td>-0.0655</td>\n",
       "      <td>-0.0919</td>\n",
       "      <td>-0.0144</td>\n",
       "      <td>-0.0435</td>\n",
       "      <td>0.0066</td>\n",
       "      <td>0.0165</td>\n",
       "      <td>-0.1956</td>\n",
       "      <td>-0.2503</td>\n",
       "      <td>-0.2531</td>\n",
       "      <td>-0.2280</td>\n",
       "      <td>-0.2411</td>\n",
       "      <td>-0.3161</td>\n",
       "      <td>-0.0134</td>\n",
       "      <td>-0.2328</td>\n",
       "      <td>0.0130</td>\n",
       "      <td>-0.2829</td>\n",
       "      <td>0.1781</td>\n",
       "    </tr>\n",
       "    <tr>\n",
       "      <th>SR_Long</th>\n",
       "      <td>-0.9702</td>\n",
       "      <td>-1.2841</td>\n",
       "      <td>0.1556</td>\n",
       "      <td>-0.4726</td>\n",
       "      <td>-0.3128</td>\n",
       "      <td>-0.0523</td>\n",
       "      <td>-1.4038</td>\n",
       "      <td>-1.2294</td>\n",
       "      <td>-1.1370</td>\n",
       "      <td>-1.0549</td>\n",
       "      <td>-1.2448</td>\n",
       "      <td>-1.0432</td>\n",
       "      <td>-0.8368</td>\n",
       "      <td>-1.3053</td>\n",
       "      <td>0.2000</td>\n",
       "      <td>-0.6079</td>\n",
       "      <td>0.2935</td>\n",
       "    </tr>\n",
       "    <tr>\n",
       "      <th>SR_Short</th>\n",
       "      <td>0.1681</td>\n",
       "      <td>0.5336</td>\n",
       "      <td>0.2204</td>\n",
       "      <td>-0.0508</td>\n",
       "      <td>-0.4735</td>\n",
       "      <td>-0.2415</td>\n",
       "      <td>0.3551</td>\n",
       "      <td>0.7746</td>\n",
       "      <td>0.7834</td>\n",
       "      <td>0.6943</td>\n",
       "      <td>0.5594</td>\n",
       "      <td>1.1502</td>\n",
       "      <td>-0.7271</td>\n",
       "      <td>0.4533</td>\n",
       "      <td>0.1488</td>\n",
       "      <td>1.5089</td>\n",
       "      <td>-1.3748</td>\n",
       "    </tr>\n",
       "    <tr>\n",
       "      <th>SR</th>\n",
       "      <td>-0.6969</td>\n",
       "      <td>-1.0640</td>\n",
       "      <td>-0.0571</td>\n",
       "      <td>-0.2580</td>\n",
       "      <td>0.0378</td>\n",
       "      <td>0.0874</td>\n",
       "      <td>-1.0598</td>\n",
       "      <td>-1.1517</td>\n",
       "      <td>-1.1040</td>\n",
       "      <td>-0.9725</td>\n",
       "      <td>-0.9043</td>\n",
       "      <td>-1.3596</td>\n",
       "      <td>-0.1174</td>\n",
       "      <td>-0.8887</td>\n",
       "      <td>0.0713</td>\n",
       "      <td>-1.1362</td>\n",
       "      <td>0.8916</td>\n",
       "    </tr>\n",
       "    <tr>\n",
       "      <th>TO_Long</th>\n",
       "      <td>0.8818</td>\n",
       "      <td>0.8864</td>\n",
       "      <td>0.3014</td>\n",
       "      <td>0.5186</td>\n",
       "      <td>0.3729</td>\n",
       "      <td>0.3168</td>\n",
       "      <td>0.8677</td>\n",
       "      <td>0.6283</td>\n",
       "      <td>0.5174</td>\n",
       "      <td>0.3719</td>\n",
       "      <td>0.2486</td>\n",
       "      <td>0.1672</td>\n",
       "      <td>0.9529</td>\n",
       "      <td>0.7038</td>\n",
       "      <td>0.1153</td>\n",
       "      <td>0.0560</td>\n",
       "      <td>0.3129</td>\n",
       "    </tr>\n",
       "    <tr>\n",
       "      <th>TO_Short</th>\n",
       "      <td>0.8804</td>\n",
       "      <td>0.8819</td>\n",
       "      <td>0.5052</td>\n",
       "      <td>0.5962</td>\n",
       "      <td>0.4513</td>\n",
       "      <td>0.3740</td>\n",
       "      <td>0.8966</td>\n",
       "      <td>0.7005</td>\n",
       "      <td>0.5968</td>\n",
       "      <td>0.4524</td>\n",
       "      <td>0.1830</td>\n",
       "      <td>0.2377</td>\n",
       "      <td>0.9505</td>\n",
       "      <td>0.4906</td>\n",
       "      <td>0.0880</td>\n",
       "      <td>0.1121</td>\n",
       "      <td>0.3266</td>\n",
       "    </tr>\n",
       "  </tbody>\n",
       "</table>\n",
       "</div>"
      ],
      "text/plain": [
       "                skew  adjskew  distance  mom6x3  mom9x3  mom12x3   mom1M  \\\n",
       "ic.mean      -0.0208  -0.0232    0.0043 -0.0046 -0.0017  -0.0000 -0.0469   \n",
       "ic.t-stats   -4.6902  -5.5927    0.4000 -0.6455 -0.2177  -0.0039 -5.7243   \n",
       "AnnRet_Long  -0.0563  -0.0635    0.0194 -0.0484 -0.0347  -0.0063 -0.1594   \n",
       "AnnRet_short  0.0092   0.0284    0.0338 -0.0049 -0.0412  -0.0228  0.0362   \n",
       "AnnRet       -0.0655  -0.0919   -0.0144 -0.0435  0.0066   0.0165 -0.1956   \n",
       "SR_Long      -0.9702  -1.2841    0.1556 -0.4726 -0.3128  -0.0523 -1.4038   \n",
       "SR_Short      0.1681   0.5336    0.2204 -0.0508 -0.4735  -0.2415  0.3551   \n",
       "SR           -0.6969  -1.0640   -0.0571 -0.2580  0.0378   0.0874 -1.0598   \n",
       "TO_Long       0.8818   0.8864    0.3014  0.5186  0.3729   0.3168  0.8677   \n",
       "TO_Short      0.8804   0.8819    0.5052  0.5962  0.4513   0.3740  0.8966   \n",
       "\n",
       "               mom2M   mom3M   mom6M  turnover3M  amount3M  stddev_diff  \\\n",
       "ic.mean      -0.0503 -0.0457 -0.0384     -0.0430   -0.0421      -0.0069   \n",
       "ic.t-stats   -5.3496 -4.7678 -3.9573     -4.3850   -5.2076      -1.3862   \n",
       "AnnRet_Long  -0.1587 -0.1545 -0.1407     -0.1393   -0.1373      -0.0624   \n",
       "AnnRet_short  0.0916  0.0986  0.0874      0.1018    0.1787      -0.0490   \n",
       "AnnRet       -0.2503 -0.2531 -0.2280     -0.2411   -0.3161      -0.0134   \n",
       "SR_Long      -1.2294 -1.1370 -1.0549     -1.2448   -1.0432      -0.8368   \n",
       "SR_Short      0.7746  0.7834  0.6943      0.5594    1.1502      -0.7271   \n",
       "SR           -1.1517 -1.1040 -0.9725     -0.9043   -1.3596      -0.1174   \n",
       "TO_Long       0.6283  0.5174  0.3719      0.2486    0.1672       0.9529   \n",
       "TO_Short      0.7005  0.5968  0.4524      0.1830    0.2377       0.9505   \n",
       "\n",
       "              stddev      ep  circulating_market_cap  comp_mom12x3_to3M  \n",
       "ic.mean      -0.0397  0.0100                 -0.0182             0.0327  \n",
       "ic.t-stats   -3.5242  1.4971                 -2.1585             3.7827  \n",
       "AnnRet_Long  -0.1483  0.0282                 -0.0949             0.0380  \n",
       "AnnRet_short  0.0845  0.0152                  0.1880            -0.1401  \n",
       "AnnRet       -0.2328  0.0130                 -0.2829             0.1781  \n",
       "SR_Long      -1.3053  0.2000                 -0.6079             0.2935  \n",
       "SR_Short      0.4533  0.1488                  1.5089            -1.3748  \n",
       "SR           -0.8887  0.0713                 -1.1362             0.8916  \n",
       "TO_Long       0.7038  0.1153                  0.0560             0.3129  \n",
       "TO_Short      0.4906  0.0880                  0.1121             0.3266  "
      ]
     },
     "execution_count": 5,
     "metadata": {},
     "output_type": "execute_result"
    }
   ],
   "source": [
    "# 非行业中性化(全市场)0\n",
    "fe = FactorEvaluation(bar_data=data[bars],factor_data=data[features],freq=12,winzorize={'method':'qtile','k':0.01},standardize=True,industry_neutralize=False)\n",
    "fe.factor_data['comp_mom12x3_to3M'] = fe.factor_data['mom12x3'] - fe.factor_data['turnover3M']\n",
    "fe.get_summary(add_shift=0,start_date='2005-01-01',end_date='2022-12-31',base='close',groups=10) # forward_return: 下月收盘-本月收盘\n",
    "# fe.get_summary(add_shift=0,start_date='2010-01-01',end_date='2022-12-31',universe=high_liq,base='close-open') # forward_return: 下月收盘-下月开盘"
   ]
  },
  {
   "cell_type": "markdown",
   "metadata": {},
   "source": [
    "- 行业中性化(全市场)"
   ]
  },
  {
   "cell_type": "code",
   "execution_count": 12,
   "metadata": {
    "scrolled": true
   },
   "outputs": [
    {
     "name": "stdout",
     "output_type": "stream",
     "text": [
      "start_date:2006-01-01 / end_date:2022-12-31\n"
     ]
    },
    {
     "ename": "KeyError",
     "evalue": "\"['turnover12M_GN', 'comb_mom12x3_to3M_GN'] not in index\"",
     "output_type": "error",
     "traceback": [
      "\u001b[1;31m---------------------------------------------------------------------------\u001b[0m",
      "\u001b[1;31mKeyError\u001b[0m                                  Traceback (most recent call last)",
      "Cell \u001b[1;32mIn[12], line 4\u001b[0m\n\u001b[0;32m      2\u001b[0m fe \u001b[39m=\u001b[39m FactorEvaluation(bar_data\u001b[39m=\u001b[39mdata[bars],factor_data\u001b[39m=\u001b[39mdata[features],freq\u001b[39m=\u001b[39m\u001b[39m12\u001b[39m,winzorize\u001b[39m=\u001b[39m{\u001b[39m'\u001b[39m\u001b[39mmethod\u001b[39m\u001b[39m'\u001b[39m:\u001b[39m'\u001b[39m\u001b[39mqtile\u001b[39m\u001b[39m'\u001b[39m,\u001b[39m'\u001b[39m\u001b[39mk\u001b[39m\u001b[39m'\u001b[39m:\u001b[39m0.01\u001b[39m},standardize\u001b[39m=\u001b[39m\u001b[39mTrue\u001b[39;00m,industry_neutralize\u001b[39m=\u001b[39m\u001b[39mTrue\u001b[39;00m)\n\u001b[0;32m      3\u001b[0m fe\u001b[39m.\u001b[39mfactor_data[\u001b[39m'\u001b[39m\u001b[39mcomp_mom12x3_to3M\u001b[39m\u001b[39m'\u001b[39m] \u001b[39m=\u001b[39m fe\u001b[39m.\u001b[39mfactor_data[\u001b[39m'\u001b[39m\u001b[39mmom12x3_GN\u001b[39m\u001b[39m'\u001b[39m] \u001b[39m-\u001b[39m fe\u001b[39m.\u001b[39mfactor_data[\u001b[39m'\u001b[39m\u001b[39mturnover3M_GN\u001b[39m\u001b[39m'\u001b[39m]\n\u001b[1;32m----> 4\u001b[0m fe\u001b[39m.\u001b[39;49mget_summary(add_shift\u001b[39m=\u001b[39;49m\u001b[39m0\u001b[39;49m,start_date\u001b[39m=\u001b[39;49m\u001b[39m'\u001b[39;49m\u001b[39m2006-01-01\u001b[39;49m\u001b[39m'\u001b[39;49m,end_date\u001b[39m=\u001b[39;49m\u001b[39m'\u001b[39;49m\u001b[39m2022-12-31\u001b[39;49m\u001b[39m'\u001b[39;49m,base\u001b[39m=\u001b[39;49m\u001b[39m'\u001b[39;49m\u001b[39mclose\u001b[39;49m\u001b[39m'\u001b[39;49m,groups\u001b[39m=\u001b[39;49m\u001b[39m10\u001b[39;49m)[[\u001b[39m'\u001b[39;49m\u001b[39mmom12x3_GN\u001b[39;49m\u001b[39m'\u001b[39;49m,\u001b[39m'\u001b[39;49m\u001b[39mturnover12M_GN\u001b[39;49m\u001b[39m'\u001b[39;49m,\u001b[39m'\u001b[39;49m\u001b[39mcomb_mom12x3_to3M_GN\u001b[39;49m\u001b[39m'\u001b[39;49m]]\n",
      "File \u001b[1;32md:\\Users\\Administrator\\anaconda3\\envs\\trading\\lib\\site-packages\\pandas\\core\\frame.py:3813\u001b[0m, in \u001b[0;36mDataFrame.__getitem__\u001b[1;34m(self, key)\u001b[0m\n\u001b[0;32m   3811\u001b[0m     \u001b[39mif\u001b[39;00m is_iterator(key):\n\u001b[0;32m   3812\u001b[0m         key \u001b[39m=\u001b[39m \u001b[39mlist\u001b[39m(key)\n\u001b[1;32m-> 3813\u001b[0m     indexer \u001b[39m=\u001b[39m \u001b[39mself\u001b[39;49m\u001b[39m.\u001b[39;49mcolumns\u001b[39m.\u001b[39;49m_get_indexer_strict(key, \u001b[39m\"\u001b[39;49m\u001b[39mcolumns\u001b[39;49m\u001b[39m\"\u001b[39;49m)[\u001b[39m1\u001b[39m]\n\u001b[0;32m   3815\u001b[0m \u001b[39m# take() does not accept boolean indexers\u001b[39;00m\n\u001b[0;32m   3816\u001b[0m \u001b[39mif\u001b[39;00m \u001b[39mgetattr\u001b[39m(indexer, \u001b[39m\"\u001b[39m\u001b[39mdtype\u001b[39m\u001b[39m\"\u001b[39m, \u001b[39mNone\u001b[39;00m) \u001b[39m==\u001b[39m \u001b[39mbool\u001b[39m:\n",
      "File \u001b[1;32md:\\Users\\Administrator\\anaconda3\\envs\\trading\\lib\\site-packages\\pandas\\core\\indexes\\base.py:6070\u001b[0m, in \u001b[0;36mIndex._get_indexer_strict\u001b[1;34m(self, key, axis_name)\u001b[0m\n\u001b[0;32m   6067\u001b[0m \u001b[39melse\u001b[39;00m:\n\u001b[0;32m   6068\u001b[0m     keyarr, indexer, new_indexer \u001b[39m=\u001b[39m \u001b[39mself\u001b[39m\u001b[39m.\u001b[39m_reindex_non_unique(keyarr)\n\u001b[1;32m-> 6070\u001b[0m \u001b[39mself\u001b[39;49m\u001b[39m.\u001b[39;49m_raise_if_missing(keyarr, indexer, axis_name)\n\u001b[0;32m   6072\u001b[0m keyarr \u001b[39m=\u001b[39m \u001b[39mself\u001b[39m\u001b[39m.\u001b[39mtake(indexer)\n\u001b[0;32m   6073\u001b[0m \u001b[39mif\u001b[39;00m \u001b[39misinstance\u001b[39m(key, Index):\n\u001b[0;32m   6074\u001b[0m     \u001b[39m# GH 42790 - Preserve name from an Index\u001b[39;00m\n",
      "File \u001b[1;32md:\\Users\\Administrator\\anaconda3\\envs\\trading\\lib\\site-packages\\pandas\\core\\indexes\\base.py:6133\u001b[0m, in \u001b[0;36mIndex._raise_if_missing\u001b[1;34m(self, key, indexer, axis_name)\u001b[0m\n\u001b[0;32m   6130\u001b[0m     \u001b[39mraise\u001b[39;00m \u001b[39mKeyError\u001b[39;00m(\u001b[39mf\u001b[39m\u001b[39m\"\u001b[39m\u001b[39mNone of [\u001b[39m\u001b[39m{\u001b[39;00mkey\u001b[39m}\u001b[39;00m\u001b[39m] are in the [\u001b[39m\u001b[39m{\u001b[39;00maxis_name\u001b[39m}\u001b[39;00m\u001b[39m]\u001b[39m\u001b[39m\"\u001b[39m)\n\u001b[0;32m   6132\u001b[0m not_found \u001b[39m=\u001b[39m \u001b[39mlist\u001b[39m(ensure_index(key)[missing_mask\u001b[39m.\u001b[39mnonzero()[\u001b[39m0\u001b[39m]]\u001b[39m.\u001b[39munique())\n\u001b[1;32m-> 6133\u001b[0m \u001b[39mraise\u001b[39;00m \u001b[39mKeyError\u001b[39;00m(\u001b[39mf\u001b[39m\u001b[39m\"\u001b[39m\u001b[39m{\u001b[39;00mnot_found\u001b[39m}\u001b[39;00m\u001b[39m not in index\u001b[39m\u001b[39m\"\u001b[39m)\n",
      "\u001b[1;31mKeyError\u001b[0m: \"['turnover12M_GN', 'comb_mom12x3_to3M_GN'] not in index\""
     ]
    }
   ],
   "source": [
    "# 行业中性化(全市场)\n",
    "fe = FactorEvaluation(bar_data=data[bars],factor_data=data[features],freq=12,winzorize={'method':'qtile','k':0.01},standardize=True,industry_neutralize=True)\n",
    "fe.factor_data['comb_mom12x3_to3M_GN'] = fe.factor_data['mom12x3_GN'] - fe.factor_data['turnover3M_GN']\n",
    "fe.get_summary(add_shift=0,start_date='2006-01-01',end_date='2022-12-31',base='close',groups=10)[['mom12x3_GN','turnover3M_GN','comb_mom12x3_to3M_GN']]"
   ]
  },
  {
   "cell_type": "markdown",
   "metadata": {},
   "source": [
    "-   行业中性化因子（高流动性股票池）"
   ]
  },
  {
   "cell_type": "code",
   "execution_count": 7,
   "metadata": {},
   "outputs": [
    {
     "name": "stdout",
     "output_type": "stream",
     "text": [
      "start_date:2010-01-01 / end_date:2022-12-31\n"
     ]
    },
    {
     "data": {
      "text/html": [
       "<div>\n",
       "<style scoped>\n",
       "    .dataframe tbody tr th:only-of-type {\n",
       "        vertical-align: middle;\n",
       "    }\n",
       "\n",
       "    .dataframe tbody tr th {\n",
       "        vertical-align: top;\n",
       "    }\n",
       "\n",
       "    .dataframe thead th {\n",
       "        text-align: right;\n",
       "    }\n",
       "</style>\n",
       "<table border=\"1\" class=\"dataframe\">\n",
       "  <thead>\n",
       "    <tr style=\"text-align: right;\">\n",
       "      <th></th>\n",
       "      <th>skew_GN</th>\n",
       "      <th>adjskew_GN</th>\n",
       "      <th>distance_GN</th>\n",
       "      <th>mom6x3_GN</th>\n",
       "      <th>mom9x3_GN</th>\n",
       "      <th>mom12x3_GN</th>\n",
       "      <th>mom1M_GN</th>\n",
       "      <th>mom2M_GN</th>\n",
       "      <th>mom3M_GN</th>\n",
       "      <th>mom6M_GN</th>\n",
       "      <th>turnover3M_GN</th>\n",
       "      <th>amount3M_GN</th>\n",
       "      <th>stddev_diff_GN</th>\n",
       "      <th>stddev_GN</th>\n",
       "      <th>ep_GN</th>\n",
       "      <th>circulating_market_cap_GN</th>\n",
       "      <th>comp_mom12x3_to3M</th>\n",
       "    </tr>\n",
       "  </thead>\n",
       "  <tbody>\n",
       "    <tr>\n",
       "      <th>ic.mean</th>\n",
       "      <td>-0.0204</td>\n",
       "      <td>-0.0137</td>\n",
       "      <td>-0.0039</td>\n",
       "      <td>0.0173</td>\n",
       "      <td>0.0207</td>\n",
       "      <td>0.0230</td>\n",
       "      <td>-0.0471</td>\n",
       "      <td>-0.0486</td>\n",
       "      <td>-0.0395</td>\n",
       "      <td>-0.0173</td>\n",
       "      <td>-0.0490</td>\n",
       "      <td>-0.0210</td>\n",
       "      <td>0.0041</td>\n",
       "      <td>-0.0301</td>\n",
       "      <td>0.0340</td>\n",
       "      <td>0.0154</td>\n",
       "      <td>0.0540</td>\n",
       "    </tr>\n",
       "    <tr>\n",
       "      <th>ic.t-stats</th>\n",
       "      <td>-4.1446</td>\n",
       "      <td>-2.8240</td>\n",
       "      <td>-0.3410</td>\n",
       "      <td>2.0095</td>\n",
       "      <td>2.1907</td>\n",
       "      <td>2.3551</td>\n",
       "      <td>-5.0088</td>\n",
       "      <td>-4.6888</td>\n",
       "      <td>-3.9642</td>\n",
       "      <td>-1.6545</td>\n",
       "      <td>-4.0443</td>\n",
       "      <td>-2.7782</td>\n",
       "      <td>0.6717</td>\n",
       "      <td>-2.5441</td>\n",
       "      <td>3.5670</td>\n",
       "      <td>1.3446</td>\n",
       "      <td>5.1568</td>\n",
       "    </tr>\n",
       "    <tr>\n",
       "      <th>AnnRet_Long</th>\n",
       "      <td>-0.0642</td>\n",
       "      <td>-0.0377</td>\n",
       "      <td>0.0033</td>\n",
       "      <td>0.0294</td>\n",
       "      <td>0.0444</td>\n",
       "      <td>0.0434</td>\n",
       "      <td>-0.1322</td>\n",
       "      <td>-0.1203</td>\n",
       "      <td>-0.1065</td>\n",
       "      <td>-0.0714</td>\n",
       "      <td>-0.1418</td>\n",
       "      <td>-0.0493</td>\n",
       "      <td>-0.0438</td>\n",
       "      <td>-0.1241</td>\n",
       "      <td>0.0509</td>\n",
       "      <td>0.0335</td>\n",
       "      <td>0.0853</td>\n",
       "    </tr>\n",
       "    <tr>\n",
       "      <th>AnnRet_short</th>\n",
       "      <td>0.0336</td>\n",
       "      <td>0.0307</td>\n",
       "      <td>0.0008</td>\n",
       "      <td>-0.0482</td>\n",
       "      <td>-0.0740</td>\n",
       "      <td>-0.0639</td>\n",
       "      <td>0.0471</td>\n",
       "      <td>0.0903</td>\n",
       "      <td>0.0703</td>\n",
       "      <td>0.0060</td>\n",
       "      <td>0.0654</td>\n",
       "      <td>0.0221</td>\n",
       "      <td>-0.0644</td>\n",
       "      <td>0.0150</td>\n",
       "      <td>-0.0950</td>\n",
       "      <td>-0.0375</td>\n",
       "      <td>-0.1452</td>\n",
       "    </tr>\n",
       "    <tr>\n",
       "      <th>AnnRet</th>\n",
       "      <td>-0.0978</td>\n",
       "      <td>-0.0684</td>\n",
       "      <td>0.0025</td>\n",
       "      <td>0.0775</td>\n",
       "      <td>0.1184</td>\n",
       "      <td>0.1073</td>\n",
       "      <td>-0.1793</td>\n",
       "      <td>-0.2106</td>\n",
       "      <td>-0.1768</td>\n",
       "      <td>-0.0774</td>\n",
       "      <td>-0.2072</td>\n",
       "      <td>-0.0714</td>\n",
       "      <td>0.0206</td>\n",
       "      <td>-0.1392</td>\n",
       "      <td>0.1459</td>\n",
       "      <td>0.0710</td>\n",
       "      <td>0.2305</td>\n",
       "    </tr>\n",
       "    <tr>\n",
       "      <th>SR_Long</th>\n",
       "      <td>-1.0015</td>\n",
       "      <td>-0.7492</td>\n",
       "      <td>0.0279</td>\n",
       "      <td>0.2682</td>\n",
       "      <td>0.3843</td>\n",
       "      <td>0.3710</td>\n",
       "      <td>-1.1896</td>\n",
       "      <td>-1.0204</td>\n",
       "      <td>-0.9405</td>\n",
       "      <td>-0.5758</td>\n",
       "      <td>-1.0922</td>\n",
       "      <td>-0.4345</td>\n",
       "      <td>-0.5759</td>\n",
       "      <td>-1.0548</td>\n",
       "      <td>0.3434</td>\n",
       "      <td>0.2082</td>\n",
       "      <td>0.7441</td>\n",
       "    </tr>\n",
       "    <tr>\n",
       "      <th>SR_Short</th>\n",
       "      <td>0.5624</td>\n",
       "      <td>0.5526</td>\n",
       "      <td>0.0074</td>\n",
       "      <td>-0.6271</td>\n",
       "      <td>-0.8787</td>\n",
       "      <td>-0.8289</td>\n",
       "      <td>0.5146</td>\n",
       "      <td>0.9460</td>\n",
       "      <td>0.6993</td>\n",
       "      <td>0.0655</td>\n",
       "      <td>0.6751</td>\n",
       "      <td>0.3645</td>\n",
       "      <td>-0.8217</td>\n",
       "      <td>0.1499</td>\n",
       "      <td>-1.1369</td>\n",
       "      <td>-0.5263</td>\n",
       "      <td>-1.2063</td>\n",
       "    </tr>\n",
       "    <tr>\n",
       "      <th>SR</th>\n",
       "      <td>-1.0853</td>\n",
       "      <td>-0.7821</td>\n",
       "      <td>0.0127</td>\n",
       "      <td>0.5329</td>\n",
       "      <td>0.7427</td>\n",
       "      <td>0.6591</td>\n",
       "      <td>-1.0559</td>\n",
       "      <td>-1.1925</td>\n",
       "      <td>-1.0203</td>\n",
       "      <td>-0.4271</td>\n",
       "      <td>-1.0169</td>\n",
       "      <td>-0.5382</td>\n",
       "      <td>0.1716</td>\n",
       "      <td>-0.7099</td>\n",
       "      <td>0.8285</td>\n",
       "      <td>0.3737</td>\n",
       "      <td>1.2183</td>\n",
       "    </tr>\n",
       "    <tr>\n",
       "      <th>TO_Long</th>\n",
       "      <td>0.9034</td>\n",
       "      <td>0.9068</td>\n",
       "      <td>0.3885</td>\n",
       "      <td>0.5595</td>\n",
       "      <td>0.4276</td>\n",
       "      <td>0.3739</td>\n",
       "      <td>0.8908</td>\n",
       "      <td>0.7207</td>\n",
       "      <td>0.5926</td>\n",
       "      <td>0.4336</td>\n",
       "      <td>0.3300</td>\n",
       "      <td>0.1962</td>\n",
       "      <td>0.9742</td>\n",
       "      <td>0.7320</td>\n",
       "      <td>0.1963</td>\n",
       "      <td>0.0685</td>\n",
       "      <td>0.3691</td>\n",
       "    </tr>\n",
       "    <tr>\n",
       "      <th>TO_Short</th>\n",
       "      <td>0.9059</td>\n",
       "      <td>0.9087</td>\n",
       "      <td>0.5766</td>\n",
       "      <td>0.6421</td>\n",
       "      <td>0.5307</td>\n",
       "      <td>0.4710</td>\n",
       "      <td>0.9164</td>\n",
       "      <td>0.7609</td>\n",
       "      <td>0.6404</td>\n",
       "      <td>0.4894</td>\n",
       "      <td>0.2510</td>\n",
       "      <td>0.4390</td>\n",
       "      <td>0.9661</td>\n",
       "      <td>0.6433</td>\n",
       "      <td>0.2657</td>\n",
       "      <td>0.2669</td>\n",
       "      <td>0.4310</td>\n",
       "    </tr>\n",
       "  </tbody>\n",
       "</table>\n",
       "</div>"
      ],
      "text/plain": [
       "              skew_GN  adjskew_GN  distance_GN  mom6x3_GN  mom9x3_GN  \\\n",
       "ic.mean       -0.0204     -0.0137      -0.0039     0.0173     0.0207   \n",
       "ic.t-stats    -4.1446     -2.8240      -0.3410     2.0095     2.1907   \n",
       "AnnRet_Long   -0.0642     -0.0377       0.0033     0.0294     0.0444   \n",
       "AnnRet_short   0.0336      0.0307       0.0008    -0.0482    -0.0740   \n",
       "AnnRet        -0.0978     -0.0684       0.0025     0.0775     0.1184   \n",
       "SR_Long       -1.0015     -0.7492       0.0279     0.2682     0.3843   \n",
       "SR_Short       0.5624      0.5526       0.0074    -0.6271    -0.8787   \n",
       "SR            -1.0853     -0.7821       0.0127     0.5329     0.7427   \n",
       "TO_Long        0.9034      0.9068       0.3885     0.5595     0.4276   \n",
       "TO_Short       0.9059      0.9087       0.5766     0.6421     0.5307   \n",
       "\n",
       "              mom12x3_GN  mom1M_GN  mom2M_GN  mom3M_GN  mom6M_GN  \\\n",
       "ic.mean           0.0230   -0.0471   -0.0486   -0.0395   -0.0173   \n",
       "ic.t-stats        2.3551   -5.0088   -4.6888   -3.9642   -1.6545   \n",
       "AnnRet_Long       0.0434   -0.1322   -0.1203   -0.1065   -0.0714   \n",
       "AnnRet_short     -0.0639    0.0471    0.0903    0.0703    0.0060   \n",
       "AnnRet            0.1073   -0.1793   -0.2106   -0.1768   -0.0774   \n",
       "SR_Long           0.3710   -1.1896   -1.0204   -0.9405   -0.5758   \n",
       "SR_Short         -0.8289    0.5146    0.9460    0.6993    0.0655   \n",
       "SR                0.6591   -1.0559   -1.1925   -1.0203   -0.4271   \n",
       "TO_Long           0.3739    0.8908    0.7207    0.5926    0.4336   \n",
       "TO_Short          0.4710    0.9164    0.7609    0.6404    0.4894   \n",
       "\n",
       "              turnover3M_GN  amount3M_GN  stddev_diff_GN  stddev_GN   ep_GN  \\\n",
       "ic.mean             -0.0490      -0.0210          0.0041    -0.0301  0.0340   \n",
       "ic.t-stats          -4.0443      -2.7782          0.6717    -2.5441  3.5670   \n",
       "AnnRet_Long         -0.1418      -0.0493         -0.0438    -0.1241  0.0509   \n",
       "AnnRet_short         0.0654       0.0221         -0.0644     0.0150 -0.0950   \n",
       "AnnRet              -0.2072      -0.0714          0.0206    -0.1392  0.1459   \n",
       "SR_Long             -1.0922      -0.4345         -0.5759    -1.0548  0.3434   \n",
       "SR_Short             0.6751       0.3645         -0.8217     0.1499 -1.1369   \n",
       "SR                  -1.0169      -0.5382          0.1716    -0.7099  0.8285   \n",
       "TO_Long              0.3300       0.1962          0.9742     0.7320  0.1963   \n",
       "TO_Short             0.2510       0.4390          0.9661     0.6433  0.2657   \n",
       "\n",
       "              circulating_market_cap_GN  comp_mom12x3_to3M  \n",
       "ic.mean                          0.0154             0.0540  \n",
       "ic.t-stats                       1.3446             5.1568  \n",
       "AnnRet_Long                      0.0335             0.0853  \n",
       "AnnRet_short                    -0.0375            -0.1452  \n",
       "AnnRet                           0.0710             0.2305  \n",
       "SR_Long                          0.2082             0.7441  \n",
       "SR_Short                        -0.5263            -1.2063  \n",
       "SR                               0.3737             1.2183  \n",
       "TO_Long                          0.0685             0.3691  \n",
       "TO_Short                         0.2669             0.4310  "
      ]
     },
     "execution_count": 7,
     "metadata": {},
     "output_type": "execute_result"
    }
   ],
   "source": [
    "# 行业中性化因子（高流动性股票池）\n",
    "fe = FactorEvaluation(bar_data=data[bars],factor_data=data[features],freq=12,winzorize={'method':'qtile','k':0.01},standardize=True,industry_neutralize=True)\n",
    "fe.factor_data['comp_mom12x3_to3M'] = fe.factor_data['mom12x3_GN'] - fe.factor_data['turnover3M_GN']\n",
    "fe.get_summary(add_shift=0,start_date='2010-01-01',universe=high_liq,end_date='2022-12-31',base='close',groups=10) # forward_return: 下月收盘-本月收盘"
   ]
  },
  {
   "cell_type": "markdown",
   "metadata": {},
   "source": [
    "# double sort (mom12x3 - turnover3M) universe = high liquidity"
   ]
  },
  {
   "cell_type": "markdown",
   "metadata": {},
   "source": [
    "-   row data(3x3)"
   ]
  },
  {
   "cell_type": "code",
   "execution_count": 8,
   "metadata": {},
   "outputs": [
    {
     "name": "stdout",
     "output_type": "stream",
     "text": [
      "avg_annual_excess_return_eq(%)_with_mkt=3.82% \n",
      " turnover3M     1     2      3\n",
      "mom12x3                      \n",
      "1          -2.23 -3.48 -10.41\n",
      "2           4.45  2.21  -5.51\n",
      "3           8.90  7.08  -1.30\n",
      "avg_anual_excess_return_cap(%)_with_mkt=3.44% \n",
      " turnover3M     1     2      3\n",
      "mom12x3                      \n",
      "1          -3.61 -5.93 -13.23\n",
      "2           4.97  0.59  -8.93\n",
      "3           3.48  3.61  -3.97\n",
      "avg_number_of_stocks \n",
      " turnover3M       1       2       3\n",
      "mom12x3                           \n",
      "1           118.65  105.60   95.44\n",
      "2           113.63  106.21   99.19\n",
      "3            87.41  107.21  124.69\n"
     ]
    }
   ],
   "source": [
    "fe = FactorEvaluation(bar_data=data[bars],factor_data=data[features],freq=12,winzorize={'method':'qtile','k':0.01},standardize=True,industry_neutralize=False)\n",
    "mft = MultiFactorTesting(bar_data=data.dropna()[bars],market_cap_col='circulating_market_cap',universe=high_liq,factor_data=fe.factor_data[['mom12x3','turnover3M']],add_shift=0)\n",
    "summary = mft.summary(quantiles=3)\n",
    "for i in list(summary.keys())[:2]+['avg_number_of_stocks']:print(i,'\\n',summary[i])"
   ]
  },
  {
   "cell_type": "markdown",
   "metadata": {},
   "source": [
    "-   raw data(5x5) "
   ]
  },
  {
   "cell_type": "code",
   "execution_count": 9,
   "metadata": {},
   "outputs": [
    {
     "name": "stdout",
     "output_type": "stream",
     "text": [
      "avg_annual_excess_return_eq(%)_with_mkt=3.82% \n",
      " turnover3M      1      2      3     4      5\n",
      "mom12x3                                     \n",
      "1           -4.96  -4.31  -5.19 -7.83 -17.02\n",
      "2            1.73   0.93   1.05 -2.19  -8.25\n",
      "3            6.20   1.24  -0.19 -1.01  -8.84\n",
      "4            5.19   6.55   1.74  0.45  -5.37\n",
      "5           12.28  12.73  10.25  5.86  -4.11\n",
      "avg_anual_excess_return_cap(%)_with_mkt=3.44% \n",
      " turnover3M     1      2     3     4          5\n",
      "mom12x3                                       \n",
      "1          -5.92  -6.53 -7.75 -9.68 -18.879999\n",
      "2           0.15  -0.88 -0.01 -4.13 -12.730000\n",
      "3           7.06  -3.29 -2.99 -5.42 -11.960000\n",
      "4           2.87   4.09 -2.26 -3.29  -9.000000\n",
      "5           5.37  11.20  5.55  1.66  -8.760000\n",
      "avg_number_of_stocks \n",
      " turnover3M      1      2      3      4      5\n",
      "mom12x3                                      \n",
      "1           41.01  40.63  38.82  36.54  34.99\n",
      "2           47.77  39.93  37.61  34.96  31.10\n",
      "3           42.30  38.57  38.32  36.70  35.56\n",
      "4           36.08  38.06  38.40  39.59  39.24\n",
      "5           24.84  34.17  38.30  43.58  50.97\n"
     ]
    }
   ],
   "source": [
    "summary = mft.summary(quantiles=5)\n",
    "for i in list(summary.keys())[:2]+['avg_number_of_stocks']:print(i,'\\n',summary[i])"
   ]
  },
  {
   "cell_type": "markdown",
   "metadata": {},
   "source": [
    "-   industry nutrualized data(3x3)\n"
   ]
  },
  {
   "cell_type": "code",
   "execution_count": 10,
   "metadata": {},
   "outputs": [
    {
     "name": "stdout",
     "output_type": "stream",
     "text": [
      "avg_annual_excess_return_eq(%)_with_mkt=3.82% \n",
      " turnover3M_GN     1     2     3\n",
      "mom12x3_GN                     \n",
      "1             -2.02 -1.16 -9.40\n",
      "2              4.90  2.44 -6.22\n",
      "3              8.97  5.49 -1.52\n",
      "avg_anual_excess_return_cap(%)_with_mkt=3.44% \n",
      " turnover3M_GN     1     2      3\n",
      "mom12x3_GN                      \n",
      "1             -3.02 -3.05 -12.47\n",
      "2              4.10  2.33 -10.12\n",
      "3              5.22  1.86  -3.82\n",
      "avg_number_of_stocks \n",
      " turnover3M_GN       1       2       3\n",
      "mom12x3_GN                           \n",
      "1              113.11  102.60   95.60\n",
      "2              109.47  108.87   92.28\n",
      "3               88.73   99.15  123.02\n"
     ]
    }
   ],
   "source": [
    "fe = FactorEvaluation(bar_data=data[bars],factor_data=data[features],freq=12,winzorize={'method':'qtile','k':0.01},standardize=True,industry_neutralize=True)\n",
    "mft = MultiFactorTesting(bar_data=data.dropna()[bars],market_cap_col='circulating_market_cap',universe=high_liq,factor_data=fe.factor_data[['mom12x3_GN','turnover3M_GN']],add_shift=0)\n",
    "summary = mft.summary(quantiles=3)\n",
    "for i in list(summary.keys())[:2]+['avg_number_of_stocks']:print(i,'\\n',summary[i])"
   ]
  },
  {
   "cell_type": "markdown",
   "metadata": {},
   "source": [
    "-  industry nutrualized data(5x5)\n"
   ]
  },
  {
   "cell_type": "code",
   "execution_count": 11,
   "metadata": {},
   "outputs": [
    {
     "name": "stdout",
     "output_type": "stream",
     "text": [
      "avg_annual_excess_return_eq(%)_with_mkt=3.82% \n",
      " turnover3M_GN      1     2     3     4      5\n",
      "mom12x3_GN                                   \n",
      "1              -1.74 -1.96 -2.98 -5.05 -11.48\n",
      "2               2.02 -2.34  0.45 -2.87 -10.43\n",
      "3               7.64  3.59  2.46 -3.03  -8.62\n",
      "4               4.62  6.95  3.69 -1.38  -4.45\n",
      "5              14.53  9.65  5.32  6.83  -5.17\n",
      "avg_anual_excess_return_cap(%)_with_mkt=3.44% \n",
      " turnover3M_GN     1     2     3     4      5\n",
      "mom12x3_GN                                  \n",
      "1             -1.87 -3.33 -4.61 -6.34 -15.61\n",
      "2             -0.31 -5.02 -0.44 -7.11 -16.77\n",
      "3              5.91  1.22  0.38 -8.10  -9.42\n",
      "4              2.16  8.88  3.39 -6.53  -8.33\n",
      "5              7.90  6.50  2.81  3.47  -8.48\n",
      "avg_number_of_stocks \n",
      " turnover3M_GN      1      2      3      4      5\n",
      "mom12x3_GN                                      \n",
      "1              40.69  37.04  35.82  37.23  36.21\n",
      "2              42.83  41.31  38.59  33.50  30.13\n",
      "3              38.70  41.00  39.81  34.83  32.00\n",
      "4              36.06  36.10  37.94  38.43  37.84\n",
      "5              28.71  30.96  34.12  42.38  50.62\n"
     ]
    }
   ],
   "source": [
    "summary = mft.summary(quantiles=5)\n",
    "for i in list(summary.keys())[:2]+['avg_number_of_stocks']:print(i,'\\n',summary[i])"
   ]
  },
  {
   "cell_type": "markdown",
   "metadata": {},
   "source": [
    "# details of mom12x3_GN\n",
    "收益曲线和表格指标，均是针对超额收益，benchmark用的是equal weighted"
   ]
  },
  {
   "cell_type": "code",
   "execution_count": 17,
   "metadata": {},
   "outputs": [
    {
     "data": {
      "text/plain": [
       "['skew_GN',\n",
       " 'adjskew_GN',\n",
       " 'distance_GN',\n",
       " 'mom6x3_GN',\n",
       " 'mom9x3_GN',\n",
       " 'mom12x3_GN',\n",
       " 'mom1M_GN',\n",
       " 'mom2M_GN',\n",
       " 'mom3M_GN',\n",
       " 'mom6M_GN',\n",
       " 'turnover3M_GN',\n",
       " 'amount3M_GN',\n",
       " 'stddev_diff_GN',\n",
       " 'stddev_GN',\n",
       " 'ep_GN',\n",
       " 'circulating_market_cap_GN',\n",
       " 'comp_mom12x3_to3M']"
      ]
     },
     "execution_count": 17,
     "metadata": {},
     "output_type": "execute_result"
    }
   ],
   "source": [
    "fe.all_factors"
   ]
  },
  {
   "cell_type": "code",
   "execution_count": 9,
   "metadata": {
    "scrolled": false
   },
   "outputs": [
    {
     "data": {
      "application/vnd.plotly.v1+json": {
       "config": {
        "plotlyServerURL": "https://plot.ly"
       },
       "data": [
        {
         "alignmentgroup": "True",
         "hovertemplate": "variable=0<br>index=%{x}<br>value=%{y}<extra></extra>",
         "legendgroup": "0",
         "marker": {
          "color": "#636efa",
          "pattern": {
           "shape": ""
          }
         },
         "name": "0",
         "offsetgroup": "0",
         "orientation": "v",
         "showlegend": true,
         "textposition": "auto",
         "type": "bar",
         "x": [
          "comp_mom12x3_to3M_L-4",
          "comp_mom12x3_to3M_L-3",
          "comp_mom12x3_to3M_L-2",
          "comp_mom12x3_to3M_L-1",
          "comp_mom12x3_to3M_L0",
          "comp_mom12x3_to3M_L1",
          "comp_mom12x3_to3M_L2",
          "comp_mom12x3_to3M_L3",
          "comp_mom12x3_to3M_L4",
          "comp_mom12x3_to3M_L5",
          "comp_mom12x3_to3M_L6",
          "comp_mom12x3_to3M_L7",
          "comp_mom12x3_to3M_L8",
          "comp_mom12x3_to3M_L9",
          "comp_mom12x3_to3M_L10",
          "comp_mom12x3_to3M_L11",
          "comp_mom12x3_to3M_L12"
         ],
         "xaxis": "x",
         "y": [
          0.12403588893081112,
          -0.20353917258108295,
          -0.13879289651416093,
          -0.023393737763558534,
          null,
          0.04710055814625234,
          0.02653428160809661,
          0.01682075314662098,
          0.010773847141144462,
          0.008164941700585265,
          0.0019747421985841637,
          0.0009508411791879017,
          -0.00048197177912440614,
          -0.005151750412182942,
          -0.007270643213146177,
          -0.0037765081739220426,
          -0.0020567678110407113
         ],
         "yaxis": "y"
        }
       ],
       "layout": {
        "barmode": "relative",
        "legend": {
         "title": {
          "text": "variable"
         },
         "tracegroupgap": 0
        },
        "template": {
         "data": {
          "bar": [
           {
            "error_x": {
             "color": "#2a3f5f"
            },
            "error_y": {
             "color": "#2a3f5f"
            },
            "marker": {
             "line": {
              "color": "#E5ECF6",
              "width": 0.5
             },
             "pattern": {
              "fillmode": "overlay",
              "size": 10,
              "solidity": 0.2
             }
            },
            "type": "bar"
           }
          ],
          "barpolar": [
           {
            "marker": {
             "line": {
              "color": "#E5ECF6",
              "width": 0.5
             },
             "pattern": {
              "fillmode": "overlay",
              "size": 10,
              "solidity": 0.2
             }
            },
            "type": "barpolar"
           }
          ],
          "carpet": [
           {
            "aaxis": {
             "endlinecolor": "#2a3f5f",
             "gridcolor": "white",
             "linecolor": "white",
             "minorgridcolor": "white",
             "startlinecolor": "#2a3f5f"
            },
            "baxis": {
             "endlinecolor": "#2a3f5f",
             "gridcolor": "white",
             "linecolor": "white",
             "minorgridcolor": "white",
             "startlinecolor": "#2a3f5f"
            },
            "type": "carpet"
           }
          ],
          "choropleth": [
           {
            "colorbar": {
             "outlinewidth": 0,
             "ticks": ""
            },
            "type": "choropleth"
           }
          ],
          "contour": [
           {
            "colorbar": {
             "outlinewidth": 0,
             "ticks": ""
            },
            "colorscale": [
             [
              0,
              "#0d0887"
             ],
             [
              0.1111111111111111,
              "#46039f"
             ],
             [
              0.2222222222222222,
              "#7201a8"
             ],
             [
              0.3333333333333333,
              "#9c179e"
             ],
             [
              0.4444444444444444,
              "#bd3786"
             ],
             [
              0.5555555555555556,
              "#d8576b"
             ],
             [
              0.6666666666666666,
              "#ed7953"
             ],
             [
              0.7777777777777778,
              "#fb9f3a"
             ],
             [
              0.8888888888888888,
              "#fdca26"
             ],
             [
              1,
              "#f0f921"
             ]
            ],
            "type": "contour"
           }
          ],
          "contourcarpet": [
           {
            "colorbar": {
             "outlinewidth": 0,
             "ticks": ""
            },
            "type": "contourcarpet"
           }
          ],
          "heatmap": [
           {
            "colorbar": {
             "outlinewidth": 0,
             "ticks": ""
            },
            "colorscale": [
             [
              0,
              "#0d0887"
             ],
             [
              0.1111111111111111,
              "#46039f"
             ],
             [
              0.2222222222222222,
              "#7201a8"
             ],
             [
              0.3333333333333333,
              "#9c179e"
             ],
             [
              0.4444444444444444,
              "#bd3786"
             ],
             [
              0.5555555555555556,
              "#d8576b"
             ],
             [
              0.6666666666666666,
              "#ed7953"
             ],
             [
              0.7777777777777778,
              "#fb9f3a"
             ],
             [
              0.8888888888888888,
              "#fdca26"
             ],
             [
              1,
              "#f0f921"
             ]
            ],
            "type": "heatmap"
           }
          ],
          "heatmapgl": [
           {
            "colorbar": {
             "outlinewidth": 0,
             "ticks": ""
            },
            "colorscale": [
             [
              0,
              "#0d0887"
             ],
             [
              0.1111111111111111,
              "#46039f"
             ],
             [
              0.2222222222222222,
              "#7201a8"
             ],
             [
              0.3333333333333333,
              "#9c179e"
             ],
             [
              0.4444444444444444,
              "#bd3786"
             ],
             [
              0.5555555555555556,
              "#d8576b"
             ],
             [
              0.6666666666666666,
              "#ed7953"
             ],
             [
              0.7777777777777778,
              "#fb9f3a"
             ],
             [
              0.8888888888888888,
              "#fdca26"
             ],
             [
              1,
              "#f0f921"
             ]
            ],
            "type": "heatmapgl"
           }
          ],
          "histogram": [
           {
            "marker": {
             "pattern": {
              "fillmode": "overlay",
              "size": 10,
              "solidity": 0.2
             }
            },
            "type": "histogram"
           }
          ],
          "histogram2d": [
           {
            "colorbar": {
             "outlinewidth": 0,
             "ticks": ""
            },
            "colorscale": [
             [
              0,
              "#0d0887"
             ],
             [
              0.1111111111111111,
              "#46039f"
             ],
             [
              0.2222222222222222,
              "#7201a8"
             ],
             [
              0.3333333333333333,
              "#9c179e"
             ],
             [
              0.4444444444444444,
              "#bd3786"
             ],
             [
              0.5555555555555556,
              "#d8576b"
             ],
             [
              0.6666666666666666,
              "#ed7953"
             ],
             [
              0.7777777777777778,
              "#fb9f3a"
             ],
             [
              0.8888888888888888,
              "#fdca26"
             ],
             [
              1,
              "#f0f921"
             ]
            ],
            "type": "histogram2d"
           }
          ],
          "histogram2dcontour": [
           {
            "colorbar": {
             "outlinewidth": 0,
             "ticks": ""
            },
            "colorscale": [
             [
              0,
              "#0d0887"
             ],
             [
              0.1111111111111111,
              "#46039f"
             ],
             [
              0.2222222222222222,
              "#7201a8"
             ],
             [
              0.3333333333333333,
              "#9c179e"
             ],
             [
              0.4444444444444444,
              "#bd3786"
             ],
             [
              0.5555555555555556,
              "#d8576b"
             ],
             [
              0.6666666666666666,
              "#ed7953"
             ],
             [
              0.7777777777777778,
              "#fb9f3a"
             ],
             [
              0.8888888888888888,
              "#fdca26"
             ],
             [
              1,
              "#f0f921"
             ]
            ],
            "type": "histogram2dcontour"
           }
          ],
          "mesh3d": [
           {
            "colorbar": {
             "outlinewidth": 0,
             "ticks": ""
            },
            "type": "mesh3d"
           }
          ],
          "parcoords": [
           {
            "line": {
             "colorbar": {
              "outlinewidth": 0,
              "ticks": ""
             }
            },
            "type": "parcoords"
           }
          ],
          "pie": [
           {
            "automargin": true,
            "type": "pie"
           }
          ],
          "scatter": [
           {
            "fillpattern": {
             "fillmode": "overlay",
             "size": 10,
             "solidity": 0.2
            },
            "type": "scatter"
           }
          ],
          "scatter3d": [
           {
            "line": {
             "colorbar": {
              "outlinewidth": 0,
              "ticks": ""
             }
            },
            "marker": {
             "colorbar": {
              "outlinewidth": 0,
              "ticks": ""
             }
            },
            "type": "scatter3d"
           }
          ],
          "scattercarpet": [
           {
            "marker": {
             "colorbar": {
              "outlinewidth": 0,
              "ticks": ""
             }
            },
            "type": "scattercarpet"
           }
          ],
          "scattergeo": [
           {
            "marker": {
             "colorbar": {
              "outlinewidth": 0,
              "ticks": ""
             }
            },
            "type": "scattergeo"
           }
          ],
          "scattergl": [
           {
            "marker": {
             "colorbar": {
              "outlinewidth": 0,
              "ticks": ""
             }
            },
            "type": "scattergl"
           }
          ],
          "scattermapbox": [
           {
            "marker": {
             "colorbar": {
              "outlinewidth": 0,
              "ticks": ""
             }
            },
            "type": "scattermapbox"
           }
          ],
          "scatterpolar": [
           {
            "marker": {
             "colorbar": {
              "outlinewidth": 0,
              "ticks": ""
             }
            },
            "type": "scatterpolar"
           }
          ],
          "scatterpolargl": [
           {
            "marker": {
             "colorbar": {
              "outlinewidth": 0,
              "ticks": ""
             }
            },
            "type": "scatterpolargl"
           }
          ],
          "scatterternary": [
           {
            "marker": {
             "colorbar": {
              "outlinewidth": 0,
              "ticks": ""
             }
            },
            "type": "scatterternary"
           }
          ],
          "surface": [
           {
            "colorbar": {
             "outlinewidth": 0,
             "ticks": ""
            },
            "colorscale": [
             [
              0,
              "#0d0887"
             ],
             [
              0.1111111111111111,
              "#46039f"
             ],
             [
              0.2222222222222222,
              "#7201a8"
             ],
             [
              0.3333333333333333,
              "#9c179e"
             ],
             [
              0.4444444444444444,
              "#bd3786"
             ],
             [
              0.5555555555555556,
              "#d8576b"
             ],
             [
              0.6666666666666666,
              "#ed7953"
             ],
             [
              0.7777777777777778,
              "#fb9f3a"
             ],
             [
              0.8888888888888888,
              "#fdca26"
             ],
             [
              1,
              "#f0f921"
             ]
            ],
            "type": "surface"
           }
          ],
          "table": [
           {
            "cells": {
             "fill": {
              "color": "#EBF0F8"
             },
             "line": {
              "color": "white"
             }
            },
            "header": {
             "fill": {
              "color": "#C8D4E3"
             },
             "line": {
              "color": "white"
             }
            },
            "type": "table"
           }
          ]
         },
         "layout": {
          "annotationdefaults": {
           "arrowcolor": "#2a3f5f",
           "arrowhead": 0,
           "arrowwidth": 1
          },
          "autotypenumbers": "strict",
          "coloraxis": {
           "colorbar": {
            "outlinewidth": 0,
            "ticks": ""
           }
          },
          "colorscale": {
           "diverging": [
            [
             0,
             "#8e0152"
            ],
            [
             0.1,
             "#c51b7d"
            ],
            [
             0.2,
             "#de77ae"
            ],
            [
             0.3,
             "#f1b6da"
            ],
            [
             0.4,
             "#fde0ef"
            ],
            [
             0.5,
             "#f7f7f7"
            ],
            [
             0.6,
             "#e6f5d0"
            ],
            [
             0.7,
             "#b8e186"
            ],
            [
             0.8,
             "#7fbc41"
            ],
            [
             0.9,
             "#4d9221"
            ],
            [
             1,
             "#276419"
            ]
           ],
           "sequential": [
            [
             0,
             "#0d0887"
            ],
            [
             0.1111111111111111,
             "#46039f"
            ],
            [
             0.2222222222222222,
             "#7201a8"
            ],
            [
             0.3333333333333333,
             "#9c179e"
            ],
            [
             0.4444444444444444,
             "#bd3786"
            ],
            [
             0.5555555555555556,
             "#d8576b"
            ],
            [
             0.6666666666666666,
             "#ed7953"
            ],
            [
             0.7777777777777778,
             "#fb9f3a"
            ],
            [
             0.8888888888888888,
             "#fdca26"
            ],
            [
             1,
             "#f0f921"
            ]
           ],
           "sequentialminus": [
            [
             0,
             "#0d0887"
            ],
            [
             0.1111111111111111,
             "#46039f"
            ],
            [
             0.2222222222222222,
             "#7201a8"
            ],
            [
             0.3333333333333333,
             "#9c179e"
            ],
            [
             0.4444444444444444,
             "#bd3786"
            ],
            [
             0.5555555555555556,
             "#d8576b"
            ],
            [
             0.6666666666666666,
             "#ed7953"
            ],
            [
             0.7777777777777778,
             "#fb9f3a"
            ],
            [
             0.8888888888888888,
             "#fdca26"
            ],
            [
             1,
             "#f0f921"
            ]
           ]
          },
          "colorway": [
           "#636efa",
           "#EF553B",
           "#00cc96",
           "#ab63fa",
           "#FFA15A",
           "#19d3f3",
           "#FF6692",
           "#B6E880",
           "#FF97FF",
           "#FECB52"
          ],
          "font": {
           "color": "#2a3f5f"
          },
          "geo": {
           "bgcolor": "white",
           "lakecolor": "white",
           "landcolor": "#E5ECF6",
           "showlakes": true,
           "showland": true,
           "subunitcolor": "white"
          },
          "hoverlabel": {
           "align": "left"
          },
          "hovermode": "closest",
          "mapbox": {
           "style": "light"
          },
          "paper_bgcolor": "white",
          "plot_bgcolor": "#E5ECF6",
          "polar": {
           "angularaxis": {
            "gridcolor": "white",
            "linecolor": "white",
            "ticks": ""
           },
           "bgcolor": "#E5ECF6",
           "radialaxis": {
            "gridcolor": "white",
            "linecolor": "white",
            "ticks": ""
           }
          },
          "scene": {
           "xaxis": {
            "backgroundcolor": "#E5ECF6",
            "gridcolor": "white",
            "gridwidth": 2,
            "linecolor": "white",
            "showbackground": true,
            "ticks": "",
            "zerolinecolor": "white"
           },
           "yaxis": {
            "backgroundcolor": "#E5ECF6",
            "gridcolor": "white",
            "gridwidth": 2,
            "linecolor": "white",
            "showbackground": true,
            "ticks": "",
            "zerolinecolor": "white"
           },
           "zaxis": {
            "backgroundcolor": "#E5ECF6",
            "gridcolor": "white",
            "gridwidth": 2,
            "linecolor": "white",
            "showbackground": true,
            "ticks": "",
            "zerolinecolor": "white"
           }
          },
          "shapedefaults": {
           "line": {
            "color": "#2a3f5f"
           }
          },
          "ternary": {
           "aaxis": {
            "gridcolor": "white",
            "linecolor": "white",
            "ticks": ""
           },
           "baxis": {
            "gridcolor": "white",
            "linecolor": "white",
            "ticks": ""
           },
           "bgcolor": "#E5ECF6",
           "caxis": {
            "gridcolor": "white",
            "linecolor": "white",
            "ticks": ""
           }
          },
          "title": {
           "x": 0.05
          },
          "xaxis": {
           "automargin": true,
           "gridcolor": "white",
           "linecolor": "white",
           "ticks": "",
           "title": {
            "standoff": 15
           },
           "zerolinecolor": "white",
           "zerolinewidth": 2
          },
          "yaxis": {
           "automargin": true,
           "gridcolor": "white",
           "linecolor": "white",
           "ticks": "",
           "title": {
            "standoff": 15
           },
           "zerolinecolor": "white",
           "zerolinewidth": 2
          }
         }
        },
        "title": {
         "text": "ic decay"
        },
        "xaxis": {
         "anchor": "y",
         "domain": [
          0,
          1
         ],
         "title": {
          "text": "index"
         }
        },
        "yaxis": {
         "anchor": "x",
         "domain": [
          0,
          1
         ],
         "title": {
          "text": "value"
         }
        }
       }
      }
     },
     "metadata": {},
     "output_type": "display_data"
    },
    {
     "data": {
      "application/vnd.plotly.v1+json": {
       "config": {
        "plotlyServerURL": "https://plot.ly"
       },
       "data": [
        {
         "name": "ic_ma12",
         "type": "scatter",
         "x": [
          "2006-01-31T00:00:00",
          "2006-02-28T00:00:00",
          "2006-03-31T00:00:00",
          "2006-04-30T00:00:00",
          "2006-05-31T00:00:00",
          "2006-06-30T00:00:00",
          "2006-07-31T00:00:00",
          "2006-08-31T00:00:00",
          "2006-09-30T00:00:00",
          "2006-10-31T00:00:00",
          "2006-11-30T00:00:00",
          "2006-12-31T00:00:00",
          "2007-01-31T00:00:00",
          "2007-02-28T00:00:00",
          "2007-03-31T00:00:00",
          "2007-04-30T00:00:00",
          "2007-05-31T00:00:00",
          "2007-06-30T00:00:00",
          "2007-07-31T00:00:00",
          "2007-08-31T00:00:00",
          "2007-09-30T00:00:00",
          "2007-10-31T00:00:00",
          "2007-11-30T00:00:00",
          "2007-12-31T00:00:00",
          "2008-01-31T00:00:00",
          "2008-02-29T00:00:00",
          "2008-03-31T00:00:00",
          "2008-04-30T00:00:00",
          "2008-05-31T00:00:00",
          "2008-06-30T00:00:00",
          "2008-07-31T00:00:00",
          "2008-08-31T00:00:00",
          "2008-09-30T00:00:00",
          "2008-10-31T00:00:00",
          "2008-11-30T00:00:00",
          "2008-12-31T00:00:00",
          "2009-01-31T00:00:00",
          "2009-02-28T00:00:00",
          "2009-03-31T00:00:00",
          "2009-04-30T00:00:00",
          "2009-05-31T00:00:00",
          "2009-06-30T00:00:00",
          "2009-07-31T00:00:00",
          "2009-08-31T00:00:00",
          "2009-09-30T00:00:00",
          "2009-10-31T00:00:00",
          "2009-11-30T00:00:00",
          "2009-12-31T00:00:00",
          "2010-01-31T00:00:00",
          "2010-02-28T00:00:00",
          "2010-03-31T00:00:00",
          "2010-04-30T00:00:00",
          "2010-05-31T00:00:00",
          "2010-06-30T00:00:00",
          "2010-07-31T00:00:00",
          "2010-08-31T00:00:00",
          "2010-09-30T00:00:00",
          "2010-10-31T00:00:00",
          "2010-11-30T00:00:00",
          "2010-12-31T00:00:00",
          "2011-01-31T00:00:00",
          "2011-02-28T00:00:00",
          "2011-03-31T00:00:00",
          "2011-04-30T00:00:00",
          "2011-05-31T00:00:00",
          "2011-06-30T00:00:00",
          "2011-07-31T00:00:00",
          "2011-08-31T00:00:00",
          "2011-09-30T00:00:00",
          "2011-10-31T00:00:00",
          "2011-11-30T00:00:00",
          "2011-12-31T00:00:00",
          "2012-01-31T00:00:00",
          "2012-02-29T00:00:00",
          "2012-03-31T00:00:00",
          "2012-04-30T00:00:00",
          "2012-05-31T00:00:00",
          "2012-06-30T00:00:00",
          "2012-07-31T00:00:00",
          "2012-08-31T00:00:00",
          "2012-09-30T00:00:00",
          "2012-10-31T00:00:00",
          "2012-11-30T00:00:00",
          "2012-12-31T00:00:00",
          "2013-01-31T00:00:00",
          "2013-02-28T00:00:00",
          "2013-03-31T00:00:00",
          "2013-04-30T00:00:00",
          "2013-05-31T00:00:00",
          "2013-06-30T00:00:00",
          "2013-07-31T00:00:00",
          "2013-08-31T00:00:00",
          "2013-09-30T00:00:00",
          "2013-10-31T00:00:00",
          "2013-11-30T00:00:00",
          "2013-12-31T00:00:00",
          "2014-01-31T00:00:00",
          "2014-02-28T00:00:00",
          "2014-03-31T00:00:00",
          "2014-04-30T00:00:00",
          "2014-05-31T00:00:00",
          "2014-06-30T00:00:00",
          "2014-07-31T00:00:00",
          "2014-08-31T00:00:00",
          "2014-09-30T00:00:00",
          "2014-10-31T00:00:00",
          "2014-11-30T00:00:00",
          "2014-12-31T00:00:00",
          "2015-01-31T00:00:00",
          "2015-02-28T00:00:00",
          "2015-03-31T00:00:00",
          "2015-04-30T00:00:00",
          "2015-05-31T00:00:00",
          "2015-06-30T00:00:00",
          "2015-07-31T00:00:00",
          "2015-08-31T00:00:00",
          "2015-09-30T00:00:00",
          "2015-10-31T00:00:00",
          "2015-11-30T00:00:00",
          "2015-12-31T00:00:00",
          "2016-01-31T00:00:00",
          "2016-02-29T00:00:00",
          "2016-03-31T00:00:00",
          "2016-04-30T00:00:00",
          "2016-05-31T00:00:00",
          "2016-06-30T00:00:00",
          "2016-07-31T00:00:00",
          "2016-08-31T00:00:00",
          "2016-09-30T00:00:00",
          "2016-10-31T00:00:00",
          "2016-11-30T00:00:00",
          "2016-12-31T00:00:00",
          "2017-01-31T00:00:00",
          "2017-02-28T00:00:00",
          "2017-03-31T00:00:00",
          "2017-04-30T00:00:00",
          "2017-05-31T00:00:00",
          "2017-06-30T00:00:00",
          "2017-07-31T00:00:00",
          "2017-08-31T00:00:00",
          "2017-09-30T00:00:00",
          "2017-10-31T00:00:00",
          "2017-11-30T00:00:00",
          "2017-12-31T00:00:00",
          "2018-01-31T00:00:00",
          "2018-02-28T00:00:00",
          "2018-03-31T00:00:00",
          "2018-04-30T00:00:00",
          "2018-05-31T00:00:00",
          "2018-06-30T00:00:00",
          "2018-07-31T00:00:00",
          "2018-08-31T00:00:00",
          "2018-09-30T00:00:00",
          "2018-10-31T00:00:00",
          "2018-11-30T00:00:00",
          "2018-12-31T00:00:00",
          "2019-01-31T00:00:00",
          "2019-02-28T00:00:00",
          "2019-03-31T00:00:00",
          "2019-04-30T00:00:00",
          "2019-05-31T00:00:00",
          "2019-06-30T00:00:00",
          "2019-07-31T00:00:00",
          "2019-08-31T00:00:00",
          "2019-09-30T00:00:00",
          "2019-10-31T00:00:00",
          "2019-11-30T00:00:00",
          "2019-12-31T00:00:00",
          "2020-01-31T00:00:00",
          "2020-02-29T00:00:00",
          "2020-03-31T00:00:00",
          "2020-04-30T00:00:00",
          "2020-05-31T00:00:00",
          "2020-06-30T00:00:00",
          "2020-07-31T00:00:00",
          "2020-08-31T00:00:00",
          "2020-09-30T00:00:00",
          "2020-10-31T00:00:00",
          "2020-11-30T00:00:00",
          "2020-12-31T00:00:00",
          "2021-01-31T00:00:00",
          "2021-02-28T00:00:00",
          "2021-03-31T00:00:00",
          "2021-04-30T00:00:00",
          "2021-05-31T00:00:00",
          "2021-06-30T00:00:00",
          "2021-07-31T00:00:00",
          "2021-08-31T00:00:00",
          "2021-09-30T00:00:00",
          "2021-10-31T00:00:00",
          "2021-11-30T00:00:00",
          "2021-12-31T00:00:00",
          "2022-01-31T00:00:00",
          "2022-02-28T00:00:00",
          "2022-03-31T00:00:00",
          "2022-04-30T00:00:00",
          "2022-05-31T00:00:00",
          "2022-06-30T00:00:00",
          "2022-07-31T00:00:00",
          "2022-08-31T00:00:00",
          "2022-09-30T00:00:00",
          "2022-10-31T00:00:00",
          "2022-11-30T00:00:00"
         ],
         "y": [
          null,
          null,
          null,
          null,
          null,
          null,
          null,
          null,
          null,
          null,
          null,
          0.10258248594589287,
          0.0824586755905976,
          0.043258445650615644,
          0.020077007973035455,
          0.027999491654132954,
          0.06568447882355205,
          0.05237490973335255,
          0.04737382964918054,
          0.04793919510858891,
          0.057157538737004715,
          0.012312181654713017,
          -0.01398736885302728,
          -0.007042375870489798,
          -0.006767978335426412,
          0.00744866305359887,
          0.02834635925987127,
          0.016680207845698663,
          -0.010465456446078441,
          -0.005388630036651332,
          -0.00023933613224363243,
          -0.001814699910479255,
          -0.016411427913553694,
          0.00617152847198257,
          0.020450982664244142,
          0.00437580394279789,
          0.019267749562622803,
          0.0014891247671806284,
          0.005642286368088091,
          -0.007825629366519241,
          -0.0048146789588114245,
          -0.005610766010884959,
          -0.013025148125699907,
          0.0009575435358987727,
          0.0014460127772294169,
          0.0017736696477392234,
          -0.008997810204822628,
          -0.0010684495117307923,
          -0.011286700129601528,
          0.019232393811107164,
          0.015109110845402627,
          0.02809247505337907,
          0.02707348169326236,
          0.03095764281374107,
          0.02745088051887179,
          0.02044354557446107,
          0.003202012615242486,
          0.02035484304560081,
          0.01479258723934404,
          0.022480048278415,
          0.039026166019310554,
          0.024137924528651284,
          0.016017325581016185,
          0.015752740354465743,
          0.011962360425236082,
          0.012079789796034543,
          0.01426770716657143,
          0.006658968249827402,
          0.0185975797842694,
          0.003412688360826883,
          0.01588999552936808,
          0.035747597991305134,
          0.020591853833148457,
          0.05016057511727003,
          0.04851260699840968,
          0.050731229962930224,
          0.06159695049099948,
          0.08500675138281266,
          0.06861121673337973,
          0.08351837621041584,
          0.08888827487750607,
          0.10127593937853994,
          0.08805362055477668,
          0.07075174573605116,
          0.08644325895770494,
          0.0804639567641848,
          0.08486933764005654,
          0.07280876736059409,
          0.06817607669599998,
          0.0463996461273383,
          0.05799813623680746,
          0.03484644221139299,
          0.0360419691567067,
          0.01075397483175758,
          0.031767223916251634,
          0.035954843895825976,
          0.03361144348955394,
          0.016165236671049982,
          0.008394828239756173,
          0.029058547666443623,
          0.01410136431922071,
          0.01143634137562022,
          0.009820810474164216,
          0.004693853295842237,
          -0.0007195284686958484,
          0.01645283968029604,
          0.008998134891051798,
          0.01222715320791509,
          0.006932909036990113,
          0.004047571651415183,
          0.022433640181960295,
          -0.002884059931664048,
          0.00696161268899841,
          0.015449182623180638,
          0.013555824110978927,
          0.031550775139697174,
          0.017167970521913004,
          0.010473033064201788,
          -0.005221921610888217,
          -0.007947122873392743,
          -0.0061236025397883405,
          -0.016709294293294315,
          -0.02867338187172738,
          -0.007743425202508027,
          -0.01662161457827315,
          -0.006298596719646318,
          -0.006626744370381143,
          -0.004915632012353493,
          0.0011868772775673216,
          0.005282197514420457,
          0.015559237853178781,
          0.02523363062652018,
          0.02694234581417884,
          0.05249394033026885,
          0.06715755275464043,
          0.08100332368959774,
          0.10725732930788316,
          0.10863539336188703,
          0.10862128381600676,
          0.10471642026481796,
          0.1479526092964859,
          0.15715630740472528,
          0.16957967354195655,
          0.17405515663134197,
          0.18639853879692056,
          0.15531974152653774,
          0.1449838258853424,
          0.146222235336694,
          0.133257708569448,
          0.12773031238249236,
          0.14733336568901334,
          0.14616400574676633,
          0.1002235209645302,
          0.07550393427119169,
          0.06491654343457527,
          0.07724949034647034,
          0.03779588233766228,
          0.058182848562722905,
          0.059514796939358565,
          0.047749583890803145,
          0.060206830945697065,
          0.0662019765259323,
          0.05496357416179052,
          0.05298828991861357,
          0.07428229990172452,
          0.09176226299398267,
          0.08222947535260006,
          0.054911407654949264,
          0.09278927277425404,
          0.09953739390271721,
          0.11020248936072373,
          0.11354719858864289,
          0.10409193069489008,
          0.08606885540443217,
          0.08366330346991956,
          0.08957741542120719,
          0.07915006896547788,
          0.08130277727008443,
          0.11618361175890668,
          0.13535277193403952,
          0.11864378785038122,
          0.10727787000722826,
          0.09784774798375005,
          0.07748499639537375,
          0.07179373959171799,
          0.07235871230689984,
          0.07580604278014996,
          0.07552742095988764,
          0.07764130023818187,
          0.058636509912338784,
          0.024118644521872526,
          0.0033182120995845555,
          0.020514417853270805,
          -0.0001717233100698203,
          0.006686642556363452,
          0.023163053099660404,
          0.03384333069544757,
          0.040642858577425715,
          0.0525780744540029,
          0.060547358547825864,
          0.04664489798797855,
          0.056597167375100836,
          0.06292781696235972
         ]
        },
        {
         "name": "ic",
         "type": "bar",
         "x": [
          "2006-01-31T00:00:00",
          "2006-02-28T00:00:00",
          "2006-03-31T00:00:00",
          "2006-04-30T00:00:00",
          "2006-05-31T00:00:00",
          "2006-06-30T00:00:00",
          "2006-07-31T00:00:00",
          "2006-08-31T00:00:00",
          "2006-09-30T00:00:00",
          "2006-10-31T00:00:00",
          "2006-11-30T00:00:00",
          "2006-12-31T00:00:00",
          "2007-01-31T00:00:00",
          "2007-02-28T00:00:00",
          "2007-03-31T00:00:00",
          "2007-04-30T00:00:00",
          "2007-05-31T00:00:00",
          "2007-06-30T00:00:00",
          "2007-07-31T00:00:00",
          "2007-08-31T00:00:00",
          "2007-09-30T00:00:00",
          "2007-10-31T00:00:00",
          "2007-11-30T00:00:00",
          "2007-12-31T00:00:00",
          "2008-01-31T00:00:00",
          "2008-02-29T00:00:00",
          "2008-03-31T00:00:00",
          "2008-04-30T00:00:00",
          "2008-05-31T00:00:00",
          "2008-06-30T00:00:00",
          "2008-07-31T00:00:00",
          "2008-08-31T00:00:00",
          "2008-09-30T00:00:00",
          "2008-10-31T00:00:00",
          "2008-11-30T00:00:00",
          "2008-12-31T00:00:00",
          "2009-01-31T00:00:00",
          "2009-02-28T00:00:00",
          "2009-03-31T00:00:00",
          "2009-04-30T00:00:00",
          "2009-05-31T00:00:00",
          "2009-06-30T00:00:00",
          "2009-07-31T00:00:00",
          "2009-08-31T00:00:00",
          "2009-09-30T00:00:00",
          "2009-10-31T00:00:00",
          "2009-11-30T00:00:00",
          "2009-12-31T00:00:00",
          "2010-01-31T00:00:00",
          "2010-02-28T00:00:00",
          "2010-03-31T00:00:00",
          "2010-04-30T00:00:00",
          "2010-05-31T00:00:00",
          "2010-06-30T00:00:00",
          "2010-07-31T00:00:00",
          "2010-08-31T00:00:00",
          "2010-09-30T00:00:00",
          "2010-10-31T00:00:00",
          "2010-11-30T00:00:00",
          "2010-12-31T00:00:00",
          "2011-01-31T00:00:00",
          "2011-02-28T00:00:00",
          "2011-03-31T00:00:00",
          "2011-04-30T00:00:00",
          "2011-05-31T00:00:00",
          "2011-06-30T00:00:00",
          "2011-07-31T00:00:00",
          "2011-08-31T00:00:00",
          "2011-09-30T00:00:00",
          "2011-10-31T00:00:00",
          "2011-11-30T00:00:00",
          "2011-12-31T00:00:00",
          "2012-01-31T00:00:00",
          "2012-02-29T00:00:00",
          "2012-03-31T00:00:00",
          "2012-04-30T00:00:00",
          "2012-05-31T00:00:00",
          "2012-06-30T00:00:00",
          "2012-07-31T00:00:00",
          "2012-08-31T00:00:00",
          "2012-09-30T00:00:00",
          "2012-10-31T00:00:00",
          "2012-11-30T00:00:00",
          "2012-12-31T00:00:00",
          "2013-01-31T00:00:00",
          "2013-02-28T00:00:00",
          "2013-03-31T00:00:00",
          "2013-04-30T00:00:00",
          "2013-05-31T00:00:00",
          "2013-06-30T00:00:00",
          "2013-07-31T00:00:00",
          "2013-08-31T00:00:00",
          "2013-09-30T00:00:00",
          "2013-10-31T00:00:00",
          "2013-11-30T00:00:00",
          "2013-12-31T00:00:00",
          "2014-01-31T00:00:00",
          "2014-02-28T00:00:00",
          "2014-03-31T00:00:00",
          "2014-04-30T00:00:00",
          "2014-05-31T00:00:00",
          "2014-06-30T00:00:00",
          "2014-07-31T00:00:00",
          "2014-08-31T00:00:00",
          "2014-09-30T00:00:00",
          "2014-10-31T00:00:00",
          "2014-11-30T00:00:00",
          "2014-12-31T00:00:00",
          "2015-01-31T00:00:00",
          "2015-02-28T00:00:00",
          "2015-03-31T00:00:00",
          "2015-04-30T00:00:00",
          "2015-05-31T00:00:00",
          "2015-06-30T00:00:00",
          "2015-07-31T00:00:00",
          "2015-08-31T00:00:00",
          "2015-09-30T00:00:00",
          "2015-10-31T00:00:00",
          "2015-11-30T00:00:00",
          "2015-12-31T00:00:00",
          "2016-01-31T00:00:00",
          "2016-02-29T00:00:00",
          "2016-03-31T00:00:00",
          "2016-04-30T00:00:00",
          "2016-05-31T00:00:00",
          "2016-06-30T00:00:00",
          "2016-07-31T00:00:00",
          "2016-08-31T00:00:00",
          "2016-09-30T00:00:00",
          "2016-10-31T00:00:00",
          "2016-11-30T00:00:00",
          "2016-12-31T00:00:00",
          "2017-01-31T00:00:00",
          "2017-02-28T00:00:00",
          "2017-03-31T00:00:00",
          "2017-04-30T00:00:00",
          "2017-05-31T00:00:00",
          "2017-06-30T00:00:00",
          "2017-07-31T00:00:00",
          "2017-08-31T00:00:00",
          "2017-09-30T00:00:00",
          "2017-10-31T00:00:00",
          "2017-11-30T00:00:00",
          "2017-12-31T00:00:00",
          "2018-01-31T00:00:00",
          "2018-02-28T00:00:00",
          "2018-03-31T00:00:00",
          "2018-04-30T00:00:00",
          "2018-05-31T00:00:00",
          "2018-06-30T00:00:00",
          "2018-07-31T00:00:00",
          "2018-08-31T00:00:00",
          "2018-09-30T00:00:00",
          "2018-10-31T00:00:00",
          "2018-11-30T00:00:00",
          "2018-12-31T00:00:00",
          "2019-01-31T00:00:00",
          "2019-02-28T00:00:00",
          "2019-03-31T00:00:00",
          "2019-04-30T00:00:00",
          "2019-05-31T00:00:00",
          "2019-06-30T00:00:00",
          "2019-07-31T00:00:00",
          "2019-08-31T00:00:00",
          "2019-09-30T00:00:00",
          "2019-10-31T00:00:00",
          "2019-11-30T00:00:00",
          "2019-12-31T00:00:00",
          "2020-01-31T00:00:00",
          "2020-02-29T00:00:00",
          "2020-03-31T00:00:00",
          "2020-04-30T00:00:00",
          "2020-05-31T00:00:00",
          "2020-06-30T00:00:00",
          "2020-07-31T00:00:00",
          "2020-08-31T00:00:00",
          "2020-09-30T00:00:00",
          "2020-10-31T00:00:00",
          "2020-11-30T00:00:00",
          "2020-12-31T00:00:00",
          "2021-01-31T00:00:00",
          "2021-02-28T00:00:00",
          "2021-03-31T00:00:00",
          "2021-04-30T00:00:00",
          "2021-05-31T00:00:00",
          "2021-06-30T00:00:00",
          "2021-07-31T00:00:00",
          "2021-08-31T00:00:00",
          "2021-09-30T00:00:00",
          "2021-10-31T00:00:00",
          "2021-11-30T00:00:00",
          "2021-12-31T00:00:00",
          "2022-01-31T00:00:00",
          "2022-02-28T00:00:00",
          "2022-03-31T00:00:00",
          "2022-04-30T00:00:00",
          "2022-05-31T00:00:00",
          "2022-06-30T00:00:00",
          "2022-07-31T00:00:00",
          "2022-08-31T00:00:00",
          "2022-09-30T00:00:00",
          "2022-10-31T00:00:00",
          "2022-11-30T00:00:00"
         ],
         "y": [
          0.007466195640576859,
          0.27047593910405837,
          0.16628819194031288,
          0.032120937459382784,
          -0.03707823682070555,
          0.03107694193864916,
          0.1281920851723974,
          0.040409349532049436,
          0.1239630713128469,
          0.2636263533217479,
          0.28774710446693347,
          -0.0832981017175352,
          -0.23401952862296652,
          -0.19992682017572497,
          -0.11188906019064937,
          0.12719074163255278,
          0.4151416092123237,
          -0.12863788714374488,
          0.06817912416233327,
          0.04719373504494985,
          0.23458319485383658,
          -0.2745179316657525,
          -0.02784750162595009,
          0.000041814072914594484,
          -0.2307267582022059,
          -0.029327123507421556,
          0.13888329428461946,
          -0.012803075337518531,
          0.08939363771099844,
          -0.06771597023061958,
          0.12997065101522567,
          0.028289369706122364,
          0.059422458816943295,
          -0.0035224550393172824,
          0.1435059486811888,
          -0.19286033058444046,
          -0.05202341076430691,
          -0.2426706210527277,
          0.188721233495509,
          -0.17441806415280653,
          0.12552504260349226,
          -0.077269014855502,
          0.04099806563744632,
          0.1960816696453065,
          0.06528408971291103,
          0.0004094274068003966,
          0.014248190450446594,
          -0.09770800226733845,
          -0.17464241817875573,
          0.12355850623577662,
          0.13924183790705455,
          -0.018617693657089204,
          0.11329712228209173,
          -0.030659081409757472,
          -0.0010830819009850457,
          0.11199365031237785,
          -0.14161430579771198,
          0.20624339257110025,
          -0.05249887922463462,
          -0.005458469798486964,
          0.023910994711990985,
          -0.055100391652134616,
          0.041794650535433346,
          -0.021792716375694514,
          0.0678125631313358,
          -0.02924992896017597,
          0.02517192654545765,
          0.02068878331144949,
          0.001649032615592002,
          0.02402469548979005,
          0.09722880679785974,
          0.23283275974475764,
          -0.1579579351858891,
          0.29972426375732425,
          0.022019033109109257,
          0.0048307591985518915,
          0.19820120946816683,
          0.25166768174158227,
          -0.17157448924773747,
          0.1995746970358828,
          0.06608781662067474,
          0.1726766695021964,
          -0.06143901908729922,
          0.02521026192005132,
          0.030340223473956172,
          0.22797263743508261,
          0.07488360361956994,
          -0.1398960841549974,
          0.1426089214930377,
          -0.009649485082357892,
          -0.03239260793410769,
          -0.07824563126909077,
          0.08043413996443928,
          -0.13077926239719306,
          0.19071996992662935,
          0.07546170167494343,
          0.002219418598691807,
          0.018618155613035113,
          -0.01836129755595576,
          0.10806854896525198,
          -0.036877278673637236,
          -0.04162976040556377,
          -0.05177897875157975,
          -0.13976911740895454,
          0.015473558789982264,
          0.07528915539070959,
          0.10126351245569847,
          0.11420992147730293,
          -0.0613115114524079,
          -0.016005893013864073,
          0.20227152481058555,
          -0.1957438523982401,
          0.08127079277431228,
          0.060221078804622935,
          -0.0744992808980003,
          0.07617029493566442,
          -0.15712009662342777,
          -0.00505009410182502,
          -0.08707594364538158,
          0.08150750632724864,
          -0.03942926744915509,
          -0.1430341940559358,
          0.058702473869388816,
          0.055415627632392106,
          -0.02526747973486924,
          0.18409729310814493,
          -0.07843705270681818,
          0.09670364323199622,
          -0.083889985144378,
          0.04409374874041262,
          0.03624854041971829,
          0.19760021960734545,
          -0.018924685197251212,
          0.16358494013714428,
          0.2346658229618479,
          0.22156487885187975,
          0.28978058768455583,
          0.20063406175619117,
          -0.07860636725738118,
          0.049845280617730685,
          0.4349442832356373,
          0.15453812603928518,
          0.18532893406649362,
          0.2513060166799702,
          0.12919590078969184,
          -0.20936062710744932,
          0.11063483526750366,
          0.23642579226809898,
          0.13420626647760386,
          0.1343053075127237,
          0.15663027242087033,
          0.035812961310766486,
          -0.11634153415119608,
          -0.14209691428077706,
          0.05828024402709667,
          0.399301379622711,
          -0.3442473953160049,
          0.03528296759327822,
          0.12661821578713162,
          0.09524323568543393,
          0.2836932311363309,
          0.20624705447554656,
          0.021769444051169068,
          0.012109550392642963,
          0.13918658564613542,
          0.06766264282632073,
          -0.056113207669494805,
          0.07148456725090156,
          0.11028698611565255,
          0.1162604211348361,
          0.2545993612832097,
          0.135379746420464,
          0.17023001641129706,
          -0.010029849009948147,
          -0.0070971791629823346,
          0.08307889380809456,
          0.014058428177383548,
          0.0934951424815994,
          0.36245680619637216,
          0.3015144893524958,
          -0.09022082288824718,
          -0.020130592982999452,
          0.14143789700147108,
          -0.10897327264005151,
          0.10193493476742792,
          -0.003250176427765906,
          0.0342707865160192,
          0.07973543196494659,
          0.03942497951691437,
          -0.13456234142851772,
          -0.05175757848922289,
          0.05190930028504017,
          0.11613364615598783,
          -0.26836428694308695,
          0.22373828739867035,
          0.08874365387951189,
          0.23009826591687402,
          0.0783441581559717,
          0.17749337703494547,
          0.17536684109082212,
          -0.12740454720125338,
          -0.015135108783050294,
          0.024210216557883624
         ]
        }
       ],
       "layout": {
        "template": {
         "data": {
          "bar": [
           {
            "error_x": {
             "color": "#2a3f5f"
            },
            "error_y": {
             "color": "#2a3f5f"
            },
            "marker": {
             "line": {
              "color": "#E5ECF6",
              "width": 0.5
             },
             "pattern": {
              "fillmode": "overlay",
              "size": 10,
              "solidity": 0.2
             }
            },
            "type": "bar"
           }
          ],
          "barpolar": [
           {
            "marker": {
             "line": {
              "color": "#E5ECF6",
              "width": 0.5
             },
             "pattern": {
              "fillmode": "overlay",
              "size": 10,
              "solidity": 0.2
             }
            },
            "type": "barpolar"
           }
          ],
          "carpet": [
           {
            "aaxis": {
             "endlinecolor": "#2a3f5f",
             "gridcolor": "white",
             "linecolor": "white",
             "minorgridcolor": "white",
             "startlinecolor": "#2a3f5f"
            },
            "baxis": {
             "endlinecolor": "#2a3f5f",
             "gridcolor": "white",
             "linecolor": "white",
             "minorgridcolor": "white",
             "startlinecolor": "#2a3f5f"
            },
            "type": "carpet"
           }
          ],
          "choropleth": [
           {
            "colorbar": {
             "outlinewidth": 0,
             "ticks": ""
            },
            "type": "choropleth"
           }
          ],
          "contour": [
           {
            "colorbar": {
             "outlinewidth": 0,
             "ticks": ""
            },
            "colorscale": [
             [
              0,
              "#0d0887"
             ],
             [
              0.1111111111111111,
              "#46039f"
             ],
             [
              0.2222222222222222,
              "#7201a8"
             ],
             [
              0.3333333333333333,
              "#9c179e"
             ],
             [
              0.4444444444444444,
              "#bd3786"
             ],
             [
              0.5555555555555556,
              "#d8576b"
             ],
             [
              0.6666666666666666,
              "#ed7953"
             ],
             [
              0.7777777777777778,
              "#fb9f3a"
             ],
             [
              0.8888888888888888,
              "#fdca26"
             ],
             [
              1,
              "#f0f921"
             ]
            ],
            "type": "contour"
           }
          ],
          "contourcarpet": [
           {
            "colorbar": {
             "outlinewidth": 0,
             "ticks": ""
            },
            "type": "contourcarpet"
           }
          ],
          "heatmap": [
           {
            "colorbar": {
             "outlinewidth": 0,
             "ticks": ""
            },
            "colorscale": [
             [
              0,
              "#0d0887"
             ],
             [
              0.1111111111111111,
              "#46039f"
             ],
             [
              0.2222222222222222,
              "#7201a8"
             ],
             [
              0.3333333333333333,
              "#9c179e"
             ],
             [
              0.4444444444444444,
              "#bd3786"
             ],
             [
              0.5555555555555556,
              "#d8576b"
             ],
             [
              0.6666666666666666,
              "#ed7953"
             ],
             [
              0.7777777777777778,
              "#fb9f3a"
             ],
             [
              0.8888888888888888,
              "#fdca26"
             ],
             [
              1,
              "#f0f921"
             ]
            ],
            "type": "heatmap"
           }
          ],
          "heatmapgl": [
           {
            "colorbar": {
             "outlinewidth": 0,
             "ticks": ""
            },
            "colorscale": [
             [
              0,
              "#0d0887"
             ],
             [
              0.1111111111111111,
              "#46039f"
             ],
             [
              0.2222222222222222,
              "#7201a8"
             ],
             [
              0.3333333333333333,
              "#9c179e"
             ],
             [
              0.4444444444444444,
              "#bd3786"
             ],
             [
              0.5555555555555556,
              "#d8576b"
             ],
             [
              0.6666666666666666,
              "#ed7953"
             ],
             [
              0.7777777777777778,
              "#fb9f3a"
             ],
             [
              0.8888888888888888,
              "#fdca26"
             ],
             [
              1,
              "#f0f921"
             ]
            ],
            "type": "heatmapgl"
           }
          ],
          "histogram": [
           {
            "marker": {
             "pattern": {
              "fillmode": "overlay",
              "size": 10,
              "solidity": 0.2
             }
            },
            "type": "histogram"
           }
          ],
          "histogram2d": [
           {
            "colorbar": {
             "outlinewidth": 0,
             "ticks": ""
            },
            "colorscale": [
             [
              0,
              "#0d0887"
             ],
             [
              0.1111111111111111,
              "#46039f"
             ],
             [
              0.2222222222222222,
              "#7201a8"
             ],
             [
              0.3333333333333333,
              "#9c179e"
             ],
             [
              0.4444444444444444,
              "#bd3786"
             ],
             [
              0.5555555555555556,
              "#d8576b"
             ],
             [
              0.6666666666666666,
              "#ed7953"
             ],
             [
              0.7777777777777778,
              "#fb9f3a"
             ],
             [
              0.8888888888888888,
              "#fdca26"
             ],
             [
              1,
              "#f0f921"
             ]
            ],
            "type": "histogram2d"
           }
          ],
          "histogram2dcontour": [
           {
            "colorbar": {
             "outlinewidth": 0,
             "ticks": ""
            },
            "colorscale": [
             [
              0,
              "#0d0887"
             ],
             [
              0.1111111111111111,
              "#46039f"
             ],
             [
              0.2222222222222222,
              "#7201a8"
             ],
             [
              0.3333333333333333,
              "#9c179e"
             ],
             [
              0.4444444444444444,
              "#bd3786"
             ],
             [
              0.5555555555555556,
              "#d8576b"
             ],
             [
              0.6666666666666666,
              "#ed7953"
             ],
             [
              0.7777777777777778,
              "#fb9f3a"
             ],
             [
              0.8888888888888888,
              "#fdca26"
             ],
             [
              1,
              "#f0f921"
             ]
            ],
            "type": "histogram2dcontour"
           }
          ],
          "mesh3d": [
           {
            "colorbar": {
             "outlinewidth": 0,
             "ticks": ""
            },
            "type": "mesh3d"
           }
          ],
          "parcoords": [
           {
            "line": {
             "colorbar": {
              "outlinewidth": 0,
              "ticks": ""
             }
            },
            "type": "parcoords"
           }
          ],
          "pie": [
           {
            "automargin": true,
            "type": "pie"
           }
          ],
          "scatter": [
           {
            "fillpattern": {
             "fillmode": "overlay",
             "size": 10,
             "solidity": 0.2
            },
            "type": "scatter"
           }
          ],
          "scatter3d": [
           {
            "line": {
             "colorbar": {
              "outlinewidth": 0,
              "ticks": ""
             }
            },
            "marker": {
             "colorbar": {
              "outlinewidth": 0,
              "ticks": ""
             }
            },
            "type": "scatter3d"
           }
          ],
          "scattercarpet": [
           {
            "marker": {
             "colorbar": {
              "outlinewidth": 0,
              "ticks": ""
             }
            },
            "type": "scattercarpet"
           }
          ],
          "scattergeo": [
           {
            "marker": {
             "colorbar": {
              "outlinewidth": 0,
              "ticks": ""
             }
            },
            "type": "scattergeo"
           }
          ],
          "scattergl": [
           {
            "marker": {
             "colorbar": {
              "outlinewidth": 0,
              "ticks": ""
             }
            },
            "type": "scattergl"
           }
          ],
          "scattermapbox": [
           {
            "marker": {
             "colorbar": {
              "outlinewidth": 0,
              "ticks": ""
             }
            },
            "type": "scattermapbox"
           }
          ],
          "scatterpolar": [
           {
            "marker": {
             "colorbar": {
              "outlinewidth": 0,
              "ticks": ""
             }
            },
            "type": "scatterpolar"
           }
          ],
          "scatterpolargl": [
           {
            "marker": {
             "colorbar": {
              "outlinewidth": 0,
              "ticks": ""
             }
            },
            "type": "scatterpolargl"
           }
          ],
          "scatterternary": [
           {
            "marker": {
             "colorbar": {
              "outlinewidth": 0,
              "ticks": ""
             }
            },
            "type": "scatterternary"
           }
          ],
          "surface": [
           {
            "colorbar": {
             "outlinewidth": 0,
             "ticks": ""
            },
            "colorscale": [
             [
              0,
              "#0d0887"
             ],
             [
              0.1111111111111111,
              "#46039f"
             ],
             [
              0.2222222222222222,
              "#7201a8"
             ],
             [
              0.3333333333333333,
              "#9c179e"
             ],
             [
              0.4444444444444444,
              "#bd3786"
             ],
             [
              0.5555555555555556,
              "#d8576b"
             ],
             [
              0.6666666666666666,
              "#ed7953"
             ],
             [
              0.7777777777777778,
              "#fb9f3a"
             ],
             [
              0.8888888888888888,
              "#fdca26"
             ],
             [
              1,
              "#f0f921"
             ]
            ],
            "type": "surface"
           }
          ],
          "table": [
           {
            "cells": {
             "fill": {
              "color": "#EBF0F8"
             },
             "line": {
              "color": "white"
             }
            },
            "header": {
             "fill": {
              "color": "#C8D4E3"
             },
             "line": {
              "color": "white"
             }
            },
            "type": "table"
           }
          ]
         },
         "layout": {
          "annotationdefaults": {
           "arrowcolor": "#2a3f5f",
           "arrowhead": 0,
           "arrowwidth": 1
          },
          "autotypenumbers": "strict",
          "coloraxis": {
           "colorbar": {
            "outlinewidth": 0,
            "ticks": ""
           }
          },
          "colorscale": {
           "diverging": [
            [
             0,
             "#8e0152"
            ],
            [
             0.1,
             "#c51b7d"
            ],
            [
             0.2,
             "#de77ae"
            ],
            [
             0.3,
             "#f1b6da"
            ],
            [
             0.4,
             "#fde0ef"
            ],
            [
             0.5,
             "#f7f7f7"
            ],
            [
             0.6,
             "#e6f5d0"
            ],
            [
             0.7,
             "#b8e186"
            ],
            [
             0.8,
             "#7fbc41"
            ],
            [
             0.9,
             "#4d9221"
            ],
            [
             1,
             "#276419"
            ]
           ],
           "sequential": [
            [
             0,
             "#0d0887"
            ],
            [
             0.1111111111111111,
             "#46039f"
            ],
            [
             0.2222222222222222,
             "#7201a8"
            ],
            [
             0.3333333333333333,
             "#9c179e"
            ],
            [
             0.4444444444444444,
             "#bd3786"
            ],
            [
             0.5555555555555556,
             "#d8576b"
            ],
            [
             0.6666666666666666,
             "#ed7953"
            ],
            [
             0.7777777777777778,
             "#fb9f3a"
            ],
            [
             0.8888888888888888,
             "#fdca26"
            ],
            [
             1,
             "#f0f921"
            ]
           ],
           "sequentialminus": [
            [
             0,
             "#0d0887"
            ],
            [
             0.1111111111111111,
             "#46039f"
            ],
            [
             0.2222222222222222,
             "#7201a8"
            ],
            [
             0.3333333333333333,
             "#9c179e"
            ],
            [
             0.4444444444444444,
             "#bd3786"
            ],
            [
             0.5555555555555556,
             "#d8576b"
            ],
            [
             0.6666666666666666,
             "#ed7953"
            ],
            [
             0.7777777777777778,
             "#fb9f3a"
            ],
            [
             0.8888888888888888,
             "#fdca26"
            ],
            [
             1,
             "#f0f921"
            ]
           ]
          },
          "colorway": [
           "#636efa",
           "#EF553B",
           "#00cc96",
           "#ab63fa",
           "#FFA15A",
           "#19d3f3",
           "#FF6692",
           "#B6E880",
           "#FF97FF",
           "#FECB52"
          ],
          "font": {
           "color": "#2a3f5f"
          },
          "geo": {
           "bgcolor": "white",
           "lakecolor": "white",
           "landcolor": "#E5ECF6",
           "showlakes": true,
           "showland": true,
           "subunitcolor": "white"
          },
          "hoverlabel": {
           "align": "left"
          },
          "hovermode": "closest",
          "mapbox": {
           "style": "light"
          },
          "paper_bgcolor": "white",
          "plot_bgcolor": "#E5ECF6",
          "polar": {
           "angularaxis": {
            "gridcolor": "white",
            "linecolor": "white",
            "ticks": ""
           },
           "bgcolor": "#E5ECF6",
           "radialaxis": {
            "gridcolor": "white",
            "linecolor": "white",
            "ticks": ""
           }
          },
          "scene": {
           "xaxis": {
            "backgroundcolor": "#E5ECF6",
            "gridcolor": "white",
            "gridwidth": 2,
            "linecolor": "white",
            "showbackground": true,
            "ticks": "",
            "zerolinecolor": "white"
           },
           "yaxis": {
            "backgroundcolor": "#E5ECF6",
            "gridcolor": "white",
            "gridwidth": 2,
            "linecolor": "white",
            "showbackground": true,
            "ticks": "",
            "zerolinecolor": "white"
           },
           "zaxis": {
            "backgroundcolor": "#E5ECF6",
            "gridcolor": "white",
            "gridwidth": 2,
            "linecolor": "white",
            "showbackground": true,
            "ticks": "",
            "zerolinecolor": "white"
           }
          },
          "shapedefaults": {
           "line": {
            "color": "#2a3f5f"
           }
          },
          "ternary": {
           "aaxis": {
            "gridcolor": "white",
            "linecolor": "white",
            "ticks": ""
           },
           "baxis": {
            "gridcolor": "white",
            "linecolor": "white",
            "ticks": ""
           },
           "bgcolor": "#E5ECF6",
           "caxis": {
            "gridcolor": "white",
            "linecolor": "white",
            "ticks": ""
           }
          },
          "title": {
           "x": 0.05
          },
          "xaxis": {
           "automargin": true,
           "gridcolor": "white",
           "linecolor": "white",
           "ticks": "",
           "title": {
            "standoff": 15
           },
           "zerolinecolor": "white",
           "zerolinewidth": 2
          },
          "yaxis": {
           "automargin": true,
           "gridcolor": "white",
           "linecolor": "white",
           "ticks": "",
           "title": {
            "standoff": 15
           },
           "zerolinecolor": "white",
           "zerolinewidth": 2
          }
         }
        },
        "title": {
         "text": "ic series"
        },
        "xaxis": {
         "anchor": "y",
         "domain": [
          0,
          1
         ]
        },
        "yaxis": {
         "anchor": "x",
         "domain": [
          0,
          1
         ]
        }
       }
      }
     },
     "metadata": {},
     "output_type": "display_data"
    },
    {
     "data": {
      "application/vnd.plotly.v1+json": {
       "config": {
        "plotlyServerURL": "https://plot.ly"
       },
       "data": [
        {
         "hovertemplate": "comp_mom12x3_to3M=0<br>date=%{x}<br>value=%{y}<extra></extra>",
         "legendgroup": "0",
         "line": {
          "color": "#636efa",
          "dash": "solid"
         },
         "marker": {
          "symbol": "circle"
         },
         "mode": "lines",
         "name": "0",
         "showlegend": true,
         "type": "scattergl",
         "x": [
          "2006-01-31T00:00:00",
          "2006-02-28T00:00:00",
          "2006-03-31T00:00:00",
          "2006-04-30T00:00:00",
          "2006-05-31T00:00:00",
          "2006-06-30T00:00:00",
          "2006-07-31T00:00:00",
          "2006-08-31T00:00:00",
          "2006-09-30T00:00:00",
          "2006-10-31T00:00:00",
          "2006-11-30T00:00:00",
          "2006-12-31T00:00:00",
          "2007-01-31T00:00:00",
          "2007-02-28T00:00:00",
          "2007-03-31T00:00:00",
          "2007-04-30T00:00:00",
          "2007-05-31T00:00:00",
          "2007-06-30T00:00:00",
          "2007-07-31T00:00:00",
          "2007-08-31T00:00:00",
          "2007-09-30T00:00:00",
          "2007-10-31T00:00:00",
          "2007-11-30T00:00:00",
          "2007-12-31T00:00:00",
          "2008-01-31T00:00:00",
          "2008-02-29T00:00:00",
          "2008-03-31T00:00:00",
          "2008-04-30T00:00:00",
          "2008-05-31T00:00:00",
          "2008-06-30T00:00:00",
          "2008-07-31T00:00:00",
          "2008-08-31T00:00:00",
          "2008-09-30T00:00:00",
          "2008-10-31T00:00:00",
          "2008-11-30T00:00:00",
          "2008-12-31T00:00:00",
          "2009-01-31T00:00:00",
          "2009-02-28T00:00:00",
          "2009-03-31T00:00:00",
          "2009-04-30T00:00:00",
          "2009-05-31T00:00:00",
          "2009-06-30T00:00:00",
          "2009-07-31T00:00:00",
          "2009-08-31T00:00:00",
          "2009-09-30T00:00:00",
          "2009-10-31T00:00:00",
          "2009-11-30T00:00:00",
          "2009-12-31T00:00:00",
          "2010-01-31T00:00:00",
          "2010-02-28T00:00:00",
          "2010-03-31T00:00:00",
          "2010-04-30T00:00:00",
          "2010-05-31T00:00:00",
          "2010-06-30T00:00:00",
          "2010-07-31T00:00:00",
          "2010-08-31T00:00:00",
          "2010-09-30T00:00:00",
          "2010-10-31T00:00:00",
          "2010-11-30T00:00:00",
          "2010-12-31T00:00:00",
          "2011-01-31T00:00:00",
          "2011-02-28T00:00:00",
          "2011-03-31T00:00:00",
          "2011-04-30T00:00:00",
          "2011-05-31T00:00:00",
          "2011-06-30T00:00:00",
          "2011-07-31T00:00:00",
          "2011-08-31T00:00:00",
          "2011-09-30T00:00:00",
          "2011-10-31T00:00:00",
          "2011-11-30T00:00:00",
          "2011-12-31T00:00:00",
          "2012-01-31T00:00:00",
          "2012-02-29T00:00:00",
          "2012-03-31T00:00:00",
          "2012-04-30T00:00:00",
          "2012-05-31T00:00:00",
          "2012-06-30T00:00:00",
          "2012-07-31T00:00:00",
          "2012-08-31T00:00:00",
          "2012-09-30T00:00:00",
          "2012-10-31T00:00:00",
          "2012-11-30T00:00:00",
          "2012-12-31T00:00:00",
          "2013-01-31T00:00:00",
          "2013-02-28T00:00:00",
          "2013-03-31T00:00:00",
          "2013-04-30T00:00:00",
          "2013-05-31T00:00:00",
          "2013-06-30T00:00:00",
          "2013-07-31T00:00:00",
          "2013-08-31T00:00:00",
          "2013-09-30T00:00:00",
          "2013-10-31T00:00:00",
          "2013-11-30T00:00:00",
          "2013-12-31T00:00:00",
          "2014-01-31T00:00:00",
          "2014-02-28T00:00:00",
          "2014-03-31T00:00:00",
          "2014-04-30T00:00:00",
          "2014-05-31T00:00:00",
          "2014-06-30T00:00:00",
          "2014-07-31T00:00:00",
          "2014-08-31T00:00:00",
          "2014-09-30T00:00:00",
          "2014-10-31T00:00:00",
          "2014-11-30T00:00:00",
          "2014-12-31T00:00:00",
          "2015-01-31T00:00:00",
          "2015-02-28T00:00:00",
          "2015-03-31T00:00:00",
          "2015-04-30T00:00:00",
          "2015-05-31T00:00:00",
          "2015-06-30T00:00:00",
          "2015-07-31T00:00:00",
          "2015-08-31T00:00:00",
          "2015-09-30T00:00:00",
          "2015-10-31T00:00:00",
          "2015-11-30T00:00:00",
          "2015-12-31T00:00:00",
          "2016-01-31T00:00:00",
          "2016-02-29T00:00:00",
          "2016-03-31T00:00:00",
          "2016-04-30T00:00:00",
          "2016-05-31T00:00:00",
          "2016-06-30T00:00:00",
          "2016-07-31T00:00:00",
          "2016-08-31T00:00:00",
          "2016-09-30T00:00:00",
          "2016-10-31T00:00:00",
          "2016-11-30T00:00:00",
          "2016-12-31T00:00:00",
          "2017-01-31T00:00:00",
          "2017-02-28T00:00:00",
          "2017-03-31T00:00:00",
          "2017-04-30T00:00:00",
          "2017-05-31T00:00:00",
          "2017-06-30T00:00:00",
          "2017-07-31T00:00:00",
          "2017-08-31T00:00:00",
          "2017-09-30T00:00:00",
          "2017-10-31T00:00:00",
          "2017-11-30T00:00:00",
          "2017-12-31T00:00:00",
          "2018-01-31T00:00:00",
          "2018-02-28T00:00:00",
          "2018-03-31T00:00:00",
          "2018-04-30T00:00:00",
          "2018-05-31T00:00:00",
          "2018-06-30T00:00:00",
          "2018-07-31T00:00:00",
          "2018-08-31T00:00:00",
          "2018-09-30T00:00:00",
          "2018-10-31T00:00:00",
          "2018-11-30T00:00:00",
          "2018-12-31T00:00:00",
          "2019-01-31T00:00:00",
          "2019-02-28T00:00:00",
          "2019-03-31T00:00:00",
          "2019-04-30T00:00:00",
          "2019-05-31T00:00:00",
          "2019-06-30T00:00:00",
          "2019-07-31T00:00:00",
          "2019-08-31T00:00:00",
          "2019-09-30T00:00:00",
          "2019-10-31T00:00:00",
          "2019-11-30T00:00:00",
          "2019-12-31T00:00:00",
          "2020-01-31T00:00:00",
          "2020-02-29T00:00:00",
          "2020-03-31T00:00:00",
          "2020-04-30T00:00:00",
          "2020-05-31T00:00:00",
          "2020-06-30T00:00:00",
          "2020-07-31T00:00:00",
          "2020-08-31T00:00:00",
          "2020-09-30T00:00:00",
          "2020-10-31T00:00:00",
          "2020-11-30T00:00:00",
          "2020-12-31T00:00:00",
          "2021-01-31T00:00:00",
          "2021-02-28T00:00:00",
          "2021-03-31T00:00:00",
          "2021-04-30T00:00:00",
          "2021-05-31T00:00:00",
          "2021-06-30T00:00:00",
          "2021-07-31T00:00:00",
          "2021-08-31T00:00:00",
          "2021-09-30T00:00:00",
          "2021-10-31T00:00:00",
          "2021-11-30T00:00:00",
          "2021-12-31T00:00:00",
          "2022-01-31T00:00:00",
          "2022-02-28T00:00:00",
          "2022-03-31T00:00:00",
          "2022-04-30T00:00:00",
          "2022-05-31T00:00:00",
          "2022-06-30T00:00:00",
          "2022-07-31T00:00:00",
          "2022-08-31T00:00:00",
          "2022-09-30T00:00:00",
          "2022-10-31T00:00:00",
          "2022-11-30T00:00:00"
         ],
         "xaxis": "x",
         "y": [
          0,
          -0.03410002607397922,
          -0.08196008309417557,
          -0.11390190072465523,
          -0.07224182233739218,
          -0.09055556667236342,
          -0.10974721843005275,
          -0.12324148540109092,
          -0.17000298000751113,
          -0.22661761816918047,
          -0.2967728974495767,
          -0.2710747630938427,
          -0.2632103758894945,
          -0.2522047078051911,
          -0.22986914913655931,
          -0.26269185880048085,
          -0.33934263000122966,
          -0.32921816182574304,
          -0.3689442435991238,
          -0.36519112068972115,
          -0.38266184589101304,
          -0.36546587427749233,
          -0.35416194693844727,
          -0.35960680642226195,
          -0.32089365109555257,
          -0.3070930728237985,
          -0.29350626377212563,
          -0.2810898166873613,
          -0.2757249364445359,
          -0.2818105443829616,
          -0.3211668704722548,
          -0.32280492226034907,
          -0.338005819797244,
          -0.3503426776238582,
          -0.3661859260542484,
          -0.3545648214477817,
          -0.3636155247660364,
          -0.3430064258946697,
          -0.37832204347295884,
          -0.37652197723171454,
          -0.40230176946656737,
          -0.40711957111070995,
          -0.40906899690325216,
          -0.4232806662510975,
          -0.4127444018163384,
          -0.42159891800999627,
          -0.42135511098095724,
          -0.4151774191207984,
          -0.39993388638795546,
          -0.4103560342814131,
          -0.42758927779009503,
          -0.4134880745491236,
          -0.4292742043126633,
          -0.4251736107394237,
          -0.40463774841242517,
          -0.40832023492520253,
          -0.40235557154273593,
          -0.4200477468191379,
          -0.41631934661976355,
          -0.4292110297181563,
          -0.42552781129960315,
          -0.42062476892066036,
          -0.42483851624040125,
          -0.4133538399723541,
          -0.4071072690258466,
          -0.39653437419769155,
          -0.3997082200192815,
          -0.40643256372354897,
          -0.4060838668743657,
          -0.4119368225985248,
          -0.43214070498487056,
          -0.47110162237255326,
          -0.4540215637515981,
          -0.4857796996319892,
          -0.5057123059865916,
          -0.5059681827551576,
          -0.5101481698828929,
          -0.5332480420430454,
          -0.5115905649629813,
          -0.5294966943022537,
          -0.534390157150239,
          -0.5484391263038226,
          -0.5408354977891058,
          -0.5433200390214725,
          -0.5321132854385969,
          -0.5449518795335446,
          -0.5519649048647501,
          -0.5391196221996819,
          -0.5439338170234025,
          -0.5324901322631608,
          -0.5305714735006808,
          -0.5089989097172496,
          -0.5249702188241987,
          -0.4945404959066041,
          -0.5168168719076143,
          -0.501683758204206,
          -0.516651901793902,
          -0.5266066556474776,
          -0.530241694609395,
          -0.5235248580480749,
          -0.5150306368549813,
          -0.5287786819112033,
          -0.5218827541159531,
          -0.5161584397972928,
          -0.522585250211627,
          -0.5434993589630633,
          -0.5758557126701973,
          -0.5831820672627248,
          -0.5810561610652705,
          -0.5768079501040977,
          -0.5921560282452774,
          -0.5662682270148942,
          -0.5904740520380659,
          -0.6008441353702582,
          -0.5872836745964498,
          -0.5892491354384417,
          -0.5716615920645816,
          -0.5782210639820025,
          -0.5698402638086744,
          -0.5758431795051666,
          -0.566784201549401,
          -0.5414986492623864,
          -0.5527656874927013,
          -0.5629586942397697,
          -0.5587969879577044,
          -0.5796995783029391,
          -0.576501841934165,
          -0.5835379531005197,
          -0.5768869464536952,
          -0.5911924850115894,
          -0.5995031403029549,
          -0.6173045166553608,
          -0.6128882976092862,
          -0.6249131830652792,
          -0.6522313890348681,
          -0.6660798708379425,
          -0.6823270717499361,
          -0.7148514489261402,
          -0.7136794812965217,
          -0.7183064687388736,
          -0.7329387510755578,
          -0.7394594457808077,
          -0.7448556933885709,
          -0.7613690948919701,
          -0.7633014420491431,
          -0.7502157932154314,
          -0.7543624120430827,
          -0.7585229677440454,
          -0.7614323828446803,
          -0.7729236057934127,
          -0.7801478327387101,
          -0.781101643970743,
          -0.7766167628430162,
          -0.7712316516672177,
          -0.7706336072980184,
          -0.7917117002788208,
          -0.7792363146847212,
          -0.7828605441625087,
          -0.7831050711754723,
          -0.7904671633449968,
          -0.79945130477238,
          -0.8058562731370078,
          -0.8046037749360326,
          -0.8066657136014752,
          -0.8122936862850298,
          -0.8175120157899929,
          -0.8181708579138349,
          -0.8220380062674132,
          -0.8267827873565359,
          -0.8324755622520484,
          -0.8403658659331633,
          -0.8459700647329375,
          -0.8465513230116388,
          -0.8485855637806977,
          -0.8499430089395883,
          -0.8526921813966492,
          -0.851420469909191,
          -0.8611763642748763,
          -0.8781378327399838,
          -0.8901082005273606,
          -0.8922570019281968,
          -0.8924791405722574,
          -0.8930577894286309,
          -0.8876702859539524,
          -0.8939401670960412,
          -0.8949016089852382,
          -0.8982192652717543,
          -0.902463769927271,
          -0.9015636847611341,
          -0.8966695241683436,
          -0.9007489358251545,
          -0.9042965738173233,
          -0.9051360283876775,
          -0.8968212847557269,
          -0.9073303025388929,
          -0.9074239610802546,
          -0.9144455679830645,
          -0.9129683512762206,
          -0.9168067895753269,
          -0.9191039592514921,
          -0.9158133426238567,
          -0.9156399302353052,
          -0.9163582871354445
         ],
         "yaxis": "y"
        },
        {
         "hovertemplate": "comp_mom12x3_to3M=1<br>date=%{x}<br>value=%{y}<extra></extra>",
         "legendgroup": "1",
         "line": {
          "color": "#EF553B",
          "dash": "solid"
         },
         "marker": {
          "symbol": "circle"
         },
         "mode": "lines",
         "name": "1",
         "showlegend": true,
         "type": "scattergl",
         "x": [
          "2006-01-31T00:00:00",
          "2006-02-28T00:00:00",
          "2006-03-31T00:00:00",
          "2006-04-30T00:00:00",
          "2006-05-31T00:00:00",
          "2006-06-30T00:00:00",
          "2006-07-31T00:00:00",
          "2006-08-31T00:00:00",
          "2006-09-30T00:00:00",
          "2006-10-31T00:00:00",
          "2006-11-30T00:00:00",
          "2006-12-31T00:00:00",
          "2007-01-31T00:00:00",
          "2007-02-28T00:00:00",
          "2007-03-31T00:00:00",
          "2007-04-30T00:00:00",
          "2007-05-31T00:00:00",
          "2007-06-30T00:00:00",
          "2007-07-31T00:00:00",
          "2007-08-31T00:00:00",
          "2007-09-30T00:00:00",
          "2007-10-31T00:00:00",
          "2007-11-30T00:00:00",
          "2007-12-31T00:00:00",
          "2008-01-31T00:00:00",
          "2008-02-29T00:00:00",
          "2008-03-31T00:00:00",
          "2008-04-30T00:00:00",
          "2008-05-31T00:00:00",
          "2008-06-30T00:00:00",
          "2008-07-31T00:00:00",
          "2008-08-31T00:00:00",
          "2008-09-30T00:00:00",
          "2008-10-31T00:00:00",
          "2008-11-30T00:00:00",
          "2008-12-31T00:00:00",
          "2009-01-31T00:00:00",
          "2009-02-28T00:00:00",
          "2009-03-31T00:00:00",
          "2009-04-30T00:00:00",
          "2009-05-31T00:00:00",
          "2009-06-30T00:00:00",
          "2009-07-31T00:00:00",
          "2009-08-31T00:00:00",
          "2009-09-30T00:00:00",
          "2009-10-31T00:00:00",
          "2009-11-30T00:00:00",
          "2009-12-31T00:00:00",
          "2010-01-31T00:00:00",
          "2010-02-28T00:00:00",
          "2010-03-31T00:00:00",
          "2010-04-30T00:00:00",
          "2010-05-31T00:00:00",
          "2010-06-30T00:00:00",
          "2010-07-31T00:00:00",
          "2010-08-31T00:00:00",
          "2010-09-30T00:00:00",
          "2010-10-31T00:00:00",
          "2010-11-30T00:00:00",
          "2010-12-31T00:00:00",
          "2011-01-31T00:00:00",
          "2011-02-28T00:00:00",
          "2011-03-31T00:00:00",
          "2011-04-30T00:00:00",
          "2011-05-31T00:00:00",
          "2011-06-30T00:00:00",
          "2011-07-31T00:00:00",
          "2011-08-31T00:00:00",
          "2011-09-30T00:00:00",
          "2011-10-31T00:00:00",
          "2011-11-30T00:00:00",
          "2011-12-31T00:00:00",
          "2012-01-31T00:00:00",
          "2012-02-29T00:00:00",
          "2012-03-31T00:00:00",
          "2012-04-30T00:00:00",
          "2012-05-31T00:00:00",
          "2012-06-30T00:00:00",
          "2012-07-31T00:00:00",
          "2012-08-31T00:00:00",
          "2012-09-30T00:00:00",
          "2012-10-31T00:00:00",
          "2012-11-30T00:00:00",
          "2012-12-31T00:00:00",
          "2013-01-31T00:00:00",
          "2013-02-28T00:00:00",
          "2013-03-31T00:00:00",
          "2013-04-30T00:00:00",
          "2013-05-31T00:00:00",
          "2013-06-30T00:00:00",
          "2013-07-31T00:00:00",
          "2013-08-31T00:00:00",
          "2013-09-30T00:00:00",
          "2013-10-31T00:00:00",
          "2013-11-30T00:00:00",
          "2013-12-31T00:00:00",
          "2014-01-31T00:00:00",
          "2014-02-28T00:00:00",
          "2014-03-31T00:00:00",
          "2014-04-30T00:00:00",
          "2014-05-31T00:00:00",
          "2014-06-30T00:00:00",
          "2014-07-31T00:00:00",
          "2014-08-31T00:00:00",
          "2014-09-30T00:00:00",
          "2014-10-31T00:00:00",
          "2014-11-30T00:00:00",
          "2014-12-31T00:00:00",
          "2015-01-31T00:00:00",
          "2015-02-28T00:00:00",
          "2015-03-31T00:00:00",
          "2015-04-30T00:00:00",
          "2015-05-31T00:00:00",
          "2015-06-30T00:00:00",
          "2015-07-31T00:00:00",
          "2015-08-31T00:00:00",
          "2015-09-30T00:00:00",
          "2015-10-31T00:00:00",
          "2015-11-30T00:00:00",
          "2015-12-31T00:00:00",
          "2016-01-31T00:00:00",
          "2016-02-29T00:00:00",
          "2016-03-31T00:00:00",
          "2016-04-30T00:00:00",
          "2016-05-31T00:00:00",
          "2016-06-30T00:00:00",
          "2016-07-31T00:00:00",
          "2016-08-31T00:00:00",
          "2016-09-30T00:00:00",
          "2016-10-31T00:00:00",
          "2016-11-30T00:00:00",
          "2016-12-31T00:00:00",
          "2017-01-31T00:00:00",
          "2017-02-28T00:00:00",
          "2017-03-31T00:00:00",
          "2017-04-30T00:00:00",
          "2017-05-31T00:00:00",
          "2017-06-30T00:00:00",
          "2017-07-31T00:00:00",
          "2017-08-31T00:00:00",
          "2017-09-30T00:00:00",
          "2017-10-31T00:00:00",
          "2017-11-30T00:00:00",
          "2017-12-31T00:00:00",
          "2018-01-31T00:00:00",
          "2018-02-28T00:00:00",
          "2018-03-31T00:00:00",
          "2018-04-30T00:00:00",
          "2018-05-31T00:00:00",
          "2018-06-30T00:00:00",
          "2018-07-31T00:00:00",
          "2018-08-31T00:00:00",
          "2018-09-30T00:00:00",
          "2018-10-31T00:00:00",
          "2018-11-30T00:00:00",
          "2018-12-31T00:00:00",
          "2019-01-31T00:00:00",
          "2019-02-28T00:00:00",
          "2019-03-31T00:00:00",
          "2019-04-30T00:00:00",
          "2019-05-31T00:00:00",
          "2019-06-30T00:00:00",
          "2019-07-31T00:00:00",
          "2019-08-31T00:00:00",
          "2019-09-30T00:00:00",
          "2019-10-31T00:00:00",
          "2019-11-30T00:00:00",
          "2019-12-31T00:00:00",
          "2020-01-31T00:00:00",
          "2020-02-29T00:00:00",
          "2020-03-31T00:00:00",
          "2020-04-30T00:00:00",
          "2020-05-31T00:00:00",
          "2020-06-30T00:00:00",
          "2020-07-31T00:00:00",
          "2020-08-31T00:00:00",
          "2020-09-30T00:00:00",
          "2020-10-31T00:00:00",
          "2020-11-30T00:00:00",
          "2020-12-31T00:00:00",
          "2021-01-31T00:00:00",
          "2021-02-28T00:00:00",
          "2021-03-31T00:00:00",
          "2021-04-30T00:00:00",
          "2021-05-31T00:00:00",
          "2021-06-30T00:00:00",
          "2021-07-31T00:00:00",
          "2021-08-31T00:00:00",
          "2021-09-30T00:00:00",
          "2021-10-31T00:00:00",
          "2021-11-30T00:00:00",
          "2021-12-31T00:00:00",
          "2022-01-31T00:00:00",
          "2022-02-28T00:00:00",
          "2022-03-31T00:00:00",
          "2022-04-30T00:00:00",
          "2022-05-31T00:00:00",
          "2022-06-30T00:00:00",
          "2022-07-31T00:00:00",
          "2022-08-31T00:00:00",
          "2022-09-30T00:00:00",
          "2022-10-31T00:00:00",
          "2022-11-30T00:00:00"
         ],
         "xaxis": "x",
         "y": [
          0,
          -0.027961380234578725,
          -0.044073877304997455,
          -0.06153459216370094,
          -0.07624431137913201,
          -0.1156103935462437,
          -0.11793182120554702,
          -0.08783380712975897,
          -0.1045571673747614,
          -0.12906380580055132,
          -0.16892758939911579,
          -0.16473705245081605,
          -0.1559823397575002,
          -0.13597207300841385,
          -0.12536975201965406,
          -0.16786480031815842,
          -0.2177407106012278,
          -0.19145645476390716,
          -0.1737831672897744,
          -0.19047306526040086,
          -0.25694977593011814,
          -0.2306616374651519,
          -0.21216323760632883,
          -0.2084213931519192,
          -0.20296507971962796,
          -0.2080351747860254,
          -0.24490434330317745,
          -0.23429380467825645,
          -0.24462702058915742,
          -0.24096623249190674,
          -0.2673417138550168,
          -0.2738944942773738,
          -0.29032817621549256,
          -0.2642149540715799,
          -0.2656842754910461,
          -0.2533596298658721,
          -0.23494590499595014,
          -0.21572599141547977,
          -0.23976576356200252,
          -0.21198513689600795,
          -0.21838182215206026,
          -0.19647314744871214,
          -0.20016507998060695,
          -0.21235475411397187,
          -0.22002880789485735,
          -0.22496113399944284,
          -0.22085237408387914,
          -0.1953613258105409,
          -0.16347028158289112,
          -0.1653219877261327,
          -0.16816022439093858,
          -0.15183032320860712,
          -0.1542346977019834,
          -0.1390058433354847,
          -0.14855426139102557,
          -0.15983075071750996,
          -0.14362550363486992,
          -0.12617321428484374,
          -0.14111595771462182,
          -0.16723027895871478,
          -0.14636256037885564,
          -0.12620358898399076,
          -0.12419656811974755,
          -0.14098511418212623,
          -0.13944818877253662,
          -0.13377838130903907,
          -0.12941708008594843,
          -0.13863441353764616,
          -0.13687168279223083,
          -0.12695240252667916,
          -0.1355029628649932,
          -0.16014200815362012,
          -0.15384592635239913,
          -0.1736088397711053,
          -0.17511489356215382,
          -0.18427878417223487,
          -0.20549900226805706,
          -0.22826834466355328,
          -0.21581925793128076,
          -0.23869597558728506,
          -0.23758059983956192,
          -0.26292646574153766,
          -0.27007055571238414,
          -0.26602953414688124,
          -0.2562918224376737,
          -0.26717042530583035,
          -0.2676455744854431,
          -0.24763530709510506,
          -0.2481554011436341,
          -0.24329947633296178,
          -0.24414292218787537,
          -0.24202354115873737,
          -0.25982592462127174,
          -0.24986353387334415,
          -0.2591037821139768,
          -0.2566014629929301,
          -0.2468403812766532,
          -0.26729855215597265,
          -0.2672254197866669,
          -0.267086361075876,
          -0.2577453895025419,
          -0.27322917313210693,
          -0.25579396003550425,
          -0.2349390899659719,
          -0.23551797665563978,
          -0.24407344257096253,
          -0.2802121238189952,
          -0.29034641522935767,
          -0.27219521573474714,
          -0.2628194065243319,
          -0.30840823405526174,
          -0.26715648382508617,
          -0.27467469381614096,
          -0.27699611076095587,
          -0.29118707662550924,
          -0.2921455821535107,
          -0.24901084220593828,
          -0.24503246963352632,
          -0.2422155355943879,
          -0.271943621149342,
          -0.2833236075714345,
          -0.2679240703415513,
          -0.2744220487039659,
          -0.2799800871600473,
          -0.264817950672543,
          -0.2872034407477243,
          -0.28362576315547605,
          -0.2878346172396533,
          -0.2809495561642249,
          -0.27708800003911715,
          -0.27754274402609824,
          -0.2858318472928745,
          -0.2846267739627214,
          -0.3019842886176105,
          -0.32961294253929363,
          -0.3429097864516799,
          -0.3562883509317979,
          -0.3581609352603139,
          -0.3453492934081108,
          -0.34372395135129874,
          -0.38213405400150724,
          -0.40118265678022114,
          -0.4093311965180184,
          -0.42050931960293414,
          -0.4237103866290115,
          -0.406288430517193,
          -0.41470606459924186,
          -0.4374829704177108,
          -0.450397657129638,
          -0.4564721238644902,
          -0.46792405732324116,
          -0.47491639253381934,
          -0.476316384716971,
          -0.4733536595646527,
          -0.47391029530946827,
          -0.5100094948954204,
          -0.46648904803962243,
          -0.466520104735617,
          -0.47738938214732063,
          -0.47022803591282747,
          -0.48443402971009464,
          -0.49834409879620034,
          -0.4960441542585259,
          -0.49146400599961304,
          -0.505894259287347,
          -0.5139432599553381,
          -0.5086556413296991,
          -0.48965715136306265,
          -0.4886067538096063,
          -0.5065171040052644,
          -0.509906174797696,
          -0.517419509442614,
          -0.5318017272176987,
          -0.5356229282282691,
          -0.533589669855972,
          -0.5420006730734741,
          -0.5494268529282973,
          -0.5627869719206452,
          -0.5864399822503716,
          -0.6103700593636547,
          -0.604544128651084,
          -0.6024293579856483,
          -0.6111408428633066,
          -0.597092499794688,
          -0.5935459332325193,
          -0.5853151729191324,
          -0.5911845034857532,
          -0.6034998881950733,
          -0.5987708738712559,
          -0.5872213019374917,
          -0.5814892887108243,
          -0.5863999424519624,
          -0.5867287854967476,
          -0.571272279962056,
          -0.5957302632631493,
          -0.5939205872550731,
          -0.6078477817617698,
          -0.6089194454332308,
          -0.6182697894373769,
          -0.6270232855075191,
          -0.6186947633281356,
          -0.61990840698433,
          -0.6234383209504935
         ],
         "yaxis": "y"
        },
        {
         "hovertemplate": "comp_mom12x3_to3M=2<br>date=%{x}<br>value=%{y}<extra></extra>",
         "legendgroup": "2",
         "line": {
          "color": "#00cc96",
          "dash": "solid"
         },
         "marker": {
          "symbol": "circle"
         },
         "mode": "lines",
         "name": "2",
         "showlegend": true,
         "type": "scattergl",
         "x": [
          "2006-01-31T00:00:00",
          "2006-02-28T00:00:00",
          "2006-03-31T00:00:00",
          "2006-04-30T00:00:00",
          "2006-05-31T00:00:00",
          "2006-06-30T00:00:00",
          "2006-07-31T00:00:00",
          "2006-08-31T00:00:00",
          "2006-09-30T00:00:00",
          "2006-10-31T00:00:00",
          "2006-11-30T00:00:00",
          "2006-12-31T00:00:00",
          "2007-01-31T00:00:00",
          "2007-02-28T00:00:00",
          "2007-03-31T00:00:00",
          "2007-04-30T00:00:00",
          "2007-05-31T00:00:00",
          "2007-06-30T00:00:00",
          "2007-07-31T00:00:00",
          "2007-08-31T00:00:00",
          "2007-09-30T00:00:00",
          "2007-10-31T00:00:00",
          "2007-11-30T00:00:00",
          "2007-12-31T00:00:00",
          "2008-01-31T00:00:00",
          "2008-02-29T00:00:00",
          "2008-03-31T00:00:00",
          "2008-04-30T00:00:00",
          "2008-05-31T00:00:00",
          "2008-06-30T00:00:00",
          "2008-07-31T00:00:00",
          "2008-08-31T00:00:00",
          "2008-09-30T00:00:00",
          "2008-10-31T00:00:00",
          "2008-11-30T00:00:00",
          "2008-12-31T00:00:00",
          "2009-01-31T00:00:00",
          "2009-02-28T00:00:00",
          "2009-03-31T00:00:00",
          "2009-04-30T00:00:00",
          "2009-05-31T00:00:00",
          "2009-06-30T00:00:00",
          "2009-07-31T00:00:00",
          "2009-08-31T00:00:00",
          "2009-09-30T00:00:00",
          "2009-10-31T00:00:00",
          "2009-11-30T00:00:00",
          "2009-12-31T00:00:00",
          "2010-01-31T00:00:00",
          "2010-02-28T00:00:00",
          "2010-03-31T00:00:00",
          "2010-04-30T00:00:00",
          "2010-05-31T00:00:00",
          "2010-06-30T00:00:00",
          "2010-07-31T00:00:00",
          "2010-08-31T00:00:00",
          "2010-09-30T00:00:00",
          "2010-10-31T00:00:00",
          "2010-11-30T00:00:00",
          "2010-12-31T00:00:00",
          "2011-01-31T00:00:00",
          "2011-02-28T00:00:00",
          "2011-03-31T00:00:00",
          "2011-04-30T00:00:00",
          "2011-05-31T00:00:00",
          "2011-06-30T00:00:00",
          "2011-07-31T00:00:00",
          "2011-08-31T00:00:00",
          "2011-09-30T00:00:00",
          "2011-10-31T00:00:00",
          "2011-11-30T00:00:00",
          "2011-12-31T00:00:00",
          "2012-01-31T00:00:00",
          "2012-02-29T00:00:00",
          "2012-03-31T00:00:00",
          "2012-04-30T00:00:00",
          "2012-05-31T00:00:00",
          "2012-06-30T00:00:00",
          "2012-07-31T00:00:00",
          "2012-08-31T00:00:00",
          "2012-09-30T00:00:00",
          "2012-10-31T00:00:00",
          "2012-11-30T00:00:00",
          "2012-12-31T00:00:00",
          "2013-01-31T00:00:00",
          "2013-02-28T00:00:00",
          "2013-03-31T00:00:00",
          "2013-04-30T00:00:00",
          "2013-05-31T00:00:00",
          "2013-06-30T00:00:00",
          "2013-07-31T00:00:00",
          "2013-08-31T00:00:00",
          "2013-09-30T00:00:00",
          "2013-10-31T00:00:00",
          "2013-11-30T00:00:00",
          "2013-12-31T00:00:00",
          "2014-01-31T00:00:00",
          "2014-02-28T00:00:00",
          "2014-03-31T00:00:00",
          "2014-04-30T00:00:00",
          "2014-05-31T00:00:00",
          "2014-06-30T00:00:00",
          "2014-07-31T00:00:00",
          "2014-08-31T00:00:00",
          "2014-09-30T00:00:00",
          "2014-10-31T00:00:00",
          "2014-11-30T00:00:00",
          "2014-12-31T00:00:00",
          "2015-01-31T00:00:00",
          "2015-02-28T00:00:00",
          "2015-03-31T00:00:00",
          "2015-04-30T00:00:00",
          "2015-05-31T00:00:00",
          "2015-06-30T00:00:00",
          "2015-07-31T00:00:00",
          "2015-08-31T00:00:00",
          "2015-09-30T00:00:00",
          "2015-10-31T00:00:00",
          "2015-11-30T00:00:00",
          "2015-12-31T00:00:00",
          "2016-01-31T00:00:00",
          "2016-02-29T00:00:00",
          "2016-03-31T00:00:00",
          "2016-04-30T00:00:00",
          "2016-05-31T00:00:00",
          "2016-06-30T00:00:00",
          "2016-07-31T00:00:00",
          "2016-08-31T00:00:00",
          "2016-09-30T00:00:00",
          "2016-10-31T00:00:00",
          "2016-11-30T00:00:00",
          "2016-12-31T00:00:00",
          "2017-01-31T00:00:00",
          "2017-02-28T00:00:00",
          "2017-03-31T00:00:00",
          "2017-04-30T00:00:00",
          "2017-05-31T00:00:00",
          "2017-06-30T00:00:00",
          "2017-07-31T00:00:00",
          "2017-08-31T00:00:00",
          "2017-09-30T00:00:00",
          "2017-10-31T00:00:00",
          "2017-11-30T00:00:00",
          "2017-12-31T00:00:00",
          "2018-01-31T00:00:00",
          "2018-02-28T00:00:00",
          "2018-03-31T00:00:00",
          "2018-04-30T00:00:00",
          "2018-05-31T00:00:00",
          "2018-06-30T00:00:00",
          "2018-07-31T00:00:00",
          "2018-08-31T00:00:00",
          "2018-09-30T00:00:00",
          "2018-10-31T00:00:00",
          "2018-11-30T00:00:00",
          "2018-12-31T00:00:00",
          "2019-01-31T00:00:00",
          "2019-02-28T00:00:00",
          "2019-03-31T00:00:00",
          "2019-04-30T00:00:00",
          "2019-05-31T00:00:00",
          "2019-06-30T00:00:00",
          "2019-07-31T00:00:00",
          "2019-08-31T00:00:00",
          "2019-09-30T00:00:00",
          "2019-10-31T00:00:00",
          "2019-11-30T00:00:00",
          "2019-12-31T00:00:00",
          "2020-01-31T00:00:00",
          "2020-02-29T00:00:00",
          "2020-03-31T00:00:00",
          "2020-04-30T00:00:00",
          "2020-05-31T00:00:00",
          "2020-06-30T00:00:00",
          "2020-07-31T00:00:00",
          "2020-08-31T00:00:00",
          "2020-09-30T00:00:00",
          "2020-10-31T00:00:00",
          "2020-11-30T00:00:00",
          "2020-12-31T00:00:00",
          "2021-01-31T00:00:00",
          "2021-02-28T00:00:00",
          "2021-03-31T00:00:00",
          "2021-04-30T00:00:00",
          "2021-05-31T00:00:00",
          "2021-06-30T00:00:00",
          "2021-07-31T00:00:00",
          "2021-08-31T00:00:00",
          "2021-09-30T00:00:00",
          "2021-10-31T00:00:00",
          "2021-11-30T00:00:00",
          "2021-12-31T00:00:00",
          "2022-01-31T00:00:00",
          "2022-02-28T00:00:00",
          "2022-03-31T00:00:00",
          "2022-04-30T00:00:00",
          "2022-05-31T00:00:00",
          "2022-06-30T00:00:00",
          "2022-07-31T00:00:00",
          "2022-08-31T00:00:00",
          "2022-09-30T00:00:00",
          "2022-10-31T00:00:00",
          "2022-11-30T00:00:00"
         ],
         "xaxis": "x",
         "y": [
          0,
          -0.028418921479364756,
          -0.04840624869586918,
          0.004108139309558112,
          -0.0010079424170207352,
          0.016059611276504127,
          0.0219909515939265,
          0.023483978206265466,
          0.01353546089307378,
          0.006111487354631517,
          0.033103215881557624,
          0.05136797522394376,
          0.08088750991916815,
          0.1147485308143017,
          0.2098483621548699,
          0.19160143041476085,
          0.10803906814042485,
          0.1369125153279429,
          0.15465224317983228,
          0.13955989447125283,
          0.11176537533210151,
          0.14679166144657274,
          0.12518553607532157,
          0.12886540771983102,
          0.14224434385894646,
          0.13543475582314612,
          0.10764159685245533,
          0.10904081610148197,
          0.08712019372699076,
          0.11510893264175759,
          0.12731571016252152,
          0.12150735908058374,
          0.13744492757521165,
          0.19972089735606735,
          0.19225781963687472,
          0.22195783408270753,
          0.22858816309871322,
          0.29271289600731754,
          0.27204351972181784,
          0.28034886095558953,
          0.22874181608699518,
          0.2343991120430482,
          0.22859996046333353,
          0.22657790371019781,
          0.2600558005372249,
          0.27582245658000715,
          0.2634143005903322,
          0.25610447795392144,
          0.2628372816967217,
          0.2512511342661532,
          0.24657895093683613,
          0.23694583574832473,
          0.2209514780534816,
          0.2259700495387329,
          0.21761881454398213,
          0.23148431905077915,
          0.25389025122283404,
          0.2250151327001748,
          0.25889543490120936,
          0.2351131297764244,
          0.24130504596005808,
          0.2269096576646219,
          0.20634977389238895,
          0.21154484369424265,
          0.19202938494389654,
          0.19902740758830473,
          0.2020500776584846,
          0.19829416792365895,
          0.1859972043550462,
          0.18346744147094562,
          0.16820802178340255,
          0.16333361091800724,
          0.18385914068624754,
          0.17723942491676903,
          0.20728811484447474,
          0.20817560609792785,
          0.18474912864355875,
          0.1793437757952705,
          0.17495498354978478,
          0.16900358281660188,
          0.16591314630220477,
          0.15788833125713397,
          0.13859850188753553,
          0.12123780164170772,
          0.09966731684852403,
          0.07335852037994561,
          0.07202893394105292,
          0.09772778905693169,
          0.06615187410737033,
          0.05535290990064379,
          0.049241583107370035,
          0.03291917354927909,
          0.012278121052946123,
          0.014360396675854536,
          0.022420832925301948,
          -0.025909018895754476,
          -0.0069972311480830385,
          -0.004825584096015301,
          -0.026666485100339865,
          -0.04711223230294581,
          -0.056499041789784155,
          -0.05259975148849483,
          -0.05667685579699544,
          -0.044873608761818895,
          -0.055822421988640514,
          -0.06808683658012049,
          -0.12158141951235601,
          -0.11726841969940871,
          -0.09502117032556945,
          -0.09661552903477766,
          -0.10439110768667248,
          -0.07091007602508892,
          -0.08006214153121283,
          -0.09650333135343447,
          -0.10041075951541445,
          -0.09401111916561444,
          -0.038430154603406264,
          0.0006401919609497764,
          0.0049682624841904666,
          -0.01644337008090946,
          -0.018653154599177157,
          -0.017184073287632273,
          -0.013232007578894978,
          -0.012091703648431373,
          -0.01656676625952669,
          -0.03146239552648045,
          -0.04233659854244154,
          -0.04679196752386372,
          -0.04643272359632866,
          -0.044053305089105765,
          -0.03252725556533165,
          -0.03792818936987763,
          -0.04062479434790511,
          -0.04390486536851779,
          -0.018244793982537533,
          -0.04394570431403255,
          -0.05011369622134165,
          -0.03187738983838739,
          -0.010635092028256188,
          -0.008436269142671593,
          -0.03258627633309463,
          -0.03972661865415228,
          -0.05041476844818116,
          -0.07379040192815034,
          -0.08828713200090199,
          -0.08262517215117782,
          -0.09906810848589265,
          -0.128711354256285,
          -0.1411647782106472,
          -0.13326172544523496,
          -0.1300841123462061,
          -0.1307709555012938,
          -0.13450112631775524,
          -0.11014462758562771,
          -0.1346597147591415,
          -0.14877839856768005,
          -0.12187407977680054,
          -0.11385834865025779,
          -0.11961213242782898,
          -0.13390709348915608,
          -0.14876289206245497,
          -0.16292734641742201,
          -0.16487373204807376,
          -0.17262471676068636,
          -0.17168566075728275,
          -0.1531995951022469,
          -0.12410439099314086,
          -0.12293740224224348,
          -0.11808106141448826,
          -0.1278384042910169,
          -0.15075587938857116,
          -0.14517905106319862,
          -0.17368227080140464,
          -0.18592170445099132,
          -0.19876612890894874,
          -0.20528962191353295,
          -0.21429829789195065,
          -0.2148022076672237,
          -0.219316353578063,
          -0.2251091983836474,
          -0.2182191689462002,
          -0.21492807128907998,
          -0.21472919967164872,
          -0.21922866580363198,
          -0.20513964426214548,
          -0.19223831791679968,
          -0.1855456094847242,
          -0.18857976213567584,
          -0.19234684498330135,
          -0.1793192442902971,
          -0.17115694225946754,
          -0.173185770445895,
          -0.185667550722718,
          -0.17184199403633305,
          -0.185832790161659,
          -0.18698683923791748,
          -0.1836115479773548,
          -0.20150461718422608,
          -0.19866867171002356,
          -0.20460063134804563,
          -0.1987733455552808,
          -0.20112960100052246,
          -0.2042468266606967
         ],
         "yaxis": "y"
        },
        {
         "hovertemplate": "comp_mom12x3_to3M=3<br>date=%{x}<br>value=%{y}<extra></extra>",
         "legendgroup": "3",
         "line": {
          "color": "#ab63fa",
          "dash": "solid"
         },
         "marker": {
          "symbol": "circle"
         },
         "mode": "lines",
         "name": "3",
         "showlegend": true,
         "type": "scattergl",
         "x": [
          "2006-01-31T00:00:00",
          "2006-02-28T00:00:00",
          "2006-03-31T00:00:00",
          "2006-04-30T00:00:00",
          "2006-05-31T00:00:00",
          "2006-06-30T00:00:00",
          "2006-07-31T00:00:00",
          "2006-08-31T00:00:00",
          "2006-09-30T00:00:00",
          "2006-10-31T00:00:00",
          "2006-11-30T00:00:00",
          "2006-12-31T00:00:00",
          "2007-01-31T00:00:00",
          "2007-02-28T00:00:00",
          "2007-03-31T00:00:00",
          "2007-04-30T00:00:00",
          "2007-05-31T00:00:00",
          "2007-06-30T00:00:00",
          "2007-07-31T00:00:00",
          "2007-08-31T00:00:00",
          "2007-09-30T00:00:00",
          "2007-10-31T00:00:00",
          "2007-11-30T00:00:00",
          "2007-12-31T00:00:00",
          "2008-01-31T00:00:00",
          "2008-02-29T00:00:00",
          "2008-03-31T00:00:00",
          "2008-04-30T00:00:00",
          "2008-05-31T00:00:00",
          "2008-06-30T00:00:00",
          "2008-07-31T00:00:00",
          "2008-08-31T00:00:00",
          "2008-09-30T00:00:00",
          "2008-10-31T00:00:00",
          "2008-11-30T00:00:00",
          "2008-12-31T00:00:00",
          "2009-01-31T00:00:00",
          "2009-02-28T00:00:00",
          "2009-03-31T00:00:00",
          "2009-04-30T00:00:00",
          "2009-05-31T00:00:00",
          "2009-06-30T00:00:00",
          "2009-07-31T00:00:00",
          "2009-08-31T00:00:00",
          "2009-09-30T00:00:00",
          "2009-10-31T00:00:00",
          "2009-11-30T00:00:00",
          "2009-12-31T00:00:00",
          "2010-01-31T00:00:00",
          "2010-02-28T00:00:00",
          "2010-03-31T00:00:00",
          "2010-04-30T00:00:00",
          "2010-05-31T00:00:00",
          "2010-06-30T00:00:00",
          "2010-07-31T00:00:00",
          "2010-08-31T00:00:00",
          "2010-09-30T00:00:00",
          "2010-10-31T00:00:00",
          "2010-11-30T00:00:00",
          "2010-12-31T00:00:00",
          "2011-01-31T00:00:00",
          "2011-02-28T00:00:00",
          "2011-03-31T00:00:00",
          "2011-04-30T00:00:00",
          "2011-05-31T00:00:00",
          "2011-06-30T00:00:00",
          "2011-07-31T00:00:00",
          "2011-08-31T00:00:00",
          "2011-09-30T00:00:00",
          "2011-10-31T00:00:00",
          "2011-11-30T00:00:00",
          "2011-12-31T00:00:00",
          "2012-01-31T00:00:00",
          "2012-02-29T00:00:00",
          "2012-03-31T00:00:00",
          "2012-04-30T00:00:00",
          "2012-05-31T00:00:00",
          "2012-06-30T00:00:00",
          "2012-07-31T00:00:00",
          "2012-08-31T00:00:00",
          "2012-09-30T00:00:00",
          "2012-10-31T00:00:00",
          "2012-11-30T00:00:00",
          "2012-12-31T00:00:00",
          "2013-01-31T00:00:00",
          "2013-02-28T00:00:00",
          "2013-03-31T00:00:00",
          "2013-04-30T00:00:00",
          "2013-05-31T00:00:00",
          "2013-06-30T00:00:00",
          "2013-07-31T00:00:00",
          "2013-08-31T00:00:00",
          "2013-09-30T00:00:00",
          "2013-10-31T00:00:00",
          "2013-11-30T00:00:00",
          "2013-12-31T00:00:00",
          "2014-01-31T00:00:00",
          "2014-02-28T00:00:00",
          "2014-03-31T00:00:00",
          "2014-04-30T00:00:00",
          "2014-05-31T00:00:00",
          "2014-06-30T00:00:00",
          "2014-07-31T00:00:00",
          "2014-08-31T00:00:00",
          "2014-09-30T00:00:00",
          "2014-10-31T00:00:00",
          "2014-11-30T00:00:00",
          "2014-12-31T00:00:00",
          "2015-01-31T00:00:00",
          "2015-02-28T00:00:00",
          "2015-03-31T00:00:00",
          "2015-04-30T00:00:00",
          "2015-05-31T00:00:00",
          "2015-06-30T00:00:00",
          "2015-07-31T00:00:00",
          "2015-08-31T00:00:00",
          "2015-09-30T00:00:00",
          "2015-10-31T00:00:00",
          "2015-11-30T00:00:00",
          "2015-12-31T00:00:00",
          "2016-01-31T00:00:00",
          "2016-02-29T00:00:00",
          "2016-03-31T00:00:00",
          "2016-04-30T00:00:00",
          "2016-05-31T00:00:00",
          "2016-06-30T00:00:00",
          "2016-07-31T00:00:00",
          "2016-08-31T00:00:00",
          "2016-09-30T00:00:00",
          "2016-10-31T00:00:00",
          "2016-11-30T00:00:00",
          "2016-12-31T00:00:00",
          "2017-01-31T00:00:00",
          "2017-02-28T00:00:00",
          "2017-03-31T00:00:00",
          "2017-04-30T00:00:00",
          "2017-05-31T00:00:00",
          "2017-06-30T00:00:00",
          "2017-07-31T00:00:00",
          "2017-08-31T00:00:00",
          "2017-09-30T00:00:00",
          "2017-10-31T00:00:00",
          "2017-11-30T00:00:00",
          "2017-12-31T00:00:00",
          "2018-01-31T00:00:00",
          "2018-02-28T00:00:00",
          "2018-03-31T00:00:00",
          "2018-04-30T00:00:00",
          "2018-05-31T00:00:00",
          "2018-06-30T00:00:00",
          "2018-07-31T00:00:00",
          "2018-08-31T00:00:00",
          "2018-09-30T00:00:00",
          "2018-10-31T00:00:00",
          "2018-11-30T00:00:00",
          "2018-12-31T00:00:00",
          "2019-01-31T00:00:00",
          "2019-02-28T00:00:00",
          "2019-03-31T00:00:00",
          "2019-04-30T00:00:00",
          "2019-05-31T00:00:00",
          "2019-06-30T00:00:00",
          "2019-07-31T00:00:00",
          "2019-08-31T00:00:00",
          "2019-09-30T00:00:00",
          "2019-10-31T00:00:00",
          "2019-11-30T00:00:00",
          "2019-12-31T00:00:00",
          "2020-01-31T00:00:00",
          "2020-02-29T00:00:00",
          "2020-03-31T00:00:00",
          "2020-04-30T00:00:00",
          "2020-05-31T00:00:00",
          "2020-06-30T00:00:00",
          "2020-07-31T00:00:00",
          "2020-08-31T00:00:00",
          "2020-09-30T00:00:00",
          "2020-10-31T00:00:00",
          "2020-11-30T00:00:00",
          "2020-12-31T00:00:00",
          "2021-01-31T00:00:00",
          "2021-02-28T00:00:00",
          "2021-03-31T00:00:00",
          "2021-04-30T00:00:00",
          "2021-05-31T00:00:00",
          "2021-06-30T00:00:00",
          "2021-07-31T00:00:00",
          "2021-08-31T00:00:00",
          "2021-09-30T00:00:00",
          "2021-10-31T00:00:00",
          "2021-11-30T00:00:00",
          "2021-12-31T00:00:00",
          "2022-01-31T00:00:00",
          "2022-02-28T00:00:00",
          "2022-03-31T00:00:00",
          "2022-04-30T00:00:00",
          "2022-05-31T00:00:00",
          "2022-06-30T00:00:00",
          "2022-07-31T00:00:00",
          "2022-08-31T00:00:00",
          "2022-09-30T00:00:00",
          "2022-10-31T00:00:00",
          "2022-11-30T00:00:00"
         ],
         "xaxis": "x",
         "y": [
          0,
          0.005550455392860698,
          0.0002824883434244807,
          0.007566571361224517,
          -0.022155510911121,
          0.001408608138638412,
          -0.023701857116170344,
          -0.03899634033665078,
          -0.04339437254255141,
          -0.042930922679966566,
          -0.044208494007969557,
          -0.04524229523015477,
          0.01088737769347703,
          0.009012718251073304,
          0.005852481412357946,
          0.01987359666034849,
          0.014675017405511692,
          0.029633388301887775,
          0.003939018350497703,
          -0.03216073405536923,
          -0.019555450027348598,
          0.007353536803124783,
          0.011090204354972988,
          -0.022762193794320762,
          -0.029626700353340807,
          -0.027075497245243385,
          -0.05416690391783163,
          -0.034575907074950285,
          -0.03457253181373199,
          -0.03588404548718027,
          -0.040334256844977934,
          -0.03369442487560104,
          -0.03841068041681006,
          -0.03503211693894026,
          -0.054621277973791016,
          -0.021187471058030316,
          -0.016138217757673323,
          -0.015912428578641502,
          -0.00759494475769229,
          0.019135740018143776,
          -0.004715730766259751,
          0.04943361441927974,
          0.053742758109915245,
          0.040152880809811275,
          0.01771111603921316,
          0.021045533713160314,
          0.02704264978730353,
          0.030480549238256716,
          0.02766880544484218,
          0.027543854604423323,
          0.02239966732870169,
          0.006470874878850896,
          0.020028075262668477,
          0.023153878043147946,
          0.02719327668448912,
          0.014223498305789395,
          0.016979503724709577,
          -0.029437408389836106,
          -0.02729864299018947,
          0.009252495775585734,
          0.0076660089251667785,
          0.0005265249560892915,
          0.0025669216341750456,
          -0.009287180813227658,
          -0.02144810807032238,
          -0.028438699553701152,
          -0.018055020754823348,
          -0.010977921781582745,
          -0.006301929380666427,
          -0.02493429524904711,
          -0.019788718789482407,
          -0.009719688420605554,
          -0.023968611530981287,
          -0.03199091601381765,
          -0.009988598842338603,
          -0.0021301146133358984,
          -0.02430969061230126,
          -0.0303645167175286,
          -0.026723239101339336,
          -0.03072918540444647,
          -0.027567458908672182,
          -0.018905995629434735,
          -0.005279801873031453,
          -0.007062980892148962,
          -0.020026170568117063,
          -0.03308273856263111,
          -0.03268982090645589,
          -0.01251332609742728,
          -0.014726831801737061,
          -0.009344786474650868,
          -0.0033716094027829158,
          0.008763854009823824,
          0.023126313254864472,
          0.002661260267759369,
          -0.004114887926813693,
          -0.019539854483577423,
          -0.024990828157698375,
          -0.007498862251885785,
          -0.003764980942749907,
          -0.004438945710876441,
          -0.012540654496433379,
          -0.0011592242586812018,
          -0.010708185558825245,
          0.005974553166027352,
          0.011650501274240721,
          -0.0043086164484514855,
          -0.0019685624988832195,
          -0.008658074020547746,
          -0.02123137856384094,
          -0.03491004865397662,
          -0.03965380604476798,
          0.002526221886640201,
          -0.0035540140602704495,
          -0.0013617608893007338,
          0.007543416142420822,
          -0.006344850929191237,
          -0.020799427635569745,
          -0.028921887672342494,
          -0.018466018827703268,
          -0.03801859974167987,
          -0.05087300799192118,
          -0.03785507198808746,
          -0.03572541826844855,
          -0.025569041202217035,
          -0.01958568111913428,
          -0.00637046090329918,
          0.002304465598178318,
          0.015568164039676091,
          0.02466194170281133,
          0.029547265807907896,
          0.0387362422733144,
          0.029318439375572325,
          0.04291080833154526,
          0.025857851828155365,
          0.008520772147308842,
          -0.010716725273965944,
          -0.01071747559046654,
          0.0034042338562469965,
          -0.002804602563501346,
          -0.00916455233116198,
          -0.026344129093263446,
          -0.024812413549378687,
          -0.03533237934561606,
          -0.04885733496520739,
          -0.051294626528905485,
          -0.05972026182791579,
          -0.05034431960560126,
          -0.07254671721577,
          -0.08043553997981812,
          -0.06358526924028673,
          -0.05317282343155605,
          -0.05041013370606284,
          -0.05069756039047302,
          -0.056859260140070256,
          -0.05286024144941459,
          -0.06013081964518352,
          -0.03877069576695258,
          -0.04014306171894211,
          -0.07120362418754689,
          -0.06568682696464467,
          -0.08191831637143654,
          -0.09543863263973973,
          -0.10036166495665866,
          -0.09241825100332468,
          -0.08391604295260335,
          -0.07895823572852345,
          -0.07316959346839669,
          -0.07451504431070899,
          -0.06887631909891967,
          -0.07831109522100754,
          -0.10946042901894804,
          -0.115067220501055,
          -0.1154907586402365,
          -0.08970222080893131,
          -0.07321530465701676,
          -0.0707268833308402,
          -0.0795055242743683,
          -0.041434084964364515,
          -0.07743661968742677,
          -0.09455623848264061,
          -0.08156704967329287,
          -0.08417089301406722,
          -0.09944673654495628,
          -0.09490042594587333,
          -0.07801832247169338,
          -0.05938406538127472,
          -0.08480521153170373,
          -0.0620733239678245,
          -0.07126777669012874,
          -0.05106635817626659,
          -0.022517359014094906,
          -0.01482671898622423,
          -0.02282284853777483,
          -0.03325349379100728,
          -0.01377382677122485,
          -0.017554392969402866,
          0.01232636465848147,
          -0.0037545614362112234,
          -0.014531733567513139,
          -0.02991694783774279,
          -0.022835856521054798,
          -0.014527418058630004,
          -0.011262011424655105
         ],
         "yaxis": "y"
        },
        {
         "hovertemplate": "comp_mom12x3_to3M=4<br>date=%{x}<br>value=%{y}<extra></extra>",
         "legendgroup": "4",
         "line": {
          "color": "#FFA15A",
          "dash": "solid"
         },
         "marker": {
          "symbol": "circle"
         },
         "mode": "lines",
         "name": "4",
         "showlegend": true,
         "type": "scattergl",
         "x": [
          "2006-01-31T00:00:00",
          "2006-02-28T00:00:00",
          "2006-03-31T00:00:00",
          "2006-04-30T00:00:00",
          "2006-05-31T00:00:00",
          "2006-06-30T00:00:00",
          "2006-07-31T00:00:00",
          "2006-08-31T00:00:00",
          "2006-09-30T00:00:00",
          "2006-10-31T00:00:00",
          "2006-11-30T00:00:00",
          "2006-12-31T00:00:00",
          "2007-01-31T00:00:00",
          "2007-02-28T00:00:00",
          "2007-03-31T00:00:00",
          "2007-04-30T00:00:00",
          "2007-05-31T00:00:00",
          "2007-06-30T00:00:00",
          "2007-07-31T00:00:00",
          "2007-08-31T00:00:00",
          "2007-09-30T00:00:00",
          "2007-10-31T00:00:00",
          "2007-11-30T00:00:00",
          "2007-12-31T00:00:00",
          "2008-01-31T00:00:00",
          "2008-02-29T00:00:00",
          "2008-03-31T00:00:00",
          "2008-04-30T00:00:00",
          "2008-05-31T00:00:00",
          "2008-06-30T00:00:00",
          "2008-07-31T00:00:00",
          "2008-08-31T00:00:00",
          "2008-09-30T00:00:00",
          "2008-10-31T00:00:00",
          "2008-11-30T00:00:00",
          "2008-12-31T00:00:00",
          "2009-01-31T00:00:00",
          "2009-02-28T00:00:00",
          "2009-03-31T00:00:00",
          "2009-04-30T00:00:00",
          "2009-05-31T00:00:00",
          "2009-06-30T00:00:00",
          "2009-07-31T00:00:00",
          "2009-08-31T00:00:00",
          "2009-09-30T00:00:00",
          "2009-10-31T00:00:00",
          "2009-11-30T00:00:00",
          "2009-12-31T00:00:00",
          "2010-01-31T00:00:00",
          "2010-02-28T00:00:00",
          "2010-03-31T00:00:00",
          "2010-04-30T00:00:00",
          "2010-05-31T00:00:00",
          "2010-06-30T00:00:00",
          "2010-07-31T00:00:00",
          "2010-08-31T00:00:00",
          "2010-09-30T00:00:00",
          "2010-10-31T00:00:00",
          "2010-11-30T00:00:00",
          "2010-12-31T00:00:00",
          "2011-01-31T00:00:00",
          "2011-02-28T00:00:00",
          "2011-03-31T00:00:00",
          "2011-04-30T00:00:00",
          "2011-05-31T00:00:00",
          "2011-06-30T00:00:00",
          "2011-07-31T00:00:00",
          "2011-08-31T00:00:00",
          "2011-09-30T00:00:00",
          "2011-10-31T00:00:00",
          "2011-11-30T00:00:00",
          "2011-12-31T00:00:00",
          "2012-01-31T00:00:00",
          "2012-02-29T00:00:00",
          "2012-03-31T00:00:00",
          "2012-04-30T00:00:00",
          "2012-05-31T00:00:00",
          "2012-06-30T00:00:00",
          "2012-07-31T00:00:00",
          "2012-08-31T00:00:00",
          "2012-09-30T00:00:00",
          "2012-10-31T00:00:00",
          "2012-11-30T00:00:00",
          "2012-12-31T00:00:00",
          "2013-01-31T00:00:00",
          "2013-02-28T00:00:00",
          "2013-03-31T00:00:00",
          "2013-04-30T00:00:00",
          "2013-05-31T00:00:00",
          "2013-06-30T00:00:00",
          "2013-07-31T00:00:00",
          "2013-08-31T00:00:00",
          "2013-09-30T00:00:00",
          "2013-10-31T00:00:00",
          "2013-11-30T00:00:00",
          "2013-12-31T00:00:00",
          "2014-01-31T00:00:00",
          "2014-02-28T00:00:00",
          "2014-03-31T00:00:00",
          "2014-04-30T00:00:00",
          "2014-05-31T00:00:00",
          "2014-06-30T00:00:00",
          "2014-07-31T00:00:00",
          "2014-08-31T00:00:00",
          "2014-09-30T00:00:00",
          "2014-10-31T00:00:00",
          "2014-11-30T00:00:00",
          "2014-12-31T00:00:00",
          "2015-01-31T00:00:00",
          "2015-02-28T00:00:00",
          "2015-03-31T00:00:00",
          "2015-04-30T00:00:00",
          "2015-05-31T00:00:00",
          "2015-06-30T00:00:00",
          "2015-07-31T00:00:00",
          "2015-08-31T00:00:00",
          "2015-09-30T00:00:00",
          "2015-10-31T00:00:00",
          "2015-11-30T00:00:00",
          "2015-12-31T00:00:00",
          "2016-01-31T00:00:00",
          "2016-02-29T00:00:00",
          "2016-03-31T00:00:00",
          "2016-04-30T00:00:00",
          "2016-05-31T00:00:00",
          "2016-06-30T00:00:00",
          "2016-07-31T00:00:00",
          "2016-08-31T00:00:00",
          "2016-09-30T00:00:00",
          "2016-10-31T00:00:00",
          "2016-11-30T00:00:00",
          "2016-12-31T00:00:00",
          "2017-01-31T00:00:00",
          "2017-02-28T00:00:00",
          "2017-03-31T00:00:00",
          "2017-04-30T00:00:00",
          "2017-05-31T00:00:00",
          "2017-06-30T00:00:00",
          "2017-07-31T00:00:00",
          "2017-08-31T00:00:00",
          "2017-09-30T00:00:00",
          "2017-10-31T00:00:00",
          "2017-11-30T00:00:00",
          "2017-12-31T00:00:00",
          "2018-01-31T00:00:00",
          "2018-02-28T00:00:00",
          "2018-03-31T00:00:00",
          "2018-04-30T00:00:00",
          "2018-05-31T00:00:00",
          "2018-06-30T00:00:00",
          "2018-07-31T00:00:00",
          "2018-08-31T00:00:00",
          "2018-09-30T00:00:00",
          "2018-10-31T00:00:00",
          "2018-11-30T00:00:00",
          "2018-12-31T00:00:00",
          "2019-01-31T00:00:00",
          "2019-02-28T00:00:00",
          "2019-03-31T00:00:00",
          "2019-04-30T00:00:00",
          "2019-05-31T00:00:00",
          "2019-06-30T00:00:00",
          "2019-07-31T00:00:00",
          "2019-08-31T00:00:00",
          "2019-09-30T00:00:00",
          "2019-10-31T00:00:00",
          "2019-11-30T00:00:00",
          "2019-12-31T00:00:00",
          "2020-01-31T00:00:00",
          "2020-02-29T00:00:00",
          "2020-03-31T00:00:00",
          "2020-04-30T00:00:00",
          "2020-05-31T00:00:00",
          "2020-06-30T00:00:00",
          "2020-07-31T00:00:00",
          "2020-08-31T00:00:00",
          "2020-09-30T00:00:00",
          "2020-10-31T00:00:00",
          "2020-11-30T00:00:00",
          "2020-12-31T00:00:00",
          "2021-01-31T00:00:00",
          "2021-02-28T00:00:00",
          "2021-03-31T00:00:00",
          "2021-04-30T00:00:00",
          "2021-05-31T00:00:00",
          "2021-06-30T00:00:00",
          "2021-07-31T00:00:00",
          "2021-08-31T00:00:00",
          "2021-09-30T00:00:00",
          "2021-10-31T00:00:00",
          "2021-11-30T00:00:00",
          "2021-12-31T00:00:00",
          "2022-01-31T00:00:00",
          "2022-02-28T00:00:00",
          "2022-03-31T00:00:00",
          "2022-04-30T00:00:00",
          "2022-05-31T00:00:00",
          "2022-06-30T00:00:00",
          "2022-07-31T00:00:00",
          "2022-08-31T00:00:00",
          "2022-09-30T00:00:00",
          "2022-10-31T00:00:00",
          "2022-11-30T00:00:00"
         ],
         "xaxis": "x",
         "y": [
          0,
          -0.017602373368856394,
          -0.026681726523185678,
          -0.034700141893156844,
          -0.04696828429507316,
          -0.021864116659869648,
          -0.027425748177197007,
          -0.026443298430924744,
          0.007353409980862979,
          -0.005322519325848152,
          -0.006902944903317554,
          -0.01469568022719836,
          0.011323215622739857,
          0.006799979241280063,
          -0.007630535629536972,
          0.011456616777148598,
          -0.055685521131857985,
          -0.03394246930105094,
          -0.006116266673019788,
          0.011749501184441735,
          0.015092832391400357,
          0.034399119821202806,
          0.036735798514268225,
          0.054727232626041955,
          0.0593042160853432,
          0.06327231572329062,
          0.040033522312883374,
          0.01827097654638621,
          0.030471011108331725,
          0.05372561628479722,
          0.0751578800597501,
          0.08178053245646977,
          0.07601390740339209,
          0.0729258848566392,
          0.0766375698449997,
          0.11091208411208298,
          0.13739634433227432,
          0.1708157309033258,
          0.1893274036272632,
          0.18785454499819987,
          0.22874333778357148,
          0.2094436398783701,
          0.20292567399652373,
          0.1990585585553719,
          0.1755701147521349,
          0.16501569948379258,
          0.1788114790456079,
          0.1915156061980403,
          0.16963758751157032,
          0.17028765336207008,
          0.17366809283596507,
          0.15578161998621232,
          0.16163611862030902,
          0.14014239885560698,
          0.10726292672822213,
          0.09925374446193902,
          0.1220459662834672,
          0.09754148513866667,
          0.11115166390903597,
          0.11759682734239774,
          0.1128494476527826,
          0.10884407578474664,
          0.10433601438479334,
          0.09654701399702015,
          0.08084009061376118,
          0.058812873385671205,
          0.033468989901051405,
          0.042587005898748975,
          0.04152881353155036,
          0.043921325725667426,
          0.04072729298066857,
          0.050197855385176515,
          0.04698409942486159,
          0.05129186282965836,
          0.0689536744626078,
          0.058198211232173946,
          0.0610794853129899,
          0.0663782915890041,
          0.06560744559422083,
          0.05130427239216395,
          0.056123347289484427,
          0.06494850478175285,
          0.07824873038078772,
          0.0647043414504711,
          0.03824120560780586,
          0.03704980567449656,
          0.018394047027525895,
          -0.010295613807362769,
          -0.00788342826698274,
          -0.02802509143171583,
          -0.0007039296002897544,
          0.0011906835976203123,
          0.02335497261181052,
          0.004922008248598342,
          0.008768775907885829,
          -0.024744196354405612,
          -0.016318637204776665,
          -0.007461424672463357,
          -0.0007222432579419014,
          -0.016352968320225036,
          -0.022354722510798286,
          0.04114010940134505,
          0.02783978836161327,
          0.022105486573606115,
          0.019416661187447115,
          0.011830043200993234,
          0.029751735864381734,
          0.022765865643734173,
          0.011303638403897365,
          0.0235312090700861,
          -0.0011703577357002892,
          0.008480683939044775,
          -0.008615905744515762,
          0.01232532967967015,
          0.009531456218264012,
          0.013138482781162919,
          -0.025260979361354408,
          -0.02867661896258833,
          -0.034377601204865105,
          -0.022042572149450934,
          0.005280035069463063,
          -0.011431034615162372,
          -0.012279395613909783,
          0.007542409184611021,
          0.002300039447624691,
          0.01806240376373247,
          0.023903582437148074,
          0.01630382122684404,
          0.01474033119218987,
          0.03052559931844878,
          0.02970324001770086,
          0.022698219154216215,
          0.013350998006336656,
          0.018969639442575792,
          0.017775600921555723,
          0.022178068448228228,
          0.02109753999562436,
          0.04398404641689946,
          0.03600293512461494,
          0.03713323546881009,
          0.01427063070183765,
          0.013134462273029612,
          -0.0028787621026904464,
          -0.00268867623395197,
          -0.008318057396764056,
          -0.016567112701159625,
          -0.008480775756345649,
          -0.024005272005338973,
          -0.04302501156005534,
          -0.03293462550221049,
          -0.024166513390305067,
          -0.02154159414351231,
          -0.00839515960688253,
          -0.006749714553626052,
          -0.014900121585773696,
          0.009945115556059703,
          0.009449476303446946,
          0.008281348121047083,
          -0.010883122544495305,
          0.010958350175290121,
          0.014096051754519445,
          0.029706826191403968,
          0.030078504914270887,
          0.031560046289538235,
          0.029895062941750483,
          0.04600422747693189,
          0.03602428003483005,
          -0.006641402453342993,
          -0.018086651383554697,
          0.0029133939520011864,
          -0.008493505940076362,
          -0.0012369579974325084,
          -0.027849013374885545,
          0.006632332266093277,
          0.0036959831909446628,
          0.006467579086067987,
          0.011103422627147586,
          0.057269898702865696,
          0.06146859932276749,
          0.062477443024780754,
          0.08505056022210122,
          0.08126907641543957,
          0.05788533154023989,
          0.03370280662623748,
          0.024057485334490147,
          -0.006100970854693077,
          -0.0007103853559626838,
          0.032667086437224935,
          0.011358952945059508,
          0.01949130543407307,
          0.03486125622753877,
          0.05885417501663737,
          0.04801835454338521,
          0.03771539245467381,
          0.07142491862488787,
          0.06039623724031884,
          0.06251235162804214,
          0.04826691680891071,
          0.05723888951173728,
          0.05126886507185291,
          0.05779165402275899,
          0.07486429298260466,
          0.080034535757048
         ],
         "yaxis": "y"
        },
        {
         "hovertemplate": "comp_mom12x3_to3M=5<br>date=%{x}<br>value=%{y}<extra></extra>",
         "legendgroup": "5",
         "line": {
          "color": "#19d3f3",
          "dash": "solid"
         },
         "marker": {
          "symbol": "circle"
         },
         "mode": "lines",
         "name": "5",
         "showlegend": true,
         "type": "scattergl",
         "x": [
          "2006-01-31T00:00:00",
          "2006-02-28T00:00:00",
          "2006-03-31T00:00:00",
          "2006-04-30T00:00:00",
          "2006-05-31T00:00:00",
          "2006-06-30T00:00:00",
          "2006-07-31T00:00:00",
          "2006-08-31T00:00:00",
          "2006-09-30T00:00:00",
          "2006-10-31T00:00:00",
          "2006-11-30T00:00:00",
          "2006-12-31T00:00:00",
          "2007-01-31T00:00:00",
          "2007-02-28T00:00:00",
          "2007-03-31T00:00:00",
          "2007-04-30T00:00:00",
          "2007-05-31T00:00:00",
          "2007-06-30T00:00:00",
          "2007-07-31T00:00:00",
          "2007-08-31T00:00:00",
          "2007-09-30T00:00:00",
          "2007-10-31T00:00:00",
          "2007-11-30T00:00:00",
          "2007-12-31T00:00:00",
          "2008-01-31T00:00:00",
          "2008-02-29T00:00:00",
          "2008-03-31T00:00:00",
          "2008-04-30T00:00:00",
          "2008-05-31T00:00:00",
          "2008-06-30T00:00:00",
          "2008-07-31T00:00:00",
          "2008-08-31T00:00:00",
          "2008-09-30T00:00:00",
          "2008-10-31T00:00:00",
          "2008-11-30T00:00:00",
          "2008-12-31T00:00:00",
          "2009-01-31T00:00:00",
          "2009-02-28T00:00:00",
          "2009-03-31T00:00:00",
          "2009-04-30T00:00:00",
          "2009-05-31T00:00:00",
          "2009-06-30T00:00:00",
          "2009-07-31T00:00:00",
          "2009-08-31T00:00:00",
          "2009-09-30T00:00:00",
          "2009-10-31T00:00:00",
          "2009-11-30T00:00:00",
          "2009-12-31T00:00:00",
          "2010-01-31T00:00:00",
          "2010-02-28T00:00:00",
          "2010-03-31T00:00:00",
          "2010-04-30T00:00:00",
          "2010-05-31T00:00:00",
          "2010-06-30T00:00:00",
          "2010-07-31T00:00:00",
          "2010-08-31T00:00:00",
          "2010-09-30T00:00:00",
          "2010-10-31T00:00:00",
          "2010-11-30T00:00:00",
          "2010-12-31T00:00:00",
          "2011-01-31T00:00:00",
          "2011-02-28T00:00:00",
          "2011-03-31T00:00:00",
          "2011-04-30T00:00:00",
          "2011-05-31T00:00:00",
          "2011-06-30T00:00:00",
          "2011-07-31T00:00:00",
          "2011-08-31T00:00:00",
          "2011-09-30T00:00:00",
          "2011-10-31T00:00:00",
          "2011-11-30T00:00:00",
          "2011-12-31T00:00:00",
          "2012-01-31T00:00:00",
          "2012-02-29T00:00:00",
          "2012-03-31T00:00:00",
          "2012-04-30T00:00:00",
          "2012-05-31T00:00:00",
          "2012-06-30T00:00:00",
          "2012-07-31T00:00:00",
          "2012-08-31T00:00:00",
          "2012-09-30T00:00:00",
          "2012-10-31T00:00:00",
          "2012-11-30T00:00:00",
          "2012-12-31T00:00:00",
          "2013-01-31T00:00:00",
          "2013-02-28T00:00:00",
          "2013-03-31T00:00:00",
          "2013-04-30T00:00:00",
          "2013-05-31T00:00:00",
          "2013-06-30T00:00:00",
          "2013-07-31T00:00:00",
          "2013-08-31T00:00:00",
          "2013-09-30T00:00:00",
          "2013-10-31T00:00:00",
          "2013-11-30T00:00:00",
          "2013-12-31T00:00:00",
          "2014-01-31T00:00:00",
          "2014-02-28T00:00:00",
          "2014-03-31T00:00:00",
          "2014-04-30T00:00:00",
          "2014-05-31T00:00:00",
          "2014-06-30T00:00:00",
          "2014-07-31T00:00:00",
          "2014-08-31T00:00:00",
          "2014-09-30T00:00:00",
          "2014-10-31T00:00:00",
          "2014-11-30T00:00:00",
          "2014-12-31T00:00:00",
          "2015-01-31T00:00:00",
          "2015-02-28T00:00:00",
          "2015-03-31T00:00:00",
          "2015-04-30T00:00:00",
          "2015-05-31T00:00:00",
          "2015-06-30T00:00:00",
          "2015-07-31T00:00:00",
          "2015-08-31T00:00:00",
          "2015-09-30T00:00:00",
          "2015-10-31T00:00:00",
          "2015-11-30T00:00:00",
          "2015-12-31T00:00:00",
          "2016-01-31T00:00:00",
          "2016-02-29T00:00:00",
          "2016-03-31T00:00:00",
          "2016-04-30T00:00:00",
          "2016-05-31T00:00:00",
          "2016-06-30T00:00:00",
          "2016-07-31T00:00:00",
          "2016-08-31T00:00:00",
          "2016-09-30T00:00:00",
          "2016-10-31T00:00:00",
          "2016-11-30T00:00:00",
          "2016-12-31T00:00:00",
          "2017-01-31T00:00:00",
          "2017-02-28T00:00:00",
          "2017-03-31T00:00:00",
          "2017-04-30T00:00:00",
          "2017-05-31T00:00:00",
          "2017-06-30T00:00:00",
          "2017-07-31T00:00:00",
          "2017-08-31T00:00:00",
          "2017-09-30T00:00:00",
          "2017-10-31T00:00:00",
          "2017-11-30T00:00:00",
          "2017-12-31T00:00:00",
          "2018-01-31T00:00:00",
          "2018-02-28T00:00:00",
          "2018-03-31T00:00:00",
          "2018-04-30T00:00:00",
          "2018-05-31T00:00:00",
          "2018-06-30T00:00:00",
          "2018-07-31T00:00:00",
          "2018-08-31T00:00:00",
          "2018-09-30T00:00:00",
          "2018-10-31T00:00:00",
          "2018-11-30T00:00:00",
          "2018-12-31T00:00:00",
          "2019-01-31T00:00:00",
          "2019-02-28T00:00:00",
          "2019-03-31T00:00:00",
          "2019-04-30T00:00:00",
          "2019-05-31T00:00:00",
          "2019-06-30T00:00:00",
          "2019-07-31T00:00:00",
          "2019-08-31T00:00:00",
          "2019-09-30T00:00:00",
          "2019-10-31T00:00:00",
          "2019-11-30T00:00:00",
          "2019-12-31T00:00:00",
          "2020-01-31T00:00:00",
          "2020-02-29T00:00:00",
          "2020-03-31T00:00:00",
          "2020-04-30T00:00:00",
          "2020-05-31T00:00:00",
          "2020-06-30T00:00:00",
          "2020-07-31T00:00:00",
          "2020-08-31T00:00:00",
          "2020-09-30T00:00:00",
          "2020-10-31T00:00:00",
          "2020-11-30T00:00:00",
          "2020-12-31T00:00:00",
          "2021-01-31T00:00:00",
          "2021-02-28T00:00:00",
          "2021-03-31T00:00:00",
          "2021-04-30T00:00:00",
          "2021-05-31T00:00:00",
          "2021-06-30T00:00:00",
          "2021-07-31T00:00:00",
          "2021-08-31T00:00:00",
          "2021-09-30T00:00:00",
          "2021-10-31T00:00:00",
          "2021-11-30T00:00:00",
          "2021-12-31T00:00:00",
          "2022-01-31T00:00:00",
          "2022-02-28T00:00:00",
          "2022-03-31T00:00:00",
          "2022-04-30T00:00:00",
          "2022-05-31T00:00:00",
          "2022-06-30T00:00:00",
          "2022-07-31T00:00:00",
          "2022-08-31T00:00:00",
          "2022-09-30T00:00:00",
          "2022-10-31T00:00:00",
          "2022-11-30T00:00:00"
         ],
         "xaxis": "x",
         "y": [
          0,
          -0.0018535995992218224,
          -0.007872690118555847,
          -0.011010027256566413,
          -0.0061707602666962735,
          -0.017299551851649886,
          -0.02700068753112561,
          -0.010410803968583848,
          -0.025241132394731358,
          -0.01489618427716699,
          -0.034218864024785356,
          -0.029781123023482348,
          -0.02080572873680253,
          0.00842378141169764,
          0.07751707856835166,
          0.09907199853011495,
          0.1284706163994147,
          0.11081851585280567,
          0.09029354412718349,
          0.10274108080965805,
          0.10121717162832855,
          0.11742170548965758,
          0.10087716170718841,
          0.09151868486878278,
          0.07914053097563012,
          0.08533155350586896,
          0.13933815325749488,
          0.1381983490019234,
          0.13006357071551067,
          0.16818821587609567,
          0.18482070088012925,
          0.1796427192493497,
          0.1688082412560603,
          0.16022293879597438,
          0.15908147824105012,
          0.16491923309411716,
          0.16372723779360188,
          0.21163088070211522,
          0.19383490986506935,
          0.20523459923372966,
          0.25125811465052683,
          0.2697560917828621,
          0.23590444194746407,
          0.253342002027104,
          0.21456105999427488,
          0.2251266919306394,
          0.22272207735147198,
          0.21356982636137012,
          0.20447657645875061,
          0.20316225942409005,
          0.1952431346129473,
          0.1847029268150182,
          0.17676870708098136,
          0.17643203532305507,
          0.15064268009083137,
          0.1302930436760743,
          0.13814492694217884,
          0.1316791754254023,
          0.14223334055243142,
          0.18794729987858716,
          0.151954672136825,
          0.15408933157125215,
          0.16269950383404974,
          0.17233207849223264,
          0.14741354056100486,
          0.11911956835829374,
          0.11901588913577865,
          0.1279063215625056,
          0.1339697652226155,
          0.1387926722283468,
          0.1813799262313922,
          0.21115743117326335,
          0.21527253047451378,
          0.22860932538125023,
          0.23259484975609435,
          0.21380678724725488,
          0.1975336919155033,
          0.19878715443722084,
          0.19432243344999067,
          0.22098857974486275,
          0.1955662969705274,
          0.19620369370805846,
          0.2031255102094256,
          0.2089053910435683,
          0.19879561636574472,
          0.18355157470889893,
          0.1861488620456213,
          0.1630765744417817,
          0.14206074629615784,
          0.1539310382661192,
          0.15707570425275952,
          0.1313789507418679,
          0.14041979563808815,
          0.12282671006401547,
          0.12754317169529084,
          0.09012920996673612,
          0.08761409809314924,
          0.09122912444414966,
          0.07831669117361639,
          0.06358561207411961,
          0.04742086573716309,
          0.07118098111809967,
          0.059975472755163795,
          0.06319176859680153,
          0.0879482732767134,
          0.14788214981365266,
          0.21708759299016078,
          0.20180921425720055,
          0.18609960410704018,
          0.15646449310559185,
          0.15069313074350266,
          0.138020504329063,
          0.13829230437984896,
          0.11401051562883069,
          0.11478941089103256,
          0.10836696587694217,
          0.0740633853192576,
          0.0693293042377221,
          0.06679106291055814,
          0.08424092520399529,
          0.08055623154675051,
          0.07384136125770335,
          0.10173065290916106,
          0.10592677401708417,
          0.09134055698527566,
          0.09264872736217478,
          0.0912985164120943,
          0.08681716473153456,
          0.07442206093462311,
          0.08875895280120583,
          0.08065982227727231,
          0.09311704451611802,
          0.08227598597081243,
          0.09863493393859013,
          0.10470740377336307,
          0.11403718945883834,
          0.11705993183180907,
          0.12450837577435059,
          0.12405230621935837,
          0.13331651586923132,
          0.14707956451539395,
          0.15258586753301628,
          0.14842812128863336,
          0.16683933942040796,
          0.15341527305430613,
          0.1479969658227751,
          0.13322389005176483,
          0.12033905377627296,
          0.12982351082687837,
          0.13843666291488477,
          0.15274348352607037,
          0.145390227410368,
          0.1481670653591547,
          0.1520467388943294,
          0.1473298876201785,
          0.18716879259275632,
          0.1658638422751051,
          0.15897700431549944,
          0.16897939059981315,
          0.18001068230457773,
          0.17897280506829127,
          0.1888641209482369,
          0.16589896984424213,
          0.18129232053301325,
          0.1788690136059723,
          0.18721843993696807,
          0.19819339414828474,
          0.1752422255587287,
          0.14970422330519284,
          0.17896015676942634,
          0.18222730081042804,
          0.18602539312969424,
          0.1482953026477989,
          0.15018345963936275,
          0.16251366063829265,
          0.17915313396329524,
          0.17853769034989564,
          0.20921129305071684,
          0.18834696334056011,
          0.22701290451937584,
          0.25334735540697206,
          0.2523877791925613,
          0.21462704165557045,
          0.1800568909475222,
          0.18830912654161636,
          0.1906104105459392,
          0.19693658818382942,
          0.17091882928423008,
          0.14663829513704907,
          0.0970756737092715,
          0.11107804501412777,
          0.1383363233859376,
          0.1309122737258115,
          0.12778847704732788,
          0.17501623047803805,
          0.15220899259901288,
          0.14804600712729354,
          0.13084769147913633,
          0.13734900829563834,
          0.13319603271388636,
          0.1279622566350902,
          0.1439263851825061,
          0.14613950945958054
         ],
         "yaxis": "y"
        },
        {
         "hovertemplate": "comp_mom12x3_to3M=6<br>date=%{x}<br>value=%{y}<extra></extra>",
         "legendgroup": "6",
         "line": {
          "color": "#FF6692",
          "dash": "solid"
         },
         "marker": {
          "symbol": "circle"
         },
         "mode": "lines",
         "name": "6",
         "showlegend": true,
         "type": "scattergl",
         "x": [
          "2006-01-31T00:00:00",
          "2006-02-28T00:00:00",
          "2006-03-31T00:00:00",
          "2006-04-30T00:00:00",
          "2006-05-31T00:00:00",
          "2006-06-30T00:00:00",
          "2006-07-31T00:00:00",
          "2006-08-31T00:00:00",
          "2006-09-30T00:00:00",
          "2006-10-31T00:00:00",
          "2006-11-30T00:00:00",
          "2006-12-31T00:00:00",
          "2007-01-31T00:00:00",
          "2007-02-28T00:00:00",
          "2007-03-31T00:00:00",
          "2007-04-30T00:00:00",
          "2007-05-31T00:00:00",
          "2007-06-30T00:00:00",
          "2007-07-31T00:00:00",
          "2007-08-31T00:00:00",
          "2007-09-30T00:00:00",
          "2007-10-31T00:00:00",
          "2007-11-30T00:00:00",
          "2007-12-31T00:00:00",
          "2008-01-31T00:00:00",
          "2008-02-29T00:00:00",
          "2008-03-31T00:00:00",
          "2008-04-30T00:00:00",
          "2008-05-31T00:00:00",
          "2008-06-30T00:00:00",
          "2008-07-31T00:00:00",
          "2008-08-31T00:00:00",
          "2008-09-30T00:00:00",
          "2008-10-31T00:00:00",
          "2008-11-30T00:00:00",
          "2008-12-31T00:00:00",
          "2009-01-31T00:00:00",
          "2009-02-28T00:00:00",
          "2009-03-31T00:00:00",
          "2009-04-30T00:00:00",
          "2009-05-31T00:00:00",
          "2009-06-30T00:00:00",
          "2009-07-31T00:00:00",
          "2009-08-31T00:00:00",
          "2009-09-30T00:00:00",
          "2009-10-31T00:00:00",
          "2009-11-30T00:00:00",
          "2009-12-31T00:00:00",
          "2010-01-31T00:00:00",
          "2010-02-28T00:00:00",
          "2010-03-31T00:00:00",
          "2010-04-30T00:00:00",
          "2010-05-31T00:00:00",
          "2010-06-30T00:00:00",
          "2010-07-31T00:00:00",
          "2010-08-31T00:00:00",
          "2010-09-30T00:00:00",
          "2010-10-31T00:00:00",
          "2010-11-30T00:00:00",
          "2010-12-31T00:00:00",
          "2011-01-31T00:00:00",
          "2011-02-28T00:00:00",
          "2011-03-31T00:00:00",
          "2011-04-30T00:00:00",
          "2011-05-31T00:00:00",
          "2011-06-30T00:00:00",
          "2011-07-31T00:00:00",
          "2011-08-31T00:00:00",
          "2011-09-30T00:00:00",
          "2011-10-31T00:00:00",
          "2011-11-30T00:00:00",
          "2011-12-31T00:00:00",
          "2012-01-31T00:00:00",
          "2012-02-29T00:00:00",
          "2012-03-31T00:00:00",
          "2012-04-30T00:00:00",
          "2012-05-31T00:00:00",
          "2012-06-30T00:00:00",
          "2012-07-31T00:00:00",
          "2012-08-31T00:00:00",
          "2012-09-30T00:00:00",
          "2012-10-31T00:00:00",
          "2012-11-30T00:00:00",
          "2012-12-31T00:00:00",
          "2013-01-31T00:00:00",
          "2013-02-28T00:00:00",
          "2013-03-31T00:00:00",
          "2013-04-30T00:00:00",
          "2013-05-31T00:00:00",
          "2013-06-30T00:00:00",
          "2013-07-31T00:00:00",
          "2013-08-31T00:00:00",
          "2013-09-30T00:00:00",
          "2013-10-31T00:00:00",
          "2013-11-30T00:00:00",
          "2013-12-31T00:00:00",
          "2014-01-31T00:00:00",
          "2014-02-28T00:00:00",
          "2014-03-31T00:00:00",
          "2014-04-30T00:00:00",
          "2014-05-31T00:00:00",
          "2014-06-30T00:00:00",
          "2014-07-31T00:00:00",
          "2014-08-31T00:00:00",
          "2014-09-30T00:00:00",
          "2014-10-31T00:00:00",
          "2014-11-30T00:00:00",
          "2014-12-31T00:00:00",
          "2015-01-31T00:00:00",
          "2015-02-28T00:00:00",
          "2015-03-31T00:00:00",
          "2015-04-30T00:00:00",
          "2015-05-31T00:00:00",
          "2015-06-30T00:00:00",
          "2015-07-31T00:00:00",
          "2015-08-31T00:00:00",
          "2015-09-30T00:00:00",
          "2015-10-31T00:00:00",
          "2015-11-30T00:00:00",
          "2015-12-31T00:00:00",
          "2016-01-31T00:00:00",
          "2016-02-29T00:00:00",
          "2016-03-31T00:00:00",
          "2016-04-30T00:00:00",
          "2016-05-31T00:00:00",
          "2016-06-30T00:00:00",
          "2016-07-31T00:00:00",
          "2016-08-31T00:00:00",
          "2016-09-30T00:00:00",
          "2016-10-31T00:00:00",
          "2016-11-30T00:00:00",
          "2016-12-31T00:00:00",
          "2017-01-31T00:00:00",
          "2017-02-28T00:00:00",
          "2017-03-31T00:00:00",
          "2017-04-30T00:00:00",
          "2017-05-31T00:00:00",
          "2017-06-30T00:00:00",
          "2017-07-31T00:00:00",
          "2017-08-31T00:00:00",
          "2017-09-30T00:00:00",
          "2017-10-31T00:00:00",
          "2017-11-30T00:00:00",
          "2017-12-31T00:00:00",
          "2018-01-31T00:00:00",
          "2018-02-28T00:00:00",
          "2018-03-31T00:00:00",
          "2018-04-30T00:00:00",
          "2018-05-31T00:00:00",
          "2018-06-30T00:00:00",
          "2018-07-31T00:00:00",
          "2018-08-31T00:00:00",
          "2018-09-30T00:00:00",
          "2018-10-31T00:00:00",
          "2018-11-30T00:00:00",
          "2018-12-31T00:00:00",
          "2019-01-31T00:00:00",
          "2019-02-28T00:00:00",
          "2019-03-31T00:00:00",
          "2019-04-30T00:00:00",
          "2019-05-31T00:00:00",
          "2019-06-30T00:00:00",
          "2019-07-31T00:00:00",
          "2019-08-31T00:00:00",
          "2019-09-30T00:00:00",
          "2019-10-31T00:00:00",
          "2019-11-30T00:00:00",
          "2019-12-31T00:00:00",
          "2020-01-31T00:00:00",
          "2020-02-29T00:00:00",
          "2020-03-31T00:00:00",
          "2020-04-30T00:00:00",
          "2020-05-31T00:00:00",
          "2020-06-30T00:00:00",
          "2020-07-31T00:00:00",
          "2020-08-31T00:00:00",
          "2020-09-30T00:00:00",
          "2020-10-31T00:00:00",
          "2020-11-30T00:00:00",
          "2020-12-31T00:00:00",
          "2021-01-31T00:00:00",
          "2021-02-28T00:00:00",
          "2021-03-31T00:00:00",
          "2021-04-30T00:00:00",
          "2021-05-31T00:00:00",
          "2021-06-30T00:00:00",
          "2021-07-31T00:00:00",
          "2021-08-31T00:00:00",
          "2021-09-30T00:00:00",
          "2021-10-31T00:00:00",
          "2021-11-30T00:00:00",
          "2021-12-31T00:00:00",
          "2022-01-31T00:00:00",
          "2022-02-28T00:00:00",
          "2022-03-31T00:00:00",
          "2022-04-30T00:00:00",
          "2022-05-31T00:00:00",
          "2022-06-30T00:00:00",
          "2022-07-31T00:00:00",
          "2022-08-31T00:00:00",
          "2022-09-30T00:00:00",
          "2022-10-31T00:00:00",
          "2022-11-30T00:00:00"
         ],
         "xaxis": "x",
         "y": [
          0,
          0.005906387073237651,
          0.04697494675775049,
          0.04209435194469857,
          0.0454058317093915,
          0.06838619564227777,
          0.08584135343313237,
          0.06396556294375677,
          0.09166325996229086,
          0.08267976283837841,
          0.10502741699749607,
          0.08320692490439385,
          0.05227132658713329,
          0.07552461235751684,
          0.07396420964065031,
          0.07581389411800887,
          0.08954099347467803,
          0.07418132697175839,
          0.06194740163717527,
          0.09503980686854607,
          0.12118514165660277,
          0.10104340706312676,
          0.07543305280987189,
          0.07916739614556767,
          0.0636279643977975,
          0.0643423485300243,
          0.01278144405146997,
          0.016907175912962202,
          0.013784888203750345,
          -0.0033920004194224473,
          0.020963222425450567,
          0.035864855666964957,
          0.0243991335812086,
          -0.0062656436220847045,
          -0.016624542296897693,
          -0.022139886796671338,
          -0.018320263341716325,
          -0.030459124296036477,
          -0.014862573943572932,
          -0.004534728158947177,
          0.011415354857239768,
          -0.0009615362200202648,
          0.022196565797809598,
          0.0015199113155810462,
          -0.010067848271730462,
          0.00333873341228319,
          0.0023603784418153584,
          0.0029367840013609925,
          -0.008707631493074519,
          -0.008309659982190576,
          0.002968846220456234,
          -0.000006653283050828129,
          0.01818028622720491,
          0.0010163907145097628,
          -0.024759347852781444,
          -0.02627492674020626,
          -0.014205886920833244,
          -0.013255453819014384,
          -0.033121475034850634,
          -0.035971995671669754,
          -0.054377616837000264,
          -0.0510974994696618,
          -0.05071823530475639,
          -0.05522280446765093,
          -0.07131101919356031,
          -0.07968378203144522,
          -0.06510869560077825,
          -0.04589930116420249,
          -0.04867485804518934,
          -0.04574259217047283,
          -0.03461792701652289,
          -0.01241817207917384,
          -0.030653755226570767,
          -0.025142196717216625,
          -0.027156418546989025,
          -0.03430633399899641,
          -0.024571035088938875,
          -0.020027979956012798,
          -0.015889649559963637,
          0.004452215718673047,
          0.017025434865560962,
          0.02289597898217255,
          0.03036008167930082,
          0.04976876691905918,
          0.028590158888686545,
          0.02558070368285481,
          0.04765846280026498,
          0.05134542784255536,
          0.028965286310864036,
          0.017962728143753104,
          0.015186102176959704,
          0.022315625095429947,
          0.05033434402906933,
          0.039213395576625176,
          0.047986803261637734,
          0.03893524896844003,
          0.05033035480837578,
          0.09381085058146765,
          0.10941398465529262,
          0.08497034097250089,
          0.07943319676894256,
          0.09569032565647473,
          0.10225424999047283,
          0.09010426608666977,
          0.10279502947545649,
          0.13804004500200406,
          0.17363173598127668,
          0.1771564062055353,
          0.17719190962826636,
          0.17548296778195605,
          0.17746993505195663,
          0.09688060858634051,
          0.11370577524895586,
          0.12147383110442256,
          0.14421102567612154,
          0.14353321770821226,
          0.12077265089589573,
          0.09000809896420425,
          0.08098608519563544,
          0.10862408413665503,
          0.11675017705736201,
          0.0892176143803034,
          0.09520524279682019,
          0.10658329351516982,
          0.08891692344955682,
          0.09297835981585556,
          0.09682099290554058,
          0.1048396321912648,
          0.08758705672438216,
          0.09603802187638344,
          0.09618905467632777,
          0.10764217032033918,
          0.11908049429319356,
          0.12167763538783793,
          0.15192384095793265,
          0.17767246379967627,
          0.1734312164166938,
          0.18231266085982378,
          0.18281051937255977,
          0.17065666929153767,
          0.18651999855211532,
          0.19844352923488584,
          0.21285457696399734,
          0.24455194453999884,
          0.24111993593541947,
          0.23117612403548704,
          0.24818215720931436,
          0.26535333745557566,
          0.26726770882980877,
          0.29579088966734957,
          0.3135866556026492,
          0.31967011690195224,
          0.3358251377417698,
          0.3231406144300826,
          0.32827448331157205,
          0.35967075040402774,
          0.3239954556069997,
          0.3496111089767693,
          0.3561837290777874,
          0.36732963156002896,
          0.37777248746647873,
          0.4119126461825091,
          0.3933612310726522,
          0.3912600912257389,
          0.40567060817508094,
          0.41264801990394906,
          0.40955694180584934,
          0.39865187310592143,
          0.39545982572087524,
          0.39608192306299794,
          0.38778513310055374,
          0.3705192408199005,
          0.39231025621606075,
          0.4081142177110011,
          0.4075081021533209,
          0.42436206029165224,
          0.4319211654332653,
          0.4650660283418271,
          0.5047874979737994,
          0.5166345807779027,
          0.5690098884423409,
          0.594707557103747,
          0.5991093343363418,
          0.5853368857661023,
          0.5529400947284184,
          0.5166790655874254,
          0.5627609652647265,
          0.6010472209951889,
          0.5798133430021337,
          0.5675667539862903,
          0.607381250437198,
          0.6327602725869401,
          0.6338143075215534,
          0.6270632456012593,
          0.7024658389659504,
          0.6701699814839144,
          0.6658140441062839,
          0.6406582623582495,
          0.6472815981320768,
          0.6941196849275708,
          0.6666675421582124,
          0.6569958171650996,
          0.6763582203840388
         ],
         "yaxis": "y"
        },
        {
         "hovertemplate": "comp_mom12x3_to3M=7<br>date=%{x}<br>value=%{y}<extra></extra>",
         "legendgroup": "7",
         "line": {
          "color": "#B6E880",
          "dash": "solid"
         },
         "marker": {
          "symbol": "circle"
         },
         "mode": "lines",
         "name": "7",
         "showlegend": true,
         "type": "scattergl",
         "x": [
          "2006-01-31T00:00:00",
          "2006-02-28T00:00:00",
          "2006-03-31T00:00:00",
          "2006-04-30T00:00:00",
          "2006-05-31T00:00:00",
          "2006-06-30T00:00:00",
          "2006-07-31T00:00:00",
          "2006-08-31T00:00:00",
          "2006-09-30T00:00:00",
          "2006-10-31T00:00:00",
          "2006-11-30T00:00:00",
          "2006-12-31T00:00:00",
          "2007-01-31T00:00:00",
          "2007-02-28T00:00:00",
          "2007-03-31T00:00:00",
          "2007-04-30T00:00:00",
          "2007-05-31T00:00:00",
          "2007-06-30T00:00:00",
          "2007-07-31T00:00:00",
          "2007-08-31T00:00:00",
          "2007-09-30T00:00:00",
          "2007-10-31T00:00:00",
          "2007-11-30T00:00:00",
          "2007-12-31T00:00:00",
          "2008-01-31T00:00:00",
          "2008-02-29T00:00:00",
          "2008-03-31T00:00:00",
          "2008-04-30T00:00:00",
          "2008-05-31T00:00:00",
          "2008-06-30T00:00:00",
          "2008-07-31T00:00:00",
          "2008-08-31T00:00:00",
          "2008-09-30T00:00:00",
          "2008-10-31T00:00:00",
          "2008-11-30T00:00:00",
          "2008-12-31T00:00:00",
          "2009-01-31T00:00:00",
          "2009-02-28T00:00:00",
          "2009-03-31T00:00:00",
          "2009-04-30T00:00:00",
          "2009-05-31T00:00:00",
          "2009-06-30T00:00:00",
          "2009-07-31T00:00:00",
          "2009-08-31T00:00:00",
          "2009-09-30T00:00:00",
          "2009-10-31T00:00:00",
          "2009-11-30T00:00:00",
          "2009-12-31T00:00:00",
          "2010-01-31T00:00:00",
          "2010-02-28T00:00:00",
          "2010-03-31T00:00:00",
          "2010-04-30T00:00:00",
          "2010-05-31T00:00:00",
          "2010-06-30T00:00:00",
          "2010-07-31T00:00:00",
          "2010-08-31T00:00:00",
          "2010-09-30T00:00:00",
          "2010-10-31T00:00:00",
          "2010-11-30T00:00:00",
          "2010-12-31T00:00:00",
          "2011-01-31T00:00:00",
          "2011-02-28T00:00:00",
          "2011-03-31T00:00:00",
          "2011-04-30T00:00:00",
          "2011-05-31T00:00:00",
          "2011-06-30T00:00:00",
          "2011-07-31T00:00:00",
          "2011-08-31T00:00:00",
          "2011-09-30T00:00:00",
          "2011-10-31T00:00:00",
          "2011-11-30T00:00:00",
          "2011-12-31T00:00:00",
          "2012-01-31T00:00:00",
          "2012-02-29T00:00:00",
          "2012-03-31T00:00:00",
          "2012-04-30T00:00:00",
          "2012-05-31T00:00:00",
          "2012-06-30T00:00:00",
          "2012-07-31T00:00:00",
          "2012-08-31T00:00:00",
          "2012-09-30T00:00:00",
          "2012-10-31T00:00:00",
          "2012-11-30T00:00:00",
          "2012-12-31T00:00:00",
          "2013-01-31T00:00:00",
          "2013-02-28T00:00:00",
          "2013-03-31T00:00:00",
          "2013-04-30T00:00:00",
          "2013-05-31T00:00:00",
          "2013-06-30T00:00:00",
          "2013-07-31T00:00:00",
          "2013-08-31T00:00:00",
          "2013-09-30T00:00:00",
          "2013-10-31T00:00:00",
          "2013-11-30T00:00:00",
          "2013-12-31T00:00:00",
          "2014-01-31T00:00:00",
          "2014-02-28T00:00:00",
          "2014-03-31T00:00:00",
          "2014-04-30T00:00:00",
          "2014-05-31T00:00:00",
          "2014-06-30T00:00:00",
          "2014-07-31T00:00:00",
          "2014-08-31T00:00:00",
          "2014-09-30T00:00:00",
          "2014-10-31T00:00:00",
          "2014-11-30T00:00:00",
          "2014-12-31T00:00:00",
          "2015-01-31T00:00:00",
          "2015-02-28T00:00:00",
          "2015-03-31T00:00:00",
          "2015-04-30T00:00:00",
          "2015-05-31T00:00:00",
          "2015-06-30T00:00:00",
          "2015-07-31T00:00:00",
          "2015-08-31T00:00:00",
          "2015-09-30T00:00:00",
          "2015-10-31T00:00:00",
          "2015-11-30T00:00:00",
          "2015-12-31T00:00:00",
          "2016-01-31T00:00:00",
          "2016-02-29T00:00:00",
          "2016-03-31T00:00:00",
          "2016-04-30T00:00:00",
          "2016-05-31T00:00:00",
          "2016-06-30T00:00:00",
          "2016-07-31T00:00:00",
          "2016-08-31T00:00:00",
          "2016-09-30T00:00:00",
          "2016-10-31T00:00:00",
          "2016-11-30T00:00:00",
          "2016-12-31T00:00:00",
          "2017-01-31T00:00:00",
          "2017-02-28T00:00:00",
          "2017-03-31T00:00:00",
          "2017-04-30T00:00:00",
          "2017-05-31T00:00:00",
          "2017-06-30T00:00:00",
          "2017-07-31T00:00:00",
          "2017-08-31T00:00:00",
          "2017-09-30T00:00:00",
          "2017-10-31T00:00:00",
          "2017-11-30T00:00:00",
          "2017-12-31T00:00:00",
          "2018-01-31T00:00:00",
          "2018-02-28T00:00:00",
          "2018-03-31T00:00:00",
          "2018-04-30T00:00:00",
          "2018-05-31T00:00:00",
          "2018-06-30T00:00:00",
          "2018-07-31T00:00:00",
          "2018-08-31T00:00:00",
          "2018-09-30T00:00:00",
          "2018-10-31T00:00:00",
          "2018-11-30T00:00:00",
          "2018-12-31T00:00:00",
          "2019-01-31T00:00:00",
          "2019-02-28T00:00:00",
          "2019-03-31T00:00:00",
          "2019-04-30T00:00:00",
          "2019-05-31T00:00:00",
          "2019-06-30T00:00:00",
          "2019-07-31T00:00:00",
          "2019-08-31T00:00:00",
          "2019-09-30T00:00:00",
          "2019-10-31T00:00:00",
          "2019-11-30T00:00:00",
          "2019-12-31T00:00:00",
          "2020-01-31T00:00:00",
          "2020-02-29T00:00:00",
          "2020-03-31T00:00:00",
          "2020-04-30T00:00:00",
          "2020-05-31T00:00:00",
          "2020-06-30T00:00:00",
          "2020-07-31T00:00:00",
          "2020-08-31T00:00:00",
          "2020-09-30T00:00:00",
          "2020-10-31T00:00:00",
          "2020-11-30T00:00:00",
          "2020-12-31T00:00:00",
          "2021-01-31T00:00:00",
          "2021-02-28T00:00:00",
          "2021-03-31T00:00:00",
          "2021-04-30T00:00:00",
          "2021-05-31T00:00:00",
          "2021-06-30T00:00:00",
          "2021-07-31T00:00:00",
          "2021-08-31T00:00:00",
          "2021-09-30T00:00:00",
          "2021-10-31T00:00:00",
          "2021-11-30T00:00:00",
          "2021-12-31T00:00:00",
          "2022-01-31T00:00:00",
          "2022-02-28T00:00:00",
          "2022-03-31T00:00:00",
          "2022-04-30T00:00:00",
          "2022-05-31T00:00:00",
          "2022-06-30T00:00:00",
          "2022-07-31T00:00:00",
          "2022-08-31T00:00:00",
          "2022-09-30T00:00:00",
          "2022-10-31T00:00:00",
          "2022-11-30T00:00:00"
         ],
         "xaxis": "x",
         "y": [
          0,
          -0.0036089820105854598,
          -0.008600016349578632,
          -0.0162562669228713,
          -0.0063632583548601795,
          -0.007408781350182192,
          0.0018112050613350306,
          -0.012852977263995258,
          0.013213891280893453,
          0.06571650680399088,
          0.1045718679489096,
          0.09673778123150267,
          0.10428343866744028,
          0.10857813130795191,
          0.023170712894501344,
          0.03015986126848591,
          0.10945176833632075,
          0.06981149702881528,
          0.08355485691289832,
          0.05247668340643252,
          0.06471214984578832,
          0.04868909814370559,
          0.03781392165305708,
          0.07417003521441012,
          0.0728695901637022,
          0.051677274608424195,
          0.05617896550088708,
          0.04132761257376161,
          0.04655495499168416,
          -0.004285908585085596,
          0.03435664620043921,
          0.00316102709249777,
          0.021131995356207245,
          -0.02032714838821381,
          -0.012847208275338029,
          -0.03498361280593165,
          -0.04745622575618458,
          -0.07113730106549643,
          -0.06971063826855994,
          -0.09547756627806603,
          -0.08814948552911361,
          -0.08333315170773192,
          -0.0783142298396956,
          -0.061716668757033855,
          -0.06391812452148449,
          -0.06591755686019929,
          -0.06372298851116032,
          -0.06299097888981742,
          -0.06245083905737414,
          -0.05721905507696978,
          -0.04223651290766517,
          -0.03293771607436402,
          -0.0235872065009588,
          -0.024509576327764515,
          -0.019833137430609105,
          -0.01456780055692819,
          -0.022466368237614165,
          -0.01480912545648505,
          -0.009986822952713803,
          0.015161508197730544,
          0.0070727432167259074,
          0.009444071126426978,
          0.014036103869617955,
          0.016314213492976792,
          0.03089416208639406,
          0.055898360103240785,
          0.05637026151392188,
          0.06250844173443704,
          0.05240312310177231,
          0.06508077769247178,
          0.07561399445845685,
          0.060969436452861014,
          0.03547510386191943,
          0.06980717957552351,
          0.06493697159852063,
          0.07582508891389228,
          0.06999273116649873,
          0.07837142288819177,
          0.04509729939398399,
          0.04830726404273711,
          0.039573861323127124,
          0.049061031425375434,
          0.024822902668343083,
          0.03038822539091046,
          0.02681697607866007,
          0.028581496721427513,
          0.013787666046912506,
          0.0017951258824513427,
          -0.0012150079472944553,
          -0.02735056060248986,
          -0.04211902198971873,
          -0.04697571006183954,
          -0.01406728453019812,
          -0.022343231909051298,
          0.0003446447462873703,
          0.01718495553475452,
          0.025119721772729253,
          0.02487826416574168,
          0.039270318461075204,
          0.03888437753911811,
          0.03653432129184453,
          0.034203934840054684,
          0.024169818171465574,
          0.005700679944377285,
          0.013603513014913027,
          0.03728306827282801,
          0.07849541443644403,
          0.06584700082004091,
          0.07162919478684104,
          0.07395549667314838,
          0.055581106115465184,
          0.018585104077276204,
          0.062085925049131685,
          0.05882730506045486,
          0.07848239205031704,
          0.07594345215457077,
          0.041992468034837804,
          0.026059773318910073,
          0.054992711267699335,
          0.08521504655262979,
          0.06766963801649184,
          0.03483899349400299,
          0.029446209944760326,
          0.02720654265958178,
          0.03397602322417481,
          0.06345601734288597,
          0.0635653589086822,
          0.06141062988404378,
          0.058981914866816476,
          0.07831611358903157,
          0.07410217129003871,
          0.09588595389236976,
          0.08420451835047005,
          0.11299409887551293,
          0.16889414862183805,
          0.18956317436134107,
          0.20083015409024485,
          0.2022281534422694,
          0.1958817378908222,
          0.20632709007679706,
          0.22066085908534605,
          0.24014545811937915,
          0.253980044732496,
          0.28435139663476394,
          0.27599252898514814,
          0.24986386910903158,
          0.26712122621415535,
          0.2993601869422624,
          0.3260065936926968,
          0.3284941509658237,
          0.33249470483776333,
          0.3310090085439019,
          0.3398744472766764,
          0.3150170650797446,
          0.3348088606456301,
          0.38874501952662155,
          0.3160558045513866,
          0.3161692962199818,
          0.34958717649142934,
          0.35779553787856866,
          0.3935168907781872,
          0.4213590476721256,
          0.41988105731220027,
          0.4131729050338764,
          0.4127861352888238,
          0.4224455651087031,
          0.41521343650199793,
          0.41471650740563937,
          0.42825280400789456,
          0.4410900309894559,
          0.45998546478905644,
          0.47989619406135886,
          0.498969112579321,
          0.5049946687739797,
          0.5328669160556387,
          0.5554230869904819,
          0.5855230332073864,
          0.5953133511182245,
          0.6705923249020393,
          0.7364005314027653,
          0.721378682974088,
          0.7199426576359165,
          0.71099410574356,
          0.6732360950735132,
          0.6839383045818157,
          0.6582184003884839,
          0.6983605572226272,
          0.7197047818765365,
          0.7141244787240286,
          0.6618539301080149,
          0.6965422344602752,
          0.6991386369824475,
          0.6710756704002276,
          0.6385918718035004,
          0.6909179686129803,
          0.6706405327083282,
          0.6750215449312209,
          0.6790725744888015,
          0.704501214002909,
          0.7443545875775937,
          0.6875250409158631,
          0.6980097300340775,
          0.7121661379619846
         ],
         "yaxis": "y"
        },
        {
         "hovertemplate": "comp_mom12x3_to3M=8<br>date=%{x}<br>value=%{y}<extra></extra>",
         "legendgroup": "8",
         "line": {
          "color": "#FF97FF",
          "dash": "solid"
         },
         "marker": {
          "symbol": "circle"
         },
         "mode": "lines",
         "name": "8",
         "showlegend": true,
         "type": "scattergl",
         "x": [
          "2006-01-31T00:00:00",
          "2006-02-28T00:00:00",
          "2006-03-31T00:00:00",
          "2006-04-30T00:00:00",
          "2006-05-31T00:00:00",
          "2006-06-30T00:00:00",
          "2006-07-31T00:00:00",
          "2006-08-31T00:00:00",
          "2006-09-30T00:00:00",
          "2006-10-31T00:00:00",
          "2006-11-30T00:00:00",
          "2006-12-31T00:00:00",
          "2007-01-31T00:00:00",
          "2007-02-28T00:00:00",
          "2007-03-31T00:00:00",
          "2007-04-30T00:00:00",
          "2007-05-31T00:00:00",
          "2007-06-30T00:00:00",
          "2007-07-31T00:00:00",
          "2007-08-31T00:00:00",
          "2007-09-30T00:00:00",
          "2007-10-31T00:00:00",
          "2007-11-30T00:00:00",
          "2007-12-31T00:00:00",
          "2008-01-31T00:00:00",
          "2008-02-29T00:00:00",
          "2008-03-31T00:00:00",
          "2008-04-30T00:00:00",
          "2008-05-31T00:00:00",
          "2008-06-30T00:00:00",
          "2008-07-31T00:00:00",
          "2008-08-31T00:00:00",
          "2008-09-30T00:00:00",
          "2008-10-31T00:00:00",
          "2008-11-30T00:00:00",
          "2008-12-31T00:00:00",
          "2009-01-31T00:00:00",
          "2009-02-28T00:00:00",
          "2009-03-31T00:00:00",
          "2009-04-30T00:00:00",
          "2009-05-31T00:00:00",
          "2009-06-30T00:00:00",
          "2009-07-31T00:00:00",
          "2009-08-31T00:00:00",
          "2009-09-30T00:00:00",
          "2009-10-31T00:00:00",
          "2009-11-30T00:00:00",
          "2009-12-31T00:00:00",
          "2010-01-31T00:00:00",
          "2010-02-28T00:00:00",
          "2010-03-31T00:00:00",
          "2010-04-30T00:00:00",
          "2010-05-31T00:00:00",
          "2010-06-30T00:00:00",
          "2010-07-31T00:00:00",
          "2010-08-31T00:00:00",
          "2010-09-30T00:00:00",
          "2010-10-31T00:00:00",
          "2010-11-30T00:00:00",
          "2010-12-31T00:00:00",
          "2011-01-31T00:00:00",
          "2011-02-28T00:00:00",
          "2011-03-31T00:00:00",
          "2011-04-30T00:00:00",
          "2011-05-31T00:00:00",
          "2011-06-30T00:00:00",
          "2011-07-31T00:00:00",
          "2011-08-31T00:00:00",
          "2011-09-30T00:00:00",
          "2011-10-31T00:00:00",
          "2011-11-30T00:00:00",
          "2011-12-31T00:00:00",
          "2012-01-31T00:00:00",
          "2012-02-29T00:00:00",
          "2012-03-31T00:00:00",
          "2012-04-30T00:00:00",
          "2012-05-31T00:00:00",
          "2012-06-30T00:00:00",
          "2012-07-31T00:00:00",
          "2012-08-31T00:00:00",
          "2012-09-30T00:00:00",
          "2012-10-31T00:00:00",
          "2012-11-30T00:00:00",
          "2012-12-31T00:00:00",
          "2013-01-31T00:00:00",
          "2013-02-28T00:00:00",
          "2013-03-31T00:00:00",
          "2013-04-30T00:00:00",
          "2013-05-31T00:00:00",
          "2013-06-30T00:00:00",
          "2013-07-31T00:00:00",
          "2013-08-31T00:00:00",
          "2013-09-30T00:00:00",
          "2013-10-31T00:00:00",
          "2013-11-30T00:00:00",
          "2013-12-31T00:00:00",
          "2014-01-31T00:00:00",
          "2014-02-28T00:00:00",
          "2014-03-31T00:00:00",
          "2014-04-30T00:00:00",
          "2014-05-31T00:00:00",
          "2014-06-30T00:00:00",
          "2014-07-31T00:00:00",
          "2014-08-31T00:00:00",
          "2014-09-30T00:00:00",
          "2014-10-31T00:00:00",
          "2014-11-30T00:00:00",
          "2014-12-31T00:00:00",
          "2015-01-31T00:00:00",
          "2015-02-28T00:00:00",
          "2015-03-31T00:00:00",
          "2015-04-30T00:00:00",
          "2015-05-31T00:00:00",
          "2015-06-30T00:00:00",
          "2015-07-31T00:00:00",
          "2015-08-31T00:00:00",
          "2015-09-30T00:00:00",
          "2015-10-31T00:00:00",
          "2015-11-30T00:00:00",
          "2015-12-31T00:00:00",
          "2016-01-31T00:00:00",
          "2016-02-29T00:00:00",
          "2016-03-31T00:00:00",
          "2016-04-30T00:00:00",
          "2016-05-31T00:00:00",
          "2016-06-30T00:00:00",
          "2016-07-31T00:00:00",
          "2016-08-31T00:00:00",
          "2016-09-30T00:00:00",
          "2016-10-31T00:00:00",
          "2016-11-30T00:00:00",
          "2016-12-31T00:00:00",
          "2017-01-31T00:00:00",
          "2017-02-28T00:00:00",
          "2017-03-31T00:00:00",
          "2017-04-30T00:00:00",
          "2017-05-31T00:00:00",
          "2017-06-30T00:00:00",
          "2017-07-31T00:00:00",
          "2017-08-31T00:00:00",
          "2017-09-30T00:00:00",
          "2017-10-31T00:00:00",
          "2017-11-30T00:00:00",
          "2017-12-31T00:00:00",
          "2018-01-31T00:00:00",
          "2018-02-28T00:00:00",
          "2018-03-31T00:00:00",
          "2018-04-30T00:00:00",
          "2018-05-31T00:00:00",
          "2018-06-30T00:00:00",
          "2018-07-31T00:00:00",
          "2018-08-31T00:00:00",
          "2018-09-30T00:00:00",
          "2018-10-31T00:00:00",
          "2018-11-30T00:00:00",
          "2018-12-31T00:00:00",
          "2019-01-31T00:00:00",
          "2019-02-28T00:00:00",
          "2019-03-31T00:00:00",
          "2019-04-30T00:00:00",
          "2019-05-31T00:00:00",
          "2019-06-30T00:00:00",
          "2019-07-31T00:00:00",
          "2019-08-31T00:00:00",
          "2019-09-30T00:00:00",
          "2019-10-31T00:00:00",
          "2019-11-30T00:00:00",
          "2019-12-31T00:00:00",
          "2020-01-31T00:00:00",
          "2020-02-29T00:00:00",
          "2020-03-31T00:00:00",
          "2020-04-30T00:00:00",
          "2020-05-31T00:00:00",
          "2020-06-30T00:00:00",
          "2020-07-31T00:00:00",
          "2020-08-31T00:00:00",
          "2020-09-30T00:00:00",
          "2020-10-31T00:00:00",
          "2020-11-30T00:00:00",
          "2020-12-31T00:00:00",
          "2021-01-31T00:00:00",
          "2021-02-28T00:00:00",
          "2021-03-31T00:00:00",
          "2021-04-30T00:00:00",
          "2021-05-31T00:00:00",
          "2021-06-30T00:00:00",
          "2021-07-31T00:00:00",
          "2021-08-31T00:00:00",
          "2021-09-30T00:00:00",
          "2021-10-31T00:00:00",
          "2021-11-30T00:00:00",
          "2021-12-31T00:00:00",
          "2022-01-31T00:00:00",
          "2022-02-28T00:00:00",
          "2022-03-31T00:00:00",
          "2022-04-30T00:00:00",
          "2022-05-31T00:00:00",
          "2022-06-30T00:00:00",
          "2022-07-31T00:00:00",
          "2022-08-31T00:00:00",
          "2022-09-30T00:00:00",
          "2022-10-31T00:00:00",
          "2022-11-30T00:00:00"
         ],
         "xaxis": "x",
         "y": [
          0,
          0.041621925809034455,
          0.09291575775769978,
          0.0889095710497203,
          0.09837043909038568,
          0.0832530938088687,
          0.09678149565329197,
          0.07848726037398168,
          0.11499385657472772,
          0.15563858450085388,
          0.1649633722332804,
          0.15328393014206676,
          0.0905151959804118,
          0.005896966359723255,
          -0.09721142286530438,
          -0.05260469825702874,
          0.05134370676828737,
          0.0267287651251793,
          0.02798289581346891,
          0.03510695270563935,
          0.07226004540845654,
          0.007299900905585632,
          0.007406625854698312,
          0.008105911378780473,
          -0.005914979100897777,
          -0.017564652641173795,
          0.02384357500486778,
          0.029330274119361288,
          0.04053221865892809,
          0.03199508967352105,
          0.04710608346376133,
          0.05915172724418083,
          0.0751612646516564,
          0.07174346965556322,
          0.06223630802303726,
          0.042638055016205545,
          0.018675154127855143,
          -0.04295580552206202,
          -0.00028919756524192763,
          -0.04128167126080151,
          -0.04561209285444989,
          -0.06779353989474424,
          -0.06636587705073893,
          -0.049092712795173354,
          -0.05344428655583311,
          -0.054881023208841806,
          -0.062239045213698496,
          -0.0821856668013824,
          -0.1011554978420216,
          -0.09933721667278883,
          -0.10490960789754544,
          -0.11027652776029129,
          -0.11899498920580776,
          -0.11832043844933127,
          -0.10357143687251014,
          -0.08960041746210556,
          -0.08375732056229057,
          -0.05286486421700676,
          -0.0509468456034744,
          -0.05091776049763075,
          -0.04873568228634506,
          -0.05521089931009837,
          -0.052767219282599975,
          -0.046679224722739776,
          -0.040854640097712336,
          -0.043122139923203795,
          -0.042011712028425796,
          -0.036440279877200554,
          -0.03324158669800381,
          -0.027816960190781947,
          -0.014266453457391415,
          0.017628744784651706,
          0.004508114701425425,
          0.01841566138715045,
          0.020487638003870767,
          0.03472655790094592,
          0.05701247354797778,
          0.10064424098547753,
          0.0807184481918577,
          0.09635809549320196,
          0.09554868622495749,
          0.10985986195097319,
          0.09859766851940388,
          0.10157756145053143,
          0.11204447125039918,
          0.13840106419341258,
          0.1338933103937927,
          0.11943449910952086,
          0.14358345537021067,
          0.14357674254317065,
          0.1436468434539826,
          0.13214063263945874,
          0.12519742851288074,
          0.14502366899573627,
          0.15562550717976031,
          0.15982990260816887,
          0.1648193243473275,
          0.176636648485752,
          0.17785726294089477,
          0.18795512773511858,
          0.18305454821339584,
          0.16859727647198497,
          0.1741641007375574,
          0.15828007507868525,
          0.15555932489989233,
          0.16712718788837044,
          0.2376555503262312,
          0.2694153978052096,
          0.2478188339189813,
          0.2414297411919455,
          0.3195871195017852,
          0.21091332910736504,
          0.2713591526384216,
          0.29535291735153923,
          0.27993554391652076,
          0.26376865244429637,
          0.2223123066995769,
          0.21072534489121764,
          0.19179513923827574,
          0.22920583430701424,
          0.2228613630950007,
          0.20829124844565627,
          0.22252361086344075,
          0.22327742233830117,
          0.21339479431977293,
          0.2622061391115087,
          0.25536380749278176,
          0.2734092687336669,
          0.26016484790832717,
          0.25602254493426546,
          0.2505176711725172,
          0.2772029404649019,
          0.26532938058678135,
          0.26629929808877706,
          0.30026535325609127,
          0.3339839822934485,
          0.36075796722837805,
          0.4020930765604449,
          0.36865219511967395,
          0.3632841314313555,
          0.4368034463327153,
          0.48468095856291504,
          0.5170850548308006,
          0.5757522586354265,
          0.6022708292343888,
          0.6020310489299412,
          0.6114278394533168,
          0.7049618388393806,
          0.7616062443312239,
          0.7620477522214051,
          0.7871809145702338,
          0.787371032813101,
          0.7851219295945988,
          0.7898042433498143,
          0.8272622849578801,
          0.9316852683248884,
          0.8180598536527532,
          0.8157090967588434,
          0.8480797611750306,
          0.8543176498622189,
          0.9272303424306856,
          0.9559885706135045,
          0.9843222710606838,
          0.9992761075956966,
          1.0385768221264073,
          1.0383306883575343,
          1.0317480205921887,
          1.1040553242970184,
          1.1389640048483916,
          1.178781655337474,
          1.3047470874133893,
          1.3499444823227473,
          1.4119879364888304,
          1.3911942466194516,
          1.3732452774052342,
          1.367165002416685,
          1.3784676156834523,
          1.3828153144459705,
          1.5609349325648014,
          1.669993397260368,
          1.5826444842333771,
          1.585569310928661,
          1.7081430242299138,
          1.7201311209717152,
          1.7152144196612205,
          1.794043228962872,
          1.8347301675352958,
          1.868555353647284,
          1.8940759916403178,
          1.8208588452408905,
          1.7524708613975135,
          1.7581309535592329,
          1.812418343855704,
          1.7127980056489212,
          1.7890969308028049,
          1.7914170500155175,
          1.8283458075321657,
          1.8556184549064962,
          1.9424810259067802,
          1.9863590813380494,
          1.9324647587838966,
          1.840770832587844,
          1.8774737672957205
         ],
         "yaxis": "y"
        },
        {
         "hovertemplate": "comp_mom12x3_to3M=9<br>date=%{x}<br>value=%{y}<extra></extra>",
         "legendgroup": "9",
         "line": {
          "color": "#FECB52",
          "dash": "solid"
         },
         "marker": {
          "symbol": "circle"
         },
         "mode": "lines",
         "name": "9",
         "showlegend": true,
         "type": "scattergl",
         "x": [
          "2006-01-31T00:00:00",
          "2006-02-28T00:00:00",
          "2006-03-31T00:00:00",
          "2006-04-30T00:00:00",
          "2006-05-31T00:00:00",
          "2006-06-30T00:00:00",
          "2006-07-31T00:00:00",
          "2006-08-31T00:00:00",
          "2006-09-30T00:00:00",
          "2006-10-31T00:00:00",
          "2006-11-30T00:00:00",
          "2006-12-31T00:00:00",
          "2007-01-31T00:00:00",
          "2007-02-28T00:00:00",
          "2007-03-31T00:00:00",
          "2007-04-30T00:00:00",
          "2007-05-31T00:00:00",
          "2007-06-30T00:00:00",
          "2007-07-31T00:00:00",
          "2007-08-31T00:00:00",
          "2007-09-30T00:00:00",
          "2007-10-31T00:00:00",
          "2007-11-30T00:00:00",
          "2007-12-31T00:00:00",
          "2008-01-31T00:00:00",
          "2008-02-29T00:00:00",
          "2008-03-31T00:00:00",
          "2008-04-30T00:00:00",
          "2008-05-31T00:00:00",
          "2008-06-30T00:00:00",
          "2008-07-31T00:00:00",
          "2008-08-31T00:00:00",
          "2008-09-30T00:00:00",
          "2008-10-31T00:00:00",
          "2008-11-30T00:00:00",
          "2008-12-31T00:00:00",
          "2009-01-31T00:00:00",
          "2009-02-28T00:00:00",
          "2009-03-31T00:00:00",
          "2009-04-30T00:00:00",
          "2009-05-31T00:00:00",
          "2009-06-30T00:00:00",
          "2009-07-31T00:00:00",
          "2009-08-31T00:00:00",
          "2009-09-30T00:00:00",
          "2009-10-31T00:00:00",
          "2009-11-30T00:00:00",
          "2009-12-31T00:00:00",
          "2010-01-31T00:00:00",
          "2010-02-28T00:00:00",
          "2010-03-31T00:00:00",
          "2010-04-30T00:00:00",
          "2010-05-31T00:00:00",
          "2010-06-30T00:00:00",
          "2010-07-31T00:00:00",
          "2010-08-31T00:00:00",
          "2010-09-30T00:00:00",
          "2010-10-31T00:00:00",
          "2010-11-30T00:00:00",
          "2010-12-31T00:00:00",
          "2011-01-31T00:00:00",
          "2011-02-28T00:00:00",
          "2011-03-31T00:00:00",
          "2011-04-30T00:00:00",
          "2011-05-31T00:00:00",
          "2011-06-30T00:00:00",
          "2011-07-31T00:00:00",
          "2011-08-31T00:00:00",
          "2011-09-30T00:00:00",
          "2011-10-31T00:00:00",
          "2011-11-30T00:00:00",
          "2011-12-31T00:00:00",
          "2012-01-31T00:00:00",
          "2012-02-29T00:00:00",
          "2012-03-31T00:00:00",
          "2012-04-30T00:00:00",
          "2012-05-31T00:00:00",
          "2012-06-30T00:00:00",
          "2012-07-31T00:00:00",
          "2012-08-31T00:00:00",
          "2012-09-30T00:00:00",
          "2012-10-31T00:00:00",
          "2012-11-30T00:00:00",
          "2012-12-31T00:00:00",
          "2013-01-31T00:00:00",
          "2013-02-28T00:00:00",
          "2013-03-31T00:00:00",
          "2013-04-30T00:00:00",
          "2013-05-31T00:00:00",
          "2013-06-30T00:00:00",
          "2013-07-31T00:00:00",
          "2013-08-31T00:00:00",
          "2013-09-30T00:00:00",
          "2013-10-31T00:00:00",
          "2013-11-30T00:00:00",
          "2013-12-31T00:00:00",
          "2014-01-31T00:00:00",
          "2014-02-28T00:00:00",
          "2014-03-31T00:00:00",
          "2014-04-30T00:00:00",
          "2014-05-31T00:00:00",
          "2014-06-30T00:00:00",
          "2014-07-31T00:00:00",
          "2014-08-31T00:00:00",
          "2014-09-30T00:00:00",
          "2014-10-31T00:00:00",
          "2014-11-30T00:00:00",
          "2014-12-31T00:00:00",
          "2015-01-31T00:00:00",
          "2015-02-28T00:00:00",
          "2015-03-31T00:00:00",
          "2015-04-30T00:00:00",
          "2015-05-31T00:00:00",
          "2015-06-30T00:00:00",
          "2015-07-31T00:00:00",
          "2015-08-31T00:00:00",
          "2015-09-30T00:00:00",
          "2015-10-31T00:00:00",
          "2015-11-30T00:00:00",
          "2015-12-31T00:00:00",
          "2016-01-31T00:00:00",
          "2016-02-29T00:00:00",
          "2016-03-31T00:00:00",
          "2016-04-30T00:00:00",
          "2016-05-31T00:00:00",
          "2016-06-30T00:00:00",
          "2016-07-31T00:00:00",
          "2016-08-31T00:00:00",
          "2016-09-30T00:00:00",
          "2016-10-31T00:00:00",
          "2016-11-30T00:00:00",
          "2016-12-31T00:00:00",
          "2017-01-31T00:00:00",
          "2017-02-28T00:00:00",
          "2017-03-31T00:00:00",
          "2017-04-30T00:00:00",
          "2017-05-31T00:00:00",
          "2017-06-30T00:00:00",
          "2017-07-31T00:00:00",
          "2017-08-31T00:00:00",
          "2017-09-30T00:00:00",
          "2017-10-31T00:00:00",
          "2017-11-30T00:00:00",
          "2017-12-31T00:00:00",
          "2018-01-31T00:00:00",
          "2018-02-28T00:00:00",
          "2018-03-31T00:00:00",
          "2018-04-30T00:00:00",
          "2018-05-31T00:00:00",
          "2018-06-30T00:00:00",
          "2018-07-31T00:00:00",
          "2018-08-31T00:00:00",
          "2018-09-30T00:00:00",
          "2018-10-31T00:00:00",
          "2018-11-30T00:00:00",
          "2018-12-31T00:00:00",
          "2019-01-31T00:00:00",
          "2019-02-28T00:00:00",
          "2019-03-31T00:00:00",
          "2019-04-30T00:00:00",
          "2019-05-31T00:00:00",
          "2019-06-30T00:00:00",
          "2019-07-31T00:00:00",
          "2019-08-31T00:00:00",
          "2019-09-30T00:00:00",
          "2019-10-31T00:00:00",
          "2019-11-30T00:00:00",
          "2019-12-31T00:00:00",
          "2020-01-31T00:00:00",
          "2020-02-29T00:00:00",
          "2020-03-31T00:00:00",
          "2020-04-30T00:00:00",
          "2020-05-31T00:00:00",
          "2020-06-30T00:00:00",
          "2020-07-31T00:00:00",
          "2020-08-31T00:00:00",
          "2020-09-30T00:00:00",
          "2020-10-31T00:00:00",
          "2020-11-30T00:00:00",
          "2020-12-31T00:00:00",
          "2021-01-31T00:00:00",
          "2021-02-28T00:00:00",
          "2021-03-31T00:00:00",
          "2021-04-30T00:00:00",
          "2021-05-31T00:00:00",
          "2021-06-30T00:00:00",
          "2021-07-31T00:00:00",
          "2021-08-31T00:00:00",
          "2021-09-30T00:00:00",
          "2021-10-31T00:00:00",
          "2021-11-30T00:00:00",
          "2021-12-31T00:00:00",
          "2022-01-31T00:00:00",
          "2022-02-28T00:00:00",
          "2022-03-31T00:00:00",
          "2022-04-30T00:00:00",
          "2022-05-31T00:00:00",
          "2022-06-30T00:00:00",
          "2022-07-31T00:00:00",
          "2022-08-31T00:00:00",
          "2022-09-30T00:00:00",
          "2022-10-31T00:00:00",
          "2022-11-30T00:00:00"
         ],
         "xaxis": "x",
         "y": [
          0,
          0.06918848451317805,
          0.14426748952774493,
          0.15865907878146435,
          0.15229536558618983,
          0.14683815661247723,
          0.17187538596017315,
          0.21327280445149932,
          0.1843428486889005,
          0.24949504890208818,
          0.3509189740073009,
          0.3564472730639896,
          0.22800871930882005,
          0.16260105029663507,
          0.13135757420438443,
          0.15145057521962935,
          0.28610881243923547,
          0.2768287280559967,
          0.2767246591041572,
          0.2943401791941933,
          0.37031825602846813,
          0.2960295950045233,
          0.32944189184448924,
          0.3079854398284467,
          0.2553972148324959,
          0.2794816245880334,
          0.3751411943973433,
          0.3871327724904463,
          0.4269642173224273,
          0.4124937859611266,
          0.38583182329862,
          0.39078295162773324,
          0.3895969124935832,
          0.4011910619498671,
          0.48196014805806864,
          0.3761916695717611,
          0.35667211131533194,
          0.26187834110633146,
          0.27949666487158864,
          0.2378331231320221,
          0.2668444424550587,
          0.22111759614440674,
          0.23351548052583881,
          0.281781540140319,
          0.362659546569881,
          0.3368385538453773,
          0.3430561605972908,
          0.30960822343391126,
          0.3013222523887802,
          0.3293660574802342,
          0.387038698599673,
          0.41660959648638807,
          0.4478112218048247,
          0.44637373415976067,
          0.4965116701417389,
          0.5544165093969362,
          0.4311192372196426,
          0.5361258435679042,
          0.5113878845380171,
          0.44027619769092685,
          0.47487304444540857,
          0.44974763079056435,
          0.4501228562262627,
          0.4572689074425471,
          0.5246963928320647,
          0.5431208040700855,
          0.5405299020208572,
          0.51453615397327,
          0.5190134449991985,
          0.5126953044391338,
          0.5001717796970846,
          0.5052503261660737,
          0.5023347636394269,
          0.5494388286330345,
          0.5022169356473154,
          0.48469012090316976,
          0.5817269471272284,
          0.6280343319918535,
          0.6050609372210827,
          0.638829429590519,
          0.6626574743090152,
          0.7025149422156836,
          0.6875989534172413,
          0.6893627386749706,
          0.7569201897319722,
          0.8696106765683427,
          0.9265164863406301,
          0.8738325899189572,
          0.9742814588903808,
          1.0068352681660353,
          0.9844094555995715,
          0.972349716020168,
          0.92098045813897,
          0.8760888129928712,
          0.9004270780613861,
          1.0417613914926411,
          0.9624729168371025,
          0.9142191246010596,
          0.8970222137243764,
          0.9825989930636958,
          0.9933848088020942,
          0.8948192667045352,
          0.8879107518279536,
          0.8259614619102302,
          0.7920561358560183,
          0.7403677691518484,
          0.6752792247360708,
          0.7329309150638383,
          0.7281696326006584,
          0.735687874627881,
          0.8654003879253214,
          0.793556642158094,
          0.7551330712250333,
          0.7503321733780794,
          0.6866480925825016,
          0.7650776130297856,
          0.7483027919578917,
          0.7624471945067417,
          0.7226703790877813,
          0.6852589582893427,
          0.6827883377513364,
          0.6672920408160323,
          0.6569949742894023,
          0.6630879660958748,
          0.6722143980102995,
          0.6688981309036865,
          0.6489998594199569,
          0.6597000519635625,
          0.6696327767961532,
          0.6297967966180669,
          0.6339627856761167,
          0.6741572623623169,
          0.6948842053859712,
          0.7266645128317053,
          0.7510773680848293,
          0.7921223161411761,
          0.8790529357718426,
          0.9077404615982954,
          0.9072068406073535,
          0.9411408072439225,
          1.1012839711046385,
          1.112453107304653,
          1.1779433392165415,
          1.22218464892216,
          1.3119899041496987,
          1.220663239982951,
          1.2631579199915652,
          1.3982610118072225,
          1.4497268203746834,
          1.435380864285904,
          1.4554628768204663,
          1.4608882556082508,
          1.3599798156344374,
          1.2899672951045318,
          1.3148510157529936,
          1.418111014450412,
          1.2170024056965483,
          1.2274664992675315,
          1.3238994534931057,
          1.3664246215263907,
          1.4429833814643698,
          1.5088346471316831,
          1.5554949419034063,
          1.5374354846436864,
          1.582516929204706,
          1.5587326370548413,
          1.4920710218552018,
          1.5703889269679094,
          1.6664215362203687,
          1.7038767194406157,
          1.872865042958447,
          1.9500769381667018,
          2.199275863250578,
          2.1268790577539627,
          2.086435399030037,
          2.0989995919604687,
          2.08516528767936,
          1.9507664198076218,
          2.2261732871217226,
          2.461725276832698,
          2.2661718447035875,
          2.216892976360073,
          2.3994182539281868,
          2.4002775328999624,
          2.4911575780743105,
          2.45737078683801,
          2.393691220031539,
          2.3642881762883556,
          2.501886270885618,
          2.4379510064798557,
          2.2185192454033276,
          2.157350507384494,
          2.296539096810644,
          2.106895650303511,
          2.0283115281032096,
          2.21300495996786,
          2.4180525603782117,
          2.6047875340331825,
          2.646122902597276,
          2.7020950273348694,
          2.655064479369841,
          2.6435129928319943,
          2.567364404361545
         ],
         "yaxis": "y"
        },
        {
         "hovertemplate": "comp_mom12x3_to3M=Long-Short<br>date=%{x}<br>value=%{y}<extra></extra>",
         "legendgroup": "Long-Short",
         "line": {
          "color": "#636efa",
          "dash": "solid"
         },
         "marker": {
          "symbol": "circle"
         },
         "mode": "lines",
         "name": "Long-Short",
         "showlegend": true,
         "type": "scattergl",
         "x": [
          "2006-01-31T00:00:00",
          "2006-02-28T00:00:00",
          "2006-03-31T00:00:00",
          "2006-04-30T00:00:00",
          "2006-05-31T00:00:00",
          "2006-06-30T00:00:00",
          "2006-07-31T00:00:00",
          "2006-08-31T00:00:00",
          "2006-09-30T00:00:00",
          "2006-10-31T00:00:00",
          "2006-11-30T00:00:00",
          "2006-12-31T00:00:00",
          "2007-01-31T00:00:00",
          "2007-02-28T00:00:00",
          "2007-03-31T00:00:00",
          "2007-04-30T00:00:00",
          "2007-05-31T00:00:00",
          "2007-06-30T00:00:00",
          "2007-07-31T00:00:00",
          "2007-08-31T00:00:00",
          "2007-09-30T00:00:00",
          "2007-10-31T00:00:00",
          "2007-11-30T00:00:00",
          "2007-12-31T00:00:00",
          "2008-01-31T00:00:00",
          "2008-02-29T00:00:00",
          "2008-03-31T00:00:00",
          "2008-04-30T00:00:00",
          "2008-05-31T00:00:00",
          "2008-06-30T00:00:00",
          "2008-07-31T00:00:00",
          "2008-08-31T00:00:00",
          "2008-09-30T00:00:00",
          "2008-10-31T00:00:00",
          "2008-11-30T00:00:00",
          "2008-12-31T00:00:00",
          "2009-01-31T00:00:00",
          "2009-02-28T00:00:00",
          "2009-03-31T00:00:00",
          "2009-04-30T00:00:00",
          "2009-05-31T00:00:00",
          "2009-06-30T00:00:00",
          "2009-07-31T00:00:00",
          "2009-08-31T00:00:00",
          "2009-09-30T00:00:00",
          "2009-10-31T00:00:00",
          "2009-11-30T00:00:00",
          "2009-12-31T00:00:00",
          "2010-01-31T00:00:00",
          "2010-02-28T00:00:00",
          "2010-03-31T00:00:00",
          "2010-04-30T00:00:00",
          "2010-05-31T00:00:00",
          "2010-06-30T00:00:00",
          "2010-07-31T00:00:00",
          "2010-08-31T00:00:00",
          "2010-09-30T00:00:00",
          "2010-10-31T00:00:00",
          "2010-11-30T00:00:00",
          "2010-12-31T00:00:00",
          "2011-01-31T00:00:00",
          "2011-02-28T00:00:00",
          "2011-03-31T00:00:00",
          "2011-04-30T00:00:00",
          "2011-05-31T00:00:00",
          "2011-06-30T00:00:00",
          "2011-07-31T00:00:00",
          "2011-08-31T00:00:00",
          "2011-09-30T00:00:00",
          "2011-10-31T00:00:00",
          "2011-11-30T00:00:00",
          "2011-12-31T00:00:00",
          "2012-01-31T00:00:00",
          "2012-02-29T00:00:00",
          "2012-03-31T00:00:00",
          "2012-04-30T00:00:00",
          "2012-05-31T00:00:00",
          "2012-06-30T00:00:00",
          "2012-07-31T00:00:00",
          "2012-08-31T00:00:00",
          "2012-09-30T00:00:00",
          "2012-10-31T00:00:00",
          "2012-11-30T00:00:00",
          "2012-12-31T00:00:00",
          "2013-01-31T00:00:00",
          "2013-02-28T00:00:00",
          "2013-03-31T00:00:00",
          "2013-04-30T00:00:00",
          "2013-05-31T00:00:00",
          "2013-06-30T00:00:00",
          "2013-07-31T00:00:00",
          "2013-08-31T00:00:00",
          "2013-09-30T00:00:00",
          "2013-10-31T00:00:00",
          "2013-11-30T00:00:00",
          "2013-12-31T00:00:00",
          "2014-01-31T00:00:00",
          "2014-02-28T00:00:00",
          "2014-03-31T00:00:00",
          "2014-04-30T00:00:00",
          "2014-05-31T00:00:00",
          "2014-06-30T00:00:00",
          "2014-07-31T00:00:00",
          "2014-08-31T00:00:00",
          "2014-09-30T00:00:00",
          "2014-10-31T00:00:00",
          "2014-11-30T00:00:00",
          "2014-12-31T00:00:00",
          "2015-01-31T00:00:00",
          "2015-02-28T00:00:00",
          "2015-03-31T00:00:00",
          "2015-04-30T00:00:00",
          "2015-05-31T00:00:00",
          "2015-06-30T00:00:00",
          "2015-07-31T00:00:00",
          "2015-08-31T00:00:00",
          "2015-09-30T00:00:00",
          "2015-10-31T00:00:00",
          "2015-11-30T00:00:00",
          "2015-12-31T00:00:00",
          "2016-01-31T00:00:00",
          "2016-02-29T00:00:00",
          "2016-03-31T00:00:00",
          "2016-04-30T00:00:00",
          "2016-05-31T00:00:00",
          "2016-06-30T00:00:00",
          "2016-07-31T00:00:00",
          "2016-08-31T00:00:00",
          "2016-09-30T00:00:00",
          "2016-10-31T00:00:00",
          "2016-11-30T00:00:00",
          "2016-12-31T00:00:00",
          "2017-01-31T00:00:00",
          "2017-02-28T00:00:00",
          "2017-03-31T00:00:00",
          "2017-04-30T00:00:00",
          "2017-05-31T00:00:00",
          "2017-06-30T00:00:00",
          "2017-07-31T00:00:00",
          "2017-08-31T00:00:00",
          "2017-09-30T00:00:00",
          "2017-10-31T00:00:00",
          "2017-11-30T00:00:00",
          "2017-12-31T00:00:00",
          "2018-01-31T00:00:00",
          "2018-02-28T00:00:00",
          "2018-03-31T00:00:00",
          "2018-04-30T00:00:00",
          "2018-05-31T00:00:00",
          "2018-06-30T00:00:00",
          "2018-07-31T00:00:00",
          "2018-08-31T00:00:00",
          "2018-09-30T00:00:00",
          "2018-10-31T00:00:00",
          "2018-11-30T00:00:00",
          "2018-12-31T00:00:00",
          "2019-01-31T00:00:00",
          "2019-02-28T00:00:00",
          "2019-03-31T00:00:00",
          "2019-04-30T00:00:00",
          "2019-05-31T00:00:00",
          "2019-06-30T00:00:00",
          "2019-07-31T00:00:00",
          "2019-08-31T00:00:00",
          "2019-09-30T00:00:00",
          "2019-10-31T00:00:00",
          "2019-11-30T00:00:00",
          "2019-12-31T00:00:00",
          "2020-01-31T00:00:00",
          "2020-02-29T00:00:00",
          "2020-03-31T00:00:00",
          "2020-04-30T00:00:00",
          "2020-05-31T00:00:00",
          "2020-06-30T00:00:00",
          "2020-07-31T00:00:00",
          "2020-08-31T00:00:00",
          "2020-09-30T00:00:00",
          "2020-10-31T00:00:00",
          "2020-11-30T00:00:00",
          "2020-12-31T00:00:00",
          "2021-01-31T00:00:00",
          "2021-02-28T00:00:00",
          "2021-03-31T00:00:00",
          "2021-04-30T00:00:00",
          "2021-05-31T00:00:00",
          "2021-06-30T00:00:00",
          "2021-07-31T00:00:00",
          "2021-08-31T00:00:00",
          "2021-09-30T00:00:00",
          "2021-10-31T00:00:00",
          "2021-11-30T00:00:00",
          "2021-12-31T00:00:00",
          "2022-01-31T00:00:00",
          "2022-02-28T00:00:00",
          "2022-03-31T00:00:00",
          "2022-04-30T00:00:00",
          "2022-05-31T00:00:00",
          "2022-06-30T00:00:00",
          "2022-07-31T00:00:00",
          "2022-08-31T00:00:00",
          "2022-09-30T00:00:00",
          "2022-10-31T00:00:00",
          "2022-11-30T00:00:00"
         ],
         "xaxis": "x",
         "y": [
          0,
          0.10328850895166397,
          0.23542965905102053,
          0.2939527234531345,
          0.2260104945885011,
          0.24440535471681657,
          0.2978328263521295,
          0.3633520697139401,
          0.4035572684266544,
          0.5765062883851351,
          0.8474828246178641,
          0.7875303451818869,
          0.5989879431784391,
          0.48993612019398713,
          0.405393685549702,
          0.4902509802000943,
          0.8194577242493173,
          0.7784462943238155,
          0.8836272462962871,
          0.8984138301398235,
          1.0620978780996833,
          0.8928661748787443,
          0.90794470210387,
          0.8932368267816493,
          0.7026680158400689,
          0.7007321115690011,
          0.7945375271154045,
          0.7786478095907912,
          0.8164483960807423,
          0.8132907410378745,
          0.8784305915991353,
          0.8896743443183133,
          0.9304800936348447,
          0.9825633562940284,
          1.1451935124965327,
          0.9527570950591453,
          0.9524424818992638,
          0.7527916613939956,
          0.8714825566365783,
          0.8051236355012905,
          0.9220695451815795,
          0.8681853208236869,
          0.8932955234158941,
          1.0129110702602766,
          1.103147477768788,
          1.0950058170281651,
          1.1038665591702599,
          1.0290099722288222,
          0.9632857013899394,
          1.0396939800829497,
          1.187796338843122,
          1.180543101513479,
          1.2872607068518622,
          1.2685560738160957,
          1.2661497021997965,
          1.3678510964426156,
          1.1561616250613929,
          1.3781965686541873,
          1.3246088348548386,
          1.2665779773054586,
          1.3063975055267925,
          1.247421749446871,
          1.2643487378944518,
          1.2302932766867993,
          1.3097404031468374,
          1.2964623030326612,
          1.304684471697179,
          1.2916135519242995,
          1.2970418191113322,
          1.3101245778809978,
          1.3703673282936544,
          1.5410230485919985,
          1.4540423686381652,
          1.673731404424573,
          1.69588595590557,
          1.665827820086931,
          1.8626172896299367,
          2.081416663808472,
          1.8949554515804583,
          2.0619969498955446,
          2.138363635506152,
          2.3082916233414053,
          2.223600364357627,
          2.2444124110183092,
          2.2945394977653772,
          2.596254933821724,
          2.7611391276139683,
          2.550451494323596,
          2.7778641427702464,
          2.7453623504135356,
          2.6881380415323597,
          2.4962361236517263,
          2.518903445946121,
          2.211253844134026,
          2.394437910550642,
          2.540568938304661,
          2.5094263283162355,
          2.4954137286119873,
          2.490851906326315,
          2.5984141774813687,
          2.553840741623635,
          2.4788616474871352,
          2.4152674945794765,
          2.262310323690357,
          2.2450670677430864,
          2.293626098257046,
          2.403896012102146,
          2.579831277951375,
          2.5517372816315977,
          2.531173148357361,
          2.9231334781135723,
          2.5230185336914484,
          2.64415810141168,
          2.72646803328247,
          2.4642854962785736,
          2.6418733726413173,
          2.451324141362714,
          2.532099363411395,
          2.3821998658477685,
          2.355947148710506,
          2.279352240519771,
          2.057747373351439,
          2.1140028866336444,
          2.196425351554391,
          2.1835283758803596,
          2.3280389002451436,
          2.2630382582548854,
          2.3384247618564267,
          2.30508855757518,
          2.3379777434746716,
          2.4143678875135866,
          2.6501218212079936,
          2.653190663037865,
          2.835170024917935,
          3.1687163963129006,
          3.4324327041951337,
          3.8631012916401657,
          4.435246328954196,
          4.411387017995453,
          4.595118006192252,
          5.3473452074032375,
          5.5360636007438435,
          5.874067763459784,
          6.458605165624819,
          6.820427271124604,
          6.079165353999833,
          6.332152328762744,
          6.894048130375281,
          7.158562269791339,
          7.5037626755929985,
          7.844423586813569,
          7.902336283813936,
          7.354902182561917,
          6.90562879160595,
          6.970867759349513,
          8.058928392735345,
          6.762935970065501,
          6.927018914135322,
          7.279127498219564,
          7.71164718539873,
          8.367016505459425,
          8.918663417095551,
          9.039145394500602,
          9.074138746590682,
          9.546380100317306,
          9.742445394786474,
          9.501360654077253,
          10.054728509797307,
          10.762484108320471,
          11.314284969171897,
          12.66390537196324,
          13.510832323874371,
          14.791350516638738,
          14.643349117140483,
          14.581259168249897,
          14.930148992747123,
          14.721509586225082,
          15.068925923494614,
          18.532004253504557,
          21.87669496846785,
          21.031712841119525,
          20.744729801502434,
          22.095541860081457,
          20.937879392982364,
          22.748719850158416,
          22.73416831535411,
          23.04624064429004,
          23.840690143082043,
          24.62742960453409,
          22.885368428442877,
          22.30383012179924,
          22.693909105906283,
          23.94626020212884,
          20.324633099805734,
          21.957228221358275,
          23.38056694036306,
          26.785676827375237,
          27.823904808856007,
          29.425670321303627,
          30.732866700886056,
          29.038938690092255,
          28.88212756389049,
          28.51205518313122
         ],
         "yaxis": "y"
        },
        {
         "hovertemplate": "comp_mom12x3_to3M=Short-Long<br>date=%{x}<br>value=%{y}<extra></extra>",
         "legendgroup": "Short-Long",
         "line": {
          "color": "#EF553B",
          "dash": "solid"
         },
         "marker": {
          "symbol": "circle"
         },
         "mode": "lines",
         "name": "Short-Long",
         "showlegend": true,
         "type": "scattergl",
         "x": [
          "2006-01-31T00:00:00",
          "2006-02-28T00:00:00",
          "2006-03-31T00:00:00",
          "2006-04-30T00:00:00",
          "2006-05-31T00:00:00",
          "2006-06-30T00:00:00",
          "2006-07-31T00:00:00",
          "2006-08-31T00:00:00",
          "2006-09-30T00:00:00",
          "2006-10-31T00:00:00",
          "2006-11-30T00:00:00",
          "2006-12-31T00:00:00",
          "2007-01-31T00:00:00",
          "2007-02-28T00:00:00",
          "2007-03-31T00:00:00",
          "2007-04-30T00:00:00",
          "2007-05-31T00:00:00",
          "2007-06-30T00:00:00",
          "2007-07-31T00:00:00",
          "2007-08-31T00:00:00",
          "2007-09-30T00:00:00",
          "2007-10-31T00:00:00",
          "2007-11-30T00:00:00",
          "2007-12-31T00:00:00",
          "2008-01-31T00:00:00",
          "2008-02-29T00:00:00",
          "2008-03-31T00:00:00",
          "2008-04-30T00:00:00",
          "2008-05-31T00:00:00",
          "2008-06-30T00:00:00",
          "2008-07-31T00:00:00",
          "2008-08-31T00:00:00",
          "2008-09-30T00:00:00",
          "2008-10-31T00:00:00",
          "2008-11-30T00:00:00",
          "2008-12-31T00:00:00",
          "2009-01-31T00:00:00",
          "2009-02-28T00:00:00",
          "2009-03-31T00:00:00",
          "2009-04-30T00:00:00",
          "2009-05-31T00:00:00",
          "2009-06-30T00:00:00",
          "2009-07-31T00:00:00",
          "2009-08-31T00:00:00",
          "2009-09-30T00:00:00",
          "2009-10-31T00:00:00",
          "2009-11-30T00:00:00",
          "2009-12-31T00:00:00",
          "2010-01-31T00:00:00",
          "2010-02-28T00:00:00",
          "2010-03-31T00:00:00",
          "2010-04-30T00:00:00",
          "2010-05-31T00:00:00",
          "2010-06-30T00:00:00",
          "2010-07-31T00:00:00",
          "2010-08-31T00:00:00",
          "2010-09-30T00:00:00",
          "2010-10-31T00:00:00",
          "2010-11-30T00:00:00",
          "2010-12-31T00:00:00",
          "2011-01-31T00:00:00",
          "2011-02-28T00:00:00",
          "2011-03-31T00:00:00",
          "2011-04-30T00:00:00",
          "2011-05-31T00:00:00",
          "2011-06-30T00:00:00",
          "2011-07-31T00:00:00",
          "2011-08-31T00:00:00",
          "2011-09-30T00:00:00",
          "2011-10-31T00:00:00",
          "2011-11-30T00:00:00",
          "2011-12-31T00:00:00",
          "2012-01-31T00:00:00",
          "2012-02-29T00:00:00",
          "2012-03-31T00:00:00",
          "2012-04-30T00:00:00",
          "2012-05-31T00:00:00",
          "2012-06-30T00:00:00",
          "2012-07-31T00:00:00",
          "2012-08-31T00:00:00",
          "2012-09-30T00:00:00",
          "2012-10-31T00:00:00",
          "2012-11-30T00:00:00",
          "2012-12-31T00:00:00",
          "2013-01-31T00:00:00",
          "2013-02-28T00:00:00",
          "2013-03-31T00:00:00",
          "2013-04-30T00:00:00",
          "2013-05-31T00:00:00",
          "2013-06-30T00:00:00",
          "2013-07-31T00:00:00",
          "2013-08-31T00:00:00",
          "2013-09-30T00:00:00",
          "2013-10-31T00:00:00",
          "2013-11-30T00:00:00",
          "2013-12-31T00:00:00",
          "2014-01-31T00:00:00",
          "2014-02-28T00:00:00",
          "2014-03-31T00:00:00",
          "2014-04-30T00:00:00",
          "2014-05-31T00:00:00",
          "2014-06-30T00:00:00",
          "2014-07-31T00:00:00",
          "2014-08-31T00:00:00",
          "2014-09-30T00:00:00",
          "2014-10-31T00:00:00",
          "2014-11-30T00:00:00",
          "2014-12-31T00:00:00",
          "2015-01-31T00:00:00",
          "2015-02-28T00:00:00",
          "2015-03-31T00:00:00",
          "2015-04-30T00:00:00",
          "2015-05-31T00:00:00",
          "2015-06-30T00:00:00",
          "2015-07-31T00:00:00",
          "2015-08-31T00:00:00",
          "2015-09-30T00:00:00",
          "2015-10-31T00:00:00",
          "2015-11-30T00:00:00",
          "2015-12-31T00:00:00",
          "2016-01-31T00:00:00",
          "2016-02-29T00:00:00",
          "2016-03-31T00:00:00",
          "2016-04-30T00:00:00",
          "2016-05-31T00:00:00",
          "2016-06-30T00:00:00",
          "2016-07-31T00:00:00",
          "2016-08-31T00:00:00",
          "2016-09-30T00:00:00",
          "2016-10-31T00:00:00",
          "2016-11-30T00:00:00",
          "2016-12-31T00:00:00",
          "2017-01-31T00:00:00",
          "2017-02-28T00:00:00",
          "2017-03-31T00:00:00",
          "2017-04-30T00:00:00",
          "2017-05-31T00:00:00",
          "2017-06-30T00:00:00",
          "2017-07-31T00:00:00",
          "2017-08-31T00:00:00",
          "2017-09-30T00:00:00",
          "2017-10-31T00:00:00",
          "2017-11-30T00:00:00",
          "2017-12-31T00:00:00",
          "2018-01-31T00:00:00",
          "2018-02-28T00:00:00",
          "2018-03-31T00:00:00",
          "2018-04-30T00:00:00",
          "2018-05-31T00:00:00",
          "2018-06-30T00:00:00",
          "2018-07-31T00:00:00",
          "2018-08-31T00:00:00",
          "2018-09-30T00:00:00",
          "2018-10-31T00:00:00",
          "2018-11-30T00:00:00",
          "2018-12-31T00:00:00",
          "2019-01-31T00:00:00",
          "2019-02-28T00:00:00",
          "2019-03-31T00:00:00",
          "2019-04-30T00:00:00",
          "2019-05-31T00:00:00",
          "2019-06-30T00:00:00",
          "2019-07-31T00:00:00",
          "2019-08-31T00:00:00",
          "2019-09-30T00:00:00",
          "2019-10-31T00:00:00",
          "2019-11-30T00:00:00",
          "2019-12-31T00:00:00",
          "2020-01-31T00:00:00",
          "2020-02-29T00:00:00",
          "2020-03-31T00:00:00",
          "2020-04-30T00:00:00",
          "2020-05-31T00:00:00",
          "2020-06-30T00:00:00",
          "2020-07-31T00:00:00",
          "2020-08-31T00:00:00",
          "2020-09-30T00:00:00",
          "2020-10-31T00:00:00",
          "2020-11-30T00:00:00",
          "2020-12-31T00:00:00",
          "2021-01-31T00:00:00",
          "2021-02-28T00:00:00",
          "2021-03-31T00:00:00",
          "2021-04-30T00:00:00",
          "2021-05-31T00:00:00",
          "2021-06-30T00:00:00",
          "2021-07-31T00:00:00",
          "2021-08-31T00:00:00",
          "2021-09-30T00:00:00",
          "2021-10-31T00:00:00",
          "2021-11-30T00:00:00",
          "2021-12-31T00:00:00",
          "2022-01-31T00:00:00",
          "2022-02-28T00:00:00",
          "2022-03-31T00:00:00",
          "2022-04-30T00:00:00",
          "2022-05-31T00:00:00",
          "2022-06-30T00:00:00",
          "2022-07-31T00:00:00",
          "2022-08-31T00:00:00",
          "2022-09-30T00:00:00",
          "2022-10-31T00:00:00",
          "2022-11-30T00:00:00"
         ],
         "xaxis": "x",
         "y": [
          0,
          -0.10328850895166397,
          -0.21068787618247709,
          -0.2480780779775551,
          -0.20859653403207856,
          -0.22047062167309028,
          -0.25393904383279065,
          -0.2916028695253934,
          -0.3124934729366048,
          -0.39720934648550554,
          -0.5008195411077783,
          -0.48462068621300125,
          -0.43026029226153417,
          -0.391403743017013,
          -0.3568705784179551,
          -0.3957025607917608,
          -0.5291960427905558,
          -0.5185839009186084,
          -0.5470558338399828,
          -0.550611471985765,
          -0.5893584154626124,
          -0.5556579905202963,
          -0.5591976084690591,
          -0.555799571508541,
          -0.5110873906128961,
          -0.5105315053787305,
          -0.5375285822390377,
          -0.5334336329385114,
          -0.5433493015808986,
          -0.5425554748012316,
          -0.5589885085873408,
          -0.5616282782854793,
          -0.5710945054359527,
          -0.5826661334485914,
          -0.6169001324228895,
          -0.582533831383931,
          -0.5824665724551148,
          -0.5397708760796585,
          -0.5709354508194605,
          -0.5557217046479817,
          -0.5845045139688076,
          -0.572856313181733,
          -0.5785975340298124,
          -0.6052211042993139,
          -0.6229185723268511,
          -0.6214588225526881,
          -0.6230598471113137,
          -0.6096481346605207,
          -0.5970037454898491,
          -0.612687784804683,
          -0.6408105587144834,
          -0.6396197320284294,
          -0.6572570441193653,
          -0.654454179891367,
          -0.6540876420467717,
          -0.669611669014414,
          -0.6400744522350572,
          -0.6771384866593408,
          -0.6698634711879559,
          -0.6616220390863116,
          -0.6675667058478312,
          -0.6590662176094495,
          -0.661634041026365,
          -0.6565450683796288,
          -0.6687795613366727,
          -0.6668754607120133,
          -0.66806816748743,
          -0.6661856302437779,
          -0.6669763541371612,
          -0.6688730840909518,
          -0.6775081145741645,
          -0.700726070854947,
          -0.6904817521881343,
          -0.7181902246615829,
          -0.7205253018369684,
          -0.7174092618513541,
          -0.7382699044776379,
          -0.7582748074422896,
          -0.7436476481360716,
          -0.7584394063058111,
          -0.7644639655122418,
          -0.7772171608240861,
          -0.7715139879246147,
          -0.7729891278325275,
          -0.7764965098296561,
          -0.7969650618207919,
          -0.8062739825478775,
          -0.7954220372358597,
          -0.8085256147387194,
          -0.8068783186803632,
          -0.8039276683267954,
          -0.7937255945248662,
          -0.7950629436811085,
          -0.7771457701236232,
          -0.7898583571778885,
          -0.7989049843511432,
          -0.797136165906397,
          -0.7963261618100903,
          -0.796060349541157,
          -0.8023442632019362,
          -0.7998959082123368,
          -0.7956741029526021,
          -0.7919389925468139,
          -0.7826207112927425,
          -0.7814717320906123,
          -0.7847417787824222,
          -0.7919485790687913,
          -0.8027020162835894,
          -0.8011536503417174,
          -0.8000023538039313,
          -0.8222020987781882,
          -0.804068737330608,
          -0.8108058658003182,
          -0.8150791590721705,
          -0.8020687119715024,
          -0.812215161259381,
          -0.8023899276484029,
          -0.8070148185075251,
          -0.7988246803583515,
          -0.7972631526630547,
          -0.792635961136925,
          -0.7786231693056769,
          -0.7826959934205897,
          -0.7884476681978702,
          -0.7875940942904708,
          -0.7972358769881899,
          -0.79327564738649,
          -0.7980516337278697,
          -0.7960350563081143,
          -0.7980647268700988,
          -0.8026860472581949,
          -0.8163101036177303,
          -0.8164645409941673,
          -0.8256071422961407,
          -0.8407741634468041,
          -0.8508469162424628,
          -0.8653390816472827,
          -0.8811819710989379,
          -0.880660391003487,
          -0.8847122882747472,
          -0.9002119707888833,
          -0.9031788547272869,
          -0.9081858363205163,
          -0.9159932677520838,
          -0.9200684925512439,
          -0.9124921568350475,
          -0.9156194103180898,
          -0.9220858743185528,
          -0.9246966245398088,
          -0.9278828177571289,
          -0.930771833591029,
          -0.9312251350171514,
          -0.9269959411066643,
          -0.9230702480972339,
          -0.9237050891371058,
          -0.9341197003869568,
          -0.9246947038089739,
          -0.9262864101879419,
          -0.9295606786131386,
          -0.9332405824747363,
          -0.9382628329332388,
          -0.941898688333482,
          -0.9426044448074182,
          -0.9428045079395211,
          -0.9454856380368052,
          -0.9464991018347572,
          -0.9452984208270475,
          -0.9481809135409498,
          -0.9514985208905329,
          -0.9537738190060253,
          -0.9588401137335534,
          -0.9613913182441012,
          -0.9647983674252661,
          -0.9644684468855254,
          -0.9643274187527157,
          -0.965126186071604,
          -0.9646694388155368,
          -0.9654501789914762,
          -0.9728961487476377,
          -0.9775374542914483,
          -0.9767077693354426,
          -0.9764043669080515,
          -0.9778701595852366,
          -0.9767609028374942,
          -0.978679151022575,
          -0.9786660871152187,
          -0.9789465993198516,
          -0.9796421701521341,
          -0.9802869311470416,
          -0.9789469071009205,
          -0.9784343263538066,
          -0.9787953106222089,
          -0.97991609300846,
          -0.97700036851542,
          -0.9787612000375142,
          -0.980077996910391,
          -0.9828604018419682,
          -0.9835008328996516,
          -0.9844177037060431,
          -0.9850871752767903,
          -0.9842911157289148,
          -0.9842091112393643,
          -0.9840135504719638
         ],
         "yaxis": "y"
        }
       ],
       "layout": {
        "legend": {
         "title": {
          "text": "comp_mom12x3_to3M"
         },
         "tracegroupgap": 0
        },
        "margin": {
         "t": 60
        },
        "template": {
         "data": {
          "bar": [
           {
            "error_x": {
             "color": "#2a3f5f"
            },
            "error_y": {
             "color": "#2a3f5f"
            },
            "marker": {
             "line": {
              "color": "#E5ECF6",
              "width": 0.5
             },
             "pattern": {
              "fillmode": "overlay",
              "size": 10,
              "solidity": 0.2
             }
            },
            "type": "bar"
           }
          ],
          "barpolar": [
           {
            "marker": {
             "line": {
              "color": "#E5ECF6",
              "width": 0.5
             },
             "pattern": {
              "fillmode": "overlay",
              "size": 10,
              "solidity": 0.2
             }
            },
            "type": "barpolar"
           }
          ],
          "carpet": [
           {
            "aaxis": {
             "endlinecolor": "#2a3f5f",
             "gridcolor": "white",
             "linecolor": "white",
             "minorgridcolor": "white",
             "startlinecolor": "#2a3f5f"
            },
            "baxis": {
             "endlinecolor": "#2a3f5f",
             "gridcolor": "white",
             "linecolor": "white",
             "minorgridcolor": "white",
             "startlinecolor": "#2a3f5f"
            },
            "type": "carpet"
           }
          ],
          "choropleth": [
           {
            "colorbar": {
             "outlinewidth": 0,
             "ticks": ""
            },
            "type": "choropleth"
           }
          ],
          "contour": [
           {
            "colorbar": {
             "outlinewidth": 0,
             "ticks": ""
            },
            "colorscale": [
             [
              0,
              "#0d0887"
             ],
             [
              0.1111111111111111,
              "#46039f"
             ],
             [
              0.2222222222222222,
              "#7201a8"
             ],
             [
              0.3333333333333333,
              "#9c179e"
             ],
             [
              0.4444444444444444,
              "#bd3786"
             ],
             [
              0.5555555555555556,
              "#d8576b"
             ],
             [
              0.6666666666666666,
              "#ed7953"
             ],
             [
              0.7777777777777778,
              "#fb9f3a"
             ],
             [
              0.8888888888888888,
              "#fdca26"
             ],
             [
              1,
              "#f0f921"
             ]
            ],
            "type": "contour"
           }
          ],
          "contourcarpet": [
           {
            "colorbar": {
             "outlinewidth": 0,
             "ticks": ""
            },
            "type": "contourcarpet"
           }
          ],
          "heatmap": [
           {
            "colorbar": {
             "outlinewidth": 0,
             "ticks": ""
            },
            "colorscale": [
             [
              0,
              "#0d0887"
             ],
             [
              0.1111111111111111,
              "#46039f"
             ],
             [
              0.2222222222222222,
              "#7201a8"
             ],
             [
              0.3333333333333333,
              "#9c179e"
             ],
             [
              0.4444444444444444,
              "#bd3786"
             ],
             [
              0.5555555555555556,
              "#d8576b"
             ],
             [
              0.6666666666666666,
              "#ed7953"
             ],
             [
              0.7777777777777778,
              "#fb9f3a"
             ],
             [
              0.8888888888888888,
              "#fdca26"
             ],
             [
              1,
              "#f0f921"
             ]
            ],
            "type": "heatmap"
           }
          ],
          "heatmapgl": [
           {
            "colorbar": {
             "outlinewidth": 0,
             "ticks": ""
            },
            "colorscale": [
             [
              0,
              "#0d0887"
             ],
             [
              0.1111111111111111,
              "#46039f"
             ],
             [
              0.2222222222222222,
              "#7201a8"
             ],
             [
              0.3333333333333333,
              "#9c179e"
             ],
             [
              0.4444444444444444,
              "#bd3786"
             ],
             [
              0.5555555555555556,
              "#d8576b"
             ],
             [
              0.6666666666666666,
              "#ed7953"
             ],
             [
              0.7777777777777778,
              "#fb9f3a"
             ],
             [
              0.8888888888888888,
              "#fdca26"
             ],
             [
              1,
              "#f0f921"
             ]
            ],
            "type": "heatmapgl"
           }
          ],
          "histogram": [
           {
            "marker": {
             "pattern": {
              "fillmode": "overlay",
              "size": 10,
              "solidity": 0.2
             }
            },
            "type": "histogram"
           }
          ],
          "histogram2d": [
           {
            "colorbar": {
             "outlinewidth": 0,
             "ticks": ""
            },
            "colorscale": [
             [
              0,
              "#0d0887"
             ],
             [
              0.1111111111111111,
              "#46039f"
             ],
             [
              0.2222222222222222,
              "#7201a8"
             ],
             [
              0.3333333333333333,
              "#9c179e"
             ],
             [
              0.4444444444444444,
              "#bd3786"
             ],
             [
              0.5555555555555556,
              "#d8576b"
             ],
             [
              0.6666666666666666,
              "#ed7953"
             ],
             [
              0.7777777777777778,
              "#fb9f3a"
             ],
             [
              0.8888888888888888,
              "#fdca26"
             ],
             [
              1,
              "#f0f921"
             ]
            ],
            "type": "histogram2d"
           }
          ],
          "histogram2dcontour": [
           {
            "colorbar": {
             "outlinewidth": 0,
             "ticks": ""
            },
            "colorscale": [
             [
              0,
              "#0d0887"
             ],
             [
              0.1111111111111111,
              "#46039f"
             ],
             [
              0.2222222222222222,
              "#7201a8"
             ],
             [
              0.3333333333333333,
              "#9c179e"
             ],
             [
              0.4444444444444444,
              "#bd3786"
             ],
             [
              0.5555555555555556,
              "#d8576b"
             ],
             [
              0.6666666666666666,
              "#ed7953"
             ],
             [
              0.7777777777777778,
              "#fb9f3a"
             ],
             [
              0.8888888888888888,
              "#fdca26"
             ],
             [
              1,
              "#f0f921"
             ]
            ],
            "type": "histogram2dcontour"
           }
          ],
          "mesh3d": [
           {
            "colorbar": {
             "outlinewidth": 0,
             "ticks": ""
            },
            "type": "mesh3d"
           }
          ],
          "parcoords": [
           {
            "line": {
             "colorbar": {
              "outlinewidth": 0,
              "ticks": ""
             }
            },
            "type": "parcoords"
           }
          ],
          "pie": [
           {
            "automargin": true,
            "type": "pie"
           }
          ],
          "scatter": [
           {
            "fillpattern": {
             "fillmode": "overlay",
             "size": 10,
             "solidity": 0.2
            },
            "type": "scatter"
           }
          ],
          "scatter3d": [
           {
            "line": {
             "colorbar": {
              "outlinewidth": 0,
              "ticks": ""
             }
            },
            "marker": {
             "colorbar": {
              "outlinewidth": 0,
              "ticks": ""
             }
            },
            "type": "scatter3d"
           }
          ],
          "scattercarpet": [
           {
            "marker": {
             "colorbar": {
              "outlinewidth": 0,
              "ticks": ""
             }
            },
            "type": "scattercarpet"
           }
          ],
          "scattergeo": [
           {
            "marker": {
             "colorbar": {
              "outlinewidth": 0,
              "ticks": ""
             }
            },
            "type": "scattergeo"
           }
          ],
          "scattergl": [
           {
            "marker": {
             "colorbar": {
              "outlinewidth": 0,
              "ticks": ""
             }
            },
            "type": "scattergl"
           }
          ],
          "scattermapbox": [
           {
            "marker": {
             "colorbar": {
              "outlinewidth": 0,
              "ticks": ""
             }
            },
            "type": "scattermapbox"
           }
          ],
          "scatterpolar": [
           {
            "marker": {
             "colorbar": {
              "outlinewidth": 0,
              "ticks": ""
             }
            },
            "type": "scatterpolar"
           }
          ],
          "scatterpolargl": [
           {
            "marker": {
             "colorbar": {
              "outlinewidth": 0,
              "ticks": ""
             }
            },
            "type": "scatterpolargl"
           }
          ],
          "scatterternary": [
           {
            "marker": {
             "colorbar": {
              "outlinewidth": 0,
              "ticks": ""
             }
            },
            "type": "scatterternary"
           }
          ],
          "surface": [
           {
            "colorbar": {
             "outlinewidth": 0,
             "ticks": ""
            },
            "colorscale": [
             [
              0,
              "#0d0887"
             ],
             [
              0.1111111111111111,
              "#46039f"
             ],
             [
              0.2222222222222222,
              "#7201a8"
             ],
             [
              0.3333333333333333,
              "#9c179e"
             ],
             [
              0.4444444444444444,
              "#bd3786"
             ],
             [
              0.5555555555555556,
              "#d8576b"
             ],
             [
              0.6666666666666666,
              "#ed7953"
             ],
             [
              0.7777777777777778,
              "#fb9f3a"
             ],
             [
              0.8888888888888888,
              "#fdca26"
             ],
             [
              1,
              "#f0f921"
             ]
            ],
            "type": "surface"
           }
          ],
          "table": [
           {
            "cells": {
             "fill": {
              "color": "#EBF0F8"
             },
             "line": {
              "color": "white"
             }
            },
            "header": {
             "fill": {
              "color": "#C8D4E3"
             },
             "line": {
              "color": "white"
             }
            },
            "type": "table"
           }
          ]
         },
         "layout": {
          "annotationdefaults": {
           "arrowcolor": "#2a3f5f",
           "arrowhead": 0,
           "arrowwidth": 1
          },
          "autotypenumbers": "strict",
          "coloraxis": {
           "colorbar": {
            "outlinewidth": 0,
            "ticks": ""
           }
          },
          "colorscale": {
           "diverging": [
            [
             0,
             "#8e0152"
            ],
            [
             0.1,
             "#c51b7d"
            ],
            [
             0.2,
             "#de77ae"
            ],
            [
             0.3,
             "#f1b6da"
            ],
            [
             0.4,
             "#fde0ef"
            ],
            [
             0.5,
             "#f7f7f7"
            ],
            [
             0.6,
             "#e6f5d0"
            ],
            [
             0.7,
             "#b8e186"
            ],
            [
             0.8,
             "#7fbc41"
            ],
            [
             0.9,
             "#4d9221"
            ],
            [
             1,
             "#276419"
            ]
           ],
           "sequential": [
            [
             0,
             "#0d0887"
            ],
            [
             0.1111111111111111,
             "#46039f"
            ],
            [
             0.2222222222222222,
             "#7201a8"
            ],
            [
             0.3333333333333333,
             "#9c179e"
            ],
            [
             0.4444444444444444,
             "#bd3786"
            ],
            [
             0.5555555555555556,
             "#d8576b"
            ],
            [
             0.6666666666666666,
             "#ed7953"
            ],
            [
             0.7777777777777778,
             "#fb9f3a"
            ],
            [
             0.8888888888888888,
             "#fdca26"
            ],
            [
             1,
             "#f0f921"
            ]
           ],
           "sequentialminus": [
            [
             0,
             "#0d0887"
            ],
            [
             0.1111111111111111,
             "#46039f"
            ],
            [
             0.2222222222222222,
             "#7201a8"
            ],
            [
             0.3333333333333333,
             "#9c179e"
            ],
            [
             0.4444444444444444,
             "#bd3786"
            ],
            [
             0.5555555555555556,
             "#d8576b"
            ],
            [
             0.6666666666666666,
             "#ed7953"
            ],
            [
             0.7777777777777778,
             "#fb9f3a"
            ],
            [
             0.8888888888888888,
             "#fdca26"
            ],
            [
             1,
             "#f0f921"
            ]
           ]
          },
          "colorway": [
           "#636efa",
           "#EF553B",
           "#00cc96",
           "#ab63fa",
           "#FFA15A",
           "#19d3f3",
           "#FF6692",
           "#B6E880",
           "#FF97FF",
           "#FECB52"
          ],
          "font": {
           "color": "#2a3f5f"
          },
          "geo": {
           "bgcolor": "white",
           "lakecolor": "white",
           "landcolor": "#E5ECF6",
           "showlakes": true,
           "showland": true,
           "subunitcolor": "white"
          },
          "hoverlabel": {
           "align": "left"
          },
          "hovermode": "closest",
          "mapbox": {
           "style": "light"
          },
          "paper_bgcolor": "white",
          "plot_bgcolor": "#E5ECF6",
          "polar": {
           "angularaxis": {
            "gridcolor": "white",
            "linecolor": "white",
            "ticks": ""
           },
           "bgcolor": "#E5ECF6",
           "radialaxis": {
            "gridcolor": "white",
            "linecolor": "white",
            "ticks": ""
           }
          },
          "scene": {
           "xaxis": {
            "backgroundcolor": "#E5ECF6",
            "gridcolor": "white",
            "gridwidth": 2,
            "linecolor": "white",
            "showbackground": true,
            "ticks": "",
            "zerolinecolor": "white"
           },
           "yaxis": {
            "backgroundcolor": "#E5ECF6",
            "gridcolor": "white",
            "gridwidth": 2,
            "linecolor": "white",
            "showbackground": true,
            "ticks": "",
            "zerolinecolor": "white"
           },
           "zaxis": {
            "backgroundcolor": "#E5ECF6",
            "gridcolor": "white",
            "gridwidth": 2,
            "linecolor": "white",
            "showbackground": true,
            "ticks": "",
            "zerolinecolor": "white"
           }
          },
          "shapedefaults": {
           "line": {
            "color": "#2a3f5f"
           }
          },
          "ternary": {
           "aaxis": {
            "gridcolor": "white",
            "linecolor": "white",
            "ticks": ""
           },
           "baxis": {
            "gridcolor": "white",
            "linecolor": "white",
            "ticks": ""
           },
           "bgcolor": "#E5ECF6",
           "caxis": {
            "gridcolor": "white",
            "linecolor": "white",
            "ticks": ""
           }
          },
          "title": {
           "x": 0.05
          },
          "xaxis": {
           "automargin": true,
           "gridcolor": "white",
           "linecolor": "white",
           "ticks": "",
           "title": {
            "standoff": 15
           },
           "zerolinecolor": "white",
           "zerolinewidth": 2
          },
          "yaxis": {
           "automargin": true,
           "gridcolor": "white",
           "linecolor": "white",
           "ticks": "",
           "title": {
            "standoff": 15
           },
           "zerolinecolor": "white",
           "zerolinewidth": 2
          }
         }
        },
        "title": {
         "text": "cumulative excess return(compound) of different groups-holding_period=1"
        },
        "xaxis": {
         "anchor": "y",
         "domain": [
          0,
          1
         ],
         "title": {
          "text": "date"
         }
        },
        "yaxis": {
         "anchor": "x",
         "domain": [
          0,
          1
         ],
         "title": {
          "text": "value"
         }
        }
       }
      }
     },
     "metadata": {},
     "output_type": "display_data"
    },
    {
     "data": {
      "application/vnd.plotly.v1+json": {
       "config": {
        "plotlyServerURL": "https://plot.ly"
       },
       "data": [
        {
         "alignmentgroup": "True",
         "hovertemplate": "variable=ret_ann<br>comp_mom12x3_to3M=%{x}<br>value=%{y}<extra></extra>",
         "legendgroup": "ret_ann",
         "marker": {
          "color": "#636efa",
          "pattern": {
           "shape": ""
          }
         },
         "name": "ret_ann",
         "offsetgroup": "ret_ann",
         "orientation": "v",
         "showlegend": true,
         "textposition": "auto",
         "type": "bar",
         "x": [
          0,
          1,
          2,
          3,
          4,
          5,
          6,
          7,
          8,
          9,
          "Long-Short",
          "Short-Long"
         ],
         "xaxis": "x",
         "y": [
          -0.1392,
          -0.0543,
          -0.0113,
          0.0008,
          0.0063,
          0.0099,
          0.0324,
          0.0343,
          0.067,
          0.0833,
          0.2224,
          -0.2224
         ],
         "yaxis": "y"
        }
       ],
       "layout": {
        "barmode": "relative",
        "legend": {
         "title": {
          "text": "variable"
         },
         "tracegroupgap": 0
        },
        "template": {
         "data": {
          "bar": [
           {
            "error_x": {
             "color": "#2a3f5f"
            },
            "error_y": {
             "color": "#2a3f5f"
            },
            "marker": {
             "line": {
              "color": "#E5ECF6",
              "width": 0.5
             },
             "pattern": {
              "fillmode": "overlay",
              "size": 10,
              "solidity": 0.2
             }
            },
            "type": "bar"
           }
          ],
          "barpolar": [
           {
            "marker": {
             "line": {
              "color": "#E5ECF6",
              "width": 0.5
             },
             "pattern": {
              "fillmode": "overlay",
              "size": 10,
              "solidity": 0.2
             }
            },
            "type": "barpolar"
           }
          ],
          "carpet": [
           {
            "aaxis": {
             "endlinecolor": "#2a3f5f",
             "gridcolor": "white",
             "linecolor": "white",
             "minorgridcolor": "white",
             "startlinecolor": "#2a3f5f"
            },
            "baxis": {
             "endlinecolor": "#2a3f5f",
             "gridcolor": "white",
             "linecolor": "white",
             "minorgridcolor": "white",
             "startlinecolor": "#2a3f5f"
            },
            "type": "carpet"
           }
          ],
          "choropleth": [
           {
            "colorbar": {
             "outlinewidth": 0,
             "ticks": ""
            },
            "type": "choropleth"
           }
          ],
          "contour": [
           {
            "colorbar": {
             "outlinewidth": 0,
             "ticks": ""
            },
            "colorscale": [
             [
              0,
              "#0d0887"
             ],
             [
              0.1111111111111111,
              "#46039f"
             ],
             [
              0.2222222222222222,
              "#7201a8"
             ],
             [
              0.3333333333333333,
              "#9c179e"
             ],
             [
              0.4444444444444444,
              "#bd3786"
             ],
             [
              0.5555555555555556,
              "#d8576b"
             ],
             [
              0.6666666666666666,
              "#ed7953"
             ],
             [
              0.7777777777777778,
              "#fb9f3a"
             ],
             [
              0.8888888888888888,
              "#fdca26"
             ],
             [
              1,
              "#f0f921"
             ]
            ],
            "type": "contour"
           }
          ],
          "contourcarpet": [
           {
            "colorbar": {
             "outlinewidth": 0,
             "ticks": ""
            },
            "type": "contourcarpet"
           }
          ],
          "heatmap": [
           {
            "colorbar": {
             "outlinewidth": 0,
             "ticks": ""
            },
            "colorscale": [
             [
              0,
              "#0d0887"
             ],
             [
              0.1111111111111111,
              "#46039f"
             ],
             [
              0.2222222222222222,
              "#7201a8"
             ],
             [
              0.3333333333333333,
              "#9c179e"
             ],
             [
              0.4444444444444444,
              "#bd3786"
             ],
             [
              0.5555555555555556,
              "#d8576b"
             ],
             [
              0.6666666666666666,
              "#ed7953"
             ],
             [
              0.7777777777777778,
              "#fb9f3a"
             ],
             [
              0.8888888888888888,
              "#fdca26"
             ],
             [
              1,
              "#f0f921"
             ]
            ],
            "type": "heatmap"
           }
          ],
          "heatmapgl": [
           {
            "colorbar": {
             "outlinewidth": 0,
             "ticks": ""
            },
            "colorscale": [
             [
              0,
              "#0d0887"
             ],
             [
              0.1111111111111111,
              "#46039f"
             ],
             [
              0.2222222222222222,
              "#7201a8"
             ],
             [
              0.3333333333333333,
              "#9c179e"
             ],
             [
              0.4444444444444444,
              "#bd3786"
             ],
             [
              0.5555555555555556,
              "#d8576b"
             ],
             [
              0.6666666666666666,
              "#ed7953"
             ],
             [
              0.7777777777777778,
              "#fb9f3a"
             ],
             [
              0.8888888888888888,
              "#fdca26"
             ],
             [
              1,
              "#f0f921"
             ]
            ],
            "type": "heatmapgl"
           }
          ],
          "histogram": [
           {
            "marker": {
             "pattern": {
              "fillmode": "overlay",
              "size": 10,
              "solidity": 0.2
             }
            },
            "type": "histogram"
           }
          ],
          "histogram2d": [
           {
            "colorbar": {
             "outlinewidth": 0,
             "ticks": ""
            },
            "colorscale": [
             [
              0,
              "#0d0887"
             ],
             [
              0.1111111111111111,
              "#46039f"
             ],
             [
              0.2222222222222222,
              "#7201a8"
             ],
             [
              0.3333333333333333,
              "#9c179e"
             ],
             [
              0.4444444444444444,
              "#bd3786"
             ],
             [
              0.5555555555555556,
              "#d8576b"
             ],
             [
              0.6666666666666666,
              "#ed7953"
             ],
             [
              0.7777777777777778,
              "#fb9f3a"
             ],
             [
              0.8888888888888888,
              "#fdca26"
             ],
             [
              1,
              "#f0f921"
             ]
            ],
            "type": "histogram2d"
           }
          ],
          "histogram2dcontour": [
           {
            "colorbar": {
             "outlinewidth": 0,
             "ticks": ""
            },
            "colorscale": [
             [
              0,
              "#0d0887"
             ],
             [
              0.1111111111111111,
              "#46039f"
             ],
             [
              0.2222222222222222,
              "#7201a8"
             ],
             [
              0.3333333333333333,
              "#9c179e"
             ],
             [
              0.4444444444444444,
              "#bd3786"
             ],
             [
              0.5555555555555556,
              "#d8576b"
             ],
             [
              0.6666666666666666,
              "#ed7953"
             ],
             [
              0.7777777777777778,
              "#fb9f3a"
             ],
             [
              0.8888888888888888,
              "#fdca26"
             ],
             [
              1,
              "#f0f921"
             ]
            ],
            "type": "histogram2dcontour"
           }
          ],
          "mesh3d": [
           {
            "colorbar": {
             "outlinewidth": 0,
             "ticks": ""
            },
            "type": "mesh3d"
           }
          ],
          "parcoords": [
           {
            "line": {
             "colorbar": {
              "outlinewidth": 0,
              "ticks": ""
             }
            },
            "type": "parcoords"
           }
          ],
          "pie": [
           {
            "automargin": true,
            "type": "pie"
           }
          ],
          "scatter": [
           {
            "fillpattern": {
             "fillmode": "overlay",
             "size": 10,
             "solidity": 0.2
            },
            "type": "scatter"
           }
          ],
          "scatter3d": [
           {
            "line": {
             "colorbar": {
              "outlinewidth": 0,
              "ticks": ""
             }
            },
            "marker": {
             "colorbar": {
              "outlinewidth": 0,
              "ticks": ""
             }
            },
            "type": "scatter3d"
           }
          ],
          "scattercarpet": [
           {
            "marker": {
             "colorbar": {
              "outlinewidth": 0,
              "ticks": ""
             }
            },
            "type": "scattercarpet"
           }
          ],
          "scattergeo": [
           {
            "marker": {
             "colorbar": {
              "outlinewidth": 0,
              "ticks": ""
             }
            },
            "type": "scattergeo"
           }
          ],
          "scattergl": [
           {
            "marker": {
             "colorbar": {
              "outlinewidth": 0,
              "ticks": ""
             }
            },
            "type": "scattergl"
           }
          ],
          "scattermapbox": [
           {
            "marker": {
             "colorbar": {
              "outlinewidth": 0,
              "ticks": ""
             }
            },
            "type": "scattermapbox"
           }
          ],
          "scatterpolar": [
           {
            "marker": {
             "colorbar": {
              "outlinewidth": 0,
              "ticks": ""
             }
            },
            "type": "scatterpolar"
           }
          ],
          "scatterpolargl": [
           {
            "marker": {
             "colorbar": {
              "outlinewidth": 0,
              "ticks": ""
             }
            },
            "type": "scatterpolargl"
           }
          ],
          "scatterternary": [
           {
            "marker": {
             "colorbar": {
              "outlinewidth": 0,
              "ticks": ""
             }
            },
            "type": "scatterternary"
           }
          ],
          "surface": [
           {
            "colorbar": {
             "outlinewidth": 0,
             "ticks": ""
            },
            "colorscale": [
             [
              0,
              "#0d0887"
             ],
             [
              0.1111111111111111,
              "#46039f"
             ],
             [
              0.2222222222222222,
              "#7201a8"
             ],
             [
              0.3333333333333333,
              "#9c179e"
             ],
             [
              0.4444444444444444,
              "#bd3786"
             ],
             [
              0.5555555555555556,
              "#d8576b"
             ],
             [
              0.6666666666666666,
              "#ed7953"
             ],
             [
              0.7777777777777778,
              "#fb9f3a"
             ],
             [
              0.8888888888888888,
              "#fdca26"
             ],
             [
              1,
              "#f0f921"
             ]
            ],
            "type": "surface"
           }
          ],
          "table": [
           {
            "cells": {
             "fill": {
              "color": "#EBF0F8"
             },
             "line": {
              "color": "white"
             }
            },
            "header": {
             "fill": {
              "color": "#C8D4E3"
             },
             "line": {
              "color": "white"
             }
            },
            "type": "table"
           }
          ]
         },
         "layout": {
          "annotationdefaults": {
           "arrowcolor": "#2a3f5f",
           "arrowhead": 0,
           "arrowwidth": 1
          },
          "autotypenumbers": "strict",
          "coloraxis": {
           "colorbar": {
            "outlinewidth": 0,
            "ticks": ""
           }
          },
          "colorscale": {
           "diverging": [
            [
             0,
             "#8e0152"
            ],
            [
             0.1,
             "#c51b7d"
            ],
            [
             0.2,
             "#de77ae"
            ],
            [
             0.3,
             "#f1b6da"
            ],
            [
             0.4,
             "#fde0ef"
            ],
            [
             0.5,
             "#f7f7f7"
            ],
            [
             0.6,
             "#e6f5d0"
            ],
            [
             0.7,
             "#b8e186"
            ],
            [
             0.8,
             "#7fbc41"
            ],
            [
             0.9,
             "#4d9221"
            ],
            [
             1,
             "#276419"
            ]
           ],
           "sequential": [
            [
             0,
             "#0d0887"
            ],
            [
             0.1111111111111111,
             "#46039f"
            ],
            [
             0.2222222222222222,
             "#7201a8"
            ],
            [
             0.3333333333333333,
             "#9c179e"
            ],
            [
             0.4444444444444444,
             "#bd3786"
            ],
            [
             0.5555555555555556,
             "#d8576b"
            ],
            [
             0.6666666666666666,
             "#ed7953"
            ],
            [
             0.7777777777777778,
             "#fb9f3a"
            ],
            [
             0.8888888888888888,
             "#fdca26"
            ],
            [
             1,
             "#f0f921"
            ]
           ],
           "sequentialminus": [
            [
             0,
             "#0d0887"
            ],
            [
             0.1111111111111111,
             "#46039f"
            ],
            [
             0.2222222222222222,
             "#7201a8"
            ],
            [
             0.3333333333333333,
             "#9c179e"
            ],
            [
             0.4444444444444444,
             "#bd3786"
            ],
            [
             0.5555555555555556,
             "#d8576b"
            ],
            [
             0.6666666666666666,
             "#ed7953"
            ],
            [
             0.7777777777777778,
             "#fb9f3a"
            ],
            [
             0.8888888888888888,
             "#fdca26"
            ],
            [
             1,
             "#f0f921"
            ]
           ]
          },
          "colorway": [
           "#636efa",
           "#EF553B",
           "#00cc96",
           "#ab63fa",
           "#FFA15A",
           "#19d3f3",
           "#FF6692",
           "#B6E880",
           "#FF97FF",
           "#FECB52"
          ],
          "font": {
           "color": "#2a3f5f"
          },
          "geo": {
           "bgcolor": "white",
           "lakecolor": "white",
           "landcolor": "#E5ECF6",
           "showlakes": true,
           "showland": true,
           "subunitcolor": "white"
          },
          "hoverlabel": {
           "align": "left"
          },
          "hovermode": "closest",
          "mapbox": {
           "style": "light"
          },
          "paper_bgcolor": "white",
          "plot_bgcolor": "#E5ECF6",
          "polar": {
           "angularaxis": {
            "gridcolor": "white",
            "linecolor": "white",
            "ticks": ""
           },
           "bgcolor": "#E5ECF6",
           "radialaxis": {
            "gridcolor": "white",
            "linecolor": "white",
            "ticks": ""
           }
          },
          "scene": {
           "xaxis": {
            "backgroundcolor": "#E5ECF6",
            "gridcolor": "white",
            "gridwidth": 2,
            "linecolor": "white",
            "showbackground": true,
            "ticks": "",
            "zerolinecolor": "white"
           },
           "yaxis": {
            "backgroundcolor": "#E5ECF6",
            "gridcolor": "white",
            "gridwidth": 2,
            "linecolor": "white",
            "showbackground": true,
            "ticks": "",
            "zerolinecolor": "white"
           },
           "zaxis": {
            "backgroundcolor": "#E5ECF6",
            "gridcolor": "white",
            "gridwidth": 2,
            "linecolor": "white",
            "showbackground": true,
            "ticks": "",
            "zerolinecolor": "white"
           }
          },
          "shapedefaults": {
           "line": {
            "color": "#2a3f5f"
           }
          },
          "ternary": {
           "aaxis": {
            "gridcolor": "white",
            "linecolor": "white",
            "ticks": ""
           },
           "baxis": {
            "gridcolor": "white",
            "linecolor": "white",
            "ticks": ""
           },
           "bgcolor": "#E5ECF6",
           "caxis": {
            "gridcolor": "white",
            "linecolor": "white",
            "ticks": ""
           }
          },
          "title": {
           "x": 0.05
          },
          "xaxis": {
           "automargin": true,
           "gridcolor": "white",
           "linecolor": "white",
           "ticks": "",
           "title": {
            "standoff": 15
           },
           "zerolinecolor": "white",
           "zerolinewidth": 2
          },
          "yaxis": {
           "automargin": true,
           "gridcolor": "white",
           "linecolor": "white",
           "ticks": "",
           "title": {
            "standoff": 15
           },
           "zerolinecolor": "white",
           "zerolinewidth": 2
          }
         }
        },
        "title": {
         "text": "ann_ret"
        },
        "xaxis": {
         "anchor": "y",
         "domain": [
          0,
          1
         ],
         "title": {
          "text": "comp_mom12x3_to3M"
         }
        },
        "yaxis": {
         "anchor": "x",
         "domain": [
          0,
          1
         ],
         "title": {
          "text": "value"
         }
        }
       }
      }
     },
     "metadata": {},
     "output_type": "display_data"
    },
    {
     "data": {
      "application/vnd.plotly.v1+json": {
       "config": {
        "plotlyServerURL": "https://plot.ly"
       },
       "data": [
        {
         "alignmentgroup": "True",
         "hovertemplate": "variable=SR<br>comp_mom12x3_to3M=%{x}<br>value=%{y}<extra></extra>",
         "legendgroup": "SR",
         "marker": {
          "color": "#636efa",
          "pattern": {
           "shape": ""
          }
         },
         "name": "SR",
         "offsetgroup": "SR",
         "orientation": "v",
         "showlegend": true,
         "textposition": "auto",
         "type": "bar",
         "x": [
          0,
          1,
          2,
          3,
          4,
          5,
          6,
          7,
          8,
          9,
          "Long-Short",
          "Short-Long"
         ],
         "xaxis": "x",
         "y": [
          -1.1566,
          -0.637,
          -0.1674,
          0.0153,
          0.1074,
          0.1641,
          0.5669,
          0.5042,
          0.7428,
          0.6764,
          1.1072,
          -1.1072
         ],
         "yaxis": "y"
        }
       ],
       "layout": {
        "barmode": "relative",
        "legend": {
         "title": {
          "text": "variable"
         },
         "tracegroupgap": 0
        },
        "template": {
         "data": {
          "bar": [
           {
            "error_x": {
             "color": "#2a3f5f"
            },
            "error_y": {
             "color": "#2a3f5f"
            },
            "marker": {
             "line": {
              "color": "#E5ECF6",
              "width": 0.5
             },
             "pattern": {
              "fillmode": "overlay",
              "size": 10,
              "solidity": 0.2
             }
            },
            "type": "bar"
           }
          ],
          "barpolar": [
           {
            "marker": {
             "line": {
              "color": "#E5ECF6",
              "width": 0.5
             },
             "pattern": {
              "fillmode": "overlay",
              "size": 10,
              "solidity": 0.2
             }
            },
            "type": "barpolar"
           }
          ],
          "carpet": [
           {
            "aaxis": {
             "endlinecolor": "#2a3f5f",
             "gridcolor": "white",
             "linecolor": "white",
             "minorgridcolor": "white",
             "startlinecolor": "#2a3f5f"
            },
            "baxis": {
             "endlinecolor": "#2a3f5f",
             "gridcolor": "white",
             "linecolor": "white",
             "minorgridcolor": "white",
             "startlinecolor": "#2a3f5f"
            },
            "type": "carpet"
           }
          ],
          "choropleth": [
           {
            "colorbar": {
             "outlinewidth": 0,
             "ticks": ""
            },
            "type": "choropleth"
           }
          ],
          "contour": [
           {
            "colorbar": {
             "outlinewidth": 0,
             "ticks": ""
            },
            "colorscale": [
             [
              0,
              "#0d0887"
             ],
             [
              0.1111111111111111,
              "#46039f"
             ],
             [
              0.2222222222222222,
              "#7201a8"
             ],
             [
              0.3333333333333333,
              "#9c179e"
             ],
             [
              0.4444444444444444,
              "#bd3786"
             ],
             [
              0.5555555555555556,
              "#d8576b"
             ],
             [
              0.6666666666666666,
              "#ed7953"
             ],
             [
              0.7777777777777778,
              "#fb9f3a"
             ],
             [
              0.8888888888888888,
              "#fdca26"
             ],
             [
              1,
              "#f0f921"
             ]
            ],
            "type": "contour"
           }
          ],
          "contourcarpet": [
           {
            "colorbar": {
             "outlinewidth": 0,
             "ticks": ""
            },
            "type": "contourcarpet"
           }
          ],
          "heatmap": [
           {
            "colorbar": {
             "outlinewidth": 0,
             "ticks": ""
            },
            "colorscale": [
             [
              0,
              "#0d0887"
             ],
             [
              0.1111111111111111,
              "#46039f"
             ],
             [
              0.2222222222222222,
              "#7201a8"
             ],
             [
              0.3333333333333333,
              "#9c179e"
             ],
             [
              0.4444444444444444,
              "#bd3786"
             ],
             [
              0.5555555555555556,
              "#d8576b"
             ],
             [
              0.6666666666666666,
              "#ed7953"
             ],
             [
              0.7777777777777778,
              "#fb9f3a"
             ],
             [
              0.8888888888888888,
              "#fdca26"
             ],
             [
              1,
              "#f0f921"
             ]
            ],
            "type": "heatmap"
           }
          ],
          "heatmapgl": [
           {
            "colorbar": {
             "outlinewidth": 0,
             "ticks": ""
            },
            "colorscale": [
             [
              0,
              "#0d0887"
             ],
             [
              0.1111111111111111,
              "#46039f"
             ],
             [
              0.2222222222222222,
              "#7201a8"
             ],
             [
              0.3333333333333333,
              "#9c179e"
             ],
             [
              0.4444444444444444,
              "#bd3786"
             ],
             [
              0.5555555555555556,
              "#d8576b"
             ],
             [
              0.6666666666666666,
              "#ed7953"
             ],
             [
              0.7777777777777778,
              "#fb9f3a"
             ],
             [
              0.8888888888888888,
              "#fdca26"
             ],
             [
              1,
              "#f0f921"
             ]
            ],
            "type": "heatmapgl"
           }
          ],
          "histogram": [
           {
            "marker": {
             "pattern": {
              "fillmode": "overlay",
              "size": 10,
              "solidity": 0.2
             }
            },
            "type": "histogram"
           }
          ],
          "histogram2d": [
           {
            "colorbar": {
             "outlinewidth": 0,
             "ticks": ""
            },
            "colorscale": [
             [
              0,
              "#0d0887"
             ],
             [
              0.1111111111111111,
              "#46039f"
             ],
             [
              0.2222222222222222,
              "#7201a8"
             ],
             [
              0.3333333333333333,
              "#9c179e"
             ],
             [
              0.4444444444444444,
              "#bd3786"
             ],
             [
              0.5555555555555556,
              "#d8576b"
             ],
             [
              0.6666666666666666,
              "#ed7953"
             ],
             [
              0.7777777777777778,
              "#fb9f3a"
             ],
             [
              0.8888888888888888,
              "#fdca26"
             ],
             [
              1,
              "#f0f921"
             ]
            ],
            "type": "histogram2d"
           }
          ],
          "histogram2dcontour": [
           {
            "colorbar": {
             "outlinewidth": 0,
             "ticks": ""
            },
            "colorscale": [
             [
              0,
              "#0d0887"
             ],
             [
              0.1111111111111111,
              "#46039f"
             ],
             [
              0.2222222222222222,
              "#7201a8"
             ],
             [
              0.3333333333333333,
              "#9c179e"
             ],
             [
              0.4444444444444444,
              "#bd3786"
             ],
             [
              0.5555555555555556,
              "#d8576b"
             ],
             [
              0.6666666666666666,
              "#ed7953"
             ],
             [
              0.7777777777777778,
              "#fb9f3a"
             ],
             [
              0.8888888888888888,
              "#fdca26"
             ],
             [
              1,
              "#f0f921"
             ]
            ],
            "type": "histogram2dcontour"
           }
          ],
          "mesh3d": [
           {
            "colorbar": {
             "outlinewidth": 0,
             "ticks": ""
            },
            "type": "mesh3d"
           }
          ],
          "parcoords": [
           {
            "line": {
             "colorbar": {
              "outlinewidth": 0,
              "ticks": ""
             }
            },
            "type": "parcoords"
           }
          ],
          "pie": [
           {
            "automargin": true,
            "type": "pie"
           }
          ],
          "scatter": [
           {
            "fillpattern": {
             "fillmode": "overlay",
             "size": 10,
             "solidity": 0.2
            },
            "type": "scatter"
           }
          ],
          "scatter3d": [
           {
            "line": {
             "colorbar": {
              "outlinewidth": 0,
              "ticks": ""
             }
            },
            "marker": {
             "colorbar": {
              "outlinewidth": 0,
              "ticks": ""
             }
            },
            "type": "scatter3d"
           }
          ],
          "scattercarpet": [
           {
            "marker": {
             "colorbar": {
              "outlinewidth": 0,
              "ticks": ""
             }
            },
            "type": "scattercarpet"
           }
          ],
          "scattergeo": [
           {
            "marker": {
             "colorbar": {
              "outlinewidth": 0,
              "ticks": ""
             }
            },
            "type": "scattergeo"
           }
          ],
          "scattergl": [
           {
            "marker": {
             "colorbar": {
              "outlinewidth": 0,
              "ticks": ""
             }
            },
            "type": "scattergl"
           }
          ],
          "scattermapbox": [
           {
            "marker": {
             "colorbar": {
              "outlinewidth": 0,
              "ticks": ""
             }
            },
            "type": "scattermapbox"
           }
          ],
          "scatterpolar": [
           {
            "marker": {
             "colorbar": {
              "outlinewidth": 0,
              "ticks": ""
             }
            },
            "type": "scatterpolar"
           }
          ],
          "scatterpolargl": [
           {
            "marker": {
             "colorbar": {
              "outlinewidth": 0,
              "ticks": ""
             }
            },
            "type": "scatterpolargl"
           }
          ],
          "scatterternary": [
           {
            "marker": {
             "colorbar": {
              "outlinewidth": 0,
              "ticks": ""
             }
            },
            "type": "scatterternary"
           }
          ],
          "surface": [
           {
            "colorbar": {
             "outlinewidth": 0,
             "ticks": ""
            },
            "colorscale": [
             [
              0,
              "#0d0887"
             ],
             [
              0.1111111111111111,
              "#46039f"
             ],
             [
              0.2222222222222222,
              "#7201a8"
             ],
             [
              0.3333333333333333,
              "#9c179e"
             ],
             [
              0.4444444444444444,
              "#bd3786"
             ],
             [
              0.5555555555555556,
              "#d8576b"
             ],
             [
              0.6666666666666666,
              "#ed7953"
             ],
             [
              0.7777777777777778,
              "#fb9f3a"
             ],
             [
              0.8888888888888888,
              "#fdca26"
             ],
             [
              1,
              "#f0f921"
             ]
            ],
            "type": "surface"
           }
          ],
          "table": [
           {
            "cells": {
             "fill": {
              "color": "#EBF0F8"
             },
             "line": {
              "color": "white"
             }
            },
            "header": {
             "fill": {
              "color": "#C8D4E3"
             },
             "line": {
              "color": "white"
             }
            },
            "type": "table"
           }
          ]
         },
         "layout": {
          "annotationdefaults": {
           "arrowcolor": "#2a3f5f",
           "arrowhead": 0,
           "arrowwidth": 1
          },
          "autotypenumbers": "strict",
          "coloraxis": {
           "colorbar": {
            "outlinewidth": 0,
            "ticks": ""
           }
          },
          "colorscale": {
           "diverging": [
            [
             0,
             "#8e0152"
            ],
            [
             0.1,
             "#c51b7d"
            ],
            [
             0.2,
             "#de77ae"
            ],
            [
             0.3,
             "#f1b6da"
            ],
            [
             0.4,
             "#fde0ef"
            ],
            [
             0.5,
             "#f7f7f7"
            ],
            [
             0.6,
             "#e6f5d0"
            ],
            [
             0.7,
             "#b8e186"
            ],
            [
             0.8,
             "#7fbc41"
            ],
            [
             0.9,
             "#4d9221"
            ],
            [
             1,
             "#276419"
            ]
           ],
           "sequential": [
            [
             0,
             "#0d0887"
            ],
            [
             0.1111111111111111,
             "#46039f"
            ],
            [
             0.2222222222222222,
             "#7201a8"
            ],
            [
             0.3333333333333333,
             "#9c179e"
            ],
            [
             0.4444444444444444,
             "#bd3786"
            ],
            [
             0.5555555555555556,
             "#d8576b"
            ],
            [
             0.6666666666666666,
             "#ed7953"
            ],
            [
             0.7777777777777778,
             "#fb9f3a"
            ],
            [
             0.8888888888888888,
             "#fdca26"
            ],
            [
             1,
             "#f0f921"
            ]
           ],
           "sequentialminus": [
            [
             0,
             "#0d0887"
            ],
            [
             0.1111111111111111,
             "#46039f"
            ],
            [
             0.2222222222222222,
             "#7201a8"
            ],
            [
             0.3333333333333333,
             "#9c179e"
            ],
            [
             0.4444444444444444,
             "#bd3786"
            ],
            [
             0.5555555555555556,
             "#d8576b"
            ],
            [
             0.6666666666666666,
             "#ed7953"
            ],
            [
             0.7777777777777778,
             "#fb9f3a"
            ],
            [
             0.8888888888888888,
             "#fdca26"
            ],
            [
             1,
             "#f0f921"
            ]
           ]
          },
          "colorway": [
           "#636efa",
           "#EF553B",
           "#00cc96",
           "#ab63fa",
           "#FFA15A",
           "#19d3f3",
           "#FF6692",
           "#B6E880",
           "#FF97FF",
           "#FECB52"
          ],
          "font": {
           "color": "#2a3f5f"
          },
          "geo": {
           "bgcolor": "white",
           "lakecolor": "white",
           "landcolor": "#E5ECF6",
           "showlakes": true,
           "showland": true,
           "subunitcolor": "white"
          },
          "hoverlabel": {
           "align": "left"
          },
          "hovermode": "closest",
          "mapbox": {
           "style": "light"
          },
          "paper_bgcolor": "white",
          "plot_bgcolor": "#E5ECF6",
          "polar": {
           "angularaxis": {
            "gridcolor": "white",
            "linecolor": "white",
            "ticks": ""
           },
           "bgcolor": "#E5ECF6",
           "radialaxis": {
            "gridcolor": "white",
            "linecolor": "white",
            "ticks": ""
           }
          },
          "scene": {
           "xaxis": {
            "backgroundcolor": "#E5ECF6",
            "gridcolor": "white",
            "gridwidth": 2,
            "linecolor": "white",
            "showbackground": true,
            "ticks": "",
            "zerolinecolor": "white"
           },
           "yaxis": {
            "backgroundcolor": "#E5ECF6",
            "gridcolor": "white",
            "gridwidth": 2,
            "linecolor": "white",
            "showbackground": true,
            "ticks": "",
            "zerolinecolor": "white"
           },
           "zaxis": {
            "backgroundcolor": "#E5ECF6",
            "gridcolor": "white",
            "gridwidth": 2,
            "linecolor": "white",
            "showbackground": true,
            "ticks": "",
            "zerolinecolor": "white"
           }
          },
          "shapedefaults": {
           "line": {
            "color": "#2a3f5f"
           }
          },
          "ternary": {
           "aaxis": {
            "gridcolor": "white",
            "linecolor": "white",
            "ticks": ""
           },
           "baxis": {
            "gridcolor": "white",
            "linecolor": "white",
            "ticks": ""
           },
           "bgcolor": "#E5ECF6",
           "caxis": {
            "gridcolor": "white",
            "linecolor": "white",
            "ticks": ""
           }
          },
          "title": {
           "x": 0.05
          },
          "xaxis": {
           "automargin": true,
           "gridcolor": "white",
           "linecolor": "white",
           "ticks": "",
           "title": {
            "standoff": 15
           },
           "zerolinecolor": "white",
           "zerolinewidth": 2
          },
          "yaxis": {
           "automargin": true,
           "gridcolor": "white",
           "linecolor": "white",
           "ticks": "",
           "title": {
            "standoff": 15
           },
           "zerolinecolor": "white",
           "zerolinewidth": 2
          }
         }
        },
        "title": {
         "text": "SR"
        },
        "xaxis": {
         "anchor": "y",
         "domain": [
          0,
          1
         ],
         "title": {
          "text": "comp_mom12x3_to3M"
         }
        },
        "yaxis": {
         "anchor": "x",
         "domain": [
          0,
          1
         ],
         "title": {
          "text": "value"
         }
        }
       }
      }
     },
     "metadata": {},
     "output_type": "display_data"
    },
    {
     "data": {
      "application/vnd.plotly.v1+json": {
       "config": {
        "plotlyServerURL": "https://plot.ly"
       },
       "data": [
        {
         "alignmentgroup": "True",
         "hovertemplate": "variable=turnover_ratio<br>comp_mom12x3_to3M=%{x}<br>value=%{y}<extra></extra>",
         "legendgroup": "turnover_ratio",
         "marker": {
          "color": "#636efa",
          "pattern": {
           "shape": ""
          }
         },
         "name": "turnover_ratio",
         "offsetgroup": "turnover_ratio",
         "orientation": "v",
         "showlegend": true,
         "textposition": "auto",
         "type": "bar",
         "x": [
          0,
          1,
          2,
          3,
          4,
          5,
          6,
          7,
          8,
          9,
          "Long-Short",
          "Short-Long"
         ],
         "xaxis": "x",
         "y": [
          0.4318693773689788,
          0.6593457052993128,
          0.7172395545771245,
          0.7460703789713233,
          0.7524385704272711,
          0.7590528172638633,
          0.7433860690760962,
          0.7157800732406554,
          0.637301715929485,
          0.37561889358089423,
          null,
          null
         ],
         "yaxis": "y"
        }
       ],
       "layout": {
        "barmode": "relative",
        "legend": {
         "title": {
          "text": "variable"
         },
         "tracegroupgap": 0
        },
        "template": {
         "data": {
          "bar": [
           {
            "error_x": {
             "color": "#2a3f5f"
            },
            "error_y": {
             "color": "#2a3f5f"
            },
            "marker": {
             "line": {
              "color": "#E5ECF6",
              "width": 0.5
             },
             "pattern": {
              "fillmode": "overlay",
              "size": 10,
              "solidity": 0.2
             }
            },
            "type": "bar"
           }
          ],
          "barpolar": [
           {
            "marker": {
             "line": {
              "color": "#E5ECF6",
              "width": 0.5
             },
             "pattern": {
              "fillmode": "overlay",
              "size": 10,
              "solidity": 0.2
             }
            },
            "type": "barpolar"
           }
          ],
          "carpet": [
           {
            "aaxis": {
             "endlinecolor": "#2a3f5f",
             "gridcolor": "white",
             "linecolor": "white",
             "minorgridcolor": "white",
             "startlinecolor": "#2a3f5f"
            },
            "baxis": {
             "endlinecolor": "#2a3f5f",
             "gridcolor": "white",
             "linecolor": "white",
             "minorgridcolor": "white",
             "startlinecolor": "#2a3f5f"
            },
            "type": "carpet"
           }
          ],
          "choropleth": [
           {
            "colorbar": {
             "outlinewidth": 0,
             "ticks": ""
            },
            "type": "choropleth"
           }
          ],
          "contour": [
           {
            "colorbar": {
             "outlinewidth": 0,
             "ticks": ""
            },
            "colorscale": [
             [
              0,
              "#0d0887"
             ],
             [
              0.1111111111111111,
              "#46039f"
             ],
             [
              0.2222222222222222,
              "#7201a8"
             ],
             [
              0.3333333333333333,
              "#9c179e"
             ],
             [
              0.4444444444444444,
              "#bd3786"
             ],
             [
              0.5555555555555556,
              "#d8576b"
             ],
             [
              0.6666666666666666,
              "#ed7953"
             ],
             [
              0.7777777777777778,
              "#fb9f3a"
             ],
             [
              0.8888888888888888,
              "#fdca26"
             ],
             [
              1,
              "#f0f921"
             ]
            ],
            "type": "contour"
           }
          ],
          "contourcarpet": [
           {
            "colorbar": {
             "outlinewidth": 0,
             "ticks": ""
            },
            "type": "contourcarpet"
           }
          ],
          "heatmap": [
           {
            "colorbar": {
             "outlinewidth": 0,
             "ticks": ""
            },
            "colorscale": [
             [
              0,
              "#0d0887"
             ],
             [
              0.1111111111111111,
              "#46039f"
             ],
             [
              0.2222222222222222,
              "#7201a8"
             ],
             [
              0.3333333333333333,
              "#9c179e"
             ],
             [
              0.4444444444444444,
              "#bd3786"
             ],
             [
              0.5555555555555556,
              "#d8576b"
             ],
             [
              0.6666666666666666,
              "#ed7953"
             ],
             [
              0.7777777777777778,
              "#fb9f3a"
             ],
             [
              0.8888888888888888,
              "#fdca26"
             ],
             [
              1,
              "#f0f921"
             ]
            ],
            "type": "heatmap"
           }
          ],
          "heatmapgl": [
           {
            "colorbar": {
             "outlinewidth": 0,
             "ticks": ""
            },
            "colorscale": [
             [
              0,
              "#0d0887"
             ],
             [
              0.1111111111111111,
              "#46039f"
             ],
             [
              0.2222222222222222,
              "#7201a8"
             ],
             [
              0.3333333333333333,
              "#9c179e"
             ],
             [
              0.4444444444444444,
              "#bd3786"
             ],
             [
              0.5555555555555556,
              "#d8576b"
             ],
             [
              0.6666666666666666,
              "#ed7953"
             ],
             [
              0.7777777777777778,
              "#fb9f3a"
             ],
             [
              0.8888888888888888,
              "#fdca26"
             ],
             [
              1,
              "#f0f921"
             ]
            ],
            "type": "heatmapgl"
           }
          ],
          "histogram": [
           {
            "marker": {
             "pattern": {
              "fillmode": "overlay",
              "size": 10,
              "solidity": 0.2
             }
            },
            "type": "histogram"
           }
          ],
          "histogram2d": [
           {
            "colorbar": {
             "outlinewidth": 0,
             "ticks": ""
            },
            "colorscale": [
             [
              0,
              "#0d0887"
             ],
             [
              0.1111111111111111,
              "#46039f"
             ],
             [
              0.2222222222222222,
              "#7201a8"
             ],
             [
              0.3333333333333333,
              "#9c179e"
             ],
             [
              0.4444444444444444,
              "#bd3786"
             ],
             [
              0.5555555555555556,
              "#d8576b"
             ],
             [
              0.6666666666666666,
              "#ed7953"
             ],
             [
              0.7777777777777778,
              "#fb9f3a"
             ],
             [
              0.8888888888888888,
              "#fdca26"
             ],
             [
              1,
              "#f0f921"
             ]
            ],
            "type": "histogram2d"
           }
          ],
          "histogram2dcontour": [
           {
            "colorbar": {
             "outlinewidth": 0,
             "ticks": ""
            },
            "colorscale": [
             [
              0,
              "#0d0887"
             ],
             [
              0.1111111111111111,
              "#46039f"
             ],
             [
              0.2222222222222222,
              "#7201a8"
             ],
             [
              0.3333333333333333,
              "#9c179e"
             ],
             [
              0.4444444444444444,
              "#bd3786"
             ],
             [
              0.5555555555555556,
              "#d8576b"
             ],
             [
              0.6666666666666666,
              "#ed7953"
             ],
             [
              0.7777777777777778,
              "#fb9f3a"
             ],
             [
              0.8888888888888888,
              "#fdca26"
             ],
             [
              1,
              "#f0f921"
             ]
            ],
            "type": "histogram2dcontour"
           }
          ],
          "mesh3d": [
           {
            "colorbar": {
             "outlinewidth": 0,
             "ticks": ""
            },
            "type": "mesh3d"
           }
          ],
          "parcoords": [
           {
            "line": {
             "colorbar": {
              "outlinewidth": 0,
              "ticks": ""
             }
            },
            "type": "parcoords"
           }
          ],
          "pie": [
           {
            "automargin": true,
            "type": "pie"
           }
          ],
          "scatter": [
           {
            "fillpattern": {
             "fillmode": "overlay",
             "size": 10,
             "solidity": 0.2
            },
            "type": "scatter"
           }
          ],
          "scatter3d": [
           {
            "line": {
             "colorbar": {
              "outlinewidth": 0,
              "ticks": ""
             }
            },
            "marker": {
             "colorbar": {
              "outlinewidth": 0,
              "ticks": ""
             }
            },
            "type": "scatter3d"
           }
          ],
          "scattercarpet": [
           {
            "marker": {
             "colorbar": {
              "outlinewidth": 0,
              "ticks": ""
             }
            },
            "type": "scattercarpet"
           }
          ],
          "scattergeo": [
           {
            "marker": {
             "colorbar": {
              "outlinewidth": 0,
              "ticks": ""
             }
            },
            "type": "scattergeo"
           }
          ],
          "scattergl": [
           {
            "marker": {
             "colorbar": {
              "outlinewidth": 0,
              "ticks": ""
             }
            },
            "type": "scattergl"
           }
          ],
          "scattermapbox": [
           {
            "marker": {
             "colorbar": {
              "outlinewidth": 0,
              "ticks": ""
             }
            },
            "type": "scattermapbox"
           }
          ],
          "scatterpolar": [
           {
            "marker": {
             "colorbar": {
              "outlinewidth": 0,
              "ticks": ""
             }
            },
            "type": "scatterpolar"
           }
          ],
          "scatterpolargl": [
           {
            "marker": {
             "colorbar": {
              "outlinewidth": 0,
              "ticks": ""
             }
            },
            "type": "scatterpolargl"
           }
          ],
          "scatterternary": [
           {
            "marker": {
             "colorbar": {
              "outlinewidth": 0,
              "ticks": ""
             }
            },
            "type": "scatterternary"
           }
          ],
          "surface": [
           {
            "colorbar": {
             "outlinewidth": 0,
             "ticks": ""
            },
            "colorscale": [
             [
              0,
              "#0d0887"
             ],
             [
              0.1111111111111111,
              "#46039f"
             ],
             [
              0.2222222222222222,
              "#7201a8"
             ],
             [
              0.3333333333333333,
              "#9c179e"
             ],
             [
              0.4444444444444444,
              "#bd3786"
             ],
             [
              0.5555555555555556,
              "#d8576b"
             ],
             [
              0.6666666666666666,
              "#ed7953"
             ],
             [
              0.7777777777777778,
              "#fb9f3a"
             ],
             [
              0.8888888888888888,
              "#fdca26"
             ],
             [
              1,
              "#f0f921"
             ]
            ],
            "type": "surface"
           }
          ],
          "table": [
           {
            "cells": {
             "fill": {
              "color": "#EBF0F8"
             },
             "line": {
              "color": "white"
             }
            },
            "header": {
             "fill": {
              "color": "#C8D4E3"
             },
             "line": {
              "color": "white"
             }
            },
            "type": "table"
           }
          ]
         },
         "layout": {
          "annotationdefaults": {
           "arrowcolor": "#2a3f5f",
           "arrowhead": 0,
           "arrowwidth": 1
          },
          "autotypenumbers": "strict",
          "coloraxis": {
           "colorbar": {
            "outlinewidth": 0,
            "ticks": ""
           }
          },
          "colorscale": {
           "diverging": [
            [
             0,
             "#8e0152"
            ],
            [
             0.1,
             "#c51b7d"
            ],
            [
             0.2,
             "#de77ae"
            ],
            [
             0.3,
             "#f1b6da"
            ],
            [
             0.4,
             "#fde0ef"
            ],
            [
             0.5,
             "#f7f7f7"
            ],
            [
             0.6,
             "#e6f5d0"
            ],
            [
             0.7,
             "#b8e186"
            ],
            [
             0.8,
             "#7fbc41"
            ],
            [
             0.9,
             "#4d9221"
            ],
            [
             1,
             "#276419"
            ]
           ],
           "sequential": [
            [
             0,
             "#0d0887"
            ],
            [
             0.1111111111111111,
             "#46039f"
            ],
            [
             0.2222222222222222,
             "#7201a8"
            ],
            [
             0.3333333333333333,
             "#9c179e"
            ],
            [
             0.4444444444444444,
             "#bd3786"
            ],
            [
             0.5555555555555556,
             "#d8576b"
            ],
            [
             0.6666666666666666,
             "#ed7953"
            ],
            [
             0.7777777777777778,
             "#fb9f3a"
            ],
            [
             0.8888888888888888,
             "#fdca26"
            ],
            [
             1,
             "#f0f921"
            ]
           ],
           "sequentialminus": [
            [
             0,
             "#0d0887"
            ],
            [
             0.1111111111111111,
             "#46039f"
            ],
            [
             0.2222222222222222,
             "#7201a8"
            ],
            [
             0.3333333333333333,
             "#9c179e"
            ],
            [
             0.4444444444444444,
             "#bd3786"
            ],
            [
             0.5555555555555556,
             "#d8576b"
            ],
            [
             0.6666666666666666,
             "#ed7953"
            ],
            [
             0.7777777777777778,
             "#fb9f3a"
            ],
            [
             0.8888888888888888,
             "#fdca26"
            ],
            [
             1,
             "#f0f921"
            ]
           ]
          },
          "colorway": [
           "#636efa",
           "#EF553B",
           "#00cc96",
           "#ab63fa",
           "#FFA15A",
           "#19d3f3",
           "#FF6692",
           "#B6E880",
           "#FF97FF",
           "#FECB52"
          ],
          "font": {
           "color": "#2a3f5f"
          },
          "geo": {
           "bgcolor": "white",
           "lakecolor": "white",
           "landcolor": "#E5ECF6",
           "showlakes": true,
           "showland": true,
           "subunitcolor": "white"
          },
          "hoverlabel": {
           "align": "left"
          },
          "hovermode": "closest",
          "mapbox": {
           "style": "light"
          },
          "paper_bgcolor": "white",
          "plot_bgcolor": "#E5ECF6",
          "polar": {
           "angularaxis": {
            "gridcolor": "white",
            "linecolor": "white",
            "ticks": ""
           },
           "bgcolor": "#E5ECF6",
           "radialaxis": {
            "gridcolor": "white",
            "linecolor": "white",
            "ticks": ""
           }
          },
          "scene": {
           "xaxis": {
            "backgroundcolor": "#E5ECF6",
            "gridcolor": "white",
            "gridwidth": 2,
            "linecolor": "white",
            "showbackground": true,
            "ticks": "",
            "zerolinecolor": "white"
           },
           "yaxis": {
            "backgroundcolor": "#E5ECF6",
            "gridcolor": "white",
            "gridwidth": 2,
            "linecolor": "white",
            "showbackground": true,
            "ticks": "",
            "zerolinecolor": "white"
           },
           "zaxis": {
            "backgroundcolor": "#E5ECF6",
            "gridcolor": "white",
            "gridwidth": 2,
            "linecolor": "white",
            "showbackground": true,
            "ticks": "",
            "zerolinecolor": "white"
           }
          },
          "shapedefaults": {
           "line": {
            "color": "#2a3f5f"
           }
          },
          "ternary": {
           "aaxis": {
            "gridcolor": "white",
            "linecolor": "white",
            "ticks": ""
           },
           "baxis": {
            "gridcolor": "white",
            "linecolor": "white",
            "ticks": ""
           },
           "bgcolor": "#E5ECF6",
           "caxis": {
            "gridcolor": "white",
            "linecolor": "white",
            "ticks": ""
           }
          },
          "title": {
           "x": 0.05
          },
          "xaxis": {
           "automargin": true,
           "gridcolor": "white",
           "linecolor": "white",
           "ticks": "",
           "title": {
            "standoff": 15
           },
           "zerolinecolor": "white",
           "zerolinewidth": 2
          },
          "yaxis": {
           "automargin": true,
           "gridcolor": "white",
           "linecolor": "white",
           "ticks": "",
           "title": {
            "standoff": 15
           },
           "zerolinecolor": "white",
           "zerolinewidth": 2
          }
         }
        },
        "title": {
         "text": "TO"
        },
        "xaxis": {
         "anchor": "y",
         "domain": [
          0,
          1
         ],
         "title": {
          "text": "comp_mom12x3_to3M"
         }
        },
        "yaxis": {
         "anchor": "x",
         "domain": [
          0,
          1
         ],
         "title": {
          "text": "value"
         }
        }
       }
      }
     },
     "metadata": {},
     "output_type": "display_data"
    },
    {
     "data": {
      "application/vnd.plotly.v1+json": {
       "config": {
        "plotlyServerURL": "https://plot.ly"
       },
       "data": [
        {
         "colorscale": [
          [
           0,
           "#00083e"
          ],
          [
           0.5,
           "#ededee"
          ],
          [
           1,
           "#ffffff"
          ]
         ],
         "hoverinfo": "none",
         "opacity": 0.75,
         "showscale": false,
         "type": "heatmap",
         "z": [
          [
           0,
           0,
           0,
           0,
           0,
           0,
           0,
           0,
           0,
           0,
           0,
           0,
           0
          ],
          [
           0.5,
           0.5,
           0.5,
           0.5,
           0.5,
           0.5,
           0.5,
           0.5,
           0.5,
           0.5,
           0.5,
           0.5,
           0.5
          ],
          [
           1,
           1,
           1,
           1,
           1,
           1,
           1,
           1,
           1,
           1,
           1,
           1,
           1
          ],
          [
           0.5,
           0.5,
           0.5,
           0.5,
           0.5,
           0.5,
           0.5,
           0.5,
           0.5,
           0.5,
           0.5,
           0.5,
           0.5
          ],
          [
           1,
           1,
           1,
           1,
           1,
           1,
           1,
           1,
           1,
           1,
           1,
           1,
           1
          ],
          [
           0.5,
           0.5,
           0.5,
           0.5,
           0.5,
           0.5,
           0.5,
           0.5,
           0.5,
           0.5,
           0.5,
           0.5,
           0.5
          ],
          [
           1,
           1,
           1,
           1,
           1,
           1,
           1,
           1,
           1,
           1,
           1,
           1,
           1
          ],
          [
           0.5,
           0.5,
           0.5,
           0.5,
           0.5,
           0.5,
           0.5,
           0.5,
           0.5,
           0.5,
           0.5,
           0.5,
           0.5
          ],
          [
           1,
           1,
           1,
           1,
           1,
           1,
           1,
           1,
           1,
           1,
           1,
           1,
           1
          ]
         ]
        }
       ],
       "layout": {
        "annotations": [
         {
          "align": "left",
          "font": {
           "color": "#ffffff"
          },
          "showarrow": false,
          "text": "<b>index</b>",
          "x": -0.45,
          "xanchor": "left",
          "xref": "x",
          "y": 0,
          "yref": "y"
         },
         {
          "align": "left",
          "font": {
           "color": "#ffffff"
          },
          "showarrow": false,
          "text": "<b>0</b>",
          "x": 0.55,
          "xanchor": "left",
          "xref": "x",
          "y": 0,
          "yref": "y"
         },
         {
          "align": "left",
          "font": {
           "color": "#ffffff"
          },
          "showarrow": false,
          "text": "<b>1</b>",
          "x": 1.55,
          "xanchor": "left",
          "xref": "x",
          "y": 0,
          "yref": "y"
         },
         {
          "align": "left",
          "font": {
           "color": "#ffffff"
          },
          "showarrow": false,
          "text": "<b>2</b>",
          "x": 2.55,
          "xanchor": "left",
          "xref": "x",
          "y": 0,
          "yref": "y"
         },
         {
          "align": "left",
          "font": {
           "color": "#ffffff"
          },
          "showarrow": false,
          "text": "<b>3</b>",
          "x": 3.55,
          "xanchor": "left",
          "xref": "x",
          "y": 0,
          "yref": "y"
         },
         {
          "align": "left",
          "font": {
           "color": "#ffffff"
          },
          "showarrow": false,
          "text": "<b>4</b>",
          "x": 4.55,
          "xanchor": "left",
          "xref": "x",
          "y": 0,
          "yref": "y"
         },
         {
          "align": "left",
          "font": {
           "color": "#ffffff"
          },
          "showarrow": false,
          "text": "<b>5</b>",
          "x": 5.55,
          "xanchor": "left",
          "xref": "x",
          "y": 0,
          "yref": "y"
         },
         {
          "align": "left",
          "font": {
           "color": "#ffffff"
          },
          "showarrow": false,
          "text": "<b>6</b>",
          "x": 6.55,
          "xanchor": "left",
          "xref": "x",
          "y": 0,
          "yref": "y"
         },
         {
          "align": "left",
          "font": {
           "color": "#ffffff"
          },
          "showarrow": false,
          "text": "<b>7</b>",
          "x": 7.55,
          "xanchor": "left",
          "xref": "x",
          "y": 0,
          "yref": "y"
         },
         {
          "align": "left",
          "font": {
           "color": "#ffffff"
          },
          "showarrow": false,
          "text": "<b>8</b>",
          "x": 8.55,
          "xanchor": "left",
          "xref": "x",
          "y": 0,
          "yref": "y"
         },
         {
          "align": "left",
          "font": {
           "color": "#ffffff"
          },
          "showarrow": false,
          "text": "<b>9</b>",
          "x": 9.55,
          "xanchor": "left",
          "xref": "x",
          "y": 0,
          "yref": "y"
         },
         {
          "align": "left",
          "font": {
           "color": "#ffffff"
          },
          "showarrow": false,
          "text": "<b>Long-Short</b>",
          "x": 10.55,
          "xanchor": "left",
          "xref": "x",
          "y": 0,
          "yref": "y"
         },
         {
          "align": "left",
          "font": {
           "color": "#ffffff"
          },
          "showarrow": false,
          "text": "<b>Short-Long</b>",
          "x": 11.55,
          "xanchor": "left",
          "xref": "x",
          "y": 0,
          "yref": "y"
         },
         {
          "align": "left",
          "font": {
           "color": "#000000"
          },
          "showarrow": false,
          "text": "ret_cum",
          "x": -0.45,
          "xanchor": "left",
          "xref": "x",
          "y": 1,
          "yref": "y"
         },
         {
          "align": "left",
          "font": {
           "color": "#000000"
          },
          "showarrow": false,
          "text": "-0.9164",
          "x": 0.55,
          "xanchor": "left",
          "xref": "x",
          "y": 1,
          "yref": "y"
         },
         {
          "align": "left",
          "font": {
           "color": "#000000"
          },
          "showarrow": false,
          "text": "-0.6234",
          "x": 1.55,
          "xanchor": "left",
          "xref": "x",
          "y": 1,
          "yref": "y"
         },
         {
          "align": "left",
          "font": {
           "color": "#000000"
          },
          "showarrow": false,
          "text": "-0.2042",
          "x": 2.55,
          "xanchor": "left",
          "xref": "x",
          "y": 1,
          "yref": "y"
         },
         {
          "align": "left",
          "font": {
           "color": "#000000"
          },
          "showarrow": false,
          "text": "-0.0113",
          "x": 3.55,
          "xanchor": "left",
          "xref": "x",
          "y": 1,
          "yref": "y"
         },
         {
          "align": "left",
          "font": {
           "color": "#000000"
          },
          "showarrow": false,
          "text": "0.08",
          "x": 4.55,
          "xanchor": "left",
          "xref": "x",
          "y": 1,
          "yref": "y"
         },
         {
          "align": "left",
          "font": {
           "color": "#000000"
          },
          "showarrow": false,
          "text": "0.1461",
          "x": 5.55,
          "xanchor": "left",
          "xref": "x",
          "y": 1,
          "yref": "y"
         },
         {
          "align": "left",
          "font": {
           "color": "#000000"
          },
          "showarrow": false,
          "text": "0.6764",
          "x": 6.55,
          "xanchor": "left",
          "xref": "x",
          "y": 1,
          "yref": "y"
         },
         {
          "align": "left",
          "font": {
           "color": "#000000"
          },
          "showarrow": false,
          "text": "0.7122",
          "x": 7.55,
          "xanchor": "left",
          "xref": "x",
          "y": 1,
          "yref": "y"
         },
         {
          "align": "left",
          "font": {
           "color": "#000000"
          },
          "showarrow": false,
          "text": "1.8775",
          "x": 8.55,
          "xanchor": "left",
          "xref": "x",
          "y": 1,
          "yref": "y"
         },
         {
          "align": "left",
          "font": {
           "color": "#000000"
          },
          "showarrow": false,
          "text": "2.5674",
          "x": 9.55,
          "xanchor": "left",
          "xref": "x",
          "y": 1,
          "yref": "y"
         },
         {
          "align": "left",
          "font": {
           "color": "#000000"
          },
          "showarrow": false,
          "text": "28.5121",
          "x": 10.55,
          "xanchor": "left",
          "xref": "x",
          "y": 1,
          "yref": "y"
         },
         {
          "align": "left",
          "font": {
           "color": "#000000"
          },
          "showarrow": false,
          "text": "-0.984",
          "x": 11.55,
          "xanchor": "left",
          "xref": "x",
          "y": 1,
          "yref": "y"
         },
         {
          "align": "left",
          "font": {
           "color": "#000000"
          },
          "showarrow": false,
          "text": "ret_ann",
          "x": -0.45,
          "xanchor": "left",
          "xref": "x",
          "y": 2,
          "yref": "y"
         },
         {
          "align": "left",
          "font": {
           "color": "#000000"
          },
          "showarrow": false,
          "text": "-0.1392",
          "x": 0.55,
          "xanchor": "left",
          "xref": "x",
          "y": 2,
          "yref": "y"
         },
         {
          "align": "left",
          "font": {
           "color": "#000000"
          },
          "showarrow": false,
          "text": "-0.0543",
          "x": 1.55,
          "xanchor": "left",
          "xref": "x",
          "y": 2,
          "yref": "y"
         },
         {
          "align": "left",
          "font": {
           "color": "#000000"
          },
          "showarrow": false,
          "text": "-0.0113",
          "x": 2.55,
          "xanchor": "left",
          "xref": "x",
          "y": 2,
          "yref": "y"
         },
         {
          "align": "left",
          "font": {
           "color": "#000000"
          },
          "showarrow": false,
          "text": "0.0008",
          "x": 3.55,
          "xanchor": "left",
          "xref": "x",
          "y": 2,
          "yref": "y"
         },
         {
          "align": "left",
          "font": {
           "color": "#000000"
          },
          "showarrow": false,
          "text": "0.0063",
          "x": 4.55,
          "xanchor": "left",
          "xref": "x",
          "y": 2,
          "yref": "y"
         },
         {
          "align": "left",
          "font": {
           "color": "#000000"
          },
          "showarrow": false,
          "text": "0.0099",
          "x": 5.55,
          "xanchor": "left",
          "xref": "x",
          "y": 2,
          "yref": "y"
         },
         {
          "align": "left",
          "font": {
           "color": "#000000"
          },
          "showarrow": false,
          "text": "0.0324",
          "x": 6.55,
          "xanchor": "left",
          "xref": "x",
          "y": 2,
          "yref": "y"
         },
         {
          "align": "left",
          "font": {
           "color": "#000000"
          },
          "showarrow": false,
          "text": "0.0343",
          "x": 7.55,
          "xanchor": "left",
          "xref": "x",
          "y": 2,
          "yref": "y"
         },
         {
          "align": "left",
          "font": {
           "color": "#000000"
          },
          "showarrow": false,
          "text": "0.067",
          "x": 8.55,
          "xanchor": "left",
          "xref": "x",
          "y": 2,
          "yref": "y"
         },
         {
          "align": "left",
          "font": {
           "color": "#000000"
          },
          "showarrow": false,
          "text": "0.0833",
          "x": 9.55,
          "xanchor": "left",
          "xref": "x",
          "y": 2,
          "yref": "y"
         },
         {
          "align": "left",
          "font": {
           "color": "#000000"
          },
          "showarrow": false,
          "text": "0.2224",
          "x": 10.55,
          "xanchor": "left",
          "xref": "x",
          "y": 2,
          "yref": "y"
         },
         {
          "align": "left",
          "font": {
           "color": "#000000"
          },
          "showarrow": false,
          "text": "-0.2224",
          "x": 11.55,
          "xanchor": "left",
          "xref": "x",
          "y": 2,
          "yref": "y"
         },
         {
          "align": "left",
          "font": {
           "color": "#000000"
          },
          "showarrow": false,
          "text": "sigma_ann",
          "x": -0.45,
          "xanchor": "left",
          "xref": "x",
          "y": 3,
          "yref": "y"
         },
         {
          "align": "left",
          "font": {
           "color": "#000000"
          },
          "showarrow": false,
          "text": "0.1203",
          "x": 0.55,
          "xanchor": "left",
          "xref": "x",
          "y": 3,
          "yref": "y"
         },
         {
          "align": "left",
          "font": {
           "color": "#000000"
          },
          "showarrow": false,
          "text": "0.0852",
          "x": 1.55,
          "xanchor": "left",
          "xref": "x",
          "y": 3,
          "yref": "y"
         },
         {
          "align": "left",
          "font": {
           "color": "#000000"
          },
          "showarrow": false,
          "text": "0.0675",
          "x": 2.55,
          "xanchor": "left",
          "xref": "x",
          "y": 3,
          "yref": "y"
         },
         {
          "align": "left",
          "font": {
           "color": "#000000"
          },
          "showarrow": false,
          "text": "0.0554",
          "x": 3.55,
          "xanchor": "left",
          "xref": "x",
          "y": 3,
          "yref": "y"
         },
         {
          "align": "left",
          "font": {
           "color": "#000000"
          },
          "showarrow": false,
          "text": "0.0583",
          "x": 4.55,
          "xanchor": "left",
          "xref": "x",
          "y": 3,
          "yref": "y"
         },
         {
          "align": "left",
          "font": {
           "color": "#000000"
          },
          "showarrow": false,
          "text": "0.0603",
          "x": 5.55,
          "xanchor": "left",
          "xref": "x",
          "y": 3,
          "yref": "y"
         },
         {
          "align": "left",
          "font": {
           "color": "#000000"
          },
          "showarrow": false,
          "text": "0.0571",
          "x": 6.55,
          "xanchor": "left",
          "xref": "x",
          "y": 3,
          "yref": "y"
         },
         {
          "align": "left",
          "font": {
           "color": "#000000"
          },
          "showarrow": false,
          "text": "0.068",
          "x": 7.55,
          "xanchor": "left",
          "xref": "x",
          "y": 3,
          "yref": "y"
         },
         {
          "align": "left",
          "font": {
           "color": "#000000"
          },
          "showarrow": false,
          "text": "0.0902",
          "x": 8.55,
          "xanchor": "left",
          "xref": "x",
          "y": 3,
          "yref": "y"
         },
         {
          "align": "left",
          "font": {
           "color": "#000000"
          },
          "showarrow": false,
          "text": "0.1231",
          "x": 9.55,
          "xanchor": "left",
          "xref": "x",
          "y": 3,
          "yref": "y"
         },
         {
          "align": "left",
          "font": {
           "color": "#000000"
          },
          "showarrow": false,
          "text": "0.2009",
          "x": 10.55,
          "xanchor": "left",
          "xref": "x",
          "y": 3,
          "yref": "y"
         },
         {
          "align": "left",
          "font": {
           "color": "#000000"
          },
          "showarrow": false,
          "text": "0.2009",
          "x": 11.55,
          "xanchor": "left",
          "xref": "x",
          "y": 3,
          "yref": "y"
         },
         {
          "align": "left",
          "font": {
           "color": "#000000"
          },
          "showarrow": false,
          "text": "max_drawdown",
          "x": -0.45,
          "xanchor": "left",
          "xref": "x",
          "y": 4,
          "yref": "y"
         },
         {
          "align": "left",
          "font": {
           "color": "#000000"
          },
          "showarrow": false,
          "text": "0.9191",
          "x": 0.55,
          "xanchor": "left",
          "xref": "x",
          "y": 4,
          "yref": "y"
         },
         {
          "align": "left",
          "font": {
           "color": "#000000"
          },
          "showarrow": false,
          "text": "0.627",
          "x": 1.55,
          "xanchor": "left",
          "xref": "x",
          "y": 4,
          "yref": "y"
         },
         {
          "align": "left",
          "font": {
           "color": "#000000"
          },
          "showarrow": false,
          "text": "0.4006",
          "x": 2.55,
          "xanchor": "left",
          "xref": "x",
          "y": 4,
          "yref": "y"
         },
         {
          "align": "left",
          "font": {
           "color": "#000000"
          },
          "showarrow": false,
          "text": "0.1606",
          "x": 3.55,
          "xanchor": "left",
          "xref": "x",
          "y": 4,
          "yref": "y"
         },
         {
          "align": "left",
          "font": {
           "color": "#000000"
          },
          "showarrow": false,
          "text": "0.2212",
          "x": 4.55,
          "xanchor": "left",
          "xref": "x",
          "y": 4,
          "yref": "y"
         },
         {
          "align": "left",
          "font": {
           "color": "#000000"
          },
          "showarrow": false,
          "text": "0.1751",
          "x": 5.55,
          "xanchor": "left",
          "xref": "x",
          "y": 4,
          "yref": "y"
         },
         {
          "align": "left",
          "font": {
           "color": "#000000"
          },
          "showarrow": false,
          "text": "0.1792",
          "x": 6.55,
          "xanchor": "left",
          "xref": "x",
          "y": 4,
          "yref": "y"
         },
         {
          "align": "left",
          "font": {
           "color": "#000000"
          },
          "showarrow": false,
          "text": "0.1847",
          "x": 7.55,
          "xanchor": "left",
          "xref": "x",
          "y": 4,
          "yref": "y"
         },
         {
          "align": "left",
          "font": {
           "color": "#000000"
          },
          "showarrow": false,
          "text": "0.2437",
          "x": 8.55,
          "xanchor": "left",
          "xref": "x",
          "y": 4,
          "yref": "y"
         },
         {
          "align": "left",
          "font": {
           "color": "#000000"
          },
          "showarrow": false,
          "text": "0.2018",
          "x": 9.55,
          "xanchor": "left",
          "xref": "x",
          "y": 4,
          "yref": "y"
         },
         {
          "align": "left",
          "font": {
           "color": "#000000"
          },
          "showarrow": false,
          "text": "0.2393",
          "x": 10.55,
          "xanchor": "left",
          "xref": "x",
          "y": 4,
          "yref": "y"
         },
         {
          "align": "left",
          "font": {
           "color": "#000000"
          },
          "showarrow": false,
          "text": "0.9851",
          "x": 11.55,
          "xanchor": "left",
          "xref": "x",
          "y": 4,
          "yref": "y"
         },
         {
          "align": "left",
          "font": {
           "color": "#000000"
          },
          "showarrow": false,
          "text": "SR",
          "x": -0.45,
          "xanchor": "left",
          "xref": "x",
          "y": 5,
          "yref": "y"
         },
         {
          "align": "left",
          "font": {
           "color": "#000000"
          },
          "showarrow": false,
          "text": "-1.1566",
          "x": 0.55,
          "xanchor": "left",
          "xref": "x",
          "y": 5,
          "yref": "y"
         },
         {
          "align": "left",
          "font": {
           "color": "#000000"
          },
          "showarrow": false,
          "text": "-0.637",
          "x": 1.55,
          "xanchor": "left",
          "xref": "x",
          "y": 5,
          "yref": "y"
         },
         {
          "align": "left",
          "font": {
           "color": "#000000"
          },
          "showarrow": false,
          "text": "-0.1674",
          "x": 2.55,
          "xanchor": "left",
          "xref": "x",
          "y": 5,
          "yref": "y"
         },
         {
          "align": "left",
          "font": {
           "color": "#000000"
          },
          "showarrow": false,
          "text": "0.0153",
          "x": 3.55,
          "xanchor": "left",
          "xref": "x",
          "y": 5,
          "yref": "y"
         },
         {
          "align": "left",
          "font": {
           "color": "#000000"
          },
          "showarrow": false,
          "text": "0.1074",
          "x": 4.55,
          "xanchor": "left",
          "xref": "x",
          "y": 5,
          "yref": "y"
         },
         {
          "align": "left",
          "font": {
           "color": "#000000"
          },
          "showarrow": false,
          "text": "0.1641",
          "x": 5.55,
          "xanchor": "left",
          "xref": "x",
          "y": 5,
          "yref": "y"
         },
         {
          "align": "left",
          "font": {
           "color": "#000000"
          },
          "showarrow": false,
          "text": "0.5669",
          "x": 6.55,
          "xanchor": "left",
          "xref": "x",
          "y": 5,
          "yref": "y"
         },
         {
          "align": "left",
          "font": {
           "color": "#000000"
          },
          "showarrow": false,
          "text": "0.5042",
          "x": 7.55,
          "xanchor": "left",
          "xref": "x",
          "y": 5,
          "yref": "y"
         },
         {
          "align": "left",
          "font": {
           "color": "#000000"
          },
          "showarrow": false,
          "text": "0.7428",
          "x": 8.55,
          "xanchor": "left",
          "xref": "x",
          "y": 5,
          "yref": "y"
         },
         {
          "align": "left",
          "font": {
           "color": "#000000"
          },
          "showarrow": false,
          "text": "0.6764",
          "x": 9.55,
          "xanchor": "left",
          "xref": "x",
          "y": 5,
          "yref": "y"
         },
         {
          "align": "left",
          "font": {
           "color": "#000000"
          },
          "showarrow": false,
          "text": "1.1072",
          "x": 10.55,
          "xanchor": "left",
          "xref": "x",
          "y": 5,
          "yref": "y"
         },
         {
          "align": "left",
          "font": {
           "color": "#000000"
          },
          "showarrow": false,
          "text": "-1.1072",
          "x": 11.55,
          "xanchor": "left",
          "xref": "x",
          "y": 5,
          "yref": "y"
         },
         {
          "align": "left",
          "font": {
           "color": "#000000"
          },
          "showarrow": false,
          "text": "calmar_ratio",
          "x": -0.45,
          "xanchor": "left",
          "xref": "x",
          "y": 6,
          "yref": "y"
         },
         {
          "align": "left",
          "font": {
           "color": "#000000"
          },
          "showarrow": false,
          "text": "-0.1514",
          "x": 0.55,
          "xanchor": "left",
          "xref": "x",
          "y": 6,
          "yref": "y"
         },
         {
          "align": "left",
          "font": {
           "color": "#000000"
          },
          "showarrow": false,
          "text": "-0.0865",
          "x": 1.55,
          "xanchor": "left",
          "xref": "x",
          "y": 6,
          "yref": "y"
         },
         {
          "align": "left",
          "font": {
           "color": "#000000"
          },
          "showarrow": false,
          "text": "-0.0282",
          "x": 2.55,
          "xanchor": "left",
          "xref": "x",
          "y": 6,
          "yref": "y"
         },
         {
          "align": "left",
          "font": {
           "color": "#000000"
          },
          "showarrow": false,
          "text": "0.0053",
          "x": 3.55,
          "xanchor": "left",
          "xref": "x",
          "y": 6,
          "yref": "y"
         },
         {
          "align": "left",
          "font": {
           "color": "#000000"
          },
          "showarrow": false,
          "text": "0.0283",
          "x": 4.55,
          "xanchor": "left",
          "xref": "x",
          "y": 6,
          "yref": "y"
         },
         {
          "align": "left",
          "font": {
           "color": "#000000"
          },
          "showarrow": false,
          "text": "0.0565",
          "x": 5.55,
          "xanchor": "left",
          "xref": "x",
          "y": 6,
          "yref": "y"
         },
         {
          "align": "left",
          "font": {
           "color": "#000000"
          },
          "showarrow": false,
          "text": "0.1806",
          "x": 6.55,
          "xanchor": "left",
          "xref": "x",
          "y": 6,
          "yref": "y"
         },
         {
          "align": "left",
          "font": {
           "color": "#000000"
          },
          "showarrow": false,
          "text": "0.1856",
          "x": 7.55,
          "xanchor": "left",
          "xref": "x",
          "y": 6,
          "yref": "y"
         },
         {
          "align": "left",
          "font": {
           "color": "#000000"
          },
          "showarrow": false,
          "text": "0.2749",
          "x": 8.55,
          "xanchor": "left",
          "xref": "x",
          "y": 6,
          "yref": "y"
         },
         {
          "align": "left",
          "font": {
           "color": "#000000"
          },
          "showarrow": false,
          "text": "0.4127",
          "x": 9.55,
          "xanchor": "left",
          "xref": "x",
          "y": 6,
          "yref": "y"
         },
         {
          "align": "left",
          "font": {
           "color": "#000000"
          },
          "showarrow": false,
          "text": "0.9295",
          "x": 10.55,
          "xanchor": "left",
          "xref": "x",
          "y": 6,
          "yref": "y"
         },
         {
          "align": "left",
          "font": {
           "color": "#000000"
          },
          "showarrow": false,
          "text": "-0.2258",
          "x": 11.55,
          "xanchor": "left",
          "xref": "x",
          "y": 6,
          "yref": "y"
         },
         {
          "align": "left",
          "font": {
           "color": "#000000"
          },
          "showarrow": false,
          "text": "n_periods",
          "x": -0.45,
          "xanchor": "left",
          "xref": "x",
          "y": 7,
          "yref": "y"
         },
         {
          "align": "left",
          "font": {
           "color": "#000000"
          },
          "showarrow": false,
          "text": "203.0",
          "x": 0.55,
          "xanchor": "left",
          "xref": "x",
          "y": 7,
          "yref": "y"
         },
         {
          "align": "left",
          "font": {
           "color": "#000000"
          },
          "showarrow": false,
          "text": "203.0",
          "x": 1.55,
          "xanchor": "left",
          "xref": "x",
          "y": 7,
          "yref": "y"
         },
         {
          "align": "left",
          "font": {
           "color": "#000000"
          },
          "showarrow": false,
          "text": "203.0",
          "x": 2.55,
          "xanchor": "left",
          "xref": "x",
          "y": 7,
          "yref": "y"
         },
         {
          "align": "left",
          "font": {
           "color": "#000000"
          },
          "showarrow": false,
          "text": "203.0",
          "x": 3.55,
          "xanchor": "left",
          "xref": "x",
          "y": 7,
          "yref": "y"
         },
         {
          "align": "left",
          "font": {
           "color": "#000000"
          },
          "showarrow": false,
          "text": "203.0",
          "x": 4.55,
          "xanchor": "left",
          "xref": "x",
          "y": 7,
          "yref": "y"
         },
         {
          "align": "left",
          "font": {
           "color": "#000000"
          },
          "showarrow": false,
          "text": "203.0",
          "x": 5.55,
          "xanchor": "left",
          "xref": "x",
          "y": 7,
          "yref": "y"
         },
         {
          "align": "left",
          "font": {
           "color": "#000000"
          },
          "showarrow": false,
          "text": "203.0",
          "x": 6.55,
          "xanchor": "left",
          "xref": "x",
          "y": 7,
          "yref": "y"
         },
         {
          "align": "left",
          "font": {
           "color": "#000000"
          },
          "showarrow": false,
          "text": "203.0",
          "x": 7.55,
          "xanchor": "left",
          "xref": "x",
          "y": 7,
          "yref": "y"
         },
         {
          "align": "left",
          "font": {
           "color": "#000000"
          },
          "showarrow": false,
          "text": "203.0",
          "x": 8.55,
          "xanchor": "left",
          "xref": "x",
          "y": 7,
          "yref": "y"
         },
         {
          "align": "left",
          "font": {
           "color": "#000000"
          },
          "showarrow": false,
          "text": "203.0",
          "x": 9.55,
          "xanchor": "left",
          "xref": "x",
          "y": 7,
          "yref": "y"
         },
         {
          "align": "left",
          "font": {
           "color": "#000000"
          },
          "showarrow": false,
          "text": "203.0",
          "x": 10.55,
          "xanchor": "left",
          "xref": "x",
          "y": 7,
          "yref": "y"
         },
         {
          "align": "left",
          "font": {
           "color": "#000000"
          },
          "showarrow": false,
          "text": "203.0",
          "x": 11.55,
          "xanchor": "left",
          "xref": "x",
          "y": 7,
          "yref": "y"
         },
         {
          "align": "left",
          "font": {
           "color": "#000000"
          },
          "showarrow": false,
          "text": "turnover_ratio",
          "x": -0.45,
          "xanchor": "left",
          "xref": "x",
          "y": 8,
          "yref": "y"
         },
         {
          "align": "left",
          "font": {
           "color": "#000000"
          },
          "showarrow": false,
          "text": "0.4319",
          "x": 0.55,
          "xanchor": "left",
          "xref": "x",
          "y": 8,
          "yref": "y"
         },
         {
          "align": "left",
          "font": {
           "color": "#000000"
          },
          "showarrow": false,
          "text": "0.6593",
          "x": 1.55,
          "xanchor": "left",
          "xref": "x",
          "y": 8,
          "yref": "y"
         },
         {
          "align": "left",
          "font": {
           "color": "#000000"
          },
          "showarrow": false,
          "text": "0.7172",
          "x": 2.55,
          "xanchor": "left",
          "xref": "x",
          "y": 8,
          "yref": "y"
         },
         {
          "align": "left",
          "font": {
           "color": "#000000"
          },
          "showarrow": false,
          "text": "0.7461",
          "x": 3.55,
          "xanchor": "left",
          "xref": "x",
          "y": 8,
          "yref": "y"
         },
         {
          "align": "left",
          "font": {
           "color": "#000000"
          },
          "showarrow": false,
          "text": "0.7524",
          "x": 4.55,
          "xanchor": "left",
          "xref": "x",
          "y": 8,
          "yref": "y"
         },
         {
          "align": "left",
          "font": {
           "color": "#000000"
          },
          "showarrow": false,
          "text": "0.7591",
          "x": 5.55,
          "xanchor": "left",
          "xref": "x",
          "y": 8,
          "yref": "y"
         },
         {
          "align": "left",
          "font": {
           "color": "#000000"
          },
          "showarrow": false,
          "text": "0.7434",
          "x": 6.55,
          "xanchor": "left",
          "xref": "x",
          "y": 8,
          "yref": "y"
         },
         {
          "align": "left",
          "font": {
           "color": "#000000"
          },
          "showarrow": false,
          "text": "0.7158",
          "x": 7.55,
          "xanchor": "left",
          "xref": "x",
          "y": 8,
          "yref": "y"
         },
         {
          "align": "left",
          "font": {
           "color": "#000000"
          },
          "showarrow": false,
          "text": "0.6373",
          "x": 8.55,
          "xanchor": "left",
          "xref": "x",
          "y": 8,
          "yref": "y"
         },
         {
          "align": "left",
          "font": {
           "color": "#000000"
          },
          "showarrow": false,
          "text": "0.3756",
          "x": 9.55,
          "xanchor": "left",
          "xref": "x",
          "y": 8,
          "yref": "y"
         },
         {
          "align": "left",
          "font": {
           "color": "#000000"
          },
          "showarrow": false,
          "text": "nan",
          "x": 10.55,
          "xanchor": "left",
          "xref": "x",
          "y": 8,
          "yref": "y"
         },
         {
          "align": "left",
          "font": {
           "color": "#000000"
          },
          "showarrow": false,
          "text": "nan",
          "x": 11.55,
          "xanchor": "left",
          "xref": "x",
          "y": 8,
          "yref": "y"
         }
        ],
        "height": 320,
        "margin": {
         "b": 0,
         "l": 0,
         "r": 0,
         "t": 0
        },
        "template": {
         "data": {
          "bar": [
           {
            "error_x": {
             "color": "#2a3f5f"
            },
            "error_y": {
             "color": "#2a3f5f"
            },
            "marker": {
             "line": {
              "color": "#E5ECF6",
              "width": 0.5
             },
             "pattern": {
              "fillmode": "overlay",
              "size": 10,
              "solidity": 0.2
             }
            },
            "type": "bar"
           }
          ],
          "barpolar": [
           {
            "marker": {
             "line": {
              "color": "#E5ECF6",
              "width": 0.5
             },
             "pattern": {
              "fillmode": "overlay",
              "size": 10,
              "solidity": 0.2
             }
            },
            "type": "barpolar"
           }
          ],
          "carpet": [
           {
            "aaxis": {
             "endlinecolor": "#2a3f5f",
             "gridcolor": "white",
             "linecolor": "white",
             "minorgridcolor": "white",
             "startlinecolor": "#2a3f5f"
            },
            "baxis": {
             "endlinecolor": "#2a3f5f",
             "gridcolor": "white",
             "linecolor": "white",
             "minorgridcolor": "white",
             "startlinecolor": "#2a3f5f"
            },
            "type": "carpet"
           }
          ],
          "choropleth": [
           {
            "colorbar": {
             "outlinewidth": 0,
             "ticks": ""
            },
            "type": "choropleth"
           }
          ],
          "contour": [
           {
            "colorbar": {
             "outlinewidth": 0,
             "ticks": ""
            },
            "colorscale": [
             [
              0,
              "#0d0887"
             ],
             [
              0.1111111111111111,
              "#46039f"
             ],
             [
              0.2222222222222222,
              "#7201a8"
             ],
             [
              0.3333333333333333,
              "#9c179e"
             ],
             [
              0.4444444444444444,
              "#bd3786"
             ],
             [
              0.5555555555555556,
              "#d8576b"
             ],
             [
              0.6666666666666666,
              "#ed7953"
             ],
             [
              0.7777777777777778,
              "#fb9f3a"
             ],
             [
              0.8888888888888888,
              "#fdca26"
             ],
             [
              1,
              "#f0f921"
             ]
            ],
            "type": "contour"
           }
          ],
          "contourcarpet": [
           {
            "colorbar": {
             "outlinewidth": 0,
             "ticks": ""
            },
            "type": "contourcarpet"
           }
          ],
          "heatmap": [
           {
            "colorbar": {
             "outlinewidth": 0,
             "ticks": ""
            },
            "colorscale": [
             [
              0,
              "#0d0887"
             ],
             [
              0.1111111111111111,
              "#46039f"
             ],
             [
              0.2222222222222222,
              "#7201a8"
             ],
             [
              0.3333333333333333,
              "#9c179e"
             ],
             [
              0.4444444444444444,
              "#bd3786"
             ],
             [
              0.5555555555555556,
              "#d8576b"
             ],
             [
              0.6666666666666666,
              "#ed7953"
             ],
             [
              0.7777777777777778,
              "#fb9f3a"
             ],
             [
              0.8888888888888888,
              "#fdca26"
             ],
             [
              1,
              "#f0f921"
             ]
            ],
            "type": "heatmap"
           }
          ],
          "heatmapgl": [
           {
            "colorbar": {
             "outlinewidth": 0,
             "ticks": ""
            },
            "colorscale": [
             [
              0,
              "#0d0887"
             ],
             [
              0.1111111111111111,
              "#46039f"
             ],
             [
              0.2222222222222222,
              "#7201a8"
             ],
             [
              0.3333333333333333,
              "#9c179e"
             ],
             [
              0.4444444444444444,
              "#bd3786"
             ],
             [
              0.5555555555555556,
              "#d8576b"
             ],
             [
              0.6666666666666666,
              "#ed7953"
             ],
             [
              0.7777777777777778,
              "#fb9f3a"
             ],
             [
              0.8888888888888888,
              "#fdca26"
             ],
             [
              1,
              "#f0f921"
             ]
            ],
            "type": "heatmapgl"
           }
          ],
          "histogram": [
           {
            "marker": {
             "pattern": {
              "fillmode": "overlay",
              "size": 10,
              "solidity": 0.2
             }
            },
            "type": "histogram"
           }
          ],
          "histogram2d": [
           {
            "colorbar": {
             "outlinewidth": 0,
             "ticks": ""
            },
            "colorscale": [
             [
              0,
              "#0d0887"
             ],
             [
              0.1111111111111111,
              "#46039f"
             ],
             [
              0.2222222222222222,
              "#7201a8"
             ],
             [
              0.3333333333333333,
              "#9c179e"
             ],
             [
              0.4444444444444444,
              "#bd3786"
             ],
             [
              0.5555555555555556,
              "#d8576b"
             ],
             [
              0.6666666666666666,
              "#ed7953"
             ],
             [
              0.7777777777777778,
              "#fb9f3a"
             ],
             [
              0.8888888888888888,
              "#fdca26"
             ],
             [
              1,
              "#f0f921"
             ]
            ],
            "type": "histogram2d"
           }
          ],
          "histogram2dcontour": [
           {
            "colorbar": {
             "outlinewidth": 0,
             "ticks": ""
            },
            "colorscale": [
             [
              0,
              "#0d0887"
             ],
             [
              0.1111111111111111,
              "#46039f"
             ],
             [
              0.2222222222222222,
              "#7201a8"
             ],
             [
              0.3333333333333333,
              "#9c179e"
             ],
             [
              0.4444444444444444,
              "#bd3786"
             ],
             [
              0.5555555555555556,
              "#d8576b"
             ],
             [
              0.6666666666666666,
              "#ed7953"
             ],
             [
              0.7777777777777778,
              "#fb9f3a"
             ],
             [
              0.8888888888888888,
              "#fdca26"
             ],
             [
              1,
              "#f0f921"
             ]
            ],
            "type": "histogram2dcontour"
           }
          ],
          "mesh3d": [
           {
            "colorbar": {
             "outlinewidth": 0,
             "ticks": ""
            },
            "type": "mesh3d"
           }
          ],
          "parcoords": [
           {
            "line": {
             "colorbar": {
              "outlinewidth": 0,
              "ticks": ""
             }
            },
            "type": "parcoords"
           }
          ],
          "pie": [
           {
            "automargin": true,
            "type": "pie"
           }
          ],
          "scatter": [
           {
            "fillpattern": {
             "fillmode": "overlay",
             "size": 10,
             "solidity": 0.2
            },
            "type": "scatter"
           }
          ],
          "scatter3d": [
           {
            "line": {
             "colorbar": {
              "outlinewidth": 0,
              "ticks": ""
             }
            },
            "marker": {
             "colorbar": {
              "outlinewidth": 0,
              "ticks": ""
             }
            },
            "type": "scatter3d"
           }
          ],
          "scattercarpet": [
           {
            "marker": {
             "colorbar": {
              "outlinewidth": 0,
              "ticks": ""
             }
            },
            "type": "scattercarpet"
           }
          ],
          "scattergeo": [
           {
            "marker": {
             "colorbar": {
              "outlinewidth": 0,
              "ticks": ""
             }
            },
            "type": "scattergeo"
           }
          ],
          "scattergl": [
           {
            "marker": {
             "colorbar": {
              "outlinewidth": 0,
              "ticks": ""
             }
            },
            "type": "scattergl"
           }
          ],
          "scattermapbox": [
           {
            "marker": {
             "colorbar": {
              "outlinewidth": 0,
              "ticks": ""
             }
            },
            "type": "scattermapbox"
           }
          ],
          "scatterpolar": [
           {
            "marker": {
             "colorbar": {
              "outlinewidth": 0,
              "ticks": ""
             }
            },
            "type": "scatterpolar"
           }
          ],
          "scatterpolargl": [
           {
            "marker": {
             "colorbar": {
              "outlinewidth": 0,
              "ticks": ""
             }
            },
            "type": "scatterpolargl"
           }
          ],
          "scatterternary": [
           {
            "marker": {
             "colorbar": {
              "outlinewidth": 0,
              "ticks": ""
             }
            },
            "type": "scatterternary"
           }
          ],
          "surface": [
           {
            "colorbar": {
             "outlinewidth": 0,
             "ticks": ""
            },
            "colorscale": [
             [
              0,
              "#0d0887"
             ],
             [
              0.1111111111111111,
              "#46039f"
             ],
             [
              0.2222222222222222,
              "#7201a8"
             ],
             [
              0.3333333333333333,
              "#9c179e"
             ],
             [
              0.4444444444444444,
              "#bd3786"
             ],
             [
              0.5555555555555556,
              "#d8576b"
             ],
             [
              0.6666666666666666,
              "#ed7953"
             ],
             [
              0.7777777777777778,
              "#fb9f3a"
             ],
             [
              0.8888888888888888,
              "#fdca26"
             ],
             [
              1,
              "#f0f921"
             ]
            ],
            "type": "surface"
           }
          ],
          "table": [
           {
            "cells": {
             "fill": {
              "color": "#EBF0F8"
             },
             "line": {
              "color": "white"
             }
            },
            "header": {
             "fill": {
              "color": "#C8D4E3"
             },
             "line": {
              "color": "white"
             }
            },
            "type": "table"
           }
          ]
         },
         "layout": {
          "annotationdefaults": {
           "arrowcolor": "#2a3f5f",
           "arrowhead": 0,
           "arrowwidth": 1
          },
          "autotypenumbers": "strict",
          "coloraxis": {
           "colorbar": {
            "outlinewidth": 0,
            "ticks": ""
           }
          },
          "colorscale": {
           "diverging": [
            [
             0,
             "#8e0152"
            ],
            [
             0.1,
             "#c51b7d"
            ],
            [
             0.2,
             "#de77ae"
            ],
            [
             0.3,
             "#f1b6da"
            ],
            [
             0.4,
             "#fde0ef"
            ],
            [
             0.5,
             "#f7f7f7"
            ],
            [
             0.6,
             "#e6f5d0"
            ],
            [
             0.7,
             "#b8e186"
            ],
            [
             0.8,
             "#7fbc41"
            ],
            [
             0.9,
             "#4d9221"
            ],
            [
             1,
             "#276419"
            ]
           ],
           "sequential": [
            [
             0,
             "#0d0887"
            ],
            [
             0.1111111111111111,
             "#46039f"
            ],
            [
             0.2222222222222222,
             "#7201a8"
            ],
            [
             0.3333333333333333,
             "#9c179e"
            ],
            [
             0.4444444444444444,
             "#bd3786"
            ],
            [
             0.5555555555555556,
             "#d8576b"
            ],
            [
             0.6666666666666666,
             "#ed7953"
            ],
            [
             0.7777777777777778,
             "#fb9f3a"
            ],
            [
             0.8888888888888888,
             "#fdca26"
            ],
            [
             1,
             "#f0f921"
            ]
           ],
           "sequentialminus": [
            [
             0,
             "#0d0887"
            ],
            [
             0.1111111111111111,
             "#46039f"
            ],
            [
             0.2222222222222222,
             "#7201a8"
            ],
            [
             0.3333333333333333,
             "#9c179e"
            ],
            [
             0.4444444444444444,
             "#bd3786"
            ],
            [
             0.5555555555555556,
             "#d8576b"
            ],
            [
             0.6666666666666666,
             "#ed7953"
            ],
            [
             0.7777777777777778,
             "#fb9f3a"
            ],
            [
             0.8888888888888888,
             "#fdca26"
            ],
            [
             1,
             "#f0f921"
            ]
           ]
          },
          "colorway": [
           "#636efa",
           "#EF553B",
           "#00cc96",
           "#ab63fa",
           "#FFA15A",
           "#19d3f3",
           "#FF6692",
           "#B6E880",
           "#FF97FF",
           "#FECB52"
          ],
          "font": {
           "color": "#2a3f5f"
          },
          "geo": {
           "bgcolor": "white",
           "lakecolor": "white",
           "landcolor": "#E5ECF6",
           "showlakes": true,
           "showland": true,
           "subunitcolor": "white"
          },
          "hoverlabel": {
           "align": "left"
          },
          "hovermode": "closest",
          "mapbox": {
           "style": "light"
          },
          "paper_bgcolor": "white",
          "plot_bgcolor": "#E5ECF6",
          "polar": {
           "angularaxis": {
            "gridcolor": "white",
            "linecolor": "white",
            "ticks": ""
           },
           "bgcolor": "#E5ECF6",
           "radialaxis": {
            "gridcolor": "white",
            "linecolor": "white",
            "ticks": ""
           }
          },
          "scene": {
           "xaxis": {
            "backgroundcolor": "#E5ECF6",
            "gridcolor": "white",
            "gridwidth": 2,
            "linecolor": "white",
            "showbackground": true,
            "ticks": "",
            "zerolinecolor": "white"
           },
           "yaxis": {
            "backgroundcolor": "#E5ECF6",
            "gridcolor": "white",
            "gridwidth": 2,
            "linecolor": "white",
            "showbackground": true,
            "ticks": "",
            "zerolinecolor": "white"
           },
           "zaxis": {
            "backgroundcolor": "#E5ECF6",
            "gridcolor": "white",
            "gridwidth": 2,
            "linecolor": "white",
            "showbackground": true,
            "ticks": "",
            "zerolinecolor": "white"
           }
          },
          "shapedefaults": {
           "line": {
            "color": "#2a3f5f"
           }
          },
          "ternary": {
           "aaxis": {
            "gridcolor": "white",
            "linecolor": "white",
            "ticks": ""
           },
           "baxis": {
            "gridcolor": "white",
            "linecolor": "white",
            "ticks": ""
           },
           "bgcolor": "#E5ECF6",
           "caxis": {
            "gridcolor": "white",
            "linecolor": "white",
            "ticks": ""
           }
          },
          "title": {
           "x": 0.05
          },
          "xaxis": {
           "automargin": true,
           "gridcolor": "white",
           "linecolor": "white",
           "ticks": "",
           "title": {
            "standoff": 15
           },
           "zerolinecolor": "white",
           "zerolinewidth": 2
          },
          "yaxis": {
           "automargin": true,
           "gridcolor": "white",
           "linecolor": "white",
           "ticks": "",
           "title": {
            "standoff": 15
           },
           "zerolinecolor": "white",
           "zerolinewidth": 2
          }
         }
        },
        "xaxis": {
         "dtick": 1,
         "gridwidth": 2,
         "showticklabels": false,
         "tick0": -0.5,
         "ticks": "",
         "zeroline": false
        },
        "yaxis": {
         "autorange": "reversed",
         "dtick": 1,
         "gridwidth": 2,
         "showticklabels": false,
         "tick0": 0.5,
         "ticks": "",
         "zeroline": false
        }
       }
      }
     },
     "metadata": {},
     "output_type": "display_data"
    }
   ],
   "source": [
    "factor='comp_mom12x3_to3M'\n",
    "report = fe.get_factor_detail_report(factor=factor,universe=high_liq,add_shift=0,base='close',start_date='2006-01-01',end_date='2022-12-31',total=False,excess_return=True,holding_period=1)\n",
    "summary_plot(report)\n"
   ]
  },
  {
   "cell_type": "code",
   "execution_count": 10,
   "metadata": {
    "scrolled": false
   },
   "outputs": [
    {
     "data": {
      "application/vnd.plotly.v1+json": {
       "config": {
        "plotlyServerURL": "https://plot.ly"
       },
       "data": [
        {
         "alignmentgroup": "True",
         "hovertemplate": "level_0=ep groups<br>level_1=%{x}<br>ic.mean=%{y}<extra></extra>",
         "legendgroup": "ep groups",
         "marker": {
          "color": "#636efa",
          "pattern": {
           "shape": ""
          }
         },
         "name": "ep groups",
         "offsetgroup": "ep groups",
         "orientation": "v",
         "showlegend": true,
         "textposition": "auto",
         "type": "bar",
         "x": [
          "low",
          "medium",
          "high",
          "total"
         ],
         "xaxis": "x",
         "y": [
          0.0269,
          0.0297,
          0.0278,
          0.03
         ],
         "yaxis": "y"
        },
        {
         "alignmentgroup": "True",
         "hovertemplate": "level_0=liquidity groups<br>level_1=%{x}<br>ic.mean=%{y}<extra></extra>",
         "legendgroup": "liquidity groups",
         "marker": {
          "color": "#EF553B",
          "pattern": {
           "shape": ""
          }
         },
         "name": "liquidity groups",
         "offsetgroup": "liquidity groups",
         "orientation": "v",
         "showlegend": true,
         "textposition": "auto",
         "type": "bar",
         "x": [
          "low",
          "medium",
          "high",
          "total"
         ],
         "xaxis": "x",
         "y": [
          -0.001,
          0.0133,
          0.0468,
          0.03
         ],
         "yaxis": "y"
        }
       ],
       "layout": {
        "barmode": "group",
        "legend": {
         "title": {
          "text": "level_0"
         },
         "tracegroupgap": 0
        },
        "template": {
         "data": {
          "bar": [
           {
            "error_x": {
             "color": "#2a3f5f"
            },
            "error_y": {
             "color": "#2a3f5f"
            },
            "marker": {
             "line": {
              "color": "#E5ECF6",
              "width": 0.5
             },
             "pattern": {
              "fillmode": "overlay",
              "size": 10,
              "solidity": 0.2
             }
            },
            "type": "bar"
           }
          ],
          "barpolar": [
           {
            "marker": {
             "line": {
              "color": "#E5ECF6",
              "width": 0.5
             },
             "pattern": {
              "fillmode": "overlay",
              "size": 10,
              "solidity": 0.2
             }
            },
            "type": "barpolar"
           }
          ],
          "carpet": [
           {
            "aaxis": {
             "endlinecolor": "#2a3f5f",
             "gridcolor": "white",
             "linecolor": "white",
             "minorgridcolor": "white",
             "startlinecolor": "#2a3f5f"
            },
            "baxis": {
             "endlinecolor": "#2a3f5f",
             "gridcolor": "white",
             "linecolor": "white",
             "minorgridcolor": "white",
             "startlinecolor": "#2a3f5f"
            },
            "type": "carpet"
           }
          ],
          "choropleth": [
           {
            "colorbar": {
             "outlinewidth": 0,
             "ticks": ""
            },
            "type": "choropleth"
           }
          ],
          "contour": [
           {
            "colorbar": {
             "outlinewidth": 0,
             "ticks": ""
            },
            "colorscale": [
             [
              0,
              "#0d0887"
             ],
             [
              0.1111111111111111,
              "#46039f"
             ],
             [
              0.2222222222222222,
              "#7201a8"
             ],
             [
              0.3333333333333333,
              "#9c179e"
             ],
             [
              0.4444444444444444,
              "#bd3786"
             ],
             [
              0.5555555555555556,
              "#d8576b"
             ],
             [
              0.6666666666666666,
              "#ed7953"
             ],
             [
              0.7777777777777778,
              "#fb9f3a"
             ],
             [
              0.8888888888888888,
              "#fdca26"
             ],
             [
              1,
              "#f0f921"
             ]
            ],
            "type": "contour"
           }
          ],
          "contourcarpet": [
           {
            "colorbar": {
             "outlinewidth": 0,
             "ticks": ""
            },
            "type": "contourcarpet"
           }
          ],
          "heatmap": [
           {
            "colorbar": {
             "outlinewidth": 0,
             "ticks": ""
            },
            "colorscale": [
             [
              0,
              "#0d0887"
             ],
             [
              0.1111111111111111,
              "#46039f"
             ],
             [
              0.2222222222222222,
              "#7201a8"
             ],
             [
              0.3333333333333333,
              "#9c179e"
             ],
             [
              0.4444444444444444,
              "#bd3786"
             ],
             [
              0.5555555555555556,
              "#d8576b"
             ],
             [
              0.6666666666666666,
              "#ed7953"
             ],
             [
              0.7777777777777778,
              "#fb9f3a"
             ],
             [
              0.8888888888888888,
              "#fdca26"
             ],
             [
              1,
              "#f0f921"
             ]
            ],
            "type": "heatmap"
           }
          ],
          "heatmapgl": [
           {
            "colorbar": {
             "outlinewidth": 0,
             "ticks": ""
            },
            "colorscale": [
             [
              0,
              "#0d0887"
             ],
             [
              0.1111111111111111,
              "#46039f"
             ],
             [
              0.2222222222222222,
              "#7201a8"
             ],
             [
              0.3333333333333333,
              "#9c179e"
             ],
             [
              0.4444444444444444,
              "#bd3786"
             ],
             [
              0.5555555555555556,
              "#d8576b"
             ],
             [
              0.6666666666666666,
              "#ed7953"
             ],
             [
              0.7777777777777778,
              "#fb9f3a"
             ],
             [
              0.8888888888888888,
              "#fdca26"
             ],
             [
              1,
              "#f0f921"
             ]
            ],
            "type": "heatmapgl"
           }
          ],
          "histogram": [
           {
            "marker": {
             "pattern": {
              "fillmode": "overlay",
              "size": 10,
              "solidity": 0.2
             }
            },
            "type": "histogram"
           }
          ],
          "histogram2d": [
           {
            "colorbar": {
             "outlinewidth": 0,
             "ticks": ""
            },
            "colorscale": [
             [
              0,
              "#0d0887"
             ],
             [
              0.1111111111111111,
              "#46039f"
             ],
             [
              0.2222222222222222,
              "#7201a8"
             ],
             [
              0.3333333333333333,
              "#9c179e"
             ],
             [
              0.4444444444444444,
              "#bd3786"
             ],
             [
              0.5555555555555556,
              "#d8576b"
             ],
             [
              0.6666666666666666,
              "#ed7953"
             ],
             [
              0.7777777777777778,
              "#fb9f3a"
             ],
             [
              0.8888888888888888,
              "#fdca26"
             ],
             [
              1,
              "#f0f921"
             ]
            ],
            "type": "histogram2d"
           }
          ],
          "histogram2dcontour": [
           {
            "colorbar": {
             "outlinewidth": 0,
             "ticks": ""
            },
            "colorscale": [
             [
              0,
              "#0d0887"
             ],
             [
              0.1111111111111111,
              "#46039f"
             ],
             [
              0.2222222222222222,
              "#7201a8"
             ],
             [
              0.3333333333333333,
              "#9c179e"
             ],
             [
              0.4444444444444444,
              "#bd3786"
             ],
             [
              0.5555555555555556,
              "#d8576b"
             ],
             [
              0.6666666666666666,
              "#ed7953"
             ],
             [
              0.7777777777777778,
              "#fb9f3a"
             ],
             [
              0.8888888888888888,
              "#fdca26"
             ],
             [
              1,
              "#f0f921"
             ]
            ],
            "type": "histogram2dcontour"
           }
          ],
          "mesh3d": [
           {
            "colorbar": {
             "outlinewidth": 0,
             "ticks": ""
            },
            "type": "mesh3d"
           }
          ],
          "parcoords": [
           {
            "line": {
             "colorbar": {
              "outlinewidth": 0,
              "ticks": ""
             }
            },
            "type": "parcoords"
           }
          ],
          "pie": [
           {
            "automargin": true,
            "type": "pie"
           }
          ],
          "scatter": [
           {
            "fillpattern": {
             "fillmode": "overlay",
             "size": 10,
             "solidity": 0.2
            },
            "type": "scatter"
           }
          ],
          "scatter3d": [
           {
            "line": {
             "colorbar": {
              "outlinewidth": 0,
              "ticks": ""
             }
            },
            "marker": {
             "colorbar": {
              "outlinewidth": 0,
              "ticks": ""
             }
            },
            "type": "scatter3d"
           }
          ],
          "scattercarpet": [
           {
            "marker": {
             "colorbar": {
              "outlinewidth": 0,
              "ticks": ""
             }
            },
            "type": "scattercarpet"
           }
          ],
          "scattergeo": [
           {
            "marker": {
             "colorbar": {
              "outlinewidth": 0,
              "ticks": ""
             }
            },
            "type": "scattergeo"
           }
          ],
          "scattergl": [
           {
            "marker": {
             "colorbar": {
              "outlinewidth": 0,
              "ticks": ""
             }
            },
            "type": "scattergl"
           }
          ],
          "scattermapbox": [
           {
            "marker": {
             "colorbar": {
              "outlinewidth": 0,
              "ticks": ""
             }
            },
            "type": "scattermapbox"
           }
          ],
          "scatterpolar": [
           {
            "marker": {
             "colorbar": {
              "outlinewidth": 0,
              "ticks": ""
             }
            },
            "type": "scatterpolar"
           }
          ],
          "scatterpolargl": [
           {
            "marker": {
             "colorbar": {
              "outlinewidth": 0,
              "ticks": ""
             }
            },
            "type": "scatterpolargl"
           }
          ],
          "scatterternary": [
           {
            "marker": {
             "colorbar": {
              "outlinewidth": 0,
              "ticks": ""
             }
            },
            "type": "scatterternary"
           }
          ],
          "surface": [
           {
            "colorbar": {
             "outlinewidth": 0,
             "ticks": ""
            },
            "colorscale": [
             [
              0,
              "#0d0887"
             ],
             [
              0.1111111111111111,
              "#46039f"
             ],
             [
              0.2222222222222222,
              "#7201a8"
             ],
             [
              0.3333333333333333,
              "#9c179e"
             ],
             [
              0.4444444444444444,
              "#bd3786"
             ],
             [
              0.5555555555555556,
              "#d8576b"
             ],
             [
              0.6666666666666666,
              "#ed7953"
             ],
             [
              0.7777777777777778,
              "#fb9f3a"
             ],
             [
              0.8888888888888888,
              "#fdca26"
             ],
             [
              1,
              "#f0f921"
             ]
            ],
            "type": "surface"
           }
          ],
          "table": [
           {
            "cells": {
             "fill": {
              "color": "#EBF0F8"
             },
             "line": {
              "color": "white"
             }
            },
            "header": {
             "fill": {
              "color": "#C8D4E3"
             },
             "line": {
              "color": "white"
             }
            },
            "type": "table"
           }
          ]
         },
         "layout": {
          "annotationdefaults": {
           "arrowcolor": "#2a3f5f",
           "arrowhead": 0,
           "arrowwidth": 1
          },
          "autotypenumbers": "strict",
          "coloraxis": {
           "colorbar": {
            "outlinewidth": 0,
            "ticks": ""
           }
          },
          "colorscale": {
           "diverging": [
            [
             0,
             "#8e0152"
            ],
            [
             0.1,
             "#c51b7d"
            ],
            [
             0.2,
             "#de77ae"
            ],
            [
             0.3,
             "#f1b6da"
            ],
            [
             0.4,
             "#fde0ef"
            ],
            [
             0.5,
             "#f7f7f7"
            ],
            [
             0.6,
             "#e6f5d0"
            ],
            [
             0.7,
             "#b8e186"
            ],
            [
             0.8,
             "#7fbc41"
            ],
            [
             0.9,
             "#4d9221"
            ],
            [
             1,
             "#276419"
            ]
           ],
           "sequential": [
            [
             0,
             "#0d0887"
            ],
            [
             0.1111111111111111,
             "#46039f"
            ],
            [
             0.2222222222222222,
             "#7201a8"
            ],
            [
             0.3333333333333333,
             "#9c179e"
            ],
            [
             0.4444444444444444,
             "#bd3786"
            ],
            [
             0.5555555555555556,
             "#d8576b"
            ],
            [
             0.6666666666666666,
             "#ed7953"
            ],
            [
             0.7777777777777778,
             "#fb9f3a"
            ],
            [
             0.8888888888888888,
             "#fdca26"
            ],
            [
             1,
             "#f0f921"
            ]
           ],
           "sequentialminus": [
            [
             0,
             "#0d0887"
            ],
            [
             0.1111111111111111,
             "#46039f"
            ],
            [
             0.2222222222222222,
             "#7201a8"
            ],
            [
             0.3333333333333333,
             "#9c179e"
            ],
            [
             0.4444444444444444,
             "#bd3786"
            ],
            [
             0.5555555555555556,
             "#d8576b"
            ],
            [
             0.6666666666666666,
             "#ed7953"
            ],
            [
             0.7777777777777778,
             "#fb9f3a"
            ],
            [
             0.8888888888888888,
             "#fdca26"
            ],
            [
             1,
             "#f0f921"
            ]
           ]
          },
          "colorway": [
           "#636efa",
           "#EF553B",
           "#00cc96",
           "#ab63fa",
           "#FFA15A",
           "#19d3f3",
           "#FF6692",
           "#B6E880",
           "#FF97FF",
           "#FECB52"
          ],
          "font": {
           "color": "#2a3f5f"
          },
          "geo": {
           "bgcolor": "white",
           "lakecolor": "white",
           "landcolor": "#E5ECF6",
           "showlakes": true,
           "showland": true,
           "subunitcolor": "white"
          },
          "hoverlabel": {
           "align": "left"
          },
          "hovermode": "closest",
          "mapbox": {
           "style": "light"
          },
          "paper_bgcolor": "white",
          "plot_bgcolor": "#E5ECF6",
          "polar": {
           "angularaxis": {
            "gridcolor": "white",
            "linecolor": "white",
            "ticks": ""
           },
           "bgcolor": "#E5ECF6",
           "radialaxis": {
            "gridcolor": "white",
            "linecolor": "white",
            "ticks": ""
           }
          },
          "scene": {
           "xaxis": {
            "backgroundcolor": "#E5ECF6",
            "gridcolor": "white",
            "gridwidth": 2,
            "linecolor": "white",
            "showbackground": true,
            "ticks": "",
            "zerolinecolor": "white"
           },
           "yaxis": {
            "backgroundcolor": "#E5ECF6",
            "gridcolor": "white",
            "gridwidth": 2,
            "linecolor": "white",
            "showbackground": true,
            "ticks": "",
            "zerolinecolor": "white"
           },
           "zaxis": {
            "backgroundcolor": "#E5ECF6",
            "gridcolor": "white",
            "gridwidth": 2,
            "linecolor": "white",
            "showbackground": true,
            "ticks": "",
            "zerolinecolor": "white"
           }
          },
          "shapedefaults": {
           "line": {
            "color": "#2a3f5f"
           }
          },
          "ternary": {
           "aaxis": {
            "gridcolor": "white",
            "linecolor": "white",
            "ticks": ""
           },
           "baxis": {
            "gridcolor": "white",
            "linecolor": "white",
            "ticks": ""
           },
           "bgcolor": "#E5ECF6",
           "caxis": {
            "gridcolor": "white",
            "linecolor": "white",
            "ticks": ""
           }
          },
          "title": {
           "x": 0.05
          },
          "xaxis": {
           "automargin": true,
           "gridcolor": "white",
           "linecolor": "white",
           "ticks": "",
           "title": {
            "standoff": 15
           },
           "zerolinecolor": "white",
           "zerolinewidth": 2
          },
          "yaxis": {
           "automargin": true,
           "gridcolor": "white",
           "linecolor": "white",
           "ticks": "",
           "title": {
            "standoff": 15
           },
           "zerolinecolor": "white",
           "zerolinewidth": 2
          }
         }
        },
        "title": {
         "text": "ic of different ep & liquidity"
        },
        "xaxis": {
         "anchor": "y",
         "domain": [
          0,
          1
         ],
         "title": {
          "text": "level_1"
         }
        },
        "yaxis": {
         "anchor": "x",
         "domain": [
          0,
          1
         ],
         "title": {
          "text": "ic.mean"
         }
        }
       }
      }
     },
     "metadata": {},
     "output_type": "display_data"
    }
   ],
   "source": [
    "group_ic = fe.factor_ana(factor=factor,ep_group=ep_group,liquidity_group=liquidity_group,add_shift=0,base='close')\n",
    "bar = px.bar(group_ic['ic.mean'].reset_index(),x='level_1',y='ic.mean',color='level_0',barmode='group',title='ic of different ep & liquidity')\n",
    "bar.show()\n",
    "\n"
   ]
  },
  {
   "cell_type": "code",
   "execution_count": null,
   "metadata": {},
   "outputs": [],
   "source": []
  }
 ],
 "metadata": {
  "kernelspec": {
   "display_name": "trading",
   "language": "python",
   "name": "python3"
  },
  "language_info": {
   "codemirror_mode": {
    "name": "ipython",
    "version": 3
   },
   "file_extension": ".py",
   "mimetype": "text/x-python",
   "name": "python",
   "nbconvert_exporter": "python",
   "pygments_lexer": "ipython3",
   "version": "3.8.13"
  }
 },
 "nbformat": 4,
 "nbformat_minor": 2
}
