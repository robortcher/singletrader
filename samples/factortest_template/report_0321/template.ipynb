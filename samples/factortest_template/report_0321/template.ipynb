{
 "cells": [
  {
   "cell_type": "code",
   "execution_count": 9,
   "metadata": {},
   "outputs": [],
   "source": [
    "# get ic decay\n",
    "from get_data import get_data,bars\n",
    "from singletrader.processors.cs_processor import CsWinzorize\n",
    "from singletrader.shared.utility import save_pkl\n",
    "from singletrader.factorlib import FactorEvaluation,summary_plot\n",
    "import pandas as pd\n",
    "import plotly.express as px\n",
    "from plotly.figure_factory import create_table\n",
    "import warnings\n",
    "warnings.filterwarnings('ignore')\n",
    "\n",
    "\n",
    "\n"
   ]
  },
  {
   "cell_type": "code",
   "execution_count": 2,
   "metadata": {},
   "outputs": [],
   "source": [
    "data = get_data().dropna() #获取处理好的数据\n",
    "features = [_f for _f in data.columns if _f not in bars] + ['ep','circulating_market_cap']\n",
    "bar_data = data[bars]\n",
    "# bar_data.head()"
   ]
  },
  {
   "cell_type": "code",
   "execution_count": 3,
   "metadata": {},
   "outputs": [],
   "source": [
    "liquidity_group = data.groupby(level=0).apply(lambda x:pd.qcut(x['amount3M'],3,labels=['low','medium','high'])).droplevel(0)\n",
    "ep_group = data.groupby(level=0).apply(lambda x:pd.qcut(x['ep'],3,labels=['low','medium','high'])).droplevel(0)\n",
    "high_liq =(liquidity_group=='high').astype(int)"
   ]
  },
  {
   "cell_type": "markdown",
   "metadata": {},
   "source": [
    "# Tips\n",
    "    - 为了确保因子作用方向一致，Long/Short方向选定使用的是全样本中的因子表现，与选定的start_date/end_date无关"
   ]
  },
  {
   "cell_type": "markdown",
   "metadata": {},
   "source": [
    "# summary of all factors"
   ]
  },
  {
   "cell_type": "code",
   "execution_count": 4,
   "metadata": {
    "scrolled": false
   },
   "outputs": [
    {
     "name": "stdout",
     "output_type": "stream",
     "text": [
      "start_date:2010-01-01 / end_date:2022-12-31\n"
     ]
    },
    {
     "data": {
      "text/html": [
       "<div>\n",
       "<style scoped>\n",
       "    .dataframe tbody tr th:only-of-type {\n",
       "        vertical-align: middle;\n",
       "    }\n",
       "\n",
       "    .dataframe tbody tr th {\n",
       "        vertical-align: top;\n",
       "    }\n",
       "\n",
       "    .dataframe thead th {\n",
       "        text-align: right;\n",
       "    }\n",
       "</style>\n",
       "<table border=\"1\" class=\"dataframe\">\n",
       "  <thead>\n",
       "    <tr style=\"text-align: right;\">\n",
       "      <th></th>\n",
       "      <th>skew</th>\n",
       "      <th>adjskew</th>\n",
       "      <th>distance</th>\n",
       "      <th>mom6x3</th>\n",
       "      <th>mom9x3</th>\n",
       "      <th>mom12x3</th>\n",
       "      <th>mom1M</th>\n",
       "      <th>mom2M</th>\n",
       "      <th>mom3M</th>\n",
       "      <th>mom6M</th>\n",
       "      <th>turnover3M</th>\n",
       "      <th>amount3M</th>\n",
       "      <th>stddev_diff</th>\n",
       "      <th>stddev</th>\n",
       "      <th>ep</th>\n",
       "      <th>circulating_market_cap</th>\n",
       "    </tr>\n",
       "  </thead>\n",
       "  <tbody>\n",
       "    <tr>\n",
       "      <th>ic.mean</th>\n",
       "      <td>-0.0220</td>\n",
       "      <td>-0.0251</td>\n",
       "      <td>0.0015</td>\n",
       "      <td>0.0014</td>\n",
       "      <td>0.0075</td>\n",
       "      <td>0.0093</td>\n",
       "      <td>-0.0409</td>\n",
       "      <td>-0.0495</td>\n",
       "      <td>-0.0438</td>\n",
       "      <td>-0.0324</td>\n",
       "      <td>-0.0417</td>\n",
       "      <td>-0.0416</td>\n",
       "      <td>-0.0079</td>\n",
       "      <td>-0.0375</td>\n",
       "      <td>0.0111</td>\n",
       "      <td>-0.0104</td>\n",
       "    </tr>\n",
       "    <tr>\n",
       "      <th>ic.t-stats</th>\n",
       "      <td>-4.5870</td>\n",
       "      <td>-5.4944</td>\n",
       "      <td>0.1332</td>\n",
       "      <td>0.1753</td>\n",
       "      <td>0.8213</td>\n",
       "      <td>0.9784</td>\n",
       "      <td>-4.4306</td>\n",
       "      <td>-4.6343</td>\n",
       "      <td>-4.2191</td>\n",
       "      <td>-3.0323</td>\n",
       "      <td>-3.7078</td>\n",
       "      <td>-4.6622</td>\n",
       "      <td>-1.4904</td>\n",
       "      <td>-3.0344</td>\n",
       "      <td>1.6189</td>\n",
       "      <td>-1.2103</td>\n",
       "    </tr>\n",
       "    <tr>\n",
       "      <th>AnnRet_Long</th>\n",
       "      <td>-0.0631</td>\n",
       "      <td>-0.0609</td>\n",
       "      <td>0.0273</td>\n",
       "      <td>-0.0237</td>\n",
       "      <td>-0.0058</td>\n",
       "      <td>0.0096</td>\n",
       "      <td>-0.1463</td>\n",
       "      <td>-0.1504</td>\n",
       "      <td>-0.1493</td>\n",
       "      <td>-0.1172</td>\n",
       "      <td>-0.1189</td>\n",
       "      <td>-0.1245</td>\n",
       "      <td>-0.0772</td>\n",
       "      <td>-0.1316</td>\n",
       "      <td>-0.0026</td>\n",
       "      <td>-0.0712</td>\n",
       "    </tr>\n",
       "    <tr>\n",
       "      <th>AnnRet_short</th>\n",
       "      <td>0.0178</td>\n",
       "      <td>0.0397</td>\n",
       "      <td>0.0226</td>\n",
       "      <td>-0.0197</td>\n",
       "      <td>-0.0604</td>\n",
       "      <td>-0.0506</td>\n",
       "      <td>0.0257</td>\n",
       "      <td>0.0839</td>\n",
       "      <td>0.0669</td>\n",
       "      <td>0.0645</td>\n",
       "      <td>0.0795</td>\n",
       "      <td>0.1421</td>\n",
       "      <td>-0.0520</td>\n",
       "      <td>0.0493</td>\n",
       "      <td>0.0037</td>\n",
       "      <td>0.1681</td>\n",
       "    </tr>\n",
       "    <tr>\n",
       "      <th>AnnRet</th>\n",
       "      <td>-0.0809</td>\n",
       "      <td>-0.1006</td>\n",
       "      <td>0.0047</td>\n",
       "      <td>-0.0040</td>\n",
       "      <td>0.0546</td>\n",
       "      <td>0.0601</td>\n",
       "      <td>-0.1719</td>\n",
       "      <td>-0.2343</td>\n",
       "      <td>-0.2163</td>\n",
       "      <td>-0.1817</td>\n",
       "      <td>-0.1984</td>\n",
       "      <td>-0.2666</td>\n",
       "      <td>-0.0252</td>\n",
       "      <td>-0.1809</td>\n",
       "      <td>-0.0063</td>\n",
       "      <td>-0.2393</td>\n",
       "    </tr>\n",
       "    <tr>\n",
       "      <th>SR_Long</th>\n",
       "      <td>-1.2742</td>\n",
       "      <td>-1.3446</td>\n",
       "      <td>0.2515</td>\n",
       "      <td>-0.2369</td>\n",
       "      <td>-0.0554</td>\n",
       "      <td>0.0888</td>\n",
       "      <td>-1.3972</td>\n",
       "      <td>-1.2327</td>\n",
       "      <td>-1.1876</td>\n",
       "      <td>-0.9617</td>\n",
       "      <td>-1.0610</td>\n",
       "      <td>-1.0314</td>\n",
       "      <td>-1.0832</td>\n",
       "      <td>-1.1026</td>\n",
       "      <td>-0.0193</td>\n",
       "      <td>-0.4851</td>\n",
       "    </tr>\n",
       "    <tr>\n",
       "      <th>SR_Short</th>\n",
       "      <td>0.3605</td>\n",
       "      <td>0.8369</td>\n",
       "      <td>0.1808</td>\n",
       "      <td>-0.2561</td>\n",
       "      <td>-0.7717</td>\n",
       "      <td>-0.6149</td>\n",
       "      <td>0.2894</td>\n",
       "      <td>0.7633</td>\n",
       "      <td>0.6396</td>\n",
       "      <td>0.5825</td>\n",
       "      <td>0.5317</td>\n",
       "      <td>1.0871</td>\n",
       "      <td>-0.8670</td>\n",
       "      <td>0.3160</td>\n",
       "      <td>0.0492</td>\n",
       "      <td>1.5498</td>\n",
       "    </tr>\n",
       "    <tr>\n",
       "      <th>SR</th>\n",
       "      <td>-0.9711</td>\n",
       "      <td>-1.2559</td>\n",
       "      <td>0.0219</td>\n",
       "      <td>-0.0262</td>\n",
       "      <td>0.3344</td>\n",
       "      <td>0.3499</td>\n",
       "      <td>-1.0203</td>\n",
       "      <td>-1.1427</td>\n",
       "      <td>-1.0630</td>\n",
       "      <td>-0.8597</td>\n",
       "      <td>-0.8414</td>\n",
       "      <td>-1.2636</td>\n",
       "      <td>-0.2412</td>\n",
       "      <td>-0.7520</td>\n",
       "      <td>-0.0427</td>\n",
       "      <td>-1.0186</td>\n",
       "    </tr>\n",
       "    <tr>\n",
       "      <th>TO_Long</th>\n",
       "      <td>0.8872</td>\n",
       "      <td>0.8867</td>\n",
       "      <td>0.2880</td>\n",
       "      <td>0.5175</td>\n",
       "      <td>0.3709</td>\n",
       "      <td>0.3140</td>\n",
       "      <td>0.8619</td>\n",
       "      <td>0.6243</td>\n",
       "      <td>0.5150</td>\n",
       "      <td>0.3687</td>\n",
       "      <td>0.2387</td>\n",
       "      <td>0.1687</td>\n",
       "      <td>0.9489</td>\n",
       "      <td>0.6880</td>\n",
       "      <td>0.1019</td>\n",
       "      <td>0.0497</td>\n",
       "    </tr>\n",
       "    <tr>\n",
       "      <th>TO_Short</th>\n",
       "      <td>0.8816</td>\n",
       "      <td>0.8821</td>\n",
       "      <td>0.4891</td>\n",
       "      <td>0.5944</td>\n",
       "      <td>0.4543</td>\n",
       "      <td>0.3767</td>\n",
       "      <td>0.8966</td>\n",
       "      <td>0.7022</td>\n",
       "      <td>0.5939</td>\n",
       "      <td>0.4534</td>\n",
       "      <td>0.1791</td>\n",
       "      <td>0.2441</td>\n",
       "      <td>0.9482</td>\n",
       "      <td>0.4880</td>\n",
       "      <td>0.0876</td>\n",
       "      <td>0.1134</td>\n",
       "    </tr>\n",
       "  </tbody>\n",
       "</table>\n",
       "</div>"
      ],
      "text/plain": [
       "                skew  adjskew  distance  mom6x3  mom9x3  mom12x3   mom1M  \\\n",
       "ic.mean      -0.0220  -0.0251    0.0015  0.0014  0.0075   0.0093 -0.0409   \n",
       "ic.t-stats   -4.5870  -5.4944    0.1332  0.1753  0.8213   0.9784 -4.4306   \n",
       "AnnRet_Long  -0.0631  -0.0609    0.0273 -0.0237 -0.0058   0.0096 -0.1463   \n",
       "AnnRet_short  0.0178   0.0397    0.0226 -0.0197 -0.0604  -0.0506  0.0257   \n",
       "AnnRet       -0.0809  -0.1006    0.0047 -0.0040  0.0546   0.0601 -0.1719   \n",
       "SR_Long      -1.2742  -1.3446    0.2515 -0.2369 -0.0554   0.0888 -1.3972   \n",
       "SR_Short      0.3605   0.8369    0.1808 -0.2561 -0.7717  -0.6149  0.2894   \n",
       "SR           -0.9711  -1.2559    0.0219 -0.0262  0.3344   0.3499 -1.0203   \n",
       "TO_Long       0.8872   0.8867    0.2880  0.5175  0.3709   0.3140  0.8619   \n",
       "TO_Short      0.8816   0.8821    0.4891  0.5944  0.4543   0.3767  0.8966   \n",
       "\n",
       "               mom2M   mom3M   mom6M  turnover3M  amount3M  stddev_diff  \\\n",
       "ic.mean      -0.0495 -0.0438 -0.0324     -0.0417   -0.0416      -0.0079   \n",
       "ic.t-stats   -4.6343 -4.2191 -3.0323     -3.7078   -4.6622      -1.4904   \n",
       "AnnRet_Long  -0.1504 -0.1493 -0.1172     -0.1189   -0.1245      -0.0772   \n",
       "AnnRet_short  0.0839  0.0669  0.0645      0.0795    0.1421      -0.0520   \n",
       "AnnRet       -0.2343 -0.2163 -0.1817     -0.1984   -0.2666      -0.0252   \n",
       "SR_Long      -1.2327 -1.1876 -0.9617     -1.0610   -1.0314      -1.0832   \n",
       "SR_Short      0.7633  0.6396  0.5825      0.5317    1.0871      -0.8670   \n",
       "SR           -1.1427 -1.0630 -0.8597     -0.8414   -1.2636      -0.2412   \n",
       "TO_Long       0.6243  0.5150  0.3687      0.2387    0.1687       0.9489   \n",
       "TO_Short      0.7022  0.5939  0.4534      0.1791    0.2441       0.9482   \n",
       "\n",
       "              stddev      ep  circulating_market_cap  \n",
       "ic.mean      -0.0375  0.0111                 -0.0104  \n",
       "ic.t-stats   -3.0344  1.6189                 -1.2103  \n",
       "AnnRet_Long  -0.1316 -0.0026                 -0.0712  \n",
       "AnnRet_short  0.0493  0.0037                  0.1681  \n",
       "AnnRet       -0.1809 -0.0063                 -0.2393  \n",
       "SR_Long      -1.1026 -0.0193                 -0.4851  \n",
       "SR_Short      0.3160  0.0492                  1.5498  \n",
       "SR           -0.7520 -0.0427                 -1.0186  \n",
       "TO_Long       0.6880  0.1019                  0.0497  \n",
       "TO_Short      0.4880  0.0876                  0.1134  "
      ]
     },
     "execution_count": 4,
     "metadata": {},
     "output_type": "execute_result"
    }
   ],
   "source": [
    "# 非行业中性化(全市场)\n",
    "fe = FactorEvaluation(bar_data=data[bars],factor_data=data[features],freq=12,winzorize=True,standardize=True,industry_neutralize=False)\n",
    "fe.get_summary(add_shift=0,start_date='2010-01-01',end_date='2022-12-31',base='close',groups=10) # forward_return: 下月收盘-本月收盘\n",
    "# fe.get_summary(add_shift=0,start_date='2010-01-01',end_date='2022-12-31',universe=high_liq,base='close-open') # forward_return: 下月收盘-下月开盘"
   ]
  },
  {
   "cell_type": "code",
   "execution_count": 5,
   "metadata": {
    "scrolled": true
   },
   "outputs": [
    {
     "name": "stdout",
     "output_type": "stream",
     "text": [
      "start_date:2010-01-01 / end_date:2022-12-31\n"
     ]
    },
    {
     "data": {
      "text/html": [
       "<div>\n",
       "<style scoped>\n",
       "    .dataframe tbody tr th:only-of-type {\n",
       "        vertical-align: middle;\n",
       "    }\n",
       "\n",
       "    .dataframe tbody tr th {\n",
       "        vertical-align: top;\n",
       "    }\n",
       "\n",
       "    .dataframe thead th {\n",
       "        text-align: right;\n",
       "    }\n",
       "</style>\n",
       "<table border=\"1\" class=\"dataframe\">\n",
       "  <thead>\n",
       "    <tr style=\"text-align: right;\">\n",
       "      <th></th>\n",
       "      <th>skew_GN</th>\n",
       "      <th>adjskew_GN</th>\n",
       "      <th>distance_GN</th>\n",
       "      <th>mom6x3_GN</th>\n",
       "      <th>mom9x3_GN</th>\n",
       "      <th>mom12x3_GN</th>\n",
       "      <th>mom1M_GN</th>\n",
       "      <th>mom2M_GN</th>\n",
       "      <th>mom3M_GN</th>\n",
       "      <th>mom6M_GN</th>\n",
       "      <th>turnover3M_GN</th>\n",
       "      <th>amount3M_GN</th>\n",
       "      <th>stddev_diff_GN</th>\n",
       "      <th>stddev_GN</th>\n",
       "      <th>ep_GN</th>\n",
       "      <th>circulating_market_cap_GN</th>\n",
       "    </tr>\n",
       "  </thead>\n",
       "  <tbody>\n",
       "    <tr>\n",
       "      <th>ic.mean</th>\n",
       "      <td>-0.0220</td>\n",
       "      <td>-0.0253</td>\n",
       "      <td>0.0087</td>\n",
       "      <td>-0.0008</td>\n",
       "      <td>0.0017</td>\n",
       "      <td>0.0014</td>\n",
       "      <td>-0.0489</td>\n",
       "      <td>-0.0542</td>\n",
       "      <td>-0.0494</td>\n",
       "      <td>-0.0381</td>\n",
       "      <td>-0.0435</td>\n",
       "      <td>-0.0419</td>\n",
       "      <td>-0.0094</td>\n",
       "      <td>-0.0393</td>\n",
       "      <td>0.0047</td>\n",
       "      <td>-0.0102</td>\n",
       "    </tr>\n",
       "    <tr>\n",
       "      <th>ic.t-stats</th>\n",
       "      <td>-5.2686</td>\n",
       "      <td>-6.3382</td>\n",
       "      <td>0.8646</td>\n",
       "      <td>-0.1349</td>\n",
       "      <td>0.2424</td>\n",
       "      <td>0.1863</td>\n",
       "      <td>-6.2766</td>\n",
       "      <td>-6.0041</td>\n",
       "      <td>-5.5046</td>\n",
       "      <td>-4.2251</td>\n",
       "      <td>-4.6568</td>\n",
       "      <td>-5.4286</td>\n",
       "      <td>-2.0974</td>\n",
       "      <td>-3.5835</td>\n",
       "      <td>0.8466</td>\n",
       "      <td>-1.3894</td>\n",
       "    </tr>\n",
       "    <tr>\n",
       "      <th>AnnRet_Long</th>\n",
       "      <td>-0.0641</td>\n",
       "      <td>-0.0672</td>\n",
       "      <td>0.0572</td>\n",
       "      <td>-0.0241</td>\n",
       "      <td>-0.0086</td>\n",
       "      <td>-0.0004</td>\n",
       "      <td>-0.1542</td>\n",
       "      <td>-0.1498</td>\n",
       "      <td>-0.1501</td>\n",
       "      <td>-0.1179</td>\n",
       "      <td>-0.1202</td>\n",
       "      <td>-0.1294</td>\n",
       "      <td>-0.0726</td>\n",
       "      <td>-0.1315</td>\n",
       "      <td>0.0097</td>\n",
       "      <td>-0.0671</td>\n",
       "    </tr>\n",
       "    <tr>\n",
       "      <th>AnnRet_short</th>\n",
       "      <td>0.0192</td>\n",
       "      <td>0.0410</td>\n",
       "      <td>0.0080</td>\n",
       "      <td>0.0044</td>\n",
       "      <td>-0.0078</td>\n",
       "      <td>-0.0064</td>\n",
       "      <td>0.0598</td>\n",
       "      <td>0.1160</td>\n",
       "      <td>0.1057</td>\n",
       "      <td>0.1019</td>\n",
       "      <td>0.0967</td>\n",
       "      <td>0.1023</td>\n",
       "      <td>-0.0377</td>\n",
       "      <td>0.0709</td>\n",
       "      <td>0.0282</td>\n",
       "      <td>0.0318</td>\n",
       "    </tr>\n",
       "    <tr>\n",
       "      <th>AnnRet</th>\n",
       "      <td>-0.0832</td>\n",
       "      <td>-0.1082</td>\n",
       "      <td>0.0492</td>\n",
       "      <td>-0.0286</td>\n",
       "      <td>-0.0008</td>\n",
       "      <td>0.0061</td>\n",
       "      <td>-0.2140</td>\n",
       "      <td>-0.2658</td>\n",
       "      <td>-0.2558</td>\n",
       "      <td>-0.2198</td>\n",
       "      <td>-0.2170</td>\n",
       "      <td>-0.2318</td>\n",
       "      <td>-0.0349</td>\n",
       "      <td>-0.2024</td>\n",
       "      <td>-0.0185</td>\n",
       "      <td>-0.0989</td>\n",
       "    </tr>\n",
       "    <tr>\n",
       "      <th>SR_Long</th>\n",
       "      <td>-1.4649</td>\n",
       "      <td>-1.6241</td>\n",
       "      <td>0.6196</td>\n",
       "      <td>-0.2720</td>\n",
       "      <td>-0.0946</td>\n",
       "      <td>-0.0038</td>\n",
       "      <td>-1.6462</td>\n",
       "      <td>-1.3600</td>\n",
       "      <td>-1.3176</td>\n",
       "      <td>-1.0727</td>\n",
       "      <td>-1.1819</td>\n",
       "      <td>-1.1368</td>\n",
       "      <td>-1.1266</td>\n",
       "      <td>-1.2972</td>\n",
       "      <td>0.0867</td>\n",
       "      <td>-0.4869</td>\n",
       "    </tr>\n",
       "    <tr>\n",
       "      <th>SR_Short</th>\n",
       "      <td>0.4427</td>\n",
       "      <td>0.8918</td>\n",
       "      <td>0.0710</td>\n",
       "      <td>0.0719</td>\n",
       "      <td>-0.1394</td>\n",
       "      <td>-0.1156</td>\n",
       "      <td>0.8176</td>\n",
       "      <td>1.2652</td>\n",
       "      <td>1.1902</td>\n",
       "      <td>1.1061</td>\n",
       "      <td>0.8397</td>\n",
       "      <td>1.2767</td>\n",
       "      <td>-0.7386</td>\n",
       "      <td>0.5025</td>\n",
       "      <td>0.4213</td>\n",
       "      <td>0.5820</td>\n",
       "    </tr>\n",
       "    <tr>\n",
       "      <th>SR</th>\n",
       "      <td>-1.1985</td>\n",
       "      <td>-1.5226</td>\n",
       "      <td>0.2655</td>\n",
       "      <td>-0.2428</td>\n",
       "      <td>-0.0066</td>\n",
       "      <td>0.0477</td>\n",
       "      <td>-1.5410</td>\n",
       "      <td>-1.5756</td>\n",
       "      <td>-1.4599</td>\n",
       "      <td>-1.2253</td>\n",
       "      <td>-1.1625</td>\n",
       "      <td>-1.4556</td>\n",
       "      <td>-0.3822</td>\n",
       "      <td>-0.9467</td>\n",
       "      <td>-0.1549</td>\n",
       "      <td>-0.6607</td>\n",
       "    </tr>\n",
       "    <tr>\n",
       "      <th>TO_Long</th>\n",
       "      <td>0.8849</td>\n",
       "      <td>0.8858</td>\n",
       "      <td>0.3012</td>\n",
       "      <td>0.5196</td>\n",
       "      <td>0.3743</td>\n",
       "      <td>0.3150</td>\n",
       "      <td>0.8624</td>\n",
       "      <td>0.6253</td>\n",
       "      <td>0.5177</td>\n",
       "      <td>0.3727</td>\n",
       "      <td>0.2422</td>\n",
       "      <td>0.1749</td>\n",
       "      <td>0.9492</td>\n",
       "      <td>0.6947</td>\n",
       "      <td>0.1270</td>\n",
       "      <td>0.0511</td>\n",
       "    </tr>\n",
       "    <tr>\n",
       "      <th>TO_Short</th>\n",
       "      <td>0.8800</td>\n",
       "      <td>0.8827</td>\n",
       "      <td>0.4622</td>\n",
       "      <td>0.5858</td>\n",
       "      <td>0.4471</td>\n",
       "      <td>0.3743</td>\n",
       "      <td>0.8902</td>\n",
       "      <td>0.6949</td>\n",
       "      <td>0.5854</td>\n",
       "      <td>0.4465</td>\n",
       "      <td>0.2266</td>\n",
       "      <td>0.2160</td>\n",
       "      <td>0.9466</td>\n",
       "      <td>0.5429</td>\n",
       "      <td>0.0967</td>\n",
       "      <td>0.0708</td>\n",
       "    </tr>\n",
       "  </tbody>\n",
       "</table>\n",
       "</div>"
      ],
      "text/plain": [
       "              skew_GN  adjskew_GN  distance_GN  mom6x3_GN  mom9x3_GN  \\\n",
       "ic.mean       -0.0220     -0.0253       0.0087    -0.0008     0.0017   \n",
       "ic.t-stats    -5.2686     -6.3382       0.8646    -0.1349     0.2424   \n",
       "AnnRet_Long   -0.0641     -0.0672       0.0572    -0.0241    -0.0086   \n",
       "AnnRet_short   0.0192      0.0410       0.0080     0.0044    -0.0078   \n",
       "AnnRet        -0.0832     -0.1082       0.0492    -0.0286    -0.0008   \n",
       "SR_Long       -1.4649     -1.6241       0.6196    -0.2720    -0.0946   \n",
       "SR_Short       0.4427      0.8918       0.0710     0.0719    -0.1394   \n",
       "SR            -1.1985     -1.5226       0.2655    -0.2428    -0.0066   \n",
       "TO_Long        0.8849      0.8858       0.3012     0.5196     0.3743   \n",
       "TO_Short       0.8800      0.8827       0.4622     0.5858     0.4471   \n",
       "\n",
       "              mom12x3_GN  mom1M_GN  mom2M_GN  mom3M_GN  mom6M_GN  \\\n",
       "ic.mean           0.0014   -0.0489   -0.0542   -0.0494   -0.0381   \n",
       "ic.t-stats        0.1863   -6.2766   -6.0041   -5.5046   -4.2251   \n",
       "AnnRet_Long      -0.0004   -0.1542   -0.1498   -0.1501   -0.1179   \n",
       "AnnRet_short     -0.0064    0.0598    0.1160    0.1057    0.1019   \n",
       "AnnRet            0.0061   -0.2140   -0.2658   -0.2558   -0.2198   \n",
       "SR_Long          -0.0038   -1.6462   -1.3600   -1.3176   -1.0727   \n",
       "SR_Short         -0.1156    0.8176    1.2652    1.1902    1.1061   \n",
       "SR                0.0477   -1.5410   -1.5756   -1.4599   -1.2253   \n",
       "TO_Long           0.3150    0.8624    0.6253    0.5177    0.3727   \n",
       "TO_Short          0.3743    0.8902    0.6949    0.5854    0.4465   \n",
       "\n",
       "              turnover3M_GN  amount3M_GN  stddev_diff_GN  stddev_GN   ep_GN  \\\n",
       "ic.mean             -0.0435      -0.0419         -0.0094    -0.0393  0.0047   \n",
       "ic.t-stats          -4.6568      -5.4286         -2.0974    -3.5835  0.8466   \n",
       "AnnRet_Long         -0.1202      -0.1294         -0.0726    -0.1315  0.0097   \n",
       "AnnRet_short         0.0967       0.1023         -0.0377     0.0709  0.0282   \n",
       "AnnRet              -0.2170      -0.2318         -0.0349    -0.2024 -0.0185   \n",
       "SR_Long             -1.1819      -1.1368         -1.1266    -1.2972  0.0867   \n",
       "SR_Short             0.8397       1.2767         -0.7386     0.5025  0.4213   \n",
       "SR                  -1.1625      -1.4556         -0.3822    -0.9467 -0.1549   \n",
       "TO_Long              0.2422       0.1749          0.9492     0.6947  0.1270   \n",
       "TO_Short             0.2266       0.2160          0.9466     0.5429  0.0967   \n",
       "\n",
       "              circulating_market_cap_GN  \n",
       "ic.mean                         -0.0102  \n",
       "ic.t-stats                      -1.3894  \n",
       "AnnRet_Long                     -0.0671  \n",
       "AnnRet_short                     0.0318  \n",
       "AnnRet                          -0.0989  \n",
       "SR_Long                         -0.4869  \n",
       "SR_Short                         0.5820  \n",
       "SR                              -0.6607  \n",
       "TO_Long                          0.0511  \n",
       "TO_Short                         0.0708  "
      ]
     },
     "execution_count": 5,
     "metadata": {},
     "output_type": "execute_result"
    }
   ],
   "source": [
    "# 行业中性化(全市场)\n",
    "fe = FactorEvaluation(bar_data=data[bars],factor_data=data[features],freq=12,winzorize=True,standardize=True,industry_neutralize=True)\n",
    "fe.get_summary(add_shift=0,start_date='2010-01-01',end_date='2022-12-31',base='close',groups=10)"
   ]
  },
  {
   "cell_type": "code",
   "execution_count": 6,
   "metadata": {},
   "outputs": [
    {
     "name": "stdout",
     "output_type": "stream",
     "text": [
      "start_date:2016-01-01 / end_date:2022-12-31\n"
     ]
    },
    {
     "data": {
      "text/html": [
       "<div>\n",
       "<style scoped>\n",
       "    .dataframe tbody tr th:only-of-type {\n",
       "        vertical-align: middle;\n",
       "    }\n",
       "\n",
       "    .dataframe tbody tr th {\n",
       "        vertical-align: top;\n",
       "    }\n",
       "\n",
       "    .dataframe thead th {\n",
       "        text-align: right;\n",
       "    }\n",
       "</style>\n",
       "<table border=\"1\" class=\"dataframe\">\n",
       "  <thead>\n",
       "    <tr style=\"text-align: right;\">\n",
       "      <th></th>\n",
       "      <th>skew_GN</th>\n",
       "      <th>adjskew_GN</th>\n",
       "      <th>distance_GN</th>\n",
       "      <th>mom6x3_GN</th>\n",
       "      <th>mom9x3_GN</th>\n",
       "      <th>mom12x3_GN</th>\n",
       "      <th>mom1M_GN</th>\n",
       "      <th>mom2M_GN</th>\n",
       "      <th>mom3M_GN</th>\n",
       "      <th>mom6M_GN</th>\n",
       "      <th>turnover3M_GN</th>\n",
       "      <th>amount3M_GN</th>\n",
       "      <th>stddev_diff_GN</th>\n",
       "      <th>stddev_GN</th>\n",
       "      <th>ep_GN</th>\n",
       "      <th>circulating_market_cap_GN</th>\n",
       "    </tr>\n",
       "  </thead>\n",
       "  <tbody>\n",
       "    <tr>\n",
       "      <th>ic.mean</th>\n",
       "      <td>-0.0168</td>\n",
       "      <td>-0.0088</td>\n",
       "      <td>-0.0213</td>\n",
       "      <td>0.0144</td>\n",
       "      <td>0.0178</td>\n",
       "      <td>0.0261</td>\n",
       "      <td>-0.0442</td>\n",
       "      <td>-0.0448</td>\n",
       "      <td>-0.0341</td>\n",
       "      <td>-0.0173</td>\n",
       "      <td>-0.0779</td>\n",
       "      <td>-0.0112</td>\n",
       "      <td>0.0006</td>\n",
       "      <td>-0.0554</td>\n",
       "      <td>0.0438</td>\n",
       "      <td>0.0383</td>\n",
       "    </tr>\n",
       "    <tr>\n",
       "      <th>ic.t-stats</th>\n",
       "      <td>-3.2068</td>\n",
       "      <td>-1.6032</td>\n",
       "      <td>-1.3966</td>\n",
       "      <td>1.2502</td>\n",
       "      <td>1.3652</td>\n",
       "      <td>1.9143</td>\n",
       "      <td>-3.5432</td>\n",
       "      <td>-3.0307</td>\n",
       "      <td>-2.5297</td>\n",
       "      <td>-1.2085</td>\n",
       "      <td>-4.6580</td>\n",
       "      <td>-1.1367</td>\n",
       "      <td>0.0693</td>\n",
       "      <td>-3.4865</td>\n",
       "      <td>3.6871</td>\n",
       "      <td>2.6634</td>\n",
       "    </tr>\n",
       "    <tr>\n",
       "      <th>AnnRet_Long</th>\n",
       "      <td>-0.0409</td>\n",
       "      <td>-0.0124</td>\n",
       "      <td>-0.0386</td>\n",
       "      <td>0.0117</td>\n",
       "      <td>0.0321</td>\n",
       "      <td>0.0555</td>\n",
       "      <td>-0.1308</td>\n",
       "      <td>-0.1438</td>\n",
       "      <td>-0.1333</td>\n",
       "      <td>-0.0788</td>\n",
       "      <td>-0.2396</td>\n",
       "      <td>-0.0135</td>\n",
       "      <td>-0.0659</td>\n",
       "      <td>-0.2157</td>\n",
       "      <td>0.0821</td>\n",
       "      <td>0.1042</td>\n",
       "    </tr>\n",
       "    <tr>\n",
       "      <th>AnnRet_short</th>\n",
       "      <td>0.0484</td>\n",
       "      <td>0.0366</td>\n",
       "      <td>0.0346</td>\n",
       "      <td>-0.0585</td>\n",
       "      <td>-0.0805</td>\n",
       "      <td>-0.0895</td>\n",
       "      <td>0.0238</td>\n",
       "      <td>0.0673</td>\n",
       "      <td>0.0134</td>\n",
       "      <td>-0.0352</td>\n",
       "      <td>0.0936</td>\n",
       "      <td>-0.0011</td>\n",
       "      <td>-0.0677</td>\n",
       "      <td>0.0264</td>\n",
       "      <td>-0.0975</td>\n",
       "      <td>-0.0580</td>\n",
       "    </tr>\n",
       "    <tr>\n",
       "      <th>AnnRet</th>\n",
       "      <td>-0.0893</td>\n",
       "      <td>-0.0490</td>\n",
       "      <td>-0.0732</td>\n",
       "      <td>0.0702</td>\n",
       "      <td>0.1126</td>\n",
       "      <td>0.1450</td>\n",
       "      <td>-0.1547</td>\n",
       "      <td>-0.2112</td>\n",
       "      <td>-0.1466</td>\n",
       "      <td>-0.0436</td>\n",
       "      <td>-0.3332</td>\n",
       "      <td>-0.0124</td>\n",
       "      <td>0.0017</td>\n",
       "      <td>-0.2421</td>\n",
       "      <td>0.1796</td>\n",
       "      <td>0.1622</td>\n",
       "    </tr>\n",
       "    <tr>\n",
       "      <th>SR_Long</th>\n",
       "      <td>-0.6921</td>\n",
       "      <td>-0.2879</td>\n",
       "      <td>-0.3434</td>\n",
       "      <td>0.1260</td>\n",
       "      <td>0.3029</td>\n",
       "      <td>0.5141</td>\n",
       "      <td>-1.2238</td>\n",
       "      <td>-1.1706</td>\n",
       "      <td>-1.1388</td>\n",
       "      <td>-0.6213</td>\n",
       "      <td>-1.8126</td>\n",
       "      <td>-0.1331</td>\n",
       "      <td>-0.9627</td>\n",
       "      <td>-1.7640</td>\n",
       "      <td>0.6169</td>\n",
       "      <td>0.7462</td>\n",
       "    </tr>\n",
       "    <tr>\n",
       "      <th>SR_Short</th>\n",
       "      <td>0.9641</td>\n",
       "      <td>0.8015</td>\n",
       "      <td>0.3168</td>\n",
       "      <td>-0.7620</td>\n",
       "      <td>-0.9058</td>\n",
       "      <td>-1.1148</td>\n",
       "      <td>0.2530</td>\n",
       "      <td>0.6792</td>\n",
       "      <td>0.1440</td>\n",
       "      <td>-0.3777</td>\n",
       "      <td>0.9883</td>\n",
       "      <td>-0.0178</td>\n",
       "      <td>-0.8333</td>\n",
       "      <td>0.2807</td>\n",
       "      <td>-1.1560</td>\n",
       "      <td>-0.7758</td>\n",
       "    </tr>\n",
       "    <tr>\n",
       "      <th>SR</th>\n",
       "      <td>-1.2011</td>\n",
       "      <td>-0.6977</td>\n",
       "      <td>-0.3571</td>\n",
       "      <td>0.5071</td>\n",
       "      <td>0.6728</td>\n",
       "      <td>0.8855</td>\n",
       "      <td>-0.9143</td>\n",
       "      <td>-1.1151</td>\n",
       "      <td>-0.8570</td>\n",
       "      <td>-0.2298</td>\n",
       "      <td>-1.6254</td>\n",
       "      <td>-0.1013</td>\n",
       "      <td>0.0158</td>\n",
       "      <td>-1.2325</td>\n",
       "      <td>1.1072</td>\n",
       "      <td>0.9391</td>\n",
       "    </tr>\n",
       "    <tr>\n",
       "      <th>TO_Long</th>\n",
       "      <td>0.8983</td>\n",
       "      <td>0.9084</td>\n",
       "      <td>0.3740</td>\n",
       "      <td>0.5565</td>\n",
       "      <td>0.4160</td>\n",
       "      <td>0.3650</td>\n",
       "      <td>0.8900</td>\n",
       "      <td>0.7172</td>\n",
       "      <td>0.5881</td>\n",
       "      <td>0.4184</td>\n",
       "      <td>0.3293</td>\n",
       "      <td>0.1869</td>\n",
       "      <td>0.9737</td>\n",
       "      <td>0.7270</td>\n",
       "      <td>0.2057</td>\n",
       "      <td>0.0649</td>\n",
       "    </tr>\n",
       "    <tr>\n",
       "      <th>TO_Short</th>\n",
       "      <td>0.9058</td>\n",
       "      <td>0.9119</td>\n",
       "      <td>0.5464</td>\n",
       "      <td>0.6297</td>\n",
       "      <td>0.5197</td>\n",
       "      <td>0.4683</td>\n",
       "      <td>0.9118</td>\n",
       "      <td>0.7578</td>\n",
       "      <td>0.6359</td>\n",
       "      <td>0.4772</td>\n",
       "      <td>0.2560</td>\n",
       "      <td>0.4585</td>\n",
       "      <td>0.9628</td>\n",
       "      <td>0.6376</td>\n",
       "      <td>0.2593</td>\n",
       "      <td>0.2778</td>\n",
       "    </tr>\n",
       "  </tbody>\n",
       "</table>\n",
       "</div>"
      ],
      "text/plain": [
       "              skew_GN  adjskew_GN  distance_GN  mom6x3_GN  mom9x3_GN  \\\n",
       "ic.mean       -0.0168     -0.0088      -0.0213     0.0144     0.0178   \n",
       "ic.t-stats    -3.2068     -1.6032      -1.3966     1.2502     1.3652   \n",
       "AnnRet_Long   -0.0409     -0.0124      -0.0386     0.0117     0.0321   \n",
       "AnnRet_short   0.0484      0.0366       0.0346    -0.0585    -0.0805   \n",
       "AnnRet        -0.0893     -0.0490      -0.0732     0.0702     0.1126   \n",
       "SR_Long       -0.6921     -0.2879      -0.3434     0.1260     0.3029   \n",
       "SR_Short       0.9641      0.8015       0.3168    -0.7620    -0.9058   \n",
       "SR            -1.2011     -0.6977      -0.3571     0.5071     0.6728   \n",
       "TO_Long        0.8983      0.9084       0.3740     0.5565     0.4160   \n",
       "TO_Short       0.9058      0.9119       0.5464     0.6297     0.5197   \n",
       "\n",
       "              mom12x3_GN  mom1M_GN  mom2M_GN  mom3M_GN  mom6M_GN  \\\n",
       "ic.mean           0.0261   -0.0442   -0.0448   -0.0341   -0.0173   \n",
       "ic.t-stats        1.9143   -3.5432   -3.0307   -2.5297   -1.2085   \n",
       "AnnRet_Long       0.0555   -0.1308   -0.1438   -0.1333   -0.0788   \n",
       "AnnRet_short     -0.0895    0.0238    0.0673    0.0134   -0.0352   \n",
       "AnnRet            0.1450   -0.1547   -0.2112   -0.1466   -0.0436   \n",
       "SR_Long           0.5141   -1.2238   -1.1706   -1.1388   -0.6213   \n",
       "SR_Short         -1.1148    0.2530    0.6792    0.1440   -0.3777   \n",
       "SR                0.8855   -0.9143   -1.1151   -0.8570   -0.2298   \n",
       "TO_Long           0.3650    0.8900    0.7172    0.5881    0.4184   \n",
       "TO_Short          0.4683    0.9118    0.7578    0.6359    0.4772   \n",
       "\n",
       "              turnover3M_GN  amount3M_GN  stddev_diff_GN  stddev_GN   ep_GN  \\\n",
       "ic.mean             -0.0779      -0.0112          0.0006    -0.0554  0.0438   \n",
       "ic.t-stats          -4.6580      -1.1367          0.0693    -3.4865  3.6871   \n",
       "AnnRet_Long         -0.2396      -0.0135         -0.0659    -0.2157  0.0821   \n",
       "AnnRet_short         0.0936      -0.0011         -0.0677     0.0264 -0.0975   \n",
       "AnnRet              -0.3332      -0.0124          0.0017    -0.2421  0.1796   \n",
       "SR_Long             -1.8126      -0.1331         -0.9627    -1.7640  0.6169   \n",
       "SR_Short             0.9883      -0.0178         -0.8333     0.2807 -1.1560   \n",
       "SR                  -1.6254      -0.1013          0.0158    -1.2325  1.1072   \n",
       "TO_Long              0.3293       0.1869          0.9737     0.7270  0.2057   \n",
       "TO_Short             0.2560       0.4585          0.9628     0.6376  0.2593   \n",
       "\n",
       "              circulating_market_cap_GN  \n",
       "ic.mean                          0.0383  \n",
       "ic.t-stats                       2.6634  \n",
       "AnnRet_Long                      0.1042  \n",
       "AnnRet_short                    -0.0580  \n",
       "AnnRet                           0.1622  \n",
       "SR_Long                          0.7462  \n",
       "SR_Short                        -0.7758  \n",
       "SR                               0.9391  \n",
       "TO_Long                          0.0649  \n",
       "TO_Short                         0.2778  "
      ]
     },
     "execution_count": 6,
     "metadata": {},
     "output_type": "execute_result"
    }
   ],
   "source": [
    "# 行业中性化因子（高流动性股票池）\n",
    "fe = FactorEvaluation(bar_data=data[bars],factor_data=data[features],freq=12,winzorize=True,standardize=True,industry_neutralize=True)\n",
    "fe.get_summary(add_shift=0,start_date='2016-01-01',universe=high_liq,end_date='2022-12-31',base='close',groups=10) # forward_return: 下月收盘-本月收盘"
   ]
  },
  {
   "cell_type": "markdown",
   "metadata": {},
   "source": [
    "# details of mom3M\n",
    "收益曲线和表格指标，均是针对超额收益，benchmark用的是equal weighted"
   ]
  },
  {
   "cell_type": "code",
   "execution_count": 11,
   "metadata": {
    "scrolled": false
   },
   "outputs": [
    {
     "data": {
      "application/vnd.plotly.v1+json": {
       "config": {
        "plotlyServerURL": "https://plot.ly"
       },
       "data": [
        {
         "alignmentgroup": "True",
         "hovertemplate": "variable=0<br>index=%{x}<br>value=%{y}<extra></extra>",
         "legendgroup": "0",
         "marker": {
          "color": "#636efa",
          "pattern": {
           "shape": ""
          }
         },
         "name": "0",
         "offsetgroup": "0",
         "orientation": "v",
         "showlegend": true,
         "textposition": "auto",
         "type": "bar",
         "x": [
          "circulating_market_cap_GN_L-4",
          "circulating_market_cap_GN_L-3",
          "circulating_market_cap_GN_L-2",
          "circulating_market_cap_GN_L-1",
          "circulating_market_cap_GN_L0",
          "circulating_market_cap_GN_L1",
          "circulating_market_cap_GN_L2",
          "circulating_market_cap_GN_L3",
          "circulating_market_cap_GN_L4",
          "circulating_market_cap_GN_L5",
          "circulating_market_cap_GN_L6",
          "circulating_market_cap_GN_L7",
          "circulating_market_cap_GN_L8",
          "circulating_market_cap_GN_L9",
          "circulating_market_cap_GN_L10",
          "circulating_market_cap_GN_L11",
          "circulating_market_cap_GN_L12"
         ],
         "xaxis": "x",
         "y": [
          0.024387074738316944,
          0.023631320000826503,
          0.024145874059743482,
          0.026632383071429608,
          null,
          -0.010155557886656121,
          -0.007267231408646153,
          -0.005929711689515133,
          -0.005712939465088976,
          -0.005830730700696789,
          -0.006011623820135153,
          -0.005450123528035238,
          -0.00481491057236238,
          -0.004570063441097908,
          -0.00505851778863465,
          -0.004293022673577588,
          -0.004718214994853098
         ],
         "yaxis": "y"
        }
       ],
       "layout": {
        "barmode": "relative",
        "legend": {
         "title": {
          "text": "variable"
         },
         "tracegroupgap": 0
        },
        "template": {
         "data": {
          "bar": [
           {
            "error_x": {
             "color": "#2a3f5f"
            },
            "error_y": {
             "color": "#2a3f5f"
            },
            "marker": {
             "line": {
              "color": "#E5ECF6",
              "width": 0.5
             },
             "pattern": {
              "fillmode": "overlay",
              "size": 10,
              "solidity": 0.2
             }
            },
            "type": "bar"
           }
          ],
          "barpolar": [
           {
            "marker": {
             "line": {
              "color": "#E5ECF6",
              "width": 0.5
             },
             "pattern": {
              "fillmode": "overlay",
              "size": 10,
              "solidity": 0.2
             }
            },
            "type": "barpolar"
           }
          ],
          "carpet": [
           {
            "aaxis": {
             "endlinecolor": "#2a3f5f",
             "gridcolor": "white",
             "linecolor": "white",
             "minorgridcolor": "white",
             "startlinecolor": "#2a3f5f"
            },
            "baxis": {
             "endlinecolor": "#2a3f5f",
             "gridcolor": "white",
             "linecolor": "white",
             "minorgridcolor": "white",
             "startlinecolor": "#2a3f5f"
            },
            "type": "carpet"
           }
          ],
          "choropleth": [
           {
            "colorbar": {
             "outlinewidth": 0,
             "ticks": ""
            },
            "type": "choropleth"
           }
          ],
          "contour": [
           {
            "colorbar": {
             "outlinewidth": 0,
             "ticks": ""
            },
            "colorscale": [
             [
              0,
              "#0d0887"
             ],
             [
              0.1111111111111111,
              "#46039f"
             ],
             [
              0.2222222222222222,
              "#7201a8"
             ],
             [
              0.3333333333333333,
              "#9c179e"
             ],
             [
              0.4444444444444444,
              "#bd3786"
             ],
             [
              0.5555555555555556,
              "#d8576b"
             ],
             [
              0.6666666666666666,
              "#ed7953"
             ],
             [
              0.7777777777777778,
              "#fb9f3a"
             ],
             [
              0.8888888888888888,
              "#fdca26"
             ],
             [
              1,
              "#f0f921"
             ]
            ],
            "type": "contour"
           }
          ],
          "contourcarpet": [
           {
            "colorbar": {
             "outlinewidth": 0,
             "ticks": ""
            },
            "type": "contourcarpet"
           }
          ],
          "heatmap": [
           {
            "colorbar": {
             "outlinewidth": 0,
             "ticks": ""
            },
            "colorscale": [
             [
              0,
              "#0d0887"
             ],
             [
              0.1111111111111111,
              "#46039f"
             ],
             [
              0.2222222222222222,
              "#7201a8"
             ],
             [
              0.3333333333333333,
              "#9c179e"
             ],
             [
              0.4444444444444444,
              "#bd3786"
             ],
             [
              0.5555555555555556,
              "#d8576b"
             ],
             [
              0.6666666666666666,
              "#ed7953"
             ],
             [
              0.7777777777777778,
              "#fb9f3a"
             ],
             [
              0.8888888888888888,
              "#fdca26"
             ],
             [
              1,
              "#f0f921"
             ]
            ],
            "type": "heatmap"
           }
          ],
          "heatmapgl": [
           {
            "colorbar": {
             "outlinewidth": 0,
             "ticks": ""
            },
            "colorscale": [
             [
              0,
              "#0d0887"
             ],
             [
              0.1111111111111111,
              "#46039f"
             ],
             [
              0.2222222222222222,
              "#7201a8"
             ],
             [
              0.3333333333333333,
              "#9c179e"
             ],
             [
              0.4444444444444444,
              "#bd3786"
             ],
             [
              0.5555555555555556,
              "#d8576b"
             ],
             [
              0.6666666666666666,
              "#ed7953"
             ],
             [
              0.7777777777777778,
              "#fb9f3a"
             ],
             [
              0.8888888888888888,
              "#fdca26"
             ],
             [
              1,
              "#f0f921"
             ]
            ],
            "type": "heatmapgl"
           }
          ],
          "histogram": [
           {
            "marker": {
             "pattern": {
              "fillmode": "overlay",
              "size": 10,
              "solidity": 0.2
             }
            },
            "type": "histogram"
           }
          ],
          "histogram2d": [
           {
            "colorbar": {
             "outlinewidth": 0,
             "ticks": ""
            },
            "colorscale": [
             [
              0,
              "#0d0887"
             ],
             [
              0.1111111111111111,
              "#46039f"
             ],
             [
              0.2222222222222222,
              "#7201a8"
             ],
             [
              0.3333333333333333,
              "#9c179e"
             ],
             [
              0.4444444444444444,
              "#bd3786"
             ],
             [
              0.5555555555555556,
              "#d8576b"
             ],
             [
              0.6666666666666666,
              "#ed7953"
             ],
             [
              0.7777777777777778,
              "#fb9f3a"
             ],
             [
              0.8888888888888888,
              "#fdca26"
             ],
             [
              1,
              "#f0f921"
             ]
            ],
            "type": "histogram2d"
           }
          ],
          "histogram2dcontour": [
           {
            "colorbar": {
             "outlinewidth": 0,
             "ticks": ""
            },
            "colorscale": [
             [
              0,
              "#0d0887"
             ],
             [
              0.1111111111111111,
              "#46039f"
             ],
             [
              0.2222222222222222,
              "#7201a8"
             ],
             [
              0.3333333333333333,
              "#9c179e"
             ],
             [
              0.4444444444444444,
              "#bd3786"
             ],
             [
              0.5555555555555556,
              "#d8576b"
             ],
             [
              0.6666666666666666,
              "#ed7953"
             ],
             [
              0.7777777777777778,
              "#fb9f3a"
             ],
             [
              0.8888888888888888,
              "#fdca26"
             ],
             [
              1,
              "#f0f921"
             ]
            ],
            "type": "histogram2dcontour"
           }
          ],
          "mesh3d": [
           {
            "colorbar": {
             "outlinewidth": 0,
             "ticks": ""
            },
            "type": "mesh3d"
           }
          ],
          "parcoords": [
           {
            "line": {
             "colorbar": {
              "outlinewidth": 0,
              "ticks": ""
             }
            },
            "type": "parcoords"
           }
          ],
          "pie": [
           {
            "automargin": true,
            "type": "pie"
           }
          ],
          "scatter": [
           {
            "fillpattern": {
             "fillmode": "overlay",
             "size": 10,
             "solidity": 0.2
            },
            "type": "scatter"
           }
          ],
          "scatter3d": [
           {
            "line": {
             "colorbar": {
              "outlinewidth": 0,
              "ticks": ""
             }
            },
            "marker": {
             "colorbar": {
              "outlinewidth": 0,
              "ticks": ""
             }
            },
            "type": "scatter3d"
           }
          ],
          "scattercarpet": [
           {
            "marker": {
             "colorbar": {
              "outlinewidth": 0,
              "ticks": ""
             }
            },
            "type": "scattercarpet"
           }
          ],
          "scattergeo": [
           {
            "marker": {
             "colorbar": {
              "outlinewidth": 0,
              "ticks": ""
             }
            },
            "type": "scattergeo"
           }
          ],
          "scattergl": [
           {
            "marker": {
             "colorbar": {
              "outlinewidth": 0,
              "ticks": ""
             }
            },
            "type": "scattergl"
           }
          ],
          "scattermapbox": [
           {
            "marker": {
             "colorbar": {
              "outlinewidth": 0,
              "ticks": ""
             }
            },
            "type": "scattermapbox"
           }
          ],
          "scatterpolar": [
           {
            "marker": {
             "colorbar": {
              "outlinewidth": 0,
              "ticks": ""
             }
            },
            "type": "scatterpolar"
           }
          ],
          "scatterpolargl": [
           {
            "marker": {
             "colorbar": {
              "outlinewidth": 0,
              "ticks": ""
             }
            },
            "type": "scatterpolargl"
           }
          ],
          "scatterternary": [
           {
            "marker": {
             "colorbar": {
              "outlinewidth": 0,
              "ticks": ""
             }
            },
            "type": "scatterternary"
           }
          ],
          "surface": [
           {
            "colorbar": {
             "outlinewidth": 0,
             "ticks": ""
            },
            "colorscale": [
             [
              0,
              "#0d0887"
             ],
             [
              0.1111111111111111,
              "#46039f"
             ],
             [
              0.2222222222222222,
              "#7201a8"
             ],
             [
              0.3333333333333333,
              "#9c179e"
             ],
             [
              0.4444444444444444,
              "#bd3786"
             ],
             [
              0.5555555555555556,
              "#d8576b"
             ],
             [
              0.6666666666666666,
              "#ed7953"
             ],
             [
              0.7777777777777778,
              "#fb9f3a"
             ],
             [
              0.8888888888888888,
              "#fdca26"
             ],
             [
              1,
              "#f0f921"
             ]
            ],
            "type": "surface"
           }
          ],
          "table": [
           {
            "cells": {
             "fill": {
              "color": "#EBF0F8"
             },
             "line": {
              "color": "white"
             }
            },
            "header": {
             "fill": {
              "color": "#C8D4E3"
             },
             "line": {
              "color": "white"
             }
            },
            "type": "table"
           }
          ]
         },
         "layout": {
          "annotationdefaults": {
           "arrowcolor": "#2a3f5f",
           "arrowhead": 0,
           "arrowwidth": 1
          },
          "autotypenumbers": "strict",
          "coloraxis": {
           "colorbar": {
            "outlinewidth": 0,
            "ticks": ""
           }
          },
          "colorscale": {
           "diverging": [
            [
             0,
             "#8e0152"
            ],
            [
             0.1,
             "#c51b7d"
            ],
            [
             0.2,
             "#de77ae"
            ],
            [
             0.3,
             "#f1b6da"
            ],
            [
             0.4,
             "#fde0ef"
            ],
            [
             0.5,
             "#f7f7f7"
            ],
            [
             0.6,
             "#e6f5d0"
            ],
            [
             0.7,
             "#b8e186"
            ],
            [
             0.8,
             "#7fbc41"
            ],
            [
             0.9,
             "#4d9221"
            ],
            [
             1,
             "#276419"
            ]
           ],
           "sequential": [
            [
             0,
             "#0d0887"
            ],
            [
             0.1111111111111111,
             "#46039f"
            ],
            [
             0.2222222222222222,
             "#7201a8"
            ],
            [
             0.3333333333333333,
             "#9c179e"
            ],
            [
             0.4444444444444444,
             "#bd3786"
            ],
            [
             0.5555555555555556,
             "#d8576b"
            ],
            [
             0.6666666666666666,
             "#ed7953"
            ],
            [
             0.7777777777777778,
             "#fb9f3a"
            ],
            [
             0.8888888888888888,
             "#fdca26"
            ],
            [
             1,
             "#f0f921"
            ]
           ],
           "sequentialminus": [
            [
             0,
             "#0d0887"
            ],
            [
             0.1111111111111111,
             "#46039f"
            ],
            [
             0.2222222222222222,
             "#7201a8"
            ],
            [
             0.3333333333333333,
             "#9c179e"
            ],
            [
             0.4444444444444444,
             "#bd3786"
            ],
            [
             0.5555555555555556,
             "#d8576b"
            ],
            [
             0.6666666666666666,
             "#ed7953"
            ],
            [
             0.7777777777777778,
             "#fb9f3a"
            ],
            [
             0.8888888888888888,
             "#fdca26"
            ],
            [
             1,
             "#f0f921"
            ]
           ]
          },
          "colorway": [
           "#636efa",
           "#EF553B",
           "#00cc96",
           "#ab63fa",
           "#FFA15A",
           "#19d3f3",
           "#FF6692",
           "#B6E880",
           "#FF97FF",
           "#FECB52"
          ],
          "font": {
           "color": "#2a3f5f"
          },
          "geo": {
           "bgcolor": "white",
           "lakecolor": "white",
           "landcolor": "#E5ECF6",
           "showlakes": true,
           "showland": true,
           "subunitcolor": "white"
          },
          "hoverlabel": {
           "align": "left"
          },
          "hovermode": "closest",
          "mapbox": {
           "style": "light"
          },
          "paper_bgcolor": "white",
          "plot_bgcolor": "#E5ECF6",
          "polar": {
           "angularaxis": {
            "gridcolor": "white",
            "linecolor": "white",
            "ticks": ""
           },
           "bgcolor": "#E5ECF6",
           "radialaxis": {
            "gridcolor": "white",
            "linecolor": "white",
            "ticks": ""
           }
          },
          "scene": {
           "xaxis": {
            "backgroundcolor": "#E5ECF6",
            "gridcolor": "white",
            "gridwidth": 2,
            "linecolor": "white",
            "showbackground": true,
            "ticks": "",
            "zerolinecolor": "white"
           },
           "yaxis": {
            "backgroundcolor": "#E5ECF6",
            "gridcolor": "white",
            "gridwidth": 2,
            "linecolor": "white",
            "showbackground": true,
            "ticks": "",
            "zerolinecolor": "white"
           },
           "zaxis": {
            "backgroundcolor": "#E5ECF6",
            "gridcolor": "white",
            "gridwidth": 2,
            "linecolor": "white",
            "showbackground": true,
            "ticks": "",
            "zerolinecolor": "white"
           }
          },
          "shapedefaults": {
           "line": {
            "color": "#2a3f5f"
           }
          },
          "ternary": {
           "aaxis": {
            "gridcolor": "white",
            "linecolor": "white",
            "ticks": ""
           },
           "baxis": {
            "gridcolor": "white",
            "linecolor": "white",
            "ticks": ""
           },
           "bgcolor": "#E5ECF6",
           "caxis": {
            "gridcolor": "white",
            "linecolor": "white",
            "ticks": ""
           }
          },
          "title": {
           "x": 0.05
          },
          "xaxis": {
           "automargin": true,
           "gridcolor": "white",
           "linecolor": "white",
           "ticks": "",
           "title": {
            "standoff": 15
           },
           "zerolinecolor": "white",
           "zerolinewidth": 2
          },
          "yaxis": {
           "automargin": true,
           "gridcolor": "white",
           "linecolor": "white",
           "ticks": "",
           "title": {
            "standoff": 15
           },
           "zerolinecolor": "white",
           "zerolinewidth": 2
          }
         }
        },
        "title": {
         "text": "ic decay"
        },
        "xaxis": {
         "anchor": "y",
         "domain": [
          0,
          1
         ],
         "title": {
          "text": "index"
         }
        },
        "yaxis": {
         "anchor": "x",
         "domain": [
          0,
          1
         ],
         "title": {
          "text": "value"
         }
        }
       }
      },
      "text/html": [
       "<div>                            <div id=\"34e1c018-1d84-4273-a857-1de36b0701a4\" class=\"plotly-graph-div\" style=\"height:525px; width:100%;\"></div>            <script type=\"text/javascript\">                require([\"plotly\"], function(Plotly) {                    window.PLOTLYENV=window.PLOTLYENV || {};                                    if (document.getElementById(\"34e1c018-1d84-4273-a857-1de36b0701a4\")) {                    Plotly.newPlot(                        \"34e1c018-1d84-4273-a857-1de36b0701a4\",                        [{\"alignmentgroup\":\"True\",\"hovertemplate\":\"variable=0<br>index=%{x}<br>value=%{y}<extra></extra>\",\"legendgroup\":\"0\",\"marker\":{\"color\":\"#636efa\",\"pattern\":{\"shape\":\"\"}},\"name\":\"0\",\"offsetgroup\":\"0\",\"orientation\":\"v\",\"showlegend\":true,\"textposition\":\"auto\",\"x\":[\"circulating_market_cap_GN_L-4\",\"circulating_market_cap_GN_L-3\",\"circulating_market_cap_GN_L-2\",\"circulating_market_cap_GN_L-1\",\"circulating_market_cap_GN_L0\",\"circulating_market_cap_GN_L1\",\"circulating_market_cap_GN_L2\",\"circulating_market_cap_GN_L3\",\"circulating_market_cap_GN_L4\",\"circulating_market_cap_GN_L5\",\"circulating_market_cap_GN_L6\",\"circulating_market_cap_GN_L7\",\"circulating_market_cap_GN_L8\",\"circulating_market_cap_GN_L9\",\"circulating_market_cap_GN_L10\",\"circulating_market_cap_GN_L11\",\"circulating_market_cap_GN_L12\"],\"xaxis\":\"x\",\"y\":[0.024387074738316944,0.023631320000826503,0.024145874059743482,0.026632383071429608,null,-0.010155557886656121,-0.007267231408646153,-0.005929711689515133,-0.005712939465088976,-0.005830730700696789,-0.006011623820135153,-0.005450123528035238,-0.00481491057236238,-0.004570063441097908,-0.00505851778863465,-0.004293022673577588,-0.004718214994853098],\"yaxis\":\"y\",\"type\":\"bar\"}],                        {\"template\":{\"data\":{\"histogram2dcontour\":[{\"type\":\"histogram2dcontour\",\"colorbar\":{\"outlinewidth\":0,\"ticks\":\"\"},\"colorscale\":[[0.0,\"#0d0887\"],[0.1111111111111111,\"#46039f\"],[0.2222222222222222,\"#7201a8\"],[0.3333333333333333,\"#9c179e\"],[0.4444444444444444,\"#bd3786\"],[0.5555555555555556,\"#d8576b\"],[0.6666666666666666,\"#ed7953\"],[0.7777777777777778,\"#fb9f3a\"],[0.8888888888888888,\"#fdca26\"],[1.0,\"#f0f921\"]]}],\"choropleth\":[{\"type\":\"choropleth\",\"colorbar\":{\"outlinewidth\":0,\"ticks\":\"\"}}],\"histogram2d\":[{\"type\":\"histogram2d\",\"colorbar\":{\"outlinewidth\":0,\"ticks\":\"\"},\"colorscale\":[[0.0,\"#0d0887\"],[0.1111111111111111,\"#46039f\"],[0.2222222222222222,\"#7201a8\"],[0.3333333333333333,\"#9c179e\"],[0.4444444444444444,\"#bd3786\"],[0.5555555555555556,\"#d8576b\"],[0.6666666666666666,\"#ed7953\"],[0.7777777777777778,\"#fb9f3a\"],[0.8888888888888888,\"#fdca26\"],[1.0,\"#f0f921\"]]}],\"heatmap\":[{\"type\":\"heatmap\",\"colorbar\":{\"outlinewidth\":0,\"ticks\":\"\"},\"colorscale\":[[0.0,\"#0d0887\"],[0.1111111111111111,\"#46039f\"],[0.2222222222222222,\"#7201a8\"],[0.3333333333333333,\"#9c179e\"],[0.4444444444444444,\"#bd3786\"],[0.5555555555555556,\"#d8576b\"],[0.6666666666666666,\"#ed7953\"],[0.7777777777777778,\"#fb9f3a\"],[0.8888888888888888,\"#fdca26\"],[1.0,\"#f0f921\"]]}],\"heatmapgl\":[{\"type\":\"heatmapgl\",\"colorbar\":{\"outlinewidth\":0,\"ticks\":\"\"},\"colorscale\":[[0.0,\"#0d0887\"],[0.1111111111111111,\"#46039f\"],[0.2222222222222222,\"#7201a8\"],[0.3333333333333333,\"#9c179e\"],[0.4444444444444444,\"#bd3786\"],[0.5555555555555556,\"#d8576b\"],[0.6666666666666666,\"#ed7953\"],[0.7777777777777778,\"#fb9f3a\"],[0.8888888888888888,\"#fdca26\"],[1.0,\"#f0f921\"]]}],\"contourcarpet\":[{\"type\":\"contourcarpet\",\"colorbar\":{\"outlinewidth\":0,\"ticks\":\"\"}}],\"contour\":[{\"type\":\"contour\",\"colorbar\":{\"outlinewidth\":0,\"ticks\":\"\"},\"colorscale\":[[0.0,\"#0d0887\"],[0.1111111111111111,\"#46039f\"],[0.2222222222222222,\"#7201a8\"],[0.3333333333333333,\"#9c179e\"],[0.4444444444444444,\"#bd3786\"],[0.5555555555555556,\"#d8576b\"],[0.6666666666666666,\"#ed7953\"],[0.7777777777777778,\"#fb9f3a\"],[0.8888888888888888,\"#fdca26\"],[1.0,\"#f0f921\"]]}],\"surface\":[{\"type\":\"surface\",\"colorbar\":{\"outlinewidth\":0,\"ticks\":\"\"},\"colorscale\":[[0.0,\"#0d0887\"],[0.1111111111111111,\"#46039f\"],[0.2222222222222222,\"#7201a8\"],[0.3333333333333333,\"#9c179e\"],[0.4444444444444444,\"#bd3786\"],[0.5555555555555556,\"#d8576b\"],[0.6666666666666666,\"#ed7953\"],[0.7777777777777778,\"#fb9f3a\"],[0.8888888888888888,\"#fdca26\"],[1.0,\"#f0f921\"]]}],\"mesh3d\":[{\"type\":\"mesh3d\",\"colorbar\":{\"outlinewidth\":0,\"ticks\":\"\"}}],\"scatter\":[{\"fillpattern\":{\"fillmode\":\"overlay\",\"size\":10,\"solidity\":0.2},\"type\":\"scatter\"}],\"parcoords\":[{\"type\":\"parcoords\",\"line\":{\"colorbar\":{\"outlinewidth\":0,\"ticks\":\"\"}}}],\"scatterpolargl\":[{\"type\":\"scatterpolargl\",\"marker\":{\"colorbar\":{\"outlinewidth\":0,\"ticks\":\"\"}}}],\"bar\":[{\"error_x\":{\"color\":\"#2a3f5f\"},\"error_y\":{\"color\":\"#2a3f5f\"},\"marker\":{\"line\":{\"color\":\"#E5ECF6\",\"width\":0.5},\"pattern\":{\"fillmode\":\"overlay\",\"size\":10,\"solidity\":0.2}},\"type\":\"bar\"}],\"scattergeo\":[{\"type\":\"scattergeo\",\"marker\":{\"colorbar\":{\"outlinewidth\":0,\"ticks\":\"\"}}}],\"scatterpolar\":[{\"type\":\"scatterpolar\",\"marker\":{\"colorbar\":{\"outlinewidth\":0,\"ticks\":\"\"}}}],\"histogram\":[{\"marker\":{\"pattern\":{\"fillmode\":\"overlay\",\"size\":10,\"solidity\":0.2}},\"type\":\"histogram\"}],\"scattergl\":[{\"type\":\"scattergl\",\"marker\":{\"colorbar\":{\"outlinewidth\":0,\"ticks\":\"\"}}}],\"scatter3d\":[{\"type\":\"scatter3d\",\"line\":{\"colorbar\":{\"outlinewidth\":0,\"ticks\":\"\"}},\"marker\":{\"colorbar\":{\"outlinewidth\":0,\"ticks\":\"\"}}}],\"scattermapbox\":[{\"type\":\"scattermapbox\",\"marker\":{\"colorbar\":{\"outlinewidth\":0,\"ticks\":\"\"}}}],\"scatterternary\":[{\"type\":\"scatterternary\",\"marker\":{\"colorbar\":{\"outlinewidth\":0,\"ticks\":\"\"}}}],\"scattercarpet\":[{\"type\":\"scattercarpet\",\"marker\":{\"colorbar\":{\"outlinewidth\":0,\"ticks\":\"\"}}}],\"carpet\":[{\"aaxis\":{\"endlinecolor\":\"#2a3f5f\",\"gridcolor\":\"white\",\"linecolor\":\"white\",\"minorgridcolor\":\"white\",\"startlinecolor\":\"#2a3f5f\"},\"baxis\":{\"endlinecolor\":\"#2a3f5f\",\"gridcolor\":\"white\",\"linecolor\":\"white\",\"minorgridcolor\":\"white\",\"startlinecolor\":\"#2a3f5f\"},\"type\":\"carpet\"}],\"table\":[{\"cells\":{\"fill\":{\"color\":\"#EBF0F8\"},\"line\":{\"color\":\"white\"}},\"header\":{\"fill\":{\"color\":\"#C8D4E3\"},\"line\":{\"color\":\"white\"}},\"type\":\"table\"}],\"barpolar\":[{\"marker\":{\"line\":{\"color\":\"#E5ECF6\",\"width\":0.5},\"pattern\":{\"fillmode\":\"overlay\",\"size\":10,\"solidity\":0.2}},\"type\":\"barpolar\"}],\"pie\":[{\"automargin\":true,\"type\":\"pie\"}]},\"layout\":{\"autotypenumbers\":\"strict\",\"colorway\":[\"#636efa\",\"#EF553B\",\"#00cc96\",\"#ab63fa\",\"#FFA15A\",\"#19d3f3\",\"#FF6692\",\"#B6E880\",\"#FF97FF\",\"#FECB52\"],\"font\":{\"color\":\"#2a3f5f\"},\"hovermode\":\"closest\",\"hoverlabel\":{\"align\":\"left\"},\"paper_bgcolor\":\"white\",\"plot_bgcolor\":\"#E5ECF6\",\"polar\":{\"bgcolor\":\"#E5ECF6\",\"angularaxis\":{\"gridcolor\":\"white\",\"linecolor\":\"white\",\"ticks\":\"\"},\"radialaxis\":{\"gridcolor\":\"white\",\"linecolor\":\"white\",\"ticks\":\"\"}},\"ternary\":{\"bgcolor\":\"#E5ECF6\",\"aaxis\":{\"gridcolor\":\"white\",\"linecolor\":\"white\",\"ticks\":\"\"},\"baxis\":{\"gridcolor\":\"white\",\"linecolor\":\"white\",\"ticks\":\"\"},\"caxis\":{\"gridcolor\":\"white\",\"linecolor\":\"white\",\"ticks\":\"\"}},\"coloraxis\":{\"colorbar\":{\"outlinewidth\":0,\"ticks\":\"\"}},\"colorscale\":{\"sequential\":[[0.0,\"#0d0887\"],[0.1111111111111111,\"#46039f\"],[0.2222222222222222,\"#7201a8\"],[0.3333333333333333,\"#9c179e\"],[0.4444444444444444,\"#bd3786\"],[0.5555555555555556,\"#d8576b\"],[0.6666666666666666,\"#ed7953\"],[0.7777777777777778,\"#fb9f3a\"],[0.8888888888888888,\"#fdca26\"],[1.0,\"#f0f921\"]],\"sequentialminus\":[[0.0,\"#0d0887\"],[0.1111111111111111,\"#46039f\"],[0.2222222222222222,\"#7201a8\"],[0.3333333333333333,\"#9c179e\"],[0.4444444444444444,\"#bd3786\"],[0.5555555555555556,\"#d8576b\"],[0.6666666666666666,\"#ed7953\"],[0.7777777777777778,\"#fb9f3a\"],[0.8888888888888888,\"#fdca26\"],[1.0,\"#f0f921\"]],\"diverging\":[[0,\"#8e0152\"],[0.1,\"#c51b7d\"],[0.2,\"#de77ae\"],[0.3,\"#f1b6da\"],[0.4,\"#fde0ef\"],[0.5,\"#f7f7f7\"],[0.6,\"#e6f5d0\"],[0.7,\"#b8e186\"],[0.8,\"#7fbc41\"],[0.9,\"#4d9221\"],[1,\"#276419\"]]},\"xaxis\":{\"gridcolor\":\"white\",\"linecolor\":\"white\",\"ticks\":\"\",\"title\":{\"standoff\":15},\"zerolinecolor\":\"white\",\"automargin\":true,\"zerolinewidth\":2},\"yaxis\":{\"gridcolor\":\"white\",\"linecolor\":\"white\",\"ticks\":\"\",\"title\":{\"standoff\":15},\"zerolinecolor\":\"white\",\"automargin\":true,\"zerolinewidth\":2},\"scene\":{\"xaxis\":{\"backgroundcolor\":\"#E5ECF6\",\"gridcolor\":\"white\",\"linecolor\":\"white\",\"showbackground\":true,\"ticks\":\"\",\"zerolinecolor\":\"white\",\"gridwidth\":2},\"yaxis\":{\"backgroundcolor\":\"#E5ECF6\",\"gridcolor\":\"white\",\"linecolor\":\"white\",\"showbackground\":true,\"ticks\":\"\",\"zerolinecolor\":\"white\",\"gridwidth\":2},\"zaxis\":{\"backgroundcolor\":\"#E5ECF6\",\"gridcolor\":\"white\",\"linecolor\":\"white\",\"showbackground\":true,\"ticks\":\"\",\"zerolinecolor\":\"white\",\"gridwidth\":2}},\"shapedefaults\":{\"line\":{\"color\":\"#2a3f5f\"}},\"annotationdefaults\":{\"arrowcolor\":\"#2a3f5f\",\"arrowhead\":0,\"arrowwidth\":1},\"geo\":{\"bgcolor\":\"white\",\"landcolor\":\"#E5ECF6\",\"subunitcolor\":\"white\",\"showland\":true,\"showlakes\":true,\"lakecolor\":\"white\"},\"title\":{\"x\":0.05},\"mapbox\":{\"style\":\"light\"}}},\"xaxis\":{\"anchor\":\"y\",\"domain\":[0.0,1.0],\"title\":{\"text\":\"index\"}},\"yaxis\":{\"anchor\":\"x\",\"domain\":[0.0,1.0],\"title\":{\"text\":\"value\"}},\"legend\":{\"title\":{\"text\":\"variable\"},\"tracegroupgap\":0},\"title\":{\"text\":\"ic decay\"},\"barmode\":\"relative\"},                        {\"responsive\": true}                    ).then(function(){\n",
       "                            \n",
       "var gd = document.getElementById('34e1c018-1d84-4273-a857-1de36b0701a4');\n",
       "var x = new MutationObserver(function (mutations, observer) {{\n",
       "        var display = window.getComputedStyle(gd).display;\n",
       "        if (!display || display === 'none') {{\n",
       "            console.log([gd, 'removed!']);\n",
       "            Plotly.purge(gd);\n",
       "            observer.disconnect();\n",
       "        }}\n",
       "}});\n",
       "\n",
       "// Listen for the removal of the full notebook cells\n",
       "var notebookContainer = gd.closest('#notebook-container');\n",
       "if (notebookContainer) {{\n",
       "    x.observe(notebookContainer, {childList: true});\n",
       "}}\n",
       "\n",
       "// Listen for the clearing of the current output cell\n",
       "var outputEl = gd.closest('.output');\n",
       "if (outputEl) {{\n",
       "    x.observe(outputEl, {childList: true});\n",
       "}}\n",
       "\n",
       "                        })                };                });            </script>        </div>"
      ]
     },
     "metadata": {},
     "output_type": "display_data"
    },
    {
     "data": {
      "application/vnd.plotly.v1+json": {
       "config": {
        "plotlyServerURL": "https://plot.ly"
       },
       "data": [
        {
         "name": "ic_ma12",
         "type": "scatter",
         "x": [
          "2010-01-31T00:00:00",
          "2010-02-28T00:00:00",
          "2010-03-31T00:00:00",
          "2010-04-30T00:00:00",
          "2010-05-31T00:00:00",
          "2010-06-30T00:00:00",
          "2010-07-31T00:00:00",
          "2010-08-31T00:00:00",
          "2010-09-30T00:00:00",
          "2010-10-31T00:00:00",
          "2010-11-30T00:00:00",
          "2010-12-31T00:00:00",
          "2011-01-31T00:00:00",
          "2011-02-28T00:00:00",
          "2011-03-31T00:00:00",
          "2011-04-30T00:00:00",
          "2011-05-31T00:00:00",
          "2011-06-30T00:00:00",
          "2011-07-31T00:00:00",
          "2011-08-31T00:00:00",
          "2011-09-30T00:00:00",
          "2011-10-31T00:00:00",
          "2011-11-30T00:00:00",
          "2011-12-31T00:00:00",
          "2012-01-31T00:00:00",
          "2012-02-29T00:00:00",
          "2012-03-31T00:00:00",
          "2012-04-30T00:00:00",
          "2012-05-31T00:00:00",
          "2012-06-30T00:00:00",
          "2012-07-31T00:00:00",
          "2012-08-31T00:00:00",
          "2012-09-30T00:00:00",
          "2012-10-31T00:00:00",
          "2012-11-30T00:00:00",
          "2012-12-31T00:00:00",
          "2013-01-31T00:00:00",
          "2013-02-28T00:00:00",
          "2013-03-31T00:00:00",
          "2013-04-30T00:00:00",
          "2013-05-31T00:00:00",
          "2013-06-30T00:00:00",
          "2013-07-31T00:00:00",
          "2013-08-31T00:00:00",
          "2013-09-30T00:00:00",
          "2013-10-31T00:00:00",
          "2013-11-30T00:00:00",
          "2013-12-31T00:00:00",
          "2014-01-31T00:00:00",
          "2014-02-28T00:00:00",
          "2014-03-31T00:00:00",
          "2014-04-30T00:00:00",
          "2014-05-31T00:00:00",
          "2014-06-30T00:00:00",
          "2014-07-31T00:00:00",
          "2014-08-31T00:00:00",
          "2014-09-30T00:00:00",
          "2014-10-31T00:00:00",
          "2014-11-30T00:00:00",
          "2014-12-31T00:00:00",
          "2015-01-31T00:00:00",
          "2015-02-28T00:00:00",
          "2015-03-31T00:00:00",
          "2015-04-30T00:00:00",
          "2015-05-31T00:00:00",
          "2015-06-30T00:00:00",
          "2015-07-31T00:00:00",
          "2015-08-31T00:00:00",
          "2015-09-30T00:00:00",
          "2015-10-31T00:00:00",
          "2015-11-30T00:00:00",
          "2015-12-31T00:00:00",
          "2016-01-31T00:00:00",
          "2016-02-29T00:00:00",
          "2016-03-31T00:00:00",
          "2016-04-30T00:00:00",
          "2016-05-31T00:00:00",
          "2016-06-30T00:00:00",
          "2016-07-31T00:00:00",
          "2016-08-31T00:00:00",
          "2016-09-30T00:00:00",
          "2016-10-31T00:00:00",
          "2016-11-30T00:00:00",
          "2016-12-31T00:00:00",
          "2017-01-31T00:00:00",
          "2017-02-28T00:00:00",
          "2017-03-31T00:00:00",
          "2017-04-30T00:00:00",
          "2017-05-31T00:00:00",
          "2017-06-30T00:00:00",
          "2017-07-31T00:00:00",
          "2017-08-31T00:00:00",
          "2017-09-30T00:00:00",
          "2017-10-31T00:00:00",
          "2017-11-30T00:00:00",
          "2017-12-31T00:00:00",
          "2018-01-31T00:00:00",
          "2018-02-28T00:00:00",
          "2018-03-31T00:00:00",
          "2018-04-30T00:00:00",
          "2018-05-31T00:00:00",
          "2018-06-30T00:00:00",
          "2018-07-31T00:00:00",
          "2018-08-31T00:00:00",
          "2018-09-30T00:00:00",
          "2018-10-31T00:00:00",
          "2018-11-30T00:00:00",
          "2018-12-31T00:00:00",
          "2019-01-31T00:00:00",
          "2019-02-28T00:00:00",
          "2019-03-31T00:00:00",
          "2019-04-30T00:00:00",
          "2019-05-31T00:00:00",
          "2019-06-30T00:00:00",
          "2019-07-31T00:00:00",
          "2019-08-31T00:00:00",
          "2019-09-30T00:00:00",
          "2019-10-31T00:00:00",
          "2019-11-30T00:00:00",
          "2019-12-31T00:00:00",
          "2020-01-31T00:00:00",
          "2020-02-29T00:00:00",
          "2020-03-31T00:00:00",
          "2020-04-30T00:00:00",
          "2020-05-31T00:00:00",
          "2020-06-30T00:00:00",
          "2020-07-31T00:00:00",
          "2020-08-31T00:00:00",
          "2020-09-30T00:00:00",
          "2020-10-31T00:00:00",
          "2020-11-30T00:00:00",
          "2020-12-31T00:00:00",
          "2021-01-31T00:00:00",
          "2021-02-28T00:00:00",
          "2021-03-31T00:00:00",
          "2021-04-30T00:00:00",
          "2021-05-31T00:00:00",
          "2021-06-30T00:00:00",
          "2021-07-31T00:00:00",
          "2021-08-31T00:00:00",
          "2021-09-30T00:00:00",
          "2021-10-31T00:00:00",
          "2021-11-30T00:00:00",
          "2021-12-31T00:00:00",
          "2022-01-31T00:00:00",
          "2022-02-28T00:00:00",
          "2022-03-31T00:00:00",
          "2022-04-30T00:00:00",
          "2022-05-31T00:00:00",
          "2022-06-30T00:00:00",
          "2022-07-31T00:00:00",
          "2022-08-31T00:00:00",
          "2022-09-30T00:00:00",
          "2022-10-31T00:00:00",
          "2022-11-30T00:00:00"
         ],
         "y": [
          null,
          null,
          null,
          null,
          null,
          null,
          null,
          null,
          null,
          null,
          null,
          -0.02118656540610889,
          -0.022410980615163455,
          -0.021334991041298896,
          -0.020285696898269003,
          -0.02095248156283651,
          -0.02366494264367927,
          -0.020883250057962086,
          -0.016489315574851802,
          -0.016271800495743664,
          -0.021784112418685015,
          -0.01751680994412314,
          -0.0023780048882900487,
          -0.0019714766290301056,
          -0.005066379329722738,
          -0.0008790703367688819,
          -0.005052928889751841,
          -0.00826338845880407,
          -0.006941714791975956,
          0.0055120949506817785,
          0.002731978158507859,
          0.00915297387280308,
          0.004490574602166143,
          0.020120058377801384,
          0.001468168180841668,
          -0.00836625742812224,
          0.001535729701091221,
          -0.0009856366377934906,
          0.002676359545125245,
          -0.004907681513209888,
          -0.0031875871871642723,
          -0.01849881414707497,
          -0.016132751385140545,
          -0.02410280498528684,
          -0.025198038802986527,
          -0.04334132604349661,
          -0.043401643044759075,
          -0.046375376979311454,
          -0.052681638445312186,
          -0.05196618909728443,
          -0.05026717385856345,
          -0.04603231906276786,
          -0.05591205113873394,
          -0.049043914637215406,
          -0.053333663421192945,
          -0.06739557393456945,
          -0.06559168352000212,
          -0.053046008473049557,
          -0.022279421977709046,
          -0.025780601928513492,
          -0.022137674699041526,
          -0.028801608252773735,
          -0.029796259458213712,
          -0.038478702969126886,
          -0.03481180950214756,
          -0.029976241333500974,
          -0.021061408239148278,
          -0.012782056458623384,
          -0.025999186163111847,
          -0.04611216162282645,
          -0.08337635121274144,
          -0.06380329204920059,
          -0.06093195413456235,
          -0.06337715541724583,
          -0.07351132851780413,
          -0.05413822405852797,
          -0.06117541290239418,
          -0.06049116352371864,
          -0.06570704435012098,
          -0.06765434704543594,
          -0.05678144052706347,
          -0.03562352965641839,
          -0.030967211404336687,
          -0.026589196165817435,
          -0.02941509174132088,
          -0.0085408470499526,
          0.011862930921495082,
          0.022931709760414143,
          0.03787892016353884,
          0.03505813507628175,
          0.037807760569266095,
          0.04538438248912749,
          0.06580814648677115,
          0.06807004135218574,
          0.08147392825790474,
          0.08290431481352777,
          0.09101083534475272,
          0.06960004036565363,
          0.05952726457773608,
          0.04865386237327405,
          0.05120914878866147,
          0.04757590735704997,
          0.05547577790424185,
          0.06125725758694913,
          0.040779141136850994,
          0.023935346069986138,
          0.01573039499060696,
          0.015091509637068389,
          3.258960594038537e-05,
          0.006140453724882681,
          0.007739836361116705,
          -0.0012447485214412597,
          -0.00039288456275007763,
          0.005420720310924921,
          0.004249526834528933,
          -0.004524167551571407,
          0.0008193908988950524,
          0.013415516751945545,
          0.010516806348976594,
          -0.0019431277656291872,
          0.0117583080194519,
          0.010846714128216849,
          0.016930320094900184,
          0.015875104509711278,
          0.011990151126366443,
          0.0068864300290731725,
          0.0005505107801030296,
          0.0065725937730234454,
          0.008582632632508021,
          0.006556252729904573,
          0.019327531286353842,
          0.037210052330693556,
          0.027208964406559816,
          0.022333578539539534,
          0.016352835771233743,
          0.016566003032943085,
          0.008775809548326472,
          0.004981009433459418,
          0.005170148934677069,
          0.0022929778353954285,
          0.0033921594879028154,
          -0.013900690878599542,
          -0.028133108164681033,
          -0.04879302564399979,
          -0.04542773850318116,
          -0.040915573400852195,
          -0.028758207645498787,
          -0.03402344174775899,
          -0.028141697404404212,
          -0.03821021229515586,
          -0.03469437442151811,
          -0.03008231418878575,
          -0.046037130654476115,
          -0.03199461680776582,
          -0.024020965200738553
         ]
        },
        {
         "name": "ic",
         "type": "bar",
         "x": [
          "2010-01-31T00:00:00",
          "2010-02-28T00:00:00",
          "2010-03-31T00:00:00",
          "2010-04-30T00:00:00",
          "2010-05-31T00:00:00",
          "2010-06-30T00:00:00",
          "2010-07-31T00:00:00",
          "2010-08-31T00:00:00",
          "2010-09-30T00:00:00",
          "2010-10-31T00:00:00",
          "2010-11-30T00:00:00",
          "2010-12-31T00:00:00",
          "2011-01-31T00:00:00",
          "2011-02-28T00:00:00",
          "2011-03-31T00:00:00",
          "2011-04-30T00:00:00",
          "2011-05-31T00:00:00",
          "2011-06-30T00:00:00",
          "2011-07-31T00:00:00",
          "2011-08-31T00:00:00",
          "2011-09-30T00:00:00",
          "2011-10-31T00:00:00",
          "2011-11-30T00:00:00",
          "2011-12-31T00:00:00",
          "2012-01-31T00:00:00",
          "2012-02-29T00:00:00",
          "2012-03-31T00:00:00",
          "2012-04-30T00:00:00",
          "2012-05-31T00:00:00",
          "2012-06-30T00:00:00",
          "2012-07-31T00:00:00",
          "2012-08-31T00:00:00",
          "2012-09-30T00:00:00",
          "2012-10-31T00:00:00",
          "2012-11-30T00:00:00",
          "2012-12-31T00:00:00",
          "2013-01-31T00:00:00",
          "2013-02-28T00:00:00",
          "2013-03-31T00:00:00",
          "2013-04-30T00:00:00",
          "2013-05-31T00:00:00",
          "2013-06-30T00:00:00",
          "2013-07-31T00:00:00",
          "2013-08-31T00:00:00",
          "2013-09-30T00:00:00",
          "2013-10-31T00:00:00",
          "2013-11-30T00:00:00",
          "2013-12-31T00:00:00",
          "2014-01-31T00:00:00",
          "2014-02-28T00:00:00",
          "2014-03-31T00:00:00",
          "2014-04-30T00:00:00",
          "2014-05-31T00:00:00",
          "2014-06-30T00:00:00",
          "2014-07-31T00:00:00",
          "2014-08-31T00:00:00",
          "2014-09-30T00:00:00",
          "2014-10-31T00:00:00",
          "2014-11-30T00:00:00",
          "2014-12-31T00:00:00",
          "2015-01-31T00:00:00",
          "2015-02-28T00:00:00",
          "2015-03-31T00:00:00",
          "2015-04-30T00:00:00",
          "2015-05-31T00:00:00",
          "2015-06-30T00:00:00",
          "2015-07-31T00:00:00",
          "2015-08-31T00:00:00",
          "2015-09-30T00:00:00",
          "2015-10-31T00:00:00",
          "2015-11-30T00:00:00",
          "2015-12-31T00:00:00",
          "2016-01-31T00:00:00",
          "2016-02-29T00:00:00",
          "2016-03-31T00:00:00",
          "2016-04-30T00:00:00",
          "2016-05-31T00:00:00",
          "2016-06-30T00:00:00",
          "2016-07-31T00:00:00",
          "2016-08-31T00:00:00",
          "2016-09-30T00:00:00",
          "2016-10-31T00:00:00",
          "2016-11-30T00:00:00",
          "2016-12-31T00:00:00",
          "2017-01-31T00:00:00",
          "2017-02-28T00:00:00",
          "2017-03-31T00:00:00",
          "2017-04-30T00:00:00",
          "2017-05-31T00:00:00",
          "2017-06-30T00:00:00",
          "2017-07-31T00:00:00",
          "2017-08-31T00:00:00",
          "2017-09-30T00:00:00",
          "2017-10-31T00:00:00",
          "2017-11-30T00:00:00",
          "2017-12-31T00:00:00",
          "2018-01-31T00:00:00",
          "2018-02-28T00:00:00",
          "2018-03-31T00:00:00",
          "2018-04-30T00:00:00",
          "2018-05-31T00:00:00",
          "2018-06-30T00:00:00",
          "2018-07-31T00:00:00",
          "2018-08-31T00:00:00",
          "2018-09-30T00:00:00",
          "2018-10-31T00:00:00",
          "2018-11-30T00:00:00",
          "2018-12-31T00:00:00",
          "2019-01-31T00:00:00",
          "2019-02-28T00:00:00",
          "2019-03-31T00:00:00",
          "2019-04-30T00:00:00",
          "2019-05-31T00:00:00",
          "2019-06-30T00:00:00",
          "2019-07-31T00:00:00",
          "2019-08-31T00:00:00",
          "2019-09-30T00:00:00",
          "2019-10-31T00:00:00",
          "2019-11-30T00:00:00",
          "2019-12-31T00:00:00",
          "2020-01-31T00:00:00",
          "2020-02-29T00:00:00",
          "2020-03-31T00:00:00",
          "2020-04-30T00:00:00",
          "2020-05-31T00:00:00",
          "2020-06-30T00:00:00",
          "2020-07-31T00:00:00",
          "2020-08-31T00:00:00",
          "2020-09-30T00:00:00",
          "2020-10-31T00:00:00",
          "2020-11-30T00:00:00",
          "2020-12-31T00:00:00",
          "2021-01-31T00:00:00",
          "2021-02-28T00:00:00",
          "2021-03-31T00:00:00",
          "2021-04-30T00:00:00",
          "2021-05-31T00:00:00",
          "2021-06-30T00:00:00",
          "2021-07-31T00:00:00",
          "2021-08-31T00:00:00",
          "2021-09-30T00:00:00",
          "2021-10-31T00:00:00",
          "2021-11-30T00:00:00",
          "2021-12-31T00:00:00",
          "2022-01-31T00:00:00",
          "2022-02-28T00:00:00",
          "2022-03-31T00:00:00",
          "2022-04-30T00:00:00",
          "2022-05-31T00:00:00",
          "2022-06-30T00:00:00",
          "2022-07-31T00:00:00",
          "2022-08-31T00:00:00",
          "2022-09-30T00:00:00",
          "2022-10-31T00:00:00",
          "2022-11-30T00:00:00"
         ],
         "y": [
          -0.09825288339327366,
          -0.07333023801819184,
          0.00010470719120127061,
          0.012890265042408495,
          0.032492280613001516,
          -0.07611703648984441,
          -0.11958006663665349,
          0.01561665371124282,
          0.10112105215752674,
          -0.10933130334017721,
          0.012753618673926392,
          0.047394165615526666,
          -0.1129458659019284,
          -0.060418363131817185,
          0.012696236907560028,
          0.004888849067598441,
          -5.7252357111646196e-05,
          -0.04273672546123816,
          -0.06685285283933012,
          0.01822683466054048,
          0.034973309082230536,
          -0.05812367364543473,
          0.1944192793439235,
          0.05227250472664598,
          -0.15008469831024,
          -0.010170655216370911,
          -0.03739006572823548,
          -0.03363666576102829,
          0.01580283164482569,
          0.10670899145065466,
          -0.10021425434541716,
          0.09527878323208312,
          -0.020975482165412705,
          0.12943013166218817,
          -0.029403403019593086,
          -0.0657406025809209,
          -0.03126085275967847,
          -0.04042705128298745,
          0.006553888466789347,
          -0.1246451584610499,
          0.03644396355737309,
          -0.07702573206827375,
          -0.07182150120220404,
          -0.0003618599696724165,
          -0.03411828797780887,
          -0.08828931522393293,
          -0.03012720703474269,
          -0.10142540979554933,
          -0.10693599035168735,
          -0.031841659106654416,
          0.026942071331441077,
          -0.07382690091150275,
          -0.08211282135421985,
          0.005391905949948731,
          -0.12329848660993456,
          -0.16910478613019037,
          -0.012471603003001134,
          0.062258785339497955,
          0.3390718309093434,
          -0.14343956920520268,
          -0.06322086359802377,
          -0.11180886175144092,
          0.01500625686616134,
          -0.1780162230424608,
          -0.03811009975046797,
          0.06341872397370772,
          -0.01632048947770217,
          -0.06975256476389163,
          -0.17107715945686267,
          -0.1790969201770773,
          -0.10809844416963642,
          0.09143714075728752,
          -0.028764808622365048,
          -0.14115127714364245,
          -0.10660382034053846,
          0.05446103046885317,
          -0.12255636587686253,
          0.07162971651781423,
          -0.07891105939453018,
          -0.09312019710767121,
          -0.04060228123639314,
          0.0747980102706638,
          -0.05222262514465597,
          0.14397332361951856,
          -0.06267555552840641,
          0.10933965915277691,
          0.13824151531683374,
          0.18728637653588193,
          0.056810158960633746,
          0.037780295470729225,
          -0.04591555347871802,
          -0.00220073406933455,
          0.20448288673533085,
          0.10194074865563887,
          0.10862401772397207,
          0.1611379622869949,
          0.034602690846292986,
          -0.14758988059641218,
          0.01736820586182312,
          0.05680555008233769,
          0.08747359594528263,
          -0.005818601708608768,
          0.048882893087584596,
          0.06717702212315271,
          -0.041254510665846754,
          -0.10018479214673937,
          0.010164604771421929,
          0.15347133804453206,
          -0.14610434952724305,
          -0.07429551116910466,
          0.03656079749663141,
          -0.051009468508357886,
          0.09769596344957682,
          0.06394465677549122,
          0.03482857137083274,
          -0.03810731051005137,
          0.022868190739750764,
          0.05096871808986655,
          -0.02461992006420548,
          0.0039521286692626775,
          0.018312879893730018,
          -0.08523463786392527,
          0.10956406909683143,
          -0.0636720555306248,
          0.05107652284943882,
          0.002700003607971984,
          -0.041202459616808976,
          0.03415768540499362,
          0.046988657053565676,
          0.026652159258625158,
          0.12863542261318578,
          0.21854238120133926,
          -0.10170017519587488,
          -0.1437392682681686,
          0.03779515587716191,
          -0.06111404839011277,
          -0.04240579896596049,
          -0.04283759777043268,
          -0.038932785602197165,
          -0.0003683677863860652,
          0.06017883688365432,
          -0.18086204513940315,
          -0.04215358481979206,
          -0.02937662855048586,
          -0.06131672950605127,
          -0.08959328704022108,
          0.1836835449414028,
          -0.12429685761723518,
          0.028175133154296844,
          -0.16365977645945243,
          0.0032572688814558205,
          0.054976355006402265,
          -0.13127896070463005,
          -0.012351878978879611,
          0.05353023446453521
         ]
        }
       ],
       "layout": {
        "template": {
         "data": {
          "bar": [
           {
            "error_x": {
             "color": "#2a3f5f"
            },
            "error_y": {
             "color": "#2a3f5f"
            },
            "marker": {
             "line": {
              "color": "#E5ECF6",
              "width": 0.5
             },
             "pattern": {
              "fillmode": "overlay",
              "size": 10,
              "solidity": 0.2
             }
            },
            "type": "bar"
           }
          ],
          "barpolar": [
           {
            "marker": {
             "line": {
              "color": "#E5ECF6",
              "width": 0.5
             },
             "pattern": {
              "fillmode": "overlay",
              "size": 10,
              "solidity": 0.2
             }
            },
            "type": "barpolar"
           }
          ],
          "carpet": [
           {
            "aaxis": {
             "endlinecolor": "#2a3f5f",
             "gridcolor": "white",
             "linecolor": "white",
             "minorgridcolor": "white",
             "startlinecolor": "#2a3f5f"
            },
            "baxis": {
             "endlinecolor": "#2a3f5f",
             "gridcolor": "white",
             "linecolor": "white",
             "minorgridcolor": "white",
             "startlinecolor": "#2a3f5f"
            },
            "type": "carpet"
           }
          ],
          "choropleth": [
           {
            "colorbar": {
             "outlinewidth": 0,
             "ticks": ""
            },
            "type": "choropleth"
           }
          ],
          "contour": [
           {
            "colorbar": {
             "outlinewidth": 0,
             "ticks": ""
            },
            "colorscale": [
             [
              0,
              "#0d0887"
             ],
             [
              0.1111111111111111,
              "#46039f"
             ],
             [
              0.2222222222222222,
              "#7201a8"
             ],
             [
              0.3333333333333333,
              "#9c179e"
             ],
             [
              0.4444444444444444,
              "#bd3786"
             ],
             [
              0.5555555555555556,
              "#d8576b"
             ],
             [
              0.6666666666666666,
              "#ed7953"
             ],
             [
              0.7777777777777778,
              "#fb9f3a"
             ],
             [
              0.8888888888888888,
              "#fdca26"
             ],
             [
              1,
              "#f0f921"
             ]
            ],
            "type": "contour"
           }
          ],
          "contourcarpet": [
           {
            "colorbar": {
             "outlinewidth": 0,
             "ticks": ""
            },
            "type": "contourcarpet"
           }
          ],
          "heatmap": [
           {
            "colorbar": {
             "outlinewidth": 0,
             "ticks": ""
            },
            "colorscale": [
             [
              0,
              "#0d0887"
             ],
             [
              0.1111111111111111,
              "#46039f"
             ],
             [
              0.2222222222222222,
              "#7201a8"
             ],
             [
              0.3333333333333333,
              "#9c179e"
             ],
             [
              0.4444444444444444,
              "#bd3786"
             ],
             [
              0.5555555555555556,
              "#d8576b"
             ],
             [
              0.6666666666666666,
              "#ed7953"
             ],
             [
              0.7777777777777778,
              "#fb9f3a"
             ],
             [
              0.8888888888888888,
              "#fdca26"
             ],
             [
              1,
              "#f0f921"
             ]
            ],
            "type": "heatmap"
           }
          ],
          "heatmapgl": [
           {
            "colorbar": {
             "outlinewidth": 0,
             "ticks": ""
            },
            "colorscale": [
             [
              0,
              "#0d0887"
             ],
             [
              0.1111111111111111,
              "#46039f"
             ],
             [
              0.2222222222222222,
              "#7201a8"
             ],
             [
              0.3333333333333333,
              "#9c179e"
             ],
             [
              0.4444444444444444,
              "#bd3786"
             ],
             [
              0.5555555555555556,
              "#d8576b"
             ],
             [
              0.6666666666666666,
              "#ed7953"
             ],
             [
              0.7777777777777778,
              "#fb9f3a"
             ],
             [
              0.8888888888888888,
              "#fdca26"
             ],
             [
              1,
              "#f0f921"
             ]
            ],
            "type": "heatmapgl"
           }
          ],
          "histogram": [
           {
            "marker": {
             "pattern": {
              "fillmode": "overlay",
              "size": 10,
              "solidity": 0.2
             }
            },
            "type": "histogram"
           }
          ],
          "histogram2d": [
           {
            "colorbar": {
             "outlinewidth": 0,
             "ticks": ""
            },
            "colorscale": [
             [
              0,
              "#0d0887"
             ],
             [
              0.1111111111111111,
              "#46039f"
             ],
             [
              0.2222222222222222,
              "#7201a8"
             ],
             [
              0.3333333333333333,
              "#9c179e"
             ],
             [
              0.4444444444444444,
              "#bd3786"
             ],
             [
              0.5555555555555556,
              "#d8576b"
             ],
             [
              0.6666666666666666,
              "#ed7953"
             ],
             [
              0.7777777777777778,
              "#fb9f3a"
             ],
             [
              0.8888888888888888,
              "#fdca26"
             ],
             [
              1,
              "#f0f921"
             ]
            ],
            "type": "histogram2d"
           }
          ],
          "histogram2dcontour": [
           {
            "colorbar": {
             "outlinewidth": 0,
             "ticks": ""
            },
            "colorscale": [
             [
              0,
              "#0d0887"
             ],
             [
              0.1111111111111111,
              "#46039f"
             ],
             [
              0.2222222222222222,
              "#7201a8"
             ],
             [
              0.3333333333333333,
              "#9c179e"
             ],
             [
              0.4444444444444444,
              "#bd3786"
             ],
             [
              0.5555555555555556,
              "#d8576b"
             ],
             [
              0.6666666666666666,
              "#ed7953"
             ],
             [
              0.7777777777777778,
              "#fb9f3a"
             ],
             [
              0.8888888888888888,
              "#fdca26"
             ],
             [
              1,
              "#f0f921"
             ]
            ],
            "type": "histogram2dcontour"
           }
          ],
          "mesh3d": [
           {
            "colorbar": {
             "outlinewidth": 0,
             "ticks": ""
            },
            "type": "mesh3d"
           }
          ],
          "parcoords": [
           {
            "line": {
             "colorbar": {
              "outlinewidth": 0,
              "ticks": ""
             }
            },
            "type": "parcoords"
           }
          ],
          "pie": [
           {
            "automargin": true,
            "type": "pie"
           }
          ],
          "scatter": [
           {
            "fillpattern": {
             "fillmode": "overlay",
             "size": 10,
             "solidity": 0.2
            },
            "type": "scatter"
           }
          ],
          "scatter3d": [
           {
            "line": {
             "colorbar": {
              "outlinewidth": 0,
              "ticks": ""
             }
            },
            "marker": {
             "colorbar": {
              "outlinewidth": 0,
              "ticks": ""
             }
            },
            "type": "scatter3d"
           }
          ],
          "scattercarpet": [
           {
            "marker": {
             "colorbar": {
              "outlinewidth": 0,
              "ticks": ""
             }
            },
            "type": "scattercarpet"
           }
          ],
          "scattergeo": [
           {
            "marker": {
             "colorbar": {
              "outlinewidth": 0,
              "ticks": ""
             }
            },
            "type": "scattergeo"
           }
          ],
          "scattergl": [
           {
            "marker": {
             "colorbar": {
              "outlinewidth": 0,
              "ticks": ""
             }
            },
            "type": "scattergl"
           }
          ],
          "scattermapbox": [
           {
            "marker": {
             "colorbar": {
              "outlinewidth": 0,
              "ticks": ""
             }
            },
            "type": "scattermapbox"
           }
          ],
          "scatterpolar": [
           {
            "marker": {
             "colorbar": {
              "outlinewidth": 0,
              "ticks": ""
             }
            },
            "type": "scatterpolar"
           }
          ],
          "scatterpolargl": [
           {
            "marker": {
             "colorbar": {
              "outlinewidth": 0,
              "ticks": ""
             }
            },
            "type": "scatterpolargl"
           }
          ],
          "scatterternary": [
           {
            "marker": {
             "colorbar": {
              "outlinewidth": 0,
              "ticks": ""
             }
            },
            "type": "scatterternary"
           }
          ],
          "surface": [
           {
            "colorbar": {
             "outlinewidth": 0,
             "ticks": ""
            },
            "colorscale": [
             [
              0,
              "#0d0887"
             ],
             [
              0.1111111111111111,
              "#46039f"
             ],
             [
              0.2222222222222222,
              "#7201a8"
             ],
             [
              0.3333333333333333,
              "#9c179e"
             ],
             [
              0.4444444444444444,
              "#bd3786"
             ],
             [
              0.5555555555555556,
              "#d8576b"
             ],
             [
              0.6666666666666666,
              "#ed7953"
             ],
             [
              0.7777777777777778,
              "#fb9f3a"
             ],
             [
              0.8888888888888888,
              "#fdca26"
             ],
             [
              1,
              "#f0f921"
             ]
            ],
            "type": "surface"
           }
          ],
          "table": [
           {
            "cells": {
             "fill": {
              "color": "#EBF0F8"
             },
             "line": {
              "color": "white"
             }
            },
            "header": {
             "fill": {
              "color": "#C8D4E3"
             },
             "line": {
              "color": "white"
             }
            },
            "type": "table"
           }
          ]
         },
         "layout": {
          "annotationdefaults": {
           "arrowcolor": "#2a3f5f",
           "arrowhead": 0,
           "arrowwidth": 1
          },
          "autotypenumbers": "strict",
          "coloraxis": {
           "colorbar": {
            "outlinewidth": 0,
            "ticks": ""
           }
          },
          "colorscale": {
           "diverging": [
            [
             0,
             "#8e0152"
            ],
            [
             0.1,
             "#c51b7d"
            ],
            [
             0.2,
             "#de77ae"
            ],
            [
             0.3,
             "#f1b6da"
            ],
            [
             0.4,
             "#fde0ef"
            ],
            [
             0.5,
             "#f7f7f7"
            ],
            [
             0.6,
             "#e6f5d0"
            ],
            [
             0.7,
             "#b8e186"
            ],
            [
             0.8,
             "#7fbc41"
            ],
            [
             0.9,
             "#4d9221"
            ],
            [
             1,
             "#276419"
            ]
           ],
           "sequential": [
            [
             0,
             "#0d0887"
            ],
            [
             0.1111111111111111,
             "#46039f"
            ],
            [
             0.2222222222222222,
             "#7201a8"
            ],
            [
             0.3333333333333333,
             "#9c179e"
            ],
            [
             0.4444444444444444,
             "#bd3786"
            ],
            [
             0.5555555555555556,
             "#d8576b"
            ],
            [
             0.6666666666666666,
             "#ed7953"
            ],
            [
             0.7777777777777778,
             "#fb9f3a"
            ],
            [
             0.8888888888888888,
             "#fdca26"
            ],
            [
             1,
             "#f0f921"
            ]
           ],
           "sequentialminus": [
            [
             0,
             "#0d0887"
            ],
            [
             0.1111111111111111,
             "#46039f"
            ],
            [
             0.2222222222222222,
             "#7201a8"
            ],
            [
             0.3333333333333333,
             "#9c179e"
            ],
            [
             0.4444444444444444,
             "#bd3786"
            ],
            [
             0.5555555555555556,
             "#d8576b"
            ],
            [
             0.6666666666666666,
             "#ed7953"
            ],
            [
             0.7777777777777778,
             "#fb9f3a"
            ],
            [
             0.8888888888888888,
             "#fdca26"
            ],
            [
             1,
             "#f0f921"
            ]
           ]
          },
          "colorway": [
           "#636efa",
           "#EF553B",
           "#00cc96",
           "#ab63fa",
           "#FFA15A",
           "#19d3f3",
           "#FF6692",
           "#B6E880",
           "#FF97FF",
           "#FECB52"
          ],
          "font": {
           "color": "#2a3f5f"
          },
          "geo": {
           "bgcolor": "white",
           "lakecolor": "white",
           "landcolor": "#E5ECF6",
           "showlakes": true,
           "showland": true,
           "subunitcolor": "white"
          },
          "hoverlabel": {
           "align": "left"
          },
          "hovermode": "closest",
          "mapbox": {
           "style": "light"
          },
          "paper_bgcolor": "white",
          "plot_bgcolor": "#E5ECF6",
          "polar": {
           "angularaxis": {
            "gridcolor": "white",
            "linecolor": "white",
            "ticks": ""
           },
           "bgcolor": "#E5ECF6",
           "radialaxis": {
            "gridcolor": "white",
            "linecolor": "white",
            "ticks": ""
           }
          },
          "scene": {
           "xaxis": {
            "backgroundcolor": "#E5ECF6",
            "gridcolor": "white",
            "gridwidth": 2,
            "linecolor": "white",
            "showbackground": true,
            "ticks": "",
            "zerolinecolor": "white"
           },
           "yaxis": {
            "backgroundcolor": "#E5ECF6",
            "gridcolor": "white",
            "gridwidth": 2,
            "linecolor": "white",
            "showbackground": true,
            "ticks": "",
            "zerolinecolor": "white"
           },
           "zaxis": {
            "backgroundcolor": "#E5ECF6",
            "gridcolor": "white",
            "gridwidth": 2,
            "linecolor": "white",
            "showbackground": true,
            "ticks": "",
            "zerolinecolor": "white"
           }
          },
          "shapedefaults": {
           "line": {
            "color": "#2a3f5f"
           }
          },
          "ternary": {
           "aaxis": {
            "gridcolor": "white",
            "linecolor": "white",
            "ticks": ""
           },
           "baxis": {
            "gridcolor": "white",
            "linecolor": "white",
            "ticks": ""
           },
           "bgcolor": "#E5ECF6",
           "caxis": {
            "gridcolor": "white",
            "linecolor": "white",
            "ticks": ""
           }
          },
          "title": {
           "x": 0.05
          },
          "xaxis": {
           "automargin": true,
           "gridcolor": "white",
           "linecolor": "white",
           "ticks": "",
           "title": {
            "standoff": 15
           },
           "zerolinecolor": "white",
           "zerolinewidth": 2
          },
          "yaxis": {
           "automargin": true,
           "gridcolor": "white",
           "linecolor": "white",
           "ticks": "",
           "title": {
            "standoff": 15
           },
           "zerolinecolor": "white",
           "zerolinewidth": 2
          }
         }
        },
        "title": {
         "text": "ic series"
        },
        "xaxis": {
         "anchor": "y",
         "domain": [
          0,
          1
         ]
        },
        "yaxis": {
         "anchor": "x",
         "domain": [
          0,
          1
         ]
        }
       }
      },
      "text/html": [
       "<div>                            <div id=\"e6f7d5e0-b7ce-44c3-9b1e-21f1bd1fbaad\" class=\"plotly-graph-div\" style=\"height:525px; width:100%;\"></div>            <script type=\"text/javascript\">                require([\"plotly\"], function(Plotly) {                    window.PLOTLYENV=window.PLOTLYENV || {};                                    if (document.getElementById(\"e6f7d5e0-b7ce-44c3-9b1e-21f1bd1fbaad\")) {                    Plotly.newPlot(                        \"e6f7d5e0-b7ce-44c3-9b1e-21f1bd1fbaad\",                        [{\"name\":\"ic_ma12\",\"x\":[\"2010-01-31T00:00:00\",\"2010-02-28T00:00:00\",\"2010-03-31T00:00:00\",\"2010-04-30T00:00:00\",\"2010-05-31T00:00:00\",\"2010-06-30T00:00:00\",\"2010-07-31T00:00:00\",\"2010-08-31T00:00:00\",\"2010-09-30T00:00:00\",\"2010-10-31T00:00:00\",\"2010-11-30T00:00:00\",\"2010-12-31T00:00:00\",\"2011-01-31T00:00:00\",\"2011-02-28T00:00:00\",\"2011-03-31T00:00:00\",\"2011-04-30T00:00:00\",\"2011-05-31T00:00:00\",\"2011-06-30T00:00:00\",\"2011-07-31T00:00:00\",\"2011-08-31T00:00:00\",\"2011-09-30T00:00:00\",\"2011-10-31T00:00:00\",\"2011-11-30T00:00:00\",\"2011-12-31T00:00:00\",\"2012-01-31T00:00:00\",\"2012-02-29T00:00:00\",\"2012-03-31T00:00:00\",\"2012-04-30T00:00:00\",\"2012-05-31T00:00:00\",\"2012-06-30T00:00:00\",\"2012-07-31T00:00:00\",\"2012-08-31T00:00:00\",\"2012-09-30T00:00:00\",\"2012-10-31T00:00:00\",\"2012-11-30T00:00:00\",\"2012-12-31T00:00:00\",\"2013-01-31T00:00:00\",\"2013-02-28T00:00:00\",\"2013-03-31T00:00:00\",\"2013-04-30T00:00:00\",\"2013-05-31T00:00:00\",\"2013-06-30T00:00:00\",\"2013-07-31T00:00:00\",\"2013-08-31T00:00:00\",\"2013-09-30T00:00:00\",\"2013-10-31T00:00:00\",\"2013-11-30T00:00:00\",\"2013-12-31T00:00:00\",\"2014-01-31T00:00:00\",\"2014-02-28T00:00:00\",\"2014-03-31T00:00:00\",\"2014-04-30T00:00:00\",\"2014-05-31T00:00:00\",\"2014-06-30T00:00:00\",\"2014-07-31T00:00:00\",\"2014-08-31T00:00:00\",\"2014-09-30T00:00:00\",\"2014-10-31T00:00:00\",\"2014-11-30T00:00:00\",\"2014-12-31T00:00:00\",\"2015-01-31T00:00:00\",\"2015-02-28T00:00:00\",\"2015-03-31T00:00:00\",\"2015-04-30T00:00:00\",\"2015-05-31T00:00:00\",\"2015-06-30T00:00:00\",\"2015-07-31T00:00:00\",\"2015-08-31T00:00:00\",\"2015-09-30T00:00:00\",\"2015-10-31T00:00:00\",\"2015-11-30T00:00:00\",\"2015-12-31T00:00:00\",\"2016-01-31T00:00:00\",\"2016-02-29T00:00:00\",\"2016-03-31T00:00:00\",\"2016-04-30T00:00:00\",\"2016-05-31T00:00:00\",\"2016-06-30T00:00:00\",\"2016-07-31T00:00:00\",\"2016-08-31T00:00:00\",\"2016-09-30T00:00:00\",\"2016-10-31T00:00:00\",\"2016-11-30T00:00:00\",\"2016-12-31T00:00:00\",\"2017-01-31T00:00:00\",\"2017-02-28T00:00:00\",\"2017-03-31T00:00:00\",\"2017-04-30T00:00:00\",\"2017-05-31T00:00:00\",\"2017-06-30T00:00:00\",\"2017-07-31T00:00:00\",\"2017-08-31T00:00:00\",\"2017-09-30T00:00:00\",\"2017-10-31T00:00:00\",\"2017-11-30T00:00:00\",\"2017-12-31T00:00:00\",\"2018-01-31T00:00:00\",\"2018-02-28T00:00:00\",\"2018-03-31T00:00:00\",\"2018-04-30T00:00:00\",\"2018-05-31T00:00:00\",\"2018-06-30T00:00:00\",\"2018-07-31T00:00:00\",\"2018-08-31T00:00:00\",\"2018-09-30T00:00:00\",\"2018-10-31T00:00:00\",\"2018-11-30T00:00:00\",\"2018-12-31T00:00:00\",\"2019-01-31T00:00:00\",\"2019-02-28T00:00:00\",\"2019-03-31T00:00:00\",\"2019-04-30T00:00:00\",\"2019-05-31T00:00:00\",\"2019-06-30T00:00:00\",\"2019-07-31T00:00:00\",\"2019-08-31T00:00:00\",\"2019-09-30T00:00:00\",\"2019-10-31T00:00:00\",\"2019-11-30T00:00:00\",\"2019-12-31T00:00:00\",\"2020-01-31T00:00:00\",\"2020-02-29T00:00:00\",\"2020-03-31T00:00:00\",\"2020-04-30T00:00:00\",\"2020-05-31T00:00:00\",\"2020-06-30T00:00:00\",\"2020-07-31T00:00:00\",\"2020-08-31T00:00:00\",\"2020-09-30T00:00:00\",\"2020-10-31T00:00:00\",\"2020-11-30T00:00:00\",\"2020-12-31T00:00:00\",\"2021-01-31T00:00:00\",\"2021-02-28T00:00:00\",\"2021-03-31T00:00:00\",\"2021-04-30T00:00:00\",\"2021-05-31T00:00:00\",\"2021-06-30T00:00:00\",\"2021-07-31T00:00:00\",\"2021-08-31T00:00:00\",\"2021-09-30T00:00:00\",\"2021-10-31T00:00:00\",\"2021-11-30T00:00:00\",\"2021-12-31T00:00:00\",\"2022-01-31T00:00:00\",\"2022-02-28T00:00:00\",\"2022-03-31T00:00:00\",\"2022-04-30T00:00:00\",\"2022-05-31T00:00:00\",\"2022-06-30T00:00:00\",\"2022-07-31T00:00:00\",\"2022-08-31T00:00:00\",\"2022-09-30T00:00:00\",\"2022-10-31T00:00:00\",\"2022-11-30T00:00:00\"],\"y\":[null,null,null,null,null,null,null,null,null,null,null,-0.02118656540610889,-0.022410980615163455,-0.021334991041298896,-0.020285696898269003,-0.02095248156283651,-0.02366494264367927,-0.020883250057962086,-0.016489315574851802,-0.016271800495743664,-0.021784112418685015,-0.01751680994412314,-0.0023780048882900487,-0.0019714766290301056,-0.005066379329722738,-0.0008790703367688819,-0.005052928889751841,-0.00826338845880407,-0.006941714791975956,0.0055120949506817785,0.002731978158507859,0.00915297387280308,0.004490574602166143,0.020120058377801384,0.001468168180841668,-0.00836625742812224,0.001535729701091221,-0.0009856366377934906,0.002676359545125245,-0.004907681513209888,-0.0031875871871642723,-0.01849881414707497,-0.016132751385140545,-0.02410280498528684,-0.025198038802986527,-0.04334132604349661,-0.043401643044759075,-0.046375376979311454,-0.052681638445312186,-0.05196618909728443,-0.05026717385856345,-0.04603231906276786,-0.05591205113873394,-0.049043914637215406,-0.053333663421192945,-0.06739557393456945,-0.06559168352000212,-0.053046008473049557,-0.022279421977709046,-0.025780601928513492,-0.022137674699041526,-0.028801608252773735,-0.029796259458213712,-0.038478702969126886,-0.03481180950214756,-0.029976241333500974,-0.021061408239148278,-0.012782056458623384,-0.025999186163111847,-0.04611216162282645,-0.08337635121274144,-0.06380329204920059,-0.06093195413456235,-0.06337715541724583,-0.07351132851780413,-0.05413822405852797,-0.06117541290239418,-0.06049116352371864,-0.06570704435012098,-0.06765434704543594,-0.05678144052706347,-0.03562352965641839,-0.030967211404336687,-0.026589196165817435,-0.02941509174132088,-0.0085408470499526,0.011862930921495082,0.022931709760414143,0.03787892016353884,0.03505813507628175,0.037807760569266095,0.04538438248912749,0.06580814648677115,0.06807004135218574,0.08147392825790474,0.08290431481352777,0.09101083534475272,0.06960004036565363,0.05952726457773608,0.04865386237327405,0.05120914878866147,0.04757590735704997,0.05547577790424185,0.06125725758694913,0.040779141136850994,0.023935346069986138,0.01573039499060696,0.015091509637068389,3.258960594038537e-05,0.006140453724882681,0.007739836361116705,-0.0012447485214412597,-0.00039288456275007763,0.005420720310924921,0.004249526834528933,-0.004524167551571407,0.0008193908988950524,0.013415516751945545,0.010516806348976594,-0.0019431277656291872,0.0117583080194519,0.010846714128216849,0.016930320094900184,0.015875104509711278,0.011990151126366443,0.0068864300290731725,0.0005505107801030296,0.0065725937730234454,0.008582632632508021,0.006556252729904573,0.019327531286353842,0.037210052330693556,0.027208964406559816,0.022333578539539534,0.016352835771233743,0.016566003032943085,0.008775809548326472,0.004981009433459418,0.005170148934677069,0.0022929778353954285,0.0033921594879028154,-0.013900690878599542,-0.028133108164681033,-0.04879302564399979,-0.04542773850318116,-0.040915573400852195,-0.028758207645498787,-0.03402344174775899,-0.028141697404404212,-0.03821021229515586,-0.03469437442151811,-0.03008231418878575,-0.046037130654476115,-0.03199461680776582,-0.024020965200738553],\"type\":\"scatter\"},{\"name\":\"ic\",\"x\":[\"2010-01-31T00:00:00\",\"2010-02-28T00:00:00\",\"2010-03-31T00:00:00\",\"2010-04-30T00:00:00\",\"2010-05-31T00:00:00\",\"2010-06-30T00:00:00\",\"2010-07-31T00:00:00\",\"2010-08-31T00:00:00\",\"2010-09-30T00:00:00\",\"2010-10-31T00:00:00\",\"2010-11-30T00:00:00\",\"2010-12-31T00:00:00\",\"2011-01-31T00:00:00\",\"2011-02-28T00:00:00\",\"2011-03-31T00:00:00\",\"2011-04-30T00:00:00\",\"2011-05-31T00:00:00\",\"2011-06-30T00:00:00\",\"2011-07-31T00:00:00\",\"2011-08-31T00:00:00\",\"2011-09-30T00:00:00\",\"2011-10-31T00:00:00\",\"2011-11-30T00:00:00\",\"2011-12-31T00:00:00\",\"2012-01-31T00:00:00\",\"2012-02-29T00:00:00\",\"2012-03-31T00:00:00\",\"2012-04-30T00:00:00\",\"2012-05-31T00:00:00\",\"2012-06-30T00:00:00\",\"2012-07-31T00:00:00\",\"2012-08-31T00:00:00\",\"2012-09-30T00:00:00\",\"2012-10-31T00:00:00\",\"2012-11-30T00:00:00\",\"2012-12-31T00:00:00\",\"2013-01-31T00:00:00\",\"2013-02-28T00:00:00\",\"2013-03-31T00:00:00\",\"2013-04-30T00:00:00\",\"2013-05-31T00:00:00\",\"2013-06-30T00:00:00\",\"2013-07-31T00:00:00\",\"2013-08-31T00:00:00\",\"2013-09-30T00:00:00\",\"2013-10-31T00:00:00\",\"2013-11-30T00:00:00\",\"2013-12-31T00:00:00\",\"2014-01-31T00:00:00\",\"2014-02-28T00:00:00\",\"2014-03-31T00:00:00\",\"2014-04-30T00:00:00\",\"2014-05-31T00:00:00\",\"2014-06-30T00:00:00\",\"2014-07-31T00:00:00\",\"2014-08-31T00:00:00\",\"2014-09-30T00:00:00\",\"2014-10-31T00:00:00\",\"2014-11-30T00:00:00\",\"2014-12-31T00:00:00\",\"2015-01-31T00:00:00\",\"2015-02-28T00:00:00\",\"2015-03-31T00:00:00\",\"2015-04-30T00:00:00\",\"2015-05-31T00:00:00\",\"2015-06-30T00:00:00\",\"2015-07-31T00:00:00\",\"2015-08-31T00:00:00\",\"2015-09-30T00:00:00\",\"2015-10-31T00:00:00\",\"2015-11-30T00:00:00\",\"2015-12-31T00:00:00\",\"2016-01-31T00:00:00\",\"2016-02-29T00:00:00\",\"2016-03-31T00:00:00\",\"2016-04-30T00:00:00\",\"2016-05-31T00:00:00\",\"2016-06-30T00:00:00\",\"2016-07-31T00:00:00\",\"2016-08-31T00:00:00\",\"2016-09-30T00:00:00\",\"2016-10-31T00:00:00\",\"2016-11-30T00:00:00\",\"2016-12-31T00:00:00\",\"2017-01-31T00:00:00\",\"2017-02-28T00:00:00\",\"2017-03-31T00:00:00\",\"2017-04-30T00:00:00\",\"2017-05-31T00:00:00\",\"2017-06-30T00:00:00\",\"2017-07-31T00:00:00\",\"2017-08-31T00:00:00\",\"2017-09-30T00:00:00\",\"2017-10-31T00:00:00\",\"2017-11-30T00:00:00\",\"2017-12-31T00:00:00\",\"2018-01-31T00:00:00\",\"2018-02-28T00:00:00\",\"2018-03-31T00:00:00\",\"2018-04-30T00:00:00\",\"2018-05-31T00:00:00\",\"2018-06-30T00:00:00\",\"2018-07-31T00:00:00\",\"2018-08-31T00:00:00\",\"2018-09-30T00:00:00\",\"2018-10-31T00:00:00\",\"2018-11-30T00:00:00\",\"2018-12-31T00:00:00\",\"2019-01-31T00:00:00\",\"2019-02-28T00:00:00\",\"2019-03-31T00:00:00\",\"2019-04-30T00:00:00\",\"2019-05-31T00:00:00\",\"2019-06-30T00:00:00\",\"2019-07-31T00:00:00\",\"2019-08-31T00:00:00\",\"2019-09-30T00:00:00\",\"2019-10-31T00:00:00\",\"2019-11-30T00:00:00\",\"2019-12-31T00:00:00\",\"2020-01-31T00:00:00\",\"2020-02-29T00:00:00\",\"2020-03-31T00:00:00\",\"2020-04-30T00:00:00\",\"2020-05-31T00:00:00\",\"2020-06-30T00:00:00\",\"2020-07-31T00:00:00\",\"2020-08-31T00:00:00\",\"2020-09-30T00:00:00\",\"2020-10-31T00:00:00\",\"2020-11-30T00:00:00\",\"2020-12-31T00:00:00\",\"2021-01-31T00:00:00\",\"2021-02-28T00:00:00\",\"2021-03-31T00:00:00\",\"2021-04-30T00:00:00\",\"2021-05-31T00:00:00\",\"2021-06-30T00:00:00\",\"2021-07-31T00:00:00\",\"2021-08-31T00:00:00\",\"2021-09-30T00:00:00\",\"2021-10-31T00:00:00\",\"2021-11-30T00:00:00\",\"2021-12-31T00:00:00\",\"2022-01-31T00:00:00\",\"2022-02-28T00:00:00\",\"2022-03-31T00:00:00\",\"2022-04-30T00:00:00\",\"2022-05-31T00:00:00\",\"2022-06-30T00:00:00\",\"2022-07-31T00:00:00\",\"2022-08-31T00:00:00\",\"2022-09-30T00:00:00\",\"2022-10-31T00:00:00\",\"2022-11-30T00:00:00\"],\"y\":[-0.09825288339327366,-0.07333023801819184,0.00010470719120127061,0.012890265042408495,0.032492280613001516,-0.07611703648984441,-0.11958006663665349,0.01561665371124282,0.10112105215752674,-0.10933130334017721,0.012753618673926392,0.047394165615526666,-0.1129458659019284,-0.060418363131817185,0.012696236907560028,0.004888849067598441,-5.7252357111646196e-05,-0.04273672546123816,-0.06685285283933012,0.01822683466054048,0.034973309082230536,-0.05812367364543473,0.1944192793439235,0.05227250472664598,-0.15008469831024,-0.010170655216370911,-0.03739006572823548,-0.03363666576102829,0.01580283164482569,0.10670899145065466,-0.10021425434541716,0.09527878323208312,-0.020975482165412705,0.12943013166218817,-0.029403403019593086,-0.0657406025809209,-0.03126085275967847,-0.04042705128298745,0.006553888466789347,-0.1246451584610499,0.03644396355737309,-0.07702573206827375,-0.07182150120220404,-0.0003618599696724165,-0.03411828797780887,-0.08828931522393293,-0.03012720703474269,-0.10142540979554933,-0.10693599035168735,-0.031841659106654416,0.026942071331441077,-0.07382690091150275,-0.08211282135421985,0.005391905949948731,-0.12329848660993456,-0.16910478613019037,-0.012471603003001134,0.062258785339497955,0.3390718309093434,-0.14343956920520268,-0.06322086359802377,-0.11180886175144092,0.01500625686616134,-0.1780162230424608,-0.03811009975046797,0.06341872397370772,-0.01632048947770217,-0.06975256476389163,-0.17107715945686267,-0.1790969201770773,-0.10809844416963642,0.09143714075728752,-0.028764808622365048,-0.14115127714364245,-0.10660382034053846,0.05446103046885317,-0.12255636587686253,0.07162971651781423,-0.07891105939453018,-0.09312019710767121,-0.04060228123639314,0.0747980102706638,-0.05222262514465597,0.14397332361951856,-0.06267555552840641,0.10933965915277691,0.13824151531683374,0.18728637653588193,0.056810158960633746,0.037780295470729225,-0.04591555347871802,-0.00220073406933455,0.20448288673533085,0.10194074865563887,0.10862401772397207,0.1611379622869949,0.034602690846292986,-0.14758988059641218,0.01736820586182312,0.05680555008233769,0.08747359594528263,-0.005818601708608768,0.048882893087584596,0.06717702212315271,-0.041254510665846754,-0.10018479214673937,0.010164604771421929,0.15347133804453206,-0.14610434952724305,-0.07429551116910466,0.03656079749663141,-0.051009468508357886,0.09769596344957682,0.06394465677549122,0.03482857137083274,-0.03810731051005137,0.022868190739750764,0.05096871808986655,-0.02461992006420548,0.0039521286692626775,0.018312879893730018,-0.08523463786392527,0.10956406909683143,-0.0636720555306248,0.05107652284943882,0.002700003607971984,-0.041202459616808976,0.03415768540499362,0.046988657053565676,0.026652159258625158,0.12863542261318578,0.21854238120133926,-0.10170017519587488,-0.1437392682681686,0.03779515587716191,-0.06111404839011277,-0.04240579896596049,-0.04283759777043268,-0.038932785602197165,-0.0003683677863860652,0.06017883688365432,-0.18086204513940315,-0.04215358481979206,-0.02937662855048586,-0.06131672950605127,-0.08959328704022108,0.1836835449414028,-0.12429685761723518,0.028175133154296844,-0.16365977645945243,0.0032572688814558205,0.054976355006402265,-0.13127896070463005,-0.012351878978879611,0.05353023446453521],\"type\":\"bar\"}],                        {\"template\":{\"data\":{\"histogram2dcontour\":[{\"type\":\"histogram2dcontour\",\"colorbar\":{\"outlinewidth\":0,\"ticks\":\"\"},\"colorscale\":[[0.0,\"#0d0887\"],[0.1111111111111111,\"#46039f\"],[0.2222222222222222,\"#7201a8\"],[0.3333333333333333,\"#9c179e\"],[0.4444444444444444,\"#bd3786\"],[0.5555555555555556,\"#d8576b\"],[0.6666666666666666,\"#ed7953\"],[0.7777777777777778,\"#fb9f3a\"],[0.8888888888888888,\"#fdca26\"],[1.0,\"#f0f921\"]]}],\"choropleth\":[{\"type\":\"choropleth\",\"colorbar\":{\"outlinewidth\":0,\"ticks\":\"\"}}],\"histogram2d\":[{\"type\":\"histogram2d\",\"colorbar\":{\"outlinewidth\":0,\"ticks\":\"\"},\"colorscale\":[[0.0,\"#0d0887\"],[0.1111111111111111,\"#46039f\"],[0.2222222222222222,\"#7201a8\"],[0.3333333333333333,\"#9c179e\"],[0.4444444444444444,\"#bd3786\"],[0.5555555555555556,\"#d8576b\"],[0.6666666666666666,\"#ed7953\"],[0.7777777777777778,\"#fb9f3a\"],[0.8888888888888888,\"#fdca26\"],[1.0,\"#f0f921\"]]}],\"heatmap\":[{\"type\":\"heatmap\",\"colorbar\":{\"outlinewidth\":0,\"ticks\":\"\"},\"colorscale\":[[0.0,\"#0d0887\"],[0.1111111111111111,\"#46039f\"],[0.2222222222222222,\"#7201a8\"],[0.3333333333333333,\"#9c179e\"],[0.4444444444444444,\"#bd3786\"],[0.5555555555555556,\"#d8576b\"],[0.6666666666666666,\"#ed7953\"],[0.7777777777777778,\"#fb9f3a\"],[0.8888888888888888,\"#fdca26\"],[1.0,\"#f0f921\"]]}],\"heatmapgl\":[{\"type\":\"heatmapgl\",\"colorbar\":{\"outlinewidth\":0,\"ticks\":\"\"},\"colorscale\":[[0.0,\"#0d0887\"],[0.1111111111111111,\"#46039f\"],[0.2222222222222222,\"#7201a8\"],[0.3333333333333333,\"#9c179e\"],[0.4444444444444444,\"#bd3786\"],[0.5555555555555556,\"#d8576b\"],[0.6666666666666666,\"#ed7953\"],[0.7777777777777778,\"#fb9f3a\"],[0.8888888888888888,\"#fdca26\"],[1.0,\"#f0f921\"]]}],\"contourcarpet\":[{\"type\":\"contourcarpet\",\"colorbar\":{\"outlinewidth\":0,\"ticks\":\"\"}}],\"contour\":[{\"type\":\"contour\",\"colorbar\":{\"outlinewidth\":0,\"ticks\":\"\"},\"colorscale\":[[0.0,\"#0d0887\"],[0.1111111111111111,\"#46039f\"],[0.2222222222222222,\"#7201a8\"],[0.3333333333333333,\"#9c179e\"],[0.4444444444444444,\"#bd3786\"],[0.5555555555555556,\"#d8576b\"],[0.6666666666666666,\"#ed7953\"],[0.7777777777777778,\"#fb9f3a\"],[0.8888888888888888,\"#fdca26\"],[1.0,\"#f0f921\"]]}],\"surface\":[{\"type\":\"surface\",\"colorbar\":{\"outlinewidth\":0,\"ticks\":\"\"},\"colorscale\":[[0.0,\"#0d0887\"],[0.1111111111111111,\"#46039f\"],[0.2222222222222222,\"#7201a8\"],[0.3333333333333333,\"#9c179e\"],[0.4444444444444444,\"#bd3786\"],[0.5555555555555556,\"#d8576b\"],[0.6666666666666666,\"#ed7953\"],[0.7777777777777778,\"#fb9f3a\"],[0.8888888888888888,\"#fdca26\"],[1.0,\"#f0f921\"]]}],\"mesh3d\":[{\"type\":\"mesh3d\",\"colorbar\":{\"outlinewidth\":0,\"ticks\":\"\"}}],\"scatter\":[{\"fillpattern\":{\"fillmode\":\"overlay\",\"size\":10,\"solidity\":0.2},\"type\":\"scatter\"}],\"parcoords\":[{\"type\":\"parcoords\",\"line\":{\"colorbar\":{\"outlinewidth\":0,\"ticks\":\"\"}}}],\"scatterpolargl\":[{\"type\":\"scatterpolargl\",\"marker\":{\"colorbar\":{\"outlinewidth\":0,\"ticks\":\"\"}}}],\"bar\":[{\"error_x\":{\"color\":\"#2a3f5f\"},\"error_y\":{\"color\":\"#2a3f5f\"},\"marker\":{\"line\":{\"color\":\"#E5ECF6\",\"width\":0.5},\"pattern\":{\"fillmode\":\"overlay\",\"size\":10,\"solidity\":0.2}},\"type\":\"bar\"}],\"scattergeo\":[{\"type\":\"scattergeo\",\"marker\":{\"colorbar\":{\"outlinewidth\":0,\"ticks\":\"\"}}}],\"scatterpolar\":[{\"type\":\"scatterpolar\",\"marker\":{\"colorbar\":{\"outlinewidth\":0,\"ticks\":\"\"}}}],\"histogram\":[{\"marker\":{\"pattern\":{\"fillmode\":\"overlay\",\"size\":10,\"solidity\":0.2}},\"type\":\"histogram\"}],\"scattergl\":[{\"type\":\"scattergl\",\"marker\":{\"colorbar\":{\"outlinewidth\":0,\"ticks\":\"\"}}}],\"scatter3d\":[{\"type\":\"scatter3d\",\"line\":{\"colorbar\":{\"outlinewidth\":0,\"ticks\":\"\"}},\"marker\":{\"colorbar\":{\"outlinewidth\":0,\"ticks\":\"\"}}}],\"scattermapbox\":[{\"type\":\"scattermapbox\",\"marker\":{\"colorbar\":{\"outlinewidth\":0,\"ticks\":\"\"}}}],\"scatterternary\":[{\"type\":\"scatterternary\",\"marker\":{\"colorbar\":{\"outlinewidth\":0,\"ticks\":\"\"}}}],\"scattercarpet\":[{\"type\":\"scattercarpet\",\"marker\":{\"colorbar\":{\"outlinewidth\":0,\"ticks\":\"\"}}}],\"carpet\":[{\"aaxis\":{\"endlinecolor\":\"#2a3f5f\",\"gridcolor\":\"white\",\"linecolor\":\"white\",\"minorgridcolor\":\"white\",\"startlinecolor\":\"#2a3f5f\"},\"baxis\":{\"endlinecolor\":\"#2a3f5f\",\"gridcolor\":\"white\",\"linecolor\":\"white\",\"minorgridcolor\":\"white\",\"startlinecolor\":\"#2a3f5f\"},\"type\":\"carpet\"}],\"table\":[{\"cells\":{\"fill\":{\"color\":\"#EBF0F8\"},\"line\":{\"color\":\"white\"}},\"header\":{\"fill\":{\"color\":\"#C8D4E3\"},\"line\":{\"color\":\"white\"}},\"type\":\"table\"}],\"barpolar\":[{\"marker\":{\"line\":{\"color\":\"#E5ECF6\",\"width\":0.5},\"pattern\":{\"fillmode\":\"overlay\",\"size\":10,\"solidity\":0.2}},\"type\":\"barpolar\"}],\"pie\":[{\"automargin\":true,\"type\":\"pie\"}]},\"layout\":{\"autotypenumbers\":\"strict\",\"colorway\":[\"#636efa\",\"#EF553B\",\"#00cc96\",\"#ab63fa\",\"#FFA15A\",\"#19d3f3\",\"#FF6692\",\"#B6E880\",\"#FF97FF\",\"#FECB52\"],\"font\":{\"color\":\"#2a3f5f\"},\"hovermode\":\"closest\",\"hoverlabel\":{\"align\":\"left\"},\"paper_bgcolor\":\"white\",\"plot_bgcolor\":\"#E5ECF6\",\"polar\":{\"bgcolor\":\"#E5ECF6\",\"angularaxis\":{\"gridcolor\":\"white\",\"linecolor\":\"white\",\"ticks\":\"\"},\"radialaxis\":{\"gridcolor\":\"white\",\"linecolor\":\"white\",\"ticks\":\"\"}},\"ternary\":{\"bgcolor\":\"#E5ECF6\",\"aaxis\":{\"gridcolor\":\"white\",\"linecolor\":\"white\",\"ticks\":\"\"},\"baxis\":{\"gridcolor\":\"white\",\"linecolor\":\"white\",\"ticks\":\"\"},\"caxis\":{\"gridcolor\":\"white\",\"linecolor\":\"white\",\"ticks\":\"\"}},\"coloraxis\":{\"colorbar\":{\"outlinewidth\":0,\"ticks\":\"\"}},\"colorscale\":{\"sequential\":[[0.0,\"#0d0887\"],[0.1111111111111111,\"#46039f\"],[0.2222222222222222,\"#7201a8\"],[0.3333333333333333,\"#9c179e\"],[0.4444444444444444,\"#bd3786\"],[0.5555555555555556,\"#d8576b\"],[0.6666666666666666,\"#ed7953\"],[0.7777777777777778,\"#fb9f3a\"],[0.8888888888888888,\"#fdca26\"],[1.0,\"#f0f921\"]],\"sequentialminus\":[[0.0,\"#0d0887\"],[0.1111111111111111,\"#46039f\"],[0.2222222222222222,\"#7201a8\"],[0.3333333333333333,\"#9c179e\"],[0.4444444444444444,\"#bd3786\"],[0.5555555555555556,\"#d8576b\"],[0.6666666666666666,\"#ed7953\"],[0.7777777777777778,\"#fb9f3a\"],[0.8888888888888888,\"#fdca26\"],[1.0,\"#f0f921\"]],\"diverging\":[[0,\"#8e0152\"],[0.1,\"#c51b7d\"],[0.2,\"#de77ae\"],[0.3,\"#f1b6da\"],[0.4,\"#fde0ef\"],[0.5,\"#f7f7f7\"],[0.6,\"#e6f5d0\"],[0.7,\"#b8e186\"],[0.8,\"#7fbc41\"],[0.9,\"#4d9221\"],[1,\"#276419\"]]},\"xaxis\":{\"gridcolor\":\"white\",\"linecolor\":\"white\",\"ticks\":\"\",\"title\":{\"standoff\":15},\"zerolinecolor\":\"white\",\"automargin\":true,\"zerolinewidth\":2},\"yaxis\":{\"gridcolor\":\"white\",\"linecolor\":\"white\",\"ticks\":\"\",\"title\":{\"standoff\":15},\"zerolinecolor\":\"white\",\"automargin\":true,\"zerolinewidth\":2},\"scene\":{\"xaxis\":{\"backgroundcolor\":\"#E5ECF6\",\"gridcolor\":\"white\",\"linecolor\":\"white\",\"showbackground\":true,\"ticks\":\"\",\"zerolinecolor\":\"white\",\"gridwidth\":2},\"yaxis\":{\"backgroundcolor\":\"#E5ECF6\",\"gridcolor\":\"white\",\"linecolor\":\"white\",\"showbackground\":true,\"ticks\":\"\",\"zerolinecolor\":\"white\",\"gridwidth\":2},\"zaxis\":{\"backgroundcolor\":\"#E5ECF6\",\"gridcolor\":\"white\",\"linecolor\":\"white\",\"showbackground\":true,\"ticks\":\"\",\"zerolinecolor\":\"white\",\"gridwidth\":2}},\"shapedefaults\":{\"line\":{\"color\":\"#2a3f5f\"}},\"annotationdefaults\":{\"arrowcolor\":\"#2a3f5f\",\"arrowhead\":0,\"arrowwidth\":1},\"geo\":{\"bgcolor\":\"white\",\"landcolor\":\"#E5ECF6\",\"subunitcolor\":\"white\",\"showland\":true,\"showlakes\":true,\"lakecolor\":\"white\"},\"title\":{\"x\":0.05},\"mapbox\":{\"style\":\"light\"}}},\"xaxis\":{\"anchor\":\"y\",\"domain\":[0.0,1.0]},\"yaxis\":{\"anchor\":\"x\",\"domain\":[0.0,1.0]},\"title\":{\"text\":\"ic series\"}},                        {\"responsive\": true}                    ).then(function(){\n",
       "                            \n",
       "var gd = document.getElementById('e6f7d5e0-b7ce-44c3-9b1e-21f1bd1fbaad');\n",
       "var x = new MutationObserver(function (mutations, observer) {{\n",
       "        var display = window.getComputedStyle(gd).display;\n",
       "        if (!display || display === 'none') {{\n",
       "            console.log([gd, 'removed!']);\n",
       "            Plotly.purge(gd);\n",
       "            observer.disconnect();\n",
       "        }}\n",
       "}});\n",
       "\n",
       "// Listen for the removal of the full notebook cells\n",
       "var notebookContainer = gd.closest('#notebook-container');\n",
       "if (notebookContainer) {{\n",
       "    x.observe(notebookContainer, {childList: true});\n",
       "}}\n",
       "\n",
       "// Listen for the clearing of the current output cell\n",
       "var outputEl = gd.closest('.output');\n",
       "if (outputEl) {{\n",
       "    x.observe(outputEl, {childList: true});\n",
       "}}\n",
       "\n",
       "                        })                };                });            </script>        </div>"
      ]
     },
     "metadata": {},
     "output_type": "display_data"
    },
    {
     "data": {
      "application/vnd.plotly.v1+json": {
       "config": {
        "plotlyServerURL": "https://plot.ly"
       },
       "data": [
        {
         "hovertemplate": "circulating_market_cap_GN=0<br>date=%{x}<br>value=%{y}<extra></extra>",
         "legendgroup": "0",
         "line": {
          "color": "#636efa",
          "dash": "solid"
         },
         "marker": {
          "symbol": "circle"
         },
         "mode": "lines",
         "name": "0",
         "showlegend": true,
         "type": "scattergl",
         "x": [
          "2010-01-31T00:00:00",
          "2010-02-28T00:00:00",
          "2010-03-31T00:00:00",
          "2010-04-30T00:00:00",
          "2010-05-31T00:00:00",
          "2010-06-30T00:00:00",
          "2010-07-31T00:00:00",
          "2010-08-31T00:00:00",
          "2010-09-30T00:00:00",
          "2010-10-31T00:00:00",
          "2010-11-30T00:00:00",
          "2010-12-31T00:00:00",
          "2011-01-31T00:00:00",
          "2011-02-28T00:00:00",
          "2011-03-31T00:00:00",
          "2011-04-30T00:00:00",
          "2011-05-31T00:00:00",
          "2011-06-30T00:00:00",
          "2011-07-31T00:00:00",
          "2011-08-31T00:00:00",
          "2011-09-30T00:00:00",
          "2011-10-31T00:00:00",
          "2011-11-30T00:00:00",
          "2011-12-31T00:00:00",
          "2012-01-31T00:00:00",
          "2012-02-29T00:00:00",
          "2012-03-31T00:00:00",
          "2012-04-30T00:00:00",
          "2012-05-31T00:00:00",
          "2012-06-30T00:00:00",
          "2012-07-31T00:00:00",
          "2012-08-31T00:00:00",
          "2012-09-30T00:00:00",
          "2012-10-31T00:00:00",
          "2012-11-30T00:00:00",
          "2012-12-31T00:00:00",
          "2013-01-31T00:00:00",
          "2013-02-28T00:00:00",
          "2013-03-31T00:00:00",
          "2013-04-30T00:00:00",
          "2013-05-31T00:00:00",
          "2013-06-30T00:00:00",
          "2013-07-31T00:00:00",
          "2013-08-31T00:00:00",
          "2013-09-30T00:00:00",
          "2013-10-31T00:00:00",
          "2013-11-30T00:00:00",
          "2013-12-31T00:00:00",
          "2014-01-31T00:00:00",
          "2014-02-28T00:00:00",
          "2014-03-31T00:00:00",
          "2014-04-30T00:00:00",
          "2014-05-31T00:00:00",
          "2014-06-30T00:00:00",
          "2014-07-31T00:00:00",
          "2014-08-31T00:00:00",
          "2014-09-30T00:00:00",
          "2014-10-31T00:00:00",
          "2014-11-30T00:00:00",
          "2014-12-31T00:00:00",
          "2015-01-31T00:00:00",
          "2015-02-28T00:00:00",
          "2015-03-31T00:00:00",
          "2015-04-30T00:00:00",
          "2015-05-31T00:00:00",
          "2015-06-30T00:00:00",
          "2015-07-31T00:00:00",
          "2015-08-31T00:00:00",
          "2015-09-30T00:00:00",
          "2015-10-31T00:00:00",
          "2015-11-30T00:00:00",
          "2015-12-31T00:00:00",
          "2016-01-31T00:00:00",
          "2016-02-29T00:00:00",
          "2016-03-31T00:00:00",
          "2016-04-30T00:00:00",
          "2016-05-31T00:00:00",
          "2016-06-30T00:00:00",
          "2016-07-31T00:00:00",
          "2016-08-31T00:00:00",
          "2016-09-30T00:00:00",
          "2016-10-31T00:00:00",
          "2016-11-30T00:00:00",
          "2016-12-31T00:00:00",
          "2017-01-31T00:00:00",
          "2017-02-28T00:00:00",
          "2017-03-31T00:00:00",
          "2017-04-30T00:00:00",
          "2017-05-31T00:00:00",
          "2017-06-30T00:00:00",
          "2017-07-31T00:00:00",
          "2017-08-31T00:00:00",
          "2017-09-30T00:00:00",
          "2017-10-31T00:00:00",
          "2017-11-30T00:00:00",
          "2017-12-31T00:00:00",
          "2018-01-31T00:00:00",
          "2018-02-28T00:00:00",
          "2018-03-31T00:00:00",
          "2018-04-30T00:00:00",
          "2018-05-31T00:00:00",
          "2018-06-30T00:00:00",
          "2018-07-31T00:00:00",
          "2018-08-31T00:00:00",
          "2018-09-30T00:00:00",
          "2018-10-31T00:00:00",
          "2018-11-30T00:00:00",
          "2018-12-31T00:00:00",
          "2019-01-31T00:00:00",
          "2019-02-28T00:00:00",
          "2019-03-31T00:00:00",
          "2019-04-30T00:00:00",
          "2019-05-31T00:00:00",
          "2019-06-30T00:00:00",
          "2019-07-31T00:00:00",
          "2019-08-31T00:00:00",
          "2019-09-30T00:00:00",
          "2019-10-31T00:00:00",
          "2019-11-30T00:00:00",
          "2019-12-31T00:00:00",
          "2020-01-31T00:00:00",
          "2020-02-29T00:00:00",
          "2020-03-31T00:00:00",
          "2020-04-30T00:00:00",
          "2020-05-31T00:00:00",
          "2020-06-30T00:00:00",
          "2020-07-31T00:00:00",
          "2020-08-31T00:00:00",
          "2020-09-30T00:00:00",
          "2020-10-31T00:00:00",
          "2020-11-30T00:00:00",
          "2020-12-31T00:00:00",
          "2021-01-31T00:00:00",
          "2021-02-28T00:00:00",
          "2021-03-31T00:00:00",
          "2021-04-30T00:00:00",
          "2021-05-31T00:00:00",
          "2021-06-30T00:00:00",
          "2021-07-31T00:00:00",
          "2021-08-31T00:00:00",
          "2021-09-30T00:00:00",
          "2021-10-31T00:00:00",
          "2021-11-30T00:00:00",
          "2021-12-31T00:00:00",
          "2022-01-31T00:00:00",
          "2022-02-28T00:00:00",
          "2022-03-31T00:00:00",
          "2022-04-30T00:00:00",
          "2022-05-31T00:00:00",
          "2022-06-30T00:00:00",
          "2022-07-31T00:00:00",
          "2022-08-31T00:00:00",
          "2022-09-30T00:00:00",
          "2022-10-31T00:00:00",
          "2022-11-30T00:00:00"
         ],
         "xaxis": "x",
         "y": [
          0,
          -0.013344041756446656,
          -0.021271388072640396,
          -0.038111643860746836,
          -0.031817860350460525,
          -0.03685327147346684,
          -0.04540144739056129,
          -0.045986747856585075,
          -0.03568923091998444,
          -0.053519657517651975,
          -0.042430284358527914,
          -0.03794004927589156,
          -0.04549507657815677,
          -0.008806617725452326,
          0.013092090100969234,
          0.01882871716188017,
          0.016616830624231582,
          0.017450166286065993,
          0.04024553358570815,
          0.048526967859677805,
          0.0398919675608731,
          0.04078897019616479,
          0.01960152321550157,
          0.050388420608977524,
          0.04278292186133159,
          0.05165902517152898,
          0.07754575338214997,
          0.08420687767653412,
          0.0779022711225823,
          0.0817640538690445,
          0.13457185397811733,
          0.1368406030322089,
          0.13613025428893555,
          0.13040092719748997,
          0.1453258536450417,
          0.14741891608377422,
          0.127173183861929,
          0.11474680495238143,
          0.12012011734672057,
          0.10417078469026486,
          0.08489065364901016,
          0.06933854486529034,
          0.08325664138573696,
          0.0518738334605664,
          0.06489997630363242,
          0.06157409085858245,
          0.061285115591504624,
          0.03552730993386133,
          0.05121506906989026,
          0.056893284878345884,
          0.058766419694495475,
          0.056405857028936524,
          0.05456065136687349,
          0.06910165991111383,
          0.06834480315091773,
          0.09354640830977967,
          0.11243793809428282,
          0.12901741242616604,
          0.1305422791791293,
          0.12013451142593534,
          0.12108108739020662,
          0.11350867005094223,
          0.15024616509400435,
          0.1242627810094632,
          0.1673361377340754,
          0.1561049278004747,
          0.18541984244715493,
          0.18594629670010843,
          0.2030093274385969,
          0.22735913714970657,
          0.2939584855298185,
          0.29609658316406473,
          0.31243130626667903,
          0.32500675237736654,
          0.3524630648173661,
          0.3293374203027799,
          0.3279555853764322,
          0.3522224832118497,
          0.38173740495020847,
          0.4196144393692458,
          0.43198505946242527,
          0.4463202846954317,
          0.4677588228710896,
          0.46996061582102366,
          0.48229508315365344,
          0.47244373017699415,
          0.4673395042625115,
          0.4514617842805475,
          0.45166335326667206,
          0.47281782249494864,
          0.475671477297142,
          0.4624829340453114,
          0.4618407321165332,
          0.4355441441057275,
          0.42961787781816274,
          0.43065782544232434,
          0.39855717117941003,
          0.38850911985655934,
          0.38315843763990887,
          0.42578956982808824,
          0.42376106089131893,
          0.4368279409777036,
          0.4367390639863933,
          0.46390925122676907,
          0.4832204679858554,
          0.4690719292802097,
          0.4629195233476264,
          0.4624547369846066,
          0.460891810151953,
          0.4602541133659941,
          0.4885404077955755,
          0.48914169802096774,
          0.49524581760456754,
          0.48255014104927096,
          0.4482830658223538,
          0.4464248043248522,
          0.4503837595628959,
          0.4469862153066704,
          0.4374734795419233,
          0.3785401689057797,
          0.3397634518175441,
          0.37814096960630184,
          0.3429742263138409,
          0.37416434032355084,
          0.3741124667766311,
          0.3900849779520974,
          0.40567115015958155,
          0.41222263258521386,
          0.4015434625656529,
          0.4096763344095746,
          0.43863439664508586,
          0.40185260266770273,
          0.3927331048969809,
          0.4048088976446482,
          0.43354308395230223,
          0.45097825145993475,
          0.43223748512535676,
          0.3831523431400474,
          0.38806336435789346,
          0.4079037320061327,
          0.39565727063990197,
          0.3968513360619301,
          0.3801576903757111,
          0.386935082890391,
          0.4006962989787193,
          0.39225398361596997,
          0.4215821688806689,
          0.43064015998874083,
          0.43604710864869434,
          0.4670494597550945,
          0.4827395339666338,
          0.4844503315601185,
          0.43511786663100094,
          0.4442200229410529,
          0.47422801590034913
         ],
         "yaxis": "y"
        },
        {
         "hovertemplate": "circulating_market_cap_GN=1<br>date=%{x}<br>value=%{y}<extra></extra>",
         "legendgroup": "1",
         "line": {
          "color": "#EF553B",
          "dash": "solid"
         },
         "marker": {
          "symbol": "circle"
         },
         "mode": "lines",
         "name": "1",
         "showlegend": true,
         "type": "scattergl",
         "x": [
          "2010-01-31T00:00:00",
          "2010-02-28T00:00:00",
          "2010-03-31T00:00:00",
          "2010-04-30T00:00:00",
          "2010-05-31T00:00:00",
          "2010-06-30T00:00:00",
          "2010-07-31T00:00:00",
          "2010-08-31T00:00:00",
          "2010-09-30T00:00:00",
          "2010-10-31T00:00:00",
          "2010-11-30T00:00:00",
          "2010-12-31T00:00:00",
          "2011-01-31T00:00:00",
          "2011-02-28T00:00:00",
          "2011-03-31T00:00:00",
          "2011-04-30T00:00:00",
          "2011-05-31T00:00:00",
          "2011-06-30T00:00:00",
          "2011-07-31T00:00:00",
          "2011-08-31T00:00:00",
          "2011-09-30T00:00:00",
          "2011-10-31T00:00:00",
          "2011-11-30T00:00:00",
          "2011-12-31T00:00:00",
          "2012-01-31T00:00:00",
          "2012-02-29T00:00:00",
          "2012-03-31T00:00:00",
          "2012-04-30T00:00:00",
          "2012-05-31T00:00:00",
          "2012-06-30T00:00:00",
          "2012-07-31T00:00:00",
          "2012-08-31T00:00:00",
          "2012-09-30T00:00:00",
          "2012-10-31T00:00:00",
          "2012-11-30T00:00:00",
          "2012-12-31T00:00:00",
          "2013-01-31T00:00:00",
          "2013-02-28T00:00:00",
          "2013-03-31T00:00:00",
          "2013-04-30T00:00:00",
          "2013-05-31T00:00:00",
          "2013-06-30T00:00:00",
          "2013-07-31T00:00:00",
          "2013-08-31T00:00:00",
          "2013-09-30T00:00:00",
          "2013-10-31T00:00:00",
          "2013-11-30T00:00:00",
          "2013-12-31T00:00:00",
          "2014-01-31T00:00:00",
          "2014-02-28T00:00:00",
          "2014-03-31T00:00:00",
          "2014-04-30T00:00:00",
          "2014-05-31T00:00:00",
          "2014-06-30T00:00:00",
          "2014-07-31T00:00:00",
          "2014-08-31T00:00:00",
          "2014-09-30T00:00:00",
          "2014-10-31T00:00:00",
          "2014-11-30T00:00:00",
          "2014-12-31T00:00:00",
          "2015-01-31T00:00:00",
          "2015-02-28T00:00:00",
          "2015-03-31T00:00:00",
          "2015-04-30T00:00:00",
          "2015-05-31T00:00:00",
          "2015-06-30T00:00:00",
          "2015-07-31T00:00:00",
          "2015-08-31T00:00:00",
          "2015-09-30T00:00:00",
          "2015-10-31T00:00:00",
          "2015-11-30T00:00:00",
          "2015-12-31T00:00:00",
          "2016-01-31T00:00:00",
          "2016-02-29T00:00:00",
          "2016-03-31T00:00:00",
          "2016-04-30T00:00:00",
          "2016-05-31T00:00:00",
          "2016-06-30T00:00:00",
          "2016-07-31T00:00:00",
          "2016-08-31T00:00:00",
          "2016-09-30T00:00:00",
          "2016-10-31T00:00:00",
          "2016-11-30T00:00:00",
          "2016-12-31T00:00:00",
          "2017-01-31T00:00:00",
          "2017-02-28T00:00:00",
          "2017-03-31T00:00:00",
          "2017-04-30T00:00:00",
          "2017-05-31T00:00:00",
          "2017-06-30T00:00:00",
          "2017-07-31T00:00:00",
          "2017-08-31T00:00:00",
          "2017-09-30T00:00:00",
          "2017-10-31T00:00:00",
          "2017-11-30T00:00:00",
          "2017-12-31T00:00:00",
          "2018-01-31T00:00:00",
          "2018-02-28T00:00:00",
          "2018-03-31T00:00:00",
          "2018-04-30T00:00:00",
          "2018-05-31T00:00:00",
          "2018-06-30T00:00:00",
          "2018-07-31T00:00:00",
          "2018-08-31T00:00:00",
          "2018-09-30T00:00:00",
          "2018-10-31T00:00:00",
          "2018-11-30T00:00:00",
          "2018-12-31T00:00:00",
          "2019-01-31T00:00:00",
          "2019-02-28T00:00:00",
          "2019-03-31T00:00:00",
          "2019-04-30T00:00:00",
          "2019-05-31T00:00:00",
          "2019-06-30T00:00:00",
          "2019-07-31T00:00:00",
          "2019-08-31T00:00:00",
          "2019-09-30T00:00:00",
          "2019-10-31T00:00:00",
          "2019-11-30T00:00:00",
          "2019-12-31T00:00:00",
          "2020-01-31T00:00:00",
          "2020-02-29T00:00:00",
          "2020-03-31T00:00:00",
          "2020-04-30T00:00:00",
          "2020-05-31T00:00:00",
          "2020-06-30T00:00:00",
          "2020-07-31T00:00:00",
          "2020-08-31T00:00:00",
          "2020-09-30T00:00:00",
          "2020-10-31T00:00:00",
          "2020-11-30T00:00:00",
          "2020-12-31T00:00:00",
          "2021-01-31T00:00:00",
          "2021-02-28T00:00:00",
          "2021-03-31T00:00:00",
          "2021-04-30T00:00:00",
          "2021-05-31T00:00:00",
          "2021-06-30T00:00:00",
          "2021-07-31T00:00:00",
          "2021-08-31T00:00:00",
          "2021-09-30T00:00:00",
          "2021-10-31T00:00:00",
          "2021-11-30T00:00:00",
          "2021-12-31T00:00:00",
          "2022-01-31T00:00:00",
          "2022-02-28T00:00:00",
          "2022-03-31T00:00:00",
          "2022-04-30T00:00:00",
          "2022-05-31T00:00:00",
          "2022-06-30T00:00:00",
          "2022-07-31T00:00:00",
          "2022-08-31T00:00:00",
          "2022-09-30T00:00:00",
          "2022-10-31T00:00:00",
          "2022-11-30T00:00:00"
         ],
         "xaxis": "x",
         "y": [
          0,
          0.022348342438538893,
          0.020844340399098327,
          0.029505075796774527,
          0.03994439414188666,
          0.049624707641735766,
          0.050035487267758194,
          0.05576369841353346,
          0.05772571360261147,
          0.06500831397355356,
          0.080098784516768,
          0.08307726726473419,
          0.0760780533170533,
          0.07187233302720841,
          0.05245165573165633,
          0.05505686796000542,
          0.05962141387305797,
          0.11401954940706105,
          0.12770398421746476,
          0.14504855902094738,
          0.13738991807160628,
          0.13973163823679502,
          0.12946621340353714,
          0.14469344517362814,
          0.15687851996149993,
          0.15193879846045344,
          0.16212616014661485,
          0.15862272259004428,
          0.15786006558630272,
          0.14314123803900136,
          0.1416653523238478,
          0.1458164678947662,
          0.15093963372774288,
          0.1548858319065829,
          0.15858004505512602,
          0.14287598672092083,
          0.16115818944149063,
          0.15316249646770808,
          0.14604824140292205,
          0.1380671931415809,
          0.12863062866831076,
          0.12105126505945707,
          0.13959318108502972,
          0.1560032508939626,
          0.17181611134226782,
          0.18577847136896786,
          0.1800690547587842,
          0.16205761916436434,
          0.17413251218724302,
          0.18574731489427276,
          0.18596347277523062,
          0.19717568316886425,
          0.20508246077900139,
          0.21864758194305378,
          0.23893227443950082,
          0.27014749699048757,
          0.2725531970158126,
          0.26047666963952554,
          0.24472157699871078,
          0.23083442396830933,
          0.2272862280163388,
          0.2413191135274353,
          0.28041236899921707,
          0.352153627215803,
          0.3658268817844985,
          0.3652598350256797,
          0.36968418286261584,
          0.3870304828239455,
          0.43817531803493326,
          0.5117169352703783,
          0.5525810232053587,
          0.5596347276176861,
          0.5662452399850819,
          0.5925523455955308,
          0.6370986396113298,
          0.6218107557462431,
          0.6464047979079393,
          0.6560169636668431,
          0.6797765374796396,
          0.7011304928115754,
          0.7134263454854943,
          0.7029800080830468,
          0.7171016501083545,
          0.7146432404320524,
          0.7278696570404004,
          0.736807310899722,
          0.7209553653707159,
          0.7110663666580714,
          0.7176158855152674,
          0.7209740797256432,
          0.7296387364222097,
          0.7399273322683839,
          0.7072067155911372,
          0.6764527597965211,
          0.6676138488234638,
          0.6596592961506418,
          0.64039887452188,
          0.6602877108021981,
          0.6811167325584337,
          0.6943794963774201,
          0.668024602875176,
          0.6628304903929867,
          0.6607012767652023,
          0.6612020161989196,
          0.6810437728953576,
          0.6834256007166524,
          0.6862377758496558,
          0.6691071636408699,
          0.6630347790000066,
          0.6537388634508601,
          0.6723165597772831,
          0.7231096512449264,
          0.7227115988365784,
          0.7245584293906715,
          0.7339798876772503,
          0.7173984828972191,
          0.7352510892375681,
          0.7195258759967245,
          0.7159777093285737,
          0.7255348619285866,
          0.7507961190798791,
          0.7812904949218626,
          0.7593040238345641,
          0.7479827650037567,
          0.7623745258239072,
          0.7599018650310647,
          0.7622893060053395,
          0.7705201630020595,
          0.7785991862708235,
          0.7823321988936893,
          0.7743409651948654,
          0.7277750344575982,
          0.7395885274456195,
          0.7680442116036124,
          0.7858446810470436,
          0.7922141823831053,
          0.8168731326291563,
          0.8906558832418137,
          0.8357335593073798,
          0.8554758813283219,
          0.8557710463848744,
          0.9192918614487613,
          0.9327652311313972,
          0.924705569003597,
          0.9273367810832027,
          0.9398809233260876,
          0.912014833306765,
          0.9453259108239704,
          0.9642698347563012,
          1.0344504167675423,
          1.0196786928981552,
          1.0196771451998976,
          1.0197797274943485,
          1.0253638197390096,
          0.9892266735653339
         ],
         "yaxis": "y"
        },
        {
         "hovertemplate": "circulating_market_cap_GN=2<br>date=%{x}<br>value=%{y}<extra></extra>",
         "legendgroup": "2",
         "line": {
          "color": "#00cc96",
          "dash": "solid"
         },
         "marker": {
          "symbol": "circle"
         },
         "mode": "lines",
         "name": "2",
         "showlegend": true,
         "type": "scattergl",
         "x": [
          "2010-01-31T00:00:00",
          "2010-02-28T00:00:00",
          "2010-03-31T00:00:00",
          "2010-04-30T00:00:00",
          "2010-05-31T00:00:00",
          "2010-06-30T00:00:00",
          "2010-07-31T00:00:00",
          "2010-08-31T00:00:00",
          "2010-09-30T00:00:00",
          "2010-10-31T00:00:00",
          "2010-11-30T00:00:00",
          "2010-12-31T00:00:00",
          "2011-01-31T00:00:00",
          "2011-02-28T00:00:00",
          "2011-03-31T00:00:00",
          "2011-04-30T00:00:00",
          "2011-05-31T00:00:00",
          "2011-06-30T00:00:00",
          "2011-07-31T00:00:00",
          "2011-08-31T00:00:00",
          "2011-09-30T00:00:00",
          "2011-10-31T00:00:00",
          "2011-11-30T00:00:00",
          "2011-12-31T00:00:00",
          "2012-01-31T00:00:00",
          "2012-02-29T00:00:00",
          "2012-03-31T00:00:00",
          "2012-04-30T00:00:00",
          "2012-05-31T00:00:00",
          "2012-06-30T00:00:00",
          "2012-07-31T00:00:00",
          "2012-08-31T00:00:00",
          "2012-09-30T00:00:00",
          "2012-10-31T00:00:00",
          "2012-11-30T00:00:00",
          "2012-12-31T00:00:00",
          "2013-01-31T00:00:00",
          "2013-02-28T00:00:00",
          "2013-03-31T00:00:00",
          "2013-04-30T00:00:00",
          "2013-05-31T00:00:00",
          "2013-06-30T00:00:00",
          "2013-07-31T00:00:00",
          "2013-08-31T00:00:00",
          "2013-09-30T00:00:00",
          "2013-10-31T00:00:00",
          "2013-11-30T00:00:00",
          "2013-12-31T00:00:00",
          "2014-01-31T00:00:00",
          "2014-02-28T00:00:00",
          "2014-03-31T00:00:00",
          "2014-04-30T00:00:00",
          "2014-05-31T00:00:00",
          "2014-06-30T00:00:00",
          "2014-07-31T00:00:00",
          "2014-08-31T00:00:00",
          "2014-09-30T00:00:00",
          "2014-10-31T00:00:00",
          "2014-11-30T00:00:00",
          "2014-12-31T00:00:00",
          "2015-01-31T00:00:00",
          "2015-02-28T00:00:00",
          "2015-03-31T00:00:00",
          "2015-04-30T00:00:00",
          "2015-05-31T00:00:00",
          "2015-06-30T00:00:00",
          "2015-07-31T00:00:00",
          "2015-08-31T00:00:00",
          "2015-09-30T00:00:00",
          "2015-10-31T00:00:00",
          "2015-11-30T00:00:00",
          "2015-12-31T00:00:00",
          "2016-01-31T00:00:00",
          "2016-02-29T00:00:00",
          "2016-03-31T00:00:00",
          "2016-04-30T00:00:00",
          "2016-05-31T00:00:00",
          "2016-06-30T00:00:00",
          "2016-07-31T00:00:00",
          "2016-08-31T00:00:00",
          "2016-09-30T00:00:00",
          "2016-10-31T00:00:00",
          "2016-11-30T00:00:00",
          "2016-12-31T00:00:00",
          "2017-01-31T00:00:00",
          "2017-02-28T00:00:00",
          "2017-03-31T00:00:00",
          "2017-04-30T00:00:00",
          "2017-05-31T00:00:00",
          "2017-06-30T00:00:00",
          "2017-07-31T00:00:00",
          "2017-08-31T00:00:00",
          "2017-09-30T00:00:00",
          "2017-10-31T00:00:00",
          "2017-11-30T00:00:00",
          "2017-12-31T00:00:00",
          "2018-01-31T00:00:00",
          "2018-02-28T00:00:00",
          "2018-03-31T00:00:00",
          "2018-04-30T00:00:00",
          "2018-05-31T00:00:00",
          "2018-06-30T00:00:00",
          "2018-07-31T00:00:00",
          "2018-08-31T00:00:00",
          "2018-09-30T00:00:00",
          "2018-10-31T00:00:00",
          "2018-11-30T00:00:00",
          "2018-12-31T00:00:00",
          "2019-01-31T00:00:00",
          "2019-02-28T00:00:00",
          "2019-03-31T00:00:00",
          "2019-04-30T00:00:00",
          "2019-05-31T00:00:00",
          "2019-06-30T00:00:00",
          "2019-07-31T00:00:00",
          "2019-08-31T00:00:00",
          "2019-09-30T00:00:00",
          "2019-10-31T00:00:00",
          "2019-11-30T00:00:00",
          "2019-12-31T00:00:00",
          "2020-01-31T00:00:00",
          "2020-02-29T00:00:00",
          "2020-03-31T00:00:00",
          "2020-04-30T00:00:00",
          "2020-05-31T00:00:00",
          "2020-06-30T00:00:00",
          "2020-07-31T00:00:00",
          "2020-08-31T00:00:00",
          "2020-09-30T00:00:00",
          "2020-10-31T00:00:00",
          "2020-11-30T00:00:00",
          "2020-12-31T00:00:00",
          "2021-01-31T00:00:00",
          "2021-02-28T00:00:00",
          "2021-03-31T00:00:00",
          "2021-04-30T00:00:00",
          "2021-05-31T00:00:00",
          "2021-06-30T00:00:00",
          "2021-07-31T00:00:00",
          "2021-08-31T00:00:00",
          "2021-09-30T00:00:00",
          "2021-10-31T00:00:00",
          "2021-11-30T00:00:00",
          "2021-12-31T00:00:00",
          "2022-01-31T00:00:00",
          "2022-02-28T00:00:00",
          "2022-03-31T00:00:00",
          "2022-04-30T00:00:00",
          "2022-05-31T00:00:00",
          "2022-06-30T00:00:00",
          "2022-07-31T00:00:00",
          "2022-08-31T00:00:00",
          "2022-09-30T00:00:00",
          "2022-10-31T00:00:00",
          "2022-11-30T00:00:00"
         ],
         "xaxis": "x",
         "y": [
          0,
          0.01984669741810552,
          0.005524628575133805,
          0.003628595262584744,
          -0.0033562573634193793,
          0.008788345217891624,
          0.034872914736873595,
          0.01834117738159291,
          -0.00867280079569721,
          0.026437418645565147,
          0.03102406257745116,
          0.03988730597813439,
          0.04976154332975358,
          0.06475964201565643,
          0.05893120062053159,
          0.06560880161507887,
          0.06499408546137309,
          0.06474573391504679,
          0.05617171122350473,
          0.05147328149540331,
          0.044833260464125724,
          0.04765389342137527,
          0.02847089346692111,
          0.02747934243061767,
          0.03119922521951657,
          0.03847827007874849,
          0.04433938865006248,
          0.051393634702835644,
          0.07385006245086223,
          0.0587601962083768,
          0.06962118363295122,
          0.06790822344857217,
          0.06755158811056838,
          0.07350348390464623,
          0.07739645541963758,
          0.08871744230387368,
          0.09063726624386037,
          0.09380036978208861,
          0.10149047679331336,
          0.10623573320836543,
          0.11108793525054539,
          0.12318834119069488,
          0.122971452325914,
          0.10568011364934349,
          0.12209753492595032,
          0.13951847757802516,
          0.1394896372614678,
          0.16743074301483118,
          0.18890951528844213,
          0.2013642929992534,
          0.20720287476355792,
          0.21898567772554278,
          0.24542858360225472,
          0.24441783479260182,
          0.2570837905076766,
          0.3049508723543508,
          0.3095290692466033,
          0.30928173351947796,
          0.23754034548617353,
          0.2634939159165868,
          0.2607854357338528,
          0.2884957774124568,
          0.30496851355700305,
          0.3739526175266923,
          0.40346496912307206,
          0.3787055204887628,
          0.38955702854603613,
          0.4343592079920464,
          0.48756412670441374,
          0.5343412180686986,
          0.5685118895851495,
          0.5808023926359436,
          0.5829048544976738,
          0.6337718464530535,
          0.6542282030118611,
          0.6841771597584394,
          0.7231409186225728,
          0.7072571477422511,
          0.7283231000871404,
          0.7342547025887682,
          0.7578442846680715,
          0.7764020119053996,
          0.7747116609451572,
          0.7600983575276932,
          0.7649777532225581,
          0.7493025962350435,
          0.7283174973702309,
          0.7255676284349717,
          0.7199630711803593,
          0.690640084009277,
          0.71549278329251,
          0.7366854737878785,
          0.7188868763168474,
          0.70340652236123,
          0.6970684697276242,
          0.6706900755547056,
          0.6589104826677687,
          0.7300384099807686,
          0.7402341762007798,
          0.7125226261206437,
          0.7204029098412874,
          0.7206833224762688,
          0.7302364062766324,
          0.7109427588923964,
          0.7289687428279119,
          0.7514335363221076,
          0.7633001091938396,
          0.7214900656036198,
          0.7528458060698215,
          0.7764831734255218,
          0.7682492711438083,
          0.8131047620642855,
          0.8190707850841261,
          0.8292103376500746,
          0.8385839203069978,
          0.8562039288785559,
          0.8550988549024305,
          0.8373323310577951,
          0.853966134563132,
          0.8683832946527654,
          0.8504635093051409,
          0.8928447442879754,
          0.8709694410249431,
          0.8581011977749562,
          0.8516712270017257,
          0.8625490400380058,
          0.8764101954397838,
          0.8872912452288126,
          0.9277397219889849,
          0.9249030675743557,
          0.8990913632552666,
          0.8304882698847615,
          0.8415197111449306,
          0.8694009222292152,
          0.8525714509802009,
          0.8904817164353447,
          0.9394874954686863,
          0.9472693895515576,
          0.9552130099056746,
          0.9646415041068901,
          0.970211375749015,
          1.0629539330348985,
          1.0929336875266702,
          1.1006605421205768,
          1.0977590711726077,
          1.1981202364230592,
          1.1655195251172414,
          1.1966393091790621,
          1.1889684482828473,
          1.2476829783270147,
          1.252231234327497,
          1.2591539746400873,
          1.2910415149956402,
          1.2951911683223263,
          1.2452586104176429
         ],
         "yaxis": "y"
        },
        {
         "hovertemplate": "circulating_market_cap_GN=3<br>date=%{x}<br>value=%{y}<extra></extra>",
         "legendgroup": "3",
         "line": {
          "color": "#ab63fa",
          "dash": "solid"
         },
         "marker": {
          "symbol": "circle"
         },
         "mode": "lines",
         "name": "3",
         "showlegend": true,
         "type": "scattergl",
         "x": [
          "2010-01-31T00:00:00",
          "2010-02-28T00:00:00",
          "2010-03-31T00:00:00",
          "2010-04-30T00:00:00",
          "2010-05-31T00:00:00",
          "2010-06-30T00:00:00",
          "2010-07-31T00:00:00",
          "2010-08-31T00:00:00",
          "2010-09-30T00:00:00",
          "2010-10-31T00:00:00",
          "2010-11-30T00:00:00",
          "2010-12-31T00:00:00",
          "2011-01-31T00:00:00",
          "2011-02-28T00:00:00",
          "2011-03-31T00:00:00",
          "2011-04-30T00:00:00",
          "2011-05-31T00:00:00",
          "2011-06-30T00:00:00",
          "2011-07-31T00:00:00",
          "2011-08-31T00:00:00",
          "2011-09-30T00:00:00",
          "2011-10-31T00:00:00",
          "2011-11-30T00:00:00",
          "2011-12-31T00:00:00",
          "2012-01-31T00:00:00",
          "2012-02-29T00:00:00",
          "2012-03-31T00:00:00",
          "2012-04-30T00:00:00",
          "2012-05-31T00:00:00",
          "2012-06-30T00:00:00",
          "2012-07-31T00:00:00",
          "2012-08-31T00:00:00",
          "2012-09-30T00:00:00",
          "2012-10-31T00:00:00",
          "2012-11-30T00:00:00",
          "2012-12-31T00:00:00",
          "2013-01-31T00:00:00",
          "2013-02-28T00:00:00",
          "2013-03-31T00:00:00",
          "2013-04-30T00:00:00",
          "2013-05-31T00:00:00",
          "2013-06-30T00:00:00",
          "2013-07-31T00:00:00",
          "2013-08-31T00:00:00",
          "2013-09-30T00:00:00",
          "2013-10-31T00:00:00",
          "2013-11-30T00:00:00",
          "2013-12-31T00:00:00",
          "2014-01-31T00:00:00",
          "2014-02-28T00:00:00",
          "2014-03-31T00:00:00",
          "2014-04-30T00:00:00",
          "2014-05-31T00:00:00",
          "2014-06-30T00:00:00",
          "2014-07-31T00:00:00",
          "2014-08-31T00:00:00",
          "2014-09-30T00:00:00",
          "2014-10-31T00:00:00",
          "2014-11-30T00:00:00",
          "2014-12-31T00:00:00",
          "2015-01-31T00:00:00",
          "2015-02-28T00:00:00",
          "2015-03-31T00:00:00",
          "2015-04-30T00:00:00",
          "2015-05-31T00:00:00",
          "2015-06-30T00:00:00",
          "2015-07-31T00:00:00",
          "2015-08-31T00:00:00",
          "2015-09-30T00:00:00",
          "2015-10-31T00:00:00",
          "2015-11-30T00:00:00",
          "2015-12-31T00:00:00",
          "2016-01-31T00:00:00",
          "2016-02-29T00:00:00",
          "2016-03-31T00:00:00",
          "2016-04-30T00:00:00",
          "2016-05-31T00:00:00",
          "2016-06-30T00:00:00",
          "2016-07-31T00:00:00",
          "2016-08-31T00:00:00",
          "2016-09-30T00:00:00",
          "2016-10-31T00:00:00",
          "2016-11-30T00:00:00",
          "2016-12-31T00:00:00",
          "2017-01-31T00:00:00",
          "2017-02-28T00:00:00",
          "2017-03-31T00:00:00",
          "2017-04-30T00:00:00",
          "2017-05-31T00:00:00",
          "2017-06-30T00:00:00",
          "2017-07-31T00:00:00",
          "2017-08-31T00:00:00",
          "2017-09-30T00:00:00",
          "2017-10-31T00:00:00",
          "2017-11-30T00:00:00",
          "2017-12-31T00:00:00",
          "2018-01-31T00:00:00",
          "2018-02-28T00:00:00",
          "2018-03-31T00:00:00",
          "2018-04-30T00:00:00",
          "2018-05-31T00:00:00",
          "2018-06-30T00:00:00",
          "2018-07-31T00:00:00",
          "2018-08-31T00:00:00",
          "2018-09-30T00:00:00",
          "2018-10-31T00:00:00",
          "2018-11-30T00:00:00",
          "2018-12-31T00:00:00",
          "2019-01-31T00:00:00",
          "2019-02-28T00:00:00",
          "2019-03-31T00:00:00",
          "2019-04-30T00:00:00",
          "2019-05-31T00:00:00",
          "2019-06-30T00:00:00",
          "2019-07-31T00:00:00",
          "2019-08-31T00:00:00",
          "2019-09-30T00:00:00",
          "2019-10-31T00:00:00",
          "2019-11-30T00:00:00",
          "2019-12-31T00:00:00",
          "2020-01-31T00:00:00",
          "2020-02-29T00:00:00",
          "2020-03-31T00:00:00",
          "2020-04-30T00:00:00",
          "2020-05-31T00:00:00",
          "2020-06-30T00:00:00",
          "2020-07-31T00:00:00",
          "2020-08-31T00:00:00",
          "2020-09-30T00:00:00",
          "2020-10-31T00:00:00",
          "2020-11-30T00:00:00",
          "2020-12-31T00:00:00",
          "2021-01-31T00:00:00",
          "2021-02-28T00:00:00",
          "2021-03-31T00:00:00",
          "2021-04-30T00:00:00",
          "2021-05-31T00:00:00",
          "2021-06-30T00:00:00",
          "2021-07-31T00:00:00",
          "2021-08-31T00:00:00",
          "2021-09-30T00:00:00",
          "2021-10-31T00:00:00",
          "2021-11-30T00:00:00",
          "2021-12-31T00:00:00",
          "2022-01-31T00:00:00",
          "2022-02-28T00:00:00",
          "2022-03-31T00:00:00",
          "2022-04-30T00:00:00",
          "2022-05-31T00:00:00",
          "2022-06-30T00:00:00",
          "2022-07-31T00:00:00",
          "2022-08-31T00:00:00",
          "2022-09-30T00:00:00",
          "2022-10-31T00:00:00",
          "2022-11-30T00:00:00"
         ],
         "xaxis": "x",
         "y": [
          0,
          0.007949071625868553,
          0.003099209504408229,
          0.004967083696499008,
          0.009098950894807611,
          0.023545768682133428,
          0.03607477914890067,
          0.019143069879540064,
          0.004226331479369794,
          0.010392029384988843,
          0.012659732304886484,
          0.02119878977727918,
          0.02901315117419556,
          0.042788191708997836,
          0.04869401621723801,
          0.053255741341927676,
          0.06311800366357145,
          0.056060070250388616,
          0.04616691598450062,
          0.0462794621048932,
          0.04452607286133414,
          0.04943925601664945,
          0.04173511366605043,
          0.03633286899345234,
          0.04597571470209849,
          0.05909808740480771,
          0.06262410952037478,
          0.05605859625809617,
          0.060990694009319224,
          0.052102828018278924,
          0.07136126529977171,
          0.06400364558095584,
          0.06010544024693254,
          0.06055739265001625,
          0.048656884301430336,
          0.054802007321410606,
          0.0484055642308483,
          0.047225588384591566,
          0.04369848869350612,
          0.04992307865502954,
          0.06288897597479393,
          0.09409515722226525,
          0.10738940972121358,
          0.12202100221029766,
          0.12084057319733965,
          0.16443593502343545,
          0.1787726367321396,
          0.21136653131439775,
          0.21278346623208,
          0.2209141968798891,
          0.214462430292492,
          0.2301610694856746,
          0.24637569651440705,
          0.23861902861735396,
          0.2621371671372179,
          0.28719020640357984,
          0.27512628165340436,
          0.29122611411513066,
          0.24242359243084555,
          0.2560659222901558,
          0.26261382787000676,
          0.27924345844974896,
          0.2840669709466723,
          0.3792037808805824,
          0.37226591138484966,
          0.35979070990628337,
          0.45731768305392273,
          0.4990479107292194,
          0.5576495298993638,
          0.626199515950659,
          0.651630208565215,
          0.6337070882231517,
          0.6248475083465959,
          0.6718649391951617,
          0.6963093874413466,
          0.6911488356682507,
          0.7505241583769509,
          0.7296618926896217,
          0.7349301623773841,
          0.7414551194257515,
          0.7544629840069401,
          0.7642598989073284,
          0.7637989058760182,
          0.7442256586063596,
          0.7449954484653496,
          0.7371882573402098,
          0.6944127253886303,
          0.6845620522430305,
          0.672578769825849,
          0.6381374435459033,
          0.6479804464739045,
          0.6651639648416414,
          0.6501204796983453,
          0.6362627343058711,
          0.6129192203406422,
          0.5828901427411342,
          0.5841846571582148,
          0.6254237386393575,
          0.6381632582116423,
          0.628921492590095,
          0.6118819637070667,
          0.6248640512485817,
          0.6284280231150896,
          0.6000253977267247,
          0.6065193066249028,
          0.617371822854363,
          0.6434194888293652,
          0.6236467497008111,
          0.6681105311599724,
          0.6927272967987377,
          0.6845704761180782,
          0.6948267494020901,
          0.693465501932073,
          0.6769152519399386,
          0.7155910909769316,
          0.7275507766726417,
          0.7278810568085399,
          0.7301796894744572,
          0.7614597036040045,
          0.8006229028933982,
          0.8150121051446642,
          0.8191075100973422,
          0.8084419842804824,
          0.8205543790582603,
          0.8106304627029339,
          0.8134008005053819,
          0.8387952665432701,
          0.83983282355761,
          0.8601031418659919,
          0.8614976739513915,
          0.8304787309599149,
          0.806874335672285,
          0.800603879226045,
          0.8238341992314537,
          0.8003161186477066,
          0.8158391578656103,
          0.838833751447353,
          0.8074695176569127,
          0.7741970253228012,
          0.7765053501921702,
          0.7555235309547554,
          0.7677977668172717,
          0.7840610641317032,
          0.8082433138390539,
          0.8182866102370596,
          0.8624504407192286,
          0.8311529977892191,
          0.8727566691724018,
          0.8783596061669146,
          0.8827758814511562,
          0.8832784327394632,
          0.8825399982233637,
          0.9261024640886306,
          0.931858359345334,
          0.8962155913179628
         ],
         "yaxis": "y"
        },
        {
         "hovertemplate": "circulating_market_cap_GN=4<br>date=%{x}<br>value=%{y}<extra></extra>",
         "legendgroup": "4",
         "line": {
          "color": "#FFA15A",
          "dash": "solid"
         },
         "marker": {
          "symbol": "circle"
         },
         "mode": "lines",
         "name": "4",
         "showlegend": true,
         "type": "scattergl",
         "x": [
          "2010-01-31T00:00:00",
          "2010-02-28T00:00:00",
          "2010-03-31T00:00:00",
          "2010-04-30T00:00:00",
          "2010-05-31T00:00:00",
          "2010-06-30T00:00:00",
          "2010-07-31T00:00:00",
          "2010-08-31T00:00:00",
          "2010-09-30T00:00:00",
          "2010-10-31T00:00:00",
          "2010-11-30T00:00:00",
          "2010-12-31T00:00:00",
          "2011-01-31T00:00:00",
          "2011-02-28T00:00:00",
          "2011-03-31T00:00:00",
          "2011-04-30T00:00:00",
          "2011-05-31T00:00:00",
          "2011-06-30T00:00:00",
          "2011-07-31T00:00:00",
          "2011-08-31T00:00:00",
          "2011-09-30T00:00:00",
          "2011-10-31T00:00:00",
          "2011-11-30T00:00:00",
          "2011-12-31T00:00:00",
          "2012-01-31T00:00:00",
          "2012-02-29T00:00:00",
          "2012-03-31T00:00:00",
          "2012-04-30T00:00:00",
          "2012-05-31T00:00:00",
          "2012-06-30T00:00:00",
          "2012-07-31T00:00:00",
          "2012-08-31T00:00:00",
          "2012-09-30T00:00:00",
          "2012-10-31T00:00:00",
          "2012-11-30T00:00:00",
          "2012-12-31T00:00:00",
          "2013-01-31T00:00:00",
          "2013-02-28T00:00:00",
          "2013-03-31T00:00:00",
          "2013-04-30T00:00:00",
          "2013-05-31T00:00:00",
          "2013-06-30T00:00:00",
          "2013-07-31T00:00:00",
          "2013-08-31T00:00:00",
          "2013-09-30T00:00:00",
          "2013-10-31T00:00:00",
          "2013-11-30T00:00:00",
          "2013-12-31T00:00:00",
          "2014-01-31T00:00:00",
          "2014-02-28T00:00:00",
          "2014-03-31T00:00:00",
          "2014-04-30T00:00:00",
          "2014-05-31T00:00:00",
          "2014-06-30T00:00:00",
          "2014-07-31T00:00:00",
          "2014-08-31T00:00:00",
          "2014-09-30T00:00:00",
          "2014-10-31T00:00:00",
          "2014-11-30T00:00:00",
          "2014-12-31T00:00:00",
          "2015-01-31T00:00:00",
          "2015-02-28T00:00:00",
          "2015-03-31T00:00:00",
          "2015-04-30T00:00:00",
          "2015-05-31T00:00:00",
          "2015-06-30T00:00:00",
          "2015-07-31T00:00:00",
          "2015-08-31T00:00:00",
          "2015-09-30T00:00:00",
          "2015-10-31T00:00:00",
          "2015-11-30T00:00:00",
          "2015-12-31T00:00:00",
          "2016-01-31T00:00:00",
          "2016-02-29T00:00:00",
          "2016-03-31T00:00:00",
          "2016-04-30T00:00:00",
          "2016-05-31T00:00:00",
          "2016-06-30T00:00:00",
          "2016-07-31T00:00:00",
          "2016-08-31T00:00:00",
          "2016-09-30T00:00:00",
          "2016-10-31T00:00:00",
          "2016-11-30T00:00:00",
          "2016-12-31T00:00:00",
          "2017-01-31T00:00:00",
          "2017-02-28T00:00:00",
          "2017-03-31T00:00:00",
          "2017-04-30T00:00:00",
          "2017-05-31T00:00:00",
          "2017-06-30T00:00:00",
          "2017-07-31T00:00:00",
          "2017-08-31T00:00:00",
          "2017-09-30T00:00:00",
          "2017-10-31T00:00:00",
          "2017-11-30T00:00:00",
          "2017-12-31T00:00:00",
          "2018-01-31T00:00:00",
          "2018-02-28T00:00:00",
          "2018-03-31T00:00:00",
          "2018-04-30T00:00:00",
          "2018-05-31T00:00:00",
          "2018-06-30T00:00:00",
          "2018-07-31T00:00:00",
          "2018-08-31T00:00:00",
          "2018-09-30T00:00:00",
          "2018-10-31T00:00:00",
          "2018-11-30T00:00:00",
          "2018-12-31T00:00:00",
          "2019-01-31T00:00:00",
          "2019-02-28T00:00:00",
          "2019-03-31T00:00:00",
          "2019-04-30T00:00:00",
          "2019-05-31T00:00:00",
          "2019-06-30T00:00:00",
          "2019-07-31T00:00:00",
          "2019-08-31T00:00:00",
          "2019-09-30T00:00:00",
          "2019-10-31T00:00:00",
          "2019-11-30T00:00:00",
          "2019-12-31T00:00:00",
          "2020-01-31T00:00:00",
          "2020-02-29T00:00:00",
          "2020-03-31T00:00:00",
          "2020-04-30T00:00:00",
          "2020-05-31T00:00:00",
          "2020-06-30T00:00:00",
          "2020-07-31T00:00:00",
          "2020-08-31T00:00:00",
          "2020-09-30T00:00:00",
          "2020-10-31T00:00:00",
          "2020-11-30T00:00:00",
          "2020-12-31T00:00:00",
          "2021-01-31T00:00:00",
          "2021-02-28T00:00:00",
          "2021-03-31T00:00:00",
          "2021-04-30T00:00:00",
          "2021-05-31T00:00:00",
          "2021-06-30T00:00:00",
          "2021-07-31T00:00:00",
          "2021-08-31T00:00:00",
          "2021-09-30T00:00:00",
          "2021-10-31T00:00:00",
          "2021-11-30T00:00:00",
          "2021-12-31T00:00:00",
          "2022-01-31T00:00:00",
          "2022-02-28T00:00:00",
          "2022-03-31T00:00:00",
          "2022-04-30T00:00:00",
          "2022-05-31T00:00:00",
          "2022-06-30T00:00:00",
          "2022-07-31T00:00:00",
          "2022-08-31T00:00:00",
          "2022-09-30T00:00:00",
          "2022-10-31T00:00:00",
          "2022-11-30T00:00:00"
         ],
         "xaxis": "x",
         "y": [
          0,
          0.0223845425031044,
          0.044243813583412894,
          0.05016931222827781,
          0.05759950570156658,
          0.05655839617166336,
          0.05585666874911843,
          0.06992894031414387,
          0.04747517845265947,
          0.059372352413392226,
          0.050168777938177866,
          0.033266067047331926,
          0.03857504611334428,
          0.036679785780471486,
          0.03983641872632093,
          0.04173583759703292,
          0.043215050014820955,
          0.04514658811241823,
          0.06052795981350201,
          0.05612026354602451,
          0.06390598894272204,
          0.06833989903296556,
          0.05696852368452565,
          0.03302806132913716,
          0.04187731905332659,
          0.03527166139229809,
          0.030351846779486324,
          0.04384189830567342,
          0.04491817215284022,
          0.03261929691722654,
          0.05216717667208437,
          0.05227995267428143,
          0.10525474886883424,
          0.09759664690976977,
          0.10292315644553574,
          0.08436624237162449,
          0.1583453436586295,
          0.15355857201664347,
          0.15220230083527286,
          0.190728249534162,
          0.19904670931967083,
          0.22553638688662558,
          0.21573571106700062,
          0.211368664387384,
          0.21559994945319638,
          0.2504430010390408,
          0.25613335541744275,
          0.3157119455858668,
          0.3138440063518262,
          0.30216547493491963,
          0.30784830401608687,
          0.3238445335593574,
          0.34751028683257745,
          0.3283032698506618,
          0.36474833646359484,
          0.3893602248631214,
          0.38535336426108824,
          0.39097528262338366,
          0.30233082654968335,
          0.320536125883379,
          0.3224069095389801,
          0.34862951948618304,
          0.3323013082486239,
          0.4667779284625657,
          0.4988761499820977,
          0.4717930770599872,
          0.4309803206271303,
          0.4377593180378021,
          0.4739206576838453,
          0.5096826828586194,
          0.5504016397025095,
          0.5527927807186621,
          0.5606627856175197,
          0.5833450071819746,
          0.584296163724275,
          0.5736773002335227,
          0.5936777790922694,
          0.5773581247362272,
          0.5885804317579202,
          0.5891725300918649,
          0.5887709338771674,
          0.5925091306751333,
          0.6030373831877525,
          0.5753220943813853,
          0.5777357905003135,
          0.5496255975469861,
          0.5378936141588302,
          0.5364030298426266,
          0.5271924202346343,
          0.4922214292208227,
          0.5030956517662737,
          0.4951521917943842,
          0.4843363413654158,
          0.4818172944070578,
          0.47445282994399673,
          0.46438444162150727,
          0.4536797024699306,
          0.48439854743865807,
          0.48248327230407906,
          0.4796275776787631,
          0.48560328173454925,
          0.4986758117948933,
          0.48571071010273603,
          0.48781790626705046,
          0.49549163330432466,
          0.5226233186269471,
          0.5229212136536121,
          0.5089560270056432,
          0.5276507820484628,
          0.5104607423389398,
          0.49475128814807623,
          0.5270719912723989,
          0.515242799804537,
          0.5188575653815011,
          0.5090870743463691,
          0.5249970444088163,
          0.5212936952543308,
          0.5129330938203263,
          0.5184404787289529,
          0.5341488907702412,
          0.526842796048435,
          0.537657225808355,
          0.5394581816891275,
          0.5563102320258788,
          0.5632049832117205,
          0.5561750255428402,
          0.5831318195880562,
          0.5812458450335851,
          0.5931726379702973,
          0.5732586912161937,
          0.5308739653982959,
          0.48631107733932355,
          0.4906397253503305,
          0.49854551163152383,
          0.49763418903059065,
          0.5053143891713201,
          0.5146574538245059,
          0.5268468769672905,
          0.5136352719689219,
          0.5010903409780498,
          0.4893003535856477,
          0.5224863379883962,
          0.5335980416185448,
          0.5658241241791833,
          0.5749756892075042,
          0.6068345895487972,
          0.5917862733122408,
          0.6089434265939013,
          0.6001006426939106,
          0.6083284509788536,
          0.6105451801719362,
          0.5941768552031477,
          0.6447615421871769,
          0.6433094807816626,
          0.6424404723919614
         ],
         "yaxis": "y"
        },
        {
         "hovertemplate": "circulating_market_cap_GN=5<br>date=%{x}<br>value=%{y}<extra></extra>",
         "legendgroup": "5",
         "line": {
          "color": "#19d3f3",
          "dash": "solid"
         },
         "marker": {
          "symbol": "circle"
         },
         "mode": "lines",
         "name": "5",
         "showlegend": true,
         "type": "scattergl",
         "x": [
          "2010-01-31T00:00:00",
          "2010-02-28T00:00:00",
          "2010-03-31T00:00:00",
          "2010-04-30T00:00:00",
          "2010-05-31T00:00:00",
          "2010-06-30T00:00:00",
          "2010-07-31T00:00:00",
          "2010-08-31T00:00:00",
          "2010-09-30T00:00:00",
          "2010-10-31T00:00:00",
          "2010-11-30T00:00:00",
          "2010-12-31T00:00:00",
          "2011-01-31T00:00:00",
          "2011-02-28T00:00:00",
          "2011-03-31T00:00:00",
          "2011-04-30T00:00:00",
          "2011-05-31T00:00:00",
          "2011-06-30T00:00:00",
          "2011-07-31T00:00:00",
          "2011-08-31T00:00:00",
          "2011-09-30T00:00:00",
          "2011-10-31T00:00:00",
          "2011-11-30T00:00:00",
          "2011-12-31T00:00:00",
          "2012-01-31T00:00:00",
          "2012-02-29T00:00:00",
          "2012-03-31T00:00:00",
          "2012-04-30T00:00:00",
          "2012-05-31T00:00:00",
          "2012-06-30T00:00:00",
          "2012-07-31T00:00:00",
          "2012-08-31T00:00:00",
          "2012-09-30T00:00:00",
          "2012-10-31T00:00:00",
          "2012-11-30T00:00:00",
          "2012-12-31T00:00:00",
          "2013-01-31T00:00:00",
          "2013-02-28T00:00:00",
          "2013-03-31T00:00:00",
          "2013-04-30T00:00:00",
          "2013-05-31T00:00:00",
          "2013-06-30T00:00:00",
          "2013-07-31T00:00:00",
          "2013-08-31T00:00:00",
          "2013-09-30T00:00:00",
          "2013-10-31T00:00:00",
          "2013-11-30T00:00:00",
          "2013-12-31T00:00:00",
          "2014-01-31T00:00:00",
          "2014-02-28T00:00:00",
          "2014-03-31T00:00:00",
          "2014-04-30T00:00:00",
          "2014-05-31T00:00:00",
          "2014-06-30T00:00:00",
          "2014-07-31T00:00:00",
          "2014-08-31T00:00:00",
          "2014-09-30T00:00:00",
          "2014-10-31T00:00:00",
          "2014-11-30T00:00:00",
          "2014-12-31T00:00:00",
          "2015-01-31T00:00:00",
          "2015-02-28T00:00:00",
          "2015-03-31T00:00:00",
          "2015-04-30T00:00:00",
          "2015-05-31T00:00:00",
          "2015-06-30T00:00:00",
          "2015-07-31T00:00:00",
          "2015-08-31T00:00:00",
          "2015-09-30T00:00:00",
          "2015-10-31T00:00:00",
          "2015-11-30T00:00:00",
          "2015-12-31T00:00:00",
          "2016-01-31T00:00:00",
          "2016-02-29T00:00:00",
          "2016-03-31T00:00:00",
          "2016-04-30T00:00:00",
          "2016-05-31T00:00:00",
          "2016-06-30T00:00:00",
          "2016-07-31T00:00:00",
          "2016-08-31T00:00:00",
          "2016-09-30T00:00:00",
          "2016-10-31T00:00:00",
          "2016-11-30T00:00:00",
          "2016-12-31T00:00:00",
          "2017-01-31T00:00:00",
          "2017-02-28T00:00:00",
          "2017-03-31T00:00:00",
          "2017-04-30T00:00:00",
          "2017-05-31T00:00:00",
          "2017-06-30T00:00:00",
          "2017-07-31T00:00:00",
          "2017-08-31T00:00:00",
          "2017-09-30T00:00:00",
          "2017-10-31T00:00:00",
          "2017-11-30T00:00:00",
          "2017-12-31T00:00:00",
          "2018-01-31T00:00:00",
          "2018-02-28T00:00:00",
          "2018-03-31T00:00:00",
          "2018-04-30T00:00:00",
          "2018-05-31T00:00:00",
          "2018-06-30T00:00:00",
          "2018-07-31T00:00:00",
          "2018-08-31T00:00:00",
          "2018-09-30T00:00:00",
          "2018-10-31T00:00:00",
          "2018-11-30T00:00:00",
          "2018-12-31T00:00:00",
          "2019-01-31T00:00:00",
          "2019-02-28T00:00:00",
          "2019-03-31T00:00:00",
          "2019-04-30T00:00:00",
          "2019-05-31T00:00:00",
          "2019-06-30T00:00:00",
          "2019-07-31T00:00:00",
          "2019-08-31T00:00:00",
          "2019-09-30T00:00:00",
          "2019-10-31T00:00:00",
          "2019-11-30T00:00:00",
          "2019-12-31T00:00:00",
          "2020-01-31T00:00:00",
          "2020-02-29T00:00:00",
          "2020-03-31T00:00:00",
          "2020-04-30T00:00:00",
          "2020-05-31T00:00:00",
          "2020-06-30T00:00:00",
          "2020-07-31T00:00:00",
          "2020-08-31T00:00:00",
          "2020-09-30T00:00:00",
          "2020-10-31T00:00:00",
          "2020-11-30T00:00:00",
          "2020-12-31T00:00:00",
          "2021-01-31T00:00:00",
          "2021-02-28T00:00:00",
          "2021-03-31T00:00:00",
          "2021-04-30T00:00:00",
          "2021-05-31T00:00:00",
          "2021-06-30T00:00:00",
          "2021-07-31T00:00:00",
          "2021-08-31T00:00:00",
          "2021-09-30T00:00:00",
          "2021-10-31T00:00:00",
          "2021-11-30T00:00:00",
          "2021-12-31T00:00:00",
          "2022-01-31T00:00:00",
          "2022-02-28T00:00:00",
          "2022-03-31T00:00:00",
          "2022-04-30T00:00:00",
          "2022-05-31T00:00:00",
          "2022-06-30T00:00:00",
          "2022-07-31T00:00:00",
          "2022-08-31T00:00:00",
          "2022-09-30T00:00:00",
          "2022-10-31T00:00:00",
          "2022-11-30T00:00:00"
         ],
         "xaxis": "x",
         "y": [
          0,
          0.012437052130699122,
          0.0029037217703393736,
          -0.00035091064088632606,
          0.0013424995498778625,
          0.002446928446106389,
          0.023913319031357405,
          0.017594908477273963,
          0.009736384419017696,
          0.03493682392596886,
          0.026804489586180535,
          0.014282311301029305,
          0.027234429280277306,
          0.01314859517717304,
          0.019780880786580024,
          0.01571391957945223,
          0.025000275947479222,
          0.036413541349527234,
          0.05382069369235465,
          0.048489183114552636,
          0.046781682048119944,
          0.06357773456407267,
          0.054292453680430564,
          0.03607673306044279,
          0.04884909705730567,
          0.038972621076292846,
          0.030804020132819465,
          0.031090339627264596,
          0.03889465164735606,
          0.04069427469298059,
          0.050959113863522365,
          0.04227121308166115,
          0.04076419450090207,
          0.027104348034108883,
          0.015048054140168965,
          0.02468265457796126,
          0.025538191198996918,
          0.0393108345226727,
          0.03660129335234119,
          0.06104990648955,
          0.06703053775959655,
          0.06783162543114996,
          0.06759492736173311,
          0.06785421459906571,
          0.06460392745112231,
          0.07335882789347514,
          0.08022137773947224,
          0.08291547294431512,
          0.09890568373072561,
          0.10572773380049982,
          0.1062144100469622,
          0.10023679280947517,
          0.11012307238728303,
          0.11513653927609901,
          0.11464125503359845,
          0.13134752235632718,
          0.13288712266948322,
          0.11843466709576034,
          0.07450384805601273,
          0.07843960303850905,
          0.0852217955148229,
          0.08569143544762436,
          0.0865612245074181,
          0.07873494467021991,
          0.06912984845939718,
          0.05985163845744945,
          0.04405877856554685,
          0.04752888599981353,
          0.05864469160494723,
          0.07153109465641228,
          0.09068874860020282,
          0.07855736388005208,
          0.09281232960363117,
          0.0981877953404342,
          0.1002419362036826,
          0.0995066432257028,
          0.1038423649138347,
          0.10007772911261403,
          0.09723944899015335,
          0.10421295148456289,
          0.11292334459017583,
          0.10989483160838609,
          0.10351703219721053,
          0.10034467784995127,
          0.10270014781826475,
          0.09287089264294646,
          0.06954842226874458,
          0.06258954882957246,
          0.054380464469041545,
          0.04480196274966364,
          0.04572792507724133,
          0.03402054657657727,
          0.025472831711596644,
          0.01615466793998399,
          0.006742099761440246,
          0.0011082394955170827,
          -0.002672011745731395,
          0.008724614692725563,
          0.002061054425564146,
          0.00517813513842702,
          -0.0007905061144314329,
          0.019763993462855733,
          0.017183499705823335,
          0.0212856128051524,
          0.020018462762569467,
          0.041327403102532134,
          0.03798487475069523,
          0.029517579998931343,
          0.027280474052922,
          0.050788552361436645,
          0.053448548776552585,
          0.059270617667161574,
          0.054206165264331085,
          0.05779717572485055,
          0.0553706869106827,
          0.06483396790126972,
          0.055748109996503814,
          0.04286188228620258,
          0.040776999307982065,
          0.036220029142990384,
          0.032231855584027524,
          0.044974962991811696,
          0.04411999519194687,
          0.053911677917163336,
          0.046963728104943536,
          0.049984525059823426,
          0.05333260726412292,
          0.051928714159380274,
          0.04985963252987213,
          0.04772340512790518,
          0.014886904923589572,
          0.013090033048139826,
          0.027015849858477603,
          0.023655844750856136,
          0.014484783489896458,
          0.012641099583009519,
          0.017440977891072684,
          0.027384754278638512,
          0.04284337206455624,
          0.04715269104322051,
          0.03386107050875231,
          0.06370317276064696,
          0.08545633456580726,
          0.09844404759458736,
          0.10588982608620312,
          0.10713338505493786,
          0.08222293229468347,
          0.078912478934831,
          0.08077732790273329,
          0.09204616718248637,
          0.10780142093525713,
          0.1010009546391637,
          0.13183508258192145,
          0.1354615164441153,
          0.1407134913357626
         ],
         "yaxis": "y"
        },
        {
         "hovertemplate": "circulating_market_cap_GN=6<br>date=%{x}<br>value=%{y}<extra></extra>",
         "legendgroup": "6",
         "line": {
          "color": "#FF6692",
          "dash": "solid"
         },
         "marker": {
          "symbol": "circle"
         },
         "mode": "lines",
         "name": "6",
         "showlegend": true,
         "type": "scattergl",
         "x": [
          "2010-01-31T00:00:00",
          "2010-02-28T00:00:00",
          "2010-03-31T00:00:00",
          "2010-04-30T00:00:00",
          "2010-05-31T00:00:00",
          "2010-06-30T00:00:00",
          "2010-07-31T00:00:00",
          "2010-08-31T00:00:00",
          "2010-09-30T00:00:00",
          "2010-10-31T00:00:00",
          "2010-11-30T00:00:00",
          "2010-12-31T00:00:00",
          "2011-01-31T00:00:00",
          "2011-02-28T00:00:00",
          "2011-03-31T00:00:00",
          "2011-04-30T00:00:00",
          "2011-05-31T00:00:00",
          "2011-06-30T00:00:00",
          "2011-07-31T00:00:00",
          "2011-08-31T00:00:00",
          "2011-09-30T00:00:00",
          "2011-10-31T00:00:00",
          "2011-11-30T00:00:00",
          "2011-12-31T00:00:00",
          "2012-01-31T00:00:00",
          "2012-02-29T00:00:00",
          "2012-03-31T00:00:00",
          "2012-04-30T00:00:00",
          "2012-05-31T00:00:00",
          "2012-06-30T00:00:00",
          "2012-07-31T00:00:00",
          "2012-08-31T00:00:00",
          "2012-09-30T00:00:00",
          "2012-10-31T00:00:00",
          "2012-11-30T00:00:00",
          "2012-12-31T00:00:00",
          "2013-01-31T00:00:00",
          "2013-02-28T00:00:00",
          "2013-03-31T00:00:00",
          "2013-04-30T00:00:00",
          "2013-05-31T00:00:00",
          "2013-06-30T00:00:00",
          "2013-07-31T00:00:00",
          "2013-08-31T00:00:00",
          "2013-09-30T00:00:00",
          "2013-10-31T00:00:00",
          "2013-11-30T00:00:00",
          "2013-12-31T00:00:00",
          "2014-01-31T00:00:00",
          "2014-02-28T00:00:00",
          "2014-03-31T00:00:00",
          "2014-04-30T00:00:00",
          "2014-05-31T00:00:00",
          "2014-06-30T00:00:00",
          "2014-07-31T00:00:00",
          "2014-08-31T00:00:00",
          "2014-09-30T00:00:00",
          "2014-10-31T00:00:00",
          "2014-11-30T00:00:00",
          "2014-12-31T00:00:00",
          "2015-01-31T00:00:00",
          "2015-02-28T00:00:00",
          "2015-03-31T00:00:00",
          "2015-04-30T00:00:00",
          "2015-05-31T00:00:00",
          "2015-06-30T00:00:00",
          "2015-07-31T00:00:00",
          "2015-08-31T00:00:00",
          "2015-09-30T00:00:00",
          "2015-10-31T00:00:00",
          "2015-11-30T00:00:00",
          "2015-12-31T00:00:00",
          "2016-01-31T00:00:00",
          "2016-02-29T00:00:00",
          "2016-03-31T00:00:00",
          "2016-04-30T00:00:00",
          "2016-05-31T00:00:00",
          "2016-06-30T00:00:00",
          "2016-07-31T00:00:00",
          "2016-08-31T00:00:00",
          "2016-09-30T00:00:00",
          "2016-10-31T00:00:00",
          "2016-11-30T00:00:00",
          "2016-12-31T00:00:00",
          "2017-01-31T00:00:00",
          "2017-02-28T00:00:00",
          "2017-03-31T00:00:00",
          "2017-04-30T00:00:00",
          "2017-05-31T00:00:00",
          "2017-06-30T00:00:00",
          "2017-07-31T00:00:00",
          "2017-08-31T00:00:00",
          "2017-09-30T00:00:00",
          "2017-10-31T00:00:00",
          "2017-11-30T00:00:00",
          "2017-12-31T00:00:00",
          "2018-01-31T00:00:00",
          "2018-02-28T00:00:00",
          "2018-03-31T00:00:00",
          "2018-04-30T00:00:00",
          "2018-05-31T00:00:00",
          "2018-06-30T00:00:00",
          "2018-07-31T00:00:00",
          "2018-08-31T00:00:00",
          "2018-09-30T00:00:00",
          "2018-10-31T00:00:00",
          "2018-11-30T00:00:00",
          "2018-12-31T00:00:00",
          "2019-01-31T00:00:00",
          "2019-02-28T00:00:00",
          "2019-03-31T00:00:00",
          "2019-04-30T00:00:00",
          "2019-05-31T00:00:00",
          "2019-06-30T00:00:00",
          "2019-07-31T00:00:00",
          "2019-08-31T00:00:00",
          "2019-09-30T00:00:00",
          "2019-10-31T00:00:00",
          "2019-11-30T00:00:00",
          "2019-12-31T00:00:00",
          "2020-01-31T00:00:00",
          "2020-02-29T00:00:00",
          "2020-03-31T00:00:00",
          "2020-04-30T00:00:00",
          "2020-05-31T00:00:00",
          "2020-06-30T00:00:00",
          "2020-07-31T00:00:00",
          "2020-08-31T00:00:00",
          "2020-09-30T00:00:00",
          "2020-10-31T00:00:00",
          "2020-11-30T00:00:00",
          "2020-12-31T00:00:00",
          "2021-01-31T00:00:00",
          "2021-02-28T00:00:00",
          "2021-03-31T00:00:00",
          "2021-04-30T00:00:00",
          "2021-05-31T00:00:00",
          "2021-06-30T00:00:00",
          "2021-07-31T00:00:00",
          "2021-08-31T00:00:00",
          "2021-09-30T00:00:00",
          "2021-10-31T00:00:00",
          "2021-11-30T00:00:00",
          "2021-12-31T00:00:00",
          "2022-01-31T00:00:00",
          "2022-02-28T00:00:00",
          "2022-03-31T00:00:00",
          "2022-04-30T00:00:00",
          "2022-05-31T00:00:00",
          "2022-06-30T00:00:00",
          "2022-07-31T00:00:00",
          "2022-08-31T00:00:00",
          "2022-09-30T00:00:00",
          "2022-10-31T00:00:00",
          "2022-11-30T00:00:00"
         ],
         "xaxis": "x",
         "y": [
          0,
          0.0021725512544314984,
          0.010712627949575948,
          0.008424694472642713,
          0.002681713006678299,
          0.0025572157105862026,
          0.02445563480936208,
          0.023691031630572512,
          0.01545986352915496,
          0.025348320721551687,
          0.017544938235983132,
          0.012447514500042,
          0.021788150890573288,
          0.023553033108801635,
          0.021271792420425095,
          0.012644321972140604,
          0.00816031274216078,
          0.0031506198662738516,
          0.00666190975124481,
          -0.004631195677106903,
          0.003760717709411221,
          0.004198169265573037,
          -0.001489391790965744,
          -0.009856096837007944,
          -0.00624871540754568,
          -0.002657388910491054,
          -0.012121339836572265,
          -0.019181782922890078,
          -0.02548175086771398,
          -0.026361774713202446,
          -0.028348510404182847,
          -0.03643397354345079,
          -0.044214197059133986,
          -0.059739860258234634,
          -0.059296953090064775,
          -0.056198731788180356,
          -0.06467760161400793,
          -0.054595440156063324,
          -0.061871279587188854,
          -0.06297751331706036,
          -0.07286609698970048,
          -0.07952667866725172,
          -0.07349095652539628,
          -0.074997941214347,
          -0.08406133056460352,
          -0.09324818961967163,
          -0.09675967206211622,
          -0.10673628656380629,
          -0.10662849577060052,
          -0.10717215713864758,
          -0.11360900110479355,
          -0.11908831830470801,
          -0.12475934493442675,
          -0.12435693778250123,
          -0.12274325672750541,
          -0.12375981744480735,
          -0.13216447727519776,
          -0.14629888380087075,
          -0.17049365104103897,
          -0.16337512317573177,
          -0.16195009577006447,
          -0.15109914055394258,
          -0.17840335880786706,
          -0.17582069496652764,
          -0.2092876879266461,
          -0.22349377111583235,
          -0.23045950173463936,
          -0.23495661837180848,
          -0.24070225177106663,
          -0.2482885222668142,
          -0.26685338667746716,
          -0.27190173513681015,
          -0.2790141053775156,
          -0.2833811716561333,
          -0.2802166956232498,
          -0.2807239869653668,
          -0.2792142181112236,
          -0.29185317800611155,
          -0.2945668716969505,
          -0.3004365834967784,
          -0.3045287113418673,
          -0.30877756059410943,
          -0.31126297375660894,
          -0.31111869686355975,
          -0.30724683700638433,
          -0.3068056464228073,
          -0.30693588890710566,
          -0.3199787565611898,
          -0.3236469236924815,
          -0.3185672992441174,
          -0.3197247822411001,
          -0.3132078558454551,
          -0.31260076472310083,
          -0.316995980268986,
          -0.31820044653280743,
          -0.32489469105651925,
          -0.32336874121521486,
          -0.32552534749949835,
          -0.3309272352243693,
          -0.34138526288517035,
          -0.34543027969260476,
          -0.34960614382276245,
          -0.3496004485098144,
          -0.3543852979699299,
          -0.3633499272271876,
          -0.3528782645167875,
          -0.35370402603161333,
          -0.34537075801981243,
          -0.33971996288622586,
          -0.3321174913747795,
          -0.3344793992900128,
          -0.34396455693454886,
          -0.34669648540769793,
          -0.3524292703487536,
          -0.3529597041358825,
          -0.3571694203178367,
          -0.3520978450442436,
          -0.3517751446764419,
          -0.3542337434798202,
          -0.35508883157536886,
          -0.3532817569202683,
          -0.35479420143210105,
          -0.3579432108842834,
          -0.35627193186066664,
          -0.36065498341253466,
          -0.3574285701169194,
          -0.36534340326633863,
          -0.36976508644367234,
          -0.37941789664382186,
          -0.37852058157017565,
          -0.39486259875760954,
          -0.4012941098837193,
          -0.3857305014947787,
          -0.3731110608539394,
          -0.3759171533520954,
          -0.3747002094184555,
          -0.37793629322976796,
          -0.36798595315754623,
          -0.3543171109452957,
          -0.3630331200885575,
          -0.36549969536614546,
          -0.3614024410596288,
          -0.35673630064344664,
          -0.35116288044710464,
          -0.3449796819236226,
          -0.3307709005559675,
          -0.3443624606051484,
          -0.33309732316599383,
          -0.3254836410081626,
          -0.3225830396173931,
          -0.32555940028608943,
          -0.3252808513233143,
          -0.31299697560434947,
          -0.31052866918103417,
          -0.29789792494240186
         ],
         "yaxis": "y"
        },
        {
         "hovertemplate": "circulating_market_cap_GN=7<br>date=%{x}<br>value=%{y}<extra></extra>",
         "legendgroup": "7",
         "line": {
          "color": "#B6E880",
          "dash": "solid"
         },
         "marker": {
          "symbol": "circle"
         },
         "mode": "lines",
         "name": "7",
         "showlegend": true,
         "type": "scattergl",
         "x": [
          "2010-01-31T00:00:00",
          "2010-02-28T00:00:00",
          "2010-03-31T00:00:00",
          "2010-04-30T00:00:00",
          "2010-05-31T00:00:00",
          "2010-06-30T00:00:00",
          "2010-07-31T00:00:00",
          "2010-08-31T00:00:00",
          "2010-09-30T00:00:00",
          "2010-10-31T00:00:00",
          "2010-11-30T00:00:00",
          "2010-12-31T00:00:00",
          "2011-01-31T00:00:00",
          "2011-02-28T00:00:00",
          "2011-03-31T00:00:00",
          "2011-04-30T00:00:00",
          "2011-05-31T00:00:00",
          "2011-06-30T00:00:00",
          "2011-07-31T00:00:00",
          "2011-08-31T00:00:00",
          "2011-09-30T00:00:00",
          "2011-10-31T00:00:00",
          "2011-11-30T00:00:00",
          "2011-12-31T00:00:00",
          "2012-01-31T00:00:00",
          "2012-02-29T00:00:00",
          "2012-03-31T00:00:00",
          "2012-04-30T00:00:00",
          "2012-05-31T00:00:00",
          "2012-06-30T00:00:00",
          "2012-07-31T00:00:00",
          "2012-08-31T00:00:00",
          "2012-09-30T00:00:00",
          "2012-10-31T00:00:00",
          "2012-11-30T00:00:00",
          "2012-12-31T00:00:00",
          "2013-01-31T00:00:00",
          "2013-02-28T00:00:00",
          "2013-03-31T00:00:00",
          "2013-04-30T00:00:00",
          "2013-05-31T00:00:00",
          "2013-06-30T00:00:00",
          "2013-07-31T00:00:00",
          "2013-08-31T00:00:00",
          "2013-09-30T00:00:00",
          "2013-10-31T00:00:00",
          "2013-11-30T00:00:00",
          "2013-12-31T00:00:00",
          "2014-01-31T00:00:00",
          "2014-02-28T00:00:00",
          "2014-03-31T00:00:00",
          "2014-04-30T00:00:00",
          "2014-05-31T00:00:00",
          "2014-06-30T00:00:00",
          "2014-07-31T00:00:00",
          "2014-08-31T00:00:00",
          "2014-09-30T00:00:00",
          "2014-10-31T00:00:00",
          "2014-11-30T00:00:00",
          "2014-12-31T00:00:00",
          "2015-01-31T00:00:00",
          "2015-02-28T00:00:00",
          "2015-03-31T00:00:00",
          "2015-04-30T00:00:00",
          "2015-05-31T00:00:00",
          "2015-06-30T00:00:00",
          "2015-07-31T00:00:00",
          "2015-08-31T00:00:00",
          "2015-09-30T00:00:00",
          "2015-10-31T00:00:00",
          "2015-11-30T00:00:00",
          "2015-12-31T00:00:00",
          "2016-01-31T00:00:00",
          "2016-02-29T00:00:00",
          "2016-03-31T00:00:00",
          "2016-04-30T00:00:00",
          "2016-05-31T00:00:00",
          "2016-06-30T00:00:00",
          "2016-07-31T00:00:00",
          "2016-08-31T00:00:00",
          "2016-09-30T00:00:00",
          "2016-10-31T00:00:00",
          "2016-11-30T00:00:00",
          "2016-12-31T00:00:00",
          "2017-01-31T00:00:00",
          "2017-02-28T00:00:00",
          "2017-03-31T00:00:00",
          "2017-04-30T00:00:00",
          "2017-05-31T00:00:00",
          "2017-06-30T00:00:00",
          "2017-07-31T00:00:00",
          "2017-08-31T00:00:00",
          "2017-09-30T00:00:00",
          "2017-10-31T00:00:00",
          "2017-11-30T00:00:00",
          "2017-12-31T00:00:00",
          "2018-01-31T00:00:00",
          "2018-02-28T00:00:00",
          "2018-03-31T00:00:00",
          "2018-04-30T00:00:00",
          "2018-05-31T00:00:00",
          "2018-06-30T00:00:00",
          "2018-07-31T00:00:00",
          "2018-08-31T00:00:00",
          "2018-09-30T00:00:00",
          "2018-10-31T00:00:00",
          "2018-11-30T00:00:00",
          "2018-12-31T00:00:00",
          "2019-01-31T00:00:00",
          "2019-02-28T00:00:00",
          "2019-03-31T00:00:00",
          "2019-04-30T00:00:00",
          "2019-05-31T00:00:00",
          "2019-06-30T00:00:00",
          "2019-07-31T00:00:00",
          "2019-08-31T00:00:00",
          "2019-09-30T00:00:00",
          "2019-10-31T00:00:00",
          "2019-11-30T00:00:00",
          "2019-12-31T00:00:00",
          "2020-01-31T00:00:00",
          "2020-02-29T00:00:00",
          "2020-03-31T00:00:00",
          "2020-04-30T00:00:00",
          "2020-05-31T00:00:00",
          "2020-06-30T00:00:00",
          "2020-07-31T00:00:00",
          "2020-08-31T00:00:00",
          "2020-09-30T00:00:00",
          "2020-10-31T00:00:00",
          "2020-11-30T00:00:00",
          "2020-12-31T00:00:00",
          "2021-01-31T00:00:00",
          "2021-02-28T00:00:00",
          "2021-03-31T00:00:00",
          "2021-04-30T00:00:00",
          "2021-05-31T00:00:00",
          "2021-06-30T00:00:00",
          "2021-07-31T00:00:00",
          "2021-08-31T00:00:00",
          "2021-09-30T00:00:00",
          "2021-10-31T00:00:00",
          "2021-11-30T00:00:00",
          "2021-12-31T00:00:00",
          "2022-01-31T00:00:00",
          "2022-02-28T00:00:00",
          "2022-03-31T00:00:00",
          "2022-04-30T00:00:00",
          "2022-05-31T00:00:00",
          "2022-06-30T00:00:00",
          "2022-07-31T00:00:00",
          "2022-08-31T00:00:00",
          "2022-09-30T00:00:00",
          "2022-10-31T00:00:00",
          "2022-11-30T00:00:00"
         ],
         "xaxis": "x",
         "y": [
          0,
          -0.012900570666553146,
          -0.006415697351060956,
          -0.009095396613863937,
          -0.021780507236957014,
          -0.02373714721284026,
          -0.029693822255090763,
          -0.030186671868494663,
          -0.030226177689045453,
          -0.025093773456304147,
          -0.03514477862050769,
          -0.05130194851002012,
          -0.04346579519973781,
          -0.06126437656465844,
          -0.07250790759391956,
          -0.07014674132844023,
          -0.08002217368592812,
          -0.09237709415875783,
          -0.09905209127582004,
          -0.1006313911902984,
          -0.0988382040380873,
          -0.09796993482840555,
          -0.09478147279559457,
          -0.11300497930380149,
          -0.11736271258107212,
          -0.11825573531509992,
          -0.12295641757338382,
          -0.13370340200117237,
          -0.15156541343071717,
          -0.14917993617285363,
          -0.15188715382378548,
          -0.15784004262301699,
          -0.1607064208749337,
          -0.17375418477212212,
          -0.1747927030473696,
          -0.17442366422249167,
          -0.17890338861896526,
          -0.17378641660112348,
          -0.1749118902287191,
          -0.16956268801170105,
          -0.17274143342573,
          -0.1641372716046272,
          -0.1679955618148976,
          -0.1622247021086456,
          -0.1800494117035889,
          -0.19252935937760207,
          -0.1858138560678092,
          -0.17624084388914463,
          -0.1681117450561076,
          -0.17719760701481124,
          -0.1830009689869604,
          -0.18918796818178163,
          -0.1978484882657926,
          -0.1972921635528071,
          -0.20816723229737544,
          -0.2337188096984394,
          -0.23811579395524662,
          -0.2526594110079725,
          -0.25237564953842884,
          -0.2420764170675006,
          -0.23301151962621758,
          -0.22758024398979326,
          -0.24682473545459416,
          -0.2576433298138626,
          -0.2648430392126615,
          -0.26361430064229296,
          -0.28978276602320596,
          -0.29618906856724914,
          -0.2960586859486424,
          -0.32173111286238054,
          -0.3497312981485552,
          -0.36386613564422154,
          -0.3662783803543508,
          -0.3716765615471934,
          -0.3903054143187281,
          -0.3896725074820748,
          -0.3985969443917201,
          -0.40405913251748926,
          -0.41091446161316203,
          -0.4186523333290838,
          -0.42586555620943534,
          -0.4366675492007702,
          -0.4384179012914402,
          -0.4410779083944957,
          -0.44468469223221807,
          -0.4435581731962458,
          -0.4379504554693189,
          -0.44072434247874137,
          -0.43843078870183994,
          -0.43197036324957816,
          -0.43801542097896673,
          -0.44300787026576494,
          -0.44483697557761126,
          -0.4428860354187325,
          -0.4407520772200003,
          -0.44208537742846776,
          -0.4315963327729705,
          -0.4432884127374105,
          -0.44533395878835114,
          -0.4522481621229485,
          -0.4504428848963059,
          -0.4561329345544589,
          -0.4562849958533747,
          -0.4627762950187887,
          -0.46840454152785815,
          -0.47023730872662595,
          -0.47268650578540183,
          -0.471520393851399,
          -0.4748423786821001,
          -0.4756424849397559,
          -0.4773165640906456,
          -0.4832324386366257,
          -0.4874883468562401,
          -0.48659284782122536,
          -0.48929910187624703,
          -0.49011835956697924,
          -0.4937245462325721,
          -0.49654652030983903,
          -0.5004001104547506,
          -0.5009510676953532,
          -0.49395039629914994,
          -0.5030961486430019,
          -0.49714243643930456,
          -0.49740011951904395,
          -0.500595486204279,
          -0.49245322825106763,
          -0.4949020179571453,
          -0.4994499365003009,
          -0.5036051585413899,
          -0.503936316742477,
          -0.49769394260051236,
          -0.4885398945163878,
          -0.48806503423400227,
          -0.48813127439152837,
          -0.48873606391583124,
          -0.4938018772535969,
          -0.49952144984054503,
          -0.5040651378525163,
          -0.4851103378526258,
          -0.49049813032861367,
          -0.4904256986230098,
          -0.49497608175895524,
          -0.49343861647636356,
          -0.5026629821228155,
          -0.5081585258736294,
          -0.5147894420516983,
          -0.5184303163477688,
          -0.5179109083181326,
          -0.5151139740871616,
          -0.516075591341084,
          -0.5225665137151845,
          -0.5253020060153408,
          -0.5315953420440442,
          -0.5309993582935733,
          -0.5297015718704259
         ],
         "yaxis": "y"
        },
        {
         "hovertemplate": "circulating_market_cap_GN=8<br>date=%{x}<br>value=%{y}<extra></extra>",
         "legendgroup": "8",
         "line": {
          "color": "#FF97FF",
          "dash": "solid"
         },
         "marker": {
          "symbol": "circle"
         },
         "mode": "lines",
         "name": "8",
         "showlegend": true,
         "type": "scattergl",
         "x": [
          "2010-01-31T00:00:00",
          "2010-02-28T00:00:00",
          "2010-03-31T00:00:00",
          "2010-04-30T00:00:00",
          "2010-05-31T00:00:00",
          "2010-06-30T00:00:00",
          "2010-07-31T00:00:00",
          "2010-08-31T00:00:00",
          "2010-09-30T00:00:00",
          "2010-10-31T00:00:00",
          "2010-11-30T00:00:00",
          "2010-12-31T00:00:00",
          "2011-01-31T00:00:00",
          "2011-02-28T00:00:00",
          "2011-03-31T00:00:00",
          "2011-04-30T00:00:00",
          "2011-05-31T00:00:00",
          "2011-06-30T00:00:00",
          "2011-07-31T00:00:00",
          "2011-08-31T00:00:00",
          "2011-09-30T00:00:00",
          "2011-10-31T00:00:00",
          "2011-11-30T00:00:00",
          "2011-12-31T00:00:00",
          "2012-01-31T00:00:00",
          "2012-02-29T00:00:00",
          "2012-03-31T00:00:00",
          "2012-04-30T00:00:00",
          "2012-05-31T00:00:00",
          "2012-06-30T00:00:00",
          "2012-07-31T00:00:00",
          "2012-08-31T00:00:00",
          "2012-09-30T00:00:00",
          "2012-10-31T00:00:00",
          "2012-11-30T00:00:00",
          "2012-12-31T00:00:00",
          "2013-01-31T00:00:00",
          "2013-02-28T00:00:00",
          "2013-03-31T00:00:00",
          "2013-04-30T00:00:00",
          "2013-05-31T00:00:00",
          "2013-06-30T00:00:00",
          "2013-07-31T00:00:00",
          "2013-08-31T00:00:00",
          "2013-09-30T00:00:00",
          "2013-10-31T00:00:00",
          "2013-11-30T00:00:00",
          "2013-12-31T00:00:00",
          "2014-01-31T00:00:00",
          "2014-02-28T00:00:00",
          "2014-03-31T00:00:00",
          "2014-04-30T00:00:00",
          "2014-05-31T00:00:00",
          "2014-06-30T00:00:00",
          "2014-07-31T00:00:00",
          "2014-08-31T00:00:00",
          "2014-09-30T00:00:00",
          "2014-10-31T00:00:00",
          "2014-11-30T00:00:00",
          "2014-12-31T00:00:00",
          "2015-01-31T00:00:00",
          "2015-02-28T00:00:00",
          "2015-03-31T00:00:00",
          "2015-04-30T00:00:00",
          "2015-05-31T00:00:00",
          "2015-06-30T00:00:00",
          "2015-07-31T00:00:00",
          "2015-08-31T00:00:00",
          "2015-09-30T00:00:00",
          "2015-10-31T00:00:00",
          "2015-11-30T00:00:00",
          "2015-12-31T00:00:00",
          "2016-01-31T00:00:00",
          "2016-02-29T00:00:00",
          "2016-03-31T00:00:00",
          "2016-04-30T00:00:00",
          "2016-05-31T00:00:00",
          "2016-06-30T00:00:00",
          "2016-07-31T00:00:00",
          "2016-08-31T00:00:00",
          "2016-09-30T00:00:00",
          "2016-10-31T00:00:00",
          "2016-11-30T00:00:00",
          "2016-12-31T00:00:00",
          "2017-01-31T00:00:00",
          "2017-02-28T00:00:00",
          "2017-03-31T00:00:00",
          "2017-04-30T00:00:00",
          "2017-05-31T00:00:00",
          "2017-06-30T00:00:00",
          "2017-07-31T00:00:00",
          "2017-08-31T00:00:00",
          "2017-09-30T00:00:00",
          "2017-10-31T00:00:00",
          "2017-11-30T00:00:00",
          "2017-12-31T00:00:00",
          "2018-01-31T00:00:00",
          "2018-02-28T00:00:00",
          "2018-03-31T00:00:00",
          "2018-04-30T00:00:00",
          "2018-05-31T00:00:00",
          "2018-06-30T00:00:00",
          "2018-07-31T00:00:00",
          "2018-08-31T00:00:00",
          "2018-09-30T00:00:00",
          "2018-10-31T00:00:00",
          "2018-11-30T00:00:00",
          "2018-12-31T00:00:00",
          "2019-01-31T00:00:00",
          "2019-02-28T00:00:00",
          "2019-03-31T00:00:00",
          "2019-04-30T00:00:00",
          "2019-05-31T00:00:00",
          "2019-06-30T00:00:00",
          "2019-07-31T00:00:00",
          "2019-08-31T00:00:00",
          "2019-09-30T00:00:00",
          "2019-10-31T00:00:00",
          "2019-11-30T00:00:00",
          "2019-12-31T00:00:00",
          "2020-01-31T00:00:00",
          "2020-02-29T00:00:00",
          "2020-03-31T00:00:00",
          "2020-04-30T00:00:00",
          "2020-05-31T00:00:00",
          "2020-06-30T00:00:00",
          "2020-07-31T00:00:00",
          "2020-08-31T00:00:00",
          "2020-09-30T00:00:00",
          "2020-10-31T00:00:00",
          "2020-11-30T00:00:00",
          "2020-12-31T00:00:00",
          "2021-01-31T00:00:00",
          "2021-02-28T00:00:00",
          "2021-03-31T00:00:00",
          "2021-04-30T00:00:00",
          "2021-05-31T00:00:00",
          "2021-06-30T00:00:00",
          "2021-07-31T00:00:00",
          "2021-08-31T00:00:00",
          "2021-09-30T00:00:00",
          "2021-10-31T00:00:00",
          "2021-11-30T00:00:00",
          "2021-12-31T00:00:00",
          "2022-01-31T00:00:00",
          "2022-02-28T00:00:00",
          "2022-03-31T00:00:00",
          "2022-04-30T00:00:00",
          "2022-05-31T00:00:00",
          "2022-06-30T00:00:00",
          "2022-07-31T00:00:00",
          "2022-08-31T00:00:00",
          "2022-09-30T00:00:00",
          "2022-10-31T00:00:00",
          "2022-11-30T00:00:00"
         ],
         "xaxis": "x",
         "y": [
          0,
          -0.02804397374391554,
          -0.023608925647429668,
          -0.01596027275198808,
          -0.02418005404144208,
          -0.03826091473135218,
          -0.0503577674598048,
          -0.042741416842115854,
          -0.031787160785299085,
          -0.05210662546907707,
          -0.0658208779634959,
          -0.07021796828181559,
          -0.06529309483040668,
          -0.09323655114273588,
          -0.10192557658591261,
          -0.10896837548359106,
          -0.11206398090312608,
          -0.11991110159391394,
          -0.1318281459619849,
          -0.1391379781454809,
          -0.1276473148206333,
          -0.1357826191490551,
          -0.11980140028701225,
          -0.12394269805457026,
          -0.13119240329305204,
          -0.13960117941791317,
          -0.14218147291826622,
          -0.13497862287009266,
          -0.1455174379961096,
          -0.14191795163168597,
          -0.1678539951805319,
          -0.16986691465377557,
          -0.18064753719416782,
          -0.17963526947052766,
          -0.17853726218394284,
          -0.16614204855789982,
          -0.17238464832386835,
          -0.17819168156126053,
          -0.17074551467991705,
          -0.16681222138956064,
          -0.16449028126847276,
          -0.17515619234272428,
          -0.19123473009551262,
          -0.1780020209890263,
          -0.1856291636316506,
          -0.2075478881760583,
          -0.21208121432927618,
          -0.21463730712533313,
          -0.23647431414076636,
          -0.2418013122954754,
          -0.24974457238051473,
          -0.25320998292500374,
          -0.26816520728916227,
          -0.27164120835335315,
          -0.2857532825186099,
          -0.3142420287391958,
          -0.31071668664656027,
          -0.32062230285764115,
          -0.28919806742002807,
          -0.28901828411999797,
          -0.28927359112960604,
          -0.30664712648110515,
          -0.32377344460930346,
          -0.37190276251171184,
          -0.39622263515441936,
          -0.3756761216191198,
          -0.393112231086135,
          -0.4179068174286301,
          -0.4477033804494238,
          -0.4789931844380493,
          -0.5050606001262861,
          -0.5080346333878732,
          -0.5119706785666771,
          -0.528210776247046,
          -0.5406956749845544,
          -0.5331813060781188,
          -0.5446393490337564,
          -0.5416693717570409,
          -0.5501736967331139,
          -0.5592353734081909,
          -0.5647083796583874,
          -0.5679649609144464,
          -0.57217583967903,
          -0.5676732556174404,
          -0.5686457103124637,
          -0.5624013229864022,
          -0.5542599680679903,
          -0.551280371806761,
          -0.5478470386211622,
          -0.5410435959783961,
          -0.5443489301475517,
          -0.5438580615174642,
          -0.5394469819113127,
          -0.5326536027041049,
          -0.5279923717343034,
          -0.5196677175740989,
          -0.5099429283911276,
          -0.5244535991802299,
          -0.5253945321218619,
          -0.5248936343599019,
          -0.5161996361701406,
          -0.5229569388003921,
          -0.5201879841884465,
          -0.5188446962485165,
          -0.525361578564141,
          -0.5330970377824003,
          -0.5362958764376964,
          -0.5246692740350467,
          -0.5278052762778623,
          -0.5286629575887822,
          -0.5314493164881731,
          -0.541374965295097,
          -0.5430279148779216,
          -0.5420291504087968,
          -0.5407153380743512,
          -0.5416144229713635,
          -0.5418173135223151,
          -0.5356535564818341,
          -0.5348430350123468,
          -0.5295270288181948,
          -0.5236642997059793,
          -0.5373200190060953,
          -0.5239175676464216,
          -0.5241056484409448,
          -0.516255279963739,
          -0.5196178122012041,
          -0.5286584590022679,
          -0.5311159899348374,
          -0.5361147796789696,
          -0.5336076534048411,
          -0.5192704489320852,
          -0.4977908907584129,
          -0.5033427669644295,
          -0.5096485422371808,
          -0.5089650838981674,
          -0.5139876358528404,
          -0.5192658369077003,
          -0.5123153903408859,
          -0.5163814240244028,
          -0.5192626600895607,
          -0.5106446708735028,
          -0.529614252930064,
          -0.5424641223437923,
          -0.554091951204787,
          -0.5544514182549345,
          -0.5764136430621764,
          -0.5630888896930607,
          -0.5691647569197141,
          -0.5708461943373785,
          -0.5823479873390218,
          -0.5847275427418984,
          -0.5845143372706652,
          -0.5901738365240929,
          -0.597263163846034,
          -0.5981336067450491
         ],
         "yaxis": "y"
        },
        {
         "hovertemplate": "circulating_market_cap_GN=9<br>date=%{x}<br>value=%{y}<extra></extra>",
         "legendgroup": "9",
         "line": {
          "color": "#FECB52",
          "dash": "solid"
         },
         "marker": {
          "symbol": "circle"
         },
         "mode": "lines",
         "name": "9",
         "showlegend": true,
         "type": "scattergl",
         "x": [
          "2010-01-31T00:00:00",
          "2010-02-28T00:00:00",
          "2010-03-31T00:00:00",
          "2010-04-30T00:00:00",
          "2010-05-31T00:00:00",
          "2010-06-30T00:00:00",
          "2010-07-31T00:00:00",
          "2010-08-31T00:00:00",
          "2010-09-30T00:00:00",
          "2010-10-31T00:00:00",
          "2010-11-30T00:00:00",
          "2010-12-31T00:00:00",
          "2011-01-31T00:00:00",
          "2011-02-28T00:00:00",
          "2011-03-31T00:00:00",
          "2011-04-30T00:00:00",
          "2011-05-31T00:00:00",
          "2011-06-30T00:00:00",
          "2011-07-31T00:00:00",
          "2011-08-31T00:00:00",
          "2011-09-30T00:00:00",
          "2011-10-31T00:00:00",
          "2011-11-30T00:00:00",
          "2011-12-31T00:00:00",
          "2012-01-31T00:00:00",
          "2012-02-29T00:00:00",
          "2012-03-31T00:00:00",
          "2012-04-30T00:00:00",
          "2012-05-31T00:00:00",
          "2012-06-30T00:00:00",
          "2012-07-31T00:00:00",
          "2012-08-31T00:00:00",
          "2012-09-30T00:00:00",
          "2012-10-31T00:00:00",
          "2012-11-30T00:00:00",
          "2012-12-31T00:00:00",
          "2013-01-31T00:00:00",
          "2013-02-28T00:00:00",
          "2013-03-31T00:00:00",
          "2013-04-30T00:00:00",
          "2013-05-31T00:00:00",
          "2013-06-30T00:00:00",
          "2013-07-31T00:00:00",
          "2013-08-31T00:00:00",
          "2013-09-30T00:00:00",
          "2013-10-31T00:00:00",
          "2013-11-30T00:00:00",
          "2013-12-31T00:00:00",
          "2014-01-31T00:00:00",
          "2014-02-28T00:00:00",
          "2014-03-31T00:00:00",
          "2014-04-30T00:00:00",
          "2014-05-31T00:00:00",
          "2014-06-30T00:00:00",
          "2014-07-31T00:00:00",
          "2014-08-31T00:00:00",
          "2014-09-30T00:00:00",
          "2014-10-31T00:00:00",
          "2014-11-30T00:00:00",
          "2014-12-31T00:00:00",
          "2015-01-31T00:00:00",
          "2015-02-28T00:00:00",
          "2015-03-31T00:00:00",
          "2015-04-30T00:00:00",
          "2015-05-31T00:00:00",
          "2015-06-30T00:00:00",
          "2015-07-31T00:00:00",
          "2015-08-31T00:00:00",
          "2015-09-30T00:00:00",
          "2015-10-31T00:00:00",
          "2015-11-30T00:00:00",
          "2015-12-31T00:00:00",
          "2016-01-31T00:00:00",
          "2016-02-29T00:00:00",
          "2016-03-31T00:00:00",
          "2016-04-30T00:00:00",
          "2016-05-31T00:00:00",
          "2016-06-30T00:00:00",
          "2016-07-31T00:00:00",
          "2016-08-31T00:00:00",
          "2016-09-30T00:00:00",
          "2016-10-31T00:00:00",
          "2016-11-30T00:00:00",
          "2016-12-31T00:00:00",
          "2017-01-31T00:00:00",
          "2017-02-28T00:00:00",
          "2017-03-31T00:00:00",
          "2017-04-30T00:00:00",
          "2017-05-31T00:00:00",
          "2017-06-30T00:00:00",
          "2017-07-31T00:00:00",
          "2017-08-31T00:00:00",
          "2017-09-30T00:00:00",
          "2017-10-31T00:00:00",
          "2017-11-30T00:00:00",
          "2017-12-31T00:00:00",
          "2018-01-31T00:00:00",
          "2018-02-28T00:00:00",
          "2018-03-31T00:00:00",
          "2018-04-30T00:00:00",
          "2018-05-31T00:00:00",
          "2018-06-30T00:00:00",
          "2018-07-31T00:00:00",
          "2018-08-31T00:00:00",
          "2018-09-30T00:00:00",
          "2018-10-31T00:00:00",
          "2018-11-30T00:00:00",
          "2018-12-31T00:00:00",
          "2019-01-31T00:00:00",
          "2019-02-28T00:00:00",
          "2019-03-31T00:00:00",
          "2019-04-30T00:00:00",
          "2019-05-31T00:00:00",
          "2019-06-30T00:00:00",
          "2019-07-31T00:00:00",
          "2019-08-31T00:00:00",
          "2019-09-30T00:00:00",
          "2019-10-31T00:00:00",
          "2019-11-30T00:00:00",
          "2019-12-31T00:00:00",
          "2020-01-31T00:00:00",
          "2020-02-29T00:00:00",
          "2020-03-31T00:00:00",
          "2020-04-30T00:00:00",
          "2020-05-31T00:00:00",
          "2020-06-30T00:00:00",
          "2020-07-31T00:00:00",
          "2020-08-31T00:00:00",
          "2020-09-30T00:00:00",
          "2020-10-31T00:00:00",
          "2020-11-30T00:00:00",
          "2020-12-31T00:00:00",
          "2021-01-31T00:00:00",
          "2021-02-28T00:00:00",
          "2021-03-31T00:00:00",
          "2021-04-30T00:00:00",
          "2021-05-31T00:00:00",
          "2021-06-30T00:00:00",
          "2021-07-31T00:00:00",
          "2021-08-31T00:00:00",
          "2021-09-30T00:00:00",
          "2021-10-31T00:00:00",
          "2021-11-30T00:00:00",
          "2021-12-31T00:00:00",
          "2022-01-31T00:00:00",
          "2022-02-28T00:00:00",
          "2022-03-31T00:00:00",
          "2022-04-30T00:00:00",
          "2022-05-31T00:00:00",
          "2022-06-30T00:00:00",
          "2022-07-31T00:00:00",
          "2022-08-31T00:00:00",
          "2022-09-30T00:00:00",
          "2022-10-31T00:00:00",
          "2022-11-30T00:00:00"
         ],
         "xaxis": "x",
         "y": [
          0,
          -0.03134273466290227,
          -0.024036622815945208,
          -0.013310661321179973,
          -0.007570160682085714,
          -0.022805831507035967,
          -0.06542494709567392,
          -0.05227709987543794,
          0.005409379508178658,
          -0.0415791708222043,
          -0.02342368149784102,
          -0.011258139411106871,
          -0.047237927054783024,
          -0.06741949841944817,
          -0.06088913065354418,
          -0.0596200323557996,
          -0.06321432350891132,
          -0.08738065907683135,
          -0.11132795369737547,
          -0.10667524449732446,
          -0.10769055957054285,
          -0.1232257848402406,
          -0.06920847063467239,
          -0.04649395343812057,
          -0.08649718903141179,
          -0.09021841102960537,
          -0.10053818811529835,
          -0.11049302844014364,
          -0.10643491514232362,
          -0.0786606258740079,
          -0.14195348295158183,
          -0.12201694903537796,
          -0.1457159080269811,
          -0.11245839203425523,
          -0.11172235307947942,
          -0.12857146845022605,
          -0.15816969503706102,
          -0.16468498458179903,
          -0.16430628193609864,
          -0.20893853946386998,
          -0.2038949648116537,
          -0.2316760210026486,
          -0.2515995301741608,
          -0.2494932736987182,
          -0.25780142593179944,
          -0.28605694677475546,
          -0.2910155848679643,
          -0.333531958487565,
          -0.36410688111763334,
          -0.3743683566852001,
          -0.3724872043652888,
          -0.38573052167476374,
          -0.40595442712811414,
          -0.4072217149141766,
          -0.4339238692967893,
          -0.4717412144912897,
          -0.47221089321823473,
          -0.44845518091888104,
          -0.3457877694575795,
          -0.37984584757937556,
          -0.39266710246349057,
          -0.42758614448317156,
          -0.4265214739434551,
          -0.5326493417670524,
          -0.5323313100848097,
          -0.520514763283132,
          -0.521296256741328,
          -0.5325373599983422,
          -0.5784656001586369,
          -0.6207842056417081,
          -0.6400174185562862,
          -0.6265196743204464,
          -0.6291853669722276,
          -0.6492147897218505,
          -0.6586093677614926,
          -0.6538250497184006,
          -0.6700260232753824,
          -0.6581662307294396,
          -0.6637933384153973,
          -0.6697348018993805,
          -0.6742210559392626,
          -0.6682038959819221,
          -0.6720060643774661,
          -0.6596428744368847,
          -0.6635731485687559,
          -0.6556404333754358,
          -0.6367914970009063,
          -0.6198585738519051,
          -0.6123525307447013,
          -0.6035188340721895,
          -0.6084942532374542,
          -0.60996538691344,
          -0.5927590861700438,
          -0.5777920502908475,
          -0.5657517643932011,
          -0.5424302642830077,
          -0.5379427013753539,
          -0.5593793895869268,
          -0.5579936079304748,
          -0.5458694372264945,
          -0.5343435517892583,
          -0.5345903250175597,
          -0.5297191952174671,
          -0.5216999533156352,
          -0.5263547398176002,
          -0.5474525617616467,
          -0.5450292096385585,
          -0.5237385472472573,
          -0.5503103857680012,
          -0.5647151906614167,
          -0.5596317954224077,
          -0.5665968798720764,
          -0.5531580192099727,
          -0.5414783843545234,
          -0.5355874506555096,
          -0.537784725061075,
          -0.5345891996012894,
          -0.5240297833245076,
          -0.5263121362827319,
          -0.5247425246414756,
          -0.5216370214178756,
          -0.5395282919643624,
          -0.5185215584488188,
          -0.5276941010427887,
          -0.5169545625758938,
          -0.5135285005252888,
          -0.5226057579684629,
          -0.5197378032846508,
          -0.5168578799773316,
          -0.5113623445596163,
          -0.4784498673715416,
          -0.4312541678006542,
          -0.4526010824235356,
          -0.4843285187036198,
          -0.4749334573720827,
          -0.48750168048288756,
          -0.5013051917001103,
          -0.5149439431778712,
          -0.5258235633076244,
          -0.5239216445530699,
          -0.5155265682904036,
          -0.5618170566184839,
          -0.572037590488041,
          -0.5769528994300019,
          -0.5861904049388802,
          -0.6027325393766925,
          -0.5731749478525356,
          -0.593424183744099,
          -0.5859187312824798,
          -0.6177425800521031,
          -0.6168841532065831,
          -0.6104157075712613,
          -0.6317867118028766,
          -0.6328601952722742,
          -0.6272017773047573
         ],
         "yaxis": "y"
        },
        {
         "hovertemplate": "circulating_market_cap_GN=Long-Short<br>date=%{x}<br>value=%{y}<extra></extra>",
         "legendgroup": "Long-Short",
         "line": {
          "color": "#636efa",
          "dash": "solid"
         },
         "marker": {
          "symbol": "circle"
         },
         "mode": "lines",
         "name": "Long-Short",
         "showlegend": true,
         "type": "scattergl",
         "x": [
          "2010-01-31T00:00:00",
          "2010-02-28T00:00:00",
          "2010-03-31T00:00:00",
          "2010-04-30T00:00:00",
          "2010-05-31T00:00:00",
          "2010-06-30T00:00:00",
          "2010-07-31T00:00:00",
          "2010-08-31T00:00:00",
          "2010-09-30T00:00:00",
          "2010-10-31T00:00:00",
          "2010-11-30T00:00:00",
          "2010-12-31T00:00:00",
          "2011-01-31T00:00:00",
          "2011-02-28T00:00:00",
          "2011-03-31T00:00:00",
          "2011-04-30T00:00:00",
          "2011-05-31T00:00:00",
          "2011-06-30T00:00:00",
          "2011-07-31T00:00:00",
          "2011-08-31T00:00:00",
          "2011-09-30T00:00:00",
          "2011-10-31T00:00:00",
          "2011-11-30T00:00:00",
          "2011-12-31T00:00:00",
          "2012-01-31T00:00:00",
          "2012-02-29T00:00:00",
          "2012-03-31T00:00:00",
          "2012-04-30T00:00:00",
          "2012-05-31T00:00:00",
          "2012-06-30T00:00:00",
          "2012-07-31T00:00:00",
          "2012-08-31T00:00:00",
          "2012-09-30T00:00:00",
          "2012-10-31T00:00:00",
          "2012-11-30T00:00:00",
          "2012-12-31T00:00:00",
          "2013-01-31T00:00:00",
          "2013-02-28T00:00:00",
          "2013-03-31T00:00:00",
          "2013-04-30T00:00:00",
          "2013-05-31T00:00:00",
          "2013-06-30T00:00:00",
          "2013-07-31T00:00:00",
          "2013-08-31T00:00:00",
          "2013-09-30T00:00:00",
          "2013-10-31T00:00:00",
          "2013-11-30T00:00:00",
          "2013-12-31T00:00:00",
          "2014-01-31T00:00:00",
          "2014-02-28T00:00:00",
          "2014-03-31T00:00:00",
          "2014-04-30T00:00:00",
          "2014-05-31T00:00:00",
          "2014-06-30T00:00:00",
          "2014-07-31T00:00:00",
          "2014-08-31T00:00:00",
          "2014-09-30T00:00:00",
          "2014-10-31T00:00:00",
          "2014-11-30T00:00:00",
          "2014-12-31T00:00:00",
          "2015-01-31T00:00:00",
          "2015-02-28T00:00:00",
          "2015-03-31T00:00:00",
          "2015-04-30T00:00:00",
          "2015-05-31T00:00:00",
          "2015-06-30T00:00:00",
          "2015-07-31T00:00:00",
          "2015-08-31T00:00:00",
          "2015-09-30T00:00:00",
          "2015-10-31T00:00:00",
          "2015-11-30T00:00:00",
          "2015-12-31T00:00:00",
          "2016-01-31T00:00:00",
          "2016-02-29T00:00:00",
          "2016-03-31T00:00:00",
          "2016-04-30T00:00:00",
          "2016-05-31T00:00:00",
          "2016-06-30T00:00:00",
          "2016-07-31T00:00:00",
          "2016-08-31T00:00:00",
          "2016-09-30T00:00:00",
          "2016-10-31T00:00:00",
          "2016-11-30T00:00:00",
          "2016-12-31T00:00:00",
          "2017-01-31T00:00:00",
          "2017-02-28T00:00:00",
          "2017-03-31T00:00:00",
          "2017-04-30T00:00:00",
          "2017-05-31T00:00:00",
          "2017-06-30T00:00:00",
          "2017-07-31T00:00:00",
          "2017-08-31T00:00:00",
          "2017-09-30T00:00:00",
          "2017-10-31T00:00:00",
          "2017-11-30T00:00:00",
          "2017-12-31T00:00:00",
          "2018-01-31T00:00:00",
          "2018-02-28T00:00:00",
          "2018-03-31T00:00:00",
          "2018-04-30T00:00:00",
          "2018-05-31T00:00:00",
          "2018-06-30T00:00:00",
          "2018-07-31T00:00:00",
          "2018-08-31T00:00:00",
          "2018-09-30T00:00:00",
          "2018-10-31T00:00:00",
          "2018-11-30T00:00:00",
          "2018-12-31T00:00:00",
          "2019-01-31T00:00:00",
          "2019-02-28T00:00:00",
          "2019-03-31T00:00:00",
          "2019-04-30T00:00:00",
          "2019-05-31T00:00:00",
          "2019-06-30T00:00:00",
          "2019-07-31T00:00:00",
          "2019-08-31T00:00:00",
          "2019-09-30T00:00:00",
          "2019-10-31T00:00:00",
          "2019-11-30T00:00:00",
          "2019-12-31T00:00:00",
          "2020-01-31T00:00:00",
          "2020-02-29T00:00:00",
          "2020-03-31T00:00:00",
          "2020-04-30T00:00:00",
          "2020-05-31T00:00:00",
          "2020-06-30T00:00:00",
          "2020-07-31T00:00:00",
          "2020-08-31T00:00:00",
          "2020-09-30T00:00:00",
          "2020-10-31T00:00:00",
          "2020-11-30T00:00:00",
          "2020-12-31T00:00:00",
          "2021-01-31T00:00:00",
          "2021-02-28T00:00:00",
          "2021-03-31T00:00:00",
          "2021-04-30T00:00:00",
          "2021-05-31T00:00:00",
          "2021-06-30T00:00:00",
          "2021-07-31T00:00:00",
          "2021-08-31T00:00:00",
          "2021-09-30T00:00:00",
          "2021-10-31T00:00:00",
          "2021-11-30T00:00:00",
          "2021-12-31T00:00:00",
          "2022-01-31T00:00:00",
          "2022-02-28T00:00:00",
          "2022-03-31T00:00:00",
          "2022-04-30T00:00:00",
          "2022-05-31T00:00:00",
          "2022-06-30T00:00:00",
          "2022-07-31T00:00:00",
          "2022-08-31T00:00:00",
          "2022-09-30T00:00:00",
          "2022-10-31T00:00:00",
          "2022-11-30T00:00:00"
         ],
         "xaxis": "x",
         "y": [
          0,
          -0.017998691648244858,
          -0.002701984462167961,
          0.02541821261599453,
          0.024674566503351203,
          0.01427309999404014,
          -0.020961229535092607,
          -0.006587568102709218,
          0.04315717284719511,
          0.013692776686297536,
          0.021018426461984818,
          0.028949840243987612,
          -0.000412783460091215,
          -0.060007510904071526,
          -0.07419275383273338,
          -0.07818401147294363,
          -0.07970607647365413,
          -0.10420135287951005,
          -0.14777710512288256,
          -0.1500998073978903,
          -0.14406653112996493,
          -0.15970676876551526,
          -0.09083108274721607,
          -0.09609661431568028,
          -0.1274739775942091,
          -0.13845516463573082,
          -0.16943482771247698,
          -0.18376150107359523,
          -0.17529126867011047,
          -0.1526118816027907,
          -0.25219095818309756,
          -0.2363111270636481,
          -0.256447813233331,
          -0.22375150513582198,
          -0.233356737262302,
          -0.24929968135810943,
          -0.26155155481713643,
          -0.25912579492754906,
          -0.2623610762859703,
          -0.2912532750426923,
          -0.2743589558349405,
          -0.2892788845625027,
          -0.3169591579396155,
          -0.29524860800377806,
          -0.31177771145761335,
          -0.33582890327240644,
          -0.3402610576042232,
          -0.36381215561932834,
          -0.40263589398550215,
          -0.41550232855892466,
          -0.4147807650440458,
          -0.42582672963559975,
          -0.4437276297711684,
          -0.4525846019097577,
          -0.4768558135566229,
          -0.524145699196602,
          -0.5327893930392202,
          -0.5187234901776012,
          -0.42978620209905416,
          -0.4542219614453241,
          -0.46596675510110463,
          -0.49306421660631006,
          -0.5088464386315614,
          -0.5886443836473025,
          -0.6041245318707713,
          -0.5903131698272588,
          -0.6013691759404343,
          -0.6109070112468358,
          -0.6547335761517006,
          -0.6963839509908136,
          -0.7282577762614122,
          -0.718517672206989,
          -0.724074260341983,
          -0.7416221557347639,
          -0.7538959328863523,
          -0.7462388689391961,
          -0.7578510969675525,
          -0.7535728770255528,
          -0.7630082028809956,
          -0.7736928998909034,
          -0.7787390645863217,
          -0.7768673447867281,
          -0.7827317545080674,
          -0.7748681118509322,
          -0.7793569083308459,
          -0.7726878982712647,
          -0.7594577187810554,
          -0.7456406937871415,
          -0.7406535921447317,
          -0.7385229592551539,
          -0.7423108434998946,
          -0.7409760945820323,
          -0.7294355640596377,
          -0.7146246036265946,
          -0.705308332943089,
          -0.6896961496687304,
          -0.6796903792175525,
          -0.6922495342210919,
          -0.6900957079504295,
          -0.6911468189547056,
          -0.682868676073537,
          -0.6859472813404066,
          -0.682640876676434,
          -0.6832308413603989,
          -0.6904922918808944,
          -0.7013264372474157,
          -0.6984762352781372,
          -0.684270431171885,
          -0.7015483679973847,
          -0.7109783239588401,
          -0.7132016186309378,
          -0.7178536170169059,
          -0.7102614316359078,
          -0.7002281118883074,
          -0.689447933981888,
          -0.6905187855283914,
          -0.689226256468933,
          -0.6814473123517842,
          -0.680880603176129,
          -0.6667399626982798,
          -0.6551881082131328,
          -0.6779615645311796,
          -0.6550525376340779,
          -0.6696353433644895,
          -0.6621108680369134,
          -0.6636419267059885,
          -0.6736895380831289,
          -0.6732500734821538,
          -0.6688198268498677,
          -0.6669745653947861,
          -0.6513845650866886,
          -0.6109248278675204,
          -0.6229970503825069,
          -0.6481171074183599,
          -0.6489035935468362,
          -0.6615777278638317,
          -0.6663216689039747,
          -0.6640116948171937,
          -0.6727407427721036,
          -0.6761058082407322,
          -0.6675769689822235,
          -0.699623745491488,
          -0.7030401949357175,
          -0.707909138234614,
          -0.717185264925537,
          -0.7267862607526078,
          -0.7122138635287603,
          -0.7277005865941198,
          -0.7237030232484719,
          -0.7509024672490614,
          -0.753007169168346,
          -0.7491219776651603,
          -0.754546738502218,
          -0.7568191030082788,
          -0.7581239707930266
         ],
         "yaxis": "y"
        },
        {
         "hovertemplate": "circulating_market_cap_GN=Short-Long<br>date=%{x}<br>value=%{y}<extra></extra>",
         "legendgroup": "Short-Long",
         "line": {
          "color": "#EF553B",
          "dash": "solid"
         },
         "marker": {
          "symbol": "circle"
         },
         "mode": "lines",
         "name": "Short-Long",
         "showlegend": true,
         "type": "scattergl",
         "x": [
          "2010-01-31T00:00:00",
          "2010-02-28T00:00:00",
          "2010-03-31T00:00:00",
          "2010-04-30T00:00:00",
          "2010-05-31T00:00:00",
          "2010-06-30T00:00:00",
          "2010-07-31T00:00:00",
          "2010-08-31T00:00:00",
          "2010-09-30T00:00:00",
          "2010-10-31T00:00:00",
          "2010-11-30T00:00:00",
          "2010-12-31T00:00:00",
          "2011-01-31T00:00:00",
          "2011-02-28T00:00:00",
          "2011-03-31T00:00:00",
          "2011-04-30T00:00:00",
          "2011-05-31T00:00:00",
          "2011-06-30T00:00:00",
          "2011-07-31T00:00:00",
          "2011-08-31T00:00:00",
          "2011-09-30T00:00:00",
          "2011-10-31T00:00:00",
          "2011-11-30T00:00:00",
          "2011-12-31T00:00:00",
          "2012-01-31T00:00:00",
          "2012-02-29T00:00:00",
          "2012-03-31T00:00:00",
          "2012-04-30T00:00:00",
          "2012-05-31T00:00:00",
          "2012-06-30T00:00:00",
          "2012-07-31T00:00:00",
          "2012-08-31T00:00:00",
          "2012-09-30T00:00:00",
          "2012-10-31T00:00:00",
          "2012-11-30T00:00:00",
          "2012-12-31T00:00:00",
          "2013-01-31T00:00:00",
          "2013-02-28T00:00:00",
          "2013-03-31T00:00:00",
          "2013-04-30T00:00:00",
          "2013-05-31T00:00:00",
          "2013-06-30T00:00:00",
          "2013-07-31T00:00:00",
          "2013-08-31T00:00:00",
          "2013-09-30T00:00:00",
          "2013-10-31T00:00:00",
          "2013-11-30T00:00:00",
          "2013-12-31T00:00:00",
          "2014-01-31T00:00:00",
          "2014-02-28T00:00:00",
          "2014-03-31T00:00:00",
          "2014-04-30T00:00:00",
          "2014-05-31T00:00:00",
          "2014-06-30T00:00:00",
          "2014-07-31T00:00:00",
          "2014-08-31T00:00:00",
          "2014-09-30T00:00:00",
          "2014-10-31T00:00:00",
          "2014-11-30T00:00:00",
          "2014-12-31T00:00:00",
          "2015-01-31T00:00:00",
          "2015-02-28T00:00:00",
          "2015-03-31T00:00:00",
          "2015-04-30T00:00:00",
          "2015-05-31T00:00:00",
          "2015-06-30T00:00:00",
          "2015-07-31T00:00:00",
          "2015-08-31T00:00:00",
          "2015-09-30T00:00:00",
          "2015-10-31T00:00:00",
          "2015-11-30T00:00:00",
          "2015-12-31T00:00:00",
          "2016-01-31T00:00:00",
          "2016-02-29T00:00:00",
          "2016-03-31T00:00:00",
          "2016-04-30T00:00:00",
          "2016-05-31T00:00:00",
          "2016-06-30T00:00:00",
          "2016-07-31T00:00:00",
          "2016-08-31T00:00:00",
          "2016-09-30T00:00:00",
          "2016-10-31T00:00:00",
          "2016-11-30T00:00:00",
          "2016-12-31T00:00:00",
          "2017-01-31T00:00:00",
          "2017-02-28T00:00:00",
          "2017-03-31T00:00:00",
          "2017-04-30T00:00:00",
          "2017-05-31T00:00:00",
          "2017-06-30T00:00:00",
          "2017-07-31T00:00:00",
          "2017-08-31T00:00:00",
          "2017-09-30T00:00:00",
          "2017-10-31T00:00:00",
          "2017-11-30T00:00:00",
          "2017-12-31T00:00:00",
          "2018-01-31T00:00:00",
          "2018-02-28T00:00:00",
          "2018-03-31T00:00:00",
          "2018-04-30T00:00:00",
          "2018-05-31T00:00:00",
          "2018-06-30T00:00:00",
          "2018-07-31T00:00:00",
          "2018-08-31T00:00:00",
          "2018-09-30T00:00:00",
          "2018-10-31T00:00:00",
          "2018-11-30T00:00:00",
          "2018-12-31T00:00:00",
          "2019-01-31T00:00:00",
          "2019-02-28T00:00:00",
          "2019-03-31T00:00:00",
          "2019-04-30T00:00:00",
          "2019-05-31T00:00:00",
          "2019-06-30T00:00:00",
          "2019-07-31T00:00:00",
          "2019-08-31T00:00:00",
          "2019-09-30T00:00:00",
          "2019-10-31T00:00:00",
          "2019-11-30T00:00:00",
          "2019-12-31T00:00:00",
          "2020-01-31T00:00:00",
          "2020-02-29T00:00:00",
          "2020-03-31T00:00:00",
          "2020-04-30T00:00:00",
          "2020-05-31T00:00:00",
          "2020-06-30T00:00:00",
          "2020-07-31T00:00:00",
          "2020-08-31T00:00:00",
          "2020-09-30T00:00:00",
          "2020-10-31T00:00:00",
          "2020-11-30T00:00:00",
          "2020-12-31T00:00:00",
          "2021-01-31T00:00:00",
          "2021-02-28T00:00:00",
          "2021-03-31T00:00:00",
          "2021-04-30T00:00:00",
          "2021-05-31T00:00:00",
          "2021-06-30T00:00:00",
          "2021-07-31T00:00:00",
          "2021-08-31T00:00:00",
          "2021-09-30T00:00:00",
          "2021-10-31T00:00:00",
          "2021-11-30T00:00:00",
          "2021-12-31T00:00:00",
          "2022-01-31T00:00:00",
          "2022-02-28T00:00:00",
          "2022-03-31T00:00:00",
          "2022-04-30T00:00:00",
          "2022-05-31T00:00:00",
          "2022-06-30T00:00:00",
          "2022-07-31T00:00:00",
          "2022-08-31T00:00:00",
          "2022-09-30T00:00:00",
          "2022-10-31T00:00:00",
          "2022-11-30T00:00:00"
         ],
         "xaxis": "x",
         "y": [
          0,
          0.017998691648244858,
          0.0021412505537010684,
          -0.026115508235224127,
          -0.025409235021471854,
          -0.015516168936304364,
          0.018683325972912,
          0.0037276268973833737,
          -0.04653364342808686,
          -0.019602600640503454,
          -0.026687634838122865,
          -0.03424846127099057,
          -0.006689295688525498,
          0.0525312302557126,
          0.06841477333119017,
          0.0730208278253901,
          0.07479255609588376,
          0.10340009121862503,
          0.1570745292799165,
          0.1602280935148923,
          0.15199185979837537,
          0.17304189125146463,
          0.07689204500142144,
          0.0831289597827991,
          0.12072781314130299,
          0.13483274688850133,
          0.1756393708783015,
          0.1959183349127016,
          0.18350810647380444,
          0.15096178142065897,
          0.28621469432422453,
          0.2589017427723175,
          0.2920960319796526,
          0.23527854061178344,
          0.2505637710527284,
          0.2765702192395134,
          0.29740460068213803,
          0.2931427025612454,
          0.2987896537585353,
          0.34966127619221443,
          0.31748954598251733,
          0.34457849069344526,
          0.396945445031744,
          0.3525433361468391,
          0.3842656271318088,
          0.4326413317188911,
          0.4422016506120239,
          0.4936847907579851,
          0.584837785946654,
          0.6189731005346308,
          0.6169744750858144,
          0.6474947343841757,
          0.6988583910297896,
          0.7259076248980287,
          0.8024306262476049,
          0.9653622623013889,
          1.0010622436958783,
          0.9408180054004869,
          0.582165366986799,
          0.6499669745522623,
          0.685473206547758,
          0.7709960569858985,
          0.8261317445676324,
          1.122824209015008,
          1.2027104001877196,
          1.1258619130668364,
          1.1832314465144296,
          1.2354685057577455,
          1.4872666835515016,
          1.7873120471871924,
          2.07992601623331,
          1.9695316893402786,
          2.0281515845246414,
          2.220731252172107,
          2.3737263271435376,
          2.2687591946206416,
          2.4183391439968367,
          2.3579448720789267,
          2.48651555736004,
          2.6437039613621245,
          2.72495077280338,
          2.6934401760460625,
          2.7905117877870107,
          2.6533208691632275,
          2.726162677546395,
          2.6135381843333727,
          2.4032204827685546,
          2.207735588254677,
          2.144843045973508,
          2.1190069216881433,
          2.1641903807950893,
          2.1478008681588636,
          2.0075539981304438,
          1.8429175664732935,
          1.7501086210745722,
          1.604413290611364,
          1.520433792715885,
          1.6192585442221072,
          1.6009273685147885,
          1.6097490061897233,
          1.5398003170290373,
          1.5644558525844459,
          1.5374567906825884,
          1.5421738754725633,
          1.600449339821802,
          1.6914766242054982,
          1.665792221796797,
          1.540197736314871,
          1.6792071302567448,
          1.7638600607179096,
          1.78512101052481,
          1.8302969225499717,
          1.7541373819169257,
          1.6587647115209463,
          1.5631521549798646,
          1.5719904650393568,
          1.5612487066990668,
          1.4971383660597528,
          1.4926959259868893,
          1.3822409763323114,
          1.299664915518183,
          1.4515486519760592,
          1.277151475049298,
          1.3734190554848884,
          1.3193614171561672,
          1.3298710135549143,
          1.399468387192507,
          1.3962368591221672,
          1.3637474248063923,
          1.3505771556714508,
          1.2405390181202867,
          0.9805057240552035,
          1.0419568458575927,
          1.1780143289216816,
          1.1828823634110885,
          1.2616816440746548,
          1.2933854805371285,
          1.277508929567699,
          1.3366790981636423,
          1.3607061591889043,
          1.2985436262366061,
          1.5201315037710592,
          1.5487952271720045,
          1.5905851907629094,
          1.672856153599287,
          1.763594285649976,
          1.6161924975591497,
          1.7569784617204878,
          1.7165039123798804,
          1.983924124178308,
          2.009136219865489,
          1.9618025768849048,
          2.025845933399957,
          2.053858699895337,
          2.0702451919510882
         ],
         "yaxis": "y"
        }
       ],
       "layout": {
        "legend": {
         "title": {
          "text": "circulating_market_cap_GN"
         },
         "tracegroupgap": 0
        },
        "margin": {
         "t": 60
        },
        "template": {
         "data": {
          "bar": [
           {
            "error_x": {
             "color": "#2a3f5f"
            },
            "error_y": {
             "color": "#2a3f5f"
            },
            "marker": {
             "line": {
              "color": "#E5ECF6",
              "width": 0.5
             },
             "pattern": {
              "fillmode": "overlay",
              "size": 10,
              "solidity": 0.2
             }
            },
            "type": "bar"
           }
          ],
          "barpolar": [
           {
            "marker": {
             "line": {
              "color": "#E5ECF6",
              "width": 0.5
             },
             "pattern": {
              "fillmode": "overlay",
              "size": 10,
              "solidity": 0.2
             }
            },
            "type": "barpolar"
           }
          ],
          "carpet": [
           {
            "aaxis": {
             "endlinecolor": "#2a3f5f",
             "gridcolor": "white",
             "linecolor": "white",
             "minorgridcolor": "white",
             "startlinecolor": "#2a3f5f"
            },
            "baxis": {
             "endlinecolor": "#2a3f5f",
             "gridcolor": "white",
             "linecolor": "white",
             "minorgridcolor": "white",
             "startlinecolor": "#2a3f5f"
            },
            "type": "carpet"
           }
          ],
          "choropleth": [
           {
            "colorbar": {
             "outlinewidth": 0,
             "ticks": ""
            },
            "type": "choropleth"
           }
          ],
          "contour": [
           {
            "colorbar": {
             "outlinewidth": 0,
             "ticks": ""
            },
            "colorscale": [
             [
              0,
              "#0d0887"
             ],
             [
              0.1111111111111111,
              "#46039f"
             ],
             [
              0.2222222222222222,
              "#7201a8"
             ],
             [
              0.3333333333333333,
              "#9c179e"
             ],
             [
              0.4444444444444444,
              "#bd3786"
             ],
             [
              0.5555555555555556,
              "#d8576b"
             ],
             [
              0.6666666666666666,
              "#ed7953"
             ],
             [
              0.7777777777777778,
              "#fb9f3a"
             ],
             [
              0.8888888888888888,
              "#fdca26"
             ],
             [
              1,
              "#f0f921"
             ]
            ],
            "type": "contour"
           }
          ],
          "contourcarpet": [
           {
            "colorbar": {
             "outlinewidth": 0,
             "ticks": ""
            },
            "type": "contourcarpet"
           }
          ],
          "heatmap": [
           {
            "colorbar": {
             "outlinewidth": 0,
             "ticks": ""
            },
            "colorscale": [
             [
              0,
              "#0d0887"
             ],
             [
              0.1111111111111111,
              "#46039f"
             ],
             [
              0.2222222222222222,
              "#7201a8"
             ],
             [
              0.3333333333333333,
              "#9c179e"
             ],
             [
              0.4444444444444444,
              "#bd3786"
             ],
             [
              0.5555555555555556,
              "#d8576b"
             ],
             [
              0.6666666666666666,
              "#ed7953"
             ],
             [
              0.7777777777777778,
              "#fb9f3a"
             ],
             [
              0.8888888888888888,
              "#fdca26"
             ],
             [
              1,
              "#f0f921"
             ]
            ],
            "type": "heatmap"
           }
          ],
          "heatmapgl": [
           {
            "colorbar": {
             "outlinewidth": 0,
             "ticks": ""
            },
            "colorscale": [
             [
              0,
              "#0d0887"
             ],
             [
              0.1111111111111111,
              "#46039f"
             ],
             [
              0.2222222222222222,
              "#7201a8"
             ],
             [
              0.3333333333333333,
              "#9c179e"
             ],
             [
              0.4444444444444444,
              "#bd3786"
             ],
             [
              0.5555555555555556,
              "#d8576b"
             ],
             [
              0.6666666666666666,
              "#ed7953"
             ],
             [
              0.7777777777777778,
              "#fb9f3a"
             ],
             [
              0.8888888888888888,
              "#fdca26"
             ],
             [
              1,
              "#f0f921"
             ]
            ],
            "type": "heatmapgl"
           }
          ],
          "histogram": [
           {
            "marker": {
             "pattern": {
              "fillmode": "overlay",
              "size": 10,
              "solidity": 0.2
             }
            },
            "type": "histogram"
           }
          ],
          "histogram2d": [
           {
            "colorbar": {
             "outlinewidth": 0,
             "ticks": ""
            },
            "colorscale": [
             [
              0,
              "#0d0887"
             ],
             [
              0.1111111111111111,
              "#46039f"
             ],
             [
              0.2222222222222222,
              "#7201a8"
             ],
             [
              0.3333333333333333,
              "#9c179e"
             ],
             [
              0.4444444444444444,
              "#bd3786"
             ],
             [
              0.5555555555555556,
              "#d8576b"
             ],
             [
              0.6666666666666666,
              "#ed7953"
             ],
             [
              0.7777777777777778,
              "#fb9f3a"
             ],
             [
              0.8888888888888888,
              "#fdca26"
             ],
             [
              1,
              "#f0f921"
             ]
            ],
            "type": "histogram2d"
           }
          ],
          "histogram2dcontour": [
           {
            "colorbar": {
             "outlinewidth": 0,
             "ticks": ""
            },
            "colorscale": [
             [
              0,
              "#0d0887"
             ],
             [
              0.1111111111111111,
              "#46039f"
             ],
             [
              0.2222222222222222,
              "#7201a8"
             ],
             [
              0.3333333333333333,
              "#9c179e"
             ],
             [
              0.4444444444444444,
              "#bd3786"
             ],
             [
              0.5555555555555556,
              "#d8576b"
             ],
             [
              0.6666666666666666,
              "#ed7953"
             ],
             [
              0.7777777777777778,
              "#fb9f3a"
             ],
             [
              0.8888888888888888,
              "#fdca26"
             ],
             [
              1,
              "#f0f921"
             ]
            ],
            "type": "histogram2dcontour"
           }
          ],
          "mesh3d": [
           {
            "colorbar": {
             "outlinewidth": 0,
             "ticks": ""
            },
            "type": "mesh3d"
           }
          ],
          "parcoords": [
           {
            "line": {
             "colorbar": {
              "outlinewidth": 0,
              "ticks": ""
             }
            },
            "type": "parcoords"
           }
          ],
          "pie": [
           {
            "automargin": true,
            "type": "pie"
           }
          ],
          "scatter": [
           {
            "fillpattern": {
             "fillmode": "overlay",
             "size": 10,
             "solidity": 0.2
            },
            "type": "scatter"
           }
          ],
          "scatter3d": [
           {
            "line": {
             "colorbar": {
              "outlinewidth": 0,
              "ticks": ""
             }
            },
            "marker": {
             "colorbar": {
              "outlinewidth": 0,
              "ticks": ""
             }
            },
            "type": "scatter3d"
           }
          ],
          "scattercarpet": [
           {
            "marker": {
             "colorbar": {
              "outlinewidth": 0,
              "ticks": ""
             }
            },
            "type": "scattercarpet"
           }
          ],
          "scattergeo": [
           {
            "marker": {
             "colorbar": {
              "outlinewidth": 0,
              "ticks": ""
             }
            },
            "type": "scattergeo"
           }
          ],
          "scattergl": [
           {
            "marker": {
             "colorbar": {
              "outlinewidth": 0,
              "ticks": ""
             }
            },
            "type": "scattergl"
           }
          ],
          "scattermapbox": [
           {
            "marker": {
             "colorbar": {
              "outlinewidth": 0,
              "ticks": ""
             }
            },
            "type": "scattermapbox"
           }
          ],
          "scatterpolar": [
           {
            "marker": {
             "colorbar": {
              "outlinewidth": 0,
              "ticks": ""
             }
            },
            "type": "scatterpolar"
           }
          ],
          "scatterpolargl": [
           {
            "marker": {
             "colorbar": {
              "outlinewidth": 0,
              "ticks": ""
             }
            },
            "type": "scatterpolargl"
           }
          ],
          "scatterternary": [
           {
            "marker": {
             "colorbar": {
              "outlinewidth": 0,
              "ticks": ""
             }
            },
            "type": "scatterternary"
           }
          ],
          "surface": [
           {
            "colorbar": {
             "outlinewidth": 0,
             "ticks": ""
            },
            "colorscale": [
             [
              0,
              "#0d0887"
             ],
             [
              0.1111111111111111,
              "#46039f"
             ],
             [
              0.2222222222222222,
              "#7201a8"
             ],
             [
              0.3333333333333333,
              "#9c179e"
             ],
             [
              0.4444444444444444,
              "#bd3786"
             ],
             [
              0.5555555555555556,
              "#d8576b"
             ],
             [
              0.6666666666666666,
              "#ed7953"
             ],
             [
              0.7777777777777778,
              "#fb9f3a"
             ],
             [
              0.8888888888888888,
              "#fdca26"
             ],
             [
              1,
              "#f0f921"
             ]
            ],
            "type": "surface"
           }
          ],
          "table": [
           {
            "cells": {
             "fill": {
              "color": "#EBF0F8"
             },
             "line": {
              "color": "white"
             }
            },
            "header": {
             "fill": {
              "color": "#C8D4E3"
             },
             "line": {
              "color": "white"
             }
            },
            "type": "table"
           }
          ]
         },
         "layout": {
          "annotationdefaults": {
           "arrowcolor": "#2a3f5f",
           "arrowhead": 0,
           "arrowwidth": 1
          },
          "autotypenumbers": "strict",
          "coloraxis": {
           "colorbar": {
            "outlinewidth": 0,
            "ticks": ""
           }
          },
          "colorscale": {
           "diverging": [
            [
             0,
             "#8e0152"
            ],
            [
             0.1,
             "#c51b7d"
            ],
            [
             0.2,
             "#de77ae"
            ],
            [
             0.3,
             "#f1b6da"
            ],
            [
             0.4,
             "#fde0ef"
            ],
            [
             0.5,
             "#f7f7f7"
            ],
            [
             0.6,
             "#e6f5d0"
            ],
            [
             0.7,
             "#b8e186"
            ],
            [
             0.8,
             "#7fbc41"
            ],
            [
             0.9,
             "#4d9221"
            ],
            [
             1,
             "#276419"
            ]
           ],
           "sequential": [
            [
             0,
             "#0d0887"
            ],
            [
             0.1111111111111111,
             "#46039f"
            ],
            [
             0.2222222222222222,
             "#7201a8"
            ],
            [
             0.3333333333333333,
             "#9c179e"
            ],
            [
             0.4444444444444444,
             "#bd3786"
            ],
            [
             0.5555555555555556,
             "#d8576b"
            ],
            [
             0.6666666666666666,
             "#ed7953"
            ],
            [
             0.7777777777777778,
             "#fb9f3a"
            ],
            [
             0.8888888888888888,
             "#fdca26"
            ],
            [
             1,
             "#f0f921"
            ]
           ],
           "sequentialminus": [
            [
             0,
             "#0d0887"
            ],
            [
             0.1111111111111111,
             "#46039f"
            ],
            [
             0.2222222222222222,
             "#7201a8"
            ],
            [
             0.3333333333333333,
             "#9c179e"
            ],
            [
             0.4444444444444444,
             "#bd3786"
            ],
            [
             0.5555555555555556,
             "#d8576b"
            ],
            [
             0.6666666666666666,
             "#ed7953"
            ],
            [
             0.7777777777777778,
             "#fb9f3a"
            ],
            [
             0.8888888888888888,
             "#fdca26"
            ],
            [
             1,
             "#f0f921"
            ]
           ]
          },
          "colorway": [
           "#636efa",
           "#EF553B",
           "#00cc96",
           "#ab63fa",
           "#FFA15A",
           "#19d3f3",
           "#FF6692",
           "#B6E880",
           "#FF97FF",
           "#FECB52"
          ],
          "font": {
           "color": "#2a3f5f"
          },
          "geo": {
           "bgcolor": "white",
           "lakecolor": "white",
           "landcolor": "#E5ECF6",
           "showlakes": true,
           "showland": true,
           "subunitcolor": "white"
          },
          "hoverlabel": {
           "align": "left"
          },
          "hovermode": "closest",
          "mapbox": {
           "style": "light"
          },
          "paper_bgcolor": "white",
          "plot_bgcolor": "#E5ECF6",
          "polar": {
           "angularaxis": {
            "gridcolor": "white",
            "linecolor": "white",
            "ticks": ""
           },
           "bgcolor": "#E5ECF6",
           "radialaxis": {
            "gridcolor": "white",
            "linecolor": "white",
            "ticks": ""
           }
          },
          "scene": {
           "xaxis": {
            "backgroundcolor": "#E5ECF6",
            "gridcolor": "white",
            "gridwidth": 2,
            "linecolor": "white",
            "showbackground": true,
            "ticks": "",
            "zerolinecolor": "white"
           },
           "yaxis": {
            "backgroundcolor": "#E5ECF6",
            "gridcolor": "white",
            "gridwidth": 2,
            "linecolor": "white",
            "showbackground": true,
            "ticks": "",
            "zerolinecolor": "white"
           },
           "zaxis": {
            "backgroundcolor": "#E5ECF6",
            "gridcolor": "white",
            "gridwidth": 2,
            "linecolor": "white",
            "showbackground": true,
            "ticks": "",
            "zerolinecolor": "white"
           }
          },
          "shapedefaults": {
           "line": {
            "color": "#2a3f5f"
           }
          },
          "ternary": {
           "aaxis": {
            "gridcolor": "white",
            "linecolor": "white",
            "ticks": ""
           },
           "baxis": {
            "gridcolor": "white",
            "linecolor": "white",
            "ticks": ""
           },
           "bgcolor": "#E5ECF6",
           "caxis": {
            "gridcolor": "white",
            "linecolor": "white",
            "ticks": ""
           }
          },
          "title": {
           "x": 0.05
          },
          "xaxis": {
           "automargin": true,
           "gridcolor": "white",
           "linecolor": "white",
           "ticks": "",
           "title": {
            "standoff": 15
           },
           "zerolinecolor": "white",
           "zerolinewidth": 2
          },
          "yaxis": {
           "automargin": true,
           "gridcolor": "white",
           "linecolor": "white",
           "ticks": "",
           "title": {
            "standoff": 15
           },
           "zerolinecolor": "white",
           "zerolinewidth": 2
          }
         }
        },
        "title": {
         "text": "cumulative excess return(compound) of different groups-holding_period=1"
        },
        "xaxis": {
         "anchor": "y",
         "domain": [
          0,
          1
         ],
         "title": {
          "text": "date"
         }
        },
        "yaxis": {
         "anchor": "x",
         "domain": [
          0,
          1
         ],
         "title": {
          "text": "value"
         }
        }
       }
      },
      "text/html": [
       "<div>                            <div id=\"d49b8f57-3633-49c7-8a8c-a5f56c18b374\" class=\"plotly-graph-div\" style=\"height:525px; width:100%;\"></div>            <script type=\"text/javascript\">                require([\"plotly\"], function(Plotly) {                    window.PLOTLYENV=window.PLOTLYENV || {};                                    if (document.getElementById(\"d49b8f57-3633-49c7-8a8c-a5f56c18b374\")) {                    Plotly.newPlot(                        \"d49b8f57-3633-49c7-8a8c-a5f56c18b374\",                        [{\"hovertemplate\":\"circulating_market_cap_GN=0<br>date=%{x}<br>value=%{y}<extra></extra>\",\"legendgroup\":\"0\",\"line\":{\"color\":\"#636efa\",\"dash\":\"solid\"},\"marker\":{\"symbol\":\"circle\"},\"mode\":\"lines\",\"name\":\"0\",\"showlegend\":true,\"x\":[\"2010-01-31T00:00:00\",\"2010-02-28T00:00:00\",\"2010-03-31T00:00:00\",\"2010-04-30T00:00:00\",\"2010-05-31T00:00:00\",\"2010-06-30T00:00:00\",\"2010-07-31T00:00:00\",\"2010-08-31T00:00:00\",\"2010-09-30T00:00:00\",\"2010-10-31T00:00:00\",\"2010-11-30T00:00:00\",\"2010-12-31T00:00:00\",\"2011-01-31T00:00:00\",\"2011-02-28T00:00:00\",\"2011-03-31T00:00:00\",\"2011-04-30T00:00:00\",\"2011-05-31T00:00:00\",\"2011-06-30T00:00:00\",\"2011-07-31T00:00:00\",\"2011-08-31T00:00:00\",\"2011-09-30T00:00:00\",\"2011-10-31T00:00:00\",\"2011-11-30T00:00:00\",\"2011-12-31T00:00:00\",\"2012-01-31T00:00:00\",\"2012-02-29T00:00:00\",\"2012-03-31T00:00:00\",\"2012-04-30T00:00:00\",\"2012-05-31T00:00:00\",\"2012-06-30T00:00:00\",\"2012-07-31T00:00:00\",\"2012-08-31T00:00:00\",\"2012-09-30T00:00:00\",\"2012-10-31T00:00:00\",\"2012-11-30T00:00:00\",\"2012-12-31T00:00:00\",\"2013-01-31T00:00:00\",\"2013-02-28T00:00:00\",\"2013-03-31T00:00:00\",\"2013-04-30T00:00:00\",\"2013-05-31T00:00:00\",\"2013-06-30T00:00:00\",\"2013-07-31T00:00:00\",\"2013-08-31T00:00:00\",\"2013-09-30T00:00:00\",\"2013-10-31T00:00:00\",\"2013-11-30T00:00:00\",\"2013-12-31T00:00:00\",\"2014-01-31T00:00:00\",\"2014-02-28T00:00:00\",\"2014-03-31T00:00:00\",\"2014-04-30T00:00:00\",\"2014-05-31T00:00:00\",\"2014-06-30T00:00:00\",\"2014-07-31T00:00:00\",\"2014-08-31T00:00:00\",\"2014-09-30T00:00:00\",\"2014-10-31T00:00:00\",\"2014-11-30T00:00:00\",\"2014-12-31T00:00:00\",\"2015-01-31T00:00:00\",\"2015-02-28T00:00:00\",\"2015-03-31T00:00:00\",\"2015-04-30T00:00:00\",\"2015-05-31T00:00:00\",\"2015-06-30T00:00:00\",\"2015-07-31T00:00:00\",\"2015-08-31T00:00:00\",\"2015-09-30T00:00:00\",\"2015-10-31T00:00:00\",\"2015-11-30T00:00:00\",\"2015-12-31T00:00:00\",\"2016-01-31T00:00:00\",\"2016-02-29T00:00:00\",\"2016-03-31T00:00:00\",\"2016-04-30T00:00:00\",\"2016-05-31T00:00:00\",\"2016-06-30T00:00:00\",\"2016-07-31T00:00:00\",\"2016-08-31T00:00:00\",\"2016-09-30T00:00:00\",\"2016-10-31T00:00:00\",\"2016-11-30T00:00:00\",\"2016-12-31T00:00:00\",\"2017-01-31T00:00:00\",\"2017-02-28T00:00:00\",\"2017-03-31T00:00:00\",\"2017-04-30T00:00:00\",\"2017-05-31T00:00:00\",\"2017-06-30T00:00:00\",\"2017-07-31T00:00:00\",\"2017-08-31T00:00:00\",\"2017-09-30T00:00:00\",\"2017-10-31T00:00:00\",\"2017-11-30T00:00:00\",\"2017-12-31T00:00:00\",\"2018-01-31T00:00:00\",\"2018-02-28T00:00:00\",\"2018-03-31T00:00:00\",\"2018-04-30T00:00:00\",\"2018-05-31T00:00:00\",\"2018-06-30T00:00:00\",\"2018-07-31T00:00:00\",\"2018-08-31T00:00:00\",\"2018-09-30T00:00:00\",\"2018-10-31T00:00:00\",\"2018-11-30T00:00:00\",\"2018-12-31T00:00:00\",\"2019-01-31T00:00:00\",\"2019-02-28T00:00:00\",\"2019-03-31T00:00:00\",\"2019-04-30T00:00:00\",\"2019-05-31T00:00:00\",\"2019-06-30T00:00:00\",\"2019-07-31T00:00:00\",\"2019-08-31T00:00:00\",\"2019-09-30T00:00:00\",\"2019-10-31T00:00:00\",\"2019-11-30T00:00:00\",\"2019-12-31T00:00:00\",\"2020-01-31T00:00:00\",\"2020-02-29T00:00:00\",\"2020-03-31T00:00:00\",\"2020-04-30T00:00:00\",\"2020-05-31T00:00:00\",\"2020-06-30T00:00:00\",\"2020-07-31T00:00:00\",\"2020-08-31T00:00:00\",\"2020-09-30T00:00:00\",\"2020-10-31T00:00:00\",\"2020-11-30T00:00:00\",\"2020-12-31T00:00:00\",\"2021-01-31T00:00:00\",\"2021-02-28T00:00:00\",\"2021-03-31T00:00:00\",\"2021-04-30T00:00:00\",\"2021-05-31T00:00:00\",\"2021-06-30T00:00:00\",\"2021-07-31T00:00:00\",\"2021-08-31T00:00:00\",\"2021-09-30T00:00:00\",\"2021-10-31T00:00:00\",\"2021-11-30T00:00:00\",\"2021-12-31T00:00:00\",\"2022-01-31T00:00:00\",\"2022-02-28T00:00:00\",\"2022-03-31T00:00:00\",\"2022-04-30T00:00:00\",\"2022-05-31T00:00:00\",\"2022-06-30T00:00:00\",\"2022-07-31T00:00:00\",\"2022-08-31T00:00:00\",\"2022-09-30T00:00:00\",\"2022-10-31T00:00:00\",\"2022-11-30T00:00:00\"],\"xaxis\":\"x\",\"y\":[0.0,-0.013344041756446656,-0.021271388072640396,-0.038111643860746836,-0.031817860350460525,-0.03685327147346684,-0.04540144739056129,-0.045986747856585075,-0.03568923091998444,-0.053519657517651975,-0.042430284358527914,-0.03794004927589156,-0.04549507657815677,-0.008806617725452326,0.013092090100969234,0.01882871716188017,0.016616830624231582,0.017450166286065993,0.04024553358570815,0.048526967859677805,0.0398919675608731,0.04078897019616479,0.01960152321550157,0.050388420608977524,0.04278292186133159,0.05165902517152898,0.07754575338214997,0.08420687767653412,0.0779022711225823,0.0817640538690445,0.13457185397811733,0.1368406030322089,0.13613025428893555,0.13040092719748997,0.1453258536450417,0.14741891608377422,0.127173183861929,0.11474680495238143,0.12012011734672057,0.10417078469026486,0.08489065364901016,0.06933854486529034,0.08325664138573696,0.0518738334605664,0.06489997630363242,0.06157409085858245,0.061285115591504624,0.03552730993386133,0.05121506906989026,0.056893284878345884,0.058766419694495475,0.056405857028936524,0.05456065136687349,0.06910165991111383,0.06834480315091773,0.09354640830977967,0.11243793809428282,0.12901741242616604,0.1305422791791293,0.12013451142593534,0.12108108739020662,0.11350867005094223,0.15024616509400435,0.1242627810094632,0.1673361377340754,0.1561049278004747,0.18541984244715493,0.18594629670010843,0.2030093274385969,0.22735913714970657,0.2939584855298185,0.29609658316406473,0.31243130626667903,0.32500675237736654,0.3524630648173661,0.3293374203027799,0.3279555853764322,0.3522224832118497,0.38173740495020847,0.4196144393692458,0.43198505946242527,0.4463202846954317,0.4677588228710896,0.46996061582102366,0.48229508315365344,0.47244373017699415,0.4673395042625115,0.4514617842805475,0.45166335326667206,0.47281782249494864,0.475671477297142,0.4624829340453114,0.4618407321165332,0.4355441441057275,0.42961787781816274,0.43065782544232434,0.39855717117941003,0.38850911985655934,0.38315843763990887,0.42578956982808824,0.42376106089131893,0.4368279409777036,0.4367390639863933,0.46390925122676907,0.4832204679858554,0.4690719292802097,0.4629195233476264,0.4624547369846066,0.460891810151953,0.4602541133659941,0.4885404077955755,0.48914169802096774,0.49524581760456754,0.48255014104927096,0.4482830658223538,0.4464248043248522,0.4503837595628959,0.4469862153066704,0.4374734795419233,0.3785401689057797,0.3397634518175441,0.37814096960630184,0.3429742263138409,0.37416434032355084,0.3741124667766311,0.3900849779520974,0.40567115015958155,0.41222263258521386,0.4015434625656529,0.4096763344095746,0.43863439664508586,0.40185260266770273,0.3927331048969809,0.4048088976446482,0.43354308395230223,0.45097825145993475,0.43223748512535676,0.3831523431400474,0.38806336435789346,0.4079037320061327,0.39565727063990197,0.3968513360619301,0.3801576903757111,0.386935082890391,0.4006962989787193,0.39225398361596997,0.4215821688806689,0.43064015998874083,0.43604710864869434,0.4670494597550945,0.4827395339666338,0.4844503315601185,0.43511786663100094,0.4442200229410529,0.47422801590034913],\"yaxis\":\"y\",\"type\":\"scattergl\"},{\"hovertemplate\":\"circulating_market_cap_GN=1<br>date=%{x}<br>value=%{y}<extra></extra>\",\"legendgroup\":\"1\",\"line\":{\"color\":\"#EF553B\",\"dash\":\"solid\"},\"marker\":{\"symbol\":\"circle\"},\"mode\":\"lines\",\"name\":\"1\",\"showlegend\":true,\"x\":[\"2010-01-31T00:00:00\",\"2010-02-28T00:00:00\",\"2010-03-31T00:00:00\",\"2010-04-30T00:00:00\",\"2010-05-31T00:00:00\",\"2010-06-30T00:00:00\",\"2010-07-31T00:00:00\",\"2010-08-31T00:00:00\",\"2010-09-30T00:00:00\",\"2010-10-31T00:00:00\",\"2010-11-30T00:00:00\",\"2010-12-31T00:00:00\",\"2011-01-31T00:00:00\",\"2011-02-28T00:00:00\",\"2011-03-31T00:00:00\",\"2011-04-30T00:00:00\",\"2011-05-31T00:00:00\",\"2011-06-30T00:00:00\",\"2011-07-31T00:00:00\",\"2011-08-31T00:00:00\",\"2011-09-30T00:00:00\",\"2011-10-31T00:00:00\",\"2011-11-30T00:00:00\",\"2011-12-31T00:00:00\",\"2012-01-31T00:00:00\",\"2012-02-29T00:00:00\",\"2012-03-31T00:00:00\",\"2012-04-30T00:00:00\",\"2012-05-31T00:00:00\",\"2012-06-30T00:00:00\",\"2012-07-31T00:00:00\",\"2012-08-31T00:00:00\",\"2012-09-30T00:00:00\",\"2012-10-31T00:00:00\",\"2012-11-30T00:00:00\",\"2012-12-31T00:00:00\",\"2013-01-31T00:00:00\",\"2013-02-28T00:00:00\",\"2013-03-31T00:00:00\",\"2013-04-30T00:00:00\",\"2013-05-31T00:00:00\",\"2013-06-30T00:00:00\",\"2013-07-31T00:00:00\",\"2013-08-31T00:00:00\",\"2013-09-30T00:00:00\",\"2013-10-31T00:00:00\",\"2013-11-30T00:00:00\",\"2013-12-31T00:00:00\",\"2014-01-31T00:00:00\",\"2014-02-28T00:00:00\",\"2014-03-31T00:00:00\",\"2014-04-30T00:00:00\",\"2014-05-31T00:00:00\",\"2014-06-30T00:00:00\",\"2014-07-31T00:00:00\",\"2014-08-31T00:00:00\",\"2014-09-30T00:00:00\",\"2014-10-31T00:00:00\",\"2014-11-30T00:00:00\",\"2014-12-31T00:00:00\",\"2015-01-31T00:00:00\",\"2015-02-28T00:00:00\",\"2015-03-31T00:00:00\",\"2015-04-30T00:00:00\",\"2015-05-31T00:00:00\",\"2015-06-30T00:00:00\",\"2015-07-31T00:00:00\",\"2015-08-31T00:00:00\",\"2015-09-30T00:00:00\",\"2015-10-31T00:00:00\",\"2015-11-30T00:00:00\",\"2015-12-31T00:00:00\",\"2016-01-31T00:00:00\",\"2016-02-29T00:00:00\",\"2016-03-31T00:00:00\",\"2016-04-30T00:00:00\",\"2016-05-31T00:00:00\",\"2016-06-30T00:00:00\",\"2016-07-31T00:00:00\",\"2016-08-31T00:00:00\",\"2016-09-30T00:00:00\",\"2016-10-31T00:00:00\",\"2016-11-30T00:00:00\",\"2016-12-31T00:00:00\",\"2017-01-31T00:00:00\",\"2017-02-28T00:00:00\",\"2017-03-31T00:00:00\",\"2017-04-30T00:00:00\",\"2017-05-31T00:00:00\",\"2017-06-30T00:00:00\",\"2017-07-31T00:00:00\",\"2017-08-31T00:00:00\",\"2017-09-30T00:00:00\",\"2017-10-31T00:00:00\",\"2017-11-30T00:00:00\",\"2017-12-31T00:00:00\",\"2018-01-31T00:00:00\",\"2018-02-28T00:00:00\",\"2018-03-31T00:00:00\",\"2018-04-30T00:00:00\",\"2018-05-31T00:00:00\",\"2018-06-30T00:00:00\",\"2018-07-31T00:00:00\",\"2018-08-31T00:00:00\",\"2018-09-30T00:00:00\",\"2018-10-31T00:00:00\",\"2018-11-30T00:00:00\",\"2018-12-31T00:00:00\",\"2019-01-31T00:00:00\",\"2019-02-28T00:00:00\",\"2019-03-31T00:00:00\",\"2019-04-30T00:00:00\",\"2019-05-31T00:00:00\",\"2019-06-30T00:00:00\",\"2019-07-31T00:00:00\",\"2019-08-31T00:00:00\",\"2019-09-30T00:00:00\",\"2019-10-31T00:00:00\",\"2019-11-30T00:00:00\",\"2019-12-31T00:00:00\",\"2020-01-31T00:00:00\",\"2020-02-29T00:00:00\",\"2020-03-31T00:00:00\",\"2020-04-30T00:00:00\",\"2020-05-31T00:00:00\",\"2020-06-30T00:00:00\",\"2020-07-31T00:00:00\",\"2020-08-31T00:00:00\",\"2020-09-30T00:00:00\",\"2020-10-31T00:00:00\",\"2020-11-30T00:00:00\",\"2020-12-31T00:00:00\",\"2021-01-31T00:00:00\",\"2021-02-28T00:00:00\",\"2021-03-31T00:00:00\",\"2021-04-30T00:00:00\",\"2021-05-31T00:00:00\",\"2021-06-30T00:00:00\",\"2021-07-31T00:00:00\",\"2021-08-31T00:00:00\",\"2021-09-30T00:00:00\",\"2021-10-31T00:00:00\",\"2021-11-30T00:00:00\",\"2021-12-31T00:00:00\",\"2022-01-31T00:00:00\",\"2022-02-28T00:00:00\",\"2022-03-31T00:00:00\",\"2022-04-30T00:00:00\",\"2022-05-31T00:00:00\",\"2022-06-30T00:00:00\",\"2022-07-31T00:00:00\",\"2022-08-31T00:00:00\",\"2022-09-30T00:00:00\",\"2022-10-31T00:00:00\",\"2022-11-30T00:00:00\"],\"xaxis\":\"x\",\"y\":[0.0,0.022348342438538893,0.020844340399098327,0.029505075796774527,0.03994439414188666,0.049624707641735766,0.050035487267758194,0.05576369841353346,0.05772571360261147,0.06500831397355356,0.080098784516768,0.08307726726473419,0.0760780533170533,0.07187233302720841,0.05245165573165633,0.05505686796000542,0.05962141387305797,0.11401954940706105,0.12770398421746476,0.14504855902094738,0.13738991807160628,0.13973163823679502,0.12946621340353714,0.14469344517362814,0.15687851996149993,0.15193879846045344,0.16212616014661485,0.15862272259004428,0.15786006558630272,0.14314123803900136,0.1416653523238478,0.1458164678947662,0.15093963372774288,0.1548858319065829,0.15858004505512602,0.14287598672092083,0.16115818944149063,0.15316249646770808,0.14604824140292205,0.1380671931415809,0.12863062866831076,0.12105126505945707,0.13959318108502972,0.1560032508939626,0.17181611134226782,0.18577847136896786,0.1800690547587842,0.16205761916436434,0.17413251218724302,0.18574731489427276,0.18596347277523062,0.19717568316886425,0.20508246077900139,0.21864758194305378,0.23893227443950082,0.27014749699048757,0.2725531970158126,0.26047666963952554,0.24472157699871078,0.23083442396830933,0.2272862280163388,0.2413191135274353,0.28041236899921707,0.352153627215803,0.3658268817844985,0.3652598350256797,0.36968418286261584,0.3870304828239455,0.43817531803493326,0.5117169352703783,0.5525810232053587,0.5596347276176861,0.5662452399850819,0.5925523455955308,0.6370986396113298,0.6218107557462431,0.6464047979079393,0.6560169636668431,0.6797765374796396,0.7011304928115754,0.7134263454854943,0.7029800080830468,0.7171016501083545,0.7146432404320524,0.7278696570404004,0.736807310899722,0.7209553653707159,0.7110663666580714,0.7176158855152674,0.7209740797256432,0.7296387364222097,0.7399273322683839,0.7072067155911372,0.6764527597965211,0.6676138488234638,0.6596592961506418,0.64039887452188,0.6602877108021981,0.6811167325584337,0.6943794963774201,0.668024602875176,0.6628304903929867,0.6607012767652023,0.6612020161989196,0.6810437728953576,0.6834256007166524,0.6862377758496558,0.6691071636408699,0.6630347790000066,0.6537388634508601,0.6723165597772831,0.7231096512449264,0.7227115988365784,0.7245584293906715,0.7339798876772503,0.7173984828972191,0.7352510892375681,0.7195258759967245,0.7159777093285737,0.7255348619285866,0.7507961190798791,0.7812904949218626,0.7593040238345641,0.7479827650037567,0.7623745258239072,0.7599018650310647,0.7622893060053395,0.7705201630020595,0.7785991862708235,0.7823321988936893,0.7743409651948654,0.7277750344575982,0.7395885274456195,0.7680442116036124,0.7858446810470436,0.7922141823831053,0.8168731326291563,0.8906558832418137,0.8357335593073798,0.8554758813283219,0.8557710463848744,0.9192918614487613,0.9327652311313972,0.924705569003597,0.9273367810832027,0.9398809233260876,0.912014833306765,0.9453259108239704,0.9642698347563012,1.0344504167675423,1.0196786928981552,1.0196771451998976,1.0197797274943485,1.0253638197390096,0.9892266735653339],\"yaxis\":\"y\",\"type\":\"scattergl\"},{\"hovertemplate\":\"circulating_market_cap_GN=2<br>date=%{x}<br>value=%{y}<extra></extra>\",\"legendgroup\":\"2\",\"line\":{\"color\":\"#00cc96\",\"dash\":\"solid\"},\"marker\":{\"symbol\":\"circle\"},\"mode\":\"lines\",\"name\":\"2\",\"showlegend\":true,\"x\":[\"2010-01-31T00:00:00\",\"2010-02-28T00:00:00\",\"2010-03-31T00:00:00\",\"2010-04-30T00:00:00\",\"2010-05-31T00:00:00\",\"2010-06-30T00:00:00\",\"2010-07-31T00:00:00\",\"2010-08-31T00:00:00\",\"2010-09-30T00:00:00\",\"2010-10-31T00:00:00\",\"2010-11-30T00:00:00\",\"2010-12-31T00:00:00\",\"2011-01-31T00:00:00\",\"2011-02-28T00:00:00\",\"2011-03-31T00:00:00\",\"2011-04-30T00:00:00\",\"2011-05-31T00:00:00\",\"2011-06-30T00:00:00\",\"2011-07-31T00:00:00\",\"2011-08-31T00:00:00\",\"2011-09-30T00:00:00\",\"2011-10-31T00:00:00\",\"2011-11-30T00:00:00\",\"2011-12-31T00:00:00\",\"2012-01-31T00:00:00\",\"2012-02-29T00:00:00\",\"2012-03-31T00:00:00\",\"2012-04-30T00:00:00\",\"2012-05-31T00:00:00\",\"2012-06-30T00:00:00\",\"2012-07-31T00:00:00\",\"2012-08-31T00:00:00\",\"2012-09-30T00:00:00\",\"2012-10-31T00:00:00\",\"2012-11-30T00:00:00\",\"2012-12-31T00:00:00\",\"2013-01-31T00:00:00\",\"2013-02-28T00:00:00\",\"2013-03-31T00:00:00\",\"2013-04-30T00:00:00\",\"2013-05-31T00:00:00\",\"2013-06-30T00:00:00\",\"2013-07-31T00:00:00\",\"2013-08-31T00:00:00\",\"2013-09-30T00:00:00\",\"2013-10-31T00:00:00\",\"2013-11-30T00:00:00\",\"2013-12-31T00:00:00\",\"2014-01-31T00:00:00\",\"2014-02-28T00:00:00\",\"2014-03-31T00:00:00\",\"2014-04-30T00:00:00\",\"2014-05-31T00:00:00\",\"2014-06-30T00:00:00\",\"2014-07-31T00:00:00\",\"2014-08-31T00:00:00\",\"2014-09-30T00:00:00\",\"2014-10-31T00:00:00\",\"2014-11-30T00:00:00\",\"2014-12-31T00:00:00\",\"2015-01-31T00:00:00\",\"2015-02-28T00:00:00\",\"2015-03-31T00:00:00\",\"2015-04-30T00:00:00\",\"2015-05-31T00:00:00\",\"2015-06-30T00:00:00\",\"2015-07-31T00:00:00\",\"2015-08-31T00:00:00\",\"2015-09-30T00:00:00\",\"2015-10-31T00:00:00\",\"2015-11-30T00:00:00\",\"2015-12-31T00:00:00\",\"2016-01-31T00:00:00\",\"2016-02-29T00:00:00\",\"2016-03-31T00:00:00\",\"2016-04-30T00:00:00\",\"2016-05-31T00:00:00\",\"2016-06-30T00:00:00\",\"2016-07-31T00:00:00\",\"2016-08-31T00:00:00\",\"2016-09-30T00:00:00\",\"2016-10-31T00:00:00\",\"2016-11-30T00:00:00\",\"2016-12-31T00:00:00\",\"2017-01-31T00:00:00\",\"2017-02-28T00:00:00\",\"2017-03-31T00:00:00\",\"2017-04-30T00:00:00\",\"2017-05-31T00:00:00\",\"2017-06-30T00:00:00\",\"2017-07-31T00:00:00\",\"2017-08-31T00:00:00\",\"2017-09-30T00:00:00\",\"2017-10-31T00:00:00\",\"2017-11-30T00:00:00\",\"2017-12-31T00:00:00\",\"2018-01-31T00:00:00\",\"2018-02-28T00:00:00\",\"2018-03-31T00:00:00\",\"2018-04-30T00:00:00\",\"2018-05-31T00:00:00\",\"2018-06-30T00:00:00\",\"2018-07-31T00:00:00\",\"2018-08-31T00:00:00\",\"2018-09-30T00:00:00\",\"2018-10-31T00:00:00\",\"2018-11-30T00:00:00\",\"2018-12-31T00:00:00\",\"2019-01-31T00:00:00\",\"2019-02-28T00:00:00\",\"2019-03-31T00:00:00\",\"2019-04-30T00:00:00\",\"2019-05-31T00:00:00\",\"2019-06-30T00:00:00\",\"2019-07-31T00:00:00\",\"2019-08-31T00:00:00\",\"2019-09-30T00:00:00\",\"2019-10-31T00:00:00\",\"2019-11-30T00:00:00\",\"2019-12-31T00:00:00\",\"2020-01-31T00:00:00\",\"2020-02-29T00:00:00\",\"2020-03-31T00:00:00\",\"2020-04-30T00:00:00\",\"2020-05-31T00:00:00\",\"2020-06-30T00:00:00\",\"2020-07-31T00:00:00\",\"2020-08-31T00:00:00\",\"2020-09-30T00:00:00\",\"2020-10-31T00:00:00\",\"2020-11-30T00:00:00\",\"2020-12-31T00:00:00\",\"2021-01-31T00:00:00\",\"2021-02-28T00:00:00\",\"2021-03-31T00:00:00\",\"2021-04-30T00:00:00\",\"2021-05-31T00:00:00\",\"2021-06-30T00:00:00\",\"2021-07-31T00:00:00\",\"2021-08-31T00:00:00\",\"2021-09-30T00:00:00\",\"2021-10-31T00:00:00\",\"2021-11-30T00:00:00\",\"2021-12-31T00:00:00\",\"2022-01-31T00:00:00\",\"2022-02-28T00:00:00\",\"2022-03-31T00:00:00\",\"2022-04-30T00:00:00\",\"2022-05-31T00:00:00\",\"2022-06-30T00:00:00\",\"2022-07-31T00:00:00\",\"2022-08-31T00:00:00\",\"2022-09-30T00:00:00\",\"2022-10-31T00:00:00\",\"2022-11-30T00:00:00\"],\"xaxis\":\"x\",\"y\":[0.0,0.01984669741810552,0.005524628575133805,0.003628595262584744,-0.0033562573634193793,0.008788345217891624,0.034872914736873595,0.01834117738159291,-0.00867280079569721,0.026437418645565147,0.03102406257745116,0.03988730597813439,0.04976154332975358,0.06475964201565643,0.05893120062053159,0.06560880161507887,0.06499408546137309,0.06474573391504679,0.05617171122350473,0.05147328149540331,0.044833260464125724,0.04765389342137527,0.02847089346692111,0.02747934243061767,0.03119922521951657,0.03847827007874849,0.04433938865006248,0.051393634702835644,0.07385006245086223,0.0587601962083768,0.06962118363295122,0.06790822344857217,0.06755158811056838,0.07350348390464623,0.07739645541963758,0.08871744230387368,0.09063726624386037,0.09380036978208861,0.10149047679331336,0.10623573320836543,0.11108793525054539,0.12318834119069488,0.122971452325914,0.10568011364934349,0.12209753492595032,0.13951847757802516,0.1394896372614678,0.16743074301483118,0.18890951528844213,0.2013642929992534,0.20720287476355792,0.21898567772554278,0.24542858360225472,0.24441783479260182,0.2570837905076766,0.3049508723543508,0.3095290692466033,0.30928173351947796,0.23754034548617353,0.2634939159165868,0.2607854357338528,0.2884957774124568,0.30496851355700305,0.3739526175266923,0.40346496912307206,0.3787055204887628,0.38955702854603613,0.4343592079920464,0.48756412670441374,0.5343412180686986,0.5685118895851495,0.5808023926359436,0.5829048544976738,0.6337718464530535,0.6542282030118611,0.6841771597584394,0.7231409186225728,0.7072571477422511,0.7283231000871404,0.7342547025887682,0.7578442846680715,0.7764020119053996,0.7747116609451572,0.7600983575276932,0.7649777532225581,0.7493025962350435,0.7283174973702309,0.7255676284349717,0.7199630711803593,0.690640084009277,0.71549278329251,0.7366854737878785,0.7188868763168474,0.70340652236123,0.6970684697276242,0.6706900755547056,0.6589104826677687,0.7300384099807686,0.7402341762007798,0.7125226261206437,0.7204029098412874,0.7206833224762688,0.7302364062766324,0.7109427588923964,0.7289687428279119,0.7514335363221076,0.7633001091938396,0.7214900656036198,0.7528458060698215,0.7764831734255218,0.7682492711438083,0.8131047620642855,0.8190707850841261,0.8292103376500746,0.8385839203069978,0.8562039288785559,0.8550988549024305,0.8373323310577951,0.853966134563132,0.8683832946527654,0.8504635093051409,0.8928447442879754,0.8709694410249431,0.8581011977749562,0.8516712270017257,0.8625490400380058,0.8764101954397838,0.8872912452288126,0.9277397219889849,0.9249030675743557,0.8990913632552666,0.8304882698847615,0.8415197111449306,0.8694009222292152,0.8525714509802009,0.8904817164353447,0.9394874954686863,0.9472693895515576,0.9552130099056746,0.9646415041068901,0.970211375749015,1.0629539330348985,1.0929336875266702,1.1006605421205768,1.0977590711726077,1.1981202364230592,1.1655195251172414,1.1966393091790621,1.1889684482828473,1.2476829783270147,1.252231234327497,1.2591539746400873,1.2910415149956402,1.2951911683223263,1.2452586104176429],\"yaxis\":\"y\",\"type\":\"scattergl\"},{\"hovertemplate\":\"circulating_market_cap_GN=3<br>date=%{x}<br>value=%{y}<extra></extra>\",\"legendgroup\":\"3\",\"line\":{\"color\":\"#ab63fa\",\"dash\":\"solid\"},\"marker\":{\"symbol\":\"circle\"},\"mode\":\"lines\",\"name\":\"3\",\"showlegend\":true,\"x\":[\"2010-01-31T00:00:00\",\"2010-02-28T00:00:00\",\"2010-03-31T00:00:00\",\"2010-04-30T00:00:00\",\"2010-05-31T00:00:00\",\"2010-06-30T00:00:00\",\"2010-07-31T00:00:00\",\"2010-08-31T00:00:00\",\"2010-09-30T00:00:00\",\"2010-10-31T00:00:00\",\"2010-11-30T00:00:00\",\"2010-12-31T00:00:00\",\"2011-01-31T00:00:00\",\"2011-02-28T00:00:00\",\"2011-03-31T00:00:00\",\"2011-04-30T00:00:00\",\"2011-05-31T00:00:00\",\"2011-06-30T00:00:00\",\"2011-07-31T00:00:00\",\"2011-08-31T00:00:00\",\"2011-09-30T00:00:00\",\"2011-10-31T00:00:00\",\"2011-11-30T00:00:00\",\"2011-12-31T00:00:00\",\"2012-01-31T00:00:00\",\"2012-02-29T00:00:00\",\"2012-03-31T00:00:00\",\"2012-04-30T00:00:00\",\"2012-05-31T00:00:00\",\"2012-06-30T00:00:00\",\"2012-07-31T00:00:00\",\"2012-08-31T00:00:00\",\"2012-09-30T00:00:00\",\"2012-10-31T00:00:00\",\"2012-11-30T00:00:00\",\"2012-12-31T00:00:00\",\"2013-01-31T00:00:00\",\"2013-02-28T00:00:00\",\"2013-03-31T00:00:00\",\"2013-04-30T00:00:00\",\"2013-05-31T00:00:00\",\"2013-06-30T00:00:00\",\"2013-07-31T00:00:00\",\"2013-08-31T00:00:00\",\"2013-09-30T00:00:00\",\"2013-10-31T00:00:00\",\"2013-11-30T00:00:00\",\"2013-12-31T00:00:00\",\"2014-01-31T00:00:00\",\"2014-02-28T00:00:00\",\"2014-03-31T00:00:00\",\"2014-04-30T00:00:00\",\"2014-05-31T00:00:00\",\"2014-06-30T00:00:00\",\"2014-07-31T00:00:00\",\"2014-08-31T00:00:00\",\"2014-09-30T00:00:00\",\"2014-10-31T00:00:00\",\"2014-11-30T00:00:00\",\"2014-12-31T00:00:00\",\"2015-01-31T00:00:00\",\"2015-02-28T00:00:00\",\"2015-03-31T00:00:00\",\"2015-04-30T00:00:00\",\"2015-05-31T00:00:00\",\"2015-06-30T00:00:00\",\"2015-07-31T00:00:00\",\"2015-08-31T00:00:00\",\"2015-09-30T00:00:00\",\"2015-10-31T00:00:00\",\"2015-11-30T00:00:00\",\"2015-12-31T00:00:00\",\"2016-01-31T00:00:00\",\"2016-02-29T00:00:00\",\"2016-03-31T00:00:00\",\"2016-04-30T00:00:00\",\"2016-05-31T00:00:00\",\"2016-06-30T00:00:00\",\"2016-07-31T00:00:00\",\"2016-08-31T00:00:00\",\"2016-09-30T00:00:00\",\"2016-10-31T00:00:00\",\"2016-11-30T00:00:00\",\"2016-12-31T00:00:00\",\"2017-01-31T00:00:00\",\"2017-02-28T00:00:00\",\"2017-03-31T00:00:00\",\"2017-04-30T00:00:00\",\"2017-05-31T00:00:00\",\"2017-06-30T00:00:00\",\"2017-07-31T00:00:00\",\"2017-08-31T00:00:00\",\"2017-09-30T00:00:00\",\"2017-10-31T00:00:00\",\"2017-11-30T00:00:00\",\"2017-12-31T00:00:00\",\"2018-01-31T00:00:00\",\"2018-02-28T00:00:00\",\"2018-03-31T00:00:00\",\"2018-04-30T00:00:00\",\"2018-05-31T00:00:00\",\"2018-06-30T00:00:00\",\"2018-07-31T00:00:00\",\"2018-08-31T00:00:00\",\"2018-09-30T00:00:00\",\"2018-10-31T00:00:00\",\"2018-11-30T00:00:00\",\"2018-12-31T00:00:00\",\"2019-01-31T00:00:00\",\"2019-02-28T00:00:00\",\"2019-03-31T00:00:00\",\"2019-04-30T00:00:00\",\"2019-05-31T00:00:00\",\"2019-06-30T00:00:00\",\"2019-07-31T00:00:00\",\"2019-08-31T00:00:00\",\"2019-09-30T00:00:00\",\"2019-10-31T00:00:00\",\"2019-11-30T00:00:00\",\"2019-12-31T00:00:00\",\"2020-01-31T00:00:00\",\"2020-02-29T00:00:00\",\"2020-03-31T00:00:00\",\"2020-04-30T00:00:00\",\"2020-05-31T00:00:00\",\"2020-06-30T00:00:00\",\"2020-07-31T00:00:00\",\"2020-08-31T00:00:00\",\"2020-09-30T00:00:00\",\"2020-10-31T00:00:00\",\"2020-11-30T00:00:00\",\"2020-12-31T00:00:00\",\"2021-01-31T00:00:00\",\"2021-02-28T00:00:00\",\"2021-03-31T00:00:00\",\"2021-04-30T00:00:00\",\"2021-05-31T00:00:00\",\"2021-06-30T00:00:00\",\"2021-07-31T00:00:00\",\"2021-08-31T00:00:00\",\"2021-09-30T00:00:00\",\"2021-10-31T00:00:00\",\"2021-11-30T00:00:00\",\"2021-12-31T00:00:00\",\"2022-01-31T00:00:00\",\"2022-02-28T00:00:00\",\"2022-03-31T00:00:00\",\"2022-04-30T00:00:00\",\"2022-05-31T00:00:00\",\"2022-06-30T00:00:00\",\"2022-07-31T00:00:00\",\"2022-08-31T00:00:00\",\"2022-09-30T00:00:00\",\"2022-10-31T00:00:00\",\"2022-11-30T00:00:00\"],\"xaxis\":\"x\",\"y\":[0.0,0.007949071625868553,0.003099209504408229,0.004967083696499008,0.009098950894807611,0.023545768682133428,0.03607477914890067,0.019143069879540064,0.004226331479369794,0.010392029384988843,0.012659732304886484,0.02119878977727918,0.02901315117419556,0.042788191708997836,0.04869401621723801,0.053255741341927676,0.06311800366357145,0.056060070250388616,0.04616691598450062,0.0462794621048932,0.04452607286133414,0.04943925601664945,0.04173511366605043,0.03633286899345234,0.04597571470209849,0.05909808740480771,0.06262410952037478,0.05605859625809617,0.060990694009319224,0.052102828018278924,0.07136126529977171,0.06400364558095584,0.06010544024693254,0.06055739265001625,0.048656884301430336,0.054802007321410606,0.0484055642308483,0.047225588384591566,0.04369848869350612,0.04992307865502954,0.06288897597479393,0.09409515722226525,0.10738940972121358,0.12202100221029766,0.12084057319733965,0.16443593502343545,0.1787726367321396,0.21136653131439775,0.21278346623208,0.2209141968798891,0.214462430292492,0.2301610694856746,0.24637569651440705,0.23861902861735396,0.2621371671372179,0.28719020640357984,0.27512628165340436,0.29122611411513066,0.24242359243084555,0.2560659222901558,0.26261382787000676,0.27924345844974896,0.2840669709466723,0.3792037808805824,0.37226591138484966,0.35979070990628337,0.45731768305392273,0.4990479107292194,0.5576495298993638,0.626199515950659,0.651630208565215,0.6337070882231517,0.6248475083465959,0.6718649391951617,0.6963093874413466,0.6911488356682507,0.7505241583769509,0.7296618926896217,0.7349301623773841,0.7414551194257515,0.7544629840069401,0.7642598989073284,0.7637989058760182,0.7442256586063596,0.7449954484653496,0.7371882573402098,0.6944127253886303,0.6845620522430305,0.672578769825849,0.6381374435459033,0.6479804464739045,0.6651639648416414,0.6501204796983453,0.6362627343058711,0.6129192203406422,0.5828901427411342,0.5841846571582148,0.6254237386393575,0.6381632582116423,0.628921492590095,0.6118819637070667,0.6248640512485817,0.6284280231150896,0.6000253977267247,0.6065193066249028,0.617371822854363,0.6434194888293652,0.6236467497008111,0.6681105311599724,0.6927272967987377,0.6845704761180782,0.6948267494020901,0.693465501932073,0.6769152519399386,0.7155910909769316,0.7275507766726417,0.7278810568085399,0.7301796894744572,0.7614597036040045,0.8006229028933982,0.8150121051446642,0.8191075100973422,0.8084419842804824,0.8205543790582603,0.8106304627029339,0.8134008005053819,0.8387952665432701,0.83983282355761,0.8601031418659919,0.8614976739513915,0.8304787309599149,0.806874335672285,0.800603879226045,0.8238341992314537,0.8003161186477066,0.8158391578656103,0.838833751447353,0.8074695176569127,0.7741970253228012,0.7765053501921702,0.7555235309547554,0.7677977668172717,0.7840610641317032,0.8082433138390539,0.8182866102370596,0.8624504407192286,0.8311529977892191,0.8727566691724018,0.8783596061669146,0.8827758814511562,0.8832784327394632,0.8825399982233637,0.9261024640886306,0.931858359345334,0.8962155913179628],\"yaxis\":\"y\",\"type\":\"scattergl\"},{\"hovertemplate\":\"circulating_market_cap_GN=4<br>date=%{x}<br>value=%{y}<extra></extra>\",\"legendgroup\":\"4\",\"line\":{\"color\":\"#FFA15A\",\"dash\":\"solid\"},\"marker\":{\"symbol\":\"circle\"},\"mode\":\"lines\",\"name\":\"4\",\"showlegend\":true,\"x\":[\"2010-01-31T00:00:00\",\"2010-02-28T00:00:00\",\"2010-03-31T00:00:00\",\"2010-04-30T00:00:00\",\"2010-05-31T00:00:00\",\"2010-06-30T00:00:00\",\"2010-07-31T00:00:00\",\"2010-08-31T00:00:00\",\"2010-09-30T00:00:00\",\"2010-10-31T00:00:00\",\"2010-11-30T00:00:00\",\"2010-12-31T00:00:00\",\"2011-01-31T00:00:00\",\"2011-02-28T00:00:00\",\"2011-03-31T00:00:00\",\"2011-04-30T00:00:00\",\"2011-05-31T00:00:00\",\"2011-06-30T00:00:00\",\"2011-07-31T00:00:00\",\"2011-08-31T00:00:00\",\"2011-09-30T00:00:00\",\"2011-10-31T00:00:00\",\"2011-11-30T00:00:00\",\"2011-12-31T00:00:00\",\"2012-01-31T00:00:00\",\"2012-02-29T00:00:00\",\"2012-03-31T00:00:00\",\"2012-04-30T00:00:00\",\"2012-05-31T00:00:00\",\"2012-06-30T00:00:00\",\"2012-07-31T00:00:00\",\"2012-08-31T00:00:00\",\"2012-09-30T00:00:00\",\"2012-10-31T00:00:00\",\"2012-11-30T00:00:00\",\"2012-12-31T00:00:00\",\"2013-01-31T00:00:00\",\"2013-02-28T00:00:00\",\"2013-03-31T00:00:00\",\"2013-04-30T00:00:00\",\"2013-05-31T00:00:00\",\"2013-06-30T00:00:00\",\"2013-07-31T00:00:00\",\"2013-08-31T00:00:00\",\"2013-09-30T00:00:00\",\"2013-10-31T00:00:00\",\"2013-11-30T00:00:00\",\"2013-12-31T00:00:00\",\"2014-01-31T00:00:00\",\"2014-02-28T00:00:00\",\"2014-03-31T00:00:00\",\"2014-04-30T00:00:00\",\"2014-05-31T00:00:00\",\"2014-06-30T00:00:00\",\"2014-07-31T00:00:00\",\"2014-08-31T00:00:00\",\"2014-09-30T00:00:00\",\"2014-10-31T00:00:00\",\"2014-11-30T00:00:00\",\"2014-12-31T00:00:00\",\"2015-01-31T00:00:00\",\"2015-02-28T00:00:00\",\"2015-03-31T00:00:00\",\"2015-04-30T00:00:00\",\"2015-05-31T00:00:00\",\"2015-06-30T00:00:00\",\"2015-07-31T00:00:00\",\"2015-08-31T00:00:00\",\"2015-09-30T00:00:00\",\"2015-10-31T00:00:00\",\"2015-11-30T00:00:00\",\"2015-12-31T00:00:00\",\"2016-01-31T00:00:00\",\"2016-02-29T00:00:00\",\"2016-03-31T00:00:00\",\"2016-04-30T00:00:00\",\"2016-05-31T00:00:00\",\"2016-06-30T00:00:00\",\"2016-07-31T00:00:00\",\"2016-08-31T00:00:00\",\"2016-09-30T00:00:00\",\"2016-10-31T00:00:00\",\"2016-11-30T00:00:00\",\"2016-12-31T00:00:00\",\"2017-01-31T00:00:00\",\"2017-02-28T00:00:00\",\"2017-03-31T00:00:00\",\"2017-04-30T00:00:00\",\"2017-05-31T00:00:00\",\"2017-06-30T00:00:00\",\"2017-07-31T00:00:00\",\"2017-08-31T00:00:00\",\"2017-09-30T00:00:00\",\"2017-10-31T00:00:00\",\"2017-11-30T00:00:00\",\"2017-12-31T00:00:00\",\"2018-01-31T00:00:00\",\"2018-02-28T00:00:00\",\"2018-03-31T00:00:00\",\"2018-04-30T00:00:00\",\"2018-05-31T00:00:00\",\"2018-06-30T00:00:00\",\"2018-07-31T00:00:00\",\"2018-08-31T00:00:00\",\"2018-09-30T00:00:00\",\"2018-10-31T00:00:00\",\"2018-11-30T00:00:00\",\"2018-12-31T00:00:00\",\"2019-01-31T00:00:00\",\"2019-02-28T00:00:00\",\"2019-03-31T00:00:00\",\"2019-04-30T00:00:00\",\"2019-05-31T00:00:00\",\"2019-06-30T00:00:00\",\"2019-07-31T00:00:00\",\"2019-08-31T00:00:00\",\"2019-09-30T00:00:00\",\"2019-10-31T00:00:00\",\"2019-11-30T00:00:00\",\"2019-12-31T00:00:00\",\"2020-01-31T00:00:00\",\"2020-02-29T00:00:00\",\"2020-03-31T00:00:00\",\"2020-04-30T00:00:00\",\"2020-05-31T00:00:00\",\"2020-06-30T00:00:00\",\"2020-07-31T00:00:00\",\"2020-08-31T00:00:00\",\"2020-09-30T00:00:00\",\"2020-10-31T00:00:00\",\"2020-11-30T00:00:00\",\"2020-12-31T00:00:00\",\"2021-01-31T00:00:00\",\"2021-02-28T00:00:00\",\"2021-03-31T00:00:00\",\"2021-04-30T00:00:00\",\"2021-05-31T00:00:00\",\"2021-06-30T00:00:00\",\"2021-07-31T00:00:00\",\"2021-08-31T00:00:00\",\"2021-09-30T00:00:00\",\"2021-10-31T00:00:00\",\"2021-11-30T00:00:00\",\"2021-12-31T00:00:00\",\"2022-01-31T00:00:00\",\"2022-02-28T00:00:00\",\"2022-03-31T00:00:00\",\"2022-04-30T00:00:00\",\"2022-05-31T00:00:00\",\"2022-06-30T00:00:00\",\"2022-07-31T00:00:00\",\"2022-08-31T00:00:00\",\"2022-09-30T00:00:00\",\"2022-10-31T00:00:00\",\"2022-11-30T00:00:00\"],\"xaxis\":\"x\",\"y\":[0.0,0.0223845425031044,0.044243813583412894,0.05016931222827781,0.05759950570156658,0.05655839617166336,0.05585666874911843,0.06992894031414387,0.04747517845265947,0.059372352413392226,0.050168777938177866,0.033266067047331926,0.03857504611334428,0.036679785780471486,0.03983641872632093,0.04173583759703292,0.043215050014820955,0.04514658811241823,0.06052795981350201,0.05612026354602451,0.06390598894272204,0.06833989903296556,0.05696852368452565,0.03302806132913716,0.04187731905332659,0.03527166139229809,0.030351846779486324,0.04384189830567342,0.04491817215284022,0.03261929691722654,0.05216717667208437,0.05227995267428143,0.10525474886883424,0.09759664690976977,0.10292315644553574,0.08436624237162449,0.1583453436586295,0.15355857201664347,0.15220230083527286,0.190728249534162,0.19904670931967083,0.22553638688662558,0.21573571106700062,0.211368664387384,0.21559994945319638,0.2504430010390408,0.25613335541744275,0.3157119455858668,0.3138440063518262,0.30216547493491963,0.30784830401608687,0.3238445335593574,0.34751028683257745,0.3283032698506618,0.36474833646359484,0.3893602248631214,0.38535336426108824,0.39097528262338366,0.30233082654968335,0.320536125883379,0.3224069095389801,0.34862951948618304,0.3323013082486239,0.4667779284625657,0.4988761499820977,0.4717930770599872,0.4309803206271303,0.4377593180378021,0.4739206576838453,0.5096826828586194,0.5504016397025095,0.5527927807186621,0.5606627856175197,0.5833450071819746,0.584296163724275,0.5736773002335227,0.5936777790922694,0.5773581247362272,0.5885804317579202,0.5891725300918649,0.5887709338771674,0.5925091306751333,0.6030373831877525,0.5753220943813853,0.5777357905003135,0.5496255975469861,0.5378936141588302,0.5364030298426266,0.5271924202346343,0.4922214292208227,0.5030956517662737,0.4951521917943842,0.4843363413654158,0.4818172944070578,0.47445282994399673,0.46438444162150727,0.4536797024699306,0.48439854743865807,0.48248327230407906,0.4796275776787631,0.48560328173454925,0.4986758117948933,0.48571071010273603,0.48781790626705046,0.49549163330432466,0.5226233186269471,0.5229212136536121,0.5089560270056432,0.5276507820484628,0.5104607423389398,0.49475128814807623,0.5270719912723989,0.515242799804537,0.5188575653815011,0.5090870743463691,0.5249970444088163,0.5212936952543308,0.5129330938203263,0.5184404787289529,0.5341488907702412,0.526842796048435,0.537657225808355,0.5394581816891275,0.5563102320258788,0.5632049832117205,0.5561750255428402,0.5831318195880562,0.5812458450335851,0.5931726379702973,0.5732586912161937,0.5308739653982959,0.48631107733932355,0.4906397253503305,0.49854551163152383,0.49763418903059065,0.5053143891713201,0.5146574538245059,0.5268468769672905,0.5136352719689219,0.5010903409780498,0.4893003535856477,0.5224863379883962,0.5335980416185448,0.5658241241791833,0.5749756892075042,0.6068345895487972,0.5917862733122408,0.6089434265939013,0.6001006426939106,0.6083284509788536,0.6105451801719362,0.5941768552031477,0.6447615421871769,0.6433094807816626,0.6424404723919614],\"yaxis\":\"y\",\"type\":\"scattergl\"},{\"hovertemplate\":\"circulating_market_cap_GN=5<br>date=%{x}<br>value=%{y}<extra></extra>\",\"legendgroup\":\"5\",\"line\":{\"color\":\"#19d3f3\",\"dash\":\"solid\"},\"marker\":{\"symbol\":\"circle\"},\"mode\":\"lines\",\"name\":\"5\",\"showlegend\":true,\"x\":[\"2010-01-31T00:00:00\",\"2010-02-28T00:00:00\",\"2010-03-31T00:00:00\",\"2010-04-30T00:00:00\",\"2010-05-31T00:00:00\",\"2010-06-30T00:00:00\",\"2010-07-31T00:00:00\",\"2010-08-31T00:00:00\",\"2010-09-30T00:00:00\",\"2010-10-31T00:00:00\",\"2010-11-30T00:00:00\",\"2010-12-31T00:00:00\",\"2011-01-31T00:00:00\",\"2011-02-28T00:00:00\",\"2011-03-31T00:00:00\",\"2011-04-30T00:00:00\",\"2011-05-31T00:00:00\",\"2011-06-30T00:00:00\",\"2011-07-31T00:00:00\",\"2011-08-31T00:00:00\",\"2011-09-30T00:00:00\",\"2011-10-31T00:00:00\",\"2011-11-30T00:00:00\",\"2011-12-31T00:00:00\",\"2012-01-31T00:00:00\",\"2012-02-29T00:00:00\",\"2012-03-31T00:00:00\",\"2012-04-30T00:00:00\",\"2012-05-31T00:00:00\",\"2012-06-30T00:00:00\",\"2012-07-31T00:00:00\",\"2012-08-31T00:00:00\",\"2012-09-30T00:00:00\",\"2012-10-31T00:00:00\",\"2012-11-30T00:00:00\",\"2012-12-31T00:00:00\",\"2013-01-31T00:00:00\",\"2013-02-28T00:00:00\",\"2013-03-31T00:00:00\",\"2013-04-30T00:00:00\",\"2013-05-31T00:00:00\",\"2013-06-30T00:00:00\",\"2013-07-31T00:00:00\",\"2013-08-31T00:00:00\",\"2013-09-30T00:00:00\",\"2013-10-31T00:00:00\",\"2013-11-30T00:00:00\",\"2013-12-31T00:00:00\",\"2014-01-31T00:00:00\",\"2014-02-28T00:00:00\",\"2014-03-31T00:00:00\",\"2014-04-30T00:00:00\",\"2014-05-31T00:00:00\",\"2014-06-30T00:00:00\",\"2014-07-31T00:00:00\",\"2014-08-31T00:00:00\",\"2014-09-30T00:00:00\",\"2014-10-31T00:00:00\",\"2014-11-30T00:00:00\",\"2014-12-31T00:00:00\",\"2015-01-31T00:00:00\",\"2015-02-28T00:00:00\",\"2015-03-31T00:00:00\",\"2015-04-30T00:00:00\",\"2015-05-31T00:00:00\",\"2015-06-30T00:00:00\",\"2015-07-31T00:00:00\",\"2015-08-31T00:00:00\",\"2015-09-30T00:00:00\",\"2015-10-31T00:00:00\",\"2015-11-30T00:00:00\",\"2015-12-31T00:00:00\",\"2016-01-31T00:00:00\",\"2016-02-29T00:00:00\",\"2016-03-31T00:00:00\",\"2016-04-30T00:00:00\",\"2016-05-31T00:00:00\",\"2016-06-30T00:00:00\",\"2016-07-31T00:00:00\",\"2016-08-31T00:00:00\",\"2016-09-30T00:00:00\",\"2016-10-31T00:00:00\",\"2016-11-30T00:00:00\",\"2016-12-31T00:00:00\",\"2017-01-31T00:00:00\",\"2017-02-28T00:00:00\",\"2017-03-31T00:00:00\",\"2017-04-30T00:00:00\",\"2017-05-31T00:00:00\",\"2017-06-30T00:00:00\",\"2017-07-31T00:00:00\",\"2017-08-31T00:00:00\",\"2017-09-30T00:00:00\",\"2017-10-31T00:00:00\",\"2017-11-30T00:00:00\",\"2017-12-31T00:00:00\",\"2018-01-31T00:00:00\",\"2018-02-28T00:00:00\",\"2018-03-31T00:00:00\",\"2018-04-30T00:00:00\",\"2018-05-31T00:00:00\",\"2018-06-30T00:00:00\",\"2018-07-31T00:00:00\",\"2018-08-31T00:00:00\",\"2018-09-30T00:00:00\",\"2018-10-31T00:00:00\",\"2018-11-30T00:00:00\",\"2018-12-31T00:00:00\",\"2019-01-31T00:00:00\",\"2019-02-28T00:00:00\",\"2019-03-31T00:00:00\",\"2019-04-30T00:00:00\",\"2019-05-31T00:00:00\",\"2019-06-30T00:00:00\",\"2019-07-31T00:00:00\",\"2019-08-31T00:00:00\",\"2019-09-30T00:00:00\",\"2019-10-31T00:00:00\",\"2019-11-30T00:00:00\",\"2019-12-31T00:00:00\",\"2020-01-31T00:00:00\",\"2020-02-29T00:00:00\",\"2020-03-31T00:00:00\",\"2020-04-30T00:00:00\",\"2020-05-31T00:00:00\",\"2020-06-30T00:00:00\",\"2020-07-31T00:00:00\",\"2020-08-31T00:00:00\",\"2020-09-30T00:00:00\",\"2020-10-31T00:00:00\",\"2020-11-30T00:00:00\",\"2020-12-31T00:00:00\",\"2021-01-31T00:00:00\",\"2021-02-28T00:00:00\",\"2021-03-31T00:00:00\",\"2021-04-30T00:00:00\",\"2021-05-31T00:00:00\",\"2021-06-30T00:00:00\",\"2021-07-31T00:00:00\",\"2021-08-31T00:00:00\",\"2021-09-30T00:00:00\",\"2021-10-31T00:00:00\",\"2021-11-30T00:00:00\",\"2021-12-31T00:00:00\",\"2022-01-31T00:00:00\",\"2022-02-28T00:00:00\",\"2022-03-31T00:00:00\",\"2022-04-30T00:00:00\",\"2022-05-31T00:00:00\",\"2022-06-30T00:00:00\",\"2022-07-31T00:00:00\",\"2022-08-31T00:00:00\",\"2022-09-30T00:00:00\",\"2022-10-31T00:00:00\",\"2022-11-30T00:00:00\"],\"xaxis\":\"x\",\"y\":[0.0,0.012437052130699122,0.0029037217703393736,-0.00035091064088632606,0.0013424995498778625,0.002446928446106389,0.023913319031357405,0.017594908477273963,0.009736384419017696,0.03493682392596886,0.026804489586180535,0.014282311301029305,0.027234429280277306,0.01314859517717304,0.019780880786580024,0.01571391957945223,0.025000275947479222,0.036413541349527234,0.05382069369235465,0.048489183114552636,0.046781682048119944,0.06357773456407267,0.054292453680430564,0.03607673306044279,0.04884909705730567,0.038972621076292846,0.030804020132819465,0.031090339627264596,0.03889465164735606,0.04069427469298059,0.050959113863522365,0.04227121308166115,0.04076419450090207,0.027104348034108883,0.015048054140168965,0.02468265457796126,0.025538191198996918,0.0393108345226727,0.03660129335234119,0.06104990648955,0.06703053775959655,0.06783162543114996,0.06759492736173311,0.06785421459906571,0.06460392745112231,0.07335882789347514,0.08022137773947224,0.08291547294431512,0.09890568373072561,0.10572773380049982,0.1062144100469622,0.10023679280947517,0.11012307238728303,0.11513653927609901,0.11464125503359845,0.13134752235632718,0.13288712266948322,0.11843466709576034,0.07450384805601273,0.07843960303850905,0.0852217955148229,0.08569143544762436,0.0865612245074181,0.07873494467021991,0.06912984845939718,0.05985163845744945,0.04405877856554685,0.04752888599981353,0.05864469160494723,0.07153109465641228,0.09068874860020282,0.07855736388005208,0.09281232960363117,0.0981877953404342,0.1002419362036826,0.0995066432257028,0.1038423649138347,0.10007772911261403,0.09723944899015335,0.10421295148456289,0.11292334459017583,0.10989483160838609,0.10351703219721053,0.10034467784995127,0.10270014781826475,0.09287089264294646,0.06954842226874458,0.06258954882957246,0.054380464469041545,0.04480196274966364,0.04572792507724133,0.03402054657657727,0.025472831711596644,0.01615466793998399,0.006742099761440246,0.0011082394955170827,-0.002672011745731395,0.008724614692725563,0.002061054425564146,0.00517813513842702,-0.0007905061144314329,0.019763993462855733,0.017183499705823335,0.0212856128051524,0.020018462762569467,0.041327403102532134,0.03798487475069523,0.029517579998931343,0.027280474052922,0.050788552361436645,0.053448548776552585,0.059270617667161574,0.054206165264331085,0.05779717572485055,0.0553706869106827,0.06483396790126972,0.055748109996503814,0.04286188228620258,0.040776999307982065,0.036220029142990384,0.032231855584027524,0.044974962991811696,0.04411999519194687,0.053911677917163336,0.046963728104943536,0.049984525059823426,0.05333260726412292,0.051928714159380274,0.04985963252987213,0.04772340512790518,0.014886904923589572,0.013090033048139826,0.027015849858477603,0.023655844750856136,0.014484783489896458,0.012641099583009519,0.017440977891072684,0.027384754278638512,0.04284337206455624,0.04715269104322051,0.03386107050875231,0.06370317276064696,0.08545633456580726,0.09844404759458736,0.10588982608620312,0.10713338505493786,0.08222293229468347,0.078912478934831,0.08077732790273329,0.09204616718248637,0.10780142093525713,0.1010009546391637,0.13183508258192145,0.1354615164441153,0.1407134913357626],\"yaxis\":\"y\",\"type\":\"scattergl\"},{\"hovertemplate\":\"circulating_market_cap_GN=6<br>date=%{x}<br>value=%{y}<extra></extra>\",\"legendgroup\":\"6\",\"line\":{\"color\":\"#FF6692\",\"dash\":\"solid\"},\"marker\":{\"symbol\":\"circle\"},\"mode\":\"lines\",\"name\":\"6\",\"showlegend\":true,\"x\":[\"2010-01-31T00:00:00\",\"2010-02-28T00:00:00\",\"2010-03-31T00:00:00\",\"2010-04-30T00:00:00\",\"2010-05-31T00:00:00\",\"2010-06-30T00:00:00\",\"2010-07-31T00:00:00\",\"2010-08-31T00:00:00\",\"2010-09-30T00:00:00\",\"2010-10-31T00:00:00\",\"2010-11-30T00:00:00\",\"2010-12-31T00:00:00\",\"2011-01-31T00:00:00\",\"2011-02-28T00:00:00\",\"2011-03-31T00:00:00\",\"2011-04-30T00:00:00\",\"2011-05-31T00:00:00\",\"2011-06-30T00:00:00\",\"2011-07-31T00:00:00\",\"2011-08-31T00:00:00\",\"2011-09-30T00:00:00\",\"2011-10-31T00:00:00\",\"2011-11-30T00:00:00\",\"2011-12-31T00:00:00\",\"2012-01-31T00:00:00\",\"2012-02-29T00:00:00\",\"2012-03-31T00:00:00\",\"2012-04-30T00:00:00\",\"2012-05-31T00:00:00\",\"2012-06-30T00:00:00\",\"2012-07-31T00:00:00\",\"2012-08-31T00:00:00\",\"2012-09-30T00:00:00\",\"2012-10-31T00:00:00\",\"2012-11-30T00:00:00\",\"2012-12-31T00:00:00\",\"2013-01-31T00:00:00\",\"2013-02-28T00:00:00\",\"2013-03-31T00:00:00\",\"2013-04-30T00:00:00\",\"2013-05-31T00:00:00\",\"2013-06-30T00:00:00\",\"2013-07-31T00:00:00\",\"2013-08-31T00:00:00\",\"2013-09-30T00:00:00\",\"2013-10-31T00:00:00\",\"2013-11-30T00:00:00\",\"2013-12-31T00:00:00\",\"2014-01-31T00:00:00\",\"2014-02-28T00:00:00\",\"2014-03-31T00:00:00\",\"2014-04-30T00:00:00\",\"2014-05-31T00:00:00\",\"2014-06-30T00:00:00\",\"2014-07-31T00:00:00\",\"2014-08-31T00:00:00\",\"2014-09-30T00:00:00\",\"2014-10-31T00:00:00\",\"2014-11-30T00:00:00\",\"2014-12-31T00:00:00\",\"2015-01-31T00:00:00\",\"2015-02-28T00:00:00\",\"2015-03-31T00:00:00\",\"2015-04-30T00:00:00\",\"2015-05-31T00:00:00\",\"2015-06-30T00:00:00\",\"2015-07-31T00:00:00\",\"2015-08-31T00:00:00\",\"2015-09-30T00:00:00\",\"2015-10-31T00:00:00\",\"2015-11-30T00:00:00\",\"2015-12-31T00:00:00\",\"2016-01-31T00:00:00\",\"2016-02-29T00:00:00\",\"2016-03-31T00:00:00\",\"2016-04-30T00:00:00\",\"2016-05-31T00:00:00\",\"2016-06-30T00:00:00\",\"2016-07-31T00:00:00\",\"2016-08-31T00:00:00\",\"2016-09-30T00:00:00\",\"2016-10-31T00:00:00\",\"2016-11-30T00:00:00\",\"2016-12-31T00:00:00\",\"2017-01-31T00:00:00\",\"2017-02-28T00:00:00\",\"2017-03-31T00:00:00\",\"2017-04-30T00:00:00\",\"2017-05-31T00:00:00\",\"2017-06-30T00:00:00\",\"2017-07-31T00:00:00\",\"2017-08-31T00:00:00\",\"2017-09-30T00:00:00\",\"2017-10-31T00:00:00\",\"2017-11-30T00:00:00\",\"2017-12-31T00:00:00\",\"2018-01-31T00:00:00\",\"2018-02-28T00:00:00\",\"2018-03-31T00:00:00\",\"2018-04-30T00:00:00\",\"2018-05-31T00:00:00\",\"2018-06-30T00:00:00\",\"2018-07-31T00:00:00\",\"2018-08-31T00:00:00\",\"2018-09-30T00:00:00\",\"2018-10-31T00:00:00\",\"2018-11-30T00:00:00\",\"2018-12-31T00:00:00\",\"2019-01-31T00:00:00\",\"2019-02-28T00:00:00\",\"2019-03-31T00:00:00\",\"2019-04-30T00:00:00\",\"2019-05-31T00:00:00\",\"2019-06-30T00:00:00\",\"2019-07-31T00:00:00\",\"2019-08-31T00:00:00\",\"2019-09-30T00:00:00\",\"2019-10-31T00:00:00\",\"2019-11-30T00:00:00\",\"2019-12-31T00:00:00\",\"2020-01-31T00:00:00\",\"2020-02-29T00:00:00\",\"2020-03-31T00:00:00\",\"2020-04-30T00:00:00\",\"2020-05-31T00:00:00\",\"2020-06-30T00:00:00\",\"2020-07-31T00:00:00\",\"2020-08-31T00:00:00\",\"2020-09-30T00:00:00\",\"2020-10-31T00:00:00\",\"2020-11-30T00:00:00\",\"2020-12-31T00:00:00\",\"2021-01-31T00:00:00\",\"2021-02-28T00:00:00\",\"2021-03-31T00:00:00\",\"2021-04-30T00:00:00\",\"2021-05-31T00:00:00\",\"2021-06-30T00:00:00\",\"2021-07-31T00:00:00\",\"2021-08-31T00:00:00\",\"2021-09-30T00:00:00\",\"2021-10-31T00:00:00\",\"2021-11-30T00:00:00\",\"2021-12-31T00:00:00\",\"2022-01-31T00:00:00\",\"2022-02-28T00:00:00\",\"2022-03-31T00:00:00\",\"2022-04-30T00:00:00\",\"2022-05-31T00:00:00\",\"2022-06-30T00:00:00\",\"2022-07-31T00:00:00\",\"2022-08-31T00:00:00\",\"2022-09-30T00:00:00\",\"2022-10-31T00:00:00\",\"2022-11-30T00:00:00\"],\"xaxis\":\"x\",\"y\":[0.0,0.0021725512544314984,0.010712627949575948,0.008424694472642713,0.002681713006678299,0.0025572157105862026,0.02445563480936208,0.023691031630572512,0.01545986352915496,0.025348320721551687,0.017544938235983132,0.012447514500042,0.021788150890573288,0.023553033108801635,0.021271792420425095,0.012644321972140604,0.00816031274216078,0.0031506198662738516,0.00666190975124481,-0.004631195677106903,0.003760717709411221,0.004198169265573037,-0.001489391790965744,-0.009856096837007944,-0.00624871540754568,-0.002657388910491054,-0.012121339836572265,-0.019181782922890078,-0.02548175086771398,-0.026361774713202446,-0.028348510404182847,-0.03643397354345079,-0.044214197059133986,-0.059739860258234634,-0.059296953090064775,-0.056198731788180356,-0.06467760161400793,-0.054595440156063324,-0.061871279587188854,-0.06297751331706036,-0.07286609698970048,-0.07952667866725172,-0.07349095652539628,-0.074997941214347,-0.08406133056460352,-0.09324818961967163,-0.09675967206211622,-0.10673628656380629,-0.10662849577060052,-0.10717215713864758,-0.11360900110479355,-0.11908831830470801,-0.12475934493442675,-0.12435693778250123,-0.12274325672750541,-0.12375981744480735,-0.13216447727519776,-0.14629888380087075,-0.17049365104103897,-0.16337512317573177,-0.16195009577006447,-0.15109914055394258,-0.17840335880786706,-0.17582069496652764,-0.2092876879266461,-0.22349377111583235,-0.23045950173463936,-0.23495661837180848,-0.24070225177106663,-0.2482885222668142,-0.26685338667746716,-0.27190173513681015,-0.2790141053775156,-0.2833811716561333,-0.2802166956232498,-0.2807239869653668,-0.2792142181112236,-0.29185317800611155,-0.2945668716969505,-0.3004365834967784,-0.3045287113418673,-0.30877756059410943,-0.31126297375660894,-0.31111869686355975,-0.30724683700638433,-0.3068056464228073,-0.30693588890710566,-0.3199787565611898,-0.3236469236924815,-0.3185672992441174,-0.3197247822411001,-0.3132078558454551,-0.31260076472310083,-0.316995980268986,-0.31820044653280743,-0.32489469105651925,-0.32336874121521486,-0.32552534749949835,-0.3309272352243693,-0.34138526288517035,-0.34543027969260476,-0.34960614382276245,-0.3496004485098144,-0.3543852979699299,-0.3633499272271876,-0.3528782645167875,-0.35370402603161333,-0.34537075801981243,-0.33971996288622586,-0.3321174913747795,-0.3344793992900128,-0.34396455693454886,-0.34669648540769793,-0.3524292703487536,-0.3529597041358825,-0.3571694203178367,-0.3520978450442436,-0.3517751446764419,-0.3542337434798202,-0.35508883157536886,-0.3532817569202683,-0.35479420143210105,-0.3579432108842834,-0.35627193186066664,-0.36065498341253466,-0.3574285701169194,-0.36534340326633863,-0.36976508644367234,-0.37941789664382186,-0.37852058157017565,-0.39486259875760954,-0.4012941098837193,-0.3857305014947787,-0.3731110608539394,-0.3759171533520954,-0.3747002094184555,-0.37793629322976796,-0.36798595315754623,-0.3543171109452957,-0.3630331200885575,-0.36549969536614546,-0.3614024410596288,-0.35673630064344664,-0.35116288044710464,-0.3449796819236226,-0.3307709005559675,-0.3443624606051484,-0.33309732316599383,-0.3254836410081626,-0.3225830396173931,-0.32555940028608943,-0.3252808513233143,-0.31299697560434947,-0.31052866918103417,-0.29789792494240186],\"yaxis\":\"y\",\"type\":\"scattergl\"},{\"hovertemplate\":\"circulating_market_cap_GN=7<br>date=%{x}<br>value=%{y}<extra></extra>\",\"legendgroup\":\"7\",\"line\":{\"color\":\"#B6E880\",\"dash\":\"solid\"},\"marker\":{\"symbol\":\"circle\"},\"mode\":\"lines\",\"name\":\"7\",\"showlegend\":true,\"x\":[\"2010-01-31T00:00:00\",\"2010-02-28T00:00:00\",\"2010-03-31T00:00:00\",\"2010-04-30T00:00:00\",\"2010-05-31T00:00:00\",\"2010-06-30T00:00:00\",\"2010-07-31T00:00:00\",\"2010-08-31T00:00:00\",\"2010-09-30T00:00:00\",\"2010-10-31T00:00:00\",\"2010-11-30T00:00:00\",\"2010-12-31T00:00:00\",\"2011-01-31T00:00:00\",\"2011-02-28T00:00:00\",\"2011-03-31T00:00:00\",\"2011-04-30T00:00:00\",\"2011-05-31T00:00:00\",\"2011-06-30T00:00:00\",\"2011-07-31T00:00:00\",\"2011-08-31T00:00:00\",\"2011-09-30T00:00:00\",\"2011-10-31T00:00:00\",\"2011-11-30T00:00:00\",\"2011-12-31T00:00:00\",\"2012-01-31T00:00:00\",\"2012-02-29T00:00:00\",\"2012-03-31T00:00:00\",\"2012-04-30T00:00:00\",\"2012-05-31T00:00:00\",\"2012-06-30T00:00:00\",\"2012-07-31T00:00:00\",\"2012-08-31T00:00:00\",\"2012-09-30T00:00:00\",\"2012-10-31T00:00:00\",\"2012-11-30T00:00:00\",\"2012-12-31T00:00:00\",\"2013-01-31T00:00:00\",\"2013-02-28T00:00:00\",\"2013-03-31T00:00:00\",\"2013-04-30T00:00:00\",\"2013-05-31T00:00:00\",\"2013-06-30T00:00:00\",\"2013-07-31T00:00:00\",\"2013-08-31T00:00:00\",\"2013-09-30T00:00:00\",\"2013-10-31T00:00:00\",\"2013-11-30T00:00:00\",\"2013-12-31T00:00:00\",\"2014-01-31T00:00:00\",\"2014-02-28T00:00:00\",\"2014-03-31T00:00:00\",\"2014-04-30T00:00:00\",\"2014-05-31T00:00:00\",\"2014-06-30T00:00:00\",\"2014-07-31T00:00:00\",\"2014-08-31T00:00:00\",\"2014-09-30T00:00:00\",\"2014-10-31T00:00:00\",\"2014-11-30T00:00:00\",\"2014-12-31T00:00:00\",\"2015-01-31T00:00:00\",\"2015-02-28T00:00:00\",\"2015-03-31T00:00:00\",\"2015-04-30T00:00:00\",\"2015-05-31T00:00:00\",\"2015-06-30T00:00:00\",\"2015-07-31T00:00:00\",\"2015-08-31T00:00:00\",\"2015-09-30T00:00:00\",\"2015-10-31T00:00:00\",\"2015-11-30T00:00:00\",\"2015-12-31T00:00:00\",\"2016-01-31T00:00:00\",\"2016-02-29T00:00:00\",\"2016-03-31T00:00:00\",\"2016-04-30T00:00:00\",\"2016-05-31T00:00:00\",\"2016-06-30T00:00:00\",\"2016-07-31T00:00:00\",\"2016-08-31T00:00:00\",\"2016-09-30T00:00:00\",\"2016-10-31T00:00:00\",\"2016-11-30T00:00:00\",\"2016-12-31T00:00:00\",\"2017-01-31T00:00:00\",\"2017-02-28T00:00:00\",\"2017-03-31T00:00:00\",\"2017-04-30T00:00:00\",\"2017-05-31T00:00:00\",\"2017-06-30T00:00:00\",\"2017-07-31T00:00:00\",\"2017-08-31T00:00:00\",\"2017-09-30T00:00:00\",\"2017-10-31T00:00:00\",\"2017-11-30T00:00:00\",\"2017-12-31T00:00:00\",\"2018-01-31T00:00:00\",\"2018-02-28T00:00:00\",\"2018-03-31T00:00:00\",\"2018-04-30T00:00:00\",\"2018-05-31T00:00:00\",\"2018-06-30T00:00:00\",\"2018-07-31T00:00:00\",\"2018-08-31T00:00:00\",\"2018-09-30T00:00:00\",\"2018-10-31T00:00:00\",\"2018-11-30T00:00:00\",\"2018-12-31T00:00:00\",\"2019-01-31T00:00:00\",\"2019-02-28T00:00:00\",\"2019-03-31T00:00:00\",\"2019-04-30T00:00:00\",\"2019-05-31T00:00:00\",\"2019-06-30T00:00:00\",\"2019-07-31T00:00:00\",\"2019-08-31T00:00:00\",\"2019-09-30T00:00:00\",\"2019-10-31T00:00:00\",\"2019-11-30T00:00:00\",\"2019-12-31T00:00:00\",\"2020-01-31T00:00:00\",\"2020-02-29T00:00:00\",\"2020-03-31T00:00:00\",\"2020-04-30T00:00:00\",\"2020-05-31T00:00:00\",\"2020-06-30T00:00:00\",\"2020-07-31T00:00:00\",\"2020-08-31T00:00:00\",\"2020-09-30T00:00:00\",\"2020-10-31T00:00:00\",\"2020-11-30T00:00:00\",\"2020-12-31T00:00:00\",\"2021-01-31T00:00:00\",\"2021-02-28T00:00:00\",\"2021-03-31T00:00:00\",\"2021-04-30T00:00:00\",\"2021-05-31T00:00:00\",\"2021-06-30T00:00:00\",\"2021-07-31T00:00:00\",\"2021-08-31T00:00:00\",\"2021-09-30T00:00:00\",\"2021-10-31T00:00:00\",\"2021-11-30T00:00:00\",\"2021-12-31T00:00:00\",\"2022-01-31T00:00:00\",\"2022-02-28T00:00:00\",\"2022-03-31T00:00:00\",\"2022-04-30T00:00:00\",\"2022-05-31T00:00:00\",\"2022-06-30T00:00:00\",\"2022-07-31T00:00:00\",\"2022-08-31T00:00:00\",\"2022-09-30T00:00:00\",\"2022-10-31T00:00:00\",\"2022-11-30T00:00:00\"],\"xaxis\":\"x\",\"y\":[0.0,-0.012900570666553146,-0.006415697351060956,-0.009095396613863937,-0.021780507236957014,-0.02373714721284026,-0.029693822255090763,-0.030186671868494663,-0.030226177689045453,-0.025093773456304147,-0.03514477862050769,-0.05130194851002012,-0.04346579519973781,-0.06126437656465844,-0.07250790759391956,-0.07014674132844023,-0.08002217368592812,-0.09237709415875783,-0.09905209127582004,-0.1006313911902984,-0.0988382040380873,-0.09796993482840555,-0.09478147279559457,-0.11300497930380149,-0.11736271258107212,-0.11825573531509992,-0.12295641757338382,-0.13370340200117237,-0.15156541343071717,-0.14917993617285363,-0.15188715382378548,-0.15784004262301699,-0.1607064208749337,-0.17375418477212212,-0.1747927030473696,-0.17442366422249167,-0.17890338861896526,-0.17378641660112348,-0.1749118902287191,-0.16956268801170105,-0.17274143342573,-0.1641372716046272,-0.1679955618148976,-0.1622247021086456,-0.1800494117035889,-0.19252935937760207,-0.1858138560678092,-0.17624084388914463,-0.1681117450561076,-0.17719760701481124,-0.1830009689869604,-0.18918796818178163,-0.1978484882657926,-0.1972921635528071,-0.20816723229737544,-0.2337188096984394,-0.23811579395524662,-0.2526594110079725,-0.25237564953842884,-0.2420764170675006,-0.23301151962621758,-0.22758024398979326,-0.24682473545459416,-0.2576433298138626,-0.2648430392126615,-0.26361430064229296,-0.28978276602320596,-0.29618906856724914,-0.2960586859486424,-0.32173111286238054,-0.3497312981485552,-0.36386613564422154,-0.3662783803543508,-0.3716765615471934,-0.3903054143187281,-0.3896725074820748,-0.3985969443917201,-0.40405913251748926,-0.41091446161316203,-0.4186523333290838,-0.42586555620943534,-0.4366675492007702,-0.4384179012914402,-0.4410779083944957,-0.44468469223221807,-0.4435581731962458,-0.4379504554693189,-0.44072434247874137,-0.43843078870183994,-0.43197036324957816,-0.43801542097896673,-0.44300787026576494,-0.44483697557761126,-0.4428860354187325,-0.4407520772200003,-0.44208537742846776,-0.4315963327729705,-0.4432884127374105,-0.44533395878835114,-0.4522481621229485,-0.4504428848963059,-0.4561329345544589,-0.4562849958533747,-0.4627762950187887,-0.46840454152785815,-0.47023730872662595,-0.47268650578540183,-0.471520393851399,-0.4748423786821001,-0.4756424849397559,-0.4773165640906456,-0.4832324386366257,-0.4874883468562401,-0.48659284782122536,-0.48929910187624703,-0.49011835956697924,-0.4937245462325721,-0.49654652030983903,-0.5004001104547506,-0.5009510676953532,-0.49395039629914994,-0.5030961486430019,-0.49714243643930456,-0.49740011951904395,-0.500595486204279,-0.49245322825106763,-0.4949020179571453,-0.4994499365003009,-0.5036051585413899,-0.503936316742477,-0.49769394260051236,-0.4885398945163878,-0.48806503423400227,-0.48813127439152837,-0.48873606391583124,-0.4938018772535969,-0.49952144984054503,-0.5040651378525163,-0.4851103378526258,-0.49049813032861367,-0.4904256986230098,-0.49497608175895524,-0.49343861647636356,-0.5026629821228155,-0.5081585258736294,-0.5147894420516983,-0.5184303163477688,-0.5179109083181326,-0.5151139740871616,-0.516075591341084,-0.5225665137151845,-0.5253020060153408,-0.5315953420440442,-0.5309993582935733,-0.5297015718704259],\"yaxis\":\"y\",\"type\":\"scattergl\"},{\"hovertemplate\":\"circulating_market_cap_GN=8<br>date=%{x}<br>value=%{y}<extra></extra>\",\"legendgroup\":\"8\",\"line\":{\"color\":\"#FF97FF\",\"dash\":\"solid\"},\"marker\":{\"symbol\":\"circle\"},\"mode\":\"lines\",\"name\":\"8\",\"showlegend\":true,\"x\":[\"2010-01-31T00:00:00\",\"2010-02-28T00:00:00\",\"2010-03-31T00:00:00\",\"2010-04-30T00:00:00\",\"2010-05-31T00:00:00\",\"2010-06-30T00:00:00\",\"2010-07-31T00:00:00\",\"2010-08-31T00:00:00\",\"2010-09-30T00:00:00\",\"2010-10-31T00:00:00\",\"2010-11-30T00:00:00\",\"2010-12-31T00:00:00\",\"2011-01-31T00:00:00\",\"2011-02-28T00:00:00\",\"2011-03-31T00:00:00\",\"2011-04-30T00:00:00\",\"2011-05-31T00:00:00\",\"2011-06-30T00:00:00\",\"2011-07-31T00:00:00\",\"2011-08-31T00:00:00\",\"2011-09-30T00:00:00\",\"2011-10-31T00:00:00\",\"2011-11-30T00:00:00\",\"2011-12-31T00:00:00\",\"2012-01-31T00:00:00\",\"2012-02-29T00:00:00\",\"2012-03-31T00:00:00\",\"2012-04-30T00:00:00\",\"2012-05-31T00:00:00\",\"2012-06-30T00:00:00\",\"2012-07-31T00:00:00\",\"2012-08-31T00:00:00\",\"2012-09-30T00:00:00\",\"2012-10-31T00:00:00\",\"2012-11-30T00:00:00\",\"2012-12-31T00:00:00\",\"2013-01-31T00:00:00\",\"2013-02-28T00:00:00\",\"2013-03-31T00:00:00\",\"2013-04-30T00:00:00\",\"2013-05-31T00:00:00\",\"2013-06-30T00:00:00\",\"2013-07-31T00:00:00\",\"2013-08-31T00:00:00\",\"2013-09-30T00:00:00\",\"2013-10-31T00:00:00\",\"2013-11-30T00:00:00\",\"2013-12-31T00:00:00\",\"2014-01-31T00:00:00\",\"2014-02-28T00:00:00\",\"2014-03-31T00:00:00\",\"2014-04-30T00:00:00\",\"2014-05-31T00:00:00\",\"2014-06-30T00:00:00\",\"2014-07-31T00:00:00\",\"2014-08-31T00:00:00\",\"2014-09-30T00:00:00\",\"2014-10-31T00:00:00\",\"2014-11-30T00:00:00\",\"2014-12-31T00:00:00\",\"2015-01-31T00:00:00\",\"2015-02-28T00:00:00\",\"2015-03-31T00:00:00\",\"2015-04-30T00:00:00\",\"2015-05-31T00:00:00\",\"2015-06-30T00:00:00\",\"2015-07-31T00:00:00\",\"2015-08-31T00:00:00\",\"2015-09-30T00:00:00\",\"2015-10-31T00:00:00\",\"2015-11-30T00:00:00\",\"2015-12-31T00:00:00\",\"2016-01-31T00:00:00\",\"2016-02-29T00:00:00\",\"2016-03-31T00:00:00\",\"2016-04-30T00:00:00\",\"2016-05-31T00:00:00\",\"2016-06-30T00:00:00\",\"2016-07-31T00:00:00\",\"2016-08-31T00:00:00\",\"2016-09-30T00:00:00\",\"2016-10-31T00:00:00\",\"2016-11-30T00:00:00\",\"2016-12-31T00:00:00\",\"2017-01-31T00:00:00\",\"2017-02-28T00:00:00\",\"2017-03-31T00:00:00\",\"2017-04-30T00:00:00\",\"2017-05-31T00:00:00\",\"2017-06-30T00:00:00\",\"2017-07-31T00:00:00\",\"2017-08-31T00:00:00\",\"2017-09-30T00:00:00\",\"2017-10-31T00:00:00\",\"2017-11-30T00:00:00\",\"2017-12-31T00:00:00\",\"2018-01-31T00:00:00\",\"2018-02-28T00:00:00\",\"2018-03-31T00:00:00\",\"2018-04-30T00:00:00\",\"2018-05-31T00:00:00\",\"2018-06-30T00:00:00\",\"2018-07-31T00:00:00\",\"2018-08-31T00:00:00\",\"2018-09-30T00:00:00\",\"2018-10-31T00:00:00\",\"2018-11-30T00:00:00\",\"2018-12-31T00:00:00\",\"2019-01-31T00:00:00\",\"2019-02-28T00:00:00\",\"2019-03-31T00:00:00\",\"2019-04-30T00:00:00\",\"2019-05-31T00:00:00\",\"2019-06-30T00:00:00\",\"2019-07-31T00:00:00\",\"2019-08-31T00:00:00\",\"2019-09-30T00:00:00\",\"2019-10-31T00:00:00\",\"2019-11-30T00:00:00\",\"2019-12-31T00:00:00\",\"2020-01-31T00:00:00\",\"2020-02-29T00:00:00\",\"2020-03-31T00:00:00\",\"2020-04-30T00:00:00\",\"2020-05-31T00:00:00\",\"2020-06-30T00:00:00\",\"2020-07-31T00:00:00\",\"2020-08-31T00:00:00\",\"2020-09-30T00:00:00\",\"2020-10-31T00:00:00\",\"2020-11-30T00:00:00\",\"2020-12-31T00:00:00\",\"2021-01-31T00:00:00\",\"2021-02-28T00:00:00\",\"2021-03-31T00:00:00\",\"2021-04-30T00:00:00\",\"2021-05-31T00:00:00\",\"2021-06-30T00:00:00\",\"2021-07-31T00:00:00\",\"2021-08-31T00:00:00\",\"2021-09-30T00:00:00\",\"2021-10-31T00:00:00\",\"2021-11-30T00:00:00\",\"2021-12-31T00:00:00\",\"2022-01-31T00:00:00\",\"2022-02-28T00:00:00\",\"2022-03-31T00:00:00\",\"2022-04-30T00:00:00\",\"2022-05-31T00:00:00\",\"2022-06-30T00:00:00\",\"2022-07-31T00:00:00\",\"2022-08-31T00:00:00\",\"2022-09-30T00:00:00\",\"2022-10-31T00:00:00\",\"2022-11-30T00:00:00\"],\"xaxis\":\"x\",\"y\":[0.0,-0.02804397374391554,-0.023608925647429668,-0.01596027275198808,-0.02418005404144208,-0.03826091473135218,-0.0503577674598048,-0.042741416842115854,-0.031787160785299085,-0.05210662546907707,-0.0658208779634959,-0.07021796828181559,-0.06529309483040668,-0.09323655114273588,-0.10192557658591261,-0.10896837548359106,-0.11206398090312608,-0.11991110159391394,-0.1318281459619849,-0.1391379781454809,-0.1276473148206333,-0.1357826191490551,-0.11980140028701225,-0.12394269805457026,-0.13119240329305204,-0.13960117941791317,-0.14218147291826622,-0.13497862287009266,-0.1455174379961096,-0.14191795163168597,-0.1678539951805319,-0.16986691465377557,-0.18064753719416782,-0.17963526947052766,-0.17853726218394284,-0.16614204855789982,-0.17238464832386835,-0.17819168156126053,-0.17074551467991705,-0.16681222138956064,-0.16449028126847276,-0.17515619234272428,-0.19123473009551262,-0.1780020209890263,-0.1856291636316506,-0.2075478881760583,-0.21208121432927618,-0.21463730712533313,-0.23647431414076636,-0.2418013122954754,-0.24974457238051473,-0.25320998292500374,-0.26816520728916227,-0.27164120835335315,-0.2857532825186099,-0.3142420287391958,-0.31071668664656027,-0.32062230285764115,-0.28919806742002807,-0.28901828411999797,-0.28927359112960604,-0.30664712648110515,-0.32377344460930346,-0.37190276251171184,-0.39622263515441936,-0.3756761216191198,-0.393112231086135,-0.4179068174286301,-0.4477033804494238,-0.4789931844380493,-0.5050606001262861,-0.5080346333878732,-0.5119706785666771,-0.528210776247046,-0.5406956749845544,-0.5331813060781188,-0.5446393490337564,-0.5416693717570409,-0.5501736967331139,-0.5592353734081909,-0.5647083796583874,-0.5679649609144464,-0.57217583967903,-0.5676732556174404,-0.5686457103124637,-0.5624013229864022,-0.5542599680679903,-0.551280371806761,-0.5478470386211622,-0.5410435959783961,-0.5443489301475517,-0.5438580615174642,-0.5394469819113127,-0.5326536027041049,-0.5279923717343034,-0.5196677175740989,-0.5099429283911276,-0.5244535991802299,-0.5253945321218619,-0.5248936343599019,-0.5161996361701406,-0.5229569388003921,-0.5201879841884465,-0.5188446962485165,-0.525361578564141,-0.5330970377824003,-0.5362958764376964,-0.5246692740350467,-0.5278052762778623,-0.5286629575887822,-0.5314493164881731,-0.541374965295097,-0.5430279148779216,-0.5420291504087968,-0.5407153380743512,-0.5416144229713635,-0.5418173135223151,-0.5356535564818341,-0.5348430350123468,-0.5295270288181948,-0.5236642997059793,-0.5373200190060953,-0.5239175676464216,-0.5241056484409448,-0.516255279963739,-0.5196178122012041,-0.5286584590022679,-0.5311159899348374,-0.5361147796789696,-0.5336076534048411,-0.5192704489320852,-0.4977908907584129,-0.5033427669644295,-0.5096485422371808,-0.5089650838981674,-0.5139876358528404,-0.5192658369077003,-0.5123153903408859,-0.5163814240244028,-0.5192626600895607,-0.5106446708735028,-0.529614252930064,-0.5424641223437923,-0.554091951204787,-0.5544514182549345,-0.5764136430621764,-0.5630888896930607,-0.5691647569197141,-0.5708461943373785,-0.5823479873390218,-0.5847275427418984,-0.5845143372706652,-0.5901738365240929,-0.597263163846034,-0.5981336067450491],\"yaxis\":\"y\",\"type\":\"scattergl\"},{\"hovertemplate\":\"circulating_market_cap_GN=9<br>date=%{x}<br>value=%{y}<extra></extra>\",\"legendgroup\":\"9\",\"line\":{\"color\":\"#FECB52\",\"dash\":\"solid\"},\"marker\":{\"symbol\":\"circle\"},\"mode\":\"lines\",\"name\":\"9\",\"showlegend\":true,\"x\":[\"2010-01-31T00:00:00\",\"2010-02-28T00:00:00\",\"2010-03-31T00:00:00\",\"2010-04-30T00:00:00\",\"2010-05-31T00:00:00\",\"2010-06-30T00:00:00\",\"2010-07-31T00:00:00\",\"2010-08-31T00:00:00\",\"2010-09-30T00:00:00\",\"2010-10-31T00:00:00\",\"2010-11-30T00:00:00\",\"2010-12-31T00:00:00\",\"2011-01-31T00:00:00\",\"2011-02-28T00:00:00\",\"2011-03-31T00:00:00\",\"2011-04-30T00:00:00\",\"2011-05-31T00:00:00\",\"2011-06-30T00:00:00\",\"2011-07-31T00:00:00\",\"2011-08-31T00:00:00\",\"2011-09-30T00:00:00\",\"2011-10-31T00:00:00\",\"2011-11-30T00:00:00\",\"2011-12-31T00:00:00\",\"2012-01-31T00:00:00\",\"2012-02-29T00:00:00\",\"2012-03-31T00:00:00\",\"2012-04-30T00:00:00\",\"2012-05-31T00:00:00\",\"2012-06-30T00:00:00\",\"2012-07-31T00:00:00\",\"2012-08-31T00:00:00\",\"2012-09-30T00:00:00\",\"2012-10-31T00:00:00\",\"2012-11-30T00:00:00\",\"2012-12-31T00:00:00\",\"2013-01-31T00:00:00\",\"2013-02-28T00:00:00\",\"2013-03-31T00:00:00\",\"2013-04-30T00:00:00\",\"2013-05-31T00:00:00\",\"2013-06-30T00:00:00\",\"2013-07-31T00:00:00\",\"2013-08-31T00:00:00\",\"2013-09-30T00:00:00\",\"2013-10-31T00:00:00\",\"2013-11-30T00:00:00\",\"2013-12-31T00:00:00\",\"2014-01-31T00:00:00\",\"2014-02-28T00:00:00\",\"2014-03-31T00:00:00\",\"2014-04-30T00:00:00\",\"2014-05-31T00:00:00\",\"2014-06-30T00:00:00\",\"2014-07-31T00:00:00\",\"2014-08-31T00:00:00\",\"2014-09-30T00:00:00\",\"2014-10-31T00:00:00\",\"2014-11-30T00:00:00\",\"2014-12-31T00:00:00\",\"2015-01-31T00:00:00\",\"2015-02-28T00:00:00\",\"2015-03-31T00:00:00\",\"2015-04-30T00:00:00\",\"2015-05-31T00:00:00\",\"2015-06-30T00:00:00\",\"2015-07-31T00:00:00\",\"2015-08-31T00:00:00\",\"2015-09-30T00:00:00\",\"2015-10-31T00:00:00\",\"2015-11-30T00:00:00\",\"2015-12-31T00:00:00\",\"2016-01-31T00:00:00\",\"2016-02-29T00:00:00\",\"2016-03-31T00:00:00\",\"2016-04-30T00:00:00\",\"2016-05-31T00:00:00\",\"2016-06-30T00:00:00\",\"2016-07-31T00:00:00\",\"2016-08-31T00:00:00\",\"2016-09-30T00:00:00\",\"2016-10-31T00:00:00\",\"2016-11-30T00:00:00\",\"2016-12-31T00:00:00\",\"2017-01-31T00:00:00\",\"2017-02-28T00:00:00\",\"2017-03-31T00:00:00\",\"2017-04-30T00:00:00\",\"2017-05-31T00:00:00\",\"2017-06-30T00:00:00\",\"2017-07-31T00:00:00\",\"2017-08-31T00:00:00\",\"2017-09-30T00:00:00\",\"2017-10-31T00:00:00\",\"2017-11-30T00:00:00\",\"2017-12-31T00:00:00\",\"2018-01-31T00:00:00\",\"2018-02-28T00:00:00\",\"2018-03-31T00:00:00\",\"2018-04-30T00:00:00\",\"2018-05-31T00:00:00\",\"2018-06-30T00:00:00\",\"2018-07-31T00:00:00\",\"2018-08-31T00:00:00\",\"2018-09-30T00:00:00\",\"2018-10-31T00:00:00\",\"2018-11-30T00:00:00\",\"2018-12-31T00:00:00\",\"2019-01-31T00:00:00\",\"2019-02-28T00:00:00\",\"2019-03-31T00:00:00\",\"2019-04-30T00:00:00\",\"2019-05-31T00:00:00\",\"2019-06-30T00:00:00\",\"2019-07-31T00:00:00\",\"2019-08-31T00:00:00\",\"2019-09-30T00:00:00\",\"2019-10-31T00:00:00\",\"2019-11-30T00:00:00\",\"2019-12-31T00:00:00\",\"2020-01-31T00:00:00\",\"2020-02-29T00:00:00\",\"2020-03-31T00:00:00\",\"2020-04-30T00:00:00\",\"2020-05-31T00:00:00\",\"2020-06-30T00:00:00\",\"2020-07-31T00:00:00\",\"2020-08-31T00:00:00\",\"2020-09-30T00:00:00\",\"2020-10-31T00:00:00\",\"2020-11-30T00:00:00\",\"2020-12-31T00:00:00\",\"2021-01-31T00:00:00\",\"2021-02-28T00:00:00\",\"2021-03-31T00:00:00\",\"2021-04-30T00:00:00\",\"2021-05-31T00:00:00\",\"2021-06-30T00:00:00\",\"2021-07-31T00:00:00\",\"2021-08-31T00:00:00\",\"2021-09-30T00:00:00\",\"2021-10-31T00:00:00\",\"2021-11-30T00:00:00\",\"2021-12-31T00:00:00\",\"2022-01-31T00:00:00\",\"2022-02-28T00:00:00\",\"2022-03-31T00:00:00\",\"2022-04-30T00:00:00\",\"2022-05-31T00:00:00\",\"2022-06-30T00:00:00\",\"2022-07-31T00:00:00\",\"2022-08-31T00:00:00\",\"2022-09-30T00:00:00\",\"2022-10-31T00:00:00\",\"2022-11-30T00:00:00\"],\"xaxis\":\"x\",\"y\":[0.0,-0.03134273466290227,-0.024036622815945208,-0.013310661321179973,-0.007570160682085714,-0.022805831507035967,-0.06542494709567392,-0.05227709987543794,0.005409379508178658,-0.0415791708222043,-0.02342368149784102,-0.011258139411106871,-0.047237927054783024,-0.06741949841944817,-0.06088913065354418,-0.0596200323557996,-0.06321432350891132,-0.08738065907683135,-0.11132795369737547,-0.10667524449732446,-0.10769055957054285,-0.1232257848402406,-0.06920847063467239,-0.04649395343812057,-0.08649718903141179,-0.09021841102960537,-0.10053818811529835,-0.11049302844014364,-0.10643491514232362,-0.0786606258740079,-0.14195348295158183,-0.12201694903537796,-0.1457159080269811,-0.11245839203425523,-0.11172235307947942,-0.12857146845022605,-0.15816969503706102,-0.16468498458179903,-0.16430628193609864,-0.20893853946386998,-0.2038949648116537,-0.2316760210026486,-0.2515995301741608,-0.2494932736987182,-0.25780142593179944,-0.28605694677475546,-0.2910155848679643,-0.333531958487565,-0.36410688111763334,-0.3743683566852001,-0.3724872043652888,-0.38573052167476374,-0.40595442712811414,-0.4072217149141766,-0.4339238692967893,-0.4717412144912897,-0.47221089321823473,-0.44845518091888104,-0.3457877694575795,-0.37984584757937556,-0.39266710246349057,-0.42758614448317156,-0.4265214739434551,-0.5326493417670524,-0.5323313100848097,-0.520514763283132,-0.521296256741328,-0.5325373599983422,-0.5784656001586369,-0.6207842056417081,-0.6400174185562862,-0.6265196743204464,-0.6291853669722276,-0.6492147897218505,-0.6586093677614926,-0.6538250497184006,-0.6700260232753824,-0.6581662307294396,-0.6637933384153973,-0.6697348018993805,-0.6742210559392626,-0.6682038959819221,-0.6720060643774661,-0.6596428744368847,-0.6635731485687559,-0.6556404333754358,-0.6367914970009063,-0.6198585738519051,-0.6123525307447013,-0.6035188340721895,-0.6084942532374542,-0.60996538691344,-0.5927590861700438,-0.5777920502908475,-0.5657517643932011,-0.5424302642830077,-0.5379427013753539,-0.5593793895869268,-0.5579936079304748,-0.5458694372264945,-0.5343435517892583,-0.5345903250175597,-0.5297191952174671,-0.5216999533156352,-0.5263547398176002,-0.5474525617616467,-0.5450292096385585,-0.5237385472472573,-0.5503103857680012,-0.5647151906614167,-0.5596317954224077,-0.5665968798720764,-0.5531580192099727,-0.5414783843545234,-0.5355874506555096,-0.537784725061075,-0.5345891996012894,-0.5240297833245076,-0.5263121362827319,-0.5247425246414756,-0.5216370214178756,-0.5395282919643624,-0.5185215584488188,-0.5276941010427887,-0.5169545625758938,-0.5135285005252888,-0.5226057579684629,-0.5197378032846508,-0.5168578799773316,-0.5113623445596163,-0.4784498673715416,-0.4312541678006542,-0.4526010824235356,-0.4843285187036198,-0.4749334573720827,-0.48750168048288756,-0.5013051917001103,-0.5149439431778712,-0.5258235633076244,-0.5239216445530699,-0.5155265682904036,-0.5618170566184839,-0.572037590488041,-0.5769528994300019,-0.5861904049388802,-0.6027325393766925,-0.5731749478525356,-0.593424183744099,-0.5859187312824798,-0.6177425800521031,-0.6168841532065831,-0.6104157075712613,-0.6317867118028766,-0.6328601952722742,-0.6272017773047573],\"yaxis\":\"y\",\"type\":\"scattergl\"},{\"hovertemplate\":\"circulating_market_cap_GN=Long-Short<br>date=%{x}<br>value=%{y}<extra></extra>\",\"legendgroup\":\"Long-Short\",\"line\":{\"color\":\"#636efa\",\"dash\":\"solid\"},\"marker\":{\"symbol\":\"circle\"},\"mode\":\"lines\",\"name\":\"Long-Short\",\"showlegend\":true,\"x\":[\"2010-01-31T00:00:00\",\"2010-02-28T00:00:00\",\"2010-03-31T00:00:00\",\"2010-04-30T00:00:00\",\"2010-05-31T00:00:00\",\"2010-06-30T00:00:00\",\"2010-07-31T00:00:00\",\"2010-08-31T00:00:00\",\"2010-09-30T00:00:00\",\"2010-10-31T00:00:00\",\"2010-11-30T00:00:00\",\"2010-12-31T00:00:00\",\"2011-01-31T00:00:00\",\"2011-02-28T00:00:00\",\"2011-03-31T00:00:00\",\"2011-04-30T00:00:00\",\"2011-05-31T00:00:00\",\"2011-06-30T00:00:00\",\"2011-07-31T00:00:00\",\"2011-08-31T00:00:00\",\"2011-09-30T00:00:00\",\"2011-10-31T00:00:00\",\"2011-11-30T00:00:00\",\"2011-12-31T00:00:00\",\"2012-01-31T00:00:00\",\"2012-02-29T00:00:00\",\"2012-03-31T00:00:00\",\"2012-04-30T00:00:00\",\"2012-05-31T00:00:00\",\"2012-06-30T00:00:00\",\"2012-07-31T00:00:00\",\"2012-08-31T00:00:00\",\"2012-09-30T00:00:00\",\"2012-10-31T00:00:00\",\"2012-11-30T00:00:00\",\"2012-12-31T00:00:00\",\"2013-01-31T00:00:00\",\"2013-02-28T00:00:00\",\"2013-03-31T00:00:00\",\"2013-04-30T00:00:00\",\"2013-05-31T00:00:00\",\"2013-06-30T00:00:00\",\"2013-07-31T00:00:00\",\"2013-08-31T00:00:00\",\"2013-09-30T00:00:00\",\"2013-10-31T00:00:00\",\"2013-11-30T00:00:00\",\"2013-12-31T00:00:00\",\"2014-01-31T00:00:00\",\"2014-02-28T00:00:00\",\"2014-03-31T00:00:00\",\"2014-04-30T00:00:00\",\"2014-05-31T00:00:00\",\"2014-06-30T00:00:00\",\"2014-07-31T00:00:00\",\"2014-08-31T00:00:00\",\"2014-09-30T00:00:00\",\"2014-10-31T00:00:00\",\"2014-11-30T00:00:00\",\"2014-12-31T00:00:00\",\"2015-01-31T00:00:00\",\"2015-02-28T00:00:00\",\"2015-03-31T00:00:00\",\"2015-04-30T00:00:00\",\"2015-05-31T00:00:00\",\"2015-06-30T00:00:00\",\"2015-07-31T00:00:00\",\"2015-08-31T00:00:00\",\"2015-09-30T00:00:00\",\"2015-10-31T00:00:00\",\"2015-11-30T00:00:00\",\"2015-12-31T00:00:00\",\"2016-01-31T00:00:00\",\"2016-02-29T00:00:00\",\"2016-03-31T00:00:00\",\"2016-04-30T00:00:00\",\"2016-05-31T00:00:00\",\"2016-06-30T00:00:00\",\"2016-07-31T00:00:00\",\"2016-08-31T00:00:00\",\"2016-09-30T00:00:00\",\"2016-10-31T00:00:00\",\"2016-11-30T00:00:00\",\"2016-12-31T00:00:00\",\"2017-01-31T00:00:00\",\"2017-02-28T00:00:00\",\"2017-03-31T00:00:00\",\"2017-04-30T00:00:00\",\"2017-05-31T00:00:00\",\"2017-06-30T00:00:00\",\"2017-07-31T00:00:00\",\"2017-08-31T00:00:00\",\"2017-09-30T00:00:00\",\"2017-10-31T00:00:00\",\"2017-11-30T00:00:00\",\"2017-12-31T00:00:00\",\"2018-01-31T00:00:00\",\"2018-02-28T00:00:00\",\"2018-03-31T00:00:00\",\"2018-04-30T00:00:00\",\"2018-05-31T00:00:00\",\"2018-06-30T00:00:00\",\"2018-07-31T00:00:00\",\"2018-08-31T00:00:00\",\"2018-09-30T00:00:00\",\"2018-10-31T00:00:00\",\"2018-11-30T00:00:00\",\"2018-12-31T00:00:00\",\"2019-01-31T00:00:00\",\"2019-02-28T00:00:00\",\"2019-03-31T00:00:00\",\"2019-04-30T00:00:00\",\"2019-05-31T00:00:00\",\"2019-06-30T00:00:00\",\"2019-07-31T00:00:00\",\"2019-08-31T00:00:00\",\"2019-09-30T00:00:00\",\"2019-10-31T00:00:00\",\"2019-11-30T00:00:00\",\"2019-12-31T00:00:00\",\"2020-01-31T00:00:00\",\"2020-02-29T00:00:00\",\"2020-03-31T00:00:00\",\"2020-04-30T00:00:00\",\"2020-05-31T00:00:00\",\"2020-06-30T00:00:00\",\"2020-07-31T00:00:00\",\"2020-08-31T00:00:00\",\"2020-09-30T00:00:00\",\"2020-10-31T00:00:00\",\"2020-11-30T00:00:00\",\"2020-12-31T00:00:00\",\"2021-01-31T00:00:00\",\"2021-02-28T00:00:00\",\"2021-03-31T00:00:00\",\"2021-04-30T00:00:00\",\"2021-05-31T00:00:00\",\"2021-06-30T00:00:00\",\"2021-07-31T00:00:00\",\"2021-08-31T00:00:00\",\"2021-09-30T00:00:00\",\"2021-10-31T00:00:00\",\"2021-11-30T00:00:00\",\"2021-12-31T00:00:00\",\"2022-01-31T00:00:00\",\"2022-02-28T00:00:00\",\"2022-03-31T00:00:00\",\"2022-04-30T00:00:00\",\"2022-05-31T00:00:00\",\"2022-06-30T00:00:00\",\"2022-07-31T00:00:00\",\"2022-08-31T00:00:00\",\"2022-09-30T00:00:00\",\"2022-10-31T00:00:00\",\"2022-11-30T00:00:00\"],\"xaxis\":\"x\",\"y\":[0.0,-0.017998691648244858,-0.002701984462167961,0.02541821261599453,0.024674566503351203,0.01427309999404014,-0.020961229535092607,-0.006587568102709218,0.04315717284719511,0.013692776686297536,0.021018426461984818,0.028949840243987612,-0.000412783460091215,-0.060007510904071526,-0.07419275383273338,-0.07818401147294363,-0.07970607647365413,-0.10420135287951005,-0.14777710512288256,-0.1500998073978903,-0.14406653112996493,-0.15970676876551526,-0.09083108274721607,-0.09609661431568028,-0.1274739775942091,-0.13845516463573082,-0.16943482771247698,-0.18376150107359523,-0.17529126867011047,-0.1526118816027907,-0.25219095818309756,-0.2363111270636481,-0.256447813233331,-0.22375150513582198,-0.233356737262302,-0.24929968135810943,-0.26155155481713643,-0.25912579492754906,-0.2623610762859703,-0.2912532750426923,-0.2743589558349405,-0.2892788845625027,-0.3169591579396155,-0.29524860800377806,-0.31177771145761335,-0.33582890327240644,-0.3402610576042232,-0.36381215561932834,-0.40263589398550215,-0.41550232855892466,-0.4147807650440458,-0.42582672963559975,-0.4437276297711684,-0.4525846019097577,-0.4768558135566229,-0.524145699196602,-0.5327893930392202,-0.5187234901776012,-0.42978620209905416,-0.4542219614453241,-0.46596675510110463,-0.49306421660631006,-0.5088464386315614,-0.5886443836473025,-0.6041245318707713,-0.5903131698272588,-0.6013691759404343,-0.6109070112468358,-0.6547335761517006,-0.6963839509908136,-0.7282577762614122,-0.718517672206989,-0.724074260341983,-0.7416221557347639,-0.7538959328863523,-0.7462388689391961,-0.7578510969675525,-0.7535728770255528,-0.7630082028809956,-0.7736928998909034,-0.7787390645863217,-0.7768673447867281,-0.7827317545080674,-0.7748681118509322,-0.7793569083308459,-0.7726878982712647,-0.7594577187810554,-0.7456406937871415,-0.7406535921447317,-0.7385229592551539,-0.7423108434998946,-0.7409760945820323,-0.7294355640596377,-0.7146246036265946,-0.705308332943089,-0.6896961496687304,-0.6796903792175525,-0.6922495342210919,-0.6900957079504295,-0.6911468189547056,-0.682868676073537,-0.6859472813404066,-0.682640876676434,-0.6832308413603989,-0.6904922918808944,-0.7013264372474157,-0.6984762352781372,-0.684270431171885,-0.7015483679973847,-0.7109783239588401,-0.7132016186309378,-0.7178536170169059,-0.7102614316359078,-0.7002281118883074,-0.689447933981888,-0.6905187855283914,-0.689226256468933,-0.6814473123517842,-0.680880603176129,-0.6667399626982798,-0.6551881082131328,-0.6779615645311796,-0.6550525376340779,-0.6696353433644895,-0.6621108680369134,-0.6636419267059885,-0.6736895380831289,-0.6732500734821538,-0.6688198268498677,-0.6669745653947861,-0.6513845650866886,-0.6109248278675204,-0.6229970503825069,-0.6481171074183599,-0.6489035935468362,-0.6615777278638317,-0.6663216689039747,-0.6640116948171937,-0.6727407427721036,-0.6761058082407322,-0.6675769689822235,-0.699623745491488,-0.7030401949357175,-0.707909138234614,-0.717185264925537,-0.7267862607526078,-0.7122138635287603,-0.7277005865941198,-0.7237030232484719,-0.7509024672490614,-0.753007169168346,-0.7491219776651603,-0.754546738502218,-0.7568191030082788,-0.7581239707930266],\"yaxis\":\"y\",\"type\":\"scattergl\"},{\"hovertemplate\":\"circulating_market_cap_GN=Short-Long<br>date=%{x}<br>value=%{y}<extra></extra>\",\"legendgroup\":\"Short-Long\",\"line\":{\"color\":\"#EF553B\",\"dash\":\"solid\"},\"marker\":{\"symbol\":\"circle\"},\"mode\":\"lines\",\"name\":\"Short-Long\",\"showlegend\":true,\"x\":[\"2010-01-31T00:00:00\",\"2010-02-28T00:00:00\",\"2010-03-31T00:00:00\",\"2010-04-30T00:00:00\",\"2010-05-31T00:00:00\",\"2010-06-30T00:00:00\",\"2010-07-31T00:00:00\",\"2010-08-31T00:00:00\",\"2010-09-30T00:00:00\",\"2010-10-31T00:00:00\",\"2010-11-30T00:00:00\",\"2010-12-31T00:00:00\",\"2011-01-31T00:00:00\",\"2011-02-28T00:00:00\",\"2011-03-31T00:00:00\",\"2011-04-30T00:00:00\",\"2011-05-31T00:00:00\",\"2011-06-30T00:00:00\",\"2011-07-31T00:00:00\",\"2011-08-31T00:00:00\",\"2011-09-30T00:00:00\",\"2011-10-31T00:00:00\",\"2011-11-30T00:00:00\",\"2011-12-31T00:00:00\",\"2012-01-31T00:00:00\",\"2012-02-29T00:00:00\",\"2012-03-31T00:00:00\",\"2012-04-30T00:00:00\",\"2012-05-31T00:00:00\",\"2012-06-30T00:00:00\",\"2012-07-31T00:00:00\",\"2012-08-31T00:00:00\",\"2012-09-30T00:00:00\",\"2012-10-31T00:00:00\",\"2012-11-30T00:00:00\",\"2012-12-31T00:00:00\",\"2013-01-31T00:00:00\",\"2013-02-28T00:00:00\",\"2013-03-31T00:00:00\",\"2013-04-30T00:00:00\",\"2013-05-31T00:00:00\",\"2013-06-30T00:00:00\",\"2013-07-31T00:00:00\",\"2013-08-31T00:00:00\",\"2013-09-30T00:00:00\",\"2013-10-31T00:00:00\",\"2013-11-30T00:00:00\",\"2013-12-31T00:00:00\",\"2014-01-31T00:00:00\",\"2014-02-28T00:00:00\",\"2014-03-31T00:00:00\",\"2014-04-30T00:00:00\",\"2014-05-31T00:00:00\",\"2014-06-30T00:00:00\",\"2014-07-31T00:00:00\",\"2014-08-31T00:00:00\",\"2014-09-30T00:00:00\",\"2014-10-31T00:00:00\",\"2014-11-30T00:00:00\",\"2014-12-31T00:00:00\",\"2015-01-31T00:00:00\",\"2015-02-28T00:00:00\",\"2015-03-31T00:00:00\",\"2015-04-30T00:00:00\",\"2015-05-31T00:00:00\",\"2015-06-30T00:00:00\",\"2015-07-31T00:00:00\",\"2015-08-31T00:00:00\",\"2015-09-30T00:00:00\",\"2015-10-31T00:00:00\",\"2015-11-30T00:00:00\",\"2015-12-31T00:00:00\",\"2016-01-31T00:00:00\",\"2016-02-29T00:00:00\",\"2016-03-31T00:00:00\",\"2016-04-30T00:00:00\",\"2016-05-31T00:00:00\",\"2016-06-30T00:00:00\",\"2016-07-31T00:00:00\",\"2016-08-31T00:00:00\",\"2016-09-30T00:00:00\",\"2016-10-31T00:00:00\",\"2016-11-30T00:00:00\",\"2016-12-31T00:00:00\",\"2017-01-31T00:00:00\",\"2017-02-28T00:00:00\",\"2017-03-31T00:00:00\",\"2017-04-30T00:00:00\",\"2017-05-31T00:00:00\",\"2017-06-30T00:00:00\",\"2017-07-31T00:00:00\",\"2017-08-31T00:00:00\",\"2017-09-30T00:00:00\",\"2017-10-31T00:00:00\",\"2017-11-30T00:00:00\",\"2017-12-31T00:00:00\",\"2018-01-31T00:00:00\",\"2018-02-28T00:00:00\",\"2018-03-31T00:00:00\",\"2018-04-30T00:00:00\",\"2018-05-31T00:00:00\",\"2018-06-30T00:00:00\",\"2018-07-31T00:00:00\",\"2018-08-31T00:00:00\",\"2018-09-30T00:00:00\",\"2018-10-31T00:00:00\",\"2018-11-30T00:00:00\",\"2018-12-31T00:00:00\",\"2019-01-31T00:00:00\",\"2019-02-28T00:00:00\",\"2019-03-31T00:00:00\",\"2019-04-30T00:00:00\",\"2019-05-31T00:00:00\",\"2019-06-30T00:00:00\",\"2019-07-31T00:00:00\",\"2019-08-31T00:00:00\",\"2019-09-30T00:00:00\",\"2019-10-31T00:00:00\",\"2019-11-30T00:00:00\",\"2019-12-31T00:00:00\",\"2020-01-31T00:00:00\",\"2020-02-29T00:00:00\",\"2020-03-31T00:00:00\",\"2020-04-30T00:00:00\",\"2020-05-31T00:00:00\",\"2020-06-30T00:00:00\",\"2020-07-31T00:00:00\",\"2020-08-31T00:00:00\",\"2020-09-30T00:00:00\",\"2020-10-31T00:00:00\",\"2020-11-30T00:00:00\",\"2020-12-31T00:00:00\",\"2021-01-31T00:00:00\",\"2021-02-28T00:00:00\",\"2021-03-31T00:00:00\",\"2021-04-30T00:00:00\",\"2021-05-31T00:00:00\",\"2021-06-30T00:00:00\",\"2021-07-31T00:00:00\",\"2021-08-31T00:00:00\",\"2021-09-30T00:00:00\",\"2021-10-31T00:00:00\",\"2021-11-30T00:00:00\",\"2021-12-31T00:00:00\",\"2022-01-31T00:00:00\",\"2022-02-28T00:00:00\",\"2022-03-31T00:00:00\",\"2022-04-30T00:00:00\",\"2022-05-31T00:00:00\",\"2022-06-30T00:00:00\",\"2022-07-31T00:00:00\",\"2022-08-31T00:00:00\",\"2022-09-30T00:00:00\",\"2022-10-31T00:00:00\",\"2022-11-30T00:00:00\"],\"xaxis\":\"x\",\"y\":[0.0,0.017998691648244858,0.0021412505537010684,-0.026115508235224127,-0.025409235021471854,-0.015516168936304364,0.018683325972912,0.0037276268973833737,-0.04653364342808686,-0.019602600640503454,-0.026687634838122865,-0.03424846127099057,-0.006689295688525498,0.0525312302557126,0.06841477333119017,0.0730208278253901,0.07479255609588376,0.10340009121862503,0.1570745292799165,0.1602280935148923,0.15199185979837537,0.17304189125146463,0.07689204500142144,0.0831289597827991,0.12072781314130299,0.13483274688850133,0.1756393708783015,0.1959183349127016,0.18350810647380444,0.15096178142065897,0.28621469432422453,0.2589017427723175,0.2920960319796526,0.23527854061178344,0.2505637710527284,0.2765702192395134,0.29740460068213803,0.2931427025612454,0.2987896537585353,0.34966127619221443,0.31748954598251733,0.34457849069344526,0.396945445031744,0.3525433361468391,0.3842656271318088,0.4326413317188911,0.4422016506120239,0.4936847907579851,0.584837785946654,0.6189731005346308,0.6169744750858144,0.6474947343841757,0.6988583910297896,0.7259076248980287,0.8024306262476049,0.9653622623013889,1.0010622436958783,0.9408180054004869,0.582165366986799,0.6499669745522623,0.685473206547758,0.7709960569858985,0.8261317445676324,1.122824209015008,1.2027104001877196,1.1258619130668364,1.1832314465144296,1.2354685057577455,1.4872666835515016,1.7873120471871924,2.07992601623331,1.9695316893402786,2.0281515845246414,2.220731252172107,2.3737263271435376,2.2687591946206416,2.4183391439968367,2.3579448720789267,2.48651555736004,2.6437039613621245,2.72495077280338,2.6934401760460625,2.7905117877870107,2.6533208691632275,2.726162677546395,2.6135381843333727,2.4032204827685546,2.207735588254677,2.144843045973508,2.1190069216881433,2.1641903807950893,2.1478008681588636,2.0075539981304438,1.8429175664732935,1.7501086210745722,1.604413290611364,1.520433792715885,1.6192585442221072,1.6009273685147885,1.6097490061897233,1.5398003170290373,1.5644558525844459,1.5374567906825884,1.5421738754725633,1.600449339821802,1.6914766242054982,1.665792221796797,1.540197736314871,1.6792071302567448,1.7638600607179096,1.78512101052481,1.8302969225499717,1.7541373819169257,1.6587647115209463,1.5631521549798646,1.5719904650393568,1.5612487066990668,1.4971383660597528,1.4926959259868893,1.3822409763323114,1.299664915518183,1.4515486519760592,1.277151475049298,1.3734190554848884,1.3193614171561672,1.3298710135549143,1.399468387192507,1.3962368591221672,1.3637474248063923,1.3505771556714508,1.2405390181202867,0.9805057240552035,1.0419568458575927,1.1780143289216816,1.1828823634110885,1.2616816440746548,1.2933854805371285,1.277508929567699,1.3366790981636423,1.3607061591889043,1.2985436262366061,1.5201315037710592,1.5487952271720045,1.5905851907629094,1.672856153599287,1.763594285649976,1.6161924975591497,1.7569784617204878,1.7165039123798804,1.983924124178308,2.009136219865489,1.9618025768849048,2.025845933399957,2.053858699895337,2.0702451919510882],\"yaxis\":\"y\",\"type\":\"scattergl\"}],                        {\"template\":{\"data\":{\"histogram2dcontour\":[{\"type\":\"histogram2dcontour\",\"colorbar\":{\"outlinewidth\":0,\"ticks\":\"\"},\"colorscale\":[[0.0,\"#0d0887\"],[0.1111111111111111,\"#46039f\"],[0.2222222222222222,\"#7201a8\"],[0.3333333333333333,\"#9c179e\"],[0.4444444444444444,\"#bd3786\"],[0.5555555555555556,\"#d8576b\"],[0.6666666666666666,\"#ed7953\"],[0.7777777777777778,\"#fb9f3a\"],[0.8888888888888888,\"#fdca26\"],[1.0,\"#f0f921\"]]}],\"choropleth\":[{\"type\":\"choropleth\",\"colorbar\":{\"outlinewidth\":0,\"ticks\":\"\"}}],\"histogram2d\":[{\"type\":\"histogram2d\",\"colorbar\":{\"outlinewidth\":0,\"ticks\":\"\"},\"colorscale\":[[0.0,\"#0d0887\"],[0.1111111111111111,\"#46039f\"],[0.2222222222222222,\"#7201a8\"],[0.3333333333333333,\"#9c179e\"],[0.4444444444444444,\"#bd3786\"],[0.5555555555555556,\"#d8576b\"],[0.6666666666666666,\"#ed7953\"],[0.7777777777777778,\"#fb9f3a\"],[0.8888888888888888,\"#fdca26\"],[1.0,\"#f0f921\"]]}],\"heatmap\":[{\"type\":\"heatmap\",\"colorbar\":{\"outlinewidth\":0,\"ticks\":\"\"},\"colorscale\":[[0.0,\"#0d0887\"],[0.1111111111111111,\"#46039f\"],[0.2222222222222222,\"#7201a8\"],[0.3333333333333333,\"#9c179e\"],[0.4444444444444444,\"#bd3786\"],[0.5555555555555556,\"#d8576b\"],[0.6666666666666666,\"#ed7953\"],[0.7777777777777778,\"#fb9f3a\"],[0.8888888888888888,\"#fdca26\"],[1.0,\"#f0f921\"]]}],\"heatmapgl\":[{\"type\":\"heatmapgl\",\"colorbar\":{\"outlinewidth\":0,\"ticks\":\"\"},\"colorscale\":[[0.0,\"#0d0887\"],[0.1111111111111111,\"#46039f\"],[0.2222222222222222,\"#7201a8\"],[0.3333333333333333,\"#9c179e\"],[0.4444444444444444,\"#bd3786\"],[0.5555555555555556,\"#d8576b\"],[0.6666666666666666,\"#ed7953\"],[0.7777777777777778,\"#fb9f3a\"],[0.8888888888888888,\"#fdca26\"],[1.0,\"#f0f921\"]]}],\"contourcarpet\":[{\"type\":\"contourcarpet\",\"colorbar\":{\"outlinewidth\":0,\"ticks\":\"\"}}],\"contour\":[{\"type\":\"contour\",\"colorbar\":{\"outlinewidth\":0,\"ticks\":\"\"},\"colorscale\":[[0.0,\"#0d0887\"],[0.1111111111111111,\"#46039f\"],[0.2222222222222222,\"#7201a8\"],[0.3333333333333333,\"#9c179e\"],[0.4444444444444444,\"#bd3786\"],[0.5555555555555556,\"#d8576b\"],[0.6666666666666666,\"#ed7953\"],[0.7777777777777778,\"#fb9f3a\"],[0.8888888888888888,\"#fdca26\"],[1.0,\"#f0f921\"]]}],\"surface\":[{\"type\":\"surface\",\"colorbar\":{\"outlinewidth\":0,\"ticks\":\"\"},\"colorscale\":[[0.0,\"#0d0887\"],[0.1111111111111111,\"#46039f\"],[0.2222222222222222,\"#7201a8\"],[0.3333333333333333,\"#9c179e\"],[0.4444444444444444,\"#bd3786\"],[0.5555555555555556,\"#d8576b\"],[0.6666666666666666,\"#ed7953\"],[0.7777777777777778,\"#fb9f3a\"],[0.8888888888888888,\"#fdca26\"],[1.0,\"#f0f921\"]]}],\"mesh3d\":[{\"type\":\"mesh3d\",\"colorbar\":{\"outlinewidth\":0,\"ticks\":\"\"}}],\"scatter\":[{\"fillpattern\":{\"fillmode\":\"overlay\",\"size\":10,\"solidity\":0.2},\"type\":\"scatter\"}],\"parcoords\":[{\"type\":\"parcoords\",\"line\":{\"colorbar\":{\"outlinewidth\":0,\"ticks\":\"\"}}}],\"scatterpolargl\":[{\"type\":\"scatterpolargl\",\"marker\":{\"colorbar\":{\"outlinewidth\":0,\"ticks\":\"\"}}}],\"bar\":[{\"error_x\":{\"color\":\"#2a3f5f\"},\"error_y\":{\"color\":\"#2a3f5f\"},\"marker\":{\"line\":{\"color\":\"#E5ECF6\",\"width\":0.5},\"pattern\":{\"fillmode\":\"overlay\",\"size\":10,\"solidity\":0.2}},\"type\":\"bar\"}],\"scattergeo\":[{\"type\":\"scattergeo\",\"marker\":{\"colorbar\":{\"outlinewidth\":0,\"ticks\":\"\"}}}],\"scatterpolar\":[{\"type\":\"scatterpolar\",\"marker\":{\"colorbar\":{\"outlinewidth\":0,\"ticks\":\"\"}}}],\"histogram\":[{\"marker\":{\"pattern\":{\"fillmode\":\"overlay\",\"size\":10,\"solidity\":0.2}},\"type\":\"histogram\"}],\"scattergl\":[{\"type\":\"scattergl\",\"marker\":{\"colorbar\":{\"outlinewidth\":0,\"ticks\":\"\"}}}],\"scatter3d\":[{\"type\":\"scatter3d\",\"line\":{\"colorbar\":{\"outlinewidth\":0,\"ticks\":\"\"}},\"marker\":{\"colorbar\":{\"outlinewidth\":0,\"ticks\":\"\"}}}],\"scattermapbox\":[{\"type\":\"scattermapbox\",\"marker\":{\"colorbar\":{\"outlinewidth\":0,\"ticks\":\"\"}}}],\"scatterternary\":[{\"type\":\"scatterternary\",\"marker\":{\"colorbar\":{\"outlinewidth\":0,\"ticks\":\"\"}}}],\"scattercarpet\":[{\"type\":\"scattercarpet\",\"marker\":{\"colorbar\":{\"outlinewidth\":0,\"ticks\":\"\"}}}],\"carpet\":[{\"aaxis\":{\"endlinecolor\":\"#2a3f5f\",\"gridcolor\":\"white\",\"linecolor\":\"white\",\"minorgridcolor\":\"white\",\"startlinecolor\":\"#2a3f5f\"},\"baxis\":{\"endlinecolor\":\"#2a3f5f\",\"gridcolor\":\"white\",\"linecolor\":\"white\",\"minorgridcolor\":\"white\",\"startlinecolor\":\"#2a3f5f\"},\"type\":\"carpet\"}],\"table\":[{\"cells\":{\"fill\":{\"color\":\"#EBF0F8\"},\"line\":{\"color\":\"white\"}},\"header\":{\"fill\":{\"color\":\"#C8D4E3\"},\"line\":{\"color\":\"white\"}},\"type\":\"table\"}],\"barpolar\":[{\"marker\":{\"line\":{\"color\":\"#E5ECF6\",\"width\":0.5},\"pattern\":{\"fillmode\":\"overlay\",\"size\":10,\"solidity\":0.2}},\"type\":\"barpolar\"}],\"pie\":[{\"automargin\":true,\"type\":\"pie\"}]},\"layout\":{\"autotypenumbers\":\"strict\",\"colorway\":[\"#636efa\",\"#EF553B\",\"#00cc96\",\"#ab63fa\",\"#FFA15A\",\"#19d3f3\",\"#FF6692\",\"#B6E880\",\"#FF97FF\",\"#FECB52\"],\"font\":{\"color\":\"#2a3f5f\"},\"hovermode\":\"closest\",\"hoverlabel\":{\"align\":\"left\"},\"paper_bgcolor\":\"white\",\"plot_bgcolor\":\"#E5ECF6\",\"polar\":{\"bgcolor\":\"#E5ECF6\",\"angularaxis\":{\"gridcolor\":\"white\",\"linecolor\":\"white\",\"ticks\":\"\"},\"radialaxis\":{\"gridcolor\":\"white\",\"linecolor\":\"white\",\"ticks\":\"\"}},\"ternary\":{\"bgcolor\":\"#E5ECF6\",\"aaxis\":{\"gridcolor\":\"white\",\"linecolor\":\"white\",\"ticks\":\"\"},\"baxis\":{\"gridcolor\":\"white\",\"linecolor\":\"white\",\"ticks\":\"\"},\"caxis\":{\"gridcolor\":\"white\",\"linecolor\":\"white\",\"ticks\":\"\"}},\"coloraxis\":{\"colorbar\":{\"outlinewidth\":0,\"ticks\":\"\"}},\"colorscale\":{\"sequential\":[[0.0,\"#0d0887\"],[0.1111111111111111,\"#46039f\"],[0.2222222222222222,\"#7201a8\"],[0.3333333333333333,\"#9c179e\"],[0.4444444444444444,\"#bd3786\"],[0.5555555555555556,\"#d8576b\"],[0.6666666666666666,\"#ed7953\"],[0.7777777777777778,\"#fb9f3a\"],[0.8888888888888888,\"#fdca26\"],[1.0,\"#f0f921\"]],\"sequentialminus\":[[0.0,\"#0d0887\"],[0.1111111111111111,\"#46039f\"],[0.2222222222222222,\"#7201a8\"],[0.3333333333333333,\"#9c179e\"],[0.4444444444444444,\"#bd3786\"],[0.5555555555555556,\"#d8576b\"],[0.6666666666666666,\"#ed7953\"],[0.7777777777777778,\"#fb9f3a\"],[0.8888888888888888,\"#fdca26\"],[1.0,\"#f0f921\"]],\"diverging\":[[0,\"#8e0152\"],[0.1,\"#c51b7d\"],[0.2,\"#de77ae\"],[0.3,\"#f1b6da\"],[0.4,\"#fde0ef\"],[0.5,\"#f7f7f7\"],[0.6,\"#e6f5d0\"],[0.7,\"#b8e186\"],[0.8,\"#7fbc41\"],[0.9,\"#4d9221\"],[1,\"#276419\"]]},\"xaxis\":{\"gridcolor\":\"white\",\"linecolor\":\"white\",\"ticks\":\"\",\"title\":{\"standoff\":15},\"zerolinecolor\":\"white\",\"automargin\":true,\"zerolinewidth\":2},\"yaxis\":{\"gridcolor\":\"white\",\"linecolor\":\"white\",\"ticks\":\"\",\"title\":{\"standoff\":15},\"zerolinecolor\":\"white\",\"automargin\":true,\"zerolinewidth\":2},\"scene\":{\"xaxis\":{\"backgroundcolor\":\"#E5ECF6\",\"gridcolor\":\"white\",\"linecolor\":\"white\",\"showbackground\":true,\"ticks\":\"\",\"zerolinecolor\":\"white\",\"gridwidth\":2},\"yaxis\":{\"backgroundcolor\":\"#E5ECF6\",\"gridcolor\":\"white\",\"linecolor\":\"white\",\"showbackground\":true,\"ticks\":\"\",\"zerolinecolor\":\"white\",\"gridwidth\":2},\"zaxis\":{\"backgroundcolor\":\"#E5ECF6\",\"gridcolor\":\"white\",\"linecolor\":\"white\",\"showbackground\":true,\"ticks\":\"\",\"zerolinecolor\":\"white\",\"gridwidth\":2}},\"shapedefaults\":{\"line\":{\"color\":\"#2a3f5f\"}},\"annotationdefaults\":{\"arrowcolor\":\"#2a3f5f\",\"arrowhead\":0,\"arrowwidth\":1},\"geo\":{\"bgcolor\":\"white\",\"landcolor\":\"#E5ECF6\",\"subunitcolor\":\"white\",\"showland\":true,\"showlakes\":true,\"lakecolor\":\"white\"},\"title\":{\"x\":0.05},\"mapbox\":{\"style\":\"light\"}}},\"xaxis\":{\"anchor\":\"y\",\"domain\":[0.0,1.0],\"title\":{\"text\":\"date\"}},\"yaxis\":{\"anchor\":\"x\",\"domain\":[0.0,1.0],\"title\":{\"text\":\"value\"}},\"legend\":{\"title\":{\"text\":\"circulating_market_cap_GN\"},\"tracegroupgap\":0},\"margin\":{\"t\":60},\"title\":{\"text\":\"cumulative excess return(compound) of different groups-holding_period=1\"}},                        {\"responsive\": true}                    ).then(function(){\n",
       "                            \n",
       "var gd = document.getElementById('d49b8f57-3633-49c7-8a8c-a5f56c18b374');\n",
       "var x = new MutationObserver(function (mutations, observer) {{\n",
       "        var display = window.getComputedStyle(gd).display;\n",
       "        if (!display || display === 'none') {{\n",
       "            console.log([gd, 'removed!']);\n",
       "            Plotly.purge(gd);\n",
       "            observer.disconnect();\n",
       "        }}\n",
       "}});\n",
       "\n",
       "// Listen for the removal of the full notebook cells\n",
       "var notebookContainer = gd.closest('#notebook-container');\n",
       "if (notebookContainer) {{\n",
       "    x.observe(notebookContainer, {childList: true});\n",
       "}}\n",
       "\n",
       "// Listen for the clearing of the current output cell\n",
       "var outputEl = gd.closest('.output');\n",
       "if (outputEl) {{\n",
       "    x.observe(outputEl, {childList: true});\n",
       "}}\n",
       "\n",
       "                        })                };                });            </script>        </div>"
      ]
     },
     "metadata": {},
     "output_type": "display_data"
    },
    {
     "data": {
      "application/vnd.plotly.v1+json": {
       "config": {
        "plotlyServerURL": "https://plot.ly"
       },
       "data": [
        {
         "alignmentgroup": "True",
         "hovertemplate": "variable=ret_ann<br>circulating_market_cap_GN=%{x}<br>value=%{y}<extra></extra>",
         "legendgroup": "ret_ann",
         "marker": {
          "color": "#636efa",
          "pattern": {
           "shape": ""
          }
         },
         "name": "ret_ann",
         "offsetgroup": "ret_ann",
         "orientation": "v",
         "showlegend": true,
         "textposition": "auto",
         "type": "bar",
         "x": [
          0,
          1,
          2,
          3,
          4,
          5,
          6,
          7,
          8,
          9,
          "Long-Short",
          "Short-Long"
         ],
         "xaxis": "x",
         "y": [
          0.0318,
          0.0548,
          0.0646,
          0.0513,
          0.0404,
          0.0109,
          -0.0269,
          -0.0579,
          -0.0688,
          -0.0671,
          -0.0989,
          0.0989
         ],
         "yaxis": "y"
        }
       ],
       "layout": {
        "barmode": "relative",
        "legend": {
         "title": {
          "text": "variable"
         },
         "tracegroupgap": 0
        },
        "template": {
         "data": {
          "bar": [
           {
            "error_x": {
             "color": "#2a3f5f"
            },
            "error_y": {
             "color": "#2a3f5f"
            },
            "marker": {
             "line": {
              "color": "#E5ECF6",
              "width": 0.5
             },
             "pattern": {
              "fillmode": "overlay",
              "size": 10,
              "solidity": 0.2
             }
            },
            "type": "bar"
           }
          ],
          "barpolar": [
           {
            "marker": {
             "line": {
              "color": "#E5ECF6",
              "width": 0.5
             },
             "pattern": {
              "fillmode": "overlay",
              "size": 10,
              "solidity": 0.2
             }
            },
            "type": "barpolar"
           }
          ],
          "carpet": [
           {
            "aaxis": {
             "endlinecolor": "#2a3f5f",
             "gridcolor": "white",
             "linecolor": "white",
             "minorgridcolor": "white",
             "startlinecolor": "#2a3f5f"
            },
            "baxis": {
             "endlinecolor": "#2a3f5f",
             "gridcolor": "white",
             "linecolor": "white",
             "minorgridcolor": "white",
             "startlinecolor": "#2a3f5f"
            },
            "type": "carpet"
           }
          ],
          "choropleth": [
           {
            "colorbar": {
             "outlinewidth": 0,
             "ticks": ""
            },
            "type": "choropleth"
           }
          ],
          "contour": [
           {
            "colorbar": {
             "outlinewidth": 0,
             "ticks": ""
            },
            "colorscale": [
             [
              0,
              "#0d0887"
             ],
             [
              0.1111111111111111,
              "#46039f"
             ],
             [
              0.2222222222222222,
              "#7201a8"
             ],
             [
              0.3333333333333333,
              "#9c179e"
             ],
             [
              0.4444444444444444,
              "#bd3786"
             ],
             [
              0.5555555555555556,
              "#d8576b"
             ],
             [
              0.6666666666666666,
              "#ed7953"
             ],
             [
              0.7777777777777778,
              "#fb9f3a"
             ],
             [
              0.8888888888888888,
              "#fdca26"
             ],
             [
              1,
              "#f0f921"
             ]
            ],
            "type": "contour"
           }
          ],
          "contourcarpet": [
           {
            "colorbar": {
             "outlinewidth": 0,
             "ticks": ""
            },
            "type": "contourcarpet"
           }
          ],
          "heatmap": [
           {
            "colorbar": {
             "outlinewidth": 0,
             "ticks": ""
            },
            "colorscale": [
             [
              0,
              "#0d0887"
             ],
             [
              0.1111111111111111,
              "#46039f"
             ],
             [
              0.2222222222222222,
              "#7201a8"
             ],
             [
              0.3333333333333333,
              "#9c179e"
             ],
             [
              0.4444444444444444,
              "#bd3786"
             ],
             [
              0.5555555555555556,
              "#d8576b"
             ],
             [
              0.6666666666666666,
              "#ed7953"
             ],
             [
              0.7777777777777778,
              "#fb9f3a"
             ],
             [
              0.8888888888888888,
              "#fdca26"
             ],
             [
              1,
              "#f0f921"
             ]
            ],
            "type": "heatmap"
           }
          ],
          "heatmapgl": [
           {
            "colorbar": {
             "outlinewidth": 0,
             "ticks": ""
            },
            "colorscale": [
             [
              0,
              "#0d0887"
             ],
             [
              0.1111111111111111,
              "#46039f"
             ],
             [
              0.2222222222222222,
              "#7201a8"
             ],
             [
              0.3333333333333333,
              "#9c179e"
             ],
             [
              0.4444444444444444,
              "#bd3786"
             ],
             [
              0.5555555555555556,
              "#d8576b"
             ],
             [
              0.6666666666666666,
              "#ed7953"
             ],
             [
              0.7777777777777778,
              "#fb9f3a"
             ],
             [
              0.8888888888888888,
              "#fdca26"
             ],
             [
              1,
              "#f0f921"
             ]
            ],
            "type": "heatmapgl"
           }
          ],
          "histogram": [
           {
            "marker": {
             "pattern": {
              "fillmode": "overlay",
              "size": 10,
              "solidity": 0.2
             }
            },
            "type": "histogram"
           }
          ],
          "histogram2d": [
           {
            "colorbar": {
             "outlinewidth": 0,
             "ticks": ""
            },
            "colorscale": [
             [
              0,
              "#0d0887"
             ],
             [
              0.1111111111111111,
              "#46039f"
             ],
             [
              0.2222222222222222,
              "#7201a8"
             ],
             [
              0.3333333333333333,
              "#9c179e"
             ],
             [
              0.4444444444444444,
              "#bd3786"
             ],
             [
              0.5555555555555556,
              "#d8576b"
             ],
             [
              0.6666666666666666,
              "#ed7953"
             ],
             [
              0.7777777777777778,
              "#fb9f3a"
             ],
             [
              0.8888888888888888,
              "#fdca26"
             ],
             [
              1,
              "#f0f921"
             ]
            ],
            "type": "histogram2d"
           }
          ],
          "histogram2dcontour": [
           {
            "colorbar": {
             "outlinewidth": 0,
             "ticks": ""
            },
            "colorscale": [
             [
              0,
              "#0d0887"
             ],
             [
              0.1111111111111111,
              "#46039f"
             ],
             [
              0.2222222222222222,
              "#7201a8"
             ],
             [
              0.3333333333333333,
              "#9c179e"
             ],
             [
              0.4444444444444444,
              "#bd3786"
             ],
             [
              0.5555555555555556,
              "#d8576b"
             ],
             [
              0.6666666666666666,
              "#ed7953"
             ],
             [
              0.7777777777777778,
              "#fb9f3a"
             ],
             [
              0.8888888888888888,
              "#fdca26"
             ],
             [
              1,
              "#f0f921"
             ]
            ],
            "type": "histogram2dcontour"
           }
          ],
          "mesh3d": [
           {
            "colorbar": {
             "outlinewidth": 0,
             "ticks": ""
            },
            "type": "mesh3d"
           }
          ],
          "parcoords": [
           {
            "line": {
             "colorbar": {
              "outlinewidth": 0,
              "ticks": ""
             }
            },
            "type": "parcoords"
           }
          ],
          "pie": [
           {
            "automargin": true,
            "type": "pie"
           }
          ],
          "scatter": [
           {
            "fillpattern": {
             "fillmode": "overlay",
             "size": 10,
             "solidity": 0.2
            },
            "type": "scatter"
           }
          ],
          "scatter3d": [
           {
            "line": {
             "colorbar": {
              "outlinewidth": 0,
              "ticks": ""
             }
            },
            "marker": {
             "colorbar": {
              "outlinewidth": 0,
              "ticks": ""
             }
            },
            "type": "scatter3d"
           }
          ],
          "scattercarpet": [
           {
            "marker": {
             "colorbar": {
              "outlinewidth": 0,
              "ticks": ""
             }
            },
            "type": "scattercarpet"
           }
          ],
          "scattergeo": [
           {
            "marker": {
             "colorbar": {
              "outlinewidth": 0,
              "ticks": ""
             }
            },
            "type": "scattergeo"
           }
          ],
          "scattergl": [
           {
            "marker": {
             "colorbar": {
              "outlinewidth": 0,
              "ticks": ""
             }
            },
            "type": "scattergl"
           }
          ],
          "scattermapbox": [
           {
            "marker": {
             "colorbar": {
              "outlinewidth": 0,
              "ticks": ""
             }
            },
            "type": "scattermapbox"
           }
          ],
          "scatterpolar": [
           {
            "marker": {
             "colorbar": {
              "outlinewidth": 0,
              "ticks": ""
             }
            },
            "type": "scatterpolar"
           }
          ],
          "scatterpolargl": [
           {
            "marker": {
             "colorbar": {
              "outlinewidth": 0,
              "ticks": ""
             }
            },
            "type": "scatterpolargl"
           }
          ],
          "scatterternary": [
           {
            "marker": {
             "colorbar": {
              "outlinewidth": 0,
              "ticks": ""
             }
            },
            "type": "scatterternary"
           }
          ],
          "surface": [
           {
            "colorbar": {
             "outlinewidth": 0,
             "ticks": ""
            },
            "colorscale": [
             [
              0,
              "#0d0887"
             ],
             [
              0.1111111111111111,
              "#46039f"
             ],
             [
              0.2222222222222222,
              "#7201a8"
             ],
             [
              0.3333333333333333,
              "#9c179e"
             ],
             [
              0.4444444444444444,
              "#bd3786"
             ],
             [
              0.5555555555555556,
              "#d8576b"
             ],
             [
              0.6666666666666666,
              "#ed7953"
             ],
             [
              0.7777777777777778,
              "#fb9f3a"
             ],
             [
              0.8888888888888888,
              "#fdca26"
             ],
             [
              1,
              "#f0f921"
             ]
            ],
            "type": "surface"
           }
          ],
          "table": [
           {
            "cells": {
             "fill": {
              "color": "#EBF0F8"
             },
             "line": {
              "color": "white"
             }
            },
            "header": {
             "fill": {
              "color": "#C8D4E3"
             },
             "line": {
              "color": "white"
             }
            },
            "type": "table"
           }
          ]
         },
         "layout": {
          "annotationdefaults": {
           "arrowcolor": "#2a3f5f",
           "arrowhead": 0,
           "arrowwidth": 1
          },
          "autotypenumbers": "strict",
          "coloraxis": {
           "colorbar": {
            "outlinewidth": 0,
            "ticks": ""
           }
          },
          "colorscale": {
           "diverging": [
            [
             0,
             "#8e0152"
            ],
            [
             0.1,
             "#c51b7d"
            ],
            [
             0.2,
             "#de77ae"
            ],
            [
             0.3,
             "#f1b6da"
            ],
            [
             0.4,
             "#fde0ef"
            ],
            [
             0.5,
             "#f7f7f7"
            ],
            [
             0.6,
             "#e6f5d0"
            ],
            [
             0.7,
             "#b8e186"
            ],
            [
             0.8,
             "#7fbc41"
            ],
            [
             0.9,
             "#4d9221"
            ],
            [
             1,
             "#276419"
            ]
           ],
           "sequential": [
            [
             0,
             "#0d0887"
            ],
            [
             0.1111111111111111,
             "#46039f"
            ],
            [
             0.2222222222222222,
             "#7201a8"
            ],
            [
             0.3333333333333333,
             "#9c179e"
            ],
            [
             0.4444444444444444,
             "#bd3786"
            ],
            [
             0.5555555555555556,
             "#d8576b"
            ],
            [
             0.6666666666666666,
             "#ed7953"
            ],
            [
             0.7777777777777778,
             "#fb9f3a"
            ],
            [
             0.8888888888888888,
             "#fdca26"
            ],
            [
             1,
             "#f0f921"
            ]
           ],
           "sequentialminus": [
            [
             0,
             "#0d0887"
            ],
            [
             0.1111111111111111,
             "#46039f"
            ],
            [
             0.2222222222222222,
             "#7201a8"
            ],
            [
             0.3333333333333333,
             "#9c179e"
            ],
            [
             0.4444444444444444,
             "#bd3786"
            ],
            [
             0.5555555555555556,
             "#d8576b"
            ],
            [
             0.6666666666666666,
             "#ed7953"
            ],
            [
             0.7777777777777778,
             "#fb9f3a"
            ],
            [
             0.8888888888888888,
             "#fdca26"
            ],
            [
             1,
             "#f0f921"
            ]
           ]
          },
          "colorway": [
           "#636efa",
           "#EF553B",
           "#00cc96",
           "#ab63fa",
           "#FFA15A",
           "#19d3f3",
           "#FF6692",
           "#B6E880",
           "#FF97FF",
           "#FECB52"
          ],
          "font": {
           "color": "#2a3f5f"
          },
          "geo": {
           "bgcolor": "white",
           "lakecolor": "white",
           "landcolor": "#E5ECF6",
           "showlakes": true,
           "showland": true,
           "subunitcolor": "white"
          },
          "hoverlabel": {
           "align": "left"
          },
          "hovermode": "closest",
          "mapbox": {
           "style": "light"
          },
          "paper_bgcolor": "white",
          "plot_bgcolor": "#E5ECF6",
          "polar": {
           "angularaxis": {
            "gridcolor": "white",
            "linecolor": "white",
            "ticks": ""
           },
           "bgcolor": "#E5ECF6",
           "radialaxis": {
            "gridcolor": "white",
            "linecolor": "white",
            "ticks": ""
           }
          },
          "scene": {
           "xaxis": {
            "backgroundcolor": "#E5ECF6",
            "gridcolor": "white",
            "gridwidth": 2,
            "linecolor": "white",
            "showbackground": true,
            "ticks": "",
            "zerolinecolor": "white"
           },
           "yaxis": {
            "backgroundcolor": "#E5ECF6",
            "gridcolor": "white",
            "gridwidth": 2,
            "linecolor": "white",
            "showbackground": true,
            "ticks": "",
            "zerolinecolor": "white"
           },
           "zaxis": {
            "backgroundcolor": "#E5ECF6",
            "gridcolor": "white",
            "gridwidth": 2,
            "linecolor": "white",
            "showbackground": true,
            "ticks": "",
            "zerolinecolor": "white"
           }
          },
          "shapedefaults": {
           "line": {
            "color": "#2a3f5f"
           }
          },
          "ternary": {
           "aaxis": {
            "gridcolor": "white",
            "linecolor": "white",
            "ticks": ""
           },
           "baxis": {
            "gridcolor": "white",
            "linecolor": "white",
            "ticks": ""
           },
           "bgcolor": "#E5ECF6",
           "caxis": {
            "gridcolor": "white",
            "linecolor": "white",
            "ticks": ""
           }
          },
          "title": {
           "x": 0.05
          },
          "xaxis": {
           "automargin": true,
           "gridcolor": "white",
           "linecolor": "white",
           "ticks": "",
           "title": {
            "standoff": 15
           },
           "zerolinecolor": "white",
           "zerolinewidth": 2
          },
          "yaxis": {
           "automargin": true,
           "gridcolor": "white",
           "linecolor": "white",
           "ticks": "",
           "title": {
            "standoff": 15
           },
           "zerolinecolor": "white",
           "zerolinewidth": 2
          }
         }
        },
        "title": {
         "text": "ann_ret"
        },
        "xaxis": {
         "anchor": "y",
         "domain": [
          0,
          1
         ],
         "title": {
          "text": "circulating_market_cap_GN"
         }
        },
        "yaxis": {
         "anchor": "x",
         "domain": [
          0,
          1
         ],
         "title": {
          "text": "value"
         }
        }
       }
      },
      "text/html": [
       "<div>                            <div id=\"16eb1ca0-3fa5-472b-a955-aaddecab67cc\" class=\"plotly-graph-div\" style=\"height:525px; width:100%;\"></div>            <script type=\"text/javascript\">                require([\"plotly\"], function(Plotly) {                    window.PLOTLYENV=window.PLOTLYENV || {};                                    if (document.getElementById(\"16eb1ca0-3fa5-472b-a955-aaddecab67cc\")) {                    Plotly.newPlot(                        \"16eb1ca0-3fa5-472b-a955-aaddecab67cc\",                        [{\"alignmentgroup\":\"True\",\"hovertemplate\":\"variable=ret_ann<br>circulating_market_cap_GN=%{x}<br>value=%{y}<extra></extra>\",\"legendgroup\":\"ret_ann\",\"marker\":{\"color\":\"#636efa\",\"pattern\":{\"shape\":\"\"}},\"name\":\"ret_ann\",\"offsetgroup\":\"ret_ann\",\"orientation\":\"v\",\"showlegend\":true,\"textposition\":\"auto\",\"x\":[0,1,2,3,4,5,6,7,8,9,\"Long-Short\",\"Short-Long\"],\"xaxis\":\"x\",\"y\":[0.0318,0.0548,0.0646,0.0513,0.0404,0.0109,-0.0269,-0.0579,-0.0688,-0.0671,-0.0989,0.0989],\"yaxis\":\"y\",\"type\":\"bar\"}],                        {\"template\":{\"data\":{\"histogram2dcontour\":[{\"type\":\"histogram2dcontour\",\"colorbar\":{\"outlinewidth\":0,\"ticks\":\"\"},\"colorscale\":[[0.0,\"#0d0887\"],[0.1111111111111111,\"#46039f\"],[0.2222222222222222,\"#7201a8\"],[0.3333333333333333,\"#9c179e\"],[0.4444444444444444,\"#bd3786\"],[0.5555555555555556,\"#d8576b\"],[0.6666666666666666,\"#ed7953\"],[0.7777777777777778,\"#fb9f3a\"],[0.8888888888888888,\"#fdca26\"],[1.0,\"#f0f921\"]]}],\"choropleth\":[{\"type\":\"choropleth\",\"colorbar\":{\"outlinewidth\":0,\"ticks\":\"\"}}],\"histogram2d\":[{\"type\":\"histogram2d\",\"colorbar\":{\"outlinewidth\":0,\"ticks\":\"\"},\"colorscale\":[[0.0,\"#0d0887\"],[0.1111111111111111,\"#46039f\"],[0.2222222222222222,\"#7201a8\"],[0.3333333333333333,\"#9c179e\"],[0.4444444444444444,\"#bd3786\"],[0.5555555555555556,\"#d8576b\"],[0.6666666666666666,\"#ed7953\"],[0.7777777777777778,\"#fb9f3a\"],[0.8888888888888888,\"#fdca26\"],[1.0,\"#f0f921\"]]}],\"heatmap\":[{\"type\":\"heatmap\",\"colorbar\":{\"outlinewidth\":0,\"ticks\":\"\"},\"colorscale\":[[0.0,\"#0d0887\"],[0.1111111111111111,\"#46039f\"],[0.2222222222222222,\"#7201a8\"],[0.3333333333333333,\"#9c179e\"],[0.4444444444444444,\"#bd3786\"],[0.5555555555555556,\"#d8576b\"],[0.6666666666666666,\"#ed7953\"],[0.7777777777777778,\"#fb9f3a\"],[0.8888888888888888,\"#fdca26\"],[1.0,\"#f0f921\"]]}],\"heatmapgl\":[{\"type\":\"heatmapgl\",\"colorbar\":{\"outlinewidth\":0,\"ticks\":\"\"},\"colorscale\":[[0.0,\"#0d0887\"],[0.1111111111111111,\"#46039f\"],[0.2222222222222222,\"#7201a8\"],[0.3333333333333333,\"#9c179e\"],[0.4444444444444444,\"#bd3786\"],[0.5555555555555556,\"#d8576b\"],[0.6666666666666666,\"#ed7953\"],[0.7777777777777778,\"#fb9f3a\"],[0.8888888888888888,\"#fdca26\"],[1.0,\"#f0f921\"]]}],\"contourcarpet\":[{\"type\":\"contourcarpet\",\"colorbar\":{\"outlinewidth\":0,\"ticks\":\"\"}}],\"contour\":[{\"type\":\"contour\",\"colorbar\":{\"outlinewidth\":0,\"ticks\":\"\"},\"colorscale\":[[0.0,\"#0d0887\"],[0.1111111111111111,\"#46039f\"],[0.2222222222222222,\"#7201a8\"],[0.3333333333333333,\"#9c179e\"],[0.4444444444444444,\"#bd3786\"],[0.5555555555555556,\"#d8576b\"],[0.6666666666666666,\"#ed7953\"],[0.7777777777777778,\"#fb9f3a\"],[0.8888888888888888,\"#fdca26\"],[1.0,\"#f0f921\"]]}],\"surface\":[{\"type\":\"surface\",\"colorbar\":{\"outlinewidth\":0,\"ticks\":\"\"},\"colorscale\":[[0.0,\"#0d0887\"],[0.1111111111111111,\"#46039f\"],[0.2222222222222222,\"#7201a8\"],[0.3333333333333333,\"#9c179e\"],[0.4444444444444444,\"#bd3786\"],[0.5555555555555556,\"#d8576b\"],[0.6666666666666666,\"#ed7953\"],[0.7777777777777778,\"#fb9f3a\"],[0.8888888888888888,\"#fdca26\"],[1.0,\"#f0f921\"]]}],\"mesh3d\":[{\"type\":\"mesh3d\",\"colorbar\":{\"outlinewidth\":0,\"ticks\":\"\"}}],\"scatter\":[{\"fillpattern\":{\"fillmode\":\"overlay\",\"size\":10,\"solidity\":0.2},\"type\":\"scatter\"}],\"parcoords\":[{\"type\":\"parcoords\",\"line\":{\"colorbar\":{\"outlinewidth\":0,\"ticks\":\"\"}}}],\"scatterpolargl\":[{\"type\":\"scatterpolargl\",\"marker\":{\"colorbar\":{\"outlinewidth\":0,\"ticks\":\"\"}}}],\"bar\":[{\"error_x\":{\"color\":\"#2a3f5f\"},\"error_y\":{\"color\":\"#2a3f5f\"},\"marker\":{\"line\":{\"color\":\"#E5ECF6\",\"width\":0.5},\"pattern\":{\"fillmode\":\"overlay\",\"size\":10,\"solidity\":0.2}},\"type\":\"bar\"}],\"scattergeo\":[{\"type\":\"scattergeo\",\"marker\":{\"colorbar\":{\"outlinewidth\":0,\"ticks\":\"\"}}}],\"scatterpolar\":[{\"type\":\"scatterpolar\",\"marker\":{\"colorbar\":{\"outlinewidth\":0,\"ticks\":\"\"}}}],\"histogram\":[{\"marker\":{\"pattern\":{\"fillmode\":\"overlay\",\"size\":10,\"solidity\":0.2}},\"type\":\"histogram\"}],\"scattergl\":[{\"type\":\"scattergl\",\"marker\":{\"colorbar\":{\"outlinewidth\":0,\"ticks\":\"\"}}}],\"scatter3d\":[{\"type\":\"scatter3d\",\"line\":{\"colorbar\":{\"outlinewidth\":0,\"ticks\":\"\"}},\"marker\":{\"colorbar\":{\"outlinewidth\":0,\"ticks\":\"\"}}}],\"scattermapbox\":[{\"type\":\"scattermapbox\",\"marker\":{\"colorbar\":{\"outlinewidth\":0,\"ticks\":\"\"}}}],\"scatterternary\":[{\"type\":\"scatterternary\",\"marker\":{\"colorbar\":{\"outlinewidth\":0,\"ticks\":\"\"}}}],\"scattercarpet\":[{\"type\":\"scattercarpet\",\"marker\":{\"colorbar\":{\"outlinewidth\":0,\"ticks\":\"\"}}}],\"carpet\":[{\"aaxis\":{\"endlinecolor\":\"#2a3f5f\",\"gridcolor\":\"white\",\"linecolor\":\"white\",\"minorgridcolor\":\"white\",\"startlinecolor\":\"#2a3f5f\"},\"baxis\":{\"endlinecolor\":\"#2a3f5f\",\"gridcolor\":\"white\",\"linecolor\":\"white\",\"minorgridcolor\":\"white\",\"startlinecolor\":\"#2a3f5f\"},\"type\":\"carpet\"}],\"table\":[{\"cells\":{\"fill\":{\"color\":\"#EBF0F8\"},\"line\":{\"color\":\"white\"}},\"header\":{\"fill\":{\"color\":\"#C8D4E3\"},\"line\":{\"color\":\"white\"}},\"type\":\"table\"}],\"barpolar\":[{\"marker\":{\"line\":{\"color\":\"#E5ECF6\",\"width\":0.5},\"pattern\":{\"fillmode\":\"overlay\",\"size\":10,\"solidity\":0.2}},\"type\":\"barpolar\"}],\"pie\":[{\"automargin\":true,\"type\":\"pie\"}]},\"layout\":{\"autotypenumbers\":\"strict\",\"colorway\":[\"#636efa\",\"#EF553B\",\"#00cc96\",\"#ab63fa\",\"#FFA15A\",\"#19d3f3\",\"#FF6692\",\"#B6E880\",\"#FF97FF\",\"#FECB52\"],\"font\":{\"color\":\"#2a3f5f\"},\"hovermode\":\"closest\",\"hoverlabel\":{\"align\":\"left\"},\"paper_bgcolor\":\"white\",\"plot_bgcolor\":\"#E5ECF6\",\"polar\":{\"bgcolor\":\"#E5ECF6\",\"angularaxis\":{\"gridcolor\":\"white\",\"linecolor\":\"white\",\"ticks\":\"\"},\"radialaxis\":{\"gridcolor\":\"white\",\"linecolor\":\"white\",\"ticks\":\"\"}},\"ternary\":{\"bgcolor\":\"#E5ECF6\",\"aaxis\":{\"gridcolor\":\"white\",\"linecolor\":\"white\",\"ticks\":\"\"},\"baxis\":{\"gridcolor\":\"white\",\"linecolor\":\"white\",\"ticks\":\"\"},\"caxis\":{\"gridcolor\":\"white\",\"linecolor\":\"white\",\"ticks\":\"\"}},\"coloraxis\":{\"colorbar\":{\"outlinewidth\":0,\"ticks\":\"\"}},\"colorscale\":{\"sequential\":[[0.0,\"#0d0887\"],[0.1111111111111111,\"#46039f\"],[0.2222222222222222,\"#7201a8\"],[0.3333333333333333,\"#9c179e\"],[0.4444444444444444,\"#bd3786\"],[0.5555555555555556,\"#d8576b\"],[0.6666666666666666,\"#ed7953\"],[0.7777777777777778,\"#fb9f3a\"],[0.8888888888888888,\"#fdca26\"],[1.0,\"#f0f921\"]],\"sequentialminus\":[[0.0,\"#0d0887\"],[0.1111111111111111,\"#46039f\"],[0.2222222222222222,\"#7201a8\"],[0.3333333333333333,\"#9c179e\"],[0.4444444444444444,\"#bd3786\"],[0.5555555555555556,\"#d8576b\"],[0.6666666666666666,\"#ed7953\"],[0.7777777777777778,\"#fb9f3a\"],[0.8888888888888888,\"#fdca26\"],[1.0,\"#f0f921\"]],\"diverging\":[[0,\"#8e0152\"],[0.1,\"#c51b7d\"],[0.2,\"#de77ae\"],[0.3,\"#f1b6da\"],[0.4,\"#fde0ef\"],[0.5,\"#f7f7f7\"],[0.6,\"#e6f5d0\"],[0.7,\"#b8e186\"],[0.8,\"#7fbc41\"],[0.9,\"#4d9221\"],[1,\"#276419\"]]},\"xaxis\":{\"gridcolor\":\"white\",\"linecolor\":\"white\",\"ticks\":\"\",\"title\":{\"standoff\":15},\"zerolinecolor\":\"white\",\"automargin\":true,\"zerolinewidth\":2},\"yaxis\":{\"gridcolor\":\"white\",\"linecolor\":\"white\",\"ticks\":\"\",\"title\":{\"standoff\":15},\"zerolinecolor\":\"white\",\"automargin\":true,\"zerolinewidth\":2},\"scene\":{\"xaxis\":{\"backgroundcolor\":\"#E5ECF6\",\"gridcolor\":\"white\",\"linecolor\":\"white\",\"showbackground\":true,\"ticks\":\"\",\"zerolinecolor\":\"white\",\"gridwidth\":2},\"yaxis\":{\"backgroundcolor\":\"#E5ECF6\",\"gridcolor\":\"white\",\"linecolor\":\"white\",\"showbackground\":true,\"ticks\":\"\",\"zerolinecolor\":\"white\",\"gridwidth\":2},\"zaxis\":{\"backgroundcolor\":\"#E5ECF6\",\"gridcolor\":\"white\",\"linecolor\":\"white\",\"showbackground\":true,\"ticks\":\"\",\"zerolinecolor\":\"white\",\"gridwidth\":2}},\"shapedefaults\":{\"line\":{\"color\":\"#2a3f5f\"}},\"annotationdefaults\":{\"arrowcolor\":\"#2a3f5f\",\"arrowhead\":0,\"arrowwidth\":1},\"geo\":{\"bgcolor\":\"white\",\"landcolor\":\"#E5ECF6\",\"subunitcolor\":\"white\",\"showland\":true,\"showlakes\":true,\"lakecolor\":\"white\"},\"title\":{\"x\":0.05},\"mapbox\":{\"style\":\"light\"}}},\"xaxis\":{\"anchor\":\"y\",\"domain\":[0.0,1.0],\"title\":{\"text\":\"circulating_market_cap_GN\"}},\"yaxis\":{\"anchor\":\"x\",\"domain\":[0.0,1.0],\"title\":{\"text\":\"value\"}},\"legend\":{\"title\":{\"text\":\"variable\"},\"tracegroupgap\":0},\"title\":{\"text\":\"ann_ret\"},\"barmode\":\"relative\"},                        {\"responsive\": true}                    ).then(function(){\n",
       "                            \n",
       "var gd = document.getElementById('16eb1ca0-3fa5-472b-a955-aaddecab67cc');\n",
       "var x = new MutationObserver(function (mutations, observer) {{\n",
       "        var display = window.getComputedStyle(gd).display;\n",
       "        if (!display || display === 'none') {{\n",
       "            console.log([gd, 'removed!']);\n",
       "            Plotly.purge(gd);\n",
       "            observer.disconnect();\n",
       "        }}\n",
       "}});\n",
       "\n",
       "// Listen for the removal of the full notebook cells\n",
       "var notebookContainer = gd.closest('#notebook-container');\n",
       "if (notebookContainer) {{\n",
       "    x.observe(notebookContainer, {childList: true});\n",
       "}}\n",
       "\n",
       "// Listen for the clearing of the current output cell\n",
       "var outputEl = gd.closest('.output');\n",
       "if (outputEl) {{\n",
       "    x.observe(outputEl, {childList: true});\n",
       "}}\n",
       "\n",
       "                        })                };                });            </script>        </div>"
      ]
     },
     "metadata": {},
     "output_type": "display_data"
    },
    {
     "data": {
      "application/vnd.plotly.v1+json": {
       "config": {
        "plotlyServerURL": "https://plot.ly"
       },
       "data": [
        {
         "alignmentgroup": "True",
         "hovertemplate": "variable=SR<br>circulating_market_cap_GN=%{x}<br>value=%{y}<extra></extra>",
         "legendgroup": "SR",
         "marker": {
          "color": "#636efa",
          "pattern": {
           "shape": ""
          }
         },
         "name": "SR",
         "offsetgroup": "SR",
         "orientation": "v",
         "showlegend": true,
         "textposition": "auto",
         "type": "bar",
         "x": [
          0,
          1,
          2,
          3,
          4,
          5,
          6,
          7,
          8,
          9,
          "Long-Short",
          "Short-Long"
         ],
         "xaxis": "x",
         "y": [
          0.582,
          1.1588,
          1.203,
          0.9648,
          0.6815,
          0.2969,
          -0.7528,
          -1.5363,
          -1.0745,
          -0.4869,
          -0.6607,
          0.6607
         ],
         "yaxis": "y"
        }
       ],
       "layout": {
        "barmode": "relative",
        "legend": {
         "title": {
          "text": "variable"
         },
         "tracegroupgap": 0
        },
        "template": {
         "data": {
          "bar": [
           {
            "error_x": {
             "color": "#2a3f5f"
            },
            "error_y": {
             "color": "#2a3f5f"
            },
            "marker": {
             "line": {
              "color": "#E5ECF6",
              "width": 0.5
             },
             "pattern": {
              "fillmode": "overlay",
              "size": 10,
              "solidity": 0.2
             }
            },
            "type": "bar"
           }
          ],
          "barpolar": [
           {
            "marker": {
             "line": {
              "color": "#E5ECF6",
              "width": 0.5
             },
             "pattern": {
              "fillmode": "overlay",
              "size": 10,
              "solidity": 0.2
             }
            },
            "type": "barpolar"
           }
          ],
          "carpet": [
           {
            "aaxis": {
             "endlinecolor": "#2a3f5f",
             "gridcolor": "white",
             "linecolor": "white",
             "minorgridcolor": "white",
             "startlinecolor": "#2a3f5f"
            },
            "baxis": {
             "endlinecolor": "#2a3f5f",
             "gridcolor": "white",
             "linecolor": "white",
             "minorgridcolor": "white",
             "startlinecolor": "#2a3f5f"
            },
            "type": "carpet"
           }
          ],
          "choropleth": [
           {
            "colorbar": {
             "outlinewidth": 0,
             "ticks": ""
            },
            "type": "choropleth"
           }
          ],
          "contour": [
           {
            "colorbar": {
             "outlinewidth": 0,
             "ticks": ""
            },
            "colorscale": [
             [
              0,
              "#0d0887"
             ],
             [
              0.1111111111111111,
              "#46039f"
             ],
             [
              0.2222222222222222,
              "#7201a8"
             ],
             [
              0.3333333333333333,
              "#9c179e"
             ],
             [
              0.4444444444444444,
              "#bd3786"
             ],
             [
              0.5555555555555556,
              "#d8576b"
             ],
             [
              0.6666666666666666,
              "#ed7953"
             ],
             [
              0.7777777777777778,
              "#fb9f3a"
             ],
             [
              0.8888888888888888,
              "#fdca26"
             ],
             [
              1,
              "#f0f921"
             ]
            ],
            "type": "contour"
           }
          ],
          "contourcarpet": [
           {
            "colorbar": {
             "outlinewidth": 0,
             "ticks": ""
            },
            "type": "contourcarpet"
           }
          ],
          "heatmap": [
           {
            "colorbar": {
             "outlinewidth": 0,
             "ticks": ""
            },
            "colorscale": [
             [
              0,
              "#0d0887"
             ],
             [
              0.1111111111111111,
              "#46039f"
             ],
             [
              0.2222222222222222,
              "#7201a8"
             ],
             [
              0.3333333333333333,
              "#9c179e"
             ],
             [
              0.4444444444444444,
              "#bd3786"
             ],
             [
              0.5555555555555556,
              "#d8576b"
             ],
             [
              0.6666666666666666,
              "#ed7953"
             ],
             [
              0.7777777777777778,
              "#fb9f3a"
             ],
             [
              0.8888888888888888,
              "#fdca26"
             ],
             [
              1,
              "#f0f921"
             ]
            ],
            "type": "heatmap"
           }
          ],
          "heatmapgl": [
           {
            "colorbar": {
             "outlinewidth": 0,
             "ticks": ""
            },
            "colorscale": [
             [
              0,
              "#0d0887"
             ],
             [
              0.1111111111111111,
              "#46039f"
             ],
             [
              0.2222222222222222,
              "#7201a8"
             ],
             [
              0.3333333333333333,
              "#9c179e"
             ],
             [
              0.4444444444444444,
              "#bd3786"
             ],
             [
              0.5555555555555556,
              "#d8576b"
             ],
             [
              0.6666666666666666,
              "#ed7953"
             ],
             [
              0.7777777777777778,
              "#fb9f3a"
             ],
             [
              0.8888888888888888,
              "#fdca26"
             ],
             [
              1,
              "#f0f921"
             ]
            ],
            "type": "heatmapgl"
           }
          ],
          "histogram": [
           {
            "marker": {
             "pattern": {
              "fillmode": "overlay",
              "size": 10,
              "solidity": 0.2
             }
            },
            "type": "histogram"
           }
          ],
          "histogram2d": [
           {
            "colorbar": {
             "outlinewidth": 0,
             "ticks": ""
            },
            "colorscale": [
             [
              0,
              "#0d0887"
             ],
             [
              0.1111111111111111,
              "#46039f"
             ],
             [
              0.2222222222222222,
              "#7201a8"
             ],
             [
              0.3333333333333333,
              "#9c179e"
             ],
             [
              0.4444444444444444,
              "#bd3786"
             ],
             [
              0.5555555555555556,
              "#d8576b"
             ],
             [
              0.6666666666666666,
              "#ed7953"
             ],
             [
              0.7777777777777778,
              "#fb9f3a"
             ],
             [
              0.8888888888888888,
              "#fdca26"
             ],
             [
              1,
              "#f0f921"
             ]
            ],
            "type": "histogram2d"
           }
          ],
          "histogram2dcontour": [
           {
            "colorbar": {
             "outlinewidth": 0,
             "ticks": ""
            },
            "colorscale": [
             [
              0,
              "#0d0887"
             ],
             [
              0.1111111111111111,
              "#46039f"
             ],
             [
              0.2222222222222222,
              "#7201a8"
             ],
             [
              0.3333333333333333,
              "#9c179e"
             ],
             [
              0.4444444444444444,
              "#bd3786"
             ],
             [
              0.5555555555555556,
              "#d8576b"
             ],
             [
              0.6666666666666666,
              "#ed7953"
             ],
             [
              0.7777777777777778,
              "#fb9f3a"
             ],
             [
              0.8888888888888888,
              "#fdca26"
             ],
             [
              1,
              "#f0f921"
             ]
            ],
            "type": "histogram2dcontour"
           }
          ],
          "mesh3d": [
           {
            "colorbar": {
             "outlinewidth": 0,
             "ticks": ""
            },
            "type": "mesh3d"
           }
          ],
          "parcoords": [
           {
            "line": {
             "colorbar": {
              "outlinewidth": 0,
              "ticks": ""
             }
            },
            "type": "parcoords"
           }
          ],
          "pie": [
           {
            "automargin": true,
            "type": "pie"
           }
          ],
          "scatter": [
           {
            "fillpattern": {
             "fillmode": "overlay",
             "size": 10,
             "solidity": 0.2
            },
            "type": "scatter"
           }
          ],
          "scatter3d": [
           {
            "line": {
             "colorbar": {
              "outlinewidth": 0,
              "ticks": ""
             }
            },
            "marker": {
             "colorbar": {
              "outlinewidth": 0,
              "ticks": ""
             }
            },
            "type": "scatter3d"
           }
          ],
          "scattercarpet": [
           {
            "marker": {
             "colorbar": {
              "outlinewidth": 0,
              "ticks": ""
             }
            },
            "type": "scattercarpet"
           }
          ],
          "scattergeo": [
           {
            "marker": {
             "colorbar": {
              "outlinewidth": 0,
              "ticks": ""
             }
            },
            "type": "scattergeo"
           }
          ],
          "scattergl": [
           {
            "marker": {
             "colorbar": {
              "outlinewidth": 0,
              "ticks": ""
             }
            },
            "type": "scattergl"
           }
          ],
          "scattermapbox": [
           {
            "marker": {
             "colorbar": {
              "outlinewidth": 0,
              "ticks": ""
             }
            },
            "type": "scattermapbox"
           }
          ],
          "scatterpolar": [
           {
            "marker": {
             "colorbar": {
              "outlinewidth": 0,
              "ticks": ""
             }
            },
            "type": "scatterpolar"
           }
          ],
          "scatterpolargl": [
           {
            "marker": {
             "colorbar": {
              "outlinewidth": 0,
              "ticks": ""
             }
            },
            "type": "scatterpolargl"
           }
          ],
          "scatterternary": [
           {
            "marker": {
             "colorbar": {
              "outlinewidth": 0,
              "ticks": ""
             }
            },
            "type": "scatterternary"
           }
          ],
          "surface": [
           {
            "colorbar": {
             "outlinewidth": 0,
             "ticks": ""
            },
            "colorscale": [
             [
              0,
              "#0d0887"
             ],
             [
              0.1111111111111111,
              "#46039f"
             ],
             [
              0.2222222222222222,
              "#7201a8"
             ],
             [
              0.3333333333333333,
              "#9c179e"
             ],
             [
              0.4444444444444444,
              "#bd3786"
             ],
             [
              0.5555555555555556,
              "#d8576b"
             ],
             [
              0.6666666666666666,
              "#ed7953"
             ],
             [
              0.7777777777777778,
              "#fb9f3a"
             ],
             [
              0.8888888888888888,
              "#fdca26"
             ],
             [
              1,
              "#f0f921"
             ]
            ],
            "type": "surface"
           }
          ],
          "table": [
           {
            "cells": {
             "fill": {
              "color": "#EBF0F8"
             },
             "line": {
              "color": "white"
             }
            },
            "header": {
             "fill": {
              "color": "#C8D4E3"
             },
             "line": {
              "color": "white"
             }
            },
            "type": "table"
           }
          ]
         },
         "layout": {
          "annotationdefaults": {
           "arrowcolor": "#2a3f5f",
           "arrowhead": 0,
           "arrowwidth": 1
          },
          "autotypenumbers": "strict",
          "coloraxis": {
           "colorbar": {
            "outlinewidth": 0,
            "ticks": ""
           }
          },
          "colorscale": {
           "diverging": [
            [
             0,
             "#8e0152"
            ],
            [
             0.1,
             "#c51b7d"
            ],
            [
             0.2,
             "#de77ae"
            ],
            [
             0.3,
             "#f1b6da"
            ],
            [
             0.4,
             "#fde0ef"
            ],
            [
             0.5,
             "#f7f7f7"
            ],
            [
             0.6,
             "#e6f5d0"
            ],
            [
             0.7,
             "#b8e186"
            ],
            [
             0.8,
             "#7fbc41"
            ],
            [
             0.9,
             "#4d9221"
            ],
            [
             1,
             "#276419"
            ]
           ],
           "sequential": [
            [
             0,
             "#0d0887"
            ],
            [
             0.1111111111111111,
             "#46039f"
            ],
            [
             0.2222222222222222,
             "#7201a8"
            ],
            [
             0.3333333333333333,
             "#9c179e"
            ],
            [
             0.4444444444444444,
             "#bd3786"
            ],
            [
             0.5555555555555556,
             "#d8576b"
            ],
            [
             0.6666666666666666,
             "#ed7953"
            ],
            [
             0.7777777777777778,
             "#fb9f3a"
            ],
            [
             0.8888888888888888,
             "#fdca26"
            ],
            [
             1,
             "#f0f921"
            ]
           ],
           "sequentialminus": [
            [
             0,
             "#0d0887"
            ],
            [
             0.1111111111111111,
             "#46039f"
            ],
            [
             0.2222222222222222,
             "#7201a8"
            ],
            [
             0.3333333333333333,
             "#9c179e"
            ],
            [
             0.4444444444444444,
             "#bd3786"
            ],
            [
             0.5555555555555556,
             "#d8576b"
            ],
            [
             0.6666666666666666,
             "#ed7953"
            ],
            [
             0.7777777777777778,
             "#fb9f3a"
            ],
            [
             0.8888888888888888,
             "#fdca26"
            ],
            [
             1,
             "#f0f921"
            ]
           ]
          },
          "colorway": [
           "#636efa",
           "#EF553B",
           "#00cc96",
           "#ab63fa",
           "#FFA15A",
           "#19d3f3",
           "#FF6692",
           "#B6E880",
           "#FF97FF",
           "#FECB52"
          ],
          "font": {
           "color": "#2a3f5f"
          },
          "geo": {
           "bgcolor": "white",
           "lakecolor": "white",
           "landcolor": "#E5ECF6",
           "showlakes": true,
           "showland": true,
           "subunitcolor": "white"
          },
          "hoverlabel": {
           "align": "left"
          },
          "hovermode": "closest",
          "mapbox": {
           "style": "light"
          },
          "paper_bgcolor": "white",
          "plot_bgcolor": "#E5ECF6",
          "polar": {
           "angularaxis": {
            "gridcolor": "white",
            "linecolor": "white",
            "ticks": ""
           },
           "bgcolor": "#E5ECF6",
           "radialaxis": {
            "gridcolor": "white",
            "linecolor": "white",
            "ticks": ""
           }
          },
          "scene": {
           "xaxis": {
            "backgroundcolor": "#E5ECF6",
            "gridcolor": "white",
            "gridwidth": 2,
            "linecolor": "white",
            "showbackground": true,
            "ticks": "",
            "zerolinecolor": "white"
           },
           "yaxis": {
            "backgroundcolor": "#E5ECF6",
            "gridcolor": "white",
            "gridwidth": 2,
            "linecolor": "white",
            "showbackground": true,
            "ticks": "",
            "zerolinecolor": "white"
           },
           "zaxis": {
            "backgroundcolor": "#E5ECF6",
            "gridcolor": "white",
            "gridwidth": 2,
            "linecolor": "white",
            "showbackground": true,
            "ticks": "",
            "zerolinecolor": "white"
           }
          },
          "shapedefaults": {
           "line": {
            "color": "#2a3f5f"
           }
          },
          "ternary": {
           "aaxis": {
            "gridcolor": "white",
            "linecolor": "white",
            "ticks": ""
           },
           "baxis": {
            "gridcolor": "white",
            "linecolor": "white",
            "ticks": ""
           },
           "bgcolor": "#E5ECF6",
           "caxis": {
            "gridcolor": "white",
            "linecolor": "white",
            "ticks": ""
           }
          },
          "title": {
           "x": 0.05
          },
          "xaxis": {
           "automargin": true,
           "gridcolor": "white",
           "linecolor": "white",
           "ticks": "",
           "title": {
            "standoff": 15
           },
           "zerolinecolor": "white",
           "zerolinewidth": 2
          },
          "yaxis": {
           "automargin": true,
           "gridcolor": "white",
           "linecolor": "white",
           "ticks": "",
           "title": {
            "standoff": 15
           },
           "zerolinecolor": "white",
           "zerolinewidth": 2
          }
         }
        },
        "title": {
         "text": "SR"
        },
        "xaxis": {
         "anchor": "y",
         "domain": [
          0,
          1
         ],
         "title": {
          "text": "circulating_market_cap_GN"
         }
        },
        "yaxis": {
         "anchor": "x",
         "domain": [
          0,
          1
         ],
         "title": {
          "text": "value"
         }
        }
       }
      },
      "text/html": [
       "<div>                            <div id=\"2858c9d2-89e2-461e-a167-c4a288c59f0f\" class=\"plotly-graph-div\" style=\"height:525px; width:100%;\"></div>            <script type=\"text/javascript\">                require([\"plotly\"], function(Plotly) {                    window.PLOTLYENV=window.PLOTLYENV || {};                                    if (document.getElementById(\"2858c9d2-89e2-461e-a167-c4a288c59f0f\")) {                    Plotly.newPlot(                        \"2858c9d2-89e2-461e-a167-c4a288c59f0f\",                        [{\"alignmentgroup\":\"True\",\"hovertemplate\":\"variable=SR<br>circulating_market_cap_GN=%{x}<br>value=%{y}<extra></extra>\",\"legendgroup\":\"SR\",\"marker\":{\"color\":\"#636efa\",\"pattern\":{\"shape\":\"\"}},\"name\":\"SR\",\"offsetgroup\":\"SR\",\"orientation\":\"v\",\"showlegend\":true,\"textposition\":\"auto\",\"x\":[0,1,2,3,4,5,6,7,8,9,\"Long-Short\",\"Short-Long\"],\"xaxis\":\"x\",\"y\":[0.582,1.1588,1.203,0.9648,0.6815,0.2969,-0.7528,-1.5363,-1.0745,-0.4869,-0.6607,0.6607],\"yaxis\":\"y\",\"type\":\"bar\"}],                        {\"template\":{\"data\":{\"histogram2dcontour\":[{\"type\":\"histogram2dcontour\",\"colorbar\":{\"outlinewidth\":0,\"ticks\":\"\"},\"colorscale\":[[0.0,\"#0d0887\"],[0.1111111111111111,\"#46039f\"],[0.2222222222222222,\"#7201a8\"],[0.3333333333333333,\"#9c179e\"],[0.4444444444444444,\"#bd3786\"],[0.5555555555555556,\"#d8576b\"],[0.6666666666666666,\"#ed7953\"],[0.7777777777777778,\"#fb9f3a\"],[0.8888888888888888,\"#fdca26\"],[1.0,\"#f0f921\"]]}],\"choropleth\":[{\"type\":\"choropleth\",\"colorbar\":{\"outlinewidth\":0,\"ticks\":\"\"}}],\"histogram2d\":[{\"type\":\"histogram2d\",\"colorbar\":{\"outlinewidth\":0,\"ticks\":\"\"},\"colorscale\":[[0.0,\"#0d0887\"],[0.1111111111111111,\"#46039f\"],[0.2222222222222222,\"#7201a8\"],[0.3333333333333333,\"#9c179e\"],[0.4444444444444444,\"#bd3786\"],[0.5555555555555556,\"#d8576b\"],[0.6666666666666666,\"#ed7953\"],[0.7777777777777778,\"#fb9f3a\"],[0.8888888888888888,\"#fdca26\"],[1.0,\"#f0f921\"]]}],\"heatmap\":[{\"type\":\"heatmap\",\"colorbar\":{\"outlinewidth\":0,\"ticks\":\"\"},\"colorscale\":[[0.0,\"#0d0887\"],[0.1111111111111111,\"#46039f\"],[0.2222222222222222,\"#7201a8\"],[0.3333333333333333,\"#9c179e\"],[0.4444444444444444,\"#bd3786\"],[0.5555555555555556,\"#d8576b\"],[0.6666666666666666,\"#ed7953\"],[0.7777777777777778,\"#fb9f3a\"],[0.8888888888888888,\"#fdca26\"],[1.0,\"#f0f921\"]]}],\"heatmapgl\":[{\"type\":\"heatmapgl\",\"colorbar\":{\"outlinewidth\":0,\"ticks\":\"\"},\"colorscale\":[[0.0,\"#0d0887\"],[0.1111111111111111,\"#46039f\"],[0.2222222222222222,\"#7201a8\"],[0.3333333333333333,\"#9c179e\"],[0.4444444444444444,\"#bd3786\"],[0.5555555555555556,\"#d8576b\"],[0.6666666666666666,\"#ed7953\"],[0.7777777777777778,\"#fb9f3a\"],[0.8888888888888888,\"#fdca26\"],[1.0,\"#f0f921\"]]}],\"contourcarpet\":[{\"type\":\"contourcarpet\",\"colorbar\":{\"outlinewidth\":0,\"ticks\":\"\"}}],\"contour\":[{\"type\":\"contour\",\"colorbar\":{\"outlinewidth\":0,\"ticks\":\"\"},\"colorscale\":[[0.0,\"#0d0887\"],[0.1111111111111111,\"#46039f\"],[0.2222222222222222,\"#7201a8\"],[0.3333333333333333,\"#9c179e\"],[0.4444444444444444,\"#bd3786\"],[0.5555555555555556,\"#d8576b\"],[0.6666666666666666,\"#ed7953\"],[0.7777777777777778,\"#fb9f3a\"],[0.8888888888888888,\"#fdca26\"],[1.0,\"#f0f921\"]]}],\"surface\":[{\"type\":\"surface\",\"colorbar\":{\"outlinewidth\":0,\"ticks\":\"\"},\"colorscale\":[[0.0,\"#0d0887\"],[0.1111111111111111,\"#46039f\"],[0.2222222222222222,\"#7201a8\"],[0.3333333333333333,\"#9c179e\"],[0.4444444444444444,\"#bd3786\"],[0.5555555555555556,\"#d8576b\"],[0.6666666666666666,\"#ed7953\"],[0.7777777777777778,\"#fb9f3a\"],[0.8888888888888888,\"#fdca26\"],[1.0,\"#f0f921\"]]}],\"mesh3d\":[{\"type\":\"mesh3d\",\"colorbar\":{\"outlinewidth\":0,\"ticks\":\"\"}}],\"scatter\":[{\"fillpattern\":{\"fillmode\":\"overlay\",\"size\":10,\"solidity\":0.2},\"type\":\"scatter\"}],\"parcoords\":[{\"type\":\"parcoords\",\"line\":{\"colorbar\":{\"outlinewidth\":0,\"ticks\":\"\"}}}],\"scatterpolargl\":[{\"type\":\"scatterpolargl\",\"marker\":{\"colorbar\":{\"outlinewidth\":0,\"ticks\":\"\"}}}],\"bar\":[{\"error_x\":{\"color\":\"#2a3f5f\"},\"error_y\":{\"color\":\"#2a3f5f\"},\"marker\":{\"line\":{\"color\":\"#E5ECF6\",\"width\":0.5},\"pattern\":{\"fillmode\":\"overlay\",\"size\":10,\"solidity\":0.2}},\"type\":\"bar\"}],\"scattergeo\":[{\"type\":\"scattergeo\",\"marker\":{\"colorbar\":{\"outlinewidth\":0,\"ticks\":\"\"}}}],\"scatterpolar\":[{\"type\":\"scatterpolar\",\"marker\":{\"colorbar\":{\"outlinewidth\":0,\"ticks\":\"\"}}}],\"histogram\":[{\"marker\":{\"pattern\":{\"fillmode\":\"overlay\",\"size\":10,\"solidity\":0.2}},\"type\":\"histogram\"}],\"scattergl\":[{\"type\":\"scattergl\",\"marker\":{\"colorbar\":{\"outlinewidth\":0,\"ticks\":\"\"}}}],\"scatter3d\":[{\"type\":\"scatter3d\",\"line\":{\"colorbar\":{\"outlinewidth\":0,\"ticks\":\"\"}},\"marker\":{\"colorbar\":{\"outlinewidth\":0,\"ticks\":\"\"}}}],\"scattermapbox\":[{\"type\":\"scattermapbox\",\"marker\":{\"colorbar\":{\"outlinewidth\":0,\"ticks\":\"\"}}}],\"scatterternary\":[{\"type\":\"scatterternary\",\"marker\":{\"colorbar\":{\"outlinewidth\":0,\"ticks\":\"\"}}}],\"scattercarpet\":[{\"type\":\"scattercarpet\",\"marker\":{\"colorbar\":{\"outlinewidth\":0,\"ticks\":\"\"}}}],\"carpet\":[{\"aaxis\":{\"endlinecolor\":\"#2a3f5f\",\"gridcolor\":\"white\",\"linecolor\":\"white\",\"minorgridcolor\":\"white\",\"startlinecolor\":\"#2a3f5f\"},\"baxis\":{\"endlinecolor\":\"#2a3f5f\",\"gridcolor\":\"white\",\"linecolor\":\"white\",\"minorgridcolor\":\"white\",\"startlinecolor\":\"#2a3f5f\"},\"type\":\"carpet\"}],\"table\":[{\"cells\":{\"fill\":{\"color\":\"#EBF0F8\"},\"line\":{\"color\":\"white\"}},\"header\":{\"fill\":{\"color\":\"#C8D4E3\"},\"line\":{\"color\":\"white\"}},\"type\":\"table\"}],\"barpolar\":[{\"marker\":{\"line\":{\"color\":\"#E5ECF6\",\"width\":0.5},\"pattern\":{\"fillmode\":\"overlay\",\"size\":10,\"solidity\":0.2}},\"type\":\"barpolar\"}],\"pie\":[{\"automargin\":true,\"type\":\"pie\"}]},\"layout\":{\"autotypenumbers\":\"strict\",\"colorway\":[\"#636efa\",\"#EF553B\",\"#00cc96\",\"#ab63fa\",\"#FFA15A\",\"#19d3f3\",\"#FF6692\",\"#B6E880\",\"#FF97FF\",\"#FECB52\"],\"font\":{\"color\":\"#2a3f5f\"},\"hovermode\":\"closest\",\"hoverlabel\":{\"align\":\"left\"},\"paper_bgcolor\":\"white\",\"plot_bgcolor\":\"#E5ECF6\",\"polar\":{\"bgcolor\":\"#E5ECF6\",\"angularaxis\":{\"gridcolor\":\"white\",\"linecolor\":\"white\",\"ticks\":\"\"},\"radialaxis\":{\"gridcolor\":\"white\",\"linecolor\":\"white\",\"ticks\":\"\"}},\"ternary\":{\"bgcolor\":\"#E5ECF6\",\"aaxis\":{\"gridcolor\":\"white\",\"linecolor\":\"white\",\"ticks\":\"\"},\"baxis\":{\"gridcolor\":\"white\",\"linecolor\":\"white\",\"ticks\":\"\"},\"caxis\":{\"gridcolor\":\"white\",\"linecolor\":\"white\",\"ticks\":\"\"}},\"coloraxis\":{\"colorbar\":{\"outlinewidth\":0,\"ticks\":\"\"}},\"colorscale\":{\"sequential\":[[0.0,\"#0d0887\"],[0.1111111111111111,\"#46039f\"],[0.2222222222222222,\"#7201a8\"],[0.3333333333333333,\"#9c179e\"],[0.4444444444444444,\"#bd3786\"],[0.5555555555555556,\"#d8576b\"],[0.6666666666666666,\"#ed7953\"],[0.7777777777777778,\"#fb9f3a\"],[0.8888888888888888,\"#fdca26\"],[1.0,\"#f0f921\"]],\"sequentialminus\":[[0.0,\"#0d0887\"],[0.1111111111111111,\"#46039f\"],[0.2222222222222222,\"#7201a8\"],[0.3333333333333333,\"#9c179e\"],[0.4444444444444444,\"#bd3786\"],[0.5555555555555556,\"#d8576b\"],[0.6666666666666666,\"#ed7953\"],[0.7777777777777778,\"#fb9f3a\"],[0.8888888888888888,\"#fdca26\"],[1.0,\"#f0f921\"]],\"diverging\":[[0,\"#8e0152\"],[0.1,\"#c51b7d\"],[0.2,\"#de77ae\"],[0.3,\"#f1b6da\"],[0.4,\"#fde0ef\"],[0.5,\"#f7f7f7\"],[0.6,\"#e6f5d0\"],[0.7,\"#b8e186\"],[0.8,\"#7fbc41\"],[0.9,\"#4d9221\"],[1,\"#276419\"]]},\"xaxis\":{\"gridcolor\":\"white\",\"linecolor\":\"white\",\"ticks\":\"\",\"title\":{\"standoff\":15},\"zerolinecolor\":\"white\",\"automargin\":true,\"zerolinewidth\":2},\"yaxis\":{\"gridcolor\":\"white\",\"linecolor\":\"white\",\"ticks\":\"\",\"title\":{\"standoff\":15},\"zerolinecolor\":\"white\",\"automargin\":true,\"zerolinewidth\":2},\"scene\":{\"xaxis\":{\"backgroundcolor\":\"#E5ECF6\",\"gridcolor\":\"white\",\"linecolor\":\"white\",\"showbackground\":true,\"ticks\":\"\",\"zerolinecolor\":\"white\",\"gridwidth\":2},\"yaxis\":{\"backgroundcolor\":\"#E5ECF6\",\"gridcolor\":\"white\",\"linecolor\":\"white\",\"showbackground\":true,\"ticks\":\"\",\"zerolinecolor\":\"white\",\"gridwidth\":2},\"zaxis\":{\"backgroundcolor\":\"#E5ECF6\",\"gridcolor\":\"white\",\"linecolor\":\"white\",\"showbackground\":true,\"ticks\":\"\",\"zerolinecolor\":\"white\",\"gridwidth\":2}},\"shapedefaults\":{\"line\":{\"color\":\"#2a3f5f\"}},\"annotationdefaults\":{\"arrowcolor\":\"#2a3f5f\",\"arrowhead\":0,\"arrowwidth\":1},\"geo\":{\"bgcolor\":\"white\",\"landcolor\":\"#E5ECF6\",\"subunitcolor\":\"white\",\"showland\":true,\"showlakes\":true,\"lakecolor\":\"white\"},\"title\":{\"x\":0.05},\"mapbox\":{\"style\":\"light\"}}},\"xaxis\":{\"anchor\":\"y\",\"domain\":[0.0,1.0],\"title\":{\"text\":\"circulating_market_cap_GN\"}},\"yaxis\":{\"anchor\":\"x\",\"domain\":[0.0,1.0],\"title\":{\"text\":\"value\"}},\"legend\":{\"title\":{\"text\":\"variable\"},\"tracegroupgap\":0},\"title\":{\"text\":\"SR\"},\"barmode\":\"relative\"},                        {\"responsive\": true}                    ).then(function(){\n",
       "                            \n",
       "var gd = document.getElementById('2858c9d2-89e2-461e-a167-c4a288c59f0f');\n",
       "var x = new MutationObserver(function (mutations, observer) {{\n",
       "        var display = window.getComputedStyle(gd).display;\n",
       "        if (!display || display === 'none') {{\n",
       "            console.log([gd, 'removed!']);\n",
       "            Plotly.purge(gd);\n",
       "            observer.disconnect();\n",
       "        }}\n",
       "}});\n",
       "\n",
       "// Listen for the removal of the full notebook cells\n",
       "var notebookContainer = gd.closest('#notebook-container');\n",
       "if (notebookContainer) {{\n",
       "    x.observe(notebookContainer, {childList: true});\n",
       "}}\n",
       "\n",
       "// Listen for the clearing of the current output cell\n",
       "var outputEl = gd.closest('.output');\n",
       "if (outputEl) {{\n",
       "    x.observe(outputEl, {childList: true});\n",
       "}}\n",
       "\n",
       "                        })                };                });            </script>        </div>"
      ]
     },
     "metadata": {},
     "output_type": "display_data"
    },
    {
     "data": {
      "application/vnd.plotly.v1+json": {
       "config": {
        "plotlyServerURL": "https://plot.ly"
       },
       "data": [
        {
         "alignmentgroup": "True",
         "hovertemplate": "variable=turnover_ratio<br>circulating_market_cap_GN=%{x}<br>value=%{y}<extra></extra>",
         "legendgroup": "turnover_ratio",
         "marker": {
          "color": "#636efa",
          "pattern": {
           "shape": ""
          }
         },
         "name": "turnover_ratio",
         "offsetgroup": "turnover_ratio",
         "orientation": "v",
         "showlegend": true,
         "textposition": "auto",
         "type": "bar",
         "x": [
          0,
          1,
          2,
          3,
          4,
          5,
          6,
          7,
          8,
          9,
          "Long-Short",
          "Short-Long"
         ],
         "xaxis": "x",
         "y": [
          0.07082166320320209,
          0.18538790777818134,
          0.25841723253742993,
          0.28842702250518953,
          0.29216338144062876,
          0.2853370458995118,
          0.2627575050498362,
          0.21229174131120349,
          0.13874554542257342,
          0.05110601312997689,
          null,
          null
         ],
         "yaxis": "y"
        }
       ],
       "layout": {
        "barmode": "relative",
        "legend": {
         "title": {
          "text": "variable"
         },
         "tracegroupgap": 0
        },
        "template": {
         "data": {
          "bar": [
           {
            "error_x": {
             "color": "#2a3f5f"
            },
            "error_y": {
             "color": "#2a3f5f"
            },
            "marker": {
             "line": {
              "color": "#E5ECF6",
              "width": 0.5
             },
             "pattern": {
              "fillmode": "overlay",
              "size": 10,
              "solidity": 0.2
             }
            },
            "type": "bar"
           }
          ],
          "barpolar": [
           {
            "marker": {
             "line": {
              "color": "#E5ECF6",
              "width": 0.5
             },
             "pattern": {
              "fillmode": "overlay",
              "size": 10,
              "solidity": 0.2
             }
            },
            "type": "barpolar"
           }
          ],
          "carpet": [
           {
            "aaxis": {
             "endlinecolor": "#2a3f5f",
             "gridcolor": "white",
             "linecolor": "white",
             "minorgridcolor": "white",
             "startlinecolor": "#2a3f5f"
            },
            "baxis": {
             "endlinecolor": "#2a3f5f",
             "gridcolor": "white",
             "linecolor": "white",
             "minorgridcolor": "white",
             "startlinecolor": "#2a3f5f"
            },
            "type": "carpet"
           }
          ],
          "choropleth": [
           {
            "colorbar": {
             "outlinewidth": 0,
             "ticks": ""
            },
            "type": "choropleth"
           }
          ],
          "contour": [
           {
            "colorbar": {
             "outlinewidth": 0,
             "ticks": ""
            },
            "colorscale": [
             [
              0,
              "#0d0887"
             ],
             [
              0.1111111111111111,
              "#46039f"
             ],
             [
              0.2222222222222222,
              "#7201a8"
             ],
             [
              0.3333333333333333,
              "#9c179e"
             ],
             [
              0.4444444444444444,
              "#bd3786"
             ],
             [
              0.5555555555555556,
              "#d8576b"
             ],
             [
              0.6666666666666666,
              "#ed7953"
             ],
             [
              0.7777777777777778,
              "#fb9f3a"
             ],
             [
              0.8888888888888888,
              "#fdca26"
             ],
             [
              1,
              "#f0f921"
             ]
            ],
            "type": "contour"
           }
          ],
          "contourcarpet": [
           {
            "colorbar": {
             "outlinewidth": 0,
             "ticks": ""
            },
            "type": "contourcarpet"
           }
          ],
          "heatmap": [
           {
            "colorbar": {
             "outlinewidth": 0,
             "ticks": ""
            },
            "colorscale": [
             [
              0,
              "#0d0887"
             ],
             [
              0.1111111111111111,
              "#46039f"
             ],
             [
              0.2222222222222222,
              "#7201a8"
             ],
             [
              0.3333333333333333,
              "#9c179e"
             ],
             [
              0.4444444444444444,
              "#bd3786"
             ],
             [
              0.5555555555555556,
              "#d8576b"
             ],
             [
              0.6666666666666666,
              "#ed7953"
             ],
             [
              0.7777777777777778,
              "#fb9f3a"
             ],
             [
              0.8888888888888888,
              "#fdca26"
             ],
             [
              1,
              "#f0f921"
             ]
            ],
            "type": "heatmap"
           }
          ],
          "heatmapgl": [
           {
            "colorbar": {
             "outlinewidth": 0,
             "ticks": ""
            },
            "colorscale": [
             [
              0,
              "#0d0887"
             ],
             [
              0.1111111111111111,
              "#46039f"
             ],
             [
              0.2222222222222222,
              "#7201a8"
             ],
             [
              0.3333333333333333,
              "#9c179e"
             ],
             [
              0.4444444444444444,
              "#bd3786"
             ],
             [
              0.5555555555555556,
              "#d8576b"
             ],
             [
              0.6666666666666666,
              "#ed7953"
             ],
             [
              0.7777777777777778,
              "#fb9f3a"
             ],
             [
              0.8888888888888888,
              "#fdca26"
             ],
             [
              1,
              "#f0f921"
             ]
            ],
            "type": "heatmapgl"
           }
          ],
          "histogram": [
           {
            "marker": {
             "pattern": {
              "fillmode": "overlay",
              "size": 10,
              "solidity": 0.2
             }
            },
            "type": "histogram"
           }
          ],
          "histogram2d": [
           {
            "colorbar": {
             "outlinewidth": 0,
             "ticks": ""
            },
            "colorscale": [
             [
              0,
              "#0d0887"
             ],
             [
              0.1111111111111111,
              "#46039f"
             ],
             [
              0.2222222222222222,
              "#7201a8"
             ],
             [
              0.3333333333333333,
              "#9c179e"
             ],
             [
              0.4444444444444444,
              "#bd3786"
             ],
             [
              0.5555555555555556,
              "#d8576b"
             ],
             [
              0.6666666666666666,
              "#ed7953"
             ],
             [
              0.7777777777777778,
              "#fb9f3a"
             ],
             [
              0.8888888888888888,
              "#fdca26"
             ],
             [
              1,
              "#f0f921"
             ]
            ],
            "type": "histogram2d"
           }
          ],
          "histogram2dcontour": [
           {
            "colorbar": {
             "outlinewidth": 0,
             "ticks": ""
            },
            "colorscale": [
             [
              0,
              "#0d0887"
             ],
             [
              0.1111111111111111,
              "#46039f"
             ],
             [
              0.2222222222222222,
              "#7201a8"
             ],
             [
              0.3333333333333333,
              "#9c179e"
             ],
             [
              0.4444444444444444,
              "#bd3786"
             ],
             [
              0.5555555555555556,
              "#d8576b"
             ],
             [
              0.6666666666666666,
              "#ed7953"
             ],
             [
              0.7777777777777778,
              "#fb9f3a"
             ],
             [
              0.8888888888888888,
              "#fdca26"
             ],
             [
              1,
              "#f0f921"
             ]
            ],
            "type": "histogram2dcontour"
           }
          ],
          "mesh3d": [
           {
            "colorbar": {
             "outlinewidth": 0,
             "ticks": ""
            },
            "type": "mesh3d"
           }
          ],
          "parcoords": [
           {
            "line": {
             "colorbar": {
              "outlinewidth": 0,
              "ticks": ""
             }
            },
            "type": "parcoords"
           }
          ],
          "pie": [
           {
            "automargin": true,
            "type": "pie"
           }
          ],
          "scatter": [
           {
            "fillpattern": {
             "fillmode": "overlay",
             "size": 10,
             "solidity": 0.2
            },
            "type": "scatter"
           }
          ],
          "scatter3d": [
           {
            "line": {
             "colorbar": {
              "outlinewidth": 0,
              "ticks": ""
             }
            },
            "marker": {
             "colorbar": {
              "outlinewidth": 0,
              "ticks": ""
             }
            },
            "type": "scatter3d"
           }
          ],
          "scattercarpet": [
           {
            "marker": {
             "colorbar": {
              "outlinewidth": 0,
              "ticks": ""
             }
            },
            "type": "scattercarpet"
           }
          ],
          "scattergeo": [
           {
            "marker": {
             "colorbar": {
              "outlinewidth": 0,
              "ticks": ""
             }
            },
            "type": "scattergeo"
           }
          ],
          "scattergl": [
           {
            "marker": {
             "colorbar": {
              "outlinewidth": 0,
              "ticks": ""
             }
            },
            "type": "scattergl"
           }
          ],
          "scattermapbox": [
           {
            "marker": {
             "colorbar": {
              "outlinewidth": 0,
              "ticks": ""
             }
            },
            "type": "scattermapbox"
           }
          ],
          "scatterpolar": [
           {
            "marker": {
             "colorbar": {
              "outlinewidth": 0,
              "ticks": ""
             }
            },
            "type": "scatterpolar"
           }
          ],
          "scatterpolargl": [
           {
            "marker": {
             "colorbar": {
              "outlinewidth": 0,
              "ticks": ""
             }
            },
            "type": "scatterpolargl"
           }
          ],
          "scatterternary": [
           {
            "marker": {
             "colorbar": {
              "outlinewidth": 0,
              "ticks": ""
             }
            },
            "type": "scatterternary"
           }
          ],
          "surface": [
           {
            "colorbar": {
             "outlinewidth": 0,
             "ticks": ""
            },
            "colorscale": [
             [
              0,
              "#0d0887"
             ],
             [
              0.1111111111111111,
              "#46039f"
             ],
             [
              0.2222222222222222,
              "#7201a8"
             ],
             [
              0.3333333333333333,
              "#9c179e"
             ],
             [
              0.4444444444444444,
              "#bd3786"
             ],
             [
              0.5555555555555556,
              "#d8576b"
             ],
             [
              0.6666666666666666,
              "#ed7953"
             ],
             [
              0.7777777777777778,
              "#fb9f3a"
             ],
             [
              0.8888888888888888,
              "#fdca26"
             ],
             [
              1,
              "#f0f921"
             ]
            ],
            "type": "surface"
           }
          ],
          "table": [
           {
            "cells": {
             "fill": {
              "color": "#EBF0F8"
             },
             "line": {
              "color": "white"
             }
            },
            "header": {
             "fill": {
              "color": "#C8D4E3"
             },
             "line": {
              "color": "white"
             }
            },
            "type": "table"
           }
          ]
         },
         "layout": {
          "annotationdefaults": {
           "arrowcolor": "#2a3f5f",
           "arrowhead": 0,
           "arrowwidth": 1
          },
          "autotypenumbers": "strict",
          "coloraxis": {
           "colorbar": {
            "outlinewidth": 0,
            "ticks": ""
           }
          },
          "colorscale": {
           "diverging": [
            [
             0,
             "#8e0152"
            ],
            [
             0.1,
             "#c51b7d"
            ],
            [
             0.2,
             "#de77ae"
            ],
            [
             0.3,
             "#f1b6da"
            ],
            [
             0.4,
             "#fde0ef"
            ],
            [
             0.5,
             "#f7f7f7"
            ],
            [
             0.6,
             "#e6f5d0"
            ],
            [
             0.7,
             "#b8e186"
            ],
            [
             0.8,
             "#7fbc41"
            ],
            [
             0.9,
             "#4d9221"
            ],
            [
             1,
             "#276419"
            ]
           ],
           "sequential": [
            [
             0,
             "#0d0887"
            ],
            [
             0.1111111111111111,
             "#46039f"
            ],
            [
             0.2222222222222222,
             "#7201a8"
            ],
            [
             0.3333333333333333,
             "#9c179e"
            ],
            [
             0.4444444444444444,
             "#bd3786"
            ],
            [
             0.5555555555555556,
             "#d8576b"
            ],
            [
             0.6666666666666666,
             "#ed7953"
            ],
            [
             0.7777777777777778,
             "#fb9f3a"
            ],
            [
             0.8888888888888888,
             "#fdca26"
            ],
            [
             1,
             "#f0f921"
            ]
           ],
           "sequentialminus": [
            [
             0,
             "#0d0887"
            ],
            [
             0.1111111111111111,
             "#46039f"
            ],
            [
             0.2222222222222222,
             "#7201a8"
            ],
            [
             0.3333333333333333,
             "#9c179e"
            ],
            [
             0.4444444444444444,
             "#bd3786"
            ],
            [
             0.5555555555555556,
             "#d8576b"
            ],
            [
             0.6666666666666666,
             "#ed7953"
            ],
            [
             0.7777777777777778,
             "#fb9f3a"
            ],
            [
             0.8888888888888888,
             "#fdca26"
            ],
            [
             1,
             "#f0f921"
            ]
           ]
          },
          "colorway": [
           "#636efa",
           "#EF553B",
           "#00cc96",
           "#ab63fa",
           "#FFA15A",
           "#19d3f3",
           "#FF6692",
           "#B6E880",
           "#FF97FF",
           "#FECB52"
          ],
          "font": {
           "color": "#2a3f5f"
          },
          "geo": {
           "bgcolor": "white",
           "lakecolor": "white",
           "landcolor": "#E5ECF6",
           "showlakes": true,
           "showland": true,
           "subunitcolor": "white"
          },
          "hoverlabel": {
           "align": "left"
          },
          "hovermode": "closest",
          "mapbox": {
           "style": "light"
          },
          "paper_bgcolor": "white",
          "plot_bgcolor": "#E5ECF6",
          "polar": {
           "angularaxis": {
            "gridcolor": "white",
            "linecolor": "white",
            "ticks": ""
           },
           "bgcolor": "#E5ECF6",
           "radialaxis": {
            "gridcolor": "white",
            "linecolor": "white",
            "ticks": ""
           }
          },
          "scene": {
           "xaxis": {
            "backgroundcolor": "#E5ECF6",
            "gridcolor": "white",
            "gridwidth": 2,
            "linecolor": "white",
            "showbackground": true,
            "ticks": "",
            "zerolinecolor": "white"
           },
           "yaxis": {
            "backgroundcolor": "#E5ECF6",
            "gridcolor": "white",
            "gridwidth": 2,
            "linecolor": "white",
            "showbackground": true,
            "ticks": "",
            "zerolinecolor": "white"
           },
           "zaxis": {
            "backgroundcolor": "#E5ECF6",
            "gridcolor": "white",
            "gridwidth": 2,
            "linecolor": "white",
            "showbackground": true,
            "ticks": "",
            "zerolinecolor": "white"
           }
          },
          "shapedefaults": {
           "line": {
            "color": "#2a3f5f"
           }
          },
          "ternary": {
           "aaxis": {
            "gridcolor": "white",
            "linecolor": "white",
            "ticks": ""
           },
           "baxis": {
            "gridcolor": "white",
            "linecolor": "white",
            "ticks": ""
           },
           "bgcolor": "#E5ECF6",
           "caxis": {
            "gridcolor": "white",
            "linecolor": "white",
            "ticks": ""
           }
          },
          "title": {
           "x": 0.05
          },
          "xaxis": {
           "automargin": true,
           "gridcolor": "white",
           "linecolor": "white",
           "ticks": "",
           "title": {
            "standoff": 15
           },
           "zerolinecolor": "white",
           "zerolinewidth": 2
          },
          "yaxis": {
           "automargin": true,
           "gridcolor": "white",
           "linecolor": "white",
           "ticks": "",
           "title": {
            "standoff": 15
           },
           "zerolinecolor": "white",
           "zerolinewidth": 2
          }
         }
        },
        "title": {
         "text": "TO"
        },
        "xaxis": {
         "anchor": "y",
         "domain": [
          0,
          1
         ],
         "title": {
          "text": "circulating_market_cap_GN"
         }
        },
        "yaxis": {
         "anchor": "x",
         "domain": [
          0,
          1
         ],
         "title": {
          "text": "value"
         }
        }
       }
      },
      "text/html": [
       "<div>                            <div id=\"091a5d4a-b9cd-4c72-bef5-3178da2e994b\" class=\"plotly-graph-div\" style=\"height:525px; width:100%;\"></div>            <script type=\"text/javascript\">                require([\"plotly\"], function(Plotly) {                    window.PLOTLYENV=window.PLOTLYENV || {};                                    if (document.getElementById(\"091a5d4a-b9cd-4c72-bef5-3178da2e994b\")) {                    Plotly.newPlot(                        \"091a5d4a-b9cd-4c72-bef5-3178da2e994b\",                        [{\"alignmentgroup\":\"True\",\"hovertemplate\":\"variable=turnover_ratio<br>circulating_market_cap_GN=%{x}<br>value=%{y}<extra></extra>\",\"legendgroup\":\"turnover_ratio\",\"marker\":{\"color\":\"#636efa\",\"pattern\":{\"shape\":\"\"}},\"name\":\"turnover_ratio\",\"offsetgroup\":\"turnover_ratio\",\"orientation\":\"v\",\"showlegend\":true,\"textposition\":\"auto\",\"x\":[0,1,2,3,4,5,6,7,8,9,\"Long-Short\",\"Short-Long\"],\"xaxis\":\"x\",\"y\":[0.07082166320320209,0.18538790777818134,0.25841723253742993,0.28842702250518953,0.29216338144062876,0.2853370458995118,0.2627575050498362,0.21229174131120349,0.13874554542257342,0.05110601312997689,null,null],\"yaxis\":\"y\",\"type\":\"bar\"}],                        {\"template\":{\"data\":{\"histogram2dcontour\":[{\"type\":\"histogram2dcontour\",\"colorbar\":{\"outlinewidth\":0,\"ticks\":\"\"},\"colorscale\":[[0.0,\"#0d0887\"],[0.1111111111111111,\"#46039f\"],[0.2222222222222222,\"#7201a8\"],[0.3333333333333333,\"#9c179e\"],[0.4444444444444444,\"#bd3786\"],[0.5555555555555556,\"#d8576b\"],[0.6666666666666666,\"#ed7953\"],[0.7777777777777778,\"#fb9f3a\"],[0.8888888888888888,\"#fdca26\"],[1.0,\"#f0f921\"]]}],\"choropleth\":[{\"type\":\"choropleth\",\"colorbar\":{\"outlinewidth\":0,\"ticks\":\"\"}}],\"histogram2d\":[{\"type\":\"histogram2d\",\"colorbar\":{\"outlinewidth\":0,\"ticks\":\"\"},\"colorscale\":[[0.0,\"#0d0887\"],[0.1111111111111111,\"#46039f\"],[0.2222222222222222,\"#7201a8\"],[0.3333333333333333,\"#9c179e\"],[0.4444444444444444,\"#bd3786\"],[0.5555555555555556,\"#d8576b\"],[0.6666666666666666,\"#ed7953\"],[0.7777777777777778,\"#fb9f3a\"],[0.8888888888888888,\"#fdca26\"],[1.0,\"#f0f921\"]]}],\"heatmap\":[{\"type\":\"heatmap\",\"colorbar\":{\"outlinewidth\":0,\"ticks\":\"\"},\"colorscale\":[[0.0,\"#0d0887\"],[0.1111111111111111,\"#46039f\"],[0.2222222222222222,\"#7201a8\"],[0.3333333333333333,\"#9c179e\"],[0.4444444444444444,\"#bd3786\"],[0.5555555555555556,\"#d8576b\"],[0.6666666666666666,\"#ed7953\"],[0.7777777777777778,\"#fb9f3a\"],[0.8888888888888888,\"#fdca26\"],[1.0,\"#f0f921\"]]}],\"heatmapgl\":[{\"type\":\"heatmapgl\",\"colorbar\":{\"outlinewidth\":0,\"ticks\":\"\"},\"colorscale\":[[0.0,\"#0d0887\"],[0.1111111111111111,\"#46039f\"],[0.2222222222222222,\"#7201a8\"],[0.3333333333333333,\"#9c179e\"],[0.4444444444444444,\"#bd3786\"],[0.5555555555555556,\"#d8576b\"],[0.6666666666666666,\"#ed7953\"],[0.7777777777777778,\"#fb9f3a\"],[0.8888888888888888,\"#fdca26\"],[1.0,\"#f0f921\"]]}],\"contourcarpet\":[{\"type\":\"contourcarpet\",\"colorbar\":{\"outlinewidth\":0,\"ticks\":\"\"}}],\"contour\":[{\"type\":\"contour\",\"colorbar\":{\"outlinewidth\":0,\"ticks\":\"\"},\"colorscale\":[[0.0,\"#0d0887\"],[0.1111111111111111,\"#46039f\"],[0.2222222222222222,\"#7201a8\"],[0.3333333333333333,\"#9c179e\"],[0.4444444444444444,\"#bd3786\"],[0.5555555555555556,\"#d8576b\"],[0.6666666666666666,\"#ed7953\"],[0.7777777777777778,\"#fb9f3a\"],[0.8888888888888888,\"#fdca26\"],[1.0,\"#f0f921\"]]}],\"surface\":[{\"type\":\"surface\",\"colorbar\":{\"outlinewidth\":0,\"ticks\":\"\"},\"colorscale\":[[0.0,\"#0d0887\"],[0.1111111111111111,\"#46039f\"],[0.2222222222222222,\"#7201a8\"],[0.3333333333333333,\"#9c179e\"],[0.4444444444444444,\"#bd3786\"],[0.5555555555555556,\"#d8576b\"],[0.6666666666666666,\"#ed7953\"],[0.7777777777777778,\"#fb9f3a\"],[0.8888888888888888,\"#fdca26\"],[1.0,\"#f0f921\"]]}],\"mesh3d\":[{\"type\":\"mesh3d\",\"colorbar\":{\"outlinewidth\":0,\"ticks\":\"\"}}],\"scatter\":[{\"fillpattern\":{\"fillmode\":\"overlay\",\"size\":10,\"solidity\":0.2},\"type\":\"scatter\"}],\"parcoords\":[{\"type\":\"parcoords\",\"line\":{\"colorbar\":{\"outlinewidth\":0,\"ticks\":\"\"}}}],\"scatterpolargl\":[{\"type\":\"scatterpolargl\",\"marker\":{\"colorbar\":{\"outlinewidth\":0,\"ticks\":\"\"}}}],\"bar\":[{\"error_x\":{\"color\":\"#2a3f5f\"},\"error_y\":{\"color\":\"#2a3f5f\"},\"marker\":{\"line\":{\"color\":\"#E5ECF6\",\"width\":0.5},\"pattern\":{\"fillmode\":\"overlay\",\"size\":10,\"solidity\":0.2}},\"type\":\"bar\"}],\"scattergeo\":[{\"type\":\"scattergeo\",\"marker\":{\"colorbar\":{\"outlinewidth\":0,\"ticks\":\"\"}}}],\"scatterpolar\":[{\"type\":\"scatterpolar\",\"marker\":{\"colorbar\":{\"outlinewidth\":0,\"ticks\":\"\"}}}],\"histogram\":[{\"marker\":{\"pattern\":{\"fillmode\":\"overlay\",\"size\":10,\"solidity\":0.2}},\"type\":\"histogram\"}],\"scattergl\":[{\"type\":\"scattergl\",\"marker\":{\"colorbar\":{\"outlinewidth\":0,\"ticks\":\"\"}}}],\"scatter3d\":[{\"type\":\"scatter3d\",\"line\":{\"colorbar\":{\"outlinewidth\":0,\"ticks\":\"\"}},\"marker\":{\"colorbar\":{\"outlinewidth\":0,\"ticks\":\"\"}}}],\"scattermapbox\":[{\"type\":\"scattermapbox\",\"marker\":{\"colorbar\":{\"outlinewidth\":0,\"ticks\":\"\"}}}],\"scatterternary\":[{\"type\":\"scatterternary\",\"marker\":{\"colorbar\":{\"outlinewidth\":0,\"ticks\":\"\"}}}],\"scattercarpet\":[{\"type\":\"scattercarpet\",\"marker\":{\"colorbar\":{\"outlinewidth\":0,\"ticks\":\"\"}}}],\"carpet\":[{\"aaxis\":{\"endlinecolor\":\"#2a3f5f\",\"gridcolor\":\"white\",\"linecolor\":\"white\",\"minorgridcolor\":\"white\",\"startlinecolor\":\"#2a3f5f\"},\"baxis\":{\"endlinecolor\":\"#2a3f5f\",\"gridcolor\":\"white\",\"linecolor\":\"white\",\"minorgridcolor\":\"white\",\"startlinecolor\":\"#2a3f5f\"},\"type\":\"carpet\"}],\"table\":[{\"cells\":{\"fill\":{\"color\":\"#EBF0F8\"},\"line\":{\"color\":\"white\"}},\"header\":{\"fill\":{\"color\":\"#C8D4E3\"},\"line\":{\"color\":\"white\"}},\"type\":\"table\"}],\"barpolar\":[{\"marker\":{\"line\":{\"color\":\"#E5ECF6\",\"width\":0.5},\"pattern\":{\"fillmode\":\"overlay\",\"size\":10,\"solidity\":0.2}},\"type\":\"barpolar\"}],\"pie\":[{\"automargin\":true,\"type\":\"pie\"}]},\"layout\":{\"autotypenumbers\":\"strict\",\"colorway\":[\"#636efa\",\"#EF553B\",\"#00cc96\",\"#ab63fa\",\"#FFA15A\",\"#19d3f3\",\"#FF6692\",\"#B6E880\",\"#FF97FF\",\"#FECB52\"],\"font\":{\"color\":\"#2a3f5f\"},\"hovermode\":\"closest\",\"hoverlabel\":{\"align\":\"left\"},\"paper_bgcolor\":\"white\",\"plot_bgcolor\":\"#E5ECF6\",\"polar\":{\"bgcolor\":\"#E5ECF6\",\"angularaxis\":{\"gridcolor\":\"white\",\"linecolor\":\"white\",\"ticks\":\"\"},\"radialaxis\":{\"gridcolor\":\"white\",\"linecolor\":\"white\",\"ticks\":\"\"}},\"ternary\":{\"bgcolor\":\"#E5ECF6\",\"aaxis\":{\"gridcolor\":\"white\",\"linecolor\":\"white\",\"ticks\":\"\"},\"baxis\":{\"gridcolor\":\"white\",\"linecolor\":\"white\",\"ticks\":\"\"},\"caxis\":{\"gridcolor\":\"white\",\"linecolor\":\"white\",\"ticks\":\"\"}},\"coloraxis\":{\"colorbar\":{\"outlinewidth\":0,\"ticks\":\"\"}},\"colorscale\":{\"sequential\":[[0.0,\"#0d0887\"],[0.1111111111111111,\"#46039f\"],[0.2222222222222222,\"#7201a8\"],[0.3333333333333333,\"#9c179e\"],[0.4444444444444444,\"#bd3786\"],[0.5555555555555556,\"#d8576b\"],[0.6666666666666666,\"#ed7953\"],[0.7777777777777778,\"#fb9f3a\"],[0.8888888888888888,\"#fdca26\"],[1.0,\"#f0f921\"]],\"sequentialminus\":[[0.0,\"#0d0887\"],[0.1111111111111111,\"#46039f\"],[0.2222222222222222,\"#7201a8\"],[0.3333333333333333,\"#9c179e\"],[0.4444444444444444,\"#bd3786\"],[0.5555555555555556,\"#d8576b\"],[0.6666666666666666,\"#ed7953\"],[0.7777777777777778,\"#fb9f3a\"],[0.8888888888888888,\"#fdca26\"],[1.0,\"#f0f921\"]],\"diverging\":[[0,\"#8e0152\"],[0.1,\"#c51b7d\"],[0.2,\"#de77ae\"],[0.3,\"#f1b6da\"],[0.4,\"#fde0ef\"],[0.5,\"#f7f7f7\"],[0.6,\"#e6f5d0\"],[0.7,\"#b8e186\"],[0.8,\"#7fbc41\"],[0.9,\"#4d9221\"],[1,\"#276419\"]]},\"xaxis\":{\"gridcolor\":\"white\",\"linecolor\":\"white\",\"ticks\":\"\",\"title\":{\"standoff\":15},\"zerolinecolor\":\"white\",\"automargin\":true,\"zerolinewidth\":2},\"yaxis\":{\"gridcolor\":\"white\",\"linecolor\":\"white\",\"ticks\":\"\",\"title\":{\"standoff\":15},\"zerolinecolor\":\"white\",\"automargin\":true,\"zerolinewidth\":2},\"scene\":{\"xaxis\":{\"backgroundcolor\":\"#E5ECF6\",\"gridcolor\":\"white\",\"linecolor\":\"white\",\"showbackground\":true,\"ticks\":\"\",\"zerolinecolor\":\"white\",\"gridwidth\":2},\"yaxis\":{\"backgroundcolor\":\"#E5ECF6\",\"gridcolor\":\"white\",\"linecolor\":\"white\",\"showbackground\":true,\"ticks\":\"\",\"zerolinecolor\":\"white\",\"gridwidth\":2},\"zaxis\":{\"backgroundcolor\":\"#E5ECF6\",\"gridcolor\":\"white\",\"linecolor\":\"white\",\"showbackground\":true,\"ticks\":\"\",\"zerolinecolor\":\"white\",\"gridwidth\":2}},\"shapedefaults\":{\"line\":{\"color\":\"#2a3f5f\"}},\"annotationdefaults\":{\"arrowcolor\":\"#2a3f5f\",\"arrowhead\":0,\"arrowwidth\":1},\"geo\":{\"bgcolor\":\"white\",\"landcolor\":\"#E5ECF6\",\"subunitcolor\":\"white\",\"showland\":true,\"showlakes\":true,\"lakecolor\":\"white\"},\"title\":{\"x\":0.05},\"mapbox\":{\"style\":\"light\"}}},\"xaxis\":{\"anchor\":\"y\",\"domain\":[0.0,1.0],\"title\":{\"text\":\"circulating_market_cap_GN\"}},\"yaxis\":{\"anchor\":\"x\",\"domain\":[0.0,1.0],\"title\":{\"text\":\"value\"}},\"legend\":{\"title\":{\"text\":\"variable\"},\"tracegroupgap\":0},\"title\":{\"text\":\"TO\"},\"barmode\":\"relative\"},                        {\"responsive\": true}                    ).then(function(){\n",
       "                            \n",
       "var gd = document.getElementById('091a5d4a-b9cd-4c72-bef5-3178da2e994b');\n",
       "var x = new MutationObserver(function (mutations, observer) {{\n",
       "        var display = window.getComputedStyle(gd).display;\n",
       "        if (!display || display === 'none') {{\n",
       "            console.log([gd, 'removed!']);\n",
       "            Plotly.purge(gd);\n",
       "            observer.disconnect();\n",
       "        }}\n",
       "}});\n",
       "\n",
       "// Listen for the removal of the full notebook cells\n",
       "var notebookContainer = gd.closest('#notebook-container');\n",
       "if (notebookContainer) {{\n",
       "    x.observe(notebookContainer, {childList: true});\n",
       "}}\n",
       "\n",
       "// Listen for the clearing of the current output cell\n",
       "var outputEl = gd.closest('.output');\n",
       "if (outputEl) {{\n",
       "    x.observe(outputEl, {childList: true});\n",
       "}}\n",
       "\n",
       "                        })                };                });            </script>        </div>"
      ]
     },
     "metadata": {},
     "output_type": "display_data"
    },
    {
     "data": {
      "application/vnd.plotly.v1+json": {
       "config": {
        "plotlyServerURL": "https://plot.ly"
       },
       "data": [
        {
         "colorscale": [
          [
           0,
           "#00083e"
          ],
          [
           0.5,
           "#ededee"
          ],
          [
           1,
           "#ffffff"
          ]
         ],
         "hoverinfo": "none",
         "opacity": 0.75,
         "showscale": false,
         "type": "heatmap",
         "z": [
          [
           0,
           0,
           0,
           0,
           0,
           0,
           0,
           0,
           0,
           0,
           0,
           0,
           0
          ],
          [
           0.5,
           0.5,
           0.5,
           0.5,
           0.5,
           0.5,
           0.5,
           0.5,
           0.5,
           0.5,
           0.5,
           0.5,
           0.5
          ],
          [
           1,
           1,
           1,
           1,
           1,
           1,
           1,
           1,
           1,
           1,
           1,
           1,
           1
          ],
          [
           0.5,
           0.5,
           0.5,
           0.5,
           0.5,
           0.5,
           0.5,
           0.5,
           0.5,
           0.5,
           0.5,
           0.5,
           0.5
          ],
          [
           1,
           1,
           1,
           1,
           1,
           1,
           1,
           1,
           1,
           1,
           1,
           1,
           1
          ],
          [
           0.5,
           0.5,
           0.5,
           0.5,
           0.5,
           0.5,
           0.5,
           0.5,
           0.5,
           0.5,
           0.5,
           0.5,
           0.5
          ],
          [
           1,
           1,
           1,
           1,
           1,
           1,
           1,
           1,
           1,
           1,
           1,
           1,
           1
          ],
          [
           0.5,
           0.5,
           0.5,
           0.5,
           0.5,
           0.5,
           0.5,
           0.5,
           0.5,
           0.5,
           0.5,
           0.5,
           0.5
          ],
          [
           1,
           1,
           1,
           1,
           1,
           1,
           1,
           1,
           1,
           1,
           1,
           1,
           1
          ]
         ]
        }
       ],
       "layout": {
        "annotations": [
         {
          "align": "left",
          "font": {
           "color": "#ffffff"
          },
          "showarrow": false,
          "text": "<b>index</b>",
          "x": -0.45,
          "xanchor": "left",
          "xref": "x",
          "y": 0,
          "yref": "y"
         },
         {
          "align": "left",
          "font": {
           "color": "#ffffff"
          },
          "showarrow": false,
          "text": "<b>0</b>",
          "x": 0.55,
          "xanchor": "left",
          "xref": "x",
          "y": 0,
          "yref": "y"
         },
         {
          "align": "left",
          "font": {
           "color": "#ffffff"
          },
          "showarrow": false,
          "text": "<b>1</b>",
          "x": 1.55,
          "xanchor": "left",
          "xref": "x",
          "y": 0,
          "yref": "y"
         },
         {
          "align": "left",
          "font": {
           "color": "#ffffff"
          },
          "showarrow": false,
          "text": "<b>2</b>",
          "x": 2.55,
          "xanchor": "left",
          "xref": "x",
          "y": 0,
          "yref": "y"
         },
         {
          "align": "left",
          "font": {
           "color": "#ffffff"
          },
          "showarrow": false,
          "text": "<b>3</b>",
          "x": 3.55,
          "xanchor": "left",
          "xref": "x",
          "y": 0,
          "yref": "y"
         },
         {
          "align": "left",
          "font": {
           "color": "#ffffff"
          },
          "showarrow": false,
          "text": "<b>4</b>",
          "x": 4.55,
          "xanchor": "left",
          "xref": "x",
          "y": 0,
          "yref": "y"
         },
         {
          "align": "left",
          "font": {
           "color": "#ffffff"
          },
          "showarrow": false,
          "text": "<b>5</b>",
          "x": 5.55,
          "xanchor": "left",
          "xref": "x",
          "y": 0,
          "yref": "y"
         },
         {
          "align": "left",
          "font": {
           "color": "#ffffff"
          },
          "showarrow": false,
          "text": "<b>6</b>",
          "x": 6.55,
          "xanchor": "left",
          "xref": "x",
          "y": 0,
          "yref": "y"
         },
         {
          "align": "left",
          "font": {
           "color": "#ffffff"
          },
          "showarrow": false,
          "text": "<b>7</b>",
          "x": 7.55,
          "xanchor": "left",
          "xref": "x",
          "y": 0,
          "yref": "y"
         },
         {
          "align": "left",
          "font": {
           "color": "#ffffff"
          },
          "showarrow": false,
          "text": "<b>8</b>",
          "x": 8.55,
          "xanchor": "left",
          "xref": "x",
          "y": 0,
          "yref": "y"
         },
         {
          "align": "left",
          "font": {
           "color": "#ffffff"
          },
          "showarrow": false,
          "text": "<b>9</b>",
          "x": 9.55,
          "xanchor": "left",
          "xref": "x",
          "y": 0,
          "yref": "y"
         },
         {
          "align": "left",
          "font": {
           "color": "#ffffff"
          },
          "showarrow": false,
          "text": "<b>Long-Short</b>",
          "x": 10.55,
          "xanchor": "left",
          "xref": "x",
          "y": 0,
          "yref": "y"
         },
         {
          "align": "left",
          "font": {
           "color": "#ffffff"
          },
          "showarrow": false,
          "text": "<b>Short-Long</b>",
          "x": 11.55,
          "xanchor": "left",
          "xref": "x",
          "y": 0,
          "yref": "y"
         },
         {
          "align": "left",
          "font": {
           "color": "#000000"
          },
          "showarrow": false,
          "text": "ret_cum",
          "x": -0.45,
          "xanchor": "left",
          "xref": "x",
          "y": 1,
          "yref": "y"
         },
         {
          "align": "left",
          "font": {
           "color": "#000000"
          },
          "showarrow": false,
          "text": "0.4742",
          "x": 0.55,
          "xanchor": "left",
          "xref": "x",
          "y": 1,
          "yref": "y"
         },
         {
          "align": "left",
          "font": {
           "color": "#000000"
          },
          "showarrow": false,
          "text": "0.9892",
          "x": 1.55,
          "xanchor": "left",
          "xref": "x",
          "y": 1,
          "yref": "y"
         },
         {
          "align": "left",
          "font": {
           "color": "#000000"
          },
          "showarrow": false,
          "text": "1.2453",
          "x": 2.55,
          "xanchor": "left",
          "xref": "x",
          "y": 1,
          "yref": "y"
         },
         {
          "align": "left",
          "font": {
           "color": "#000000"
          },
          "showarrow": false,
          "text": "0.8962",
          "x": 3.55,
          "xanchor": "left",
          "xref": "x",
          "y": 1,
          "yref": "y"
         },
         {
          "align": "left",
          "font": {
           "color": "#000000"
          },
          "showarrow": false,
          "text": "0.6424",
          "x": 4.55,
          "xanchor": "left",
          "xref": "x",
          "y": 1,
          "yref": "y"
         },
         {
          "align": "left",
          "font": {
           "color": "#000000"
          },
          "showarrow": false,
          "text": "0.1407",
          "x": 5.55,
          "xanchor": "left",
          "xref": "x",
          "y": 1,
          "yref": "y"
         },
         {
          "align": "left",
          "font": {
           "color": "#000000"
          },
          "showarrow": false,
          "text": "-0.2979",
          "x": 6.55,
          "xanchor": "left",
          "xref": "x",
          "y": 1,
          "yref": "y"
         },
         {
          "align": "left",
          "font": {
           "color": "#000000"
          },
          "showarrow": false,
          "text": "-0.5297",
          "x": 7.55,
          "xanchor": "left",
          "xref": "x",
          "y": 1,
          "yref": "y"
         },
         {
          "align": "left",
          "font": {
           "color": "#000000"
          },
          "showarrow": false,
          "text": "-0.5981",
          "x": 8.55,
          "xanchor": "left",
          "xref": "x",
          "y": 1,
          "yref": "y"
         },
         {
          "align": "left",
          "font": {
           "color": "#000000"
          },
          "showarrow": false,
          "text": "-0.6272",
          "x": 9.55,
          "xanchor": "left",
          "xref": "x",
          "y": 1,
          "yref": "y"
         },
         {
          "align": "left",
          "font": {
           "color": "#000000"
          },
          "showarrow": false,
          "text": "-0.7581",
          "x": 10.55,
          "xanchor": "left",
          "xref": "x",
          "y": 1,
          "yref": "y"
         },
         {
          "align": "left",
          "font": {
           "color": "#000000"
          },
          "showarrow": false,
          "text": "2.0702",
          "x": 11.55,
          "xanchor": "left",
          "xref": "x",
          "y": 1,
          "yref": "y"
         },
         {
          "align": "left",
          "font": {
           "color": "#000000"
          },
          "showarrow": false,
          "text": "ret_ann",
          "x": -0.45,
          "xanchor": "left",
          "xref": "x",
          "y": 2,
          "yref": "y"
         },
         {
          "align": "left",
          "font": {
           "color": "#000000"
          },
          "showarrow": false,
          "text": "0.0318",
          "x": 0.55,
          "xanchor": "left",
          "xref": "x",
          "y": 2,
          "yref": "y"
         },
         {
          "align": "left",
          "font": {
           "color": "#000000"
          },
          "showarrow": false,
          "text": "0.0548",
          "x": 1.55,
          "xanchor": "left",
          "xref": "x",
          "y": 2,
          "yref": "y"
         },
         {
          "align": "left",
          "font": {
           "color": "#000000"
          },
          "showarrow": false,
          "text": "0.0646",
          "x": 2.55,
          "xanchor": "left",
          "xref": "x",
          "y": 2,
          "yref": "y"
         },
         {
          "align": "left",
          "font": {
           "color": "#000000"
          },
          "showarrow": false,
          "text": "0.0513",
          "x": 3.55,
          "xanchor": "left",
          "xref": "x",
          "y": 2,
          "yref": "y"
         },
         {
          "align": "left",
          "font": {
           "color": "#000000"
          },
          "showarrow": false,
          "text": "0.0404",
          "x": 4.55,
          "xanchor": "left",
          "xref": "x",
          "y": 2,
          "yref": "y"
         },
         {
          "align": "left",
          "font": {
           "color": "#000000"
          },
          "showarrow": false,
          "text": "0.0109",
          "x": 5.55,
          "xanchor": "left",
          "xref": "x",
          "y": 2,
          "yref": "y"
         },
         {
          "align": "left",
          "font": {
           "color": "#000000"
          },
          "showarrow": false,
          "text": "-0.0269",
          "x": 6.55,
          "xanchor": "left",
          "xref": "x",
          "y": 2,
          "yref": "y"
         },
         {
          "align": "left",
          "font": {
           "color": "#000000"
          },
          "showarrow": false,
          "text": "-0.0579",
          "x": 7.55,
          "xanchor": "left",
          "xref": "x",
          "y": 2,
          "yref": "y"
         },
         {
          "align": "left",
          "font": {
           "color": "#000000"
          },
          "showarrow": false,
          "text": "-0.0688",
          "x": 8.55,
          "xanchor": "left",
          "xref": "x",
          "y": 2,
          "yref": "y"
         },
         {
          "align": "left",
          "font": {
           "color": "#000000"
          },
          "showarrow": false,
          "text": "-0.0671",
          "x": 9.55,
          "xanchor": "left",
          "xref": "x",
          "y": 2,
          "yref": "y"
         },
         {
          "align": "left",
          "font": {
           "color": "#000000"
          },
          "showarrow": false,
          "text": "-0.0989",
          "x": 10.55,
          "xanchor": "left",
          "xref": "x",
          "y": 2,
          "yref": "y"
         },
         {
          "align": "left",
          "font": {
           "color": "#000000"
          },
          "showarrow": false,
          "text": "0.0989",
          "x": 11.55,
          "xanchor": "left",
          "xref": "x",
          "y": 2,
          "yref": "y"
         },
         {
          "align": "left",
          "font": {
           "color": "#000000"
          },
          "showarrow": false,
          "text": "sigma_ann",
          "x": -0.45,
          "xanchor": "left",
          "xref": "x",
          "y": 3,
          "yref": "y"
         },
         {
          "align": "left",
          "font": {
           "color": "#000000"
          },
          "showarrow": false,
          "text": "0.0546",
          "x": 0.55,
          "xanchor": "left",
          "xref": "x",
          "y": 3,
          "yref": "y"
         },
         {
          "align": "left",
          "font": {
           "color": "#000000"
          },
          "showarrow": false,
          "text": "0.0473",
          "x": 1.55,
          "xanchor": "left",
          "xref": "x",
          "y": 3,
          "yref": "y"
         },
         {
          "align": "left",
          "font": {
           "color": "#000000"
          },
          "showarrow": false,
          "text": "0.0537",
          "x": 2.55,
          "xanchor": "left",
          "xref": "x",
          "y": 3,
          "yref": "y"
         },
         {
          "align": "left",
          "font": {
           "color": "#000000"
          },
          "showarrow": false,
          "text": "0.0532",
          "x": 3.55,
          "xanchor": "left",
          "xref": "x",
          "y": 3,
          "yref": "y"
         },
         {
          "align": "left",
          "font": {
           "color": "#000000"
          },
          "showarrow": false,
          "text": "0.0593",
          "x": 4.55,
          "xanchor": "left",
          "xref": "x",
          "y": 3,
          "yref": "y"
         },
         {
          "align": "left",
          "font": {
           "color": "#000000"
          },
          "showarrow": false,
          "text": "0.0368",
          "x": 5.55,
          "xanchor": "left",
          "xref": "x",
          "y": 3,
          "yref": "y"
         },
         {
          "align": "left",
          "font": {
           "color": "#000000"
          },
          "showarrow": false,
          "text": "0.0357",
          "x": 6.55,
          "xanchor": "left",
          "xref": "x",
          "y": 3,
          "yref": "y"
         },
         {
          "align": "left",
          "font": {
           "color": "#000000"
          },
          "showarrow": false,
          "text": "0.0377",
          "x": 7.55,
          "xanchor": "left",
          "xref": "x",
          "y": 3,
          "yref": "y"
         },
         {
          "align": "left",
          "font": {
           "color": "#000000"
          },
          "showarrow": false,
          "text": "0.064",
          "x": 8.55,
          "xanchor": "left",
          "xref": "x",
          "y": 3,
          "yref": "y"
         },
         {
          "align": "left",
          "font": {
           "color": "#000000"
          },
          "showarrow": false,
          "text": "0.1378",
          "x": 9.55,
          "xanchor": "left",
          "xref": "x",
          "y": 3,
          "yref": "y"
         },
         {
          "align": "left",
          "font": {
           "color": "#000000"
          },
          "showarrow": false,
          "text": "0.1496",
          "x": 10.55,
          "xanchor": "left",
          "xref": "x",
          "y": 3,
          "yref": "y"
         },
         {
          "align": "left",
          "font": {
           "color": "#000000"
          },
          "showarrow": false,
          "text": "0.1496",
          "x": 11.55,
          "xanchor": "left",
          "xref": "x",
          "y": 3,
          "yref": "y"
         },
         {
          "align": "left",
          "font": {
           "color": "#000000"
          },
          "showarrow": false,
          "text": "max_drawdown",
          "x": -0.45,
          "xanchor": "left",
          "xref": "x",
          "y": 4,
          "yref": "y"
         },
         {
          "align": "left",
          "font": {
           "color": "#000000"
          },
          "showarrow": false,
          "text": "0.104",
          "x": 0.55,
          "xanchor": "left",
          "xref": "x",
          "y": 4,
          "yref": "y"
         },
         {
          "align": "left",
          "font": {
           "color": "#000000"
          },
          "showarrow": false,
          "text": "0.0572",
          "x": 1.55,
          "xanchor": "left",
          "xref": "x",
          "y": 4,
          "yref": "y"
         },
         {
          "align": "left",
          "font": {
           "color": "#000000"
          },
          "showarrow": false,
          "text": "0.0661",
          "x": 2.55,
          "xanchor": "left",
          "xref": "x",
          "y": 4,
          "yref": "y"
         },
         {
          "align": "left",
          "font": {
           "color": "#000000"
          },
          "showarrow": false,
          "text": "0.1028",
          "x": 3.55,
          "xanchor": "left",
          "xref": "x",
          "y": 4,
          "yref": "y"
         },
         {
          "align": "left",
          "font": {
           "color": "#000000"
          },
          "showarrow": false,
          "text": "0.0932",
          "x": 4.55,
          "xanchor": "left",
          "xref": "x",
          "y": 4,
          "yref": "y"
         },
         {
          "align": "left",
          "font": {
           "color": "#000000"
          },
          "showarrow": false,
          "text": "0.1197",
          "x": 5.55,
          "xanchor": "left",
          "xref": "x",
          "y": 4,
          "yref": "y"
         },
         {
          "align": "left",
          "font": {
           "color": "#000000"
          },
          "showarrow": false,
          "text": "0.4161",
          "x": 6.55,
          "xanchor": "left",
          "xref": "x",
          "y": 4,
          "yref": "y"
         },
         {
          "align": "left",
          "font": {
           "color": "#000000"
          },
          "showarrow": false,
          "text": "0.5316",
          "x": 7.55,
          "xanchor": "left",
          "xref": "x",
          "y": 4,
          "yref": "y"
         },
         {
          "align": "left",
          "font": {
           "color": "#000000"
          },
          "showarrow": false,
          "text": "0.5981",
          "x": 8.55,
          "xanchor": "left",
          "xref": "x",
          "y": 4,
          "yref": "y"
         },
         {
          "align": "left",
          "font": {
           "color": "#000000"
          },
          "showarrow": false,
          "text": "0.676",
          "x": 9.55,
          "xanchor": "left",
          "xref": "x",
          "y": 4,
          "yref": "y"
         },
         {
          "align": "left",
          "font": {
           "color": "#000000"
          },
          "showarrow": false,
          "text": "0.7917",
          "x": 10.55,
          "xanchor": "left",
          "xref": "x",
          "y": 4,
          "yref": "y"
         },
         {
          "align": "left",
          "font": {
           "color": "#000000"
          },
          "showarrow": false,
          "text": "0.4775",
          "x": 11.55,
          "xanchor": "left",
          "xref": "x",
          "y": 4,
          "yref": "y"
         },
         {
          "align": "left",
          "font": {
           "color": "#000000"
          },
          "showarrow": false,
          "text": "SR",
          "x": -0.45,
          "xanchor": "left",
          "xref": "x",
          "y": 5,
          "yref": "y"
         },
         {
          "align": "left",
          "font": {
           "color": "#000000"
          },
          "showarrow": false,
          "text": "0.582",
          "x": 0.55,
          "xanchor": "left",
          "xref": "x",
          "y": 5,
          "yref": "y"
         },
         {
          "align": "left",
          "font": {
           "color": "#000000"
          },
          "showarrow": false,
          "text": "1.1588",
          "x": 1.55,
          "xanchor": "left",
          "xref": "x",
          "y": 5,
          "yref": "y"
         },
         {
          "align": "left",
          "font": {
           "color": "#000000"
          },
          "showarrow": false,
          "text": "1.203",
          "x": 2.55,
          "xanchor": "left",
          "xref": "x",
          "y": 5,
          "yref": "y"
         },
         {
          "align": "left",
          "font": {
           "color": "#000000"
          },
          "showarrow": false,
          "text": "0.9648",
          "x": 3.55,
          "xanchor": "left",
          "xref": "x",
          "y": 5,
          "yref": "y"
         },
         {
          "align": "left",
          "font": {
           "color": "#000000"
          },
          "showarrow": false,
          "text": "0.6815",
          "x": 4.55,
          "xanchor": "left",
          "xref": "x",
          "y": 5,
          "yref": "y"
         },
         {
          "align": "left",
          "font": {
           "color": "#000000"
          },
          "showarrow": false,
          "text": "0.2969",
          "x": 5.55,
          "xanchor": "left",
          "xref": "x",
          "y": 5,
          "yref": "y"
         },
         {
          "align": "left",
          "font": {
           "color": "#000000"
          },
          "showarrow": false,
          "text": "-0.7528",
          "x": 6.55,
          "xanchor": "left",
          "xref": "x",
          "y": 5,
          "yref": "y"
         },
         {
          "align": "left",
          "font": {
           "color": "#000000"
          },
          "showarrow": false,
          "text": "-1.5363",
          "x": 7.55,
          "xanchor": "left",
          "xref": "x",
          "y": 5,
          "yref": "y"
         },
         {
          "align": "left",
          "font": {
           "color": "#000000"
          },
          "showarrow": false,
          "text": "-1.0745",
          "x": 8.55,
          "xanchor": "left",
          "xref": "x",
          "y": 5,
          "yref": "y"
         },
         {
          "align": "left",
          "font": {
           "color": "#000000"
          },
          "showarrow": false,
          "text": "-0.4869",
          "x": 9.55,
          "xanchor": "left",
          "xref": "x",
          "y": 5,
          "yref": "y"
         },
         {
          "align": "left",
          "font": {
           "color": "#000000"
          },
          "showarrow": false,
          "text": "-0.6607",
          "x": 10.55,
          "xanchor": "left",
          "xref": "x",
          "y": 5,
          "yref": "y"
         },
         {
          "align": "left",
          "font": {
           "color": "#000000"
          },
          "showarrow": false,
          "text": "0.6607",
          "x": 11.55,
          "xanchor": "left",
          "xref": "x",
          "y": 5,
          "yref": "y"
         },
         {
          "align": "left",
          "font": {
           "color": "#000000"
          },
          "showarrow": false,
          "text": "calmar_ratio",
          "x": -0.45,
          "xanchor": "left",
          "xref": "x",
          "y": 6,
          "yref": "y"
         },
         {
          "align": "left",
          "font": {
           "color": "#000000"
          },
          "showarrow": false,
          "text": "0.3054",
          "x": 0.55,
          "xanchor": "left",
          "xref": "x",
          "y": 6,
          "yref": "y"
         },
         {
          "align": "left",
          "font": {
           "color": "#000000"
          },
          "showarrow": false,
          "text": "0.9581",
          "x": 1.55,
          "xanchor": "left",
          "xref": "x",
          "y": 6,
          "yref": "y"
         },
         {
          "align": "left",
          "font": {
           "color": "#000000"
          },
          "showarrow": false,
          "text": "0.977",
          "x": 2.55,
          "xanchor": "left",
          "xref": "x",
          "y": 6,
          "yref": "y"
         },
         {
          "align": "left",
          "font": {
           "color": "#000000"
          },
          "showarrow": false,
          "text": "0.4995",
          "x": 3.55,
          "xanchor": "left",
          "xref": "x",
          "y": 6,
          "yref": "y"
         },
         {
          "align": "left",
          "font": {
           "color": "#000000"
          },
          "showarrow": false,
          "text": "0.4341",
          "x": 4.55,
          "xanchor": "left",
          "xref": "x",
          "y": 6,
          "yref": "y"
         },
         {
          "align": "left",
          "font": {
           "color": "#000000"
          },
          "showarrow": false,
          "text": "0.0914",
          "x": 5.55,
          "xanchor": "left",
          "xref": "x",
          "y": 6,
          "yref": "y"
         },
         {
          "align": "left",
          "font": {
           "color": "#000000"
          },
          "showarrow": false,
          "text": "-0.0646",
          "x": 6.55,
          "xanchor": "left",
          "xref": "x",
          "y": 6,
          "yref": "y"
         },
         {
          "align": "left",
          "font": {
           "color": "#000000"
          },
          "showarrow": false,
          "text": "-0.109",
          "x": 7.55,
          "xanchor": "left",
          "xref": "x",
          "y": 6,
          "yref": "y"
         },
         {
          "align": "left",
          "font": {
           "color": "#000000"
          },
          "showarrow": false,
          "text": "-0.115",
          "x": 8.55,
          "xanchor": "left",
          "xref": "x",
          "y": 6,
          "yref": "y"
         },
         {
          "align": "left",
          "font": {
           "color": "#000000"
          },
          "showarrow": false,
          "text": "-0.0993",
          "x": 9.55,
          "xanchor": "left",
          "xref": "x",
          "y": 6,
          "yref": "y"
         },
         {
          "align": "left",
          "font": {
           "color": "#000000"
          },
          "showarrow": false,
          "text": "-0.1249",
          "x": 10.55,
          "xanchor": "left",
          "xref": "x",
          "y": 6,
          "yref": "y"
         },
         {
          "align": "left",
          "font": {
           "color": "#000000"
          },
          "showarrow": false,
          "text": "0.207",
          "x": 11.55,
          "xanchor": "left",
          "xref": "x",
          "y": 6,
          "yref": "y"
         },
         {
          "align": "left",
          "font": {
           "color": "#000000"
          },
          "showarrow": false,
          "text": "n_periods",
          "x": -0.45,
          "xanchor": "left",
          "xref": "x",
          "y": 7,
          "yref": "y"
         },
         {
          "align": "left",
          "font": {
           "color": "#000000"
          },
          "showarrow": false,
          "text": "155.0",
          "x": 0.55,
          "xanchor": "left",
          "xref": "x",
          "y": 7,
          "yref": "y"
         },
         {
          "align": "left",
          "font": {
           "color": "#000000"
          },
          "showarrow": false,
          "text": "155.0",
          "x": 1.55,
          "xanchor": "left",
          "xref": "x",
          "y": 7,
          "yref": "y"
         },
         {
          "align": "left",
          "font": {
           "color": "#000000"
          },
          "showarrow": false,
          "text": "155.0",
          "x": 2.55,
          "xanchor": "left",
          "xref": "x",
          "y": 7,
          "yref": "y"
         },
         {
          "align": "left",
          "font": {
           "color": "#000000"
          },
          "showarrow": false,
          "text": "155.0",
          "x": 3.55,
          "xanchor": "left",
          "xref": "x",
          "y": 7,
          "yref": "y"
         },
         {
          "align": "left",
          "font": {
           "color": "#000000"
          },
          "showarrow": false,
          "text": "155.0",
          "x": 4.55,
          "xanchor": "left",
          "xref": "x",
          "y": 7,
          "yref": "y"
         },
         {
          "align": "left",
          "font": {
           "color": "#000000"
          },
          "showarrow": false,
          "text": "155.0",
          "x": 5.55,
          "xanchor": "left",
          "xref": "x",
          "y": 7,
          "yref": "y"
         },
         {
          "align": "left",
          "font": {
           "color": "#000000"
          },
          "showarrow": false,
          "text": "155.0",
          "x": 6.55,
          "xanchor": "left",
          "xref": "x",
          "y": 7,
          "yref": "y"
         },
         {
          "align": "left",
          "font": {
           "color": "#000000"
          },
          "showarrow": false,
          "text": "155.0",
          "x": 7.55,
          "xanchor": "left",
          "xref": "x",
          "y": 7,
          "yref": "y"
         },
         {
          "align": "left",
          "font": {
           "color": "#000000"
          },
          "showarrow": false,
          "text": "155.0",
          "x": 8.55,
          "xanchor": "left",
          "xref": "x",
          "y": 7,
          "yref": "y"
         },
         {
          "align": "left",
          "font": {
           "color": "#000000"
          },
          "showarrow": false,
          "text": "155.0",
          "x": 9.55,
          "xanchor": "left",
          "xref": "x",
          "y": 7,
          "yref": "y"
         },
         {
          "align": "left",
          "font": {
           "color": "#000000"
          },
          "showarrow": false,
          "text": "155.0",
          "x": 10.55,
          "xanchor": "left",
          "xref": "x",
          "y": 7,
          "yref": "y"
         },
         {
          "align": "left",
          "font": {
           "color": "#000000"
          },
          "showarrow": false,
          "text": "155.0",
          "x": 11.55,
          "xanchor": "left",
          "xref": "x",
          "y": 7,
          "yref": "y"
         },
         {
          "align": "left",
          "font": {
           "color": "#000000"
          },
          "showarrow": false,
          "text": "turnover_ratio",
          "x": -0.45,
          "xanchor": "left",
          "xref": "x",
          "y": 8,
          "yref": "y"
         },
         {
          "align": "left",
          "font": {
           "color": "#000000"
          },
          "showarrow": false,
          "text": "0.0708",
          "x": 0.55,
          "xanchor": "left",
          "xref": "x",
          "y": 8,
          "yref": "y"
         },
         {
          "align": "left",
          "font": {
           "color": "#000000"
          },
          "showarrow": false,
          "text": "0.1854",
          "x": 1.55,
          "xanchor": "left",
          "xref": "x",
          "y": 8,
          "yref": "y"
         },
         {
          "align": "left",
          "font": {
           "color": "#000000"
          },
          "showarrow": false,
          "text": "0.2584",
          "x": 2.55,
          "xanchor": "left",
          "xref": "x",
          "y": 8,
          "yref": "y"
         },
         {
          "align": "left",
          "font": {
           "color": "#000000"
          },
          "showarrow": false,
          "text": "0.2884",
          "x": 3.55,
          "xanchor": "left",
          "xref": "x",
          "y": 8,
          "yref": "y"
         },
         {
          "align": "left",
          "font": {
           "color": "#000000"
          },
          "showarrow": false,
          "text": "0.2922",
          "x": 4.55,
          "xanchor": "left",
          "xref": "x",
          "y": 8,
          "yref": "y"
         },
         {
          "align": "left",
          "font": {
           "color": "#000000"
          },
          "showarrow": false,
          "text": "0.2853",
          "x": 5.55,
          "xanchor": "left",
          "xref": "x",
          "y": 8,
          "yref": "y"
         },
         {
          "align": "left",
          "font": {
           "color": "#000000"
          },
          "showarrow": false,
          "text": "0.2628",
          "x": 6.55,
          "xanchor": "left",
          "xref": "x",
          "y": 8,
          "yref": "y"
         },
         {
          "align": "left",
          "font": {
           "color": "#000000"
          },
          "showarrow": false,
          "text": "0.2123",
          "x": 7.55,
          "xanchor": "left",
          "xref": "x",
          "y": 8,
          "yref": "y"
         },
         {
          "align": "left",
          "font": {
           "color": "#000000"
          },
          "showarrow": false,
          "text": "0.1387",
          "x": 8.55,
          "xanchor": "left",
          "xref": "x",
          "y": 8,
          "yref": "y"
         },
         {
          "align": "left",
          "font": {
           "color": "#000000"
          },
          "showarrow": false,
          "text": "0.0511",
          "x": 9.55,
          "xanchor": "left",
          "xref": "x",
          "y": 8,
          "yref": "y"
         },
         {
          "align": "left",
          "font": {
           "color": "#000000"
          },
          "showarrow": false,
          "text": "nan",
          "x": 10.55,
          "xanchor": "left",
          "xref": "x",
          "y": 8,
          "yref": "y"
         },
         {
          "align": "left",
          "font": {
           "color": "#000000"
          },
          "showarrow": false,
          "text": "nan",
          "x": 11.55,
          "xanchor": "left",
          "xref": "x",
          "y": 8,
          "yref": "y"
         }
        ],
        "height": 320,
        "margin": {
         "b": 0,
         "l": 0,
         "r": 0,
         "t": 0
        },
        "template": {
         "data": {
          "bar": [
           {
            "error_x": {
             "color": "#2a3f5f"
            },
            "error_y": {
             "color": "#2a3f5f"
            },
            "marker": {
             "line": {
              "color": "#E5ECF6",
              "width": 0.5
             },
             "pattern": {
              "fillmode": "overlay",
              "size": 10,
              "solidity": 0.2
             }
            },
            "type": "bar"
           }
          ],
          "barpolar": [
           {
            "marker": {
             "line": {
              "color": "#E5ECF6",
              "width": 0.5
             },
             "pattern": {
              "fillmode": "overlay",
              "size": 10,
              "solidity": 0.2
             }
            },
            "type": "barpolar"
           }
          ],
          "carpet": [
           {
            "aaxis": {
             "endlinecolor": "#2a3f5f",
             "gridcolor": "white",
             "linecolor": "white",
             "minorgridcolor": "white",
             "startlinecolor": "#2a3f5f"
            },
            "baxis": {
             "endlinecolor": "#2a3f5f",
             "gridcolor": "white",
             "linecolor": "white",
             "minorgridcolor": "white",
             "startlinecolor": "#2a3f5f"
            },
            "type": "carpet"
           }
          ],
          "choropleth": [
           {
            "colorbar": {
             "outlinewidth": 0,
             "ticks": ""
            },
            "type": "choropleth"
           }
          ],
          "contour": [
           {
            "colorbar": {
             "outlinewidth": 0,
             "ticks": ""
            },
            "colorscale": [
             [
              0,
              "#0d0887"
             ],
             [
              0.1111111111111111,
              "#46039f"
             ],
             [
              0.2222222222222222,
              "#7201a8"
             ],
             [
              0.3333333333333333,
              "#9c179e"
             ],
             [
              0.4444444444444444,
              "#bd3786"
             ],
             [
              0.5555555555555556,
              "#d8576b"
             ],
             [
              0.6666666666666666,
              "#ed7953"
             ],
             [
              0.7777777777777778,
              "#fb9f3a"
             ],
             [
              0.8888888888888888,
              "#fdca26"
             ],
             [
              1,
              "#f0f921"
             ]
            ],
            "type": "contour"
           }
          ],
          "contourcarpet": [
           {
            "colorbar": {
             "outlinewidth": 0,
             "ticks": ""
            },
            "type": "contourcarpet"
           }
          ],
          "heatmap": [
           {
            "colorbar": {
             "outlinewidth": 0,
             "ticks": ""
            },
            "colorscale": [
             [
              0,
              "#0d0887"
             ],
             [
              0.1111111111111111,
              "#46039f"
             ],
             [
              0.2222222222222222,
              "#7201a8"
             ],
             [
              0.3333333333333333,
              "#9c179e"
             ],
             [
              0.4444444444444444,
              "#bd3786"
             ],
             [
              0.5555555555555556,
              "#d8576b"
             ],
             [
              0.6666666666666666,
              "#ed7953"
             ],
             [
              0.7777777777777778,
              "#fb9f3a"
             ],
             [
              0.8888888888888888,
              "#fdca26"
             ],
             [
              1,
              "#f0f921"
             ]
            ],
            "type": "heatmap"
           }
          ],
          "heatmapgl": [
           {
            "colorbar": {
             "outlinewidth": 0,
             "ticks": ""
            },
            "colorscale": [
             [
              0,
              "#0d0887"
             ],
             [
              0.1111111111111111,
              "#46039f"
             ],
             [
              0.2222222222222222,
              "#7201a8"
             ],
             [
              0.3333333333333333,
              "#9c179e"
             ],
             [
              0.4444444444444444,
              "#bd3786"
             ],
             [
              0.5555555555555556,
              "#d8576b"
             ],
             [
              0.6666666666666666,
              "#ed7953"
             ],
             [
              0.7777777777777778,
              "#fb9f3a"
             ],
             [
              0.8888888888888888,
              "#fdca26"
             ],
             [
              1,
              "#f0f921"
             ]
            ],
            "type": "heatmapgl"
           }
          ],
          "histogram": [
           {
            "marker": {
             "pattern": {
              "fillmode": "overlay",
              "size": 10,
              "solidity": 0.2
             }
            },
            "type": "histogram"
           }
          ],
          "histogram2d": [
           {
            "colorbar": {
             "outlinewidth": 0,
             "ticks": ""
            },
            "colorscale": [
             [
              0,
              "#0d0887"
             ],
             [
              0.1111111111111111,
              "#46039f"
             ],
             [
              0.2222222222222222,
              "#7201a8"
             ],
             [
              0.3333333333333333,
              "#9c179e"
             ],
             [
              0.4444444444444444,
              "#bd3786"
             ],
             [
              0.5555555555555556,
              "#d8576b"
             ],
             [
              0.6666666666666666,
              "#ed7953"
             ],
             [
              0.7777777777777778,
              "#fb9f3a"
             ],
             [
              0.8888888888888888,
              "#fdca26"
             ],
             [
              1,
              "#f0f921"
             ]
            ],
            "type": "histogram2d"
           }
          ],
          "histogram2dcontour": [
           {
            "colorbar": {
             "outlinewidth": 0,
             "ticks": ""
            },
            "colorscale": [
             [
              0,
              "#0d0887"
             ],
             [
              0.1111111111111111,
              "#46039f"
             ],
             [
              0.2222222222222222,
              "#7201a8"
             ],
             [
              0.3333333333333333,
              "#9c179e"
             ],
             [
              0.4444444444444444,
              "#bd3786"
             ],
             [
              0.5555555555555556,
              "#d8576b"
             ],
             [
              0.6666666666666666,
              "#ed7953"
             ],
             [
              0.7777777777777778,
              "#fb9f3a"
             ],
             [
              0.8888888888888888,
              "#fdca26"
             ],
             [
              1,
              "#f0f921"
             ]
            ],
            "type": "histogram2dcontour"
           }
          ],
          "mesh3d": [
           {
            "colorbar": {
             "outlinewidth": 0,
             "ticks": ""
            },
            "type": "mesh3d"
           }
          ],
          "parcoords": [
           {
            "line": {
             "colorbar": {
              "outlinewidth": 0,
              "ticks": ""
             }
            },
            "type": "parcoords"
           }
          ],
          "pie": [
           {
            "automargin": true,
            "type": "pie"
           }
          ],
          "scatter": [
           {
            "fillpattern": {
             "fillmode": "overlay",
             "size": 10,
             "solidity": 0.2
            },
            "type": "scatter"
           }
          ],
          "scatter3d": [
           {
            "line": {
             "colorbar": {
              "outlinewidth": 0,
              "ticks": ""
             }
            },
            "marker": {
             "colorbar": {
              "outlinewidth": 0,
              "ticks": ""
             }
            },
            "type": "scatter3d"
           }
          ],
          "scattercarpet": [
           {
            "marker": {
             "colorbar": {
              "outlinewidth": 0,
              "ticks": ""
             }
            },
            "type": "scattercarpet"
           }
          ],
          "scattergeo": [
           {
            "marker": {
             "colorbar": {
              "outlinewidth": 0,
              "ticks": ""
             }
            },
            "type": "scattergeo"
           }
          ],
          "scattergl": [
           {
            "marker": {
             "colorbar": {
              "outlinewidth": 0,
              "ticks": ""
             }
            },
            "type": "scattergl"
           }
          ],
          "scattermapbox": [
           {
            "marker": {
             "colorbar": {
              "outlinewidth": 0,
              "ticks": ""
             }
            },
            "type": "scattermapbox"
           }
          ],
          "scatterpolar": [
           {
            "marker": {
             "colorbar": {
              "outlinewidth": 0,
              "ticks": ""
             }
            },
            "type": "scatterpolar"
           }
          ],
          "scatterpolargl": [
           {
            "marker": {
             "colorbar": {
              "outlinewidth": 0,
              "ticks": ""
             }
            },
            "type": "scatterpolargl"
           }
          ],
          "scatterternary": [
           {
            "marker": {
             "colorbar": {
              "outlinewidth": 0,
              "ticks": ""
             }
            },
            "type": "scatterternary"
           }
          ],
          "surface": [
           {
            "colorbar": {
             "outlinewidth": 0,
             "ticks": ""
            },
            "colorscale": [
             [
              0,
              "#0d0887"
             ],
             [
              0.1111111111111111,
              "#46039f"
             ],
             [
              0.2222222222222222,
              "#7201a8"
             ],
             [
              0.3333333333333333,
              "#9c179e"
             ],
             [
              0.4444444444444444,
              "#bd3786"
             ],
             [
              0.5555555555555556,
              "#d8576b"
             ],
             [
              0.6666666666666666,
              "#ed7953"
             ],
             [
              0.7777777777777778,
              "#fb9f3a"
             ],
             [
              0.8888888888888888,
              "#fdca26"
             ],
             [
              1,
              "#f0f921"
             ]
            ],
            "type": "surface"
           }
          ],
          "table": [
           {
            "cells": {
             "fill": {
              "color": "#EBF0F8"
             },
             "line": {
              "color": "white"
             }
            },
            "header": {
             "fill": {
              "color": "#C8D4E3"
             },
             "line": {
              "color": "white"
             }
            },
            "type": "table"
           }
          ]
         },
         "layout": {
          "annotationdefaults": {
           "arrowcolor": "#2a3f5f",
           "arrowhead": 0,
           "arrowwidth": 1
          },
          "autotypenumbers": "strict",
          "coloraxis": {
           "colorbar": {
            "outlinewidth": 0,
            "ticks": ""
           }
          },
          "colorscale": {
           "diverging": [
            [
             0,
             "#8e0152"
            ],
            [
             0.1,
             "#c51b7d"
            ],
            [
             0.2,
             "#de77ae"
            ],
            [
             0.3,
             "#f1b6da"
            ],
            [
             0.4,
             "#fde0ef"
            ],
            [
             0.5,
             "#f7f7f7"
            ],
            [
             0.6,
             "#e6f5d0"
            ],
            [
             0.7,
             "#b8e186"
            ],
            [
             0.8,
             "#7fbc41"
            ],
            [
             0.9,
             "#4d9221"
            ],
            [
             1,
             "#276419"
            ]
           ],
           "sequential": [
            [
             0,
             "#0d0887"
            ],
            [
             0.1111111111111111,
             "#46039f"
            ],
            [
             0.2222222222222222,
             "#7201a8"
            ],
            [
             0.3333333333333333,
             "#9c179e"
            ],
            [
             0.4444444444444444,
             "#bd3786"
            ],
            [
             0.5555555555555556,
             "#d8576b"
            ],
            [
             0.6666666666666666,
             "#ed7953"
            ],
            [
             0.7777777777777778,
             "#fb9f3a"
            ],
            [
             0.8888888888888888,
             "#fdca26"
            ],
            [
             1,
             "#f0f921"
            ]
           ],
           "sequentialminus": [
            [
             0,
             "#0d0887"
            ],
            [
             0.1111111111111111,
             "#46039f"
            ],
            [
             0.2222222222222222,
             "#7201a8"
            ],
            [
             0.3333333333333333,
             "#9c179e"
            ],
            [
             0.4444444444444444,
             "#bd3786"
            ],
            [
             0.5555555555555556,
             "#d8576b"
            ],
            [
             0.6666666666666666,
             "#ed7953"
            ],
            [
             0.7777777777777778,
             "#fb9f3a"
            ],
            [
             0.8888888888888888,
             "#fdca26"
            ],
            [
             1,
             "#f0f921"
            ]
           ]
          },
          "colorway": [
           "#636efa",
           "#EF553B",
           "#00cc96",
           "#ab63fa",
           "#FFA15A",
           "#19d3f3",
           "#FF6692",
           "#B6E880",
           "#FF97FF",
           "#FECB52"
          ],
          "font": {
           "color": "#2a3f5f"
          },
          "geo": {
           "bgcolor": "white",
           "lakecolor": "white",
           "landcolor": "#E5ECF6",
           "showlakes": true,
           "showland": true,
           "subunitcolor": "white"
          },
          "hoverlabel": {
           "align": "left"
          },
          "hovermode": "closest",
          "mapbox": {
           "style": "light"
          },
          "paper_bgcolor": "white",
          "plot_bgcolor": "#E5ECF6",
          "polar": {
           "angularaxis": {
            "gridcolor": "white",
            "linecolor": "white",
            "ticks": ""
           },
           "bgcolor": "#E5ECF6",
           "radialaxis": {
            "gridcolor": "white",
            "linecolor": "white",
            "ticks": ""
           }
          },
          "scene": {
           "xaxis": {
            "backgroundcolor": "#E5ECF6",
            "gridcolor": "white",
            "gridwidth": 2,
            "linecolor": "white",
            "showbackground": true,
            "ticks": "",
            "zerolinecolor": "white"
           },
           "yaxis": {
            "backgroundcolor": "#E5ECF6",
            "gridcolor": "white",
            "gridwidth": 2,
            "linecolor": "white",
            "showbackground": true,
            "ticks": "",
            "zerolinecolor": "white"
           },
           "zaxis": {
            "backgroundcolor": "#E5ECF6",
            "gridcolor": "white",
            "gridwidth": 2,
            "linecolor": "white",
            "showbackground": true,
            "ticks": "",
            "zerolinecolor": "white"
           }
          },
          "shapedefaults": {
           "line": {
            "color": "#2a3f5f"
           }
          },
          "ternary": {
           "aaxis": {
            "gridcolor": "white",
            "linecolor": "white",
            "ticks": ""
           },
           "baxis": {
            "gridcolor": "white",
            "linecolor": "white",
            "ticks": ""
           },
           "bgcolor": "#E5ECF6",
           "caxis": {
            "gridcolor": "white",
            "linecolor": "white",
            "ticks": ""
           }
          },
          "title": {
           "x": 0.05
          },
          "xaxis": {
           "automargin": true,
           "gridcolor": "white",
           "linecolor": "white",
           "ticks": "",
           "title": {
            "standoff": 15
           },
           "zerolinecolor": "white",
           "zerolinewidth": 2
          },
          "yaxis": {
           "automargin": true,
           "gridcolor": "white",
           "linecolor": "white",
           "ticks": "",
           "title": {
            "standoff": 15
           },
           "zerolinecolor": "white",
           "zerolinewidth": 2
          }
         }
        },
        "xaxis": {
         "dtick": 1,
         "gridwidth": 2,
         "showticklabels": false,
         "tick0": -0.5,
         "ticks": "",
         "zeroline": false
        },
        "yaxis": {
         "autorange": "reversed",
         "dtick": 1,
         "gridwidth": 2,
         "showticklabels": false,
         "tick0": 0.5,
         "ticks": "",
         "zeroline": false
        }
       }
      },
      "text/html": [
       "<div>                            <div id=\"e5403c47-1e8e-4a4e-9f75-ad6ac7f6c48a\" class=\"plotly-graph-div\" style=\"height:320px; width:100%;\"></div>            <script type=\"text/javascript\">                require([\"plotly\"], function(Plotly) {                    window.PLOTLYENV=window.PLOTLYENV || {};                                    if (document.getElementById(\"e5403c47-1e8e-4a4e-9f75-ad6ac7f6c48a\")) {                    Plotly.newPlot(                        \"e5403c47-1e8e-4a4e-9f75-ad6ac7f6c48a\",                        [{\"colorscale\":[[0,\"#00083e\"],[0.5,\"#ededee\"],[1,\"#ffffff\"]],\"hoverinfo\":\"none\",\"opacity\":0.75,\"showscale\":false,\"z\":[[0,0,0,0,0,0,0,0,0,0,0,0,0],[0.5,0.5,0.5,0.5,0.5,0.5,0.5,0.5,0.5,0.5,0.5,0.5,0.5],[1,1,1,1,1,1,1,1,1,1,1,1,1],[0.5,0.5,0.5,0.5,0.5,0.5,0.5,0.5,0.5,0.5,0.5,0.5,0.5],[1,1,1,1,1,1,1,1,1,1,1,1,1],[0.5,0.5,0.5,0.5,0.5,0.5,0.5,0.5,0.5,0.5,0.5,0.5,0.5],[1,1,1,1,1,1,1,1,1,1,1,1,1],[0.5,0.5,0.5,0.5,0.5,0.5,0.5,0.5,0.5,0.5,0.5,0.5,0.5],[1,1,1,1,1,1,1,1,1,1,1,1,1]],\"type\":\"heatmap\"}],                        {\"annotations\":[{\"align\":\"left\",\"font\":{\"color\":\"#ffffff\"},\"showarrow\":false,\"text\":\"<b>index</b>\",\"x\":-0.45,\"xanchor\":\"left\",\"xref\":\"x\",\"y\":0,\"yref\":\"y\"},{\"align\":\"left\",\"font\":{\"color\":\"#ffffff\"},\"showarrow\":false,\"text\":\"<b>0</b>\",\"x\":0.55,\"xanchor\":\"left\",\"xref\":\"x\",\"y\":0,\"yref\":\"y\"},{\"align\":\"left\",\"font\":{\"color\":\"#ffffff\"},\"showarrow\":false,\"text\":\"<b>1</b>\",\"x\":1.55,\"xanchor\":\"left\",\"xref\":\"x\",\"y\":0,\"yref\":\"y\"},{\"align\":\"left\",\"font\":{\"color\":\"#ffffff\"},\"showarrow\":false,\"text\":\"<b>2</b>\",\"x\":2.55,\"xanchor\":\"left\",\"xref\":\"x\",\"y\":0,\"yref\":\"y\"},{\"align\":\"left\",\"font\":{\"color\":\"#ffffff\"},\"showarrow\":false,\"text\":\"<b>3</b>\",\"x\":3.55,\"xanchor\":\"left\",\"xref\":\"x\",\"y\":0,\"yref\":\"y\"},{\"align\":\"left\",\"font\":{\"color\":\"#ffffff\"},\"showarrow\":false,\"text\":\"<b>4</b>\",\"x\":4.55,\"xanchor\":\"left\",\"xref\":\"x\",\"y\":0,\"yref\":\"y\"},{\"align\":\"left\",\"font\":{\"color\":\"#ffffff\"},\"showarrow\":false,\"text\":\"<b>5</b>\",\"x\":5.55,\"xanchor\":\"left\",\"xref\":\"x\",\"y\":0,\"yref\":\"y\"},{\"align\":\"left\",\"font\":{\"color\":\"#ffffff\"},\"showarrow\":false,\"text\":\"<b>6</b>\",\"x\":6.55,\"xanchor\":\"left\",\"xref\":\"x\",\"y\":0,\"yref\":\"y\"},{\"align\":\"left\",\"font\":{\"color\":\"#ffffff\"},\"showarrow\":false,\"text\":\"<b>7</b>\",\"x\":7.55,\"xanchor\":\"left\",\"xref\":\"x\",\"y\":0,\"yref\":\"y\"},{\"align\":\"left\",\"font\":{\"color\":\"#ffffff\"},\"showarrow\":false,\"text\":\"<b>8</b>\",\"x\":8.55,\"xanchor\":\"left\",\"xref\":\"x\",\"y\":0,\"yref\":\"y\"},{\"align\":\"left\",\"font\":{\"color\":\"#ffffff\"},\"showarrow\":false,\"text\":\"<b>9</b>\",\"x\":9.55,\"xanchor\":\"left\",\"xref\":\"x\",\"y\":0,\"yref\":\"y\"},{\"align\":\"left\",\"font\":{\"color\":\"#ffffff\"},\"showarrow\":false,\"text\":\"<b>Long-Short</b>\",\"x\":10.55,\"xanchor\":\"left\",\"xref\":\"x\",\"y\":0,\"yref\":\"y\"},{\"align\":\"left\",\"font\":{\"color\":\"#ffffff\"},\"showarrow\":false,\"text\":\"<b>Short-Long</b>\",\"x\":11.55,\"xanchor\":\"left\",\"xref\":\"x\",\"y\":0,\"yref\":\"y\"},{\"align\":\"left\",\"font\":{\"color\":\"#000000\"},\"showarrow\":false,\"text\":\"ret_cum\",\"x\":-0.45,\"xanchor\":\"left\",\"xref\":\"x\",\"y\":1,\"yref\":\"y\"},{\"align\":\"left\",\"font\":{\"color\":\"#000000\"},\"showarrow\":false,\"text\":\"0.4742\",\"x\":0.55,\"xanchor\":\"left\",\"xref\":\"x\",\"y\":1,\"yref\":\"y\"},{\"align\":\"left\",\"font\":{\"color\":\"#000000\"},\"showarrow\":false,\"text\":\"0.9892\",\"x\":1.55,\"xanchor\":\"left\",\"xref\":\"x\",\"y\":1,\"yref\":\"y\"},{\"align\":\"left\",\"font\":{\"color\":\"#000000\"},\"showarrow\":false,\"text\":\"1.2453\",\"x\":2.55,\"xanchor\":\"left\",\"xref\":\"x\",\"y\":1,\"yref\":\"y\"},{\"align\":\"left\",\"font\":{\"color\":\"#000000\"},\"showarrow\":false,\"text\":\"0.8962\",\"x\":3.55,\"xanchor\":\"left\",\"xref\":\"x\",\"y\":1,\"yref\":\"y\"},{\"align\":\"left\",\"font\":{\"color\":\"#000000\"},\"showarrow\":false,\"text\":\"0.6424\",\"x\":4.55,\"xanchor\":\"left\",\"xref\":\"x\",\"y\":1,\"yref\":\"y\"},{\"align\":\"left\",\"font\":{\"color\":\"#000000\"},\"showarrow\":false,\"text\":\"0.1407\",\"x\":5.55,\"xanchor\":\"left\",\"xref\":\"x\",\"y\":1,\"yref\":\"y\"},{\"align\":\"left\",\"font\":{\"color\":\"#000000\"},\"showarrow\":false,\"text\":\"-0.2979\",\"x\":6.55,\"xanchor\":\"left\",\"xref\":\"x\",\"y\":1,\"yref\":\"y\"},{\"align\":\"left\",\"font\":{\"color\":\"#000000\"},\"showarrow\":false,\"text\":\"-0.5297\",\"x\":7.55,\"xanchor\":\"left\",\"xref\":\"x\",\"y\":1,\"yref\":\"y\"},{\"align\":\"left\",\"font\":{\"color\":\"#000000\"},\"showarrow\":false,\"text\":\"-0.5981\",\"x\":8.55,\"xanchor\":\"left\",\"xref\":\"x\",\"y\":1,\"yref\":\"y\"},{\"align\":\"left\",\"font\":{\"color\":\"#000000\"},\"showarrow\":false,\"text\":\"-0.6272\",\"x\":9.55,\"xanchor\":\"left\",\"xref\":\"x\",\"y\":1,\"yref\":\"y\"},{\"align\":\"left\",\"font\":{\"color\":\"#000000\"},\"showarrow\":false,\"text\":\"-0.7581\",\"x\":10.55,\"xanchor\":\"left\",\"xref\":\"x\",\"y\":1,\"yref\":\"y\"},{\"align\":\"left\",\"font\":{\"color\":\"#000000\"},\"showarrow\":false,\"text\":\"2.0702\",\"x\":11.55,\"xanchor\":\"left\",\"xref\":\"x\",\"y\":1,\"yref\":\"y\"},{\"align\":\"left\",\"font\":{\"color\":\"#000000\"},\"showarrow\":false,\"text\":\"ret_ann\",\"x\":-0.45,\"xanchor\":\"left\",\"xref\":\"x\",\"y\":2,\"yref\":\"y\"},{\"align\":\"left\",\"font\":{\"color\":\"#000000\"},\"showarrow\":false,\"text\":\"0.0318\",\"x\":0.55,\"xanchor\":\"left\",\"xref\":\"x\",\"y\":2,\"yref\":\"y\"},{\"align\":\"left\",\"font\":{\"color\":\"#000000\"},\"showarrow\":false,\"text\":\"0.0548\",\"x\":1.55,\"xanchor\":\"left\",\"xref\":\"x\",\"y\":2,\"yref\":\"y\"},{\"align\":\"left\",\"font\":{\"color\":\"#000000\"},\"showarrow\":false,\"text\":\"0.0646\",\"x\":2.55,\"xanchor\":\"left\",\"xref\":\"x\",\"y\":2,\"yref\":\"y\"},{\"align\":\"left\",\"font\":{\"color\":\"#000000\"},\"showarrow\":false,\"text\":\"0.0513\",\"x\":3.55,\"xanchor\":\"left\",\"xref\":\"x\",\"y\":2,\"yref\":\"y\"},{\"align\":\"left\",\"font\":{\"color\":\"#000000\"},\"showarrow\":false,\"text\":\"0.0404\",\"x\":4.55,\"xanchor\":\"left\",\"xref\":\"x\",\"y\":2,\"yref\":\"y\"},{\"align\":\"left\",\"font\":{\"color\":\"#000000\"},\"showarrow\":false,\"text\":\"0.0109\",\"x\":5.55,\"xanchor\":\"left\",\"xref\":\"x\",\"y\":2,\"yref\":\"y\"},{\"align\":\"left\",\"font\":{\"color\":\"#000000\"},\"showarrow\":false,\"text\":\"-0.0269\",\"x\":6.55,\"xanchor\":\"left\",\"xref\":\"x\",\"y\":2,\"yref\":\"y\"},{\"align\":\"left\",\"font\":{\"color\":\"#000000\"},\"showarrow\":false,\"text\":\"-0.0579\",\"x\":7.55,\"xanchor\":\"left\",\"xref\":\"x\",\"y\":2,\"yref\":\"y\"},{\"align\":\"left\",\"font\":{\"color\":\"#000000\"},\"showarrow\":false,\"text\":\"-0.0688\",\"x\":8.55,\"xanchor\":\"left\",\"xref\":\"x\",\"y\":2,\"yref\":\"y\"},{\"align\":\"left\",\"font\":{\"color\":\"#000000\"},\"showarrow\":false,\"text\":\"-0.0671\",\"x\":9.55,\"xanchor\":\"left\",\"xref\":\"x\",\"y\":2,\"yref\":\"y\"},{\"align\":\"left\",\"font\":{\"color\":\"#000000\"},\"showarrow\":false,\"text\":\"-0.0989\",\"x\":10.55,\"xanchor\":\"left\",\"xref\":\"x\",\"y\":2,\"yref\":\"y\"},{\"align\":\"left\",\"font\":{\"color\":\"#000000\"},\"showarrow\":false,\"text\":\"0.0989\",\"x\":11.55,\"xanchor\":\"left\",\"xref\":\"x\",\"y\":2,\"yref\":\"y\"},{\"align\":\"left\",\"font\":{\"color\":\"#000000\"},\"showarrow\":false,\"text\":\"sigma_ann\",\"x\":-0.45,\"xanchor\":\"left\",\"xref\":\"x\",\"y\":3,\"yref\":\"y\"},{\"align\":\"left\",\"font\":{\"color\":\"#000000\"},\"showarrow\":false,\"text\":\"0.0546\",\"x\":0.55,\"xanchor\":\"left\",\"xref\":\"x\",\"y\":3,\"yref\":\"y\"},{\"align\":\"left\",\"font\":{\"color\":\"#000000\"},\"showarrow\":false,\"text\":\"0.0473\",\"x\":1.55,\"xanchor\":\"left\",\"xref\":\"x\",\"y\":3,\"yref\":\"y\"},{\"align\":\"left\",\"font\":{\"color\":\"#000000\"},\"showarrow\":false,\"text\":\"0.0537\",\"x\":2.55,\"xanchor\":\"left\",\"xref\":\"x\",\"y\":3,\"yref\":\"y\"},{\"align\":\"left\",\"font\":{\"color\":\"#000000\"},\"showarrow\":false,\"text\":\"0.0532\",\"x\":3.55,\"xanchor\":\"left\",\"xref\":\"x\",\"y\":3,\"yref\":\"y\"},{\"align\":\"left\",\"font\":{\"color\":\"#000000\"},\"showarrow\":false,\"text\":\"0.0593\",\"x\":4.55,\"xanchor\":\"left\",\"xref\":\"x\",\"y\":3,\"yref\":\"y\"},{\"align\":\"left\",\"font\":{\"color\":\"#000000\"},\"showarrow\":false,\"text\":\"0.0368\",\"x\":5.55,\"xanchor\":\"left\",\"xref\":\"x\",\"y\":3,\"yref\":\"y\"},{\"align\":\"left\",\"font\":{\"color\":\"#000000\"},\"showarrow\":false,\"text\":\"0.0357\",\"x\":6.55,\"xanchor\":\"left\",\"xref\":\"x\",\"y\":3,\"yref\":\"y\"},{\"align\":\"left\",\"font\":{\"color\":\"#000000\"},\"showarrow\":false,\"text\":\"0.0377\",\"x\":7.55,\"xanchor\":\"left\",\"xref\":\"x\",\"y\":3,\"yref\":\"y\"},{\"align\":\"left\",\"font\":{\"color\":\"#000000\"},\"showarrow\":false,\"text\":\"0.064\",\"x\":8.55,\"xanchor\":\"left\",\"xref\":\"x\",\"y\":3,\"yref\":\"y\"},{\"align\":\"left\",\"font\":{\"color\":\"#000000\"},\"showarrow\":false,\"text\":\"0.1378\",\"x\":9.55,\"xanchor\":\"left\",\"xref\":\"x\",\"y\":3,\"yref\":\"y\"},{\"align\":\"left\",\"font\":{\"color\":\"#000000\"},\"showarrow\":false,\"text\":\"0.1496\",\"x\":10.55,\"xanchor\":\"left\",\"xref\":\"x\",\"y\":3,\"yref\":\"y\"},{\"align\":\"left\",\"font\":{\"color\":\"#000000\"},\"showarrow\":false,\"text\":\"0.1496\",\"x\":11.55,\"xanchor\":\"left\",\"xref\":\"x\",\"y\":3,\"yref\":\"y\"},{\"align\":\"left\",\"font\":{\"color\":\"#000000\"},\"showarrow\":false,\"text\":\"max_drawdown\",\"x\":-0.45,\"xanchor\":\"left\",\"xref\":\"x\",\"y\":4,\"yref\":\"y\"},{\"align\":\"left\",\"font\":{\"color\":\"#000000\"},\"showarrow\":false,\"text\":\"0.104\",\"x\":0.55,\"xanchor\":\"left\",\"xref\":\"x\",\"y\":4,\"yref\":\"y\"},{\"align\":\"left\",\"font\":{\"color\":\"#000000\"},\"showarrow\":false,\"text\":\"0.0572\",\"x\":1.55,\"xanchor\":\"left\",\"xref\":\"x\",\"y\":4,\"yref\":\"y\"},{\"align\":\"left\",\"font\":{\"color\":\"#000000\"},\"showarrow\":false,\"text\":\"0.0661\",\"x\":2.55,\"xanchor\":\"left\",\"xref\":\"x\",\"y\":4,\"yref\":\"y\"},{\"align\":\"left\",\"font\":{\"color\":\"#000000\"},\"showarrow\":false,\"text\":\"0.1028\",\"x\":3.55,\"xanchor\":\"left\",\"xref\":\"x\",\"y\":4,\"yref\":\"y\"},{\"align\":\"left\",\"font\":{\"color\":\"#000000\"},\"showarrow\":false,\"text\":\"0.0932\",\"x\":4.55,\"xanchor\":\"left\",\"xref\":\"x\",\"y\":4,\"yref\":\"y\"},{\"align\":\"left\",\"font\":{\"color\":\"#000000\"},\"showarrow\":false,\"text\":\"0.1197\",\"x\":5.55,\"xanchor\":\"left\",\"xref\":\"x\",\"y\":4,\"yref\":\"y\"},{\"align\":\"left\",\"font\":{\"color\":\"#000000\"},\"showarrow\":false,\"text\":\"0.4161\",\"x\":6.55,\"xanchor\":\"left\",\"xref\":\"x\",\"y\":4,\"yref\":\"y\"},{\"align\":\"left\",\"font\":{\"color\":\"#000000\"},\"showarrow\":false,\"text\":\"0.5316\",\"x\":7.55,\"xanchor\":\"left\",\"xref\":\"x\",\"y\":4,\"yref\":\"y\"},{\"align\":\"left\",\"font\":{\"color\":\"#000000\"},\"showarrow\":false,\"text\":\"0.5981\",\"x\":8.55,\"xanchor\":\"left\",\"xref\":\"x\",\"y\":4,\"yref\":\"y\"},{\"align\":\"left\",\"font\":{\"color\":\"#000000\"},\"showarrow\":false,\"text\":\"0.676\",\"x\":9.55,\"xanchor\":\"left\",\"xref\":\"x\",\"y\":4,\"yref\":\"y\"},{\"align\":\"left\",\"font\":{\"color\":\"#000000\"},\"showarrow\":false,\"text\":\"0.7917\",\"x\":10.55,\"xanchor\":\"left\",\"xref\":\"x\",\"y\":4,\"yref\":\"y\"},{\"align\":\"left\",\"font\":{\"color\":\"#000000\"},\"showarrow\":false,\"text\":\"0.4775\",\"x\":11.55,\"xanchor\":\"left\",\"xref\":\"x\",\"y\":4,\"yref\":\"y\"},{\"align\":\"left\",\"font\":{\"color\":\"#000000\"},\"showarrow\":false,\"text\":\"SR\",\"x\":-0.45,\"xanchor\":\"left\",\"xref\":\"x\",\"y\":5,\"yref\":\"y\"},{\"align\":\"left\",\"font\":{\"color\":\"#000000\"},\"showarrow\":false,\"text\":\"0.582\",\"x\":0.55,\"xanchor\":\"left\",\"xref\":\"x\",\"y\":5,\"yref\":\"y\"},{\"align\":\"left\",\"font\":{\"color\":\"#000000\"},\"showarrow\":false,\"text\":\"1.1588\",\"x\":1.55,\"xanchor\":\"left\",\"xref\":\"x\",\"y\":5,\"yref\":\"y\"},{\"align\":\"left\",\"font\":{\"color\":\"#000000\"},\"showarrow\":false,\"text\":\"1.203\",\"x\":2.55,\"xanchor\":\"left\",\"xref\":\"x\",\"y\":5,\"yref\":\"y\"},{\"align\":\"left\",\"font\":{\"color\":\"#000000\"},\"showarrow\":false,\"text\":\"0.9648\",\"x\":3.55,\"xanchor\":\"left\",\"xref\":\"x\",\"y\":5,\"yref\":\"y\"},{\"align\":\"left\",\"font\":{\"color\":\"#000000\"},\"showarrow\":false,\"text\":\"0.6815\",\"x\":4.55,\"xanchor\":\"left\",\"xref\":\"x\",\"y\":5,\"yref\":\"y\"},{\"align\":\"left\",\"font\":{\"color\":\"#000000\"},\"showarrow\":false,\"text\":\"0.2969\",\"x\":5.55,\"xanchor\":\"left\",\"xref\":\"x\",\"y\":5,\"yref\":\"y\"},{\"align\":\"left\",\"font\":{\"color\":\"#000000\"},\"showarrow\":false,\"text\":\"-0.7528\",\"x\":6.55,\"xanchor\":\"left\",\"xref\":\"x\",\"y\":5,\"yref\":\"y\"},{\"align\":\"left\",\"font\":{\"color\":\"#000000\"},\"showarrow\":false,\"text\":\"-1.5363\",\"x\":7.55,\"xanchor\":\"left\",\"xref\":\"x\",\"y\":5,\"yref\":\"y\"},{\"align\":\"left\",\"font\":{\"color\":\"#000000\"},\"showarrow\":false,\"text\":\"-1.0745\",\"x\":8.55,\"xanchor\":\"left\",\"xref\":\"x\",\"y\":5,\"yref\":\"y\"},{\"align\":\"left\",\"font\":{\"color\":\"#000000\"},\"showarrow\":false,\"text\":\"-0.4869\",\"x\":9.55,\"xanchor\":\"left\",\"xref\":\"x\",\"y\":5,\"yref\":\"y\"},{\"align\":\"left\",\"font\":{\"color\":\"#000000\"},\"showarrow\":false,\"text\":\"-0.6607\",\"x\":10.55,\"xanchor\":\"left\",\"xref\":\"x\",\"y\":5,\"yref\":\"y\"},{\"align\":\"left\",\"font\":{\"color\":\"#000000\"},\"showarrow\":false,\"text\":\"0.6607\",\"x\":11.55,\"xanchor\":\"left\",\"xref\":\"x\",\"y\":5,\"yref\":\"y\"},{\"align\":\"left\",\"font\":{\"color\":\"#000000\"},\"showarrow\":false,\"text\":\"calmar_ratio\",\"x\":-0.45,\"xanchor\":\"left\",\"xref\":\"x\",\"y\":6,\"yref\":\"y\"},{\"align\":\"left\",\"font\":{\"color\":\"#000000\"},\"showarrow\":false,\"text\":\"0.3054\",\"x\":0.55,\"xanchor\":\"left\",\"xref\":\"x\",\"y\":6,\"yref\":\"y\"},{\"align\":\"left\",\"font\":{\"color\":\"#000000\"},\"showarrow\":false,\"text\":\"0.9581\",\"x\":1.55,\"xanchor\":\"left\",\"xref\":\"x\",\"y\":6,\"yref\":\"y\"},{\"align\":\"left\",\"font\":{\"color\":\"#000000\"},\"showarrow\":false,\"text\":\"0.977\",\"x\":2.55,\"xanchor\":\"left\",\"xref\":\"x\",\"y\":6,\"yref\":\"y\"},{\"align\":\"left\",\"font\":{\"color\":\"#000000\"},\"showarrow\":false,\"text\":\"0.4995\",\"x\":3.55,\"xanchor\":\"left\",\"xref\":\"x\",\"y\":6,\"yref\":\"y\"},{\"align\":\"left\",\"font\":{\"color\":\"#000000\"},\"showarrow\":false,\"text\":\"0.4341\",\"x\":4.55,\"xanchor\":\"left\",\"xref\":\"x\",\"y\":6,\"yref\":\"y\"},{\"align\":\"left\",\"font\":{\"color\":\"#000000\"},\"showarrow\":false,\"text\":\"0.0914\",\"x\":5.55,\"xanchor\":\"left\",\"xref\":\"x\",\"y\":6,\"yref\":\"y\"},{\"align\":\"left\",\"font\":{\"color\":\"#000000\"},\"showarrow\":false,\"text\":\"-0.0646\",\"x\":6.55,\"xanchor\":\"left\",\"xref\":\"x\",\"y\":6,\"yref\":\"y\"},{\"align\":\"left\",\"font\":{\"color\":\"#000000\"},\"showarrow\":false,\"text\":\"-0.109\",\"x\":7.55,\"xanchor\":\"left\",\"xref\":\"x\",\"y\":6,\"yref\":\"y\"},{\"align\":\"left\",\"font\":{\"color\":\"#000000\"},\"showarrow\":false,\"text\":\"-0.115\",\"x\":8.55,\"xanchor\":\"left\",\"xref\":\"x\",\"y\":6,\"yref\":\"y\"},{\"align\":\"left\",\"font\":{\"color\":\"#000000\"},\"showarrow\":false,\"text\":\"-0.0993\",\"x\":9.55,\"xanchor\":\"left\",\"xref\":\"x\",\"y\":6,\"yref\":\"y\"},{\"align\":\"left\",\"font\":{\"color\":\"#000000\"},\"showarrow\":false,\"text\":\"-0.1249\",\"x\":10.55,\"xanchor\":\"left\",\"xref\":\"x\",\"y\":6,\"yref\":\"y\"},{\"align\":\"left\",\"font\":{\"color\":\"#000000\"},\"showarrow\":false,\"text\":\"0.207\",\"x\":11.55,\"xanchor\":\"left\",\"xref\":\"x\",\"y\":6,\"yref\":\"y\"},{\"align\":\"left\",\"font\":{\"color\":\"#000000\"},\"showarrow\":false,\"text\":\"n_periods\",\"x\":-0.45,\"xanchor\":\"left\",\"xref\":\"x\",\"y\":7,\"yref\":\"y\"},{\"align\":\"left\",\"font\":{\"color\":\"#000000\"},\"showarrow\":false,\"text\":\"155.0\",\"x\":0.55,\"xanchor\":\"left\",\"xref\":\"x\",\"y\":7,\"yref\":\"y\"},{\"align\":\"left\",\"font\":{\"color\":\"#000000\"},\"showarrow\":false,\"text\":\"155.0\",\"x\":1.55,\"xanchor\":\"left\",\"xref\":\"x\",\"y\":7,\"yref\":\"y\"},{\"align\":\"left\",\"font\":{\"color\":\"#000000\"},\"showarrow\":false,\"text\":\"155.0\",\"x\":2.55,\"xanchor\":\"left\",\"xref\":\"x\",\"y\":7,\"yref\":\"y\"},{\"align\":\"left\",\"font\":{\"color\":\"#000000\"},\"showarrow\":false,\"text\":\"155.0\",\"x\":3.55,\"xanchor\":\"left\",\"xref\":\"x\",\"y\":7,\"yref\":\"y\"},{\"align\":\"left\",\"font\":{\"color\":\"#000000\"},\"showarrow\":false,\"text\":\"155.0\",\"x\":4.55,\"xanchor\":\"left\",\"xref\":\"x\",\"y\":7,\"yref\":\"y\"},{\"align\":\"left\",\"font\":{\"color\":\"#000000\"},\"showarrow\":false,\"text\":\"155.0\",\"x\":5.55,\"xanchor\":\"left\",\"xref\":\"x\",\"y\":7,\"yref\":\"y\"},{\"align\":\"left\",\"font\":{\"color\":\"#000000\"},\"showarrow\":false,\"text\":\"155.0\",\"x\":6.55,\"xanchor\":\"left\",\"xref\":\"x\",\"y\":7,\"yref\":\"y\"},{\"align\":\"left\",\"font\":{\"color\":\"#000000\"},\"showarrow\":false,\"text\":\"155.0\",\"x\":7.55,\"xanchor\":\"left\",\"xref\":\"x\",\"y\":7,\"yref\":\"y\"},{\"align\":\"left\",\"font\":{\"color\":\"#000000\"},\"showarrow\":false,\"text\":\"155.0\",\"x\":8.55,\"xanchor\":\"left\",\"xref\":\"x\",\"y\":7,\"yref\":\"y\"},{\"align\":\"left\",\"font\":{\"color\":\"#000000\"},\"showarrow\":false,\"text\":\"155.0\",\"x\":9.55,\"xanchor\":\"left\",\"xref\":\"x\",\"y\":7,\"yref\":\"y\"},{\"align\":\"left\",\"font\":{\"color\":\"#000000\"},\"showarrow\":false,\"text\":\"155.0\",\"x\":10.55,\"xanchor\":\"left\",\"xref\":\"x\",\"y\":7,\"yref\":\"y\"},{\"align\":\"left\",\"font\":{\"color\":\"#000000\"},\"showarrow\":false,\"text\":\"155.0\",\"x\":11.55,\"xanchor\":\"left\",\"xref\":\"x\",\"y\":7,\"yref\":\"y\"},{\"align\":\"left\",\"font\":{\"color\":\"#000000\"},\"showarrow\":false,\"text\":\"turnover_ratio\",\"x\":-0.45,\"xanchor\":\"left\",\"xref\":\"x\",\"y\":8,\"yref\":\"y\"},{\"align\":\"left\",\"font\":{\"color\":\"#000000\"},\"showarrow\":false,\"text\":\"0.0708\",\"x\":0.55,\"xanchor\":\"left\",\"xref\":\"x\",\"y\":8,\"yref\":\"y\"},{\"align\":\"left\",\"font\":{\"color\":\"#000000\"},\"showarrow\":false,\"text\":\"0.1854\",\"x\":1.55,\"xanchor\":\"left\",\"xref\":\"x\",\"y\":8,\"yref\":\"y\"},{\"align\":\"left\",\"font\":{\"color\":\"#000000\"},\"showarrow\":false,\"text\":\"0.2584\",\"x\":2.55,\"xanchor\":\"left\",\"xref\":\"x\",\"y\":8,\"yref\":\"y\"},{\"align\":\"left\",\"font\":{\"color\":\"#000000\"},\"showarrow\":false,\"text\":\"0.2884\",\"x\":3.55,\"xanchor\":\"left\",\"xref\":\"x\",\"y\":8,\"yref\":\"y\"},{\"align\":\"left\",\"font\":{\"color\":\"#000000\"},\"showarrow\":false,\"text\":\"0.2922\",\"x\":4.55,\"xanchor\":\"left\",\"xref\":\"x\",\"y\":8,\"yref\":\"y\"},{\"align\":\"left\",\"font\":{\"color\":\"#000000\"},\"showarrow\":false,\"text\":\"0.2853\",\"x\":5.55,\"xanchor\":\"left\",\"xref\":\"x\",\"y\":8,\"yref\":\"y\"},{\"align\":\"left\",\"font\":{\"color\":\"#000000\"},\"showarrow\":false,\"text\":\"0.2628\",\"x\":6.55,\"xanchor\":\"left\",\"xref\":\"x\",\"y\":8,\"yref\":\"y\"},{\"align\":\"left\",\"font\":{\"color\":\"#000000\"},\"showarrow\":false,\"text\":\"0.2123\",\"x\":7.55,\"xanchor\":\"left\",\"xref\":\"x\",\"y\":8,\"yref\":\"y\"},{\"align\":\"left\",\"font\":{\"color\":\"#000000\"},\"showarrow\":false,\"text\":\"0.1387\",\"x\":8.55,\"xanchor\":\"left\",\"xref\":\"x\",\"y\":8,\"yref\":\"y\"},{\"align\":\"left\",\"font\":{\"color\":\"#000000\"},\"showarrow\":false,\"text\":\"0.0511\",\"x\":9.55,\"xanchor\":\"left\",\"xref\":\"x\",\"y\":8,\"yref\":\"y\"},{\"align\":\"left\",\"font\":{\"color\":\"#000000\"},\"showarrow\":false,\"text\":\"nan\",\"x\":10.55,\"xanchor\":\"left\",\"xref\":\"x\",\"y\":8,\"yref\":\"y\"},{\"align\":\"left\",\"font\":{\"color\":\"#000000\"},\"showarrow\":false,\"text\":\"nan\",\"x\":11.55,\"xanchor\":\"left\",\"xref\":\"x\",\"y\":8,\"yref\":\"y\"}],\"height\":320,\"margin\":{\"b\":0,\"l\":0,\"r\":0,\"t\":0},\"xaxis\":{\"dtick\":1,\"gridwidth\":2,\"showticklabels\":false,\"tick0\":-0.5,\"ticks\":\"\",\"zeroline\":false},\"yaxis\":{\"autorange\":\"reversed\",\"dtick\":1,\"gridwidth\":2,\"showticklabels\":false,\"tick0\":0.5,\"ticks\":\"\",\"zeroline\":false},\"template\":{\"data\":{\"histogram2dcontour\":[{\"type\":\"histogram2dcontour\",\"colorbar\":{\"outlinewidth\":0,\"ticks\":\"\"},\"colorscale\":[[0.0,\"#0d0887\"],[0.1111111111111111,\"#46039f\"],[0.2222222222222222,\"#7201a8\"],[0.3333333333333333,\"#9c179e\"],[0.4444444444444444,\"#bd3786\"],[0.5555555555555556,\"#d8576b\"],[0.6666666666666666,\"#ed7953\"],[0.7777777777777778,\"#fb9f3a\"],[0.8888888888888888,\"#fdca26\"],[1.0,\"#f0f921\"]]}],\"choropleth\":[{\"type\":\"choropleth\",\"colorbar\":{\"outlinewidth\":0,\"ticks\":\"\"}}],\"histogram2d\":[{\"type\":\"histogram2d\",\"colorbar\":{\"outlinewidth\":0,\"ticks\":\"\"},\"colorscale\":[[0.0,\"#0d0887\"],[0.1111111111111111,\"#46039f\"],[0.2222222222222222,\"#7201a8\"],[0.3333333333333333,\"#9c179e\"],[0.4444444444444444,\"#bd3786\"],[0.5555555555555556,\"#d8576b\"],[0.6666666666666666,\"#ed7953\"],[0.7777777777777778,\"#fb9f3a\"],[0.8888888888888888,\"#fdca26\"],[1.0,\"#f0f921\"]]}],\"heatmap\":[{\"type\":\"heatmap\",\"colorbar\":{\"outlinewidth\":0,\"ticks\":\"\"},\"colorscale\":[[0.0,\"#0d0887\"],[0.1111111111111111,\"#46039f\"],[0.2222222222222222,\"#7201a8\"],[0.3333333333333333,\"#9c179e\"],[0.4444444444444444,\"#bd3786\"],[0.5555555555555556,\"#d8576b\"],[0.6666666666666666,\"#ed7953\"],[0.7777777777777778,\"#fb9f3a\"],[0.8888888888888888,\"#fdca26\"],[1.0,\"#f0f921\"]]}],\"heatmapgl\":[{\"type\":\"heatmapgl\",\"colorbar\":{\"outlinewidth\":0,\"ticks\":\"\"},\"colorscale\":[[0.0,\"#0d0887\"],[0.1111111111111111,\"#46039f\"],[0.2222222222222222,\"#7201a8\"],[0.3333333333333333,\"#9c179e\"],[0.4444444444444444,\"#bd3786\"],[0.5555555555555556,\"#d8576b\"],[0.6666666666666666,\"#ed7953\"],[0.7777777777777778,\"#fb9f3a\"],[0.8888888888888888,\"#fdca26\"],[1.0,\"#f0f921\"]]}],\"contourcarpet\":[{\"type\":\"contourcarpet\",\"colorbar\":{\"outlinewidth\":0,\"ticks\":\"\"}}],\"contour\":[{\"type\":\"contour\",\"colorbar\":{\"outlinewidth\":0,\"ticks\":\"\"},\"colorscale\":[[0.0,\"#0d0887\"],[0.1111111111111111,\"#46039f\"],[0.2222222222222222,\"#7201a8\"],[0.3333333333333333,\"#9c179e\"],[0.4444444444444444,\"#bd3786\"],[0.5555555555555556,\"#d8576b\"],[0.6666666666666666,\"#ed7953\"],[0.7777777777777778,\"#fb9f3a\"],[0.8888888888888888,\"#fdca26\"],[1.0,\"#f0f921\"]]}],\"surface\":[{\"type\":\"surface\",\"colorbar\":{\"outlinewidth\":0,\"ticks\":\"\"},\"colorscale\":[[0.0,\"#0d0887\"],[0.1111111111111111,\"#46039f\"],[0.2222222222222222,\"#7201a8\"],[0.3333333333333333,\"#9c179e\"],[0.4444444444444444,\"#bd3786\"],[0.5555555555555556,\"#d8576b\"],[0.6666666666666666,\"#ed7953\"],[0.7777777777777778,\"#fb9f3a\"],[0.8888888888888888,\"#fdca26\"],[1.0,\"#f0f921\"]]}],\"mesh3d\":[{\"type\":\"mesh3d\",\"colorbar\":{\"outlinewidth\":0,\"ticks\":\"\"}}],\"scatter\":[{\"fillpattern\":{\"fillmode\":\"overlay\",\"size\":10,\"solidity\":0.2},\"type\":\"scatter\"}],\"parcoords\":[{\"type\":\"parcoords\",\"line\":{\"colorbar\":{\"outlinewidth\":0,\"ticks\":\"\"}}}],\"scatterpolargl\":[{\"type\":\"scatterpolargl\",\"marker\":{\"colorbar\":{\"outlinewidth\":0,\"ticks\":\"\"}}}],\"bar\":[{\"error_x\":{\"color\":\"#2a3f5f\"},\"error_y\":{\"color\":\"#2a3f5f\"},\"marker\":{\"line\":{\"color\":\"#E5ECF6\",\"width\":0.5},\"pattern\":{\"fillmode\":\"overlay\",\"size\":10,\"solidity\":0.2}},\"type\":\"bar\"}],\"scattergeo\":[{\"type\":\"scattergeo\",\"marker\":{\"colorbar\":{\"outlinewidth\":0,\"ticks\":\"\"}}}],\"scatterpolar\":[{\"type\":\"scatterpolar\",\"marker\":{\"colorbar\":{\"outlinewidth\":0,\"ticks\":\"\"}}}],\"histogram\":[{\"marker\":{\"pattern\":{\"fillmode\":\"overlay\",\"size\":10,\"solidity\":0.2}},\"type\":\"histogram\"}],\"scattergl\":[{\"type\":\"scattergl\",\"marker\":{\"colorbar\":{\"outlinewidth\":0,\"ticks\":\"\"}}}],\"scatter3d\":[{\"type\":\"scatter3d\",\"line\":{\"colorbar\":{\"outlinewidth\":0,\"ticks\":\"\"}},\"marker\":{\"colorbar\":{\"outlinewidth\":0,\"ticks\":\"\"}}}],\"scattermapbox\":[{\"type\":\"scattermapbox\",\"marker\":{\"colorbar\":{\"outlinewidth\":0,\"ticks\":\"\"}}}],\"scatterternary\":[{\"type\":\"scatterternary\",\"marker\":{\"colorbar\":{\"outlinewidth\":0,\"ticks\":\"\"}}}],\"scattercarpet\":[{\"type\":\"scattercarpet\",\"marker\":{\"colorbar\":{\"outlinewidth\":0,\"ticks\":\"\"}}}],\"carpet\":[{\"aaxis\":{\"endlinecolor\":\"#2a3f5f\",\"gridcolor\":\"white\",\"linecolor\":\"white\",\"minorgridcolor\":\"white\",\"startlinecolor\":\"#2a3f5f\"},\"baxis\":{\"endlinecolor\":\"#2a3f5f\",\"gridcolor\":\"white\",\"linecolor\":\"white\",\"minorgridcolor\":\"white\",\"startlinecolor\":\"#2a3f5f\"},\"type\":\"carpet\"}],\"table\":[{\"cells\":{\"fill\":{\"color\":\"#EBF0F8\"},\"line\":{\"color\":\"white\"}},\"header\":{\"fill\":{\"color\":\"#C8D4E3\"},\"line\":{\"color\":\"white\"}},\"type\":\"table\"}],\"barpolar\":[{\"marker\":{\"line\":{\"color\":\"#E5ECF6\",\"width\":0.5},\"pattern\":{\"fillmode\":\"overlay\",\"size\":10,\"solidity\":0.2}},\"type\":\"barpolar\"}],\"pie\":[{\"automargin\":true,\"type\":\"pie\"}]},\"layout\":{\"autotypenumbers\":\"strict\",\"colorway\":[\"#636efa\",\"#EF553B\",\"#00cc96\",\"#ab63fa\",\"#FFA15A\",\"#19d3f3\",\"#FF6692\",\"#B6E880\",\"#FF97FF\",\"#FECB52\"],\"font\":{\"color\":\"#2a3f5f\"},\"hovermode\":\"closest\",\"hoverlabel\":{\"align\":\"left\"},\"paper_bgcolor\":\"white\",\"plot_bgcolor\":\"#E5ECF6\",\"polar\":{\"bgcolor\":\"#E5ECF6\",\"angularaxis\":{\"gridcolor\":\"white\",\"linecolor\":\"white\",\"ticks\":\"\"},\"radialaxis\":{\"gridcolor\":\"white\",\"linecolor\":\"white\",\"ticks\":\"\"}},\"ternary\":{\"bgcolor\":\"#E5ECF6\",\"aaxis\":{\"gridcolor\":\"white\",\"linecolor\":\"white\",\"ticks\":\"\"},\"baxis\":{\"gridcolor\":\"white\",\"linecolor\":\"white\",\"ticks\":\"\"},\"caxis\":{\"gridcolor\":\"white\",\"linecolor\":\"white\",\"ticks\":\"\"}},\"coloraxis\":{\"colorbar\":{\"outlinewidth\":0,\"ticks\":\"\"}},\"colorscale\":{\"sequential\":[[0.0,\"#0d0887\"],[0.1111111111111111,\"#46039f\"],[0.2222222222222222,\"#7201a8\"],[0.3333333333333333,\"#9c179e\"],[0.4444444444444444,\"#bd3786\"],[0.5555555555555556,\"#d8576b\"],[0.6666666666666666,\"#ed7953\"],[0.7777777777777778,\"#fb9f3a\"],[0.8888888888888888,\"#fdca26\"],[1.0,\"#f0f921\"]],\"sequentialminus\":[[0.0,\"#0d0887\"],[0.1111111111111111,\"#46039f\"],[0.2222222222222222,\"#7201a8\"],[0.3333333333333333,\"#9c179e\"],[0.4444444444444444,\"#bd3786\"],[0.5555555555555556,\"#d8576b\"],[0.6666666666666666,\"#ed7953\"],[0.7777777777777778,\"#fb9f3a\"],[0.8888888888888888,\"#fdca26\"],[1.0,\"#f0f921\"]],\"diverging\":[[0,\"#8e0152\"],[0.1,\"#c51b7d\"],[0.2,\"#de77ae\"],[0.3,\"#f1b6da\"],[0.4,\"#fde0ef\"],[0.5,\"#f7f7f7\"],[0.6,\"#e6f5d0\"],[0.7,\"#b8e186\"],[0.8,\"#7fbc41\"],[0.9,\"#4d9221\"],[1,\"#276419\"]]},\"xaxis\":{\"gridcolor\":\"white\",\"linecolor\":\"white\",\"ticks\":\"\",\"title\":{\"standoff\":15},\"zerolinecolor\":\"white\",\"automargin\":true,\"zerolinewidth\":2},\"yaxis\":{\"gridcolor\":\"white\",\"linecolor\":\"white\",\"ticks\":\"\",\"title\":{\"standoff\":15},\"zerolinecolor\":\"white\",\"automargin\":true,\"zerolinewidth\":2},\"scene\":{\"xaxis\":{\"backgroundcolor\":\"#E5ECF6\",\"gridcolor\":\"white\",\"linecolor\":\"white\",\"showbackground\":true,\"ticks\":\"\",\"zerolinecolor\":\"white\",\"gridwidth\":2},\"yaxis\":{\"backgroundcolor\":\"#E5ECF6\",\"gridcolor\":\"white\",\"linecolor\":\"white\",\"showbackground\":true,\"ticks\":\"\",\"zerolinecolor\":\"white\",\"gridwidth\":2},\"zaxis\":{\"backgroundcolor\":\"#E5ECF6\",\"gridcolor\":\"white\",\"linecolor\":\"white\",\"showbackground\":true,\"ticks\":\"\",\"zerolinecolor\":\"white\",\"gridwidth\":2}},\"shapedefaults\":{\"line\":{\"color\":\"#2a3f5f\"}},\"annotationdefaults\":{\"arrowcolor\":\"#2a3f5f\",\"arrowhead\":0,\"arrowwidth\":1},\"geo\":{\"bgcolor\":\"white\",\"landcolor\":\"#E5ECF6\",\"subunitcolor\":\"white\",\"showland\":true,\"showlakes\":true,\"lakecolor\":\"white\"},\"title\":{\"x\":0.05},\"mapbox\":{\"style\":\"light\"}}}},                        {\"responsive\": true}                    ).then(function(){\n",
       "                            \n",
       "var gd = document.getElementById('e5403c47-1e8e-4a4e-9f75-ad6ac7f6c48a');\n",
       "var x = new MutationObserver(function (mutations, observer) {{\n",
       "        var display = window.getComputedStyle(gd).display;\n",
       "        if (!display || display === 'none') {{\n",
       "            console.log([gd, 'removed!']);\n",
       "            Plotly.purge(gd);\n",
       "            observer.disconnect();\n",
       "        }}\n",
       "}});\n",
       "\n",
       "// Listen for the removal of the full notebook cells\n",
       "var notebookContainer = gd.closest('#notebook-container');\n",
       "if (notebookContainer) {{\n",
       "    x.observe(notebookContainer, {childList: true});\n",
       "}}\n",
       "\n",
       "// Listen for the clearing of the current output cell\n",
       "var outputEl = gd.closest('.output');\n",
       "if (outputEl) {{\n",
       "    x.observe(outputEl, {childList: true});\n",
       "}}\n",
       "\n",
       "                        })                };                });            </script>        </div>"
      ]
     },
     "metadata": {},
     "output_type": "display_data"
    }
   ],
   "source": [
    "factor='circulating_market_cap_GN'\n",
    "report = fe.get_factor_detail_report(factor=factor,add_shift=0,base='close',start_date='2010-01-01',end_date='2022-12-31',total=False,excess_return=True,holding_period=1)\n",
    "summary_plot(report)\n"
   ]
  },
  {
   "cell_type": "code",
   "execution_count": 8,
   "metadata": {
    "scrolled": false
   },
   "outputs": [
    {
     "data": {
      "application/vnd.plotly.v1+json": {
       "config": {
        "plotlyServerURL": "https://plot.ly"
       },
       "data": [
        {
         "alignmentgroup": "True",
         "hovertemplate": "level_0=ep groups<br>level_1=%{x}<br>ic.mean=%{y}<extra></extra>",
         "legendgroup": "ep groups",
         "marker": {
          "color": "#636efa",
          "pattern": {
           "shape": ""
          }
         },
         "name": "ep groups",
         "offsetgroup": "ep groups",
         "orientation": "v",
         "showlegend": true,
         "textposition": "auto",
         "type": "bar",
         "x": [
          "low",
          "medium",
          "high",
          "total"
         ],
         "xaxis": "x",
         "y": [
          -0.0655,
          -0.047,
          -0.0281,
          -0.0492
         ],
         "yaxis": "y"
        },
        {
         "alignmentgroup": "True",
         "hovertemplate": "level_0=liquidity groups<br>level_1=%{x}<br>ic.mean=%{y}<extra></extra>",
         "legendgroup": "liquidity groups",
         "marker": {
          "color": "#EF553B",
          "pattern": {
           "shape": ""
          }
         },
         "name": "liquidity groups",
         "offsetgroup": "liquidity groups",
         "orientation": "v",
         "showlegend": true,
         "textposition": "auto",
         "type": "bar",
         "x": [
          "low",
          "medium",
          "high",
          "total"
         ],
         "xaxis": "x",
         "y": [
          -0.0551,
          -0.0353,
          -0.0388,
          -0.0492
         ],
         "yaxis": "y"
        }
       ],
       "layout": {
        "barmode": "group",
        "legend": {
         "title": {
          "text": "level_0"
         },
         "tracegroupgap": 0
        },
        "template": {
         "data": {
          "bar": [
           {
            "error_x": {
             "color": "#2a3f5f"
            },
            "error_y": {
             "color": "#2a3f5f"
            },
            "marker": {
             "line": {
              "color": "#E5ECF6",
              "width": 0.5
             },
             "pattern": {
              "fillmode": "overlay",
              "size": 10,
              "solidity": 0.2
             }
            },
            "type": "bar"
           }
          ],
          "barpolar": [
           {
            "marker": {
             "line": {
              "color": "#E5ECF6",
              "width": 0.5
             },
             "pattern": {
              "fillmode": "overlay",
              "size": 10,
              "solidity": 0.2
             }
            },
            "type": "barpolar"
           }
          ],
          "carpet": [
           {
            "aaxis": {
             "endlinecolor": "#2a3f5f",
             "gridcolor": "white",
             "linecolor": "white",
             "minorgridcolor": "white",
             "startlinecolor": "#2a3f5f"
            },
            "baxis": {
             "endlinecolor": "#2a3f5f",
             "gridcolor": "white",
             "linecolor": "white",
             "minorgridcolor": "white",
             "startlinecolor": "#2a3f5f"
            },
            "type": "carpet"
           }
          ],
          "choropleth": [
           {
            "colorbar": {
             "outlinewidth": 0,
             "ticks": ""
            },
            "type": "choropleth"
           }
          ],
          "contour": [
           {
            "colorbar": {
             "outlinewidth": 0,
             "ticks": ""
            },
            "colorscale": [
             [
              0,
              "#0d0887"
             ],
             [
              0.1111111111111111,
              "#46039f"
             ],
             [
              0.2222222222222222,
              "#7201a8"
             ],
             [
              0.3333333333333333,
              "#9c179e"
             ],
             [
              0.4444444444444444,
              "#bd3786"
             ],
             [
              0.5555555555555556,
              "#d8576b"
             ],
             [
              0.6666666666666666,
              "#ed7953"
             ],
             [
              0.7777777777777778,
              "#fb9f3a"
             ],
             [
              0.8888888888888888,
              "#fdca26"
             ],
             [
              1,
              "#f0f921"
             ]
            ],
            "type": "contour"
           }
          ],
          "contourcarpet": [
           {
            "colorbar": {
             "outlinewidth": 0,
             "ticks": ""
            },
            "type": "contourcarpet"
           }
          ],
          "heatmap": [
           {
            "colorbar": {
             "outlinewidth": 0,
             "ticks": ""
            },
            "colorscale": [
             [
              0,
              "#0d0887"
             ],
             [
              0.1111111111111111,
              "#46039f"
             ],
             [
              0.2222222222222222,
              "#7201a8"
             ],
             [
              0.3333333333333333,
              "#9c179e"
             ],
             [
              0.4444444444444444,
              "#bd3786"
             ],
             [
              0.5555555555555556,
              "#d8576b"
             ],
             [
              0.6666666666666666,
              "#ed7953"
             ],
             [
              0.7777777777777778,
              "#fb9f3a"
             ],
             [
              0.8888888888888888,
              "#fdca26"
             ],
             [
              1,
              "#f0f921"
             ]
            ],
            "type": "heatmap"
           }
          ],
          "heatmapgl": [
           {
            "colorbar": {
             "outlinewidth": 0,
             "ticks": ""
            },
            "colorscale": [
             [
              0,
              "#0d0887"
             ],
             [
              0.1111111111111111,
              "#46039f"
             ],
             [
              0.2222222222222222,
              "#7201a8"
             ],
             [
              0.3333333333333333,
              "#9c179e"
             ],
             [
              0.4444444444444444,
              "#bd3786"
             ],
             [
              0.5555555555555556,
              "#d8576b"
             ],
             [
              0.6666666666666666,
              "#ed7953"
             ],
             [
              0.7777777777777778,
              "#fb9f3a"
             ],
             [
              0.8888888888888888,
              "#fdca26"
             ],
             [
              1,
              "#f0f921"
             ]
            ],
            "type": "heatmapgl"
           }
          ],
          "histogram": [
           {
            "marker": {
             "pattern": {
              "fillmode": "overlay",
              "size": 10,
              "solidity": 0.2
             }
            },
            "type": "histogram"
           }
          ],
          "histogram2d": [
           {
            "colorbar": {
             "outlinewidth": 0,
             "ticks": ""
            },
            "colorscale": [
             [
              0,
              "#0d0887"
             ],
             [
              0.1111111111111111,
              "#46039f"
             ],
             [
              0.2222222222222222,
              "#7201a8"
             ],
             [
              0.3333333333333333,
              "#9c179e"
             ],
             [
              0.4444444444444444,
              "#bd3786"
             ],
             [
              0.5555555555555556,
              "#d8576b"
             ],
             [
              0.6666666666666666,
              "#ed7953"
             ],
             [
              0.7777777777777778,
              "#fb9f3a"
             ],
             [
              0.8888888888888888,
              "#fdca26"
             ],
             [
              1,
              "#f0f921"
             ]
            ],
            "type": "histogram2d"
           }
          ],
          "histogram2dcontour": [
           {
            "colorbar": {
             "outlinewidth": 0,
             "ticks": ""
            },
            "colorscale": [
             [
              0,
              "#0d0887"
             ],
             [
              0.1111111111111111,
              "#46039f"
             ],
             [
              0.2222222222222222,
              "#7201a8"
             ],
             [
              0.3333333333333333,
              "#9c179e"
             ],
             [
              0.4444444444444444,
              "#bd3786"
             ],
             [
              0.5555555555555556,
              "#d8576b"
             ],
             [
              0.6666666666666666,
              "#ed7953"
             ],
             [
              0.7777777777777778,
              "#fb9f3a"
             ],
             [
              0.8888888888888888,
              "#fdca26"
             ],
             [
              1,
              "#f0f921"
             ]
            ],
            "type": "histogram2dcontour"
           }
          ],
          "mesh3d": [
           {
            "colorbar": {
             "outlinewidth": 0,
             "ticks": ""
            },
            "type": "mesh3d"
           }
          ],
          "parcoords": [
           {
            "line": {
             "colorbar": {
              "outlinewidth": 0,
              "ticks": ""
             }
            },
            "type": "parcoords"
           }
          ],
          "pie": [
           {
            "automargin": true,
            "type": "pie"
           }
          ],
          "scatter": [
           {
            "fillpattern": {
             "fillmode": "overlay",
             "size": 10,
             "solidity": 0.2
            },
            "type": "scatter"
           }
          ],
          "scatter3d": [
           {
            "line": {
             "colorbar": {
              "outlinewidth": 0,
              "ticks": ""
             }
            },
            "marker": {
             "colorbar": {
              "outlinewidth": 0,
              "ticks": ""
             }
            },
            "type": "scatter3d"
           }
          ],
          "scattercarpet": [
           {
            "marker": {
             "colorbar": {
              "outlinewidth": 0,
              "ticks": ""
             }
            },
            "type": "scattercarpet"
           }
          ],
          "scattergeo": [
           {
            "marker": {
             "colorbar": {
              "outlinewidth": 0,
              "ticks": ""
             }
            },
            "type": "scattergeo"
           }
          ],
          "scattergl": [
           {
            "marker": {
             "colorbar": {
              "outlinewidth": 0,
              "ticks": ""
             }
            },
            "type": "scattergl"
           }
          ],
          "scattermapbox": [
           {
            "marker": {
             "colorbar": {
              "outlinewidth": 0,
              "ticks": ""
             }
            },
            "type": "scattermapbox"
           }
          ],
          "scatterpolar": [
           {
            "marker": {
             "colorbar": {
              "outlinewidth": 0,
              "ticks": ""
             }
            },
            "type": "scatterpolar"
           }
          ],
          "scatterpolargl": [
           {
            "marker": {
             "colorbar": {
              "outlinewidth": 0,
              "ticks": ""
             }
            },
            "type": "scatterpolargl"
           }
          ],
          "scatterternary": [
           {
            "marker": {
             "colorbar": {
              "outlinewidth": 0,
              "ticks": ""
             }
            },
            "type": "scatterternary"
           }
          ],
          "surface": [
           {
            "colorbar": {
             "outlinewidth": 0,
             "ticks": ""
            },
            "colorscale": [
             [
              0,
              "#0d0887"
             ],
             [
              0.1111111111111111,
              "#46039f"
             ],
             [
              0.2222222222222222,
              "#7201a8"
             ],
             [
              0.3333333333333333,
              "#9c179e"
             ],
             [
              0.4444444444444444,
              "#bd3786"
             ],
             [
              0.5555555555555556,
              "#d8576b"
             ],
             [
              0.6666666666666666,
              "#ed7953"
             ],
             [
              0.7777777777777778,
              "#fb9f3a"
             ],
             [
              0.8888888888888888,
              "#fdca26"
             ],
             [
              1,
              "#f0f921"
             ]
            ],
            "type": "surface"
           }
          ],
          "table": [
           {
            "cells": {
             "fill": {
              "color": "#EBF0F8"
             },
             "line": {
              "color": "white"
             }
            },
            "header": {
             "fill": {
              "color": "#C8D4E3"
             },
             "line": {
              "color": "white"
             }
            },
            "type": "table"
           }
          ]
         },
         "layout": {
          "annotationdefaults": {
           "arrowcolor": "#2a3f5f",
           "arrowhead": 0,
           "arrowwidth": 1
          },
          "autotypenumbers": "strict",
          "coloraxis": {
           "colorbar": {
            "outlinewidth": 0,
            "ticks": ""
           }
          },
          "colorscale": {
           "diverging": [
            [
             0,
             "#8e0152"
            ],
            [
             0.1,
             "#c51b7d"
            ],
            [
             0.2,
             "#de77ae"
            ],
            [
             0.3,
             "#f1b6da"
            ],
            [
             0.4,
             "#fde0ef"
            ],
            [
             0.5,
             "#f7f7f7"
            ],
            [
             0.6,
             "#e6f5d0"
            ],
            [
             0.7,
             "#b8e186"
            ],
            [
             0.8,
             "#7fbc41"
            ],
            [
             0.9,
             "#4d9221"
            ],
            [
             1,
             "#276419"
            ]
           ],
           "sequential": [
            [
             0,
             "#0d0887"
            ],
            [
             0.1111111111111111,
             "#46039f"
            ],
            [
             0.2222222222222222,
             "#7201a8"
            ],
            [
             0.3333333333333333,
             "#9c179e"
            ],
            [
             0.4444444444444444,
             "#bd3786"
            ],
            [
             0.5555555555555556,
             "#d8576b"
            ],
            [
             0.6666666666666666,
             "#ed7953"
            ],
            [
             0.7777777777777778,
             "#fb9f3a"
            ],
            [
             0.8888888888888888,
             "#fdca26"
            ],
            [
             1,
             "#f0f921"
            ]
           ],
           "sequentialminus": [
            [
             0,
             "#0d0887"
            ],
            [
             0.1111111111111111,
             "#46039f"
            ],
            [
             0.2222222222222222,
             "#7201a8"
            ],
            [
             0.3333333333333333,
             "#9c179e"
            ],
            [
             0.4444444444444444,
             "#bd3786"
            ],
            [
             0.5555555555555556,
             "#d8576b"
            ],
            [
             0.6666666666666666,
             "#ed7953"
            ],
            [
             0.7777777777777778,
             "#fb9f3a"
            ],
            [
             0.8888888888888888,
             "#fdca26"
            ],
            [
             1,
             "#f0f921"
            ]
           ]
          },
          "colorway": [
           "#636efa",
           "#EF553B",
           "#00cc96",
           "#ab63fa",
           "#FFA15A",
           "#19d3f3",
           "#FF6692",
           "#B6E880",
           "#FF97FF",
           "#FECB52"
          ],
          "font": {
           "color": "#2a3f5f"
          },
          "geo": {
           "bgcolor": "white",
           "lakecolor": "white",
           "landcolor": "#E5ECF6",
           "showlakes": true,
           "showland": true,
           "subunitcolor": "white"
          },
          "hoverlabel": {
           "align": "left"
          },
          "hovermode": "closest",
          "mapbox": {
           "style": "light"
          },
          "paper_bgcolor": "white",
          "plot_bgcolor": "#E5ECF6",
          "polar": {
           "angularaxis": {
            "gridcolor": "white",
            "linecolor": "white",
            "ticks": ""
           },
           "bgcolor": "#E5ECF6",
           "radialaxis": {
            "gridcolor": "white",
            "linecolor": "white",
            "ticks": ""
           }
          },
          "scene": {
           "xaxis": {
            "backgroundcolor": "#E5ECF6",
            "gridcolor": "white",
            "gridwidth": 2,
            "linecolor": "white",
            "showbackground": true,
            "ticks": "",
            "zerolinecolor": "white"
           },
           "yaxis": {
            "backgroundcolor": "#E5ECF6",
            "gridcolor": "white",
            "gridwidth": 2,
            "linecolor": "white",
            "showbackground": true,
            "ticks": "",
            "zerolinecolor": "white"
           },
           "zaxis": {
            "backgroundcolor": "#E5ECF6",
            "gridcolor": "white",
            "gridwidth": 2,
            "linecolor": "white",
            "showbackground": true,
            "ticks": "",
            "zerolinecolor": "white"
           }
          },
          "shapedefaults": {
           "line": {
            "color": "#2a3f5f"
           }
          },
          "ternary": {
           "aaxis": {
            "gridcolor": "white",
            "linecolor": "white",
            "ticks": ""
           },
           "baxis": {
            "gridcolor": "white",
            "linecolor": "white",
            "ticks": ""
           },
           "bgcolor": "#E5ECF6",
           "caxis": {
            "gridcolor": "white",
            "linecolor": "white",
            "ticks": ""
           }
          },
          "title": {
           "x": 0.05
          },
          "xaxis": {
           "automargin": true,
           "gridcolor": "white",
           "linecolor": "white",
           "ticks": "",
           "title": {
            "standoff": 15
           },
           "zerolinecolor": "white",
           "zerolinewidth": 2
          },
          "yaxis": {
           "automargin": true,
           "gridcolor": "white",
           "linecolor": "white",
           "ticks": "",
           "title": {
            "standoff": 15
           },
           "zerolinecolor": "white",
           "zerolinewidth": 2
          }
         }
        },
        "title": {
         "text": "ic of different ep & lquidity"
        },
        "xaxis": {
         "anchor": "y",
         "domain": [
          0,
          1
         ],
         "title": {
          "text": "level_1"
         }
        },
        "yaxis": {
         "anchor": "x",
         "domain": [
          0,
          1
         ],
         "title": {
          "text": "ic.mean"
         }
        }
       }
      },
      "text/html": [
       "<div>                            <div id=\"575139e7-32e8-44c9-bf39-9e07dfa63f03\" class=\"plotly-graph-div\" style=\"height:525px; width:100%;\"></div>            <script type=\"text/javascript\">                require([\"plotly\"], function(Plotly) {                    window.PLOTLYENV=window.PLOTLYENV || {};                                    if (document.getElementById(\"575139e7-32e8-44c9-bf39-9e07dfa63f03\")) {                    Plotly.newPlot(                        \"575139e7-32e8-44c9-bf39-9e07dfa63f03\",                        [{\"alignmentgroup\":\"True\",\"hovertemplate\":\"level_0=ep groups<br>level_1=%{x}<br>ic.mean=%{y}<extra></extra>\",\"legendgroup\":\"ep groups\",\"marker\":{\"color\":\"#636efa\",\"pattern\":{\"shape\":\"\"}},\"name\":\"ep groups\",\"offsetgroup\":\"ep groups\",\"orientation\":\"v\",\"showlegend\":true,\"textposition\":\"auto\",\"x\":[\"low\",\"medium\",\"high\",\"total\"],\"xaxis\":\"x\",\"y\":[-0.0655,-0.047,-0.0281,-0.0492],\"yaxis\":\"y\",\"type\":\"bar\"},{\"alignmentgroup\":\"True\",\"hovertemplate\":\"level_0=liquidity groups<br>level_1=%{x}<br>ic.mean=%{y}<extra></extra>\",\"legendgroup\":\"liquidity groups\",\"marker\":{\"color\":\"#EF553B\",\"pattern\":{\"shape\":\"\"}},\"name\":\"liquidity groups\",\"offsetgroup\":\"liquidity groups\",\"orientation\":\"v\",\"showlegend\":true,\"textposition\":\"auto\",\"x\":[\"low\",\"medium\",\"high\",\"total\"],\"xaxis\":\"x\",\"y\":[-0.0551,-0.0353,-0.0388,-0.0492],\"yaxis\":\"y\",\"type\":\"bar\"}],                        {\"template\":{\"data\":{\"histogram2dcontour\":[{\"type\":\"histogram2dcontour\",\"colorbar\":{\"outlinewidth\":0,\"ticks\":\"\"},\"colorscale\":[[0.0,\"#0d0887\"],[0.1111111111111111,\"#46039f\"],[0.2222222222222222,\"#7201a8\"],[0.3333333333333333,\"#9c179e\"],[0.4444444444444444,\"#bd3786\"],[0.5555555555555556,\"#d8576b\"],[0.6666666666666666,\"#ed7953\"],[0.7777777777777778,\"#fb9f3a\"],[0.8888888888888888,\"#fdca26\"],[1.0,\"#f0f921\"]]}],\"choropleth\":[{\"type\":\"choropleth\",\"colorbar\":{\"outlinewidth\":0,\"ticks\":\"\"}}],\"histogram2d\":[{\"type\":\"histogram2d\",\"colorbar\":{\"outlinewidth\":0,\"ticks\":\"\"},\"colorscale\":[[0.0,\"#0d0887\"],[0.1111111111111111,\"#46039f\"],[0.2222222222222222,\"#7201a8\"],[0.3333333333333333,\"#9c179e\"],[0.4444444444444444,\"#bd3786\"],[0.5555555555555556,\"#d8576b\"],[0.6666666666666666,\"#ed7953\"],[0.7777777777777778,\"#fb9f3a\"],[0.8888888888888888,\"#fdca26\"],[1.0,\"#f0f921\"]]}],\"heatmap\":[{\"type\":\"heatmap\",\"colorbar\":{\"outlinewidth\":0,\"ticks\":\"\"},\"colorscale\":[[0.0,\"#0d0887\"],[0.1111111111111111,\"#46039f\"],[0.2222222222222222,\"#7201a8\"],[0.3333333333333333,\"#9c179e\"],[0.4444444444444444,\"#bd3786\"],[0.5555555555555556,\"#d8576b\"],[0.6666666666666666,\"#ed7953\"],[0.7777777777777778,\"#fb9f3a\"],[0.8888888888888888,\"#fdca26\"],[1.0,\"#f0f921\"]]}],\"heatmapgl\":[{\"type\":\"heatmapgl\",\"colorbar\":{\"outlinewidth\":0,\"ticks\":\"\"},\"colorscale\":[[0.0,\"#0d0887\"],[0.1111111111111111,\"#46039f\"],[0.2222222222222222,\"#7201a8\"],[0.3333333333333333,\"#9c179e\"],[0.4444444444444444,\"#bd3786\"],[0.5555555555555556,\"#d8576b\"],[0.6666666666666666,\"#ed7953\"],[0.7777777777777778,\"#fb9f3a\"],[0.8888888888888888,\"#fdca26\"],[1.0,\"#f0f921\"]]}],\"contourcarpet\":[{\"type\":\"contourcarpet\",\"colorbar\":{\"outlinewidth\":0,\"ticks\":\"\"}}],\"contour\":[{\"type\":\"contour\",\"colorbar\":{\"outlinewidth\":0,\"ticks\":\"\"},\"colorscale\":[[0.0,\"#0d0887\"],[0.1111111111111111,\"#46039f\"],[0.2222222222222222,\"#7201a8\"],[0.3333333333333333,\"#9c179e\"],[0.4444444444444444,\"#bd3786\"],[0.5555555555555556,\"#d8576b\"],[0.6666666666666666,\"#ed7953\"],[0.7777777777777778,\"#fb9f3a\"],[0.8888888888888888,\"#fdca26\"],[1.0,\"#f0f921\"]]}],\"surface\":[{\"type\":\"surface\",\"colorbar\":{\"outlinewidth\":0,\"ticks\":\"\"},\"colorscale\":[[0.0,\"#0d0887\"],[0.1111111111111111,\"#46039f\"],[0.2222222222222222,\"#7201a8\"],[0.3333333333333333,\"#9c179e\"],[0.4444444444444444,\"#bd3786\"],[0.5555555555555556,\"#d8576b\"],[0.6666666666666666,\"#ed7953\"],[0.7777777777777778,\"#fb9f3a\"],[0.8888888888888888,\"#fdca26\"],[1.0,\"#f0f921\"]]}],\"mesh3d\":[{\"type\":\"mesh3d\",\"colorbar\":{\"outlinewidth\":0,\"ticks\":\"\"}}],\"scatter\":[{\"fillpattern\":{\"fillmode\":\"overlay\",\"size\":10,\"solidity\":0.2},\"type\":\"scatter\"}],\"parcoords\":[{\"type\":\"parcoords\",\"line\":{\"colorbar\":{\"outlinewidth\":0,\"ticks\":\"\"}}}],\"scatterpolargl\":[{\"type\":\"scatterpolargl\",\"marker\":{\"colorbar\":{\"outlinewidth\":0,\"ticks\":\"\"}}}],\"bar\":[{\"error_x\":{\"color\":\"#2a3f5f\"},\"error_y\":{\"color\":\"#2a3f5f\"},\"marker\":{\"line\":{\"color\":\"#E5ECF6\",\"width\":0.5},\"pattern\":{\"fillmode\":\"overlay\",\"size\":10,\"solidity\":0.2}},\"type\":\"bar\"}],\"scattergeo\":[{\"type\":\"scattergeo\",\"marker\":{\"colorbar\":{\"outlinewidth\":0,\"ticks\":\"\"}}}],\"scatterpolar\":[{\"type\":\"scatterpolar\",\"marker\":{\"colorbar\":{\"outlinewidth\":0,\"ticks\":\"\"}}}],\"histogram\":[{\"marker\":{\"pattern\":{\"fillmode\":\"overlay\",\"size\":10,\"solidity\":0.2}},\"type\":\"histogram\"}],\"scattergl\":[{\"type\":\"scattergl\",\"marker\":{\"colorbar\":{\"outlinewidth\":0,\"ticks\":\"\"}}}],\"scatter3d\":[{\"type\":\"scatter3d\",\"line\":{\"colorbar\":{\"outlinewidth\":0,\"ticks\":\"\"}},\"marker\":{\"colorbar\":{\"outlinewidth\":0,\"ticks\":\"\"}}}],\"scattermapbox\":[{\"type\":\"scattermapbox\",\"marker\":{\"colorbar\":{\"outlinewidth\":0,\"ticks\":\"\"}}}],\"scatterternary\":[{\"type\":\"scatterternary\",\"marker\":{\"colorbar\":{\"outlinewidth\":0,\"ticks\":\"\"}}}],\"scattercarpet\":[{\"type\":\"scattercarpet\",\"marker\":{\"colorbar\":{\"outlinewidth\":0,\"ticks\":\"\"}}}],\"carpet\":[{\"aaxis\":{\"endlinecolor\":\"#2a3f5f\",\"gridcolor\":\"white\",\"linecolor\":\"white\",\"minorgridcolor\":\"white\",\"startlinecolor\":\"#2a3f5f\"},\"baxis\":{\"endlinecolor\":\"#2a3f5f\",\"gridcolor\":\"white\",\"linecolor\":\"white\",\"minorgridcolor\":\"white\",\"startlinecolor\":\"#2a3f5f\"},\"type\":\"carpet\"}],\"table\":[{\"cells\":{\"fill\":{\"color\":\"#EBF0F8\"},\"line\":{\"color\":\"white\"}},\"header\":{\"fill\":{\"color\":\"#C8D4E3\"},\"line\":{\"color\":\"white\"}},\"type\":\"table\"}],\"barpolar\":[{\"marker\":{\"line\":{\"color\":\"#E5ECF6\",\"width\":0.5},\"pattern\":{\"fillmode\":\"overlay\",\"size\":10,\"solidity\":0.2}},\"type\":\"barpolar\"}],\"pie\":[{\"automargin\":true,\"type\":\"pie\"}]},\"layout\":{\"autotypenumbers\":\"strict\",\"colorway\":[\"#636efa\",\"#EF553B\",\"#00cc96\",\"#ab63fa\",\"#FFA15A\",\"#19d3f3\",\"#FF6692\",\"#B6E880\",\"#FF97FF\",\"#FECB52\"],\"font\":{\"color\":\"#2a3f5f\"},\"hovermode\":\"closest\",\"hoverlabel\":{\"align\":\"left\"},\"paper_bgcolor\":\"white\",\"plot_bgcolor\":\"#E5ECF6\",\"polar\":{\"bgcolor\":\"#E5ECF6\",\"angularaxis\":{\"gridcolor\":\"white\",\"linecolor\":\"white\",\"ticks\":\"\"},\"radialaxis\":{\"gridcolor\":\"white\",\"linecolor\":\"white\",\"ticks\":\"\"}},\"ternary\":{\"bgcolor\":\"#E5ECF6\",\"aaxis\":{\"gridcolor\":\"white\",\"linecolor\":\"white\",\"ticks\":\"\"},\"baxis\":{\"gridcolor\":\"white\",\"linecolor\":\"white\",\"ticks\":\"\"},\"caxis\":{\"gridcolor\":\"white\",\"linecolor\":\"white\",\"ticks\":\"\"}},\"coloraxis\":{\"colorbar\":{\"outlinewidth\":0,\"ticks\":\"\"}},\"colorscale\":{\"sequential\":[[0.0,\"#0d0887\"],[0.1111111111111111,\"#46039f\"],[0.2222222222222222,\"#7201a8\"],[0.3333333333333333,\"#9c179e\"],[0.4444444444444444,\"#bd3786\"],[0.5555555555555556,\"#d8576b\"],[0.6666666666666666,\"#ed7953\"],[0.7777777777777778,\"#fb9f3a\"],[0.8888888888888888,\"#fdca26\"],[1.0,\"#f0f921\"]],\"sequentialminus\":[[0.0,\"#0d0887\"],[0.1111111111111111,\"#46039f\"],[0.2222222222222222,\"#7201a8\"],[0.3333333333333333,\"#9c179e\"],[0.4444444444444444,\"#bd3786\"],[0.5555555555555556,\"#d8576b\"],[0.6666666666666666,\"#ed7953\"],[0.7777777777777778,\"#fb9f3a\"],[0.8888888888888888,\"#fdca26\"],[1.0,\"#f0f921\"]],\"diverging\":[[0,\"#8e0152\"],[0.1,\"#c51b7d\"],[0.2,\"#de77ae\"],[0.3,\"#f1b6da\"],[0.4,\"#fde0ef\"],[0.5,\"#f7f7f7\"],[0.6,\"#e6f5d0\"],[0.7,\"#b8e186\"],[0.8,\"#7fbc41\"],[0.9,\"#4d9221\"],[1,\"#276419\"]]},\"xaxis\":{\"gridcolor\":\"white\",\"linecolor\":\"white\",\"ticks\":\"\",\"title\":{\"standoff\":15},\"zerolinecolor\":\"white\",\"automargin\":true,\"zerolinewidth\":2},\"yaxis\":{\"gridcolor\":\"white\",\"linecolor\":\"white\",\"ticks\":\"\",\"title\":{\"standoff\":15},\"zerolinecolor\":\"white\",\"automargin\":true,\"zerolinewidth\":2},\"scene\":{\"xaxis\":{\"backgroundcolor\":\"#E5ECF6\",\"gridcolor\":\"white\",\"linecolor\":\"white\",\"showbackground\":true,\"ticks\":\"\",\"zerolinecolor\":\"white\",\"gridwidth\":2},\"yaxis\":{\"backgroundcolor\":\"#E5ECF6\",\"gridcolor\":\"white\",\"linecolor\":\"white\",\"showbackground\":true,\"ticks\":\"\",\"zerolinecolor\":\"white\",\"gridwidth\":2},\"zaxis\":{\"backgroundcolor\":\"#E5ECF6\",\"gridcolor\":\"white\",\"linecolor\":\"white\",\"showbackground\":true,\"ticks\":\"\",\"zerolinecolor\":\"white\",\"gridwidth\":2}},\"shapedefaults\":{\"line\":{\"color\":\"#2a3f5f\"}},\"annotationdefaults\":{\"arrowcolor\":\"#2a3f5f\",\"arrowhead\":0,\"arrowwidth\":1},\"geo\":{\"bgcolor\":\"white\",\"landcolor\":\"#E5ECF6\",\"subunitcolor\":\"white\",\"showland\":true,\"showlakes\":true,\"lakecolor\":\"white\"},\"title\":{\"x\":0.05},\"mapbox\":{\"style\":\"light\"}}},\"xaxis\":{\"anchor\":\"y\",\"domain\":[0.0,1.0],\"title\":{\"text\":\"level_1\"}},\"yaxis\":{\"anchor\":\"x\",\"domain\":[0.0,1.0],\"title\":{\"text\":\"ic.mean\"}},\"legend\":{\"title\":{\"text\":\"level_0\"},\"tracegroupgap\":0},\"title\":{\"text\":\"ic of different ep & lquidity\"},\"barmode\":\"group\"},                        {\"responsive\": true}                    ).then(function(){\n",
       "                            \n",
       "var gd = document.getElementById('575139e7-32e8-44c9-bf39-9e07dfa63f03');\n",
       "var x = new MutationObserver(function (mutations, observer) {{\n",
       "        var display = window.getComputedStyle(gd).display;\n",
       "        if (!display || display === 'none') {{\n",
       "            console.log([gd, 'removed!']);\n",
       "            Plotly.purge(gd);\n",
       "            observer.disconnect();\n",
       "        }}\n",
       "}});\n",
       "\n",
       "// Listen for the removal of the full notebook cells\n",
       "var notebookContainer = gd.closest('#notebook-container');\n",
       "if (notebookContainer) {{\n",
       "    x.observe(notebookContainer, {childList: true});\n",
       "}}\n",
       "\n",
       "// Listen for the clearing of the current output cell\n",
       "var outputEl = gd.closest('.output');\n",
       "if (outputEl) {{\n",
       "    x.observe(outputEl, {childList: true});\n",
       "}}\n",
       "\n",
       "                        })                };                });            </script>        </div>"
      ]
     },
     "metadata": {},
     "output_type": "display_data"
    }
   ],
   "source": [
    "group_ic = fe.factor_ana(factor=factor,ep_group=ep_group,liquidity_group=liquidity_group,add_shift=0,base='close')\n",
    "bar = px.bar(group_ic['ic.mean'].reset_index(),x='level_1',y='ic.mean',color='level_0',barmode='group',title='ic of different ep & lquidity')\n",
    "bar.show()\n",
    "\n"
   ]
  },
  {
   "cell_type": "code",
   "execution_count": null,
   "metadata": {},
   "outputs": [],
   "source": []
  }
 ],
 "metadata": {
  "kernelspec": {
   "display_name": "trading",
   "language": "python",
   "name": "trading"
  },
  "language_info": {
   "codemirror_mode": {
    "name": "ipython",
    "version": 3
   },
   "file_extension": ".py",
   "mimetype": "text/x-python",
   "name": "python",
   "nbconvert_exporter": "python",
   "pygments_lexer": "ipython3",
   "version": "3.8.13"
  }
 },
 "nbformat": 4,
 "nbformat_minor": 2
}
