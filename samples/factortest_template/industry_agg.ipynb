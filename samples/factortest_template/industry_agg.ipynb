{
 "cells": [
  {
   "cell_type": "code",
   "execution_count": 3,
   "metadata": {},
   "outputs": [],
   "source": [
    "# get ic decay\n",
    "from get_data import get_data,bars\n",
    "from singletrader.processors.cs_processor import CsWinzorize\n",
    "from singletrader.shared.utility import save_pkl\n",
    "from singletrader.factorlib import FactorEvaluation,summary_plot\n",
    "import pandas as pd\n",
    "import plotly.express as px\n",
    "from plotly.figure_factory import create_table\n",
    "import warnings\n",
    "warnings.filterwarnings('ignore')\n",
    "from singletrader.processors.cs_processor import IndAggregation,CsWinzorize,CsStandardize\n",
    "from singletrader.constant import get_industry_cons\n",
    "import pandas as pd"
   ]
  },
  {
   "cell_type": "code",
   "execution_count": 2,
   "metadata": {},
   "outputs": [],
   "source": [
    "data = get_data().dropna()\n",
    "Ind_info = get_industry_cons(name='sw_l2')\n",
    "# 获取因子列表，剔除行情数据\n",
    "features = [_f for _f in data.columns if _f not in bars] + ['ep']#['circulating_market_cap']\n",
    "features_with_mv = features + ['circulating_market_cap']\n",
    "\n",
    "\n",
    "cs_win = CsWinzorize(method='qtile',k=0.01) # 极值处理器\n",
    "cs_std = CsStandardize() # 标准化处理器 默认z-socre\n",
    "ind_agg = IndAggregation() #创建IndAggregation对象（自建类用于行业聚合处理）\n",
    "\n",
    "# mom1M收益合成行业价格序列（cap）\n",
    "return1m_ind_agg_cap = ind_agg(data[['mom1M','circulating_market_cap']],weights='circulating_market_cap',ind_info=Ind_info)\n",
    "price_ind_cap = (1+return1m_ind_agg_cap['mom1M'].unstack()).cumprod().stack()\n",
    "\n",
    "\n",
    "\n",
    "# mom1M收益合成行业价格序列（eq）\n",
    "return1m_ind_agg_eq = ind_agg(data[['mom1M']],weights='eq',ind_info=Ind_info)\n",
    "price_ind_eq = (1+return1m_ind_agg_eq['mom1M'].unstack()).cumprod().stack()\n",
    "\n",
    "\n",
    "data[features] = cs_win(data[features]) # 极值处理\n",
    "# data[features] = cs_std(data[features]) # z-score\n",
    "\n",
    "\n",
    "\n",
    "# 因子数据聚合(eq)\n",
    "ind_agg_data_eq = ind_agg(data,weights='eq',ind_info=Ind_info)[features]\n",
    "# 因子数据聚合(cap)\n",
    "ind_agg_data_cap = ind_agg(data,weights='circulating_market_cap',ind_info=Ind_info)[features]\n",
    "\n",
    "# 将合成的价格数据转为pd.DataFrame\n",
    "price_ind_eq = pd.DataFrame(price_ind_eq,columns=['close'])\n",
    "price_ind_cap = pd.DataFrame(price_ind_cap,columns=['close'])\n",
    "\n",
    "\n"
   ]
  },
  {
   "cell_type": "markdown",
   "metadata": {},
   "source": [
    "# Tips\n",
    "-   因子处理在聚合前完成，聚合后的行业级别因子未进行任何处理\n",
    "-   行业的价格数据时使用行业成分股分别根据等权和市值加权收益合成\n",
    "-   在计算市值加权的聚合因子时，使用当月收盘市值作为权重计算依据\n",
    "-   历史行业信息缺失，用当前最新状态下的行业信息往前填充\n",
    "-   共计31个行业，groups = 10意味最高/最低组别拥有3-4个行业"
   ]
  },
  {
   "cell_type": "code",
   "execution_count": 3,
   "metadata": {},
   "outputs": [
    {
     "data": {
      "application/vnd.plotly.v1+json": {
       "config": {
        "plotlyServerURL": "https://plot.ly"
       },
       "data": [
        {
         "alignmentgroup": "True",
         "hovertemplate": "variable=industry_name<br>index=%{x}<br>value=%{y}<extra></extra>",
         "legendgroup": "industry_name",
         "marker": {
          "color": "#636efa",
          "pattern": {
           "shape": ""
          }
         },
         "name": "industry_name",
         "offsetgroup": "industry_name",
         "orientation": "v",
         "showlegend": true,
         "textposition": "auto",
         "type": "bar",
         "x": [
          "汽车零部件II",
          "通用机械II",
          "专用设备II",
          "化学制品II",
          "化学制药II",
          "半导体II",
          "软件开发II",
          "IT服务II",
          "电网设备II",
          "医疗器械II",
          "房地产开发II",
          "环境治理II",
          "电力II",
          "光学光电子II",
          "电子制造II",
          "通信设备II",
          "计算机设备II",
          "电池II",
          "中药II",
          "自动化设备II",
          "塑料II",
          "家用轻工II",
          "一般零售II",
          "服装家纺II",
          "工业金属II",
          "农化制品II",
          "军工电子II",
          "化学原料II",
          "元件II",
          "证券II",
          "生物制品II",
          "基础建设II",
          "光伏设备II",
          "医疗服务II",
          "物流II",
          "航空装备II",
          "包装印刷II",
          "专业工程II",
          "工程咨询服务II",
          "通信运营II",
          "纺织制造II",
          "其他电子II",
          "其他建材II",
          "航运港口II",
          "铁路公路II",
          "多元金融II",
          "医药商业II",
          "游戏II",
          "广告营销II",
          "运输设备II",
          "燃气II",
          "炼化及贸易II",
          "煤炭开采II",
          "出版II",
          "环保设备II",
          "饮料乳品II",
          "电子化学品II",
          "电源设备II",
          "金属非金属新材料II",
          "风电设备II",
          "水泥制造II",
          "装修装饰II",
          "稀有金属II",
          "普钢II",
          "家电零部件II",
          "综合II",
          "农产品加工II",
          "工程机械II",
          "造纸II",
          "畜禽养殖II",
          "专业服务II",
          "化学纤维II",
          "影视院线II",
          "食品加工II",
          "文娱用品II",
          "休闲食品II",
          "白酒II",
          "种植业II",
          "小家电II",
          "电机II",
          "互联网电商II",
          "教育II",
          "旅游及景区II",
          "饰品II",
          "城商行II",
          "非白酒II",
          "其他交运设备II",
          "商用车II",
          "玻璃制造II",
          "饲料II",
          "橡胶II",
          "调味发酵品II",
          "黄金II",
          "油服工程II",
          "汽车服务II",
          "能源金属II",
          "特钢II",
          "个护用品II",
          "数字媒体II",
          "化妆品II",
          "航空机场II",
          "电视广播II",
          "贸易II",
          "船舶制造II",
          "视听器材II",
          "动物保健II",
          "农商行II",
          "白色家电II",
          "冶钢原料II",
          "酒店餐饮II",
          "厨卫电器II",
          "地面兵装II",
          "房地产服务II",
          "股份制银行II",
          "焦炭II",
          "房屋建设II",
          "乘用车II",
          "照明设备II",
          "专业零售II",
          "航天装备II",
          "非金属材料II",
          "国有大型银行II",
          "渔业II",
          "保险II",
          "油气开采II",
          "体育II",
          "林业II",
          "医疗美容II",
          "其他家电II",
          "农业综合II",
          "旅游零售II"
         ],
         "xaxis": "x",
         "y": [
          199,
          196,
          164,
          154,
          150,
          126,
          125,
          123,
          122,
          115,
          106,
          100,
          93,
          91,
          88,
          84,
          81,
          77,
          72,
          70,
          66,
          65,
          64,
          60,
          59,
          56,
          56,
          55,
          51,
          50,
          50,
          49,
          48,
          45,
          45,
          42,
          41,
          41,
          38,
          37,
          37,
          37,
          35,
          34,
          34,
          33,
          33,
          32,
          32,
          30,
          30,
          29,
          29,
          29,
          27,
          27,
          27,
          26,
          25,
          25,
          25,
          24,
          24,
          24,
          24,
          24,
          23,
          23,
          22,
          22,
          22,
          22,
          22,
          21,
          21,
          21,
          20,
          20,
          19,
          19,
          19,
          19,
          19,
          17,
          17,
          16,
          16,
          15,
          15,
          15,
          15,
          14,
          14,
          14,
          14,
          13,
          13,
          13,
          13,
          13,
          12,
          12,
          12,
          11,
          11,
          10,
          10,
          9,
          9,
          9,
          9,
          9,
          9,
          9,
          9,
          8,
          8,
          8,
          8,
          7,
          7,
          6,
          6,
          6,
          4,
          4,
          4,
          3,
          3,
          2,
          1
         ],
         "yaxis": "y"
        }
       ],
       "layout": {
        "barmode": "relative",
        "legend": {
         "title": {
          "text": "variable"
         },
         "tracegroupgap": 0
        },
        "template": {
         "data": {
          "bar": [
           {
            "error_x": {
             "color": "#2a3f5f"
            },
            "error_y": {
             "color": "#2a3f5f"
            },
            "marker": {
             "line": {
              "color": "#E5ECF6",
              "width": 0.5
             },
             "pattern": {
              "fillmode": "overlay",
              "size": 10,
              "solidity": 0.2
             }
            },
            "type": "bar"
           }
          ],
          "barpolar": [
           {
            "marker": {
             "line": {
              "color": "#E5ECF6",
              "width": 0.5
             },
             "pattern": {
              "fillmode": "overlay",
              "size": 10,
              "solidity": 0.2
             }
            },
            "type": "barpolar"
           }
          ],
          "carpet": [
           {
            "aaxis": {
             "endlinecolor": "#2a3f5f",
             "gridcolor": "white",
             "linecolor": "white",
             "minorgridcolor": "white",
             "startlinecolor": "#2a3f5f"
            },
            "baxis": {
             "endlinecolor": "#2a3f5f",
             "gridcolor": "white",
             "linecolor": "white",
             "minorgridcolor": "white",
             "startlinecolor": "#2a3f5f"
            },
            "type": "carpet"
           }
          ],
          "choropleth": [
           {
            "colorbar": {
             "outlinewidth": 0,
             "ticks": ""
            },
            "type": "choropleth"
           }
          ],
          "contour": [
           {
            "colorbar": {
             "outlinewidth": 0,
             "ticks": ""
            },
            "colorscale": [
             [
              0,
              "#0d0887"
             ],
             [
              0.1111111111111111,
              "#46039f"
             ],
             [
              0.2222222222222222,
              "#7201a8"
             ],
             [
              0.3333333333333333,
              "#9c179e"
             ],
             [
              0.4444444444444444,
              "#bd3786"
             ],
             [
              0.5555555555555556,
              "#d8576b"
             ],
             [
              0.6666666666666666,
              "#ed7953"
             ],
             [
              0.7777777777777778,
              "#fb9f3a"
             ],
             [
              0.8888888888888888,
              "#fdca26"
             ],
             [
              1,
              "#f0f921"
             ]
            ],
            "type": "contour"
           }
          ],
          "contourcarpet": [
           {
            "colorbar": {
             "outlinewidth": 0,
             "ticks": ""
            },
            "type": "contourcarpet"
           }
          ],
          "heatmap": [
           {
            "colorbar": {
             "outlinewidth": 0,
             "ticks": ""
            },
            "colorscale": [
             [
              0,
              "#0d0887"
             ],
             [
              0.1111111111111111,
              "#46039f"
             ],
             [
              0.2222222222222222,
              "#7201a8"
             ],
             [
              0.3333333333333333,
              "#9c179e"
             ],
             [
              0.4444444444444444,
              "#bd3786"
             ],
             [
              0.5555555555555556,
              "#d8576b"
             ],
             [
              0.6666666666666666,
              "#ed7953"
             ],
             [
              0.7777777777777778,
              "#fb9f3a"
             ],
             [
              0.8888888888888888,
              "#fdca26"
             ],
             [
              1,
              "#f0f921"
             ]
            ],
            "type": "heatmap"
           }
          ],
          "heatmapgl": [
           {
            "colorbar": {
             "outlinewidth": 0,
             "ticks": ""
            },
            "colorscale": [
             [
              0,
              "#0d0887"
             ],
             [
              0.1111111111111111,
              "#46039f"
             ],
             [
              0.2222222222222222,
              "#7201a8"
             ],
             [
              0.3333333333333333,
              "#9c179e"
             ],
             [
              0.4444444444444444,
              "#bd3786"
             ],
             [
              0.5555555555555556,
              "#d8576b"
             ],
             [
              0.6666666666666666,
              "#ed7953"
             ],
             [
              0.7777777777777778,
              "#fb9f3a"
             ],
             [
              0.8888888888888888,
              "#fdca26"
             ],
             [
              1,
              "#f0f921"
             ]
            ],
            "type": "heatmapgl"
           }
          ],
          "histogram": [
           {
            "marker": {
             "pattern": {
              "fillmode": "overlay",
              "size": 10,
              "solidity": 0.2
             }
            },
            "type": "histogram"
           }
          ],
          "histogram2d": [
           {
            "colorbar": {
             "outlinewidth": 0,
             "ticks": ""
            },
            "colorscale": [
             [
              0,
              "#0d0887"
             ],
             [
              0.1111111111111111,
              "#46039f"
             ],
             [
              0.2222222222222222,
              "#7201a8"
             ],
             [
              0.3333333333333333,
              "#9c179e"
             ],
             [
              0.4444444444444444,
              "#bd3786"
             ],
             [
              0.5555555555555556,
              "#d8576b"
             ],
             [
              0.6666666666666666,
              "#ed7953"
             ],
             [
              0.7777777777777778,
              "#fb9f3a"
             ],
             [
              0.8888888888888888,
              "#fdca26"
             ],
             [
              1,
              "#f0f921"
             ]
            ],
            "type": "histogram2d"
           }
          ],
          "histogram2dcontour": [
           {
            "colorbar": {
             "outlinewidth": 0,
             "ticks": ""
            },
            "colorscale": [
             [
              0,
              "#0d0887"
             ],
             [
              0.1111111111111111,
              "#46039f"
             ],
             [
              0.2222222222222222,
              "#7201a8"
             ],
             [
              0.3333333333333333,
              "#9c179e"
             ],
             [
              0.4444444444444444,
              "#bd3786"
             ],
             [
              0.5555555555555556,
              "#d8576b"
             ],
             [
              0.6666666666666666,
              "#ed7953"
             ],
             [
              0.7777777777777778,
              "#fb9f3a"
             ],
             [
              0.8888888888888888,
              "#fdca26"
             ],
             [
              1,
              "#f0f921"
             ]
            ],
            "type": "histogram2dcontour"
           }
          ],
          "mesh3d": [
           {
            "colorbar": {
             "outlinewidth": 0,
             "ticks": ""
            },
            "type": "mesh3d"
           }
          ],
          "parcoords": [
           {
            "line": {
             "colorbar": {
              "outlinewidth": 0,
              "ticks": ""
             }
            },
            "type": "parcoords"
           }
          ],
          "pie": [
           {
            "automargin": true,
            "type": "pie"
           }
          ],
          "scatter": [
           {
            "fillpattern": {
             "fillmode": "overlay",
             "size": 10,
             "solidity": 0.2
            },
            "type": "scatter"
           }
          ],
          "scatter3d": [
           {
            "line": {
             "colorbar": {
              "outlinewidth": 0,
              "ticks": ""
             }
            },
            "marker": {
             "colorbar": {
              "outlinewidth": 0,
              "ticks": ""
             }
            },
            "type": "scatter3d"
           }
          ],
          "scattercarpet": [
           {
            "marker": {
             "colorbar": {
              "outlinewidth": 0,
              "ticks": ""
             }
            },
            "type": "scattercarpet"
           }
          ],
          "scattergeo": [
           {
            "marker": {
             "colorbar": {
              "outlinewidth": 0,
              "ticks": ""
             }
            },
            "type": "scattergeo"
           }
          ],
          "scattergl": [
           {
            "marker": {
             "colorbar": {
              "outlinewidth": 0,
              "ticks": ""
             }
            },
            "type": "scattergl"
           }
          ],
          "scattermapbox": [
           {
            "marker": {
             "colorbar": {
              "outlinewidth": 0,
              "ticks": ""
             }
            },
            "type": "scattermapbox"
           }
          ],
          "scatterpolar": [
           {
            "marker": {
             "colorbar": {
              "outlinewidth": 0,
              "ticks": ""
             }
            },
            "type": "scatterpolar"
           }
          ],
          "scatterpolargl": [
           {
            "marker": {
             "colorbar": {
              "outlinewidth": 0,
              "ticks": ""
             }
            },
            "type": "scatterpolargl"
           }
          ],
          "scatterternary": [
           {
            "marker": {
             "colorbar": {
              "outlinewidth": 0,
              "ticks": ""
             }
            },
            "type": "scatterternary"
           }
          ],
          "surface": [
           {
            "colorbar": {
             "outlinewidth": 0,
             "ticks": ""
            },
            "colorscale": [
             [
              0,
              "#0d0887"
             ],
             [
              0.1111111111111111,
              "#46039f"
             ],
             [
              0.2222222222222222,
              "#7201a8"
             ],
             [
              0.3333333333333333,
              "#9c179e"
             ],
             [
              0.4444444444444444,
              "#bd3786"
             ],
             [
              0.5555555555555556,
              "#d8576b"
             ],
             [
              0.6666666666666666,
              "#ed7953"
             ],
             [
              0.7777777777777778,
              "#fb9f3a"
             ],
             [
              0.8888888888888888,
              "#fdca26"
             ],
             [
              1,
              "#f0f921"
             ]
            ],
            "type": "surface"
           }
          ],
          "table": [
           {
            "cells": {
             "fill": {
              "color": "#EBF0F8"
             },
             "line": {
              "color": "white"
             }
            },
            "header": {
             "fill": {
              "color": "#C8D4E3"
             },
             "line": {
              "color": "white"
             }
            },
            "type": "table"
           }
          ]
         },
         "layout": {
          "annotationdefaults": {
           "arrowcolor": "#2a3f5f",
           "arrowhead": 0,
           "arrowwidth": 1
          },
          "autotypenumbers": "strict",
          "coloraxis": {
           "colorbar": {
            "outlinewidth": 0,
            "ticks": ""
           }
          },
          "colorscale": {
           "diverging": [
            [
             0,
             "#8e0152"
            ],
            [
             0.1,
             "#c51b7d"
            ],
            [
             0.2,
             "#de77ae"
            ],
            [
             0.3,
             "#f1b6da"
            ],
            [
             0.4,
             "#fde0ef"
            ],
            [
             0.5,
             "#f7f7f7"
            ],
            [
             0.6,
             "#e6f5d0"
            ],
            [
             0.7,
             "#b8e186"
            ],
            [
             0.8,
             "#7fbc41"
            ],
            [
             0.9,
             "#4d9221"
            ],
            [
             1,
             "#276419"
            ]
           ],
           "sequential": [
            [
             0,
             "#0d0887"
            ],
            [
             0.1111111111111111,
             "#46039f"
            ],
            [
             0.2222222222222222,
             "#7201a8"
            ],
            [
             0.3333333333333333,
             "#9c179e"
            ],
            [
             0.4444444444444444,
             "#bd3786"
            ],
            [
             0.5555555555555556,
             "#d8576b"
            ],
            [
             0.6666666666666666,
             "#ed7953"
            ],
            [
             0.7777777777777778,
             "#fb9f3a"
            ],
            [
             0.8888888888888888,
             "#fdca26"
            ],
            [
             1,
             "#f0f921"
            ]
           ],
           "sequentialminus": [
            [
             0,
             "#0d0887"
            ],
            [
             0.1111111111111111,
             "#46039f"
            ],
            [
             0.2222222222222222,
             "#7201a8"
            ],
            [
             0.3333333333333333,
             "#9c179e"
            ],
            [
             0.4444444444444444,
             "#bd3786"
            ],
            [
             0.5555555555555556,
             "#d8576b"
            ],
            [
             0.6666666666666666,
             "#ed7953"
            ],
            [
             0.7777777777777778,
             "#fb9f3a"
            ],
            [
             0.8888888888888888,
             "#fdca26"
            ],
            [
             1,
             "#f0f921"
            ]
           ]
          },
          "colorway": [
           "#636efa",
           "#EF553B",
           "#00cc96",
           "#ab63fa",
           "#FFA15A",
           "#19d3f3",
           "#FF6692",
           "#B6E880",
           "#FF97FF",
           "#FECB52"
          ],
          "font": {
           "color": "#2a3f5f"
          },
          "geo": {
           "bgcolor": "white",
           "lakecolor": "white",
           "landcolor": "#E5ECF6",
           "showlakes": true,
           "showland": true,
           "subunitcolor": "white"
          },
          "hoverlabel": {
           "align": "left"
          },
          "hovermode": "closest",
          "mapbox": {
           "style": "light"
          },
          "paper_bgcolor": "white",
          "plot_bgcolor": "#E5ECF6",
          "polar": {
           "angularaxis": {
            "gridcolor": "white",
            "linecolor": "white",
            "ticks": ""
           },
           "bgcolor": "#E5ECF6",
           "radialaxis": {
            "gridcolor": "white",
            "linecolor": "white",
            "ticks": ""
           }
          },
          "scene": {
           "xaxis": {
            "backgroundcolor": "#E5ECF6",
            "gridcolor": "white",
            "gridwidth": 2,
            "linecolor": "white",
            "showbackground": true,
            "ticks": "",
            "zerolinecolor": "white"
           },
           "yaxis": {
            "backgroundcolor": "#E5ECF6",
            "gridcolor": "white",
            "gridwidth": 2,
            "linecolor": "white",
            "showbackground": true,
            "ticks": "",
            "zerolinecolor": "white"
           },
           "zaxis": {
            "backgroundcolor": "#E5ECF6",
            "gridcolor": "white",
            "gridwidth": 2,
            "linecolor": "white",
            "showbackground": true,
            "ticks": "",
            "zerolinecolor": "white"
           }
          },
          "shapedefaults": {
           "line": {
            "color": "#2a3f5f"
           }
          },
          "ternary": {
           "aaxis": {
            "gridcolor": "white",
            "linecolor": "white",
            "ticks": ""
           },
           "baxis": {
            "gridcolor": "white",
            "linecolor": "white",
            "ticks": ""
           },
           "bgcolor": "#E5ECF6",
           "caxis": {
            "gridcolor": "white",
            "linecolor": "white",
            "ticks": ""
           }
          },
          "title": {
           "x": 0.05
          },
          "xaxis": {
           "automargin": true,
           "gridcolor": "white",
           "linecolor": "white",
           "ticks": "",
           "title": {
            "standoff": 15
           },
           "zerolinecolor": "white",
           "zerolinewidth": 2
          },
          "yaxis": {
           "automargin": true,
           "gridcolor": "white",
           "linecolor": "white",
           "ticks": "",
           "title": {
            "standoff": 15
           },
           "zerolinecolor": "white",
           "zerolinewidth": 2
          }
         }
        },
        "title": {
         "text": "count of different industries"
        },
        "xaxis": {
         "anchor": "y",
         "domain": [
          0,
          1
         ],
         "title": {
          "text": "index"
         }
        },
        "yaxis": {
         "anchor": "x",
         "domain": [
          0,
          1
         ],
         "title": {
          "text": "value"
         }
        }
       }
      }
     },
     "metadata": {},
     "output_type": "display_data"
    }
   ],
   "source": [
    "# 行业分布情况\n",
    "px.bar(Ind_info.groupby(Ind_info).count().sort_values(ascending=False),title='count of different industries')"
   ]
  },
  {
   "cell_type": "markdown",
   "metadata": {},
   "source": [
    "# industry aggregation summary(eq)"
   ]
  },
  {
   "cell_type": "code",
   "execution_count": 4,
   "metadata": {},
   "outputs": [
    {
     "name": "stdout",
     "output_type": "stream",
     "text": [
      "start_date:2010-01-01 / end_date:2022-12-31\n"
     ]
    },
    {
     "data": {
      "text/html": [
       "<div>\n",
       "<style scoped>\n",
       "    .dataframe tbody tr th:only-of-type {\n",
       "        vertical-align: middle;\n",
       "    }\n",
       "\n",
       "    .dataframe tbody tr th {\n",
       "        vertical-align: top;\n",
       "    }\n",
       "\n",
       "    .dataframe thead th {\n",
       "        text-align: right;\n",
       "    }\n",
       "</style>\n",
       "<table border=\"1\" class=\"dataframe\">\n",
       "  <thead>\n",
       "    <tr style=\"text-align: right;\">\n",
       "      <th></th>\n",
       "      <th>skew</th>\n",
       "      <th>adjskew</th>\n",
       "      <th>distance</th>\n",
       "      <th>mom6x3</th>\n",
       "      <th>mom9x3</th>\n",
       "      <th>mom12x3</th>\n",
       "      <th>mom1M</th>\n",
       "      <th>mom2M</th>\n",
       "      <th>mom3M</th>\n",
       "      <th>mom6M</th>\n",
       "      <th>turnover3M</th>\n",
       "      <th>amount3M</th>\n",
       "      <th>stddev_diff</th>\n",
       "      <th>stddev</th>\n",
       "      <th>ep</th>\n",
       "    </tr>\n",
       "  </thead>\n",
       "  <tbody>\n",
       "    <tr>\n",
       "      <th>ic.mean</th>\n",
       "      <td>-0.0151</td>\n",
       "      <td>-0.0139</td>\n",
       "      <td>-0.0236</td>\n",
       "      <td>0.0105</td>\n",
       "      <td>0.0308</td>\n",
       "      <td>0.0384</td>\n",
       "      <td>-0.0087</td>\n",
       "      <td>-0.0239</td>\n",
       "      <td>-0.0207</td>\n",
       "      <td>-0.0118</td>\n",
       "      <td>-0.0266</td>\n",
       "      <td>-0.0266</td>\n",
       "      <td>0.0093</td>\n",
       "      <td>-0.0142</td>\n",
       "      <td>-0.0094</td>\n",
       "    </tr>\n",
       "    <tr>\n",
       "      <th>ic.t-stats</th>\n",
       "      <td>-1.1654</td>\n",
       "      <td>-1.0935</td>\n",
       "      <td>-1.2582</td>\n",
       "      <td>0.5435</td>\n",
       "      <td>1.5870</td>\n",
       "      <td>1.9867</td>\n",
       "      <td>-0.4563</td>\n",
       "      <td>-1.1596</td>\n",
       "      <td>-1.1128</td>\n",
       "      <td>-0.5962</td>\n",
       "      <td>-1.1787</td>\n",
       "      <td>-1.4663</td>\n",
       "      <td>0.6966</td>\n",
       "      <td>-0.6530</td>\n",
       "      <td>-0.5408</td>\n",
       "    </tr>\n",
       "    <tr>\n",
       "      <th>AnnRet_Long</th>\n",
       "      <td>-0.0354</td>\n",
       "      <td>-0.0281</td>\n",
       "      <td>-0.0239</td>\n",
       "      <td>0.0108</td>\n",
       "      <td>0.0222</td>\n",
       "      <td>0.0352</td>\n",
       "      <td>-0.0117</td>\n",
       "      <td>-0.0165</td>\n",
       "      <td>0.0042</td>\n",
       "      <td>-0.0116</td>\n",
       "      <td>-0.0072</td>\n",
       "      <td>-0.0234</td>\n",
       "      <td>0.0165</td>\n",
       "      <td>-0.0012</td>\n",
       "      <td>-0.0419</td>\n",
       "    </tr>\n",
       "    <tr>\n",
       "      <th>AnnRet_short</th>\n",
       "      <td>0.0140</td>\n",
       "      <td>0.0297</td>\n",
       "      <td>0.0276</td>\n",
       "      <td>0.0062</td>\n",
       "      <td>-0.0548</td>\n",
       "      <td>-0.0475</td>\n",
       "      <td>0.0095</td>\n",
       "      <td>0.0098</td>\n",
       "      <td>-0.0000</td>\n",
       "      <td>-0.0112</td>\n",
       "      <td>-0.0015</td>\n",
       "      <td>0.0370</td>\n",
       "      <td>-0.0331</td>\n",
       "      <td>-0.0170</td>\n",
       "      <td>-0.0034</td>\n",
       "    </tr>\n",
       "    <tr>\n",
       "      <th>AnnRet</th>\n",
       "      <td>-0.0494</td>\n",
       "      <td>-0.0578</td>\n",
       "      <td>-0.0515</td>\n",
       "      <td>0.0046</td>\n",
       "      <td>0.0770</td>\n",
       "      <td>0.0827</td>\n",
       "      <td>-0.0212</td>\n",
       "      <td>-0.0264</td>\n",
       "      <td>0.0042</td>\n",
       "      <td>-0.0005</td>\n",
       "      <td>-0.0057</td>\n",
       "      <td>-0.0604</td>\n",
       "      <td>0.0496</td>\n",
       "      <td>0.0158</td>\n",
       "      <td>-0.0385</td>\n",
       "    </tr>\n",
       "    <tr>\n",
       "      <th>SR_Long</th>\n",
       "      <td>-0.3966</td>\n",
       "      <td>-0.3548</td>\n",
       "      <td>-0.2766</td>\n",
       "      <td>0.0888</td>\n",
       "      <td>0.2011</td>\n",
       "      <td>0.3106</td>\n",
       "      <td>-0.0903</td>\n",
       "      <td>-0.1271</td>\n",
       "      <td>0.0358</td>\n",
       "      <td>-0.0932</td>\n",
       "      <td>-0.0646</td>\n",
       "      <td>-0.1876</td>\n",
       "      <td>0.1997</td>\n",
       "      <td>-0.0097</td>\n",
       "      <td>-0.3103</td>\n",
       "    </tr>\n",
       "    <tr>\n",
       "      <th>SR_Short</th>\n",
       "      <td>0.1876</td>\n",
       "      <td>0.3992</td>\n",
       "      <td>0.2301</td>\n",
       "      <td>0.0696</td>\n",
       "      <td>-0.6166</td>\n",
       "      <td>-0.5682</td>\n",
       "      <td>0.1069</td>\n",
       "      <td>0.1088</td>\n",
       "      <td>-0.0002</td>\n",
       "      <td>-0.1269</td>\n",
       "      <td>-0.0116</td>\n",
       "      <td>0.6017</td>\n",
       "      <td>-0.4091</td>\n",
       "      <td>-0.1595</td>\n",
       "      <td>-0.0519</td>\n",
       "    </tr>\n",
       "    <tr>\n",
       "      <th>SR</th>\n",
       "      <td>-0.3625</td>\n",
       "      <td>-0.4659</td>\n",
       "      <td>-0.2768</td>\n",
       "      <td>0.0246</td>\n",
       "      <td>0.4421</td>\n",
       "      <td>0.4642</td>\n",
       "      <td>-0.1107</td>\n",
       "      <td>-0.1356</td>\n",
       "      <td>0.0251</td>\n",
       "      <td>-0.0024</td>\n",
       "      <td>-0.0261</td>\n",
       "      <td>-0.3692</td>\n",
       "      <td>0.3690</td>\n",
       "      <td>0.0774</td>\n",
       "      <td>-0.2733</td>\n",
       "    </tr>\n",
       "    <tr>\n",
       "      <th>TO_Long</th>\n",
       "      <td>0.8194</td>\n",
       "      <td>0.8223</td>\n",
       "      <td>0.2948</td>\n",
       "      <td>0.4888</td>\n",
       "      <td>0.3697</td>\n",
       "      <td>0.3261</td>\n",
       "      <td>0.8347</td>\n",
       "      <td>0.6074</td>\n",
       "      <td>0.4963</td>\n",
       "      <td>0.3692</td>\n",
       "      <td>0.2437</td>\n",
       "      <td>0.1335</td>\n",
       "      <td>0.9320</td>\n",
       "      <td>0.5950</td>\n",
       "      <td>0.0685</td>\n",
       "    </tr>\n",
       "    <tr>\n",
       "      <th>TO_Short</th>\n",
       "      <td>0.8284</td>\n",
       "      <td>0.8300</td>\n",
       "      <td>0.3643</td>\n",
       "      <td>0.5524</td>\n",
       "      <td>0.4095</td>\n",
       "      <td>0.3457</td>\n",
       "      <td>0.8715</td>\n",
       "      <td>0.6733</td>\n",
       "      <td>0.5478</td>\n",
       "      <td>0.4048</td>\n",
       "      <td>0.1489</td>\n",
       "      <td>0.2280</td>\n",
       "      <td>0.9345</td>\n",
       "      <td>0.4433</td>\n",
       "      <td>0.1125</td>\n",
       "    </tr>\n",
       "  </tbody>\n",
       "</table>\n",
       "</div>"
      ],
      "text/plain": [
       "                skew  adjskew  distance  mom6x3  mom9x3  mom12x3   mom1M  \\\n",
       "ic.mean      -0.0151  -0.0139   -0.0236  0.0105  0.0308   0.0384 -0.0087   \n",
       "ic.t-stats   -1.1654  -1.0935   -1.2582  0.5435  1.5870   1.9867 -0.4563   \n",
       "AnnRet_Long  -0.0354  -0.0281   -0.0239  0.0108  0.0222   0.0352 -0.0117   \n",
       "AnnRet_short  0.0140   0.0297    0.0276  0.0062 -0.0548  -0.0475  0.0095   \n",
       "AnnRet       -0.0494  -0.0578   -0.0515  0.0046  0.0770   0.0827 -0.0212   \n",
       "SR_Long      -0.3966  -0.3548   -0.2766  0.0888  0.2011   0.3106 -0.0903   \n",
       "SR_Short      0.1876   0.3992    0.2301  0.0696 -0.6166  -0.5682  0.1069   \n",
       "SR           -0.3625  -0.4659   -0.2768  0.0246  0.4421   0.4642 -0.1107   \n",
       "TO_Long       0.8194   0.8223    0.2948  0.4888  0.3697   0.3261  0.8347   \n",
       "TO_Short      0.8284   0.8300    0.3643  0.5524  0.4095   0.3457  0.8715   \n",
       "\n",
       "               mom2M   mom3M   mom6M  turnover3M  amount3M  stddev_diff  \\\n",
       "ic.mean      -0.0239 -0.0207 -0.0118     -0.0266   -0.0266       0.0093   \n",
       "ic.t-stats   -1.1596 -1.1128 -0.5962     -1.1787   -1.4663       0.6966   \n",
       "AnnRet_Long  -0.0165  0.0042 -0.0116     -0.0072   -0.0234       0.0165   \n",
       "AnnRet_short  0.0098 -0.0000 -0.0112     -0.0015    0.0370      -0.0331   \n",
       "AnnRet       -0.0264  0.0042 -0.0005     -0.0057   -0.0604       0.0496   \n",
       "SR_Long      -0.1271  0.0358 -0.0932     -0.0646   -0.1876       0.1997   \n",
       "SR_Short      0.1088 -0.0002 -0.1269     -0.0116    0.6017      -0.4091   \n",
       "SR           -0.1356  0.0251 -0.0024     -0.0261   -0.3692       0.3690   \n",
       "TO_Long       0.6074  0.4963  0.3692      0.2437    0.1335       0.9320   \n",
       "TO_Short      0.6733  0.5478  0.4048      0.1489    0.2280       0.9345   \n",
       "\n",
       "              stddev      ep  \n",
       "ic.mean      -0.0142 -0.0094  \n",
       "ic.t-stats   -0.6530 -0.5408  \n",
       "AnnRet_Long  -0.0012 -0.0419  \n",
       "AnnRet_short -0.0170 -0.0034  \n",
       "AnnRet        0.0158 -0.0385  \n",
       "SR_Long      -0.0097 -0.3103  \n",
       "SR_Short     -0.1595 -0.0519  \n",
       "SR            0.0774 -0.2733  \n",
       "TO_Long       0.5950  0.0685  \n",
       "TO_Short      0.4433  0.1125  "
      ]
     },
     "execution_count": 4,
     "metadata": {},
     "output_type": "execute_result"
    }
   ],
   "source": [
    "fe_eq = FactorEvaluation(bar_data=price_ind_eq,factor_data=ind_agg_data_eq,industry_neutralize=False,winzorize=False,standardize=False,freq=12)\n",
    "fe_eq.get_summary(holding_period=1,groups=10,add_shift=0,start_date='2010-01-01',end_date='2022-12-31',base='close')"
   ]
  },
  {
   "cell_type": "markdown",
   "metadata": {},
   "source": [
    "# industry aggregation summary(cap)"
   ]
  },
  {
   "cell_type": "code",
   "execution_count": 5,
   "metadata": {},
   "outputs": [
    {
     "name": "stdout",
     "output_type": "stream",
     "text": [
      "start_date:2010-01-01 / end_date:2022-12-31\n"
     ]
    },
    {
     "data": {
      "text/html": [
       "<div>\n",
       "<style scoped>\n",
       "    .dataframe tbody tr th:only-of-type {\n",
       "        vertical-align: middle;\n",
       "    }\n",
       "\n",
       "    .dataframe tbody tr th {\n",
       "        vertical-align: top;\n",
       "    }\n",
       "\n",
       "    .dataframe thead th {\n",
       "        text-align: right;\n",
       "    }\n",
       "</style>\n",
       "<table border=\"1\" class=\"dataframe\">\n",
       "  <thead>\n",
       "    <tr style=\"text-align: right;\">\n",
       "      <th></th>\n",
       "      <th>skew</th>\n",
       "      <th>adjskew</th>\n",
       "      <th>distance</th>\n",
       "      <th>mom6x3</th>\n",
       "      <th>mom9x3</th>\n",
       "      <th>mom12x3</th>\n",
       "      <th>mom1M</th>\n",
       "      <th>mom2M</th>\n",
       "      <th>mom3M</th>\n",
       "      <th>mom6M</th>\n",
       "      <th>turnover3M</th>\n",
       "      <th>amount3M</th>\n",
       "      <th>stddev_diff</th>\n",
       "      <th>stddev</th>\n",
       "      <th>ep</th>\n",
       "    </tr>\n",
       "  </thead>\n",
       "  <tbody>\n",
       "    <tr>\n",
       "      <th>ic.mean</th>\n",
       "      <td>-0.0017</td>\n",
       "      <td>0.0002</td>\n",
       "      <td>-0.0219</td>\n",
       "      <td>0.0164</td>\n",
       "      <td>0.0352</td>\n",
       "      <td>0.0499</td>\n",
       "      <td>-0.0008</td>\n",
       "      <td>-0.0204</td>\n",
       "      <td>-0.0099</td>\n",
       "      <td>0.0016</td>\n",
       "      <td>-0.0050</td>\n",
       "      <td>-0.0372</td>\n",
       "      <td>0.0058</td>\n",
       "      <td>0.0131</td>\n",
       "      <td>-0.0178</td>\n",
       "    </tr>\n",
       "    <tr>\n",
       "      <th>ic.t-stats</th>\n",
       "      <td>-0.1362</td>\n",
       "      <td>0.0163</td>\n",
       "      <td>-1.1391</td>\n",
       "      <td>0.8878</td>\n",
       "      <td>1.8743</td>\n",
       "      <td>2.6348</td>\n",
       "      <td>-0.0428</td>\n",
       "      <td>-1.0275</td>\n",
       "      <td>-0.5334</td>\n",
       "      <td>0.0832</td>\n",
       "      <td>-0.2236</td>\n",
       "      <td>-2.0995</td>\n",
       "      <td>0.4528</td>\n",
       "      <td>0.5993</td>\n",
       "      <td>-1.0202</td>\n",
       "    </tr>\n",
       "    <tr>\n",
       "      <th>AnnRet_Long</th>\n",
       "      <td>-0.0199</td>\n",
       "      <td>-0.0054</td>\n",
       "      <td>-0.0577</td>\n",
       "      <td>0.0250</td>\n",
       "      <td>0.0116</td>\n",
       "      <td>0.0558</td>\n",
       "      <td>-0.0085</td>\n",
       "      <td>-0.0303</td>\n",
       "      <td>0.0030</td>\n",
       "      <td>-0.0306</td>\n",
       "      <td>0.0239</td>\n",
       "      <td>-0.0674</td>\n",
       "      <td>0.0042</td>\n",
       "      <td>0.0078</td>\n",
       "      <td>-0.0676</td>\n",
       "    </tr>\n",
       "    <tr>\n",
       "      <th>AnnRet_short</th>\n",
       "      <td>-0.0124</td>\n",
       "      <td>-0.0073</td>\n",
       "      <td>-0.0024</td>\n",
       "      <td>-0.0490</td>\n",
       "      <td>-0.0958</td>\n",
       "      <td>-0.0793</td>\n",
       "      <td>-0.0290</td>\n",
       "      <td>-0.0068</td>\n",
       "      <td>-0.0074</td>\n",
       "      <td>-0.0210</td>\n",
       "      <td>-0.0630</td>\n",
       "      <td>0.0276</td>\n",
       "      <td>-0.0308</td>\n",
       "      <td>-0.0675</td>\n",
       "      <td>-0.0293</td>\n",
       "    </tr>\n",
       "    <tr>\n",
       "      <th>AnnRet</th>\n",
       "      <td>-0.0075</td>\n",
       "      <td>0.0019</td>\n",
       "      <td>-0.0553</td>\n",
       "      <td>0.0740</td>\n",
       "      <td>0.1073</td>\n",
       "      <td>0.1352</td>\n",
       "      <td>0.0205</td>\n",
       "      <td>-0.0235</td>\n",
       "      <td>0.0104</td>\n",
       "      <td>-0.0096</td>\n",
       "      <td>0.0870</td>\n",
       "      <td>-0.0950</td>\n",
       "      <td>0.0350</td>\n",
       "      <td>0.0753</td>\n",
       "      <td>-0.0384</td>\n",
       "    </tr>\n",
       "    <tr>\n",
       "      <th>SR_Long</th>\n",
       "      <td>-0.1948</td>\n",
       "      <td>-0.0501</td>\n",
       "      <td>-0.5431</td>\n",
       "      <td>0.1752</td>\n",
       "      <td>0.0842</td>\n",
       "      <td>0.4167</td>\n",
       "      <td>-0.0603</td>\n",
       "      <td>-0.1939</td>\n",
       "      <td>0.0213</td>\n",
       "      <td>-0.2067</td>\n",
       "      <td>0.1729</td>\n",
       "      <td>-0.4636</td>\n",
       "      <td>0.0431</td>\n",
       "      <td>0.0502</td>\n",
       "      <td>-0.3976</td>\n",
       "    </tr>\n",
       "    <tr>\n",
       "      <th>SR_Short</th>\n",
       "      <td>-0.1480</td>\n",
       "      <td>-0.0981</td>\n",
       "      <td>-0.0170</td>\n",
       "      <td>-0.5510</td>\n",
       "      <td>-0.9542</td>\n",
       "      <td>-0.8141</td>\n",
       "      <td>-0.2956</td>\n",
       "      <td>-0.0599</td>\n",
       "      <td>-0.0779</td>\n",
       "      <td>-0.2171</td>\n",
       "      <td>-0.3875</td>\n",
       "      <td>0.3202</td>\n",
       "      <td>-0.3382</td>\n",
       "      <td>-0.5166</td>\n",
       "      <td>-0.3508</td>\n",
       "    </tr>\n",
       "    <tr>\n",
       "      <th>SR</th>\n",
       "      <td>-0.0482</td>\n",
       "      <td>0.0129</td>\n",
       "      <td>-0.2468</td>\n",
       "      <td>0.3611</td>\n",
       "      <td>0.5201</td>\n",
       "      <td>0.6562</td>\n",
       "      <td>0.0983</td>\n",
       "      <td>-0.1012</td>\n",
       "      <td>0.0507</td>\n",
       "      <td>-0.0430</td>\n",
       "      <td>0.3133</td>\n",
       "      <td>-0.4669</td>\n",
       "      <td>0.2407</td>\n",
       "      <td>0.3010</td>\n",
       "      <td>-0.2039</td>\n",
       "    </tr>\n",
       "    <tr>\n",
       "      <th>TO_Long</th>\n",
       "      <td>0.8432</td>\n",
       "      <td>0.8392</td>\n",
       "      <td>0.2903</td>\n",
       "      <td>0.5032</td>\n",
       "      <td>0.3831</td>\n",
       "      <td>0.3345</td>\n",
       "      <td>0.8486</td>\n",
       "      <td>0.6263</td>\n",
       "      <td>0.5161</td>\n",
       "      <td>0.3901</td>\n",
       "      <td>0.2079</td>\n",
       "      <td>0.1320</td>\n",
       "      <td>0.9355</td>\n",
       "      <td>0.6015</td>\n",
       "      <td>0.0625</td>\n",
       "    </tr>\n",
       "    <tr>\n",
       "      <th>TO_Short</th>\n",
       "      <td>0.8392</td>\n",
       "      <td>0.8276</td>\n",
       "      <td>0.3442</td>\n",
       "      <td>0.5525</td>\n",
       "      <td>0.3982</td>\n",
       "      <td>0.3272</td>\n",
       "      <td>0.8664</td>\n",
       "      <td>0.6590</td>\n",
       "      <td>0.5562</td>\n",
       "      <td>0.4060</td>\n",
       "      <td>0.0885</td>\n",
       "      <td>0.2023</td>\n",
       "      <td>0.9304</td>\n",
       "      <td>0.3816</td>\n",
       "      <td>0.0917</td>\n",
       "    </tr>\n",
       "  </tbody>\n",
       "</table>\n",
       "</div>"
      ],
      "text/plain": [
       "                skew  adjskew  distance  mom6x3  mom9x3  mom12x3   mom1M  \\\n",
       "ic.mean      -0.0017   0.0002   -0.0219  0.0164  0.0352   0.0499 -0.0008   \n",
       "ic.t-stats   -0.1362   0.0163   -1.1391  0.8878  1.8743   2.6348 -0.0428   \n",
       "AnnRet_Long  -0.0199  -0.0054   -0.0577  0.0250  0.0116   0.0558 -0.0085   \n",
       "AnnRet_short -0.0124  -0.0073   -0.0024 -0.0490 -0.0958  -0.0793 -0.0290   \n",
       "AnnRet       -0.0075   0.0019   -0.0553  0.0740  0.1073   0.1352  0.0205   \n",
       "SR_Long      -0.1948  -0.0501   -0.5431  0.1752  0.0842   0.4167 -0.0603   \n",
       "SR_Short     -0.1480  -0.0981   -0.0170 -0.5510 -0.9542  -0.8141 -0.2956   \n",
       "SR           -0.0482   0.0129   -0.2468  0.3611  0.5201   0.6562  0.0983   \n",
       "TO_Long       0.8432   0.8392    0.2903  0.5032  0.3831   0.3345  0.8486   \n",
       "TO_Short      0.8392   0.8276    0.3442  0.5525  0.3982   0.3272  0.8664   \n",
       "\n",
       "               mom2M   mom3M   mom6M  turnover3M  amount3M  stddev_diff  \\\n",
       "ic.mean      -0.0204 -0.0099  0.0016     -0.0050   -0.0372       0.0058   \n",
       "ic.t-stats   -1.0275 -0.5334  0.0832     -0.2236   -2.0995       0.4528   \n",
       "AnnRet_Long  -0.0303  0.0030 -0.0306      0.0239   -0.0674       0.0042   \n",
       "AnnRet_short -0.0068 -0.0074 -0.0210     -0.0630    0.0276      -0.0308   \n",
       "AnnRet       -0.0235  0.0104 -0.0096      0.0870   -0.0950       0.0350   \n",
       "SR_Long      -0.1939  0.0213 -0.2067      0.1729   -0.4636       0.0431   \n",
       "SR_Short     -0.0599 -0.0779 -0.2171     -0.3875    0.3202      -0.3382   \n",
       "SR           -0.1012  0.0507 -0.0430      0.3133   -0.4669       0.2407   \n",
       "TO_Long       0.6263  0.5161  0.3901      0.2079    0.1320       0.9355   \n",
       "TO_Short      0.6590  0.5562  0.4060      0.0885    0.2023       0.9304   \n",
       "\n",
       "              stddev      ep  \n",
       "ic.mean       0.0131 -0.0178  \n",
       "ic.t-stats    0.5993 -1.0202  \n",
       "AnnRet_Long   0.0078 -0.0676  \n",
       "AnnRet_short -0.0675 -0.0293  \n",
       "AnnRet        0.0753 -0.0384  \n",
       "SR_Long       0.0502 -0.3976  \n",
       "SR_Short     -0.5166 -0.3508  \n",
       "SR            0.3010 -0.2039  \n",
       "TO_Long       0.6015  0.0625  \n",
       "TO_Short      0.3816  0.0917  "
      ]
     },
     "execution_count": 5,
     "metadata": {},
     "output_type": "execute_result"
    }
   ],
   "source": [
    "fe_cap = FactorEvaluation(bar_data=price_ind_cap,factor_data=ind_agg_data_cap,industry_neutralize=False,winzorize=False,standardize=False,freq=12)\n",
    "fe_cap.get_summary(holding_period=1,groups=10,add_shift=0,start_date='2010-01-01',end_date='2022-12-31',base='close')"
   ]
  },
  {
   "cell_type": "code",
   "execution_count": 9,
   "metadata": {},
   "outputs": [],
   "source": [
    "l1 = get_industry_cons(name = 'sw_l1')\n",
    "l2 = get_industry_cons(name = 'sw_l2')\n",
    "l3 = get_industry_cons(name = 'sw_l3')"
   ]
  },
  {
   "cell_type": "code",
   "execution_count": 19,
   "metadata": {},
   "outputs": [
    {
     "ename": "AttributeError",
     "evalue": "'datetime.date' object has no attribute 'date'",
     "output_type": "error",
     "traceback": [
      "\u001b[1;31m---------------------------------------------------------------------------\u001b[0m",
      "\u001b[1;31mAttributeError\u001b[0m                            Traceback (most recent call last)",
      "Cell \u001b[1;32mIn[19], line 12\u001b[0m\n\u001b[0;32m     10\u001b[0m ind_l3[\u001b[39m'\u001b[39m\u001b[39mcompany numbers\u001b[39m\u001b[39m'\u001b[39m] \u001b[39m=\u001b[39m l3\u001b[39m.\u001b[39mgroupby(l3)\u001b[39m.\u001b[39mcount()\n\u001b[0;32m     11\u001b[0m ind_l1[\u001b[39m'\u001b[39m\u001b[39mstart_date\u001b[39m\u001b[39m'\u001b[39m] \u001b[39m=\u001b[39m ind_l1[\u001b[39m'\u001b[39m\u001b[39mstart_date\u001b[39m\u001b[39m'\u001b[39m]\u001b[39m.\u001b[39mapply(\u001b[39mlambda\u001b[39;00m x:x\u001b[39m.\u001b[39mdate())\n\u001b[1;32m---> 12\u001b[0m ind_l1[\u001b[39m'\u001b[39m\u001b[39mstart_date\u001b[39m\u001b[39m'\u001b[39m] \u001b[39m=\u001b[39m ind_l1[\u001b[39m'\u001b[39;49m\u001b[39mstart_date\u001b[39;49m\u001b[39m'\u001b[39;49m]\u001b[39m.\u001b[39;49mapply(\u001b[39mlambda\u001b[39;49;00m x:x\u001b[39m.\u001b[39;49mdate())\n",
      "File \u001b[1;32md:\\Users\\Administrator\\anaconda3\\envs\\trading\\lib\\site-packages\\pandas\\core\\series.py:4771\u001b[0m, in \u001b[0;36mSeries.apply\u001b[1;34m(self, func, convert_dtype, args, **kwargs)\u001b[0m\n\u001b[0;32m   4661\u001b[0m \u001b[39mdef\u001b[39;00m \u001b[39mapply\u001b[39m(\n\u001b[0;32m   4662\u001b[0m     \u001b[39mself\u001b[39m,\n\u001b[0;32m   4663\u001b[0m     func: AggFuncType,\n\u001b[1;32m   (...)\u001b[0m\n\u001b[0;32m   4666\u001b[0m     \u001b[39m*\u001b[39m\u001b[39m*\u001b[39mkwargs,\n\u001b[0;32m   4667\u001b[0m ) \u001b[39m-\u001b[39m\u001b[39m>\u001b[39m DataFrame \u001b[39m|\u001b[39m Series:\n\u001b[0;32m   4668\u001b[0m \u001b[39m    \u001b[39m\u001b[39m\"\"\"\u001b[39;00m\n\u001b[0;32m   4669\u001b[0m \u001b[39m    Invoke function on values of Series.\u001b[39;00m\n\u001b[0;32m   4670\u001b[0m \n\u001b[1;32m   (...)\u001b[0m\n\u001b[0;32m   4769\u001b[0m \u001b[39m    dtype: float64\u001b[39;00m\n\u001b[0;32m   4770\u001b[0m \u001b[39m    \"\"\"\u001b[39;00m\n\u001b[1;32m-> 4771\u001b[0m     \u001b[39mreturn\u001b[39;00m SeriesApply(\u001b[39mself\u001b[39;49m, func, convert_dtype, args, kwargs)\u001b[39m.\u001b[39;49mapply()\n",
      "File \u001b[1;32md:\\Users\\Administrator\\anaconda3\\envs\\trading\\lib\\site-packages\\pandas\\core\\apply.py:1123\u001b[0m, in \u001b[0;36mSeriesApply.apply\u001b[1;34m(self)\u001b[0m\n\u001b[0;32m   1120\u001b[0m     \u001b[39mreturn\u001b[39;00m \u001b[39mself\u001b[39m\u001b[39m.\u001b[39mapply_str()\n\u001b[0;32m   1122\u001b[0m \u001b[39m# self.f is Callable\u001b[39;00m\n\u001b[1;32m-> 1123\u001b[0m \u001b[39mreturn\u001b[39;00m \u001b[39mself\u001b[39;49m\u001b[39m.\u001b[39;49mapply_standard()\n",
      "File \u001b[1;32md:\\Users\\Administrator\\anaconda3\\envs\\trading\\lib\\site-packages\\pandas\\core\\apply.py:1174\u001b[0m, in \u001b[0;36mSeriesApply.apply_standard\u001b[1;34m(self)\u001b[0m\n\u001b[0;32m   1172\u001b[0m     \u001b[39melse\u001b[39;00m:\n\u001b[0;32m   1173\u001b[0m         values \u001b[39m=\u001b[39m obj\u001b[39m.\u001b[39mastype(\u001b[39mobject\u001b[39m)\u001b[39m.\u001b[39m_values\n\u001b[1;32m-> 1174\u001b[0m         mapped \u001b[39m=\u001b[39m lib\u001b[39m.\u001b[39;49mmap_infer(\n\u001b[0;32m   1175\u001b[0m             values,\n\u001b[0;32m   1176\u001b[0m             f,\n\u001b[0;32m   1177\u001b[0m             convert\u001b[39m=\u001b[39;49m\u001b[39mself\u001b[39;49m\u001b[39m.\u001b[39;49mconvert_dtype,\n\u001b[0;32m   1178\u001b[0m         )\n\u001b[0;32m   1180\u001b[0m \u001b[39mif\u001b[39;00m \u001b[39mlen\u001b[39m(mapped) \u001b[39mand\u001b[39;00m \u001b[39misinstance\u001b[39m(mapped[\u001b[39m0\u001b[39m], ABCSeries):\n\u001b[0;32m   1181\u001b[0m     \u001b[39m# GH#43986 Need to do list(mapped) in order to get treated as nested\u001b[39;00m\n\u001b[0;32m   1182\u001b[0m     \u001b[39m#  See also GH#25959 regarding EA support\u001b[39;00m\n\u001b[0;32m   1183\u001b[0m     \u001b[39mreturn\u001b[39;00m obj\u001b[39m.\u001b[39m_constructor_expanddim(\u001b[39mlist\u001b[39m(mapped), index\u001b[39m=\u001b[39mobj\u001b[39m.\u001b[39mindex)\n",
      "File \u001b[1;32md:\\Users\\Administrator\\anaconda3\\envs\\trading\\lib\\site-packages\\pandas\\_libs\\lib.pyx:2924\u001b[0m, in \u001b[0;36mpandas._libs.lib.map_infer\u001b[1;34m()\u001b[0m\n",
      "Cell \u001b[1;32mIn[19], line 12\u001b[0m, in \u001b[0;36m<lambda>\u001b[1;34m(x)\u001b[0m\n\u001b[0;32m     10\u001b[0m ind_l3[\u001b[39m'\u001b[39m\u001b[39mcompany numbers\u001b[39m\u001b[39m'\u001b[39m] \u001b[39m=\u001b[39m l3\u001b[39m.\u001b[39mgroupby(l3)\u001b[39m.\u001b[39mcount()\n\u001b[0;32m     11\u001b[0m ind_l1[\u001b[39m'\u001b[39m\u001b[39mstart_date\u001b[39m\u001b[39m'\u001b[39m] \u001b[39m=\u001b[39m ind_l1[\u001b[39m'\u001b[39m\u001b[39mstart_date\u001b[39m\u001b[39m'\u001b[39m]\u001b[39m.\u001b[39mapply(\u001b[39mlambda\u001b[39;00m x:x\u001b[39m.\u001b[39mdate())\n\u001b[1;32m---> 12\u001b[0m ind_l1[\u001b[39m'\u001b[39m\u001b[39mstart_date\u001b[39m\u001b[39m'\u001b[39m] \u001b[39m=\u001b[39m ind_l1[\u001b[39m'\u001b[39m\u001b[39mstart_date\u001b[39m\u001b[39m'\u001b[39m]\u001b[39m.\u001b[39mapply(\u001b[39mlambda\u001b[39;00m x:x\u001b[39m.\u001b[39;49mdate())\n",
      "\u001b[1;31mAttributeError\u001b[0m: 'datetime.date' object has no attribute 'date'"
     ]
    }
   ],
   "source": [
    "import jqdatasdk as jq\n",
    "import os        \n",
    "jq.auth(os.environ.get('JQ_USER') ,\n",
    "            os.environ.get('JQ_PASSWD'))\n",
    "ind_l1 = jq.get_industries(name='sw_l1', date=None).set_index('name')\n",
    "ind_l2 = jq.get_industries(name='sw_l2', date=None).set_index('name')\n",
    "ind_l3 = jq.get_industries(name='sw_l3', date=None).set_index('name')\n",
    "ind_l1['company numbers'] = l1.groupby(l1).count()\n",
    "ind_l2['company numbers'] = l2.groupby(l2).count()\n",
    "ind_l3['company numbers'] = l3.groupby(l3).count()\n",
    "\n"
   ]
  },
  {
   "cell_type": "code",
   "execution_count": 18,
   "metadata": {},
   "outputs": [],
   "source": [
    "writer=pd.ExcelWriter('申万行业分类.xlsx')\n",
    "ind_l1.to_excel(excel_writer=writer,sheet_name='level_1')\n",
    "ind_l2.to_excel(excel_writer=writer,sheet_name='level_2')\n",
    "ind_l3.to_excel(excel_writer=writer,sheet_name='level_3')\n",
    "writer.save()"
   ]
  },
  {
   "cell_type": "code",
   "execution_count": 14,
   "metadata": {},
   "outputs": [
    {
     "data": {
      "text/plain": [
       "industry_name\n",
       "交通运输I    125\n",
       "休闲服务I     73\n",
       "传媒I      140\n",
       "公用事业I    123\n",
       "农林牧渔I    102\n",
       "化工I      375\n",
       "医药生物I    465\n",
       "商业贸易I    104\n",
       "国防军工I    125\n",
       "家用电器I     83\n",
       "建筑材料I     75\n",
       "建筑装饰I    160\n",
       "房地产I     115\n",
       "有色金属I    135\n",
       "机械设备I    483\n",
       "汽车I      252\n",
       "煤炭I       38\n",
       "环保I      127\n",
       "电子I      420\n",
       "电气设备I    317\n",
       "石油石化I     47\n",
       "纺织服装I    114\n",
       "综合I       24\n",
       "美容护理I     29\n",
       "计算机I     329\n",
       "轻工制造I    149\n",
       "通信I      121\n",
       "钢铁I       46\n",
       "银行I       42\n",
       "非银金融I     89\n",
       "食品饮料I    119\n",
       "Name: industry_name, dtype: int64"
      ]
     },
     "execution_count": 14,
     "metadata": {},
     "output_type": "execute_result"
    }
   ],
   "source": [
    "l1.groupby(l1).count()"
   ]
  },
  {
   "cell_type": "code",
   "execution_count": 15,
   "metadata": {},
   "outputs": [
    {
     "data": {
      "text/html": [
       "<div>\n",
       "<style scoped>\n",
       "    .dataframe tbody tr th:only-of-type {\n",
       "        vertical-align: middle;\n",
       "    }\n",
       "\n",
       "    .dataframe tbody tr th {\n",
       "        vertical-align: top;\n",
       "    }\n",
       "\n",
       "    .dataframe thead th {\n",
       "        text-align: right;\n",
       "    }\n",
       "</style>\n",
       "<table border=\"1\" class=\"dataframe\">\n",
       "  <thead>\n",
       "    <tr style=\"text-align: right;\">\n",
       "      <th></th>\n",
       "      <th>name</th>\n",
       "      <th>start_date</th>\n",
       "    </tr>\n",
       "  </thead>\n",
       "  <tbody>\n",
       "    <tr>\n",
       "      <th>801740</th>\n",
       "      <td>国防军工I</td>\n",
       "      <td>2014-02-21</td>\n",
       "    </tr>\n",
       "    <tr>\n",
       "      <th>801020</th>\n",
       "      <td>采掘I</td>\n",
       "      <td>2004-02-10</td>\n",
       "    </tr>\n",
       "    <tr>\n",
       "      <th>801110</th>\n",
       "      <td>家用电器I</td>\n",
       "      <td>2004-02-10</td>\n",
       "    </tr>\n",
       "    <tr>\n",
       "      <th>801160</th>\n",
       "      <td>公用事业I</td>\n",
       "      <td>2004-02-10</td>\n",
       "    </tr>\n",
       "    <tr>\n",
       "      <th>801060</th>\n",
       "      <td>建筑建材I</td>\n",
       "      <td>2004-02-10</td>\n",
       "    </tr>\n",
       "    <tr>\n",
       "      <th>801770</th>\n",
       "      <td>通信I</td>\n",
       "      <td>2014-02-21</td>\n",
       "    </tr>\n",
       "    <tr>\n",
       "      <th>801010</th>\n",
       "      <td>农林牧渔I</td>\n",
       "      <td>2004-02-09</td>\n",
       "    </tr>\n",
       "    <tr>\n",
       "      <th>801120</th>\n",
       "      <td>食品饮料I</td>\n",
       "      <td>2004-02-10</td>\n",
       "    </tr>\n",
       "    <tr>\n",
       "      <th>801750</th>\n",
       "      <td>计算机I</td>\n",
       "      <td>2014-02-21</td>\n",
       "    </tr>\n",
       "    <tr>\n",
       "      <th>801050</th>\n",
       "      <td>有色金属I</td>\n",
       "      <td>2004-02-10</td>\n",
       "    </tr>\n",
       "    <tr>\n",
       "      <th>801890</th>\n",
       "      <td>机械设备I</td>\n",
       "      <td>2014-02-21</td>\n",
       "    </tr>\n",
       "    <tr>\n",
       "      <th>801950</th>\n",
       "      <td>煤炭I</td>\n",
       "      <td>2021-12-11</td>\n",
       "    </tr>\n",
       "    <tr>\n",
       "      <th>801980</th>\n",
       "      <td>美容护理I</td>\n",
       "      <td>2021-12-11</td>\n",
       "    </tr>\n",
       "    <tr>\n",
       "      <th>801970</th>\n",
       "      <td>环保I</td>\n",
       "      <td>2021-12-11</td>\n",
       "    </tr>\n",
       "    <tr>\n",
       "      <th>801170</th>\n",
       "      <td>交通运输I</td>\n",
       "      <td>2004-02-10</td>\n",
       "    </tr>\n",
       "    <tr>\n",
       "      <th>801090</th>\n",
       "      <td>交运设备I</td>\n",
       "      <td>2004-02-10</td>\n",
       "    </tr>\n",
       "    <tr>\n",
       "      <th>801710</th>\n",
       "      <td>建筑材料I</td>\n",
       "      <td>2014-02-21</td>\n",
       "    </tr>\n",
       "    <tr>\n",
       "      <th>801780</th>\n",
       "      <td>银行I</td>\n",
       "      <td>2014-02-21</td>\n",
       "    </tr>\n",
       "    <tr>\n",
       "      <th>801960</th>\n",
       "      <td>石油石化I</td>\n",
       "      <td>2021-12-11</td>\n",
       "    </tr>\n",
       "    <tr>\n",
       "      <th>801130</th>\n",
       "      <td>纺织服装I</td>\n",
       "      <td>2004-02-10</td>\n",
       "    </tr>\n",
       "    <tr>\n",
       "      <th>801180</th>\n",
       "      <td>房地产I</td>\n",
       "      <td>2004-02-10</td>\n",
       "    </tr>\n",
       "    <tr>\n",
       "      <th>801220</th>\n",
       "      <td>信息服务I</td>\n",
       "      <td>2004-02-10</td>\n",
       "    </tr>\n",
       "    <tr>\n",
       "      <th>801760</th>\n",
       "      <td>传媒I</td>\n",
       "      <td>2014-02-21</td>\n",
       "    </tr>\n",
       "    <tr>\n",
       "      <th>801200</th>\n",
       "      <td>商业贸易I</td>\n",
       "      <td>2004-02-10</td>\n",
       "    </tr>\n",
       "    <tr>\n",
       "      <th>801230</th>\n",
       "      <td>综合I</td>\n",
       "      <td>2004-02-10</td>\n",
       "    </tr>\n",
       "    <tr>\n",
       "      <th>801880</th>\n",
       "      <td>汽车I</td>\n",
       "      <td>2014-02-21</td>\n",
       "    </tr>\n",
       "    <tr>\n",
       "      <th>801140</th>\n",
       "      <td>轻工制造I</td>\n",
       "      <td>2004-02-10</td>\n",
       "    </tr>\n",
       "    <tr>\n",
       "      <th>801720</th>\n",
       "      <td>建筑装饰I</td>\n",
       "      <td>2014-02-21</td>\n",
       "    </tr>\n",
       "    <tr>\n",
       "      <th>801080</th>\n",
       "      <td>电子I</td>\n",
       "      <td>2004-02-10</td>\n",
       "    </tr>\n",
       "    <tr>\n",
       "      <th>801790</th>\n",
       "      <td>非银金融I</td>\n",
       "      <td>2014-02-21</td>\n",
       "    </tr>\n",
       "    <tr>\n",
       "      <th>801030</th>\n",
       "      <td>化工I</td>\n",
       "      <td>2004-02-10</td>\n",
       "    </tr>\n",
       "    <tr>\n",
       "      <th>801100</th>\n",
       "      <td>信息设备I</td>\n",
       "      <td>2004-02-10</td>\n",
       "    </tr>\n",
       "    <tr>\n",
       "      <th>801190</th>\n",
       "      <td>金融服务I</td>\n",
       "      <td>2004-02-10</td>\n",
       "    </tr>\n",
       "    <tr>\n",
       "      <th>801210</th>\n",
       "      <td>休闲服务I</td>\n",
       "      <td>2004-02-10</td>\n",
       "    </tr>\n",
       "    <tr>\n",
       "      <th>801070</th>\n",
       "      <td>机械设备I</td>\n",
       "      <td>2004-02-10</td>\n",
       "    </tr>\n",
       "    <tr>\n",
       "      <th>801150</th>\n",
       "      <td>医药生物I</td>\n",
       "      <td>2004-02-10</td>\n",
       "    </tr>\n",
       "    <tr>\n",
       "      <th>801730</th>\n",
       "      <td>电气设备I</td>\n",
       "      <td>2014-02-21</td>\n",
       "    </tr>\n",
       "    <tr>\n",
       "      <th>801040</th>\n",
       "      <td>钢铁I</td>\n",
       "      <td>2004-02-10</td>\n",
       "    </tr>\n",
       "  </tbody>\n",
       "</table>\n",
       "</div>"
      ],
      "text/plain": [
       "         name start_date\n",
       "801740  国防军工I 2014-02-21\n",
       "801020    采掘I 2004-02-10\n",
       "801110  家用电器I 2004-02-10\n",
       "801160  公用事业I 2004-02-10\n",
       "801060  建筑建材I 2004-02-10\n",
       "801770    通信I 2014-02-21\n",
       "801010  农林牧渔I 2004-02-09\n",
       "801120  食品饮料I 2004-02-10\n",
       "801750   计算机I 2014-02-21\n",
       "801050  有色金属I 2004-02-10\n",
       "801890  机械设备I 2014-02-21\n",
       "801950    煤炭I 2021-12-11\n",
       "801980  美容护理I 2021-12-11\n",
       "801970    环保I 2021-12-11\n",
       "801170  交通运输I 2004-02-10\n",
       "801090  交运设备I 2004-02-10\n",
       "801710  建筑材料I 2014-02-21\n",
       "801780    银行I 2014-02-21\n",
       "801960  石油石化I 2021-12-11\n",
       "801130  纺织服装I 2004-02-10\n",
       "801180   房地产I 2004-02-10\n",
       "801220  信息服务I 2004-02-10\n",
       "801760    传媒I 2014-02-21\n",
       "801200  商业贸易I 2004-02-10\n",
       "801230    综合I 2004-02-10\n",
       "801880    汽车I 2014-02-21\n",
       "801140  轻工制造I 2004-02-10\n",
       "801720  建筑装饰I 2014-02-21\n",
       "801080    电子I 2004-02-10\n",
       "801790  非银金融I 2014-02-21\n",
       "801030    化工I 2004-02-10\n",
       "801100  信息设备I 2004-02-10\n",
       "801190  金融服务I 2004-02-10\n",
       "801210  休闲服务I 2004-02-10\n",
       "801070  机械设备I 2004-02-10\n",
       "801150  医药生物I 2004-02-10\n",
       "801730  电气设备I 2014-02-21\n",
       "801040    钢铁I 2004-02-10"
      ]
     },
     "execution_count": 15,
     "metadata": {},
     "output_type": "execute_result"
    }
   ],
   "source": [
    "ind_l1"
   ]
  },
  {
   "cell_type": "code",
   "execution_count": null,
   "metadata": {},
   "outputs": [],
   "source": []
  }
 ],
 "metadata": {
  "kernelspec": {
   "display_name": "trading",
   "language": "python",
   "name": "python3"
  },
  "language_info": {
   "codemirror_mode": {
    "name": "ipython",
    "version": 3
   },
   "file_extension": ".py",
   "mimetype": "text/x-python",
   "name": "python",
   "nbconvert_exporter": "python",
   "pygments_lexer": "ipython3",
   "version": "3.8.13"
  }
 },
 "nbformat": 4,
 "nbformat_minor": 2
}
